{
 "cells": [
  {
   "cell_type": "code",
   "execution_count": 0,
   "metadata": {
    "application/vnd.databricks.v1+cell": {
     "cellMetadata": {
      "byteLimit": 2048000,
      "rowLimit": 10000
     },
     "inputWidgets": {},
     "nuid": "bb375cac-f9c6-4c56-8a4d-3d006598e92c",
     "showTitle": false,
     "title": ""
    }
   },
   "outputs": [
    {
     "output_type": "display_data",
     "data": {
      "text/plain": [
       "\u001B[0;31m---------------------------------------------------------------------------\u001B[0m\n",
       "\u001B[0;31mJSONDecodeError\u001B[0m                           Traceback (most recent call last)\n",
       "File \u001B[0;32m/databricks/python/lib/python3.10/site-packages/requests/models.py:971\u001B[0m, in \u001B[0;36mResponse.json\u001B[0;34m(self, **kwargs)\u001B[0m\n",
       "\u001B[1;32m    970\u001B[0m \u001B[38;5;28;01mtry\u001B[39;00m:\n",
       "\u001B[0;32m--> 971\u001B[0m     \u001B[38;5;28;01mreturn\u001B[39;00m \u001B[43mcomplexjson\u001B[49m\u001B[38;5;241;43m.\u001B[39;49m\u001B[43mloads\u001B[49m\u001B[43m(\u001B[49m\u001B[38;5;28;43mself\u001B[39;49m\u001B[38;5;241;43m.\u001B[39;49m\u001B[43mtext\u001B[49m\u001B[43m,\u001B[49m\u001B[43m \u001B[49m\u001B[38;5;241;43m*\u001B[39;49m\u001B[38;5;241;43m*\u001B[39;49m\u001B[43mkwargs\u001B[49m\u001B[43m)\u001B[49m\n",
       "\u001B[1;32m    972\u001B[0m \u001B[38;5;28;01mexcept\u001B[39;00m JSONDecodeError \u001B[38;5;28;01mas\u001B[39;00m e:\n",
       "\u001B[1;32m    973\u001B[0m     \u001B[38;5;66;03m# Catch JSON-related errors and raise as requests.JSONDecodeError\u001B[39;00m\n",
       "\u001B[1;32m    974\u001B[0m     \u001B[38;5;66;03m# This aliases json.JSONDecodeError and simplejson.JSONDecodeError\u001B[39;00m\n",
       "\n",
       "File \u001B[0;32m/databricks/python/lib/python3.10/site-packages/simplejson/__init__.py:525\u001B[0m, in \u001B[0;36mloads\u001B[0;34m(s, encoding, cls, object_hook, parse_float, parse_int, parse_constant, object_pairs_hook, use_decimal, **kw)\u001B[0m\n",
       "\u001B[1;32m    521\u001B[0m \u001B[38;5;28;01mif\u001B[39;00m (\u001B[38;5;28mcls\u001B[39m \u001B[38;5;129;01mis\u001B[39;00m \u001B[38;5;28;01mNone\u001B[39;00m \u001B[38;5;129;01mand\u001B[39;00m encoding \u001B[38;5;129;01mis\u001B[39;00m \u001B[38;5;28;01mNone\u001B[39;00m \u001B[38;5;129;01mand\u001B[39;00m object_hook \u001B[38;5;129;01mis\u001B[39;00m \u001B[38;5;28;01mNone\u001B[39;00m \u001B[38;5;129;01mand\u001B[39;00m\n",
       "\u001B[1;32m    522\u001B[0m         parse_int \u001B[38;5;129;01mis\u001B[39;00m \u001B[38;5;28;01mNone\u001B[39;00m \u001B[38;5;129;01mand\u001B[39;00m parse_float \u001B[38;5;129;01mis\u001B[39;00m \u001B[38;5;28;01mNone\u001B[39;00m \u001B[38;5;129;01mand\u001B[39;00m\n",
       "\u001B[1;32m    523\u001B[0m         parse_constant \u001B[38;5;129;01mis\u001B[39;00m \u001B[38;5;28;01mNone\u001B[39;00m \u001B[38;5;129;01mand\u001B[39;00m object_pairs_hook \u001B[38;5;129;01mis\u001B[39;00m \u001B[38;5;28;01mNone\u001B[39;00m\n",
       "\u001B[1;32m    524\u001B[0m         \u001B[38;5;129;01mand\u001B[39;00m \u001B[38;5;129;01mnot\u001B[39;00m use_decimal \u001B[38;5;129;01mand\u001B[39;00m \u001B[38;5;129;01mnot\u001B[39;00m kw):\n",
       "\u001B[0;32m--> 525\u001B[0m     \u001B[38;5;28;01mreturn\u001B[39;00m \u001B[43m_default_decoder\u001B[49m\u001B[38;5;241;43m.\u001B[39;49m\u001B[43mdecode\u001B[49m\u001B[43m(\u001B[49m\u001B[43ms\u001B[49m\u001B[43m)\u001B[49m\n",
       "\u001B[1;32m    526\u001B[0m \u001B[38;5;28;01mif\u001B[39;00m \u001B[38;5;28mcls\u001B[39m \u001B[38;5;129;01mis\u001B[39;00m \u001B[38;5;28;01mNone\u001B[39;00m:\n",
       "\n",
       "File \u001B[0;32m/databricks/python/lib/python3.10/site-packages/simplejson/decoder.py:370\u001B[0m, in \u001B[0;36mJSONDecoder.decode\u001B[0;34m(self, s, _w, _PY3)\u001B[0m\n",
       "\u001B[1;32m    369\u001B[0m     s \u001B[38;5;241m=\u001B[39m \u001B[38;5;28mstr\u001B[39m(s, \u001B[38;5;28mself\u001B[39m\u001B[38;5;241m.\u001B[39mencoding)\n",
       "\u001B[0;32m--> 370\u001B[0m obj, end \u001B[38;5;241m=\u001B[39m \u001B[38;5;28;43mself\u001B[39;49m\u001B[38;5;241;43m.\u001B[39;49m\u001B[43mraw_decode\u001B[49m\u001B[43m(\u001B[49m\u001B[43ms\u001B[49m\u001B[43m)\u001B[49m\n",
       "\u001B[1;32m    371\u001B[0m end \u001B[38;5;241m=\u001B[39m _w(s, end)\u001B[38;5;241m.\u001B[39mend()\n",
       "\n",
       "File \u001B[0;32m/databricks/python/lib/python3.10/site-packages/simplejson/decoder.py:400\u001B[0m, in \u001B[0;36mJSONDecoder.raw_decode\u001B[0;34m(self, s, idx, _w, _PY3)\u001B[0m\n",
       "\u001B[1;32m    399\u001B[0m         idx \u001B[38;5;241m+\u001B[39m\u001B[38;5;241m=\u001B[39m \u001B[38;5;241m3\u001B[39m\n",
       "\u001B[0;32m--> 400\u001B[0m \u001B[38;5;28;01mreturn\u001B[39;00m \u001B[38;5;28;43mself\u001B[39;49m\u001B[38;5;241;43m.\u001B[39;49m\u001B[43mscan_once\u001B[49m\u001B[43m(\u001B[49m\u001B[43ms\u001B[49m\u001B[43m,\u001B[49m\u001B[43m \u001B[49m\u001B[43midx\u001B[49m\u001B[38;5;241;43m=\u001B[39;49m\u001B[43m_w\u001B[49m\u001B[43m(\u001B[49m\u001B[43ms\u001B[49m\u001B[43m,\u001B[49m\u001B[43m \u001B[49m\u001B[43midx\u001B[49m\u001B[43m)\u001B[49m\u001B[38;5;241;43m.\u001B[39;49m\u001B[43mend\u001B[49m\u001B[43m(\u001B[49m\u001B[43m)\u001B[49m\u001B[43m)\u001B[49m\n",
       "\n",
       "\u001B[0;31mJSONDecodeError\u001B[0m: Expecting value: line 1 column 1 (char 0)\n",
       "\n",
       "During handling of the above exception, another exception occurred:\n",
       "\n",
       "\u001B[0;31mJSONDecodeError\u001B[0m                           Traceback (most recent call last)\n",
       "File \u001B[0;32m/databricks/python/lib/python3.10/site-packages/langchain/llms/mosaicml.py:140\u001B[0m, in \u001B[0;36mMosaicML._call\u001B[0;34m(self, prompt, stop, run_manager, is_retry)\u001B[0m\n",
       "\u001B[1;32m    139\u001B[0m \u001B[38;5;28;01mtry\u001B[39;00m:\n",
       "\u001B[0;32m--> 140\u001B[0m     parsed_response \u001B[38;5;241m=\u001B[39m \u001B[43mresponse\u001B[49m\u001B[38;5;241;43m.\u001B[39;49m\u001B[43mjson\u001B[49m\u001B[43m(\u001B[49m\u001B[43m)\u001B[49m\n",
       "\u001B[1;32m    142\u001B[0m     \u001B[38;5;28;01mif\u001B[39;00m \u001B[38;5;124m\"\u001B[39m\u001B[38;5;124merror\u001B[39m\u001B[38;5;124m\"\u001B[39m \u001B[38;5;129;01min\u001B[39;00m parsed_response:\n",
       "\u001B[1;32m    143\u001B[0m         \u001B[38;5;66;03m# if we get rate limited, try sleeping for 1 second\u001B[39;00m\n",
       "\n",
       "File \u001B[0;32m/databricks/python/lib/python3.10/site-packages/requests/models.py:975\u001B[0m, in \u001B[0;36mResponse.json\u001B[0;34m(self, **kwargs)\u001B[0m\n",
       "\u001B[1;32m    972\u001B[0m \u001B[38;5;28;01mexcept\u001B[39;00m JSONDecodeError \u001B[38;5;28;01mas\u001B[39;00m e:\n",
       "\u001B[1;32m    973\u001B[0m     \u001B[38;5;66;03m# Catch JSON-related errors and raise as requests.JSONDecodeError\u001B[39;00m\n",
       "\u001B[1;32m    974\u001B[0m     \u001B[38;5;66;03m# This aliases json.JSONDecodeError and simplejson.JSONDecodeError\u001B[39;00m\n",
       "\u001B[0;32m--> 975\u001B[0m     \u001B[38;5;28;01mraise\u001B[39;00m RequestsJSONDecodeError(e\u001B[38;5;241m.\u001B[39mmsg, e\u001B[38;5;241m.\u001B[39mdoc, e\u001B[38;5;241m.\u001B[39mpos)\n",
       "\n",
       "\u001B[0;31mJSONDecodeError\u001B[0m: Expecting value: line 1 column 1 (char 0)\n",
       "\n",
       "During handling of the above exception, another exception occurred:\n",
       "\n",
       "\u001B[0;31mValueError\u001B[0m                                Traceback (most recent call last)\n",
       "File \u001B[0;32m<command-3034800463673155>:3\u001B[0m\n",
       "\u001B[1;32m      1\u001B[0m question \u001B[38;5;241m=\u001B[39m \u001B[38;5;124m\"\u001B[39m\u001B[38;5;124mwhat is large language model?\u001B[39m\u001B[38;5;124m\"\u001B[39m\n",
       "\u001B[0;32m----> 3\u001B[0m llm_chain\u001B[38;5;241m.\u001B[39mrun(question)\n",
       "\n",
       "File \u001B[0;32m/databricks/python/lib/python3.10/site-packages/langchain/chains/base.py:236\u001B[0m, in \u001B[0;36mChain.run\u001B[0;34m(self, callbacks, *args, **kwargs)\u001B[0m\n",
       "\u001B[1;32m    234\u001B[0m     \u001B[38;5;28;01mif\u001B[39;00m \u001B[38;5;28mlen\u001B[39m(args) \u001B[38;5;241m!=\u001B[39m \u001B[38;5;241m1\u001B[39m:\n",
       "\u001B[1;32m    235\u001B[0m         \u001B[38;5;28;01mraise\u001B[39;00m \u001B[38;5;167;01mValueError\u001B[39;00m(\u001B[38;5;124m\"\u001B[39m\u001B[38;5;124m`run` supports only one positional argument.\u001B[39m\u001B[38;5;124m\"\u001B[39m)\n",
       "\u001B[0;32m--> 236\u001B[0m     \u001B[38;5;28;01mreturn\u001B[39;00m \u001B[38;5;28;43mself\u001B[39;49m\u001B[43m(\u001B[49m\u001B[43margs\u001B[49m\u001B[43m[\u001B[49m\u001B[38;5;241;43m0\u001B[39;49m\u001B[43m]\u001B[49m\u001B[43m,\u001B[49m\u001B[43m \u001B[49m\u001B[43mcallbacks\u001B[49m\u001B[38;5;241;43m=\u001B[39;49m\u001B[43mcallbacks\u001B[49m\u001B[43m)\u001B[49m[\u001B[38;5;28mself\u001B[39m\u001B[38;5;241m.\u001B[39moutput_keys[\u001B[38;5;241m0\u001B[39m]]\n",
       "\u001B[1;32m    238\u001B[0m \u001B[38;5;28;01mif\u001B[39;00m kwargs \u001B[38;5;129;01mand\u001B[39;00m \u001B[38;5;129;01mnot\u001B[39;00m args:\n",
       "\u001B[1;32m    239\u001B[0m     \u001B[38;5;28;01mreturn\u001B[39;00m \u001B[38;5;28mself\u001B[39m(kwargs, callbacks\u001B[38;5;241m=\u001B[39mcallbacks)[\u001B[38;5;28mself\u001B[39m\u001B[38;5;241m.\u001B[39moutput_keys[\u001B[38;5;241m0\u001B[39m]]\n",
       "\n",
       "File \u001B[0;32m/databricks/python/lib/python3.10/site-packages/langchain/chains/base.py:140\u001B[0m, in \u001B[0;36mChain.__call__\u001B[0;34m(self, inputs, return_only_outputs, callbacks)\u001B[0m\n",
       "\u001B[1;32m    138\u001B[0m \u001B[38;5;28;01mexcept\u001B[39;00m (\u001B[38;5;167;01mKeyboardInterrupt\u001B[39;00m, \u001B[38;5;167;01mException\u001B[39;00m) \u001B[38;5;28;01mas\u001B[39;00m e:\n",
       "\u001B[1;32m    139\u001B[0m     run_manager\u001B[38;5;241m.\u001B[39mon_chain_error(e)\n",
       "\u001B[0;32m--> 140\u001B[0m     \u001B[38;5;28;01mraise\u001B[39;00m e\n",
       "\u001B[1;32m    141\u001B[0m run_manager\u001B[38;5;241m.\u001B[39mon_chain_end(outputs)\n",
       "\u001B[1;32m    142\u001B[0m \u001B[38;5;28;01mreturn\u001B[39;00m \u001B[38;5;28mself\u001B[39m\u001B[38;5;241m.\u001B[39mprep_outputs(inputs, outputs, return_only_outputs)\n",
       "\n",
       "File \u001B[0;32m/databricks/python/lib/python3.10/site-packages/langchain/chains/base.py:134\u001B[0m, in \u001B[0;36mChain.__call__\u001B[0;34m(self, inputs, return_only_outputs, callbacks)\u001B[0m\n",
       "\u001B[1;32m    128\u001B[0m run_manager \u001B[38;5;241m=\u001B[39m callback_manager\u001B[38;5;241m.\u001B[39mon_chain_start(\n",
       "\u001B[1;32m    129\u001B[0m     {\u001B[38;5;124m\"\u001B[39m\u001B[38;5;124mname\u001B[39m\u001B[38;5;124m\"\u001B[39m: \u001B[38;5;28mself\u001B[39m\u001B[38;5;241m.\u001B[39m\u001B[38;5;18m__class__\u001B[39m\u001B[38;5;241m.\u001B[39m\u001B[38;5;18m__name__\u001B[39m},\n",
       "\u001B[1;32m    130\u001B[0m     inputs,\n",
       "\u001B[1;32m    131\u001B[0m )\n",
       "\u001B[1;32m    132\u001B[0m \u001B[38;5;28;01mtry\u001B[39;00m:\n",
       "\u001B[1;32m    133\u001B[0m     outputs \u001B[38;5;241m=\u001B[39m (\n",
       "\u001B[0;32m--> 134\u001B[0m         \u001B[38;5;28;43mself\u001B[39;49m\u001B[38;5;241;43m.\u001B[39;49m\u001B[43m_call\u001B[49m\u001B[43m(\u001B[49m\u001B[43minputs\u001B[49m\u001B[43m,\u001B[49m\u001B[43m \u001B[49m\u001B[43mrun_manager\u001B[49m\u001B[38;5;241;43m=\u001B[39;49m\u001B[43mrun_manager\u001B[49m\u001B[43m)\u001B[49m\n",
       "\u001B[1;32m    135\u001B[0m         \u001B[38;5;28;01mif\u001B[39;00m new_arg_supported\n",
       "\u001B[1;32m    136\u001B[0m         \u001B[38;5;28;01melse\u001B[39;00m \u001B[38;5;28mself\u001B[39m\u001B[38;5;241m.\u001B[39m_call(inputs)\n",
       "\u001B[1;32m    137\u001B[0m     )\n",
       "\u001B[1;32m    138\u001B[0m \u001B[38;5;28;01mexcept\u001B[39;00m (\u001B[38;5;167;01mKeyboardInterrupt\u001B[39;00m, \u001B[38;5;167;01mException\u001B[39;00m) \u001B[38;5;28;01mas\u001B[39;00m e:\n",
       "\u001B[1;32m    139\u001B[0m     run_manager\u001B[38;5;241m.\u001B[39mon_chain_error(e)\n",
       "\n",
       "File \u001B[0;32m/databricks/python/lib/python3.10/site-packages/langchain/chains/llm.py:69\u001B[0m, in \u001B[0;36mLLMChain._call\u001B[0;34m(self, inputs, run_manager)\u001B[0m\n",
       "\u001B[1;32m     64\u001B[0m \u001B[38;5;28;01mdef\u001B[39;00m \u001B[38;5;21m_call\u001B[39m(\n",
       "\u001B[1;32m     65\u001B[0m     \u001B[38;5;28mself\u001B[39m,\n",
       "\u001B[1;32m     66\u001B[0m     inputs: Dict[\u001B[38;5;28mstr\u001B[39m, Any],\n",
       "\u001B[1;32m     67\u001B[0m     run_manager: Optional[CallbackManagerForChainRun] \u001B[38;5;241m=\u001B[39m \u001B[38;5;28;01mNone\u001B[39;00m,\n",
       "\u001B[1;32m     68\u001B[0m ) \u001B[38;5;241m-\u001B[39m\u001B[38;5;241m>\u001B[39m Dict[\u001B[38;5;28mstr\u001B[39m, \u001B[38;5;28mstr\u001B[39m]:\n",
       "\u001B[0;32m---> 69\u001B[0m     response \u001B[38;5;241m=\u001B[39m \u001B[38;5;28;43mself\u001B[39;49m\u001B[38;5;241;43m.\u001B[39;49m\u001B[43mgenerate\u001B[49m\u001B[43m(\u001B[49m\u001B[43m[\u001B[49m\u001B[43minputs\u001B[49m\u001B[43m]\u001B[49m\u001B[43m,\u001B[49m\u001B[43m \u001B[49m\u001B[43mrun_manager\u001B[49m\u001B[38;5;241;43m=\u001B[39;49m\u001B[43mrun_manager\u001B[49m\u001B[43m)\u001B[49m\n",
       "\u001B[1;32m     70\u001B[0m     \u001B[38;5;28;01mreturn\u001B[39;00m \u001B[38;5;28mself\u001B[39m\u001B[38;5;241m.\u001B[39mcreate_outputs(response)[\u001B[38;5;241m0\u001B[39m]\n",
       "\n",
       "File \u001B[0;32m/databricks/python/lib/python3.10/site-packages/langchain/chains/llm.py:79\u001B[0m, in \u001B[0;36mLLMChain.generate\u001B[0;34m(self, input_list, run_manager)\u001B[0m\n",
       "\u001B[1;32m     77\u001B[0m \u001B[38;5;124;03m\"\"\"Generate LLM result from inputs.\"\"\"\u001B[39;00m\n",
       "\u001B[1;32m     78\u001B[0m prompts, stop \u001B[38;5;241m=\u001B[39m \u001B[38;5;28mself\u001B[39m\u001B[38;5;241m.\u001B[39mprep_prompts(input_list, run_manager\u001B[38;5;241m=\u001B[39mrun_manager)\n",
       "\u001B[0;32m---> 79\u001B[0m \u001B[38;5;28;01mreturn\u001B[39;00m \u001B[38;5;28;43mself\u001B[39;49m\u001B[38;5;241;43m.\u001B[39;49m\u001B[43mllm\u001B[49m\u001B[38;5;241;43m.\u001B[39;49m\u001B[43mgenerate_prompt\u001B[49m\u001B[43m(\u001B[49m\n",
       "\u001B[1;32m     80\u001B[0m \u001B[43m    \u001B[49m\u001B[43mprompts\u001B[49m\u001B[43m,\u001B[49m\u001B[43m \u001B[49m\u001B[43mstop\u001B[49m\u001B[43m,\u001B[49m\u001B[43m \u001B[49m\u001B[43mcallbacks\u001B[49m\u001B[38;5;241;43m=\u001B[39;49m\u001B[43mrun_manager\u001B[49m\u001B[38;5;241;43m.\u001B[39;49m\u001B[43mget_child\u001B[49m\u001B[43m(\u001B[49m\u001B[43m)\u001B[49m\u001B[43m \u001B[49m\u001B[38;5;28;43;01mif\u001B[39;49;00m\u001B[43m \u001B[49m\u001B[43mrun_manager\u001B[49m\u001B[43m \u001B[49m\u001B[38;5;28;43;01melse\u001B[39;49;00m\u001B[43m \u001B[49m\u001B[38;5;28;43;01mNone\u001B[39;49;00m\n",
       "\u001B[1;32m     81\u001B[0m \u001B[43m\u001B[49m\u001B[43m)\u001B[49m\n",
       "\n",
       "File \u001B[0;32m/databricks/python/lib/python3.10/site-packages/langchain/llms/base.py:134\u001B[0m, in \u001B[0;36mBaseLLM.generate_prompt\u001B[0;34m(self, prompts, stop, callbacks)\u001B[0m\n",
       "\u001B[1;32m    127\u001B[0m \u001B[38;5;28;01mdef\u001B[39;00m \u001B[38;5;21mgenerate_prompt\u001B[39m(\n",
       "\u001B[1;32m    128\u001B[0m     \u001B[38;5;28mself\u001B[39m,\n",
       "\u001B[1;32m    129\u001B[0m     prompts: List[PromptValue],\n",
       "\u001B[1;32m    130\u001B[0m     stop: Optional[List[\u001B[38;5;28mstr\u001B[39m]] \u001B[38;5;241m=\u001B[39m \u001B[38;5;28;01mNone\u001B[39;00m,\n",
       "\u001B[1;32m    131\u001B[0m     callbacks: Callbacks \u001B[38;5;241m=\u001B[39m \u001B[38;5;28;01mNone\u001B[39;00m,\n",
       "\u001B[1;32m    132\u001B[0m ) \u001B[38;5;241m-\u001B[39m\u001B[38;5;241m>\u001B[39m LLMResult:\n",
       "\u001B[1;32m    133\u001B[0m     prompt_strings \u001B[38;5;241m=\u001B[39m [p\u001B[38;5;241m.\u001B[39mto_string() \u001B[38;5;28;01mfor\u001B[39;00m p \u001B[38;5;129;01min\u001B[39;00m prompts]\n",
       "\u001B[0;32m--> 134\u001B[0m     \u001B[38;5;28;01mreturn\u001B[39;00m \u001B[38;5;28;43mself\u001B[39;49m\u001B[38;5;241;43m.\u001B[39;49m\u001B[43mgenerate\u001B[49m\u001B[43m(\u001B[49m\u001B[43mprompt_strings\u001B[49m\u001B[43m,\u001B[49m\u001B[43m \u001B[49m\u001B[43mstop\u001B[49m\u001B[38;5;241;43m=\u001B[39;49m\u001B[43mstop\u001B[49m\u001B[43m,\u001B[49m\u001B[43m \u001B[49m\u001B[43mcallbacks\u001B[49m\u001B[38;5;241;43m=\u001B[39;49m\u001B[43mcallbacks\u001B[49m\u001B[43m)\u001B[49m\n",
       "\n",
       "File \u001B[0;32m/databricks/python/lib/python3.10/site-packages/langchain/llms/base.py:191\u001B[0m, in \u001B[0;36mBaseLLM.generate\u001B[0;34m(self, prompts, stop, callbacks)\u001B[0m\n",
       "\u001B[1;32m    189\u001B[0m \u001B[38;5;28;01mexcept\u001B[39;00m (\u001B[38;5;167;01mKeyboardInterrupt\u001B[39;00m, \u001B[38;5;167;01mException\u001B[39;00m) \u001B[38;5;28;01mas\u001B[39;00m e:\n",
       "\u001B[1;32m    190\u001B[0m     run_manager\u001B[38;5;241m.\u001B[39mon_llm_error(e)\n",
       "\u001B[0;32m--> 191\u001B[0m     \u001B[38;5;28;01mraise\u001B[39;00m e\n",
       "\u001B[1;32m    192\u001B[0m run_manager\u001B[38;5;241m.\u001B[39mon_llm_end(output)\n",
       "\u001B[1;32m    193\u001B[0m \u001B[38;5;28;01mreturn\u001B[39;00m output\n",
       "\n",
       "File \u001B[0;32m/databricks/python/lib/python3.10/site-packages/langchain/llms/base.py:185\u001B[0m, in \u001B[0;36mBaseLLM.generate\u001B[0;34m(self, prompts, stop, callbacks)\u001B[0m\n",
       "\u001B[1;32m    180\u001B[0m run_manager \u001B[38;5;241m=\u001B[39m callback_manager\u001B[38;5;241m.\u001B[39mon_llm_start(\n",
       "\u001B[1;32m    181\u001B[0m     {\u001B[38;5;124m\"\u001B[39m\u001B[38;5;124mname\u001B[39m\u001B[38;5;124m\"\u001B[39m: \u001B[38;5;28mself\u001B[39m\u001B[38;5;241m.\u001B[39m\u001B[38;5;18m__class__\u001B[39m\u001B[38;5;241m.\u001B[39m\u001B[38;5;18m__name__\u001B[39m}, prompts, invocation_params\u001B[38;5;241m=\u001B[39mparams\n",
       "\u001B[1;32m    182\u001B[0m )\n",
       "\u001B[1;32m    183\u001B[0m \u001B[38;5;28;01mtry\u001B[39;00m:\n",
       "\u001B[1;32m    184\u001B[0m     output \u001B[38;5;241m=\u001B[39m (\n",
       "\u001B[0;32m--> 185\u001B[0m         \u001B[38;5;28;43mself\u001B[39;49m\u001B[38;5;241;43m.\u001B[39;49m\u001B[43m_generate\u001B[49m\u001B[43m(\u001B[49m\u001B[43mprompts\u001B[49m\u001B[43m,\u001B[49m\u001B[43m \u001B[49m\u001B[43mstop\u001B[49m\u001B[38;5;241;43m=\u001B[39;49m\u001B[43mstop\u001B[49m\u001B[43m,\u001B[49m\u001B[43m \u001B[49m\u001B[43mrun_manager\u001B[49m\u001B[38;5;241;43m=\u001B[39;49m\u001B[43mrun_manager\u001B[49m\u001B[43m)\u001B[49m\n",
       "\u001B[1;32m    186\u001B[0m         \u001B[38;5;28;01mif\u001B[39;00m new_arg_supported\n",
       "\u001B[1;32m    187\u001B[0m         \u001B[38;5;28;01melse\u001B[39;00m \u001B[38;5;28mself\u001B[39m\u001B[38;5;241m.\u001B[39m_generate(prompts, stop\u001B[38;5;241m=\u001B[39mstop)\n",
       "\u001B[1;32m    188\u001B[0m     )\n",
       "\u001B[1;32m    189\u001B[0m \u001B[38;5;28;01mexcept\u001B[39;00m (\u001B[38;5;167;01mKeyboardInterrupt\u001B[39;00m, \u001B[38;5;167;01mException\u001B[39;00m) \u001B[38;5;28;01mas\u001B[39;00m e:\n",
       "\u001B[1;32m    190\u001B[0m     run_manager\u001B[38;5;241m.\u001B[39mon_llm_error(e)\n",
       "\n",
       "File \u001B[0;32m/databricks/python/lib/python3.10/site-packages/langchain/llms/base.py:436\u001B[0m, in \u001B[0;36mLLM._generate\u001B[0;34m(self, prompts, stop, run_manager)\u001B[0m\n",
       "\u001B[1;32m    433\u001B[0m new_arg_supported \u001B[38;5;241m=\u001B[39m inspect\u001B[38;5;241m.\u001B[39msignature(\u001B[38;5;28mself\u001B[39m\u001B[38;5;241m.\u001B[39m_call)\u001B[38;5;241m.\u001B[39mparameters\u001B[38;5;241m.\u001B[39mget(\u001B[38;5;124m\"\u001B[39m\u001B[38;5;124mrun_manager\u001B[39m\u001B[38;5;124m\"\u001B[39m)\n",
       "\u001B[1;32m    434\u001B[0m \u001B[38;5;28;01mfor\u001B[39;00m prompt \u001B[38;5;129;01min\u001B[39;00m prompts:\n",
       "\u001B[1;32m    435\u001B[0m     text \u001B[38;5;241m=\u001B[39m (\n",
       "\u001B[0;32m--> 436\u001B[0m         \u001B[38;5;28;43mself\u001B[39;49m\u001B[38;5;241;43m.\u001B[39;49m\u001B[43m_call\u001B[49m\u001B[43m(\u001B[49m\u001B[43mprompt\u001B[49m\u001B[43m,\u001B[49m\u001B[43m \u001B[49m\u001B[43mstop\u001B[49m\u001B[38;5;241;43m=\u001B[39;49m\u001B[43mstop\u001B[49m\u001B[43m,\u001B[49m\u001B[43m \u001B[49m\u001B[43mrun_manager\u001B[49m\u001B[38;5;241;43m=\u001B[39;49m\u001B[43mrun_manager\u001B[49m\u001B[43m)\u001B[49m\n",
       "\u001B[1;32m    437\u001B[0m         \u001B[38;5;28;01mif\u001B[39;00m new_arg_supported\n",
       "\u001B[1;32m    438\u001B[0m         \u001B[38;5;28;01melse\u001B[39;00m \u001B[38;5;28mself\u001B[39m\u001B[38;5;241m.\u001B[39m_call(prompt, stop\u001B[38;5;241m=\u001B[39mstop)\n",
       "\u001B[1;32m    439\u001B[0m     )\n",
       "\u001B[1;32m    440\u001B[0m     generations\u001B[38;5;241m.\u001B[39mappend([Generation(text\u001B[38;5;241m=\u001B[39mtext)])\n",
       "\u001B[1;32m    441\u001B[0m \u001B[38;5;28;01mreturn\u001B[39;00m LLMResult(generations\u001B[38;5;241m=\u001B[39mgenerations)\n",
       "\n",
       "File \u001B[0;32m/databricks/python/lib/python3.10/site-packages/langchain/llms/mosaicml.py:164\u001B[0m, in \u001B[0;36mMosaicML._call\u001B[0;34m(self, prompt, stop, run_manager, is_retry)\u001B[0m\n",
       "\u001B[1;32m    162\u001B[0m     generated_text \u001B[38;5;241m=\u001B[39m parsed_response[\u001B[38;5;124m\"\u001B[39m\u001B[38;5;124mdata\u001B[39m\u001B[38;5;124m\"\u001B[39m]\n",
       "\u001B[1;32m    163\u001B[0m \u001B[38;5;28;01mexcept\u001B[39;00m requests\u001B[38;5;241m.\u001B[39mexceptions\u001B[38;5;241m.\u001B[39mJSONDecodeError \u001B[38;5;28;01mas\u001B[39;00m e:\n",
       "\u001B[0;32m--> 164\u001B[0m     \u001B[38;5;28;01mraise\u001B[39;00m \u001B[38;5;167;01mValueError\u001B[39;00m(\n",
       "\u001B[1;32m    165\u001B[0m         \u001B[38;5;124mf\u001B[39m\u001B[38;5;124m\"\u001B[39m\u001B[38;5;124mError raised by inference API: \u001B[39m\u001B[38;5;132;01m{\u001B[39;00me\u001B[38;5;132;01m}\u001B[39;00m\u001B[38;5;124m.\u001B[39m\u001B[38;5;130;01m\\n\u001B[39;00m\u001B[38;5;124mResponse: \u001B[39m\u001B[38;5;132;01m{\u001B[39;00mresponse\u001B[38;5;241m.\u001B[39mtext\u001B[38;5;132;01m}\u001B[39;00m\u001B[38;5;124m\"\u001B[39m\n",
       "\u001B[1;32m    166\u001B[0m     )\n",
       "\u001B[1;32m    168\u001B[0m text \u001B[38;5;241m=\u001B[39m generated_text[\u001B[38;5;241m0\u001B[39m][\u001B[38;5;28mlen\u001B[39m(prompt) :]\n",
       "\u001B[1;32m    170\u001B[0m \u001B[38;5;66;03m# TODO: replace when MosaicML supports custom stop tokens natively\u001B[39;00m\n",
       "\n",
       "\u001B[0;31mValueError\u001B[0m: Error raised by inference API: Expecting value: line 1 column 1 (char 0).\n",
       "Response: Bad request: inputs must be non-empty\n"
      ]
     },
     "metadata": {
      "application/vnd.databricks.v1+output": {
       "arguments": {},
       "data": "\u001B[0;31m---------------------------------------------------------------------------\u001B[0m\n\u001B[0;31mJSONDecodeError\u001B[0m                           Traceback (most recent call last)\nFile \u001B[0;32m/databricks/python/lib/python3.10/site-packages/requests/models.py:971\u001B[0m, in \u001B[0;36mResponse.json\u001B[0;34m(self, **kwargs)\u001B[0m\n\u001B[1;32m    970\u001B[0m \u001B[38;5;28;01mtry\u001B[39;00m:\n\u001B[0;32m--> 971\u001B[0m     \u001B[38;5;28;01mreturn\u001B[39;00m \u001B[43mcomplexjson\u001B[49m\u001B[38;5;241;43m.\u001B[39;49m\u001B[43mloads\u001B[49m\u001B[43m(\u001B[49m\u001B[38;5;28;43mself\u001B[39;49m\u001B[38;5;241;43m.\u001B[39;49m\u001B[43mtext\u001B[49m\u001B[43m,\u001B[49m\u001B[43m \u001B[49m\u001B[38;5;241;43m*\u001B[39;49m\u001B[38;5;241;43m*\u001B[39;49m\u001B[43mkwargs\u001B[49m\u001B[43m)\u001B[49m\n\u001B[1;32m    972\u001B[0m \u001B[38;5;28;01mexcept\u001B[39;00m JSONDecodeError \u001B[38;5;28;01mas\u001B[39;00m e:\n\u001B[1;32m    973\u001B[0m     \u001B[38;5;66;03m# Catch JSON-related errors and raise as requests.JSONDecodeError\u001B[39;00m\n\u001B[1;32m    974\u001B[0m     \u001B[38;5;66;03m# This aliases json.JSONDecodeError and simplejson.JSONDecodeError\u001B[39;00m\n\nFile \u001B[0;32m/databricks/python/lib/python3.10/site-packages/simplejson/__init__.py:525\u001B[0m, in \u001B[0;36mloads\u001B[0;34m(s, encoding, cls, object_hook, parse_float, parse_int, parse_constant, object_pairs_hook, use_decimal, **kw)\u001B[0m\n\u001B[1;32m    521\u001B[0m \u001B[38;5;28;01mif\u001B[39;00m (\u001B[38;5;28mcls\u001B[39m \u001B[38;5;129;01mis\u001B[39;00m \u001B[38;5;28;01mNone\u001B[39;00m \u001B[38;5;129;01mand\u001B[39;00m encoding \u001B[38;5;129;01mis\u001B[39;00m \u001B[38;5;28;01mNone\u001B[39;00m \u001B[38;5;129;01mand\u001B[39;00m object_hook \u001B[38;5;129;01mis\u001B[39;00m \u001B[38;5;28;01mNone\u001B[39;00m \u001B[38;5;129;01mand\u001B[39;00m\n\u001B[1;32m    522\u001B[0m         parse_int \u001B[38;5;129;01mis\u001B[39;00m \u001B[38;5;28;01mNone\u001B[39;00m \u001B[38;5;129;01mand\u001B[39;00m parse_float \u001B[38;5;129;01mis\u001B[39;00m \u001B[38;5;28;01mNone\u001B[39;00m \u001B[38;5;129;01mand\u001B[39;00m\n\u001B[1;32m    523\u001B[0m         parse_constant \u001B[38;5;129;01mis\u001B[39;00m \u001B[38;5;28;01mNone\u001B[39;00m \u001B[38;5;129;01mand\u001B[39;00m object_pairs_hook \u001B[38;5;129;01mis\u001B[39;00m \u001B[38;5;28;01mNone\u001B[39;00m\n\u001B[1;32m    524\u001B[0m         \u001B[38;5;129;01mand\u001B[39;00m \u001B[38;5;129;01mnot\u001B[39;00m use_decimal \u001B[38;5;129;01mand\u001B[39;00m \u001B[38;5;129;01mnot\u001B[39;00m kw):\n\u001B[0;32m--> 525\u001B[0m     \u001B[38;5;28;01mreturn\u001B[39;00m \u001B[43m_default_decoder\u001B[49m\u001B[38;5;241;43m.\u001B[39;49m\u001B[43mdecode\u001B[49m\u001B[43m(\u001B[49m\u001B[43ms\u001B[49m\u001B[43m)\u001B[49m\n\u001B[1;32m    526\u001B[0m \u001B[38;5;28;01mif\u001B[39;00m \u001B[38;5;28mcls\u001B[39m \u001B[38;5;129;01mis\u001B[39;00m \u001B[38;5;28;01mNone\u001B[39;00m:\n\nFile \u001B[0;32m/databricks/python/lib/python3.10/site-packages/simplejson/decoder.py:370\u001B[0m, in \u001B[0;36mJSONDecoder.decode\u001B[0;34m(self, s, _w, _PY3)\u001B[0m\n\u001B[1;32m    369\u001B[0m     s \u001B[38;5;241m=\u001B[39m \u001B[38;5;28mstr\u001B[39m(s, \u001B[38;5;28mself\u001B[39m\u001B[38;5;241m.\u001B[39mencoding)\n\u001B[0;32m--> 370\u001B[0m obj, end \u001B[38;5;241m=\u001B[39m \u001B[38;5;28;43mself\u001B[39;49m\u001B[38;5;241;43m.\u001B[39;49m\u001B[43mraw_decode\u001B[49m\u001B[43m(\u001B[49m\u001B[43ms\u001B[49m\u001B[43m)\u001B[49m\n\u001B[1;32m    371\u001B[0m end \u001B[38;5;241m=\u001B[39m _w(s, end)\u001B[38;5;241m.\u001B[39mend()\n\nFile \u001B[0;32m/databricks/python/lib/python3.10/site-packages/simplejson/decoder.py:400\u001B[0m, in \u001B[0;36mJSONDecoder.raw_decode\u001B[0;34m(self, s, idx, _w, _PY3)\u001B[0m\n\u001B[1;32m    399\u001B[0m         idx \u001B[38;5;241m+\u001B[39m\u001B[38;5;241m=\u001B[39m \u001B[38;5;241m3\u001B[39m\n\u001B[0;32m--> 400\u001B[0m \u001B[38;5;28;01mreturn\u001B[39;00m \u001B[38;5;28;43mself\u001B[39;49m\u001B[38;5;241;43m.\u001B[39;49m\u001B[43mscan_once\u001B[49m\u001B[43m(\u001B[49m\u001B[43ms\u001B[49m\u001B[43m,\u001B[49m\u001B[43m \u001B[49m\u001B[43midx\u001B[49m\u001B[38;5;241;43m=\u001B[39;49m\u001B[43m_w\u001B[49m\u001B[43m(\u001B[49m\u001B[43ms\u001B[49m\u001B[43m,\u001B[49m\u001B[43m \u001B[49m\u001B[43midx\u001B[49m\u001B[43m)\u001B[49m\u001B[38;5;241;43m.\u001B[39;49m\u001B[43mend\u001B[49m\u001B[43m(\u001B[49m\u001B[43m)\u001B[49m\u001B[43m)\u001B[49m\n\n\u001B[0;31mJSONDecodeError\u001B[0m: Expecting value: line 1 column 1 (char 0)\n\nDuring handling of the above exception, another exception occurred:\n\n\u001B[0;31mJSONDecodeError\u001B[0m                           Traceback (most recent call last)\nFile \u001B[0;32m/databricks/python/lib/python3.10/site-packages/langchain/llms/mosaicml.py:140\u001B[0m, in \u001B[0;36mMosaicML._call\u001B[0;34m(self, prompt, stop, run_manager, is_retry)\u001B[0m\n\u001B[1;32m    139\u001B[0m \u001B[38;5;28;01mtry\u001B[39;00m:\n\u001B[0;32m--> 140\u001B[0m     parsed_response \u001B[38;5;241m=\u001B[39m \u001B[43mresponse\u001B[49m\u001B[38;5;241;43m.\u001B[39;49m\u001B[43mjson\u001B[49m\u001B[43m(\u001B[49m\u001B[43m)\u001B[49m\n\u001B[1;32m    142\u001B[0m     \u001B[38;5;28;01mif\u001B[39;00m \u001B[38;5;124m\"\u001B[39m\u001B[38;5;124merror\u001B[39m\u001B[38;5;124m\"\u001B[39m \u001B[38;5;129;01min\u001B[39;00m parsed_response:\n\u001B[1;32m    143\u001B[0m         \u001B[38;5;66;03m# if we get rate limited, try sleeping for 1 second\u001B[39;00m\n\nFile \u001B[0;32m/databricks/python/lib/python3.10/site-packages/requests/models.py:975\u001B[0m, in \u001B[0;36mResponse.json\u001B[0;34m(self, **kwargs)\u001B[0m\n\u001B[1;32m    972\u001B[0m \u001B[38;5;28;01mexcept\u001B[39;00m JSONDecodeError \u001B[38;5;28;01mas\u001B[39;00m e:\n\u001B[1;32m    973\u001B[0m     \u001B[38;5;66;03m# Catch JSON-related errors and raise as requests.JSONDecodeError\u001B[39;00m\n\u001B[1;32m    974\u001B[0m     \u001B[38;5;66;03m# This aliases json.JSONDecodeError and simplejson.JSONDecodeError\u001B[39;00m\n\u001B[0;32m--> 975\u001B[0m     \u001B[38;5;28;01mraise\u001B[39;00m RequestsJSONDecodeError(e\u001B[38;5;241m.\u001B[39mmsg, e\u001B[38;5;241m.\u001B[39mdoc, e\u001B[38;5;241m.\u001B[39mpos)\n\n\u001B[0;31mJSONDecodeError\u001B[0m: Expecting value: line 1 column 1 (char 0)\n\nDuring handling of the above exception, another exception occurred:\n\n\u001B[0;31mValueError\u001B[0m                                Traceback (most recent call last)\nFile \u001B[0;32m<command-3034800463673155>:3\u001B[0m\n\u001B[1;32m      1\u001B[0m question \u001B[38;5;241m=\u001B[39m \u001B[38;5;124m\"\u001B[39m\u001B[38;5;124mwhat is large language model?\u001B[39m\u001B[38;5;124m\"\u001B[39m\n\u001B[0;32m----> 3\u001B[0m llm_chain\u001B[38;5;241m.\u001B[39mrun(question)\n\nFile \u001B[0;32m/databricks/python/lib/python3.10/site-packages/langchain/chains/base.py:236\u001B[0m, in \u001B[0;36mChain.run\u001B[0;34m(self, callbacks, *args, **kwargs)\u001B[0m\n\u001B[1;32m    234\u001B[0m     \u001B[38;5;28;01mif\u001B[39;00m \u001B[38;5;28mlen\u001B[39m(args) \u001B[38;5;241m!=\u001B[39m \u001B[38;5;241m1\u001B[39m:\n\u001B[1;32m    235\u001B[0m         \u001B[38;5;28;01mraise\u001B[39;00m \u001B[38;5;167;01mValueError\u001B[39;00m(\u001B[38;5;124m\"\u001B[39m\u001B[38;5;124m`run` supports only one positional argument.\u001B[39m\u001B[38;5;124m\"\u001B[39m)\n\u001B[0;32m--> 236\u001B[0m     \u001B[38;5;28;01mreturn\u001B[39;00m \u001B[38;5;28;43mself\u001B[39;49m\u001B[43m(\u001B[49m\u001B[43margs\u001B[49m\u001B[43m[\u001B[49m\u001B[38;5;241;43m0\u001B[39;49m\u001B[43m]\u001B[49m\u001B[43m,\u001B[49m\u001B[43m \u001B[49m\u001B[43mcallbacks\u001B[49m\u001B[38;5;241;43m=\u001B[39;49m\u001B[43mcallbacks\u001B[49m\u001B[43m)\u001B[49m[\u001B[38;5;28mself\u001B[39m\u001B[38;5;241m.\u001B[39moutput_keys[\u001B[38;5;241m0\u001B[39m]]\n\u001B[1;32m    238\u001B[0m \u001B[38;5;28;01mif\u001B[39;00m kwargs \u001B[38;5;129;01mand\u001B[39;00m \u001B[38;5;129;01mnot\u001B[39;00m args:\n\u001B[1;32m    239\u001B[0m     \u001B[38;5;28;01mreturn\u001B[39;00m \u001B[38;5;28mself\u001B[39m(kwargs, callbacks\u001B[38;5;241m=\u001B[39mcallbacks)[\u001B[38;5;28mself\u001B[39m\u001B[38;5;241m.\u001B[39moutput_keys[\u001B[38;5;241m0\u001B[39m]]\n\nFile \u001B[0;32m/databricks/python/lib/python3.10/site-packages/langchain/chains/base.py:140\u001B[0m, in \u001B[0;36mChain.__call__\u001B[0;34m(self, inputs, return_only_outputs, callbacks)\u001B[0m\n\u001B[1;32m    138\u001B[0m \u001B[38;5;28;01mexcept\u001B[39;00m (\u001B[38;5;167;01mKeyboardInterrupt\u001B[39;00m, \u001B[38;5;167;01mException\u001B[39;00m) \u001B[38;5;28;01mas\u001B[39;00m e:\n\u001B[1;32m    139\u001B[0m     run_manager\u001B[38;5;241m.\u001B[39mon_chain_error(e)\n\u001B[0;32m--> 140\u001B[0m     \u001B[38;5;28;01mraise\u001B[39;00m e\n\u001B[1;32m    141\u001B[0m run_manager\u001B[38;5;241m.\u001B[39mon_chain_end(outputs)\n\u001B[1;32m    142\u001B[0m \u001B[38;5;28;01mreturn\u001B[39;00m \u001B[38;5;28mself\u001B[39m\u001B[38;5;241m.\u001B[39mprep_outputs(inputs, outputs, return_only_outputs)\n\nFile \u001B[0;32m/databricks/python/lib/python3.10/site-packages/langchain/chains/base.py:134\u001B[0m, in \u001B[0;36mChain.__call__\u001B[0;34m(self, inputs, return_only_outputs, callbacks)\u001B[0m\n\u001B[1;32m    128\u001B[0m run_manager \u001B[38;5;241m=\u001B[39m callback_manager\u001B[38;5;241m.\u001B[39mon_chain_start(\n\u001B[1;32m    129\u001B[0m     {\u001B[38;5;124m\"\u001B[39m\u001B[38;5;124mname\u001B[39m\u001B[38;5;124m\"\u001B[39m: \u001B[38;5;28mself\u001B[39m\u001B[38;5;241m.\u001B[39m\u001B[38;5;18m__class__\u001B[39m\u001B[38;5;241m.\u001B[39m\u001B[38;5;18m__name__\u001B[39m},\n\u001B[1;32m    130\u001B[0m     inputs,\n\u001B[1;32m    131\u001B[0m )\n\u001B[1;32m    132\u001B[0m \u001B[38;5;28;01mtry\u001B[39;00m:\n\u001B[1;32m    133\u001B[0m     outputs \u001B[38;5;241m=\u001B[39m (\n\u001B[0;32m--> 134\u001B[0m         \u001B[38;5;28;43mself\u001B[39;49m\u001B[38;5;241;43m.\u001B[39;49m\u001B[43m_call\u001B[49m\u001B[43m(\u001B[49m\u001B[43minputs\u001B[49m\u001B[43m,\u001B[49m\u001B[43m \u001B[49m\u001B[43mrun_manager\u001B[49m\u001B[38;5;241;43m=\u001B[39;49m\u001B[43mrun_manager\u001B[49m\u001B[43m)\u001B[49m\n\u001B[1;32m    135\u001B[0m         \u001B[38;5;28;01mif\u001B[39;00m new_arg_supported\n\u001B[1;32m    136\u001B[0m         \u001B[38;5;28;01melse\u001B[39;00m \u001B[38;5;28mself\u001B[39m\u001B[38;5;241m.\u001B[39m_call(inputs)\n\u001B[1;32m    137\u001B[0m     )\n\u001B[1;32m    138\u001B[0m \u001B[38;5;28;01mexcept\u001B[39;00m (\u001B[38;5;167;01mKeyboardInterrupt\u001B[39;00m, \u001B[38;5;167;01mException\u001B[39;00m) \u001B[38;5;28;01mas\u001B[39;00m e:\n\u001B[1;32m    139\u001B[0m     run_manager\u001B[38;5;241m.\u001B[39mon_chain_error(e)\n\nFile \u001B[0;32m/databricks/python/lib/python3.10/site-packages/langchain/chains/llm.py:69\u001B[0m, in \u001B[0;36mLLMChain._call\u001B[0;34m(self, inputs, run_manager)\u001B[0m\n\u001B[1;32m     64\u001B[0m \u001B[38;5;28;01mdef\u001B[39;00m \u001B[38;5;21m_call\u001B[39m(\n\u001B[1;32m     65\u001B[0m     \u001B[38;5;28mself\u001B[39m,\n\u001B[1;32m     66\u001B[0m     inputs: Dict[\u001B[38;5;28mstr\u001B[39m, Any],\n\u001B[1;32m     67\u001B[0m     run_manager: Optional[CallbackManagerForChainRun] \u001B[38;5;241m=\u001B[39m \u001B[38;5;28;01mNone\u001B[39;00m,\n\u001B[1;32m     68\u001B[0m ) \u001B[38;5;241m-\u001B[39m\u001B[38;5;241m>\u001B[39m Dict[\u001B[38;5;28mstr\u001B[39m, \u001B[38;5;28mstr\u001B[39m]:\n\u001B[0;32m---> 69\u001B[0m     response \u001B[38;5;241m=\u001B[39m \u001B[38;5;28;43mself\u001B[39;49m\u001B[38;5;241;43m.\u001B[39;49m\u001B[43mgenerate\u001B[49m\u001B[43m(\u001B[49m\u001B[43m[\u001B[49m\u001B[43minputs\u001B[49m\u001B[43m]\u001B[49m\u001B[43m,\u001B[49m\u001B[43m \u001B[49m\u001B[43mrun_manager\u001B[49m\u001B[38;5;241;43m=\u001B[39;49m\u001B[43mrun_manager\u001B[49m\u001B[43m)\u001B[49m\n\u001B[1;32m     70\u001B[0m     \u001B[38;5;28;01mreturn\u001B[39;00m \u001B[38;5;28mself\u001B[39m\u001B[38;5;241m.\u001B[39mcreate_outputs(response)[\u001B[38;5;241m0\u001B[39m]\n\nFile \u001B[0;32m/databricks/python/lib/python3.10/site-packages/langchain/chains/llm.py:79\u001B[0m, in \u001B[0;36mLLMChain.generate\u001B[0;34m(self, input_list, run_manager)\u001B[0m\n\u001B[1;32m     77\u001B[0m \u001B[38;5;124;03m\"\"\"Generate LLM result from inputs.\"\"\"\u001B[39;00m\n\u001B[1;32m     78\u001B[0m prompts, stop \u001B[38;5;241m=\u001B[39m \u001B[38;5;28mself\u001B[39m\u001B[38;5;241m.\u001B[39mprep_prompts(input_list, run_manager\u001B[38;5;241m=\u001B[39mrun_manager)\n\u001B[0;32m---> 79\u001B[0m \u001B[38;5;28;01mreturn\u001B[39;00m \u001B[38;5;28;43mself\u001B[39;49m\u001B[38;5;241;43m.\u001B[39;49m\u001B[43mllm\u001B[49m\u001B[38;5;241;43m.\u001B[39;49m\u001B[43mgenerate_prompt\u001B[49m\u001B[43m(\u001B[49m\n\u001B[1;32m     80\u001B[0m \u001B[43m    \u001B[49m\u001B[43mprompts\u001B[49m\u001B[43m,\u001B[49m\u001B[43m \u001B[49m\u001B[43mstop\u001B[49m\u001B[43m,\u001B[49m\u001B[43m \u001B[49m\u001B[43mcallbacks\u001B[49m\u001B[38;5;241;43m=\u001B[39;49m\u001B[43mrun_manager\u001B[49m\u001B[38;5;241;43m.\u001B[39;49m\u001B[43mget_child\u001B[49m\u001B[43m(\u001B[49m\u001B[43m)\u001B[49m\u001B[43m \u001B[49m\u001B[38;5;28;43;01mif\u001B[39;49;00m\u001B[43m \u001B[49m\u001B[43mrun_manager\u001B[49m\u001B[43m \u001B[49m\u001B[38;5;28;43;01melse\u001B[39;49;00m\u001B[43m \u001B[49m\u001B[38;5;28;43;01mNone\u001B[39;49;00m\n\u001B[1;32m     81\u001B[0m \u001B[43m\u001B[49m\u001B[43m)\u001B[49m\n\nFile \u001B[0;32m/databricks/python/lib/python3.10/site-packages/langchain/llms/base.py:134\u001B[0m, in \u001B[0;36mBaseLLM.generate_prompt\u001B[0;34m(self, prompts, stop, callbacks)\u001B[0m\n\u001B[1;32m    127\u001B[0m \u001B[38;5;28;01mdef\u001B[39;00m \u001B[38;5;21mgenerate_prompt\u001B[39m(\n\u001B[1;32m    128\u001B[0m     \u001B[38;5;28mself\u001B[39m,\n\u001B[1;32m    129\u001B[0m     prompts: List[PromptValue],\n\u001B[1;32m    130\u001B[0m     stop: Optional[List[\u001B[38;5;28mstr\u001B[39m]] \u001B[38;5;241m=\u001B[39m \u001B[38;5;28;01mNone\u001B[39;00m,\n\u001B[1;32m    131\u001B[0m     callbacks: Callbacks \u001B[38;5;241m=\u001B[39m \u001B[38;5;28;01mNone\u001B[39;00m,\n\u001B[1;32m    132\u001B[0m ) \u001B[38;5;241m-\u001B[39m\u001B[38;5;241m>\u001B[39m LLMResult:\n\u001B[1;32m    133\u001B[0m     prompt_strings \u001B[38;5;241m=\u001B[39m [p\u001B[38;5;241m.\u001B[39mto_string() \u001B[38;5;28;01mfor\u001B[39;00m p \u001B[38;5;129;01min\u001B[39;00m prompts]\n\u001B[0;32m--> 134\u001B[0m     \u001B[38;5;28;01mreturn\u001B[39;00m \u001B[38;5;28;43mself\u001B[39;49m\u001B[38;5;241;43m.\u001B[39;49m\u001B[43mgenerate\u001B[49m\u001B[43m(\u001B[49m\u001B[43mprompt_strings\u001B[49m\u001B[43m,\u001B[49m\u001B[43m \u001B[49m\u001B[43mstop\u001B[49m\u001B[38;5;241;43m=\u001B[39;49m\u001B[43mstop\u001B[49m\u001B[43m,\u001B[49m\u001B[43m \u001B[49m\u001B[43mcallbacks\u001B[49m\u001B[38;5;241;43m=\u001B[39;49m\u001B[43mcallbacks\u001B[49m\u001B[43m)\u001B[49m\n\nFile \u001B[0;32m/databricks/python/lib/python3.10/site-packages/langchain/llms/base.py:191\u001B[0m, in \u001B[0;36mBaseLLM.generate\u001B[0;34m(self, prompts, stop, callbacks)\u001B[0m\n\u001B[1;32m    189\u001B[0m \u001B[38;5;28;01mexcept\u001B[39;00m (\u001B[38;5;167;01mKeyboardInterrupt\u001B[39;00m, \u001B[38;5;167;01mException\u001B[39;00m) \u001B[38;5;28;01mas\u001B[39;00m e:\n\u001B[1;32m    190\u001B[0m     run_manager\u001B[38;5;241m.\u001B[39mon_llm_error(e)\n\u001B[0;32m--> 191\u001B[0m     \u001B[38;5;28;01mraise\u001B[39;00m e\n\u001B[1;32m    192\u001B[0m run_manager\u001B[38;5;241m.\u001B[39mon_llm_end(output)\n\u001B[1;32m    193\u001B[0m \u001B[38;5;28;01mreturn\u001B[39;00m output\n\nFile \u001B[0;32m/databricks/python/lib/python3.10/site-packages/langchain/llms/base.py:185\u001B[0m, in \u001B[0;36mBaseLLM.generate\u001B[0;34m(self, prompts, stop, callbacks)\u001B[0m\n\u001B[1;32m    180\u001B[0m run_manager \u001B[38;5;241m=\u001B[39m callback_manager\u001B[38;5;241m.\u001B[39mon_llm_start(\n\u001B[1;32m    181\u001B[0m     {\u001B[38;5;124m\"\u001B[39m\u001B[38;5;124mname\u001B[39m\u001B[38;5;124m\"\u001B[39m: \u001B[38;5;28mself\u001B[39m\u001B[38;5;241m.\u001B[39m\u001B[38;5;18m__class__\u001B[39m\u001B[38;5;241m.\u001B[39m\u001B[38;5;18m__name__\u001B[39m}, prompts, invocation_params\u001B[38;5;241m=\u001B[39mparams\n\u001B[1;32m    182\u001B[0m )\n\u001B[1;32m    183\u001B[0m \u001B[38;5;28;01mtry\u001B[39;00m:\n\u001B[1;32m    184\u001B[0m     output \u001B[38;5;241m=\u001B[39m (\n\u001B[0;32m--> 185\u001B[0m         \u001B[38;5;28;43mself\u001B[39;49m\u001B[38;5;241;43m.\u001B[39;49m\u001B[43m_generate\u001B[49m\u001B[43m(\u001B[49m\u001B[43mprompts\u001B[49m\u001B[43m,\u001B[49m\u001B[43m \u001B[49m\u001B[43mstop\u001B[49m\u001B[38;5;241;43m=\u001B[39;49m\u001B[43mstop\u001B[49m\u001B[43m,\u001B[49m\u001B[43m \u001B[49m\u001B[43mrun_manager\u001B[49m\u001B[38;5;241;43m=\u001B[39;49m\u001B[43mrun_manager\u001B[49m\u001B[43m)\u001B[49m\n\u001B[1;32m    186\u001B[0m         \u001B[38;5;28;01mif\u001B[39;00m new_arg_supported\n\u001B[1;32m    187\u001B[0m         \u001B[38;5;28;01melse\u001B[39;00m \u001B[38;5;28mself\u001B[39m\u001B[38;5;241m.\u001B[39m_generate(prompts, stop\u001B[38;5;241m=\u001B[39mstop)\n\u001B[1;32m    188\u001B[0m     )\n\u001B[1;32m    189\u001B[0m \u001B[38;5;28;01mexcept\u001B[39;00m (\u001B[38;5;167;01mKeyboardInterrupt\u001B[39;00m, \u001B[38;5;167;01mException\u001B[39;00m) \u001B[38;5;28;01mas\u001B[39;00m e:\n\u001B[1;32m    190\u001B[0m     run_manager\u001B[38;5;241m.\u001B[39mon_llm_error(e)\n\nFile \u001B[0;32m/databricks/python/lib/python3.10/site-packages/langchain/llms/base.py:436\u001B[0m, in \u001B[0;36mLLM._generate\u001B[0;34m(self, prompts, stop, run_manager)\u001B[0m\n\u001B[1;32m    433\u001B[0m new_arg_supported \u001B[38;5;241m=\u001B[39m inspect\u001B[38;5;241m.\u001B[39msignature(\u001B[38;5;28mself\u001B[39m\u001B[38;5;241m.\u001B[39m_call)\u001B[38;5;241m.\u001B[39mparameters\u001B[38;5;241m.\u001B[39mget(\u001B[38;5;124m\"\u001B[39m\u001B[38;5;124mrun_manager\u001B[39m\u001B[38;5;124m\"\u001B[39m)\n\u001B[1;32m    434\u001B[0m \u001B[38;5;28;01mfor\u001B[39;00m prompt \u001B[38;5;129;01min\u001B[39;00m prompts:\n\u001B[1;32m    435\u001B[0m     text \u001B[38;5;241m=\u001B[39m (\n\u001B[0;32m--> 436\u001B[0m         \u001B[38;5;28;43mself\u001B[39;49m\u001B[38;5;241;43m.\u001B[39;49m\u001B[43m_call\u001B[49m\u001B[43m(\u001B[49m\u001B[43mprompt\u001B[49m\u001B[43m,\u001B[49m\u001B[43m \u001B[49m\u001B[43mstop\u001B[49m\u001B[38;5;241;43m=\u001B[39;49m\u001B[43mstop\u001B[49m\u001B[43m,\u001B[49m\u001B[43m \u001B[49m\u001B[43mrun_manager\u001B[49m\u001B[38;5;241;43m=\u001B[39;49m\u001B[43mrun_manager\u001B[49m\u001B[43m)\u001B[49m\n\u001B[1;32m    437\u001B[0m         \u001B[38;5;28;01mif\u001B[39;00m new_arg_supported\n\u001B[1;32m    438\u001B[0m         \u001B[38;5;28;01melse\u001B[39;00m \u001B[38;5;28mself\u001B[39m\u001B[38;5;241m.\u001B[39m_call(prompt, stop\u001B[38;5;241m=\u001B[39mstop)\n\u001B[1;32m    439\u001B[0m     )\n\u001B[1;32m    440\u001B[0m     generations\u001B[38;5;241m.\u001B[39mappend([Generation(text\u001B[38;5;241m=\u001B[39mtext)])\n\u001B[1;32m    441\u001B[0m \u001B[38;5;28;01mreturn\u001B[39;00m LLMResult(generations\u001B[38;5;241m=\u001B[39mgenerations)\n\nFile \u001B[0;32m/databricks/python/lib/python3.10/site-packages/langchain/llms/mosaicml.py:164\u001B[0m, in \u001B[0;36mMosaicML._call\u001B[0;34m(self, prompt, stop, run_manager, is_retry)\u001B[0m\n\u001B[1;32m    162\u001B[0m     generated_text \u001B[38;5;241m=\u001B[39m parsed_response[\u001B[38;5;124m\"\u001B[39m\u001B[38;5;124mdata\u001B[39m\u001B[38;5;124m\"\u001B[39m]\n\u001B[1;32m    163\u001B[0m \u001B[38;5;28;01mexcept\u001B[39;00m requests\u001B[38;5;241m.\u001B[39mexceptions\u001B[38;5;241m.\u001B[39mJSONDecodeError \u001B[38;5;28;01mas\u001B[39;00m e:\n\u001B[0;32m--> 164\u001B[0m     \u001B[38;5;28;01mraise\u001B[39;00m \u001B[38;5;167;01mValueError\u001B[39;00m(\n\u001B[1;32m    165\u001B[0m         \u001B[38;5;124mf\u001B[39m\u001B[38;5;124m\"\u001B[39m\u001B[38;5;124mError raised by inference API: \u001B[39m\u001B[38;5;132;01m{\u001B[39;00me\u001B[38;5;132;01m}\u001B[39;00m\u001B[38;5;124m.\u001B[39m\u001B[38;5;130;01m\\n\u001B[39;00m\u001B[38;5;124mResponse: \u001B[39m\u001B[38;5;132;01m{\u001B[39;00mresponse\u001B[38;5;241m.\u001B[39mtext\u001B[38;5;132;01m}\u001B[39;00m\u001B[38;5;124m\"\u001B[39m\n\u001B[1;32m    166\u001B[0m     )\n\u001B[1;32m    168\u001B[0m text \u001B[38;5;241m=\u001B[39m generated_text[\u001B[38;5;241m0\u001B[39m][\u001B[38;5;28mlen\u001B[39m(prompt) :]\n\u001B[1;32m    170\u001B[0m \u001B[38;5;66;03m# TODO: replace when MosaicML supports custom stop tokens natively\u001B[39;00m\n\n\u001B[0;31mValueError\u001B[0m: Error raised by inference API: Expecting value: line 1 column 1 (char 0).\nResponse: Bad request: inputs must be non-empty\n",
       "errorSummary": "<span class='ansi-red-fg'>ValueError</span>: Error raised by inference API: Expecting value: line 1 column 1 (char 0).\nResponse: Bad request: inputs must be non-empty\n",
       "errorTraceType": "ansi",
       "metadata": {},
       "type": "ipynbError"
      }
     },
     "output_type": "display_data"
    }
   ],
   "source": [
    "question = \"एचडीएफसी बैंक में खाता खोलने की प्रक्रिया क्या है? हिंदी में उत्तर दीजिए?\"\n",
    "\n",
    "llm_chain.run(question)"
   ]
  },
  {
   "cell_type": "code",
   "execution_count": 0,
   "metadata": {
    "application/vnd.databricks.v1+cell": {
     "cellMetadata": {
      "byteLimit": 2048000,
      "rowLimit": 10000
     },
     "inputWidgets": {},
     "nuid": "9bc662c0-b2e4-42dc-bcae-e11eb6bdd2d7",
     "showTitle": false,
     "title": ""
    }
   },
   "outputs": [
    {
     "output_type": "stream",
     "name": "stdout",
     "output_type": "stream",
     "text": [
      "\u001B[43mNote: you may need to restart the kernel using dbutils.library.restartPython() to use updated packages.\u001B[0m\nCollecting mlflow\n  Downloading mlflow-2.8.1-py3-none-any.whl (19.0 MB)\n     ━━━━━━━━━━━━━━━━━━━━━━━━━━━━━━━━━━━━━━━━ 19.0/19.0 MB 48.8 MB/s eta 0:00:00\nRequirement already satisfied: importlib-metadata!=4.7.0,<7,>=3.7.0 in /databricks/python3/lib/python3.10/site-packages (from mlflow) (4.11.3)\nRequirement already satisfied: sqlparse<1,>=0.4.0 in /databricks/python3/lib/python3.10/site-packages (from mlflow) (0.4.2)\nCollecting querystring-parser<2\n  Downloading querystring_parser-1.2.4-py2.py3-none-any.whl (7.9 kB)\nRequirement already satisfied: pytz<2024 in /databricks/python3/lib/python3.10/site-packages (from mlflow) (2022.1)\nRequirement already satisfied: gitpython<4,>=2.1.0 in /databricks/python3/lib/python3.10/site-packages (from mlflow) (3.1.27)\nRequirement already satisfied: pyarrow<15,>=4.0.0 in /databricks/python3/lib/python3.10/site-packages (from mlflow) (8.0.0)\nRequirement already satisfied: click<9,>=7.0 in /databricks/python3/lib/python3.10/site-packages (from mlflow) (8.0.4)\nCollecting alembic!=1.10.0,<2\n  Downloading alembic-1.12.1-py3-none-any.whl (226 kB)\n     ━━━━━━━━━━━━━━━━━━━━━━━━━━━━━━━━━━━━━━ 226.8/226.8 kB 26.7 MB/s eta 0:00:00\nRequirement already satisfied: requests<3,>=2.17.3 in /databricks/python3/lib/python3.10/site-packages (from mlflow) (2.28.1)\nRequirement already satisfied: scikit-learn<2 in /databricks/python3/lib/python3.10/site-packages (from mlflow) (1.1.1)\nCollecting docker<7,>=4.0.0\n  Downloading docker-6.1.3-py3-none-any.whl (148 kB)\n     ━━━━━━━━━━━━━━━━━━━━━━━━━━━━━━━━━━━━━━ 148.1/148.1 kB 22.8 MB/s eta 0:00:00\nRequirement already satisfied: markdown<4,>=3.3 in /databricks/python3/lib/python3.10/site-packages (from mlflow) (3.3.4)\nRequirement already satisfied: entrypoints<1 in /databricks/python3/lib/python3.10/site-packages (from mlflow) (0.4)\nRequirement already satisfied: packaging<24 in /databricks/python3/lib/python3.10/site-packages (from mlflow) (21.3)\nRequirement already satisfied: protobuf<5,>=3.12.0 in /databricks/python3/lib/python3.10/site-packages (from mlflow) (3.19.4)\nRequirement already satisfied: pyyaml<7,>=5.1 in /databricks/python3/lib/python3.10/site-packages (from mlflow) (6.0)\nRequirement already satisfied: scipy<2 in /databricks/python3/lib/python3.10/site-packages (from mlflow) (1.9.1)\nRequirement already satisfied: matplotlib<4 in /databricks/python3/lib/python3.10/site-packages (from mlflow) (3.5.2)\nRequirement already satisfied: pandas<3 in /databricks/python3/lib/python3.10/site-packages (from mlflow) (1.4.4)\nRequirement already satisfied: gunicorn<22 in /databricks/python3/lib/python3.10/site-packages (from mlflow) (20.1.0)\nRequirement already satisfied: numpy<2 in /databricks/python3/lib/python3.10/site-packages (from mlflow) (1.21.5)\nRequirement already satisfied: Flask<4 in /databricks/python3/lib/python3.10/site-packages (from mlflow) (1.1.2+db1)\nRequirement already satisfied: Jinja2<4,>=2.11 in /databricks/python3/lib/python3.10/site-packages (from mlflow) (2.11.3)\nRequirement already satisfied: databricks-cli<1,>=0.8.7 in /databricks/python3/lib/python3.10/site-packages (from mlflow) (0.17.7)\nRequirement already satisfied: sqlalchemy<3,>=1.4.0 in /databricks/python3/lib/python3.10/site-packages (from mlflow) (1.4.39)\nRequirement already satisfied: cloudpickle<3 in /databricks/python3/lib/python3.10/site-packages (from mlflow) (2.0.0)\nRequirement already satisfied: typing-extensions>=4 in /databricks/python3/lib/python3.10/site-packages (from alembic!=1.10.0,<2->mlflow) (4.3.0)\nRequirement already satisfied: Mako in /databricks/python3/lib/python3.10/site-packages (from alembic!=1.10.0,<2->mlflow) (1.2.0)\nRequirement already satisfied: urllib3<2.0.0,>=1.26.7 in /databricks/python3/lib/python3.10/site-packages (from databricks-cli<1,>=0.8.7->mlflow) (1.26.11)\nRequirement already satisfied: oauthlib>=3.1.0 in /usr/lib/python3/dist-packages (from databricks-cli<1,>=0.8.7->mlflow) (3.2.0)\nRequirement already satisfied: six>=1.10.0 in /usr/lib/python3/dist-packages (from databricks-cli<1,>=0.8.7->mlflow) (1.16.0)\nRequirement already satisfied: pyjwt>=1.7.0 in /usr/lib/python3/dist-packages (from databricks-cli<1,>=0.8.7->mlflow) (2.3.0)\nRequirement already satisfied: tabulate>=0.7.7 in /databricks/python3/lib/python3.10/site-packages (from databricks-cli<1,>=0.8.7->mlflow) (0.8.10)\nRequirement already satisfied: websocket-client>=0.32.0 in /databricks/python3/lib/python3.10/site-packages (from docker<7,>=4.0.0->mlflow) (0.58.0)\nRequirement already satisfied: Werkzeug>=0.15 in /databricks/python3/lib/python3.10/site-packages (from Flask<4->mlflow) (2.0.3)\nRequirement already satisfied: itsdangerous>=0.24 in /databricks/python3/lib/python3.10/site-packages (from Flask<4->mlflow) (2.0.1)\nRequirement already satisfied: gitdb<5,>=4.0.1 in /databricks/python3/lib/python3.10/site-packages (from gitpython<4,>=2.1.0->mlflow) (4.0.10)\nRequirement already satisfied: setuptools>=3.0 in /databricks/python3/lib/python3.10/site-packages (from gunicorn<22->mlflow) (63.4.1)\nRequirement already satisfied: zipp>=0.5 in /databricks/python3/lib/python3.10/site-packages (from importlib-metadata!=4.7.0,<7,>=3.7.0->mlflow) (3.8.0)\nRequirement already satisfied: MarkupSafe>=0.23 in /databricks/python3/lib/python3.10/site-packages (from Jinja2<4,>=2.11->mlflow) (2.0.1)\nRequirement already satisfied: kiwisolver>=1.0.1 in /databricks/python3/lib/python3.10/site-packages (from matplotlib<4->mlflow) (1.4.2)\nRequirement already satisfied: python-dateutil>=2.7 in /databricks/python3/lib/python3.10/site-packages (from matplotlib<4->mlflow) (2.8.2)\nRequirement already satisfied: pyparsing>=2.2.1 in /databricks/python3/lib/python3.10/site-packages (from matplotlib<4->mlflow) (3.0.9)\nRequirement already satisfied: fonttools>=4.22.0 in /databricks/python3/lib/python3.10/site-packages (from matplotlib<4->mlflow) (4.25.0)\nRequirement already satisfied: pillow>=6.2.0 in /databricks/python3/lib/python3.10/site-packages (from matplotlib<4->mlflow) (9.2.0)\nRequirement already satisfied: cycler>=0.10 in /databricks/python3/lib/python3.10/site-packages (from matplotlib<4->mlflow) (0.11.0)\nRequirement already satisfied: certifi>=2017.4.17 in /databricks/python3/lib/python3.10/site-packages (from requests<3,>=2.17.3->mlflow) (2022.9.14)\nRequirement already satisfied: charset-normalizer<3,>=2 in /databricks/python3/lib/python3.10/site-packages (from requests<3,>=2.17.3->mlflow) (2.0.4)\nRequirement already satisfied: idna<4,>=2.5 in /databricks/python3/lib/python3.10/site-packages (from requests<3,>=2.17.3->mlflow) (3.3)\nRequirement already satisfied: threadpoolctl>=2.0.0 in /databricks/python3/lib/python3.10/site-packages (from scikit-learn<2->mlflow) (2.2.0)\nRequirement already satisfied: joblib>=1.0.0 in /databricks/python3/lib/python3.10/site-packages (from scikit-learn<2->mlflow) (1.2.0)\nRequirement already satisfied: greenlet!=0.4.17 in /databricks/python3/lib/python3.10/site-packages (from sqlalchemy<3,>=1.4.0->mlflow) (1.1.1)\nRequirement already satisfied: smmap<6,>=3.0.1 in /databricks/python3/lib/python3.10/site-packages (from gitdb<5,>=4.0.1->gitpython<4,>=2.1.0->mlflow) (5.0.0)\nInstalling collected packages: querystring-parser, docker, alembic, mlflow\nSuccessfully installed alembic-1.12.1 docker-6.1.3 mlflow-2.8.1 querystring-parser-1.2.4\n\u001B[43mNote: you may need to restart the kernel using dbutils.library.restartPython() to use updated packages.\u001B[0m\n"
     ]
    }
   ],
   "source": [
    "%pip install mlflow"
   ]
  },
  {
   "cell_type": "code",
   "execution_count": 0,
   "metadata": {
    "application/vnd.databricks.v1+cell": {
     "cellMetadata": {
      "byteLimit": 2048000,
      "rowLimit": 10000
     },
     "inputWidgets": {},
     "nuid": "5db2e1e9-6583-47ba-aed7-e1995a4b10fb",
     "showTitle": false,
     "title": ""
    }
   },
   "outputs": [],
   "source": [
    "dbutils.library.restartPython()"
   ]
  },
  {
   "cell_type": "code",
   "execution_count": 0,
   "metadata": {
    "application/vnd.databricks.v1+cell": {
     "cellMetadata": {
      "byteLimit": 2048000,
      "rowLimit": 10000
     },
     "inputWidgets": {},
     "nuid": "8c3bd444-00f0-4b42-8a0a-95202127021f",
     "showTitle": false,
     "title": ""
    }
   },
   "outputs": [
    {
     "output_type": "display_data",
     "data": {
      "text/plain": [
       "\u001B[0;31m---------------------------------------------------------------------------\u001B[0m\n",
       "\u001B[0;31mMlflowException\u001B[0m                           Traceback (most recent call last)\n",
       "File \u001B[0;32m<command-3034800463673168>:4\u001B[0m\n",
       "\u001B[1;32m      1\u001B[0m \u001B[38;5;28;01mfrom\u001B[39;00m \u001B[38;5;21;01mmlflow\u001B[39;00m\u001B[38;5;21;01m.\u001B[39;00m\u001B[38;5;21;01mgateway\u001B[39;00m \u001B[38;5;28;01mimport\u001B[39;00m create_route\n",
       "\u001B[1;32m      3\u001B[0m mosaicml_api_key \u001B[38;5;241m=\u001B[39m \u001B[38;5;124m\"\u001B[39m\u001B[38;5;124m[REDACTED]\u001B[39m\u001B[38;5;124m\"\u001B[39m\n",
       "\u001B[0;32m----> 4\u001B[0m create_route(\n",
       "\u001B[1;32m      5\u001B[0m     \u001B[38;5;124m\"\u001B[39m\u001B[38;5;124mcompletion\u001B[39m\u001B[38;5;124m\"\u001B[39m,\n",
       "\u001B[1;32m      6\u001B[0m     \u001B[38;5;124m\"\u001B[39m\u001B[38;5;124mllm/v1/completions\u001B[39m\u001B[38;5;124m\"\u001B[39m,\n",
       "\u001B[1;32m      7\u001B[0m     {\n",
       "\u001B[1;32m      8\u001B[0m         \u001B[38;5;124m\"\u001B[39m\u001B[38;5;124mname\u001B[39m\u001B[38;5;124m\"\u001B[39m: \u001B[38;5;124m\"\u001B[39m\u001B[38;5;124mllama2-70b-chat\u001B[39m\u001B[38;5;124m\"\u001B[39m,\n",
       "\u001B[1;32m      9\u001B[0m         \u001B[38;5;124m\"\u001B[39m\u001B[38;5;124mprovider\u001B[39m\u001B[38;5;124m\"\u001B[39m: \u001B[38;5;124m\"\u001B[39m\u001B[38;5;124mmosaicml\u001B[39m\u001B[38;5;124m\"\u001B[39m,\n",
       "\u001B[1;32m     10\u001B[0m         \u001B[38;5;124m\"\u001B[39m\u001B[38;5;124mmosaicml_config\u001B[39m\u001B[38;5;124m\"\u001B[39m: {\n",
       "\u001B[1;32m     11\u001B[0m             \u001B[38;5;124m\"\u001B[39m\u001B[38;5;124mmosaicml_api_key\u001B[39m\u001B[38;5;124m\"\u001B[39m: mosaicml_api_key,\n",
       "\u001B[1;32m     12\u001B[0m         },\n",
       "\u001B[1;32m     13\u001B[0m     },\n",
       "\u001B[1;32m     14\u001B[0m )\n",
       "\n",
       "File \u001B[0;32m/local_disk0/.ephemeral_nfs/envs/pythonEnv-badd8eaa-147f-40fa-9616-8dc0d4d53d5a/lib/python3.10/site-packages/mlflow/gateway/fluent.py:105\u001B[0m, in \u001B[0;36mcreate_route\u001B[0;34m(name, route_type, model)\u001B[0m\n",
       "\u001B[1;32m     48\u001B[0m \u001B[38;5;129m@experimental\u001B[39m\n",
       "\u001B[1;32m     49\u001B[0m \u001B[38;5;28;01mdef\u001B[39;00m \u001B[38;5;21mcreate_route\u001B[39m(\n",
       "\u001B[1;32m     50\u001B[0m     name: \u001B[38;5;28mstr\u001B[39m, route_type: Optional[\u001B[38;5;28mstr\u001B[39m] \u001B[38;5;241m=\u001B[39m \u001B[38;5;28;01mNone\u001B[39;00m, model: Optional[Dict[\u001B[38;5;28mstr\u001B[39m, Any]] \u001B[38;5;241m=\u001B[39m \u001B[38;5;28;01mNone\u001B[39;00m\n",
       "\u001B[1;32m     51\u001B[0m ) \u001B[38;5;241m-\u001B[39m\u001B[38;5;241m>\u001B[39m Route:\n",
       "\u001B[1;32m     52\u001B[0m \u001B[38;5;250m    \u001B[39m\u001B[38;5;124;03m\"\"\"\u001B[39;00m\n",
       "\u001B[1;32m     53\u001B[0m \u001B[38;5;124;03m    Create a new route in the Gateway.\u001B[39;00m\n",
       "\u001B[1;32m     54\u001B[0m \n",
       "\u001B[0;32m   (...)\u001B[0m\n",
       "\u001B[1;32m    103\u001B[0m \n",
       "\u001B[1;32m    104\u001B[0m \u001B[38;5;124;03m    \"\"\"\u001B[39;00m\n",
       "\u001B[0;32m--> 105\u001B[0m     \u001B[38;5;28;01mreturn\u001B[39;00m \u001B[43mMlflowGatewayClient\u001B[49m\u001B[43m(\u001B[49m\u001B[43m)\u001B[49m\u001B[38;5;241;43m.\u001B[39;49m\u001B[43mcreate_route\u001B[49m\u001B[43m(\u001B[49m\u001B[43mname\u001B[49m\u001B[43m,\u001B[49m\u001B[43m \u001B[49m\u001B[43mroute_type\u001B[49m\u001B[43m,\u001B[49m\u001B[43m \u001B[49m\u001B[43mmodel\u001B[49m\u001B[43m)\u001B[49m\n",
       "\n",
       "File \u001B[0;32m/local_disk0/.ephemeral_nfs/envs/pythonEnv-badd8eaa-147f-40fa-9616-8dc0d4d53d5a/lib/python3.10/site-packages/mlflow/gateway/client.py:208\u001B[0m, in \u001B[0;36mMlflowGatewayClient.create_route\u001B[0;34m(self, name, route_type, model)\u001B[0m\n",
       "\u001B[1;32m    152\u001B[0m \u001B[38;5;250m\u001B[39m\u001B[38;5;124;03m\"\"\"\u001B[39;00m\n",
       "\u001B[1;32m    153\u001B[0m \u001B[38;5;124;03mCreate a new route in the Gateway.\u001B[39;00m\n",
       "\u001B[1;32m    154\u001B[0m \n",
       "\u001B[0;32m   (...)\u001B[0m\n",
       "\u001B[1;32m    205\u001B[0m \n",
       "\u001B[1;32m    206\u001B[0m \u001B[38;5;124;03m\"\"\"\u001B[39;00m\n",
       "\u001B[1;32m    207\u001B[0m \u001B[38;5;28;01mif\u001B[39;00m \u001B[38;5;129;01mnot\u001B[39;00m \u001B[38;5;28mself\u001B[39m\u001B[38;5;241m.\u001B[39m_is_databricks_host():\n",
       "\u001B[0;32m--> 208\u001B[0m     \u001B[38;5;28;01mraise\u001B[39;00m MlflowException(\n",
       "\u001B[1;32m    209\u001B[0m         \u001B[38;5;124m\"\u001B[39m\u001B[38;5;124mThe create_route API is only available when running within \u001B[39m\u001B[38;5;124m\"\u001B[39m\n",
       "\u001B[1;32m    210\u001B[0m         \u001B[38;5;124m\"\u001B[39m\u001B[38;5;124mDatabricks. Route creation is handled through creating a \u001B[39m\u001B[38;5;124m\"\u001B[39m\n",
       "\u001B[1;32m    211\u001B[0m         \u001B[38;5;124m\"\u001B[39m\u001B[38;5;124mconfiguration YAML file during startup or through updating a \u001B[39m\u001B[38;5;124m\"\u001B[39m\n",
       "\u001B[1;32m    212\u001B[0m         \u001B[38;5;124m\"\u001B[39m\u001B[38;5;124mrunning Gateway server.\u001B[39m\u001B[38;5;124m\"\u001B[39m,\n",
       "\u001B[1;32m    213\u001B[0m         error_code\u001B[38;5;241m=\u001B[39mBAD_REQUEST,\n",
       "\u001B[1;32m    214\u001B[0m     )\n",
       "\u001B[1;32m    215\u001B[0m payload \u001B[38;5;241m=\u001B[39m {\n",
       "\u001B[1;32m    216\u001B[0m     \u001B[38;5;124m\"\u001B[39m\u001B[38;5;124mname\u001B[39m\u001B[38;5;124m\"\u001B[39m: name,\n",
       "\u001B[1;32m    217\u001B[0m     \u001B[38;5;124m\"\u001B[39m\u001B[38;5;124mroute_type\u001B[39m\u001B[38;5;124m\"\u001B[39m: route_type,\n",
       "\u001B[1;32m    218\u001B[0m     \u001B[38;5;124m\"\u001B[39m\u001B[38;5;124mmodel\u001B[39m\u001B[38;5;124m\"\u001B[39m: model,\n",
       "\u001B[1;32m    219\u001B[0m }\n",
       "\u001B[1;32m    220\u001B[0m response \u001B[38;5;241m=\u001B[39m \u001B[38;5;28mself\u001B[39m\u001B[38;5;241m.\u001B[39m_call_endpoint(\n",
       "\u001B[1;32m    221\u001B[0m     \u001B[38;5;124m\"\u001B[39m\u001B[38;5;124mPOST\u001B[39m\u001B[38;5;124m\"\u001B[39m, MLFLOW_GATEWAY_CRUD_ROUTE_BASE, json\u001B[38;5;241m.\u001B[39mdumps(payload)\n",
       "\u001B[1;32m    222\u001B[0m )\u001B[38;5;241m.\u001B[39mjson()\n",
       "\n",
       "\u001B[0;31mMlflowException\u001B[0m: The create_route API is only available when running within Databricks. Route creation is handled through creating a configuration YAML file during startup or through updating a running Gateway server."
      ]
     },
     "metadata": {
      "application/vnd.databricks.v1+output": {
       "arguments": {},
       "data": "\u001B[0;31m---------------------------------------------------------------------------\u001B[0m\n\u001B[0;31mMlflowException\u001B[0m                           Traceback (most recent call last)\nFile \u001B[0;32m<command-3034800463673168>:4\u001B[0m\n\u001B[1;32m      1\u001B[0m \u001B[38;5;28;01mfrom\u001B[39;00m \u001B[38;5;21;01mmlflow\u001B[39;00m\u001B[38;5;21;01m.\u001B[39;00m\u001B[38;5;21;01mgateway\u001B[39;00m \u001B[38;5;28;01mimport\u001B[39;00m create_route\n\u001B[1;32m      3\u001B[0m mosaicml_api_key \u001B[38;5;241m=\u001B[39m \u001B[38;5;124m\"\u001B[39m\u001B[38;5;124m[REDACTED]\u001B[39m\u001B[38;5;124m\"\u001B[39m\n\u001B[0;32m----> 4\u001B[0m create_route(\n\u001B[1;32m      5\u001B[0m     \u001B[38;5;124m\"\u001B[39m\u001B[38;5;124mcompletion\u001B[39m\u001B[38;5;124m\"\u001B[39m,\n\u001B[1;32m      6\u001B[0m     \u001B[38;5;124m\"\u001B[39m\u001B[38;5;124mllm/v1/completions\u001B[39m\u001B[38;5;124m\"\u001B[39m,\n\u001B[1;32m      7\u001B[0m     {\n\u001B[1;32m      8\u001B[0m         \u001B[38;5;124m\"\u001B[39m\u001B[38;5;124mname\u001B[39m\u001B[38;5;124m\"\u001B[39m: \u001B[38;5;124m\"\u001B[39m\u001B[38;5;124mllama2-70b-chat\u001B[39m\u001B[38;5;124m\"\u001B[39m,\n\u001B[1;32m      9\u001B[0m         \u001B[38;5;124m\"\u001B[39m\u001B[38;5;124mprovider\u001B[39m\u001B[38;5;124m\"\u001B[39m: \u001B[38;5;124m\"\u001B[39m\u001B[38;5;124mmosaicml\u001B[39m\u001B[38;5;124m\"\u001B[39m,\n\u001B[1;32m     10\u001B[0m         \u001B[38;5;124m\"\u001B[39m\u001B[38;5;124mmosaicml_config\u001B[39m\u001B[38;5;124m\"\u001B[39m: {\n\u001B[1;32m     11\u001B[0m             \u001B[38;5;124m\"\u001B[39m\u001B[38;5;124mmosaicml_api_key\u001B[39m\u001B[38;5;124m\"\u001B[39m: mosaicml_api_key,\n\u001B[1;32m     12\u001B[0m         },\n\u001B[1;32m     13\u001B[0m     },\n\u001B[1;32m     14\u001B[0m )\n\nFile \u001B[0;32m/local_disk0/.ephemeral_nfs/envs/pythonEnv-badd8eaa-147f-40fa-9616-8dc0d4d53d5a/lib/python3.10/site-packages/mlflow/gateway/fluent.py:105\u001B[0m, in \u001B[0;36mcreate_route\u001B[0;34m(name, route_type, model)\u001B[0m\n\u001B[1;32m     48\u001B[0m \u001B[38;5;129m@experimental\u001B[39m\n\u001B[1;32m     49\u001B[0m \u001B[38;5;28;01mdef\u001B[39;00m \u001B[38;5;21mcreate_route\u001B[39m(\n\u001B[1;32m     50\u001B[0m     name: \u001B[38;5;28mstr\u001B[39m, route_type: Optional[\u001B[38;5;28mstr\u001B[39m] \u001B[38;5;241m=\u001B[39m \u001B[38;5;28;01mNone\u001B[39;00m, model: Optional[Dict[\u001B[38;5;28mstr\u001B[39m, Any]] \u001B[38;5;241m=\u001B[39m \u001B[38;5;28;01mNone\u001B[39;00m\n\u001B[1;32m     51\u001B[0m ) \u001B[38;5;241m-\u001B[39m\u001B[38;5;241m>\u001B[39m Route:\n\u001B[1;32m     52\u001B[0m \u001B[38;5;250m    \u001B[39m\u001B[38;5;124;03m\"\"\"\u001B[39;00m\n\u001B[1;32m     53\u001B[0m \u001B[38;5;124;03m    Create a new route in the Gateway.\u001B[39;00m\n\u001B[1;32m     54\u001B[0m \n\u001B[0;32m   (...)\u001B[0m\n\u001B[1;32m    103\u001B[0m \n\u001B[1;32m    104\u001B[0m \u001B[38;5;124;03m    \"\"\"\u001B[39;00m\n\u001B[0;32m--> 105\u001B[0m     \u001B[38;5;28;01mreturn\u001B[39;00m \u001B[43mMlflowGatewayClient\u001B[49m\u001B[43m(\u001B[49m\u001B[43m)\u001B[49m\u001B[38;5;241;43m.\u001B[39;49m\u001B[43mcreate_route\u001B[49m\u001B[43m(\u001B[49m\u001B[43mname\u001B[49m\u001B[43m,\u001B[49m\u001B[43m \u001B[49m\u001B[43mroute_type\u001B[49m\u001B[43m,\u001B[49m\u001B[43m \u001B[49m\u001B[43mmodel\u001B[49m\u001B[43m)\u001B[49m\n\nFile \u001B[0;32m/local_disk0/.ephemeral_nfs/envs/pythonEnv-badd8eaa-147f-40fa-9616-8dc0d4d53d5a/lib/python3.10/site-packages/mlflow/gateway/client.py:208\u001B[0m, in \u001B[0;36mMlflowGatewayClient.create_route\u001B[0;34m(self, name, route_type, model)\u001B[0m\n\u001B[1;32m    152\u001B[0m \u001B[38;5;250m\u001B[39m\u001B[38;5;124;03m\"\"\"\u001B[39;00m\n\u001B[1;32m    153\u001B[0m \u001B[38;5;124;03mCreate a new route in the Gateway.\u001B[39;00m\n\u001B[1;32m    154\u001B[0m \n\u001B[0;32m   (...)\u001B[0m\n\u001B[1;32m    205\u001B[0m \n\u001B[1;32m    206\u001B[0m \u001B[38;5;124;03m\"\"\"\u001B[39;00m\n\u001B[1;32m    207\u001B[0m \u001B[38;5;28;01mif\u001B[39;00m \u001B[38;5;129;01mnot\u001B[39;00m \u001B[38;5;28mself\u001B[39m\u001B[38;5;241m.\u001B[39m_is_databricks_host():\n\u001B[0;32m--> 208\u001B[0m     \u001B[38;5;28;01mraise\u001B[39;00m MlflowException(\n\u001B[1;32m    209\u001B[0m         \u001B[38;5;124m\"\u001B[39m\u001B[38;5;124mThe create_route API is only available when running within \u001B[39m\u001B[38;5;124m\"\u001B[39m\n\u001B[1;32m    210\u001B[0m         \u001B[38;5;124m\"\u001B[39m\u001B[38;5;124mDatabricks. Route creation is handled through creating a \u001B[39m\u001B[38;5;124m\"\u001B[39m\n\u001B[1;32m    211\u001B[0m         \u001B[38;5;124m\"\u001B[39m\u001B[38;5;124mconfiguration YAML file during startup or through updating a \u001B[39m\u001B[38;5;124m\"\u001B[39m\n\u001B[1;32m    212\u001B[0m         \u001B[38;5;124m\"\u001B[39m\u001B[38;5;124mrunning Gateway server.\u001B[39m\u001B[38;5;124m\"\u001B[39m,\n\u001B[1;32m    213\u001B[0m         error_code\u001B[38;5;241m=\u001B[39mBAD_REQUEST,\n\u001B[1;32m    214\u001B[0m     )\n\u001B[1;32m    215\u001B[0m payload \u001B[38;5;241m=\u001B[39m {\n\u001B[1;32m    216\u001B[0m     \u001B[38;5;124m\"\u001B[39m\u001B[38;5;124mname\u001B[39m\u001B[38;5;124m\"\u001B[39m: name,\n\u001B[1;32m    217\u001B[0m     \u001B[38;5;124m\"\u001B[39m\u001B[38;5;124mroute_type\u001B[39m\u001B[38;5;124m\"\u001B[39m: route_type,\n\u001B[1;32m    218\u001B[0m     \u001B[38;5;124m\"\u001B[39m\u001B[38;5;124mmodel\u001B[39m\u001B[38;5;124m\"\u001B[39m: model,\n\u001B[1;32m    219\u001B[0m }\n\u001B[1;32m    220\u001B[0m response \u001B[38;5;241m=\u001B[39m \u001B[38;5;28mself\u001B[39m\u001B[38;5;241m.\u001B[39m_call_endpoint(\n\u001B[1;32m    221\u001B[0m     \u001B[38;5;124m\"\u001B[39m\u001B[38;5;124mPOST\u001B[39m\u001B[38;5;124m\"\u001B[39m, MLFLOW_GATEWAY_CRUD_ROUTE_BASE, json\u001B[38;5;241m.\u001B[39mdumps(payload)\n\u001B[1;32m    222\u001B[0m )\u001B[38;5;241m.\u001B[39mjson()\n\n\u001B[0;31mMlflowException\u001B[0m: The create_route API is only available when running within Databricks. Route creation is handled through creating a configuration YAML file during startup or through updating a running Gateway server.",
       "errorSummary": "<span class='ansi-red-fg'>MlflowException</span>: The create_route API is only available when running within Databricks. Route creation is handled through creating a configuration YAML file during startup or through updating a running Gateway server.",
       "errorTraceType": "ansi",
       "metadata": {},
       "type": "ipynbError"
      }
     },
     "output_type": "display_data"
    }
   ],
   "source": [
    "from mlflow.gateway import create_route\n",
    "\n",
    "mosaicml_api_key = \"30HUkJ.UEvkMW9tAyMS7v91L4-e-gA0r.MKC0GUBphZ.2y5\"\n",
    "create_route(\n",
    "    \"completion\",\n",
    "    \"llm/v1/completions\",\n",
    "    {\n",
    "        \"name\": \"llama2-70b-chat\",\n",
    "        \"provider\": \"mosaicml\",\n",
    "        \"mosaicml_config\": {\n",
    "            \"mosaicml_api_key\": mosaicml_api_key,\n",
    "        },\n",
    "    },\n",
    ")"
   ]
  },
  {
   "cell_type": "code",
   "execution_count": 0,
   "metadata": {
    "application/vnd.databricks.v1+cell": {
     "cellMetadata": {
      "byteLimit": 2048000,
      "rowLimit": 10000
     },
     "inputWidgets": {},
     "nuid": "f2347c94-b9e5-4eb7-9686-1b1d037bc123",
     "showTitle": false,
     "title": ""
    }
   },
   "outputs": [
    {
     "output_type": "display_data",
     "data": {
      "text/plain": [
       "\u001B[0;31m---------------------------------------------------------------------------\u001B[0m\n",
       "\u001B[0;31mMlflowException\u001B[0m                           Traceback (most recent call last)\n",
       "File \u001B[0;32m<command-3034800463673226>:10\u001B[0m\n",
       "\u001B[1;32m      7\u001B[0m os\u001B[38;5;241m.\u001B[39menviron[\u001B[38;5;124m'\u001B[39m\u001B[38;5;124mMLFLOW_GATEWAY_URI\u001B[39m\u001B[38;5;124m'\u001B[39m] \u001B[38;5;241m=\u001B[39m \u001B[38;5;124m\"\u001B[39m\u001B[38;5;124mhttp://my-gateway-server-url:8000\u001B[39m\u001B[38;5;124m\"\u001B[39m\n",
       "\u001B[1;32m      9\u001B[0m \u001B[38;5;66;03m# create the route\u001B[39;00m\n",
       "\u001B[0;32m---> 10\u001B[0m create_route(\n",
       "\u001B[1;32m     11\u001B[0m     \u001B[38;5;124m\"\u001B[39m\u001B[38;5;124mcompletion\u001B[39m\u001B[38;5;124m\"\u001B[39m,\n",
       "\u001B[1;32m     12\u001B[0m     \u001B[38;5;124m\"\u001B[39m\u001B[38;5;124mllm/v1/completions\u001B[39m\u001B[38;5;124m\"\u001B[39m,\n",
       "\u001B[1;32m     13\u001B[0m     {\n",
       "\u001B[1;32m     14\u001B[0m         \u001B[38;5;124m\"\u001B[39m\u001B[38;5;124mname\u001B[39m\u001B[38;5;124m\"\u001B[39m: \u001B[38;5;124m\"\u001B[39m\u001B[38;5;124mllama2-70b-chat\u001B[39m\u001B[38;5;124m\"\u001B[39m,\n",
       "\u001B[1;32m     15\u001B[0m         \u001B[38;5;124m\"\u001B[39m\u001B[38;5;124mprovider\u001B[39m\u001B[38;5;124m\"\u001B[39m: \u001B[38;5;124m\"\u001B[39m\u001B[38;5;124mmosaicml\u001B[39m\u001B[38;5;124m\"\u001B[39m,\n",
       "\u001B[1;32m     16\u001B[0m         \u001B[38;5;124m\"\u001B[39m\u001B[38;5;124mmosaicml_config\u001B[39m\u001B[38;5;124m\"\u001B[39m: {\n",
       "\u001B[1;32m     17\u001B[0m             \u001B[38;5;124m\"\u001B[39m\u001B[38;5;124mmosaicml_api_key\u001B[39m\u001B[38;5;124m\"\u001B[39m: mosaicml_api_key,\n",
       "\u001B[1;32m     18\u001B[0m         },\n",
       "\u001B[1;32m     19\u001B[0m     },\n",
       "\u001B[1;32m     20\u001B[0m )\n",
       "\n",
       "File \u001B[0;32m/local_disk0/.ephemeral_nfs/envs/pythonEnv-badd8eaa-147f-40fa-9616-8dc0d4d53d5a/lib/python3.10/site-packages/mlflow/gateway/fluent.py:105\u001B[0m, in \u001B[0;36mcreate_route\u001B[0;34m(name, route_type, model)\u001B[0m\n",
       "\u001B[1;32m     48\u001B[0m \u001B[38;5;129m@experimental\u001B[39m\n",
       "\u001B[1;32m     49\u001B[0m \u001B[38;5;28;01mdef\u001B[39;00m \u001B[38;5;21mcreate_route\u001B[39m(\n",
       "\u001B[1;32m     50\u001B[0m     name: \u001B[38;5;28mstr\u001B[39m, route_type: Optional[\u001B[38;5;28mstr\u001B[39m] \u001B[38;5;241m=\u001B[39m \u001B[38;5;28;01mNone\u001B[39;00m, model: Optional[Dict[\u001B[38;5;28mstr\u001B[39m, Any]] \u001B[38;5;241m=\u001B[39m \u001B[38;5;28;01mNone\u001B[39;00m\n",
       "\u001B[1;32m     51\u001B[0m ) \u001B[38;5;241m-\u001B[39m\u001B[38;5;241m>\u001B[39m Route:\n",
       "\u001B[1;32m     52\u001B[0m \u001B[38;5;250m    \u001B[39m\u001B[38;5;124;03m\"\"\"\u001B[39;00m\n",
       "\u001B[1;32m     53\u001B[0m \u001B[38;5;124;03m    Create a new route in the Gateway.\u001B[39;00m\n",
       "\u001B[1;32m     54\u001B[0m \n",
       "\u001B[0;32m   (...)\u001B[0m\n",
       "\u001B[1;32m    103\u001B[0m \n",
       "\u001B[1;32m    104\u001B[0m \u001B[38;5;124;03m    \"\"\"\u001B[39;00m\n",
       "\u001B[0;32m--> 105\u001B[0m     \u001B[38;5;28;01mreturn\u001B[39;00m \u001B[43mMlflowGatewayClient\u001B[49m\u001B[43m(\u001B[49m\u001B[43m)\u001B[49m\u001B[38;5;241;43m.\u001B[39;49m\u001B[43mcreate_route\u001B[49m\u001B[43m(\u001B[49m\u001B[43mname\u001B[49m\u001B[43m,\u001B[49m\u001B[43m \u001B[49m\u001B[43mroute_type\u001B[49m\u001B[43m,\u001B[49m\u001B[43m \u001B[49m\u001B[43mmodel\u001B[49m\u001B[43m)\u001B[49m\n",
       "\n",
       "File \u001B[0;32m/local_disk0/.ephemeral_nfs/envs/pythonEnv-badd8eaa-147f-40fa-9616-8dc0d4d53d5a/lib/python3.10/site-packages/mlflow/gateway/client.py:208\u001B[0m, in \u001B[0;36mMlflowGatewayClient.create_route\u001B[0;34m(self, name, route_type, model)\u001B[0m\n",
       "\u001B[1;32m    152\u001B[0m \u001B[38;5;250m\u001B[39m\u001B[38;5;124;03m\"\"\"\u001B[39;00m\n",
       "\u001B[1;32m    153\u001B[0m \u001B[38;5;124;03mCreate a new route in the Gateway.\u001B[39;00m\n",
       "\u001B[1;32m    154\u001B[0m \n",
       "\u001B[0;32m   (...)\u001B[0m\n",
       "\u001B[1;32m    205\u001B[0m \n",
       "\u001B[1;32m    206\u001B[0m \u001B[38;5;124;03m\"\"\"\u001B[39;00m\n",
       "\u001B[1;32m    207\u001B[0m \u001B[38;5;28;01mif\u001B[39;00m \u001B[38;5;129;01mnot\u001B[39;00m \u001B[38;5;28mself\u001B[39m\u001B[38;5;241m.\u001B[39m_is_databricks_host():\n",
       "\u001B[0;32m--> 208\u001B[0m     \u001B[38;5;28;01mraise\u001B[39;00m MlflowException(\n",
       "\u001B[1;32m    209\u001B[0m         \u001B[38;5;124m\"\u001B[39m\u001B[38;5;124mThe create_route API is only available when running within \u001B[39m\u001B[38;5;124m\"\u001B[39m\n",
       "\u001B[1;32m    210\u001B[0m         \u001B[38;5;124m\"\u001B[39m\u001B[38;5;124mDatabricks. Route creation is handled through creating a \u001B[39m\u001B[38;5;124m\"\u001B[39m\n",
       "\u001B[1;32m    211\u001B[0m         \u001B[38;5;124m\"\u001B[39m\u001B[38;5;124mconfiguration YAML file during startup or through updating a \u001B[39m\u001B[38;5;124m\"\u001B[39m\n",
       "\u001B[1;32m    212\u001B[0m         \u001B[38;5;124m\"\u001B[39m\u001B[38;5;124mrunning Gateway server.\u001B[39m\u001B[38;5;124m\"\u001B[39m,\n",
       "\u001B[1;32m    213\u001B[0m         error_code\u001B[38;5;241m=\u001B[39mBAD_REQUEST,\n",
       "\u001B[1;32m    214\u001B[0m     )\n",
       "\u001B[1;32m    215\u001B[0m payload \u001B[38;5;241m=\u001B[39m {\n",
       "\u001B[1;32m    216\u001B[0m     \u001B[38;5;124m\"\u001B[39m\u001B[38;5;124mname\u001B[39m\u001B[38;5;124m\"\u001B[39m: name,\n",
       "\u001B[1;32m    217\u001B[0m     \u001B[38;5;124m\"\u001B[39m\u001B[38;5;124mroute_type\u001B[39m\u001B[38;5;124m\"\u001B[39m: route_type,\n",
       "\u001B[1;32m    218\u001B[0m     \u001B[38;5;124m\"\u001B[39m\u001B[38;5;124mmodel\u001B[39m\u001B[38;5;124m\"\u001B[39m: model,\n",
       "\u001B[1;32m    219\u001B[0m }\n",
       "\u001B[1;32m    220\u001B[0m response \u001B[38;5;241m=\u001B[39m \u001B[38;5;28mself\u001B[39m\u001B[38;5;241m.\u001B[39m_call_endpoint(\n",
       "\u001B[1;32m    221\u001B[0m     \u001B[38;5;124m\"\u001B[39m\u001B[38;5;124mPOST\u001B[39m\u001B[38;5;124m\"\u001B[39m, MLFLOW_GATEWAY_CRUD_ROUTE_BASE, json\u001B[38;5;241m.\u001B[39mdumps(payload)\n",
       "\u001B[1;32m    222\u001B[0m )\u001B[38;5;241m.\u001B[39mjson()\n",
       "\n",
       "\u001B[0;31mMlflowException\u001B[0m: The create_route API is only available when running within Databricks. Route creation is handled through creating a configuration YAML file during startup or through updating a running Gateway server."
      ]
     },
     "metadata": {
      "application/vnd.databricks.v1+output": {
       "arguments": {},
       "data": "\u001B[0;31m---------------------------------------------------------------------------\u001B[0m\n\u001B[0;31mMlflowException\u001B[0m                           Traceback (most recent call last)\nFile \u001B[0;32m<command-3034800463673226>:10\u001B[0m\n\u001B[1;32m      7\u001B[0m os\u001B[38;5;241m.\u001B[39menviron[\u001B[38;5;124m'\u001B[39m\u001B[38;5;124mMLFLOW_GATEWAY_URI\u001B[39m\u001B[38;5;124m'\u001B[39m] \u001B[38;5;241m=\u001B[39m \u001B[38;5;124m\"\u001B[39m\u001B[38;5;124mhttp://my-gateway-server-url:8000\u001B[39m\u001B[38;5;124m\"\u001B[39m\n\u001B[1;32m      9\u001B[0m \u001B[38;5;66;03m# create the route\u001B[39;00m\n\u001B[0;32m---> 10\u001B[0m create_route(\n\u001B[1;32m     11\u001B[0m     \u001B[38;5;124m\"\u001B[39m\u001B[38;5;124mcompletion\u001B[39m\u001B[38;5;124m\"\u001B[39m,\n\u001B[1;32m     12\u001B[0m     \u001B[38;5;124m\"\u001B[39m\u001B[38;5;124mllm/v1/completions\u001B[39m\u001B[38;5;124m\"\u001B[39m,\n\u001B[1;32m     13\u001B[0m     {\n\u001B[1;32m     14\u001B[0m         \u001B[38;5;124m\"\u001B[39m\u001B[38;5;124mname\u001B[39m\u001B[38;5;124m\"\u001B[39m: \u001B[38;5;124m\"\u001B[39m\u001B[38;5;124mllama2-70b-chat\u001B[39m\u001B[38;5;124m\"\u001B[39m,\n\u001B[1;32m     15\u001B[0m         \u001B[38;5;124m\"\u001B[39m\u001B[38;5;124mprovider\u001B[39m\u001B[38;5;124m\"\u001B[39m: \u001B[38;5;124m\"\u001B[39m\u001B[38;5;124mmosaicml\u001B[39m\u001B[38;5;124m\"\u001B[39m,\n\u001B[1;32m     16\u001B[0m         \u001B[38;5;124m\"\u001B[39m\u001B[38;5;124mmosaicml_config\u001B[39m\u001B[38;5;124m\"\u001B[39m: {\n\u001B[1;32m     17\u001B[0m             \u001B[38;5;124m\"\u001B[39m\u001B[38;5;124mmosaicml_api_key\u001B[39m\u001B[38;5;124m\"\u001B[39m: mosaicml_api_key,\n\u001B[1;32m     18\u001B[0m         },\n\u001B[1;32m     19\u001B[0m     },\n\u001B[1;32m     20\u001B[0m )\n\nFile \u001B[0;32m/local_disk0/.ephemeral_nfs/envs/pythonEnv-badd8eaa-147f-40fa-9616-8dc0d4d53d5a/lib/python3.10/site-packages/mlflow/gateway/fluent.py:105\u001B[0m, in \u001B[0;36mcreate_route\u001B[0;34m(name, route_type, model)\u001B[0m\n\u001B[1;32m     48\u001B[0m \u001B[38;5;129m@experimental\u001B[39m\n\u001B[1;32m     49\u001B[0m \u001B[38;5;28;01mdef\u001B[39;00m \u001B[38;5;21mcreate_route\u001B[39m(\n\u001B[1;32m     50\u001B[0m     name: \u001B[38;5;28mstr\u001B[39m, route_type: Optional[\u001B[38;5;28mstr\u001B[39m] \u001B[38;5;241m=\u001B[39m \u001B[38;5;28;01mNone\u001B[39;00m, model: Optional[Dict[\u001B[38;5;28mstr\u001B[39m, Any]] \u001B[38;5;241m=\u001B[39m \u001B[38;5;28;01mNone\u001B[39;00m\n\u001B[1;32m     51\u001B[0m ) \u001B[38;5;241m-\u001B[39m\u001B[38;5;241m>\u001B[39m Route:\n\u001B[1;32m     52\u001B[0m \u001B[38;5;250m    \u001B[39m\u001B[38;5;124;03m\"\"\"\u001B[39;00m\n\u001B[1;32m     53\u001B[0m \u001B[38;5;124;03m    Create a new route in the Gateway.\u001B[39;00m\n\u001B[1;32m     54\u001B[0m \n\u001B[0;32m   (...)\u001B[0m\n\u001B[1;32m    103\u001B[0m \n\u001B[1;32m    104\u001B[0m \u001B[38;5;124;03m    \"\"\"\u001B[39;00m\n\u001B[0;32m--> 105\u001B[0m     \u001B[38;5;28;01mreturn\u001B[39;00m \u001B[43mMlflowGatewayClient\u001B[49m\u001B[43m(\u001B[49m\u001B[43m)\u001B[49m\u001B[38;5;241;43m.\u001B[39;49m\u001B[43mcreate_route\u001B[49m\u001B[43m(\u001B[49m\u001B[43mname\u001B[49m\u001B[43m,\u001B[49m\u001B[43m \u001B[49m\u001B[43mroute_type\u001B[49m\u001B[43m,\u001B[49m\u001B[43m \u001B[49m\u001B[43mmodel\u001B[49m\u001B[43m)\u001B[49m\n\nFile \u001B[0;32m/local_disk0/.ephemeral_nfs/envs/pythonEnv-badd8eaa-147f-40fa-9616-8dc0d4d53d5a/lib/python3.10/site-packages/mlflow/gateway/client.py:208\u001B[0m, in \u001B[0;36mMlflowGatewayClient.create_route\u001B[0;34m(self, name, route_type, model)\u001B[0m\n\u001B[1;32m    152\u001B[0m \u001B[38;5;250m\u001B[39m\u001B[38;5;124;03m\"\"\"\u001B[39;00m\n\u001B[1;32m    153\u001B[0m \u001B[38;5;124;03mCreate a new route in the Gateway.\u001B[39;00m\n\u001B[1;32m    154\u001B[0m \n\u001B[0;32m   (...)\u001B[0m\n\u001B[1;32m    205\u001B[0m \n\u001B[1;32m    206\u001B[0m \u001B[38;5;124;03m\"\"\"\u001B[39;00m\n\u001B[1;32m    207\u001B[0m \u001B[38;5;28;01mif\u001B[39;00m \u001B[38;5;129;01mnot\u001B[39;00m \u001B[38;5;28mself\u001B[39m\u001B[38;5;241m.\u001B[39m_is_databricks_host():\n\u001B[0;32m--> 208\u001B[0m     \u001B[38;5;28;01mraise\u001B[39;00m MlflowException(\n\u001B[1;32m    209\u001B[0m         \u001B[38;5;124m\"\u001B[39m\u001B[38;5;124mThe create_route API is only available when running within \u001B[39m\u001B[38;5;124m\"\u001B[39m\n\u001B[1;32m    210\u001B[0m         \u001B[38;5;124m\"\u001B[39m\u001B[38;5;124mDatabricks. Route creation is handled through creating a \u001B[39m\u001B[38;5;124m\"\u001B[39m\n\u001B[1;32m    211\u001B[0m         \u001B[38;5;124m\"\u001B[39m\u001B[38;5;124mconfiguration YAML file during startup or through updating a \u001B[39m\u001B[38;5;124m\"\u001B[39m\n\u001B[1;32m    212\u001B[0m         \u001B[38;5;124m\"\u001B[39m\u001B[38;5;124mrunning Gateway server.\u001B[39m\u001B[38;5;124m\"\u001B[39m,\n\u001B[1;32m    213\u001B[0m         error_code\u001B[38;5;241m=\u001B[39mBAD_REQUEST,\n\u001B[1;32m    214\u001B[0m     )\n\u001B[1;32m    215\u001B[0m payload \u001B[38;5;241m=\u001B[39m {\n\u001B[1;32m    216\u001B[0m     \u001B[38;5;124m\"\u001B[39m\u001B[38;5;124mname\u001B[39m\u001B[38;5;124m\"\u001B[39m: name,\n\u001B[1;32m    217\u001B[0m     \u001B[38;5;124m\"\u001B[39m\u001B[38;5;124mroute_type\u001B[39m\u001B[38;5;124m\"\u001B[39m: route_type,\n\u001B[1;32m    218\u001B[0m     \u001B[38;5;124m\"\u001B[39m\u001B[38;5;124mmodel\u001B[39m\u001B[38;5;124m\"\u001B[39m: model,\n\u001B[1;32m    219\u001B[0m }\n\u001B[1;32m    220\u001B[0m response \u001B[38;5;241m=\u001B[39m \u001B[38;5;28mself\u001B[39m\u001B[38;5;241m.\u001B[39m_call_endpoint(\n\u001B[1;32m    221\u001B[0m     \u001B[38;5;124m\"\u001B[39m\u001B[38;5;124mPOST\u001B[39m\u001B[38;5;124m\"\u001B[39m, MLFLOW_GATEWAY_CRUD_ROUTE_BASE, json\u001B[38;5;241m.\u001B[39mdumps(payload)\n\u001B[1;32m    222\u001B[0m )\u001B[38;5;241m.\u001B[39mjson()\n\n\u001B[0;31mMlflowException\u001B[0m: The create_route API is only available when running within Databricks. Route creation is handled through creating a configuration YAML file during startup or through updating a running Gateway server.",
       "errorSummary": "<span class='ansi-red-fg'>MlflowException</span>: The create_route API is only available when running within Databricks. Route creation is handled through creating a configuration YAML file during startup or through updating a running Gateway server.",
       "errorTraceType": "ansi",
       "metadata": {},
       "type": "ipynbError"
      }
     },
     "output_type": "display_data"
    }
   ],
   "source": [
    "from mlflow.gateway import create_route\n",
    "import os\n",
    "\n",
    "mosaicml_api_key = \"30HUkJ.UEvkMW9tAyMS7v91L4-e-gA0r.MKC0GUBphZ.2y5\"\n",
    "\n",
    "# set the environment variable\n",
    "os.environ['MLFLOW_GATEWAY_URI'] = \"http://my-gateway-server-url:8000\"\n",
    "\n",
    "# create the route\n",
    "create_route(\n",
    "    \"completion\",\n",
    "    \"llm/v1/completions\",\n",
    "    {\n",
    "        \"name\": \"llama2-70b-chat\",\n",
    "        \"provider\": \"mosaicml\",\n",
    "        \"mosaicml_config\": {\n",
    "            \"mosaicml_api_key\": mosaicml_api_key,\n",
    "        },\n",
    "    },\n",
    ")"
   ]
  },
  {
   "cell_type": "code",
   "execution_count": 0,
   "metadata": {
    "application/vnd.databricks.v1+cell": {
     "cellMetadata": {
      "byteLimit": 2048000,
      "rowLimit": 10000
     },
     "inputWidgets": {},
     "nuid": "d20bdaca-b647-49b9-8f4a-56baf7029561",
     "showTitle": false,
     "title": ""
    }
   },
   "outputs": [
    {
     "output_type": "display_data",
     "data": {
      "text/plain": [
       "\u001B[0;31m---------------------------------------------------------------------------\u001B[0m\n",
       "\u001B[0;31mModuleNotFoundError\u001B[0m                       Traceback (most recent call last)\n",
       "File \u001B[0;32m<command-3034800463673190>:1\u001B[0m\n",
       "\u001B[0;32m----> 1\u001B[0m \u001B[38;5;28;01mfrom\u001B[39;00m \u001B[38;5;21;01mlangchain\u001B[39;00m\u001B[38;5;21;01m.\u001B[39;00m\u001B[38;5;21;01membeddings\u001B[39;00m\u001B[38;5;21;01m.\u001B[39;00m\u001B[38;5;21;01mmlflow_gatewayllms\u001B[39;00m \u001B[38;5;28;01mimport\u001B[39;00m MlflowAIGatewayEmbeddings\n",
       "\u001B[1;32m      2\u001B[0m \u001B[38;5;28;01mfrom\u001B[39;00m \u001B[38;5;21;01mlangchain\u001B[39;00m\u001B[38;5;21;01m.\u001B[39;00m\u001B[38;5;21;01mvectorstores\u001B[39;00m \u001B[38;5;28;01mimport\u001B[39;00m Chroma\n",
       "\u001B[1;32m      4\u001B[0m \u001B[38;5;66;03m# Retrieve the AI Gateway Route\u001B[39;00m\n",
       "\n",
       "\u001B[0;31mModuleNotFoundError\u001B[0m: No module named 'langchain.embeddings.mlflow_gatewayllms'"
      ]
     },
     "metadata": {
      "application/vnd.databricks.v1+output": {
       "arguments": {},
       "data": "\u001B[0;31m---------------------------------------------------------------------------\u001B[0m\n\u001B[0;31mModuleNotFoundError\u001B[0m                       Traceback (most recent call last)\nFile \u001B[0;32m<command-3034800463673190>:1\u001B[0m\n\u001B[0;32m----> 1\u001B[0m \u001B[38;5;28;01mfrom\u001B[39;00m \u001B[38;5;21;01mlangchain\u001B[39;00m\u001B[38;5;21;01m.\u001B[39;00m\u001B[38;5;21;01membeddings\u001B[39;00m\u001B[38;5;21;01m.\u001B[39;00m\u001B[38;5;21;01mmlflow_gatewayllms\u001B[39;00m \u001B[38;5;28;01mimport\u001B[39;00m MlflowAIGatewayEmbeddings\n\u001B[1;32m      2\u001B[0m \u001B[38;5;28;01mfrom\u001B[39;00m \u001B[38;5;21;01mlangchain\u001B[39;00m\u001B[38;5;21;01m.\u001B[39;00m\u001B[38;5;21;01mvectorstores\u001B[39;00m \u001B[38;5;28;01mimport\u001B[39;00m Chroma\n\u001B[1;32m      4\u001B[0m \u001B[38;5;66;03m# Retrieve the AI Gateway Route\u001B[39;00m\n\n\u001B[0;31mModuleNotFoundError\u001B[0m: No module named 'langchain.embeddings.mlflow_gatewayllms'",
       "errorSummary": "<span class='ansi-red-fg'>ModuleNotFoundError</span>: No module named 'langchain.embeddings.mlflow_gatewayllms'",
       "errorTraceType": "ansi",
       "metadata": {},
       "type": "ipynbError"
      }
     },
     "output_type": "display_data"
    }
   ],
   "source": [
    "from langchain.embeddings.mlflow_gatewayllms import MlflowAIGatewayEmbeddings\n",
    "from langchain.vectorstores import Chroma\n",
    "\n",
    "# Retrieve the AI Gateway Route\n",
    "\n",
    "mosaicml_embedding_route = MLflowAIGatewayEmbeddings(\n",
    "  gateway_uri=\"databricks\",\n",
    "  route=\"embedding\"\n",
    ")\n",
    "\n",
    "# load it into Chroma\n",
    "\n",
    "db = Chroma.from_documents(docs, embedding_function=mosaicml_embedding_route, persist_directory=\"/tmp/gardening_db\")\n"
   ]
  },
  {
   "cell_type": "code",
   "execution_count": 0,
   "metadata": {
    "application/vnd.databricks.v1+cell": {
     "cellMetadata": {
      "byteLimit": 2048000,
      "rowLimit": 10000
     },
     "inputWidgets": {},
     "nuid": "e367c02a-2ece-42fa-82be-678f4dabf72f",
     "showTitle": false,
     "title": ""
    }
   },
   "outputs": [
    {
     "output_type": "display_data",
     "data": {
      "text/plain": [
       "\u001B[0;31m---------------------------------------------------------------------------\u001B[0m\n",
       "\u001B[0;31mImportError\u001B[0m                               Traceback (most recent call last)\n",
       "File \u001B[0;32m<command-3034800463673191>:2\u001B[0m\n",
       "\u001B[1;32m      1\u001B[0m \u001B[38;5;28;01mimport\u001B[39;00m \u001B[38;5;21;01mmlflow\u001B[39;00m\n",
       "\u001B[0;32m----> 2\u001B[0m \u001B[38;5;28;01mfrom\u001B[39;00m \u001B[38;5;21;01mlangchain\u001B[39;00m\u001B[38;5;21;01m.\u001B[39;00m\u001B[38;5;21;01mllms\u001B[39;00m \u001B[38;5;28;01mimport\u001B[39;00m MlflowAIGateway\n",
       "\u001B[1;32m      4\u001B[0m \u001B[38;5;66;03m# Create a prompt structure for Llama2 Chat (note that if using MPT the prompt structure would differ)\u001B[39;00m\n",
       "\u001B[1;32m      6\u001B[0m template \u001B[38;5;241m=\u001B[39m \u001B[38;5;124m\"\"\"\u001B[39m\u001B[38;5;124m[INST] <<SYS>>\u001B[39m\n",
       "\u001B[1;32m      7\u001B[0m \u001B[38;5;124mYou are an AI assistant, helping gardeners by providing expert gardening answers and advice. \u001B[39m\n",
       "\u001B[1;32m      8\u001B[0m \n",
       "\u001B[0;32m   (...)\u001B[0m\n",
       "\u001B[1;32m     22\u001B[0m \n",
       "\u001B[1;32m     23\u001B[0m \u001B[38;5;124m\"\"\"\u001B[39m\n",
       "\n",
       "\u001B[0;31mImportError\u001B[0m: cannot import name 'MlflowAIGateway' from 'langchain.llms' (/databricks/python/lib/python3.10/site-packages/langchain/llms/__init__.py)"
      ]
     },
     "metadata": {
      "application/vnd.databricks.v1+output": {
       "arguments": {},
       "data": "\u001B[0;31m---------------------------------------------------------------------------\u001B[0m\n\u001B[0;31mImportError\u001B[0m                               Traceback (most recent call last)\nFile \u001B[0;32m<command-3034800463673191>:2\u001B[0m\n\u001B[1;32m      1\u001B[0m \u001B[38;5;28;01mimport\u001B[39;00m \u001B[38;5;21;01mmlflow\u001B[39;00m\n\u001B[0;32m----> 2\u001B[0m \u001B[38;5;28;01mfrom\u001B[39;00m \u001B[38;5;21;01mlangchain\u001B[39;00m\u001B[38;5;21;01m.\u001B[39;00m\u001B[38;5;21;01mllms\u001B[39;00m \u001B[38;5;28;01mimport\u001B[39;00m MlflowAIGateway\n\u001B[1;32m      4\u001B[0m \u001B[38;5;66;03m# Create a prompt structure for Llama2 Chat (note that if using MPT the prompt structure would differ)\u001B[39;00m\n\u001B[1;32m      6\u001B[0m template \u001B[38;5;241m=\u001B[39m \u001B[38;5;124m\"\"\"\u001B[39m\u001B[38;5;124m[INST] <<SYS>>\u001B[39m\n\u001B[1;32m      7\u001B[0m \u001B[38;5;124mYou are an AI assistant, helping gardeners by providing expert gardening answers and advice. \u001B[39m\n\u001B[1;32m      8\u001B[0m \n\u001B[0;32m   (...)\u001B[0m\n\u001B[1;32m     22\u001B[0m \n\u001B[1;32m     23\u001B[0m \u001B[38;5;124m\"\"\"\u001B[39m\n\n\u001B[0;31mImportError\u001B[0m: cannot import name 'MlflowAIGateway' from 'langchain.llms' (/databricks/python/lib/python3.10/site-packages/langchain/llms/__init__.py)",
       "errorSummary": "<span class='ansi-red-fg'>ImportError</span>: cannot import name 'MlflowAIGateway' from 'langchain.llms' (/databricks/python/lib/python3.10/site-packages/langchain/llms/__init__.py)",
       "errorTraceType": "ansi",
       "metadata": {},
       "type": "ipynbError"
      }
     },
     "output_type": "display_data"
    }
   ],
   "source": [
    "import mlflow\n",
    "from langchain.llms import MlflowAIGateway\n",
    "\n",
    "# Create a prompt structure for Llama2 Chat (note that if using MPT the prompt structure would differ)\n",
    "\n",
    "template = \"\"\"[INST] <<SYS>>\n",
    "You are an AI assistant, helping gardeners by providing expert gardening answers and advice. \n",
    "\n",
    "Use only information provided in the following paragraphs to answer the question at the end. \n",
    "\n",
    "Explain your answer with reference to these paragraphs.\n",
    "\n",
    "If a question does not make any sense, or is not factually coherent, explain why instead of answering something not correct. \n",
    "\n",
    "If you don't know the answer to a question, please don't share false information.\n",
    "\n",
    "<</SYS>>\n",
    "\n",
    "{context}\n",
    "\n",
    "{question} [/INST]\n",
    "\n",
    "\"\"\"\n",
    "\n",
    "prompt = PromptTemplate(input_variables=['context', 'question'], template=template)\n",
    "\n",
    "mosaic_completion_route = MLflowAIGateway(\n",
    "  gateway_uri=\"databricks\",\n",
    "  route=\"completion\",\n",
    "  params={ \"temperature\": 0.1 },\n",
    ")\n",
    "\n",
    "# Wrap the prompt and Gateway Route into a chain\n",
    "\n",
    "retrieval_qa_chain = RetrievalQA.from_chain_type(llm=mosaic_completion_route, chain_type=\"stuff\", retriever=db.as_retriever(), chain_type_kwargs={\"prompt\": prompt})"
   ]
  },
  {
   "cell_type": "code",
   "execution_count": 0,
   "metadata": {
    "application/vnd.databricks.v1+cell": {
     "cellMetadata": {},
     "inputWidgets": {},
     "nuid": "11d37fa2-286a-4269-bb58-69b799c6f3dc",
     "showTitle": false,
     "title": ""
    }
   },
   "outputs": [],
   "source": [
    "query = \"Why is my Fiddle Fig tree dropping its leaves?\"\n",
    "\n",
    "retrieval_qa_chain.run(query)"
   ]
  },
  {
   "cell_type": "code",
   "execution_count": 0,
   "metadata": {
    "application/vnd.databricks.v1+cell": {
     "cellMetadata": {},
     "inputWidgets": {},
     "nuid": "c23d408e-d2de-41b6-938e-8461f4f8fcea",
     "showTitle": false,
     "title": ""
    }
   },
   "outputs": [],
   "source": []
  },
  {
   "cell_type": "code",
   "execution_count": 0,
   "metadata": {
    "application/vnd.databricks.v1+cell": {
     "cellMetadata": {},
     "inputWidgets": {},
     "nuid": "408efb08-3d29-43ff-9362-1ffccab41974",
     "showTitle": false,
     "title": ""
    }
   },
   "outputs": [],
   "source": []
  },
  {
   "cell_type": "code",
   "execution_count": 0,
   "metadata": {
    "application/vnd.databricks.v1+cell": {
     "cellMetadata": {},
     "inputWidgets": {},
     "nuid": "bc123892-6faa-40e7-ac2e-fc7e791d426b",
     "showTitle": false,
     "title": ""
    }
   },
   "outputs": [],
   "source": []
  },
  {
   "cell_type": "code",
   "execution_count": 0,
   "metadata": {
    "application/vnd.databricks.v1+cell": {
     "cellMetadata": {},
     "inputWidgets": {},
     "nuid": "19722fef-0dd4-45dc-a98f-6a06338ec8b8",
     "showTitle": false,
     "title": ""
    }
   },
   "outputs": [],
   "source": []
  },
  {
   "cell_type": "code",
   "execution_count": 0,
   "metadata": {
    "application/vnd.databricks.v1+cell": {
     "cellMetadata": {
      "byteLimit": 2048000,
      "rowLimit": 10000
     },
     "inputWidgets": {},
     "nuid": "cc3e891f-1c7b-4ebe-ad9d-6fee9cb60500",
     "showTitle": false,
     "title": ""
    }
   },
   "outputs": [],
   "source": [
    "from mlflow.gateway import set_gateway_uri, create_route, query\n",
    "\n",
    "# Set the MLflow AI Gateway server\n",
    "set_gateway_uri(\"databricks\")\n",
    "\n",
    "# Create a Route for text completions with MosaicML Inference API \n",
    "create_route(\n",
    "    name=\"llama2-70b-chat1zt\",\n",
    "    route_type=\"llm/v1/completions\",\n",
    "    model={\n",
    "        \"name\": \"llama2-70b-chat\",\n",
    "        \"provider\": \"mosaicml\",\n",
    "        \"mosaicml_config\": {\n",
    "        \"mosaicml_api_key\": \"30HUkJ.UEvkMW9tAyMS7v91L4-e-gA0r.MKC0GUBphZ.2y5\"\n",
    "        }\n",
    "    }\n",
    ")\n",
    "\n",
    "# We'll explain this prompt format later in the blog post!\n",
    "prompte = \"\"\"Translate the given text in hindi\n",
    "'''You are an AI assistant, helping gardeners by providing expert gardening answers and advice. \n",
    "\n",
    "Use only information provided in the following paragraphs to answer the question at the end. \n",
    "\n",
    "Explain your answer with reference to these paragraphs.\n",
    "\n",
    "If a question does not make any sense, or is not factually coherent, explain why instead of answering something not correct. \n",
    "\n",
    "If you don't know the answer to a question, please don't share false information'''\n",
    "\"\"\"\n",
    "\n",
    "# Query the Route with a prompt\n",
    "response1 = query(\n",
    "    route=\"llama2-70b-chat1zt\",\n",
    "    data={\"prompt\": prompte}\n",
    ")"
   ]
  },
  {
   "cell_type": "code",
   "execution_count": 0,
   "metadata": {
    "application/vnd.databricks.v1+cell": {
     "cellMetadata": {
      "byteLimit": 2048000,
      "rowLimit": 10000
     },
     "inputWidgets": {},
     "nuid": "95a33d4c-d29f-4502-9fa7-787e5334413d",
     "showTitle": false,
     "title": ""
    }
   },
   "outputs": [
    {
     "output_type": "execute_result",
     "data": {
      "text/plain": [
       "{'candidates': [{'text': '\\nParagraph 1:\\n\\nGardening is a popular hobby and a great way to connect with nature. It not only provides an opportunity to grow your own food, but also helps in reducing stress and improving mental health. Gardening can be a fun and rewarding experience, but it requires some knowledge and skills to maintain a healthy and thriving garden.\\n\\nParagraph 2:\\n\\nTo start a garden, one needs to choose the right location, select the appropriate plants, and prepare the soil. The location should receive enough sunlight and have proper drainage. The plants should',\n",
       "   'metadata': {}}],\n",
       " 'metadata': {'model': 'llama2-70b-chat', 'route_type': 'llm/v1/completions'}}"
      ]
     },
     "execution_count": 23,
     "metadata": {},
     "output_type": "execute_result"
    }
   ],
   "source": [
    "response1"
   ]
  },
  {
   "cell_type": "code",
   "execution_count": 0,
   "metadata": {
    "application/vnd.databricks.v1+cell": {
     "cellMetadata": {
      "byteLimit": 2048000,
      "rowLimit": 10000
     },
     "inputWidgets": {},
     "nuid": "5acd599c-9f79-4b76-b927-31cc7748bc57",
     "showTitle": false,
     "title": ""
    }
   },
   "outputs": [],
   "source": [
    "\n",
    "from mlflow.gateway import set_gateway_uri, create_route, query\n",
    "\n",
    "# Set the MLflow AI Gateway server\n",
    "set_gateway_uri(\"databricks\")\n",
    "\n",
    "z=create_route(\n",
    "    name=\"llama2-70b-chat1zt1s\",\n",
    "    route_type=\"llm/v1/completions\",\n",
    "    model={\n",
    "        \"name\": \"llama2-70b-chat\",\n",
    "        \"provider\": \"mosaicml\",\n",
    "        \"mosaicml_config\": {\n",
    "        \"mosaicml_api_key\": \"30HUkJ.UEvkMW9tAyMS7v91L4-e-gA0r.MKC0GUBphZ.2y5\"\n",
    "        }\n",
    "    }\n",
    ")"
   ]
  },
  {
   "cell_type": "code",
   "execution_count": 0,
   "metadata": {
    "application/vnd.databricks.v1+cell": {
     "cellMetadata": {
      "byteLimit": 2048000,
      "rowLimit": 10000
     },
     "inputWidgets": {},
     "nuid": "c8b39977-81a9-4c94-9083-2ce98ed65e77",
     "showTitle": false,
     "title": ""
    }
   },
   "outputs": [
    {
     "output_type": "execute_result",
     "data": {
      "text/plain": [
       "Route(name='llama2-70b-chat1zt1s', route_type='llm/v1/completions', model=RouteModelInfo(name='llama2-70b-chat', provider='mosaicml'), route_url='https://oregon.cloud.databricks.com/gateway/llama2-70b-chat1zt1s/invocations')"
      ]
     },
     "execution_count": 7,
     "metadata": {},
     "output_type": "execute_result"
    }
   ],
   "source": [
    "z"
   ]
  },
  {
   "cell_type": "code",
   "execution_count": 0,
   "metadata": {
    "application/vnd.databricks.v1+cell": {
     "cellMetadata": {
      "byteLimit": 2048000,
      "rowLimit": 10000
     },
     "inputWidgets": {},
     "nuid": "810cf5d8-bb6b-4c14-99ca-1146ef7e09a7",
     "showTitle": false,
     "title": ""
    }
   },
   "outputs": [
    {
     "output_type": "execute_result",
     "data": {
      "text/plain": [
       "'https://oregon.cloud.databricks.com/gateway/llama2-70b-chat1zt1s/invocations'"
      ]
     },
     "execution_count": 10,
     "metadata": {},
     "output_type": "execute_result"
    }
   ],
   "source": [
    "z.route_url"
   ]
  },
  {
   "cell_type": "code",
   "execution_count": 0,
   "metadata": {
    "application/vnd.databricks.v1+cell": {
     "cellMetadata": {
      "byteLimit": 2048000,
      "rowLimit": 10000
     },
     "inputWidgets": {},
     "nuid": "d26a1e39-7542-4fc1-b4fa-390b3c8fb47f",
     "showTitle": false,
     "title": ""
    }
   },
   "outputs": [
    {
     "output_type": "display_data",
     "data": {
      "text/plain": [
       "\u001B[0;31m---------------------------------------------------------------------------\u001B[0m\n",
       "\u001B[0;31mValueError\u001B[0m                                Traceback (most recent call last)\n",
       "File \u001B[0;32m<command-4399696887388408>:2\u001B[0m\n",
       "\u001B[1;32m      1\u001B[0m \u001B[38;5;28;01mimport\u001B[39;00m \u001B[38;5;21;01mmlflow\u001B[39;00m\n",
       "\u001B[0;32m----> 2\u001B[0m mlflow\u001B[38;5;241m.\u001B[39mpyfunc\u001B[38;5;241m.\u001B[39mload_model(z\u001B[38;5;241m.\u001B[39mroute_url)\n",
       "\n",
       "File \u001B[0;32m/local_disk0/.ephemeral_nfs/envs/pythonEnv-5b39b710-e3b0-474b-a81a-48cf2bd2cc4b/lib/python3.10/site-packages/mlflow/pyfunc/__init__.py:652\u001B[0m, in \u001B[0;36mload_model\u001B[0;34m(model_uri, suppress_warnings, dst_path, model_config)\u001B[0m\n",
       "\u001B[1;32m    618\u001B[0m \u001B[38;5;28;01mdef\u001B[39;00m \u001B[38;5;21mload_model\u001B[39m(\n",
       "\u001B[1;32m    619\u001B[0m     model_uri: \u001B[38;5;28mstr\u001B[39m,\n",
       "\u001B[1;32m    620\u001B[0m     suppress_warnings: \u001B[38;5;28mbool\u001B[39m \u001B[38;5;241m=\u001B[39m \u001B[38;5;28;01mFalse\u001B[39;00m,\n",
       "\u001B[1;32m    621\u001B[0m     dst_path: Optional[\u001B[38;5;28mstr\u001B[39m] \u001B[38;5;241m=\u001B[39m \u001B[38;5;28;01mNone\u001B[39;00m,\n",
       "\u001B[1;32m    622\u001B[0m     model_config: Optional[Dict[\u001B[38;5;28mstr\u001B[39m, Any]] \u001B[38;5;241m=\u001B[39m \u001B[38;5;28;01mNone\u001B[39;00m,\n",
       "\u001B[1;32m    623\u001B[0m ) \u001B[38;5;241m-\u001B[39m\u001B[38;5;241m>\u001B[39m PyFuncModel:\n",
       "\u001B[1;32m    624\u001B[0m     \u001B[38;5;124;03m\"\"\"\u001B[39;00m\n",
       "\u001B[1;32m    625\u001B[0m \u001B[38;5;124;03m    Load a model stored in Python function format.\u001B[39;00m\n",
       "\u001B[1;32m    626\u001B[0m \n",
       "\u001B[0;32m   (...)\u001B[0m\n",
       "\u001B[1;32m    650\u001B[0m \u001B[38;5;124;03m                                             release without warning.\u001B[39;00m\n",
       "\u001B[1;32m    651\u001B[0m \u001B[38;5;124;03m    \"\"\"\u001B[39;00m\n",
       "\u001B[0;32m--> 652\u001B[0m     local_path \u001B[38;5;241m=\u001B[39m \u001B[43m_download_artifact_from_uri\u001B[49m\u001B[43m(\u001B[49m\u001B[43martifact_uri\u001B[49m\u001B[38;5;241;43m=\u001B[39;49m\u001B[43mmodel_uri\u001B[49m\u001B[43m,\u001B[49m\u001B[43m \u001B[49m\u001B[43moutput_path\u001B[49m\u001B[38;5;241;43m=\u001B[39;49m\u001B[43mdst_path\u001B[49m\u001B[43m)\u001B[49m\n",
       "\u001B[1;32m    654\u001B[0m     \u001B[38;5;28;01mif\u001B[39;00m \u001B[38;5;129;01mnot\u001B[39;00m suppress_warnings:\n",
       "\u001B[1;32m    655\u001B[0m         _warn_dependency_requirement_mismatches(local_path)\n",
       "\n",
       "File \u001B[0;32m/local_disk0/.ephemeral_nfs/envs/pythonEnv-5b39b710-e3b0-474b-a81a-48cf2bd2cc4b/lib/python3.10/site-packages/mlflow/tracking/artifact_utils.py:100\u001B[0m, in \u001B[0;36m_download_artifact_from_uri\u001B[0;34m(artifact_uri, output_path)\u001B[0m\n",
       "\u001B[1;32m     94\u001B[0m \u001B[38;5;124;03m\"\"\"\u001B[39;00m\n",
       "\u001B[1;32m     95\u001B[0m \u001B[38;5;124;03m:param artifact_uri: The *absolute* URI of the artifact to download.\u001B[39;00m\n",
       "\u001B[1;32m     96\u001B[0m \u001B[38;5;124;03m:param output_path: The local filesystem path to which to download the artifact. If unspecified,\u001B[39;00m\n",
       "\u001B[1;32m     97\u001B[0m \u001B[38;5;124;03m                    a local output path will be created.\u001B[39;00m\n",
       "\u001B[1;32m     98\u001B[0m \u001B[38;5;124;03m\"\"\"\u001B[39;00m\n",
       "\u001B[1;32m     99\u001B[0m root_uri, artifact_path \u001B[38;5;241m=\u001B[39m _get_root_uri_and_artifact_path(artifact_uri)\n",
       "\u001B[0;32m--> 100\u001B[0m \u001B[38;5;28;01mreturn\u001B[39;00m \u001B[43mget_artifact_repository\u001B[49m\u001B[43m(\u001B[49m\u001B[43martifact_uri\u001B[49m\u001B[38;5;241;43m=\u001B[39;49m\u001B[43mroot_uri\u001B[49m\u001B[43m)\u001B[49m\u001B[38;5;241;43m.\u001B[39;49m\u001B[43mdownload_artifacts\u001B[49m\u001B[43m(\u001B[49m\n",
       "\u001B[1;32m    101\u001B[0m \u001B[43m    \u001B[49m\u001B[43martifact_path\u001B[49m\u001B[38;5;241;43m=\u001B[39;49m\u001B[43martifact_path\u001B[49m\u001B[43m,\u001B[49m\u001B[43m \u001B[49m\u001B[43mdst_path\u001B[49m\u001B[38;5;241;43m=\u001B[39;49m\u001B[43moutput_path\u001B[49m\n",
       "\u001B[1;32m    102\u001B[0m \u001B[43m\u001B[49m\u001B[43m)\u001B[49m\n",
       "\n",
       "File \u001B[0;32m/local_disk0/.ephemeral_nfs/envs/pythonEnv-5b39b710-e3b0-474b-a81a-48cf2bd2cc4b/lib/python3.10/site-packages/mlflow/store/artifact/artifact_repo.py:189\u001B[0m, in \u001B[0;36mArtifactRepository.download_artifacts\u001B[0;34m(self, artifact_path, dst_path)\u001B[0m\n",
       "\u001B[1;32m    187\u001B[0m \u001B[38;5;66;03m# Submit download tasks\u001B[39;00m\n",
       "\u001B[1;32m    188\u001B[0m futures \u001B[38;5;241m=\u001B[39m {}\n",
       "\u001B[0;32m--> 189\u001B[0m \u001B[38;5;28;01mif\u001B[39;00m \u001B[38;5;28;43mself\u001B[39;49m\u001B[38;5;241;43m.\u001B[39;49m\u001B[43m_is_directory\u001B[49m\u001B[43m(\u001B[49m\u001B[43martifact_path\u001B[49m\u001B[43m)\u001B[49m:\n",
       "\u001B[1;32m    190\u001B[0m     \u001B[38;5;28;01mfor\u001B[39;00m file_info \u001B[38;5;129;01min\u001B[39;00m \u001B[38;5;28mself\u001B[39m\u001B[38;5;241m.\u001B[39m_iter_artifacts_recursive(artifact_path):\n",
       "\u001B[1;32m    191\u001B[0m         \u001B[38;5;28;01mif\u001B[39;00m file_info\u001B[38;5;241m.\u001B[39mis_dir:  \u001B[38;5;66;03m# Empty directory\u001B[39;00m\n",
       "\n",
       "File \u001B[0;32m/local_disk0/.ephemeral_nfs/envs/pythonEnv-5b39b710-e3b0-474b-a81a-48cf2bd2cc4b/lib/python3.10/site-packages/mlflow/store/artifact/artifact_repo.py:92\u001B[0m, in \u001B[0;36mArtifactRepository._is_directory\u001B[0;34m(self, artifact_path)\u001B[0m\n",
       "\u001B[1;32m     91\u001B[0m \u001B[38;5;28;01mdef\u001B[39;00m \u001B[38;5;21m_is_directory\u001B[39m(\u001B[38;5;28mself\u001B[39m, artifact_path):\n",
       "\u001B[0;32m---> 92\u001B[0m     listing \u001B[38;5;241m=\u001B[39m \u001B[38;5;28;43mself\u001B[39;49m\u001B[38;5;241;43m.\u001B[39;49m\u001B[43mlist_artifacts\u001B[49m\u001B[43m(\u001B[49m\u001B[43martifact_path\u001B[49m\u001B[43m)\u001B[49m\n",
       "\u001B[1;32m     93\u001B[0m     \u001B[38;5;28;01mreturn\u001B[39;00m \u001B[38;5;28mlen\u001B[39m(listing) \u001B[38;5;241m>\u001B[39m \u001B[38;5;241m0\u001B[39m\n",
       "\n",
       "File \u001B[0;32m/local_disk0/.ephemeral_nfs/envs/pythonEnv-5b39b710-e3b0-474b-a81a-48cf2bd2cc4b/lib/python3.10/site-packages/mlflow/store/artifact/http_artifact_repo.py:49\u001B[0m, in \u001B[0;36mHttpArtifactRepository.list_artifacts\u001B[0;34m(self, path)\u001B[0m\n",
       "\u001B[1;32m     47\u001B[0m \u001B[38;5;28;01mdef\u001B[39;00m \u001B[38;5;21mlist_artifacts\u001B[39m(\u001B[38;5;28mself\u001B[39m, path\u001B[38;5;241m=\u001B[39m\u001B[38;5;28;01mNone\u001B[39;00m):\n",
       "\u001B[1;32m     48\u001B[0m     endpoint \u001B[38;5;241m=\u001B[39m \u001B[38;5;124m\"\u001B[39m\u001B[38;5;124m/mlflow-artifacts/artifacts\u001B[39m\u001B[38;5;124m\"\u001B[39m\n",
       "\u001B[0;32m---> 49\u001B[0m     url, tail \u001B[38;5;241m=\u001B[39m \u001B[38;5;28mself\u001B[39m\u001B[38;5;241m.\u001B[39martifact_uri\u001B[38;5;241m.\u001B[39msplit(endpoint, maxsplit\u001B[38;5;241m=\u001B[39m\u001B[38;5;241m1\u001B[39m)\n",
       "\u001B[1;32m     50\u001B[0m     root \u001B[38;5;241m=\u001B[39m tail\u001B[38;5;241m.\u001B[39mlstrip(\u001B[38;5;124m\"\u001B[39m\u001B[38;5;124m/\u001B[39m\u001B[38;5;124m\"\u001B[39m)\n",
       "\u001B[1;32m     51\u001B[0m     params \u001B[38;5;241m=\u001B[39m {\u001B[38;5;124m\"\u001B[39m\u001B[38;5;124mpath\u001B[39m\u001B[38;5;124m\"\u001B[39m: posixpath\u001B[38;5;241m.\u001B[39mjoin(root, path) \u001B[38;5;28;01mif\u001B[39;00m path \u001B[38;5;28;01melse\u001B[39;00m root}\n",
       "\n",
       "\u001B[0;31mValueError\u001B[0m: not enough values to unpack (expected 2, got 1)"
      ]
     },
     "metadata": {
      "application/vnd.databricks.v1+output": {
       "arguments": {},
       "data": "\u001B[0;31m---------------------------------------------------------------------------\u001B[0m\n\u001B[0;31mValueError\u001B[0m                                Traceback (most recent call last)\nFile \u001B[0;32m<command-4399696887388408>:2\u001B[0m\n\u001B[1;32m      1\u001B[0m \u001B[38;5;28;01mimport\u001B[39;00m \u001B[38;5;21;01mmlflow\u001B[39;00m\n\u001B[0;32m----> 2\u001B[0m mlflow\u001B[38;5;241m.\u001B[39mpyfunc\u001B[38;5;241m.\u001B[39mload_model(z\u001B[38;5;241m.\u001B[39mroute_url)\n\nFile \u001B[0;32m/local_disk0/.ephemeral_nfs/envs/pythonEnv-5b39b710-e3b0-474b-a81a-48cf2bd2cc4b/lib/python3.10/site-packages/mlflow/pyfunc/__init__.py:652\u001B[0m, in \u001B[0;36mload_model\u001B[0;34m(model_uri, suppress_warnings, dst_path, model_config)\u001B[0m\n\u001B[1;32m    618\u001B[0m \u001B[38;5;28;01mdef\u001B[39;00m \u001B[38;5;21mload_model\u001B[39m(\n\u001B[1;32m    619\u001B[0m     model_uri: \u001B[38;5;28mstr\u001B[39m,\n\u001B[1;32m    620\u001B[0m     suppress_warnings: \u001B[38;5;28mbool\u001B[39m \u001B[38;5;241m=\u001B[39m \u001B[38;5;28;01mFalse\u001B[39;00m,\n\u001B[1;32m    621\u001B[0m     dst_path: Optional[\u001B[38;5;28mstr\u001B[39m] \u001B[38;5;241m=\u001B[39m \u001B[38;5;28;01mNone\u001B[39;00m,\n\u001B[1;32m    622\u001B[0m     model_config: Optional[Dict[\u001B[38;5;28mstr\u001B[39m, Any]] \u001B[38;5;241m=\u001B[39m \u001B[38;5;28;01mNone\u001B[39;00m,\n\u001B[1;32m    623\u001B[0m ) \u001B[38;5;241m-\u001B[39m\u001B[38;5;241m>\u001B[39m PyFuncModel:\n\u001B[1;32m    624\u001B[0m     \u001B[38;5;124;03m\"\"\"\u001B[39;00m\n\u001B[1;32m    625\u001B[0m \u001B[38;5;124;03m    Load a model stored in Python function format.\u001B[39;00m\n\u001B[1;32m    626\u001B[0m \n\u001B[0;32m   (...)\u001B[0m\n\u001B[1;32m    650\u001B[0m \u001B[38;5;124;03m                                             release without warning.\u001B[39;00m\n\u001B[1;32m    651\u001B[0m \u001B[38;5;124;03m    \"\"\"\u001B[39;00m\n\u001B[0;32m--> 652\u001B[0m     local_path \u001B[38;5;241m=\u001B[39m \u001B[43m_download_artifact_from_uri\u001B[49m\u001B[43m(\u001B[49m\u001B[43martifact_uri\u001B[49m\u001B[38;5;241;43m=\u001B[39;49m\u001B[43mmodel_uri\u001B[49m\u001B[43m,\u001B[49m\u001B[43m \u001B[49m\u001B[43moutput_path\u001B[49m\u001B[38;5;241;43m=\u001B[39;49m\u001B[43mdst_path\u001B[49m\u001B[43m)\u001B[49m\n\u001B[1;32m    654\u001B[0m     \u001B[38;5;28;01mif\u001B[39;00m \u001B[38;5;129;01mnot\u001B[39;00m suppress_warnings:\n\u001B[1;32m    655\u001B[0m         _warn_dependency_requirement_mismatches(local_path)\n\nFile \u001B[0;32m/local_disk0/.ephemeral_nfs/envs/pythonEnv-5b39b710-e3b0-474b-a81a-48cf2bd2cc4b/lib/python3.10/site-packages/mlflow/tracking/artifact_utils.py:100\u001B[0m, in \u001B[0;36m_download_artifact_from_uri\u001B[0;34m(artifact_uri, output_path)\u001B[0m\n\u001B[1;32m     94\u001B[0m \u001B[38;5;124;03m\"\"\"\u001B[39;00m\n\u001B[1;32m     95\u001B[0m \u001B[38;5;124;03m:param artifact_uri: The *absolute* URI of the artifact to download.\u001B[39;00m\n\u001B[1;32m     96\u001B[0m \u001B[38;5;124;03m:param output_path: The local filesystem path to which to download the artifact. If unspecified,\u001B[39;00m\n\u001B[1;32m     97\u001B[0m \u001B[38;5;124;03m                    a local output path will be created.\u001B[39;00m\n\u001B[1;32m     98\u001B[0m \u001B[38;5;124;03m\"\"\"\u001B[39;00m\n\u001B[1;32m     99\u001B[0m root_uri, artifact_path \u001B[38;5;241m=\u001B[39m _get_root_uri_and_artifact_path(artifact_uri)\n\u001B[0;32m--> 100\u001B[0m \u001B[38;5;28;01mreturn\u001B[39;00m \u001B[43mget_artifact_repository\u001B[49m\u001B[43m(\u001B[49m\u001B[43martifact_uri\u001B[49m\u001B[38;5;241;43m=\u001B[39;49m\u001B[43mroot_uri\u001B[49m\u001B[43m)\u001B[49m\u001B[38;5;241;43m.\u001B[39;49m\u001B[43mdownload_artifacts\u001B[49m\u001B[43m(\u001B[49m\n\u001B[1;32m    101\u001B[0m \u001B[43m    \u001B[49m\u001B[43martifact_path\u001B[49m\u001B[38;5;241;43m=\u001B[39;49m\u001B[43martifact_path\u001B[49m\u001B[43m,\u001B[49m\u001B[43m \u001B[49m\u001B[43mdst_path\u001B[49m\u001B[38;5;241;43m=\u001B[39;49m\u001B[43moutput_path\u001B[49m\n\u001B[1;32m    102\u001B[0m \u001B[43m\u001B[49m\u001B[43m)\u001B[49m\n\nFile \u001B[0;32m/local_disk0/.ephemeral_nfs/envs/pythonEnv-5b39b710-e3b0-474b-a81a-48cf2bd2cc4b/lib/python3.10/site-packages/mlflow/store/artifact/artifact_repo.py:189\u001B[0m, in \u001B[0;36mArtifactRepository.download_artifacts\u001B[0;34m(self, artifact_path, dst_path)\u001B[0m\n\u001B[1;32m    187\u001B[0m \u001B[38;5;66;03m# Submit download tasks\u001B[39;00m\n\u001B[1;32m    188\u001B[0m futures \u001B[38;5;241m=\u001B[39m {}\n\u001B[0;32m--> 189\u001B[0m \u001B[38;5;28;01mif\u001B[39;00m \u001B[38;5;28;43mself\u001B[39;49m\u001B[38;5;241;43m.\u001B[39;49m\u001B[43m_is_directory\u001B[49m\u001B[43m(\u001B[49m\u001B[43martifact_path\u001B[49m\u001B[43m)\u001B[49m:\n\u001B[1;32m    190\u001B[0m     \u001B[38;5;28;01mfor\u001B[39;00m file_info \u001B[38;5;129;01min\u001B[39;00m \u001B[38;5;28mself\u001B[39m\u001B[38;5;241m.\u001B[39m_iter_artifacts_recursive(artifact_path):\n\u001B[1;32m    191\u001B[0m         \u001B[38;5;28;01mif\u001B[39;00m file_info\u001B[38;5;241m.\u001B[39mis_dir:  \u001B[38;5;66;03m# Empty directory\u001B[39;00m\n\nFile \u001B[0;32m/local_disk0/.ephemeral_nfs/envs/pythonEnv-5b39b710-e3b0-474b-a81a-48cf2bd2cc4b/lib/python3.10/site-packages/mlflow/store/artifact/artifact_repo.py:92\u001B[0m, in \u001B[0;36mArtifactRepository._is_directory\u001B[0;34m(self, artifact_path)\u001B[0m\n\u001B[1;32m     91\u001B[0m \u001B[38;5;28;01mdef\u001B[39;00m \u001B[38;5;21m_is_directory\u001B[39m(\u001B[38;5;28mself\u001B[39m, artifact_path):\n\u001B[0;32m---> 92\u001B[0m     listing \u001B[38;5;241m=\u001B[39m \u001B[38;5;28;43mself\u001B[39;49m\u001B[38;5;241;43m.\u001B[39;49m\u001B[43mlist_artifacts\u001B[49m\u001B[43m(\u001B[49m\u001B[43martifact_path\u001B[49m\u001B[43m)\u001B[49m\n\u001B[1;32m     93\u001B[0m     \u001B[38;5;28;01mreturn\u001B[39;00m \u001B[38;5;28mlen\u001B[39m(listing) \u001B[38;5;241m>\u001B[39m \u001B[38;5;241m0\u001B[39m\n\nFile \u001B[0;32m/local_disk0/.ephemeral_nfs/envs/pythonEnv-5b39b710-e3b0-474b-a81a-48cf2bd2cc4b/lib/python3.10/site-packages/mlflow/store/artifact/http_artifact_repo.py:49\u001B[0m, in \u001B[0;36mHttpArtifactRepository.list_artifacts\u001B[0;34m(self, path)\u001B[0m\n\u001B[1;32m     47\u001B[0m \u001B[38;5;28;01mdef\u001B[39;00m \u001B[38;5;21mlist_artifacts\u001B[39m(\u001B[38;5;28mself\u001B[39m, path\u001B[38;5;241m=\u001B[39m\u001B[38;5;28;01mNone\u001B[39;00m):\n\u001B[1;32m     48\u001B[0m     endpoint \u001B[38;5;241m=\u001B[39m \u001B[38;5;124m\"\u001B[39m\u001B[38;5;124m/mlflow-artifacts/artifacts\u001B[39m\u001B[38;5;124m\"\u001B[39m\n\u001B[0;32m---> 49\u001B[0m     url, tail \u001B[38;5;241m=\u001B[39m \u001B[38;5;28mself\u001B[39m\u001B[38;5;241m.\u001B[39martifact_uri\u001B[38;5;241m.\u001B[39msplit(endpoint, maxsplit\u001B[38;5;241m=\u001B[39m\u001B[38;5;241m1\u001B[39m)\n\u001B[1;32m     50\u001B[0m     root \u001B[38;5;241m=\u001B[39m tail\u001B[38;5;241m.\u001B[39mlstrip(\u001B[38;5;124m\"\u001B[39m\u001B[38;5;124m/\u001B[39m\u001B[38;5;124m\"\u001B[39m)\n\u001B[1;32m     51\u001B[0m     params \u001B[38;5;241m=\u001B[39m {\u001B[38;5;124m\"\u001B[39m\u001B[38;5;124mpath\u001B[39m\u001B[38;5;124m\"\u001B[39m: posixpath\u001B[38;5;241m.\u001B[39mjoin(root, path) \u001B[38;5;28;01mif\u001B[39;00m path \u001B[38;5;28;01melse\u001B[39;00m root}\n\n\u001B[0;31mValueError\u001B[0m: not enough values to unpack (expected 2, got 1)",
       "errorSummary": "<span class='ansi-red-fg'>ValueError</span>: not enough values to unpack (expected 2, got 1)",
       "errorTraceType": "ansi",
       "metadata": {},
       "type": "ipynbError"
      }
     },
     "output_type": "display_data"
    }
   ],
   "source": [
    "import mlflow\n",
    "mlflow.pyfunc.load_model(z.route_url)"
   ]
  },
  {
   "cell_type": "code",
   "execution_count": 0,
   "metadata": {
    "application/vnd.databricks.v1+cell": {
     "cellMetadata": {
      "byteLimit": 2048000,
      "rowLimit": 10000
     },
     "inputWidgets": {},
     "nuid": "d77051ad-b53b-445a-8e30-8a1ae0d65025",
     "showTitle": false,
     "title": ""
    }
   },
   "outputs": [
    {
     "output_type": "display_data",
     "data": {
      "text/plain": [
       "\u001B[0;31m---------------------------------------------------------------------------\u001B[0m\n",
       "\u001B[0;31mAttributeError\u001B[0m                            Traceback (most recent call last)\n",
       "File \u001B[0;32m<command-4399696887388417>:4\u001B[0m\n",
       "\u001B[1;32m      1\u001B[0m \u001B[38;5;28;01mimport\u001B[39;00m \u001B[38;5;21;01mmlflow\u001B[39;00m\n",
       "\u001B[1;32m      3\u001B[0m \u001B[38;5;66;03m# get the model path as a string\u001B[39;00m\n",
       "\u001B[0;32m----> 4\u001B[0m model_path \u001B[38;5;241m=\u001B[39m z\u001B[38;5;241m.\u001B[39mmodel\u001B[38;5;241m.\u001B[39mrun_id \u001B[38;5;241m+\u001B[39m \u001B[38;5;124m\"\u001B[39m\u001B[38;5;124m/\u001B[39m\u001B[38;5;124m\"\u001B[39m \u001B[38;5;241m+\u001B[39m z\u001B[38;5;241m.\u001B[39mmodel\u001B[38;5;241m.\u001B[39martifact_path\n",
       "\u001B[1;32m      6\u001B[0m \u001B[38;5;66;03m# load the model\u001B[39;00m\n",
       "\u001B[1;32m      7\u001B[0m model \u001B[38;5;241m=\u001B[39m mlflow\u001B[38;5;241m.\u001B[39mpyfunc\u001B[38;5;241m.\u001B[39mload_model(model_path)\n",
       "\n",
       "\u001B[0;31mAttributeError\u001B[0m: 'RouteModelInfo' object has no attribute 'run_id'"
      ]
     },
     "metadata": {
      "application/vnd.databricks.v1+output": {
       "arguments": {},
       "data": "\u001B[0;31m---------------------------------------------------------------------------\u001B[0m\n\u001B[0;31mAttributeError\u001B[0m                            Traceback (most recent call last)\nFile \u001B[0;32m<command-4399696887388417>:4\u001B[0m\n\u001B[1;32m      1\u001B[0m \u001B[38;5;28;01mimport\u001B[39;00m \u001B[38;5;21;01mmlflow\u001B[39;00m\n\u001B[1;32m      3\u001B[0m \u001B[38;5;66;03m# get the model path as a string\u001B[39;00m\n\u001B[0;32m----> 4\u001B[0m model_path \u001B[38;5;241m=\u001B[39m z\u001B[38;5;241m.\u001B[39mmodel\u001B[38;5;241m.\u001B[39mrun_id \u001B[38;5;241m+\u001B[39m \u001B[38;5;124m\"\u001B[39m\u001B[38;5;124m/\u001B[39m\u001B[38;5;124m\"\u001B[39m \u001B[38;5;241m+\u001B[39m z\u001B[38;5;241m.\u001B[39mmodel\u001B[38;5;241m.\u001B[39martifact_path\n\u001B[1;32m      6\u001B[0m \u001B[38;5;66;03m# load the model\u001B[39;00m\n\u001B[1;32m      7\u001B[0m model \u001B[38;5;241m=\u001B[39m mlflow\u001B[38;5;241m.\u001B[39mpyfunc\u001B[38;5;241m.\u001B[39mload_model(model_path)\n\n\u001B[0;31mAttributeError\u001B[0m: 'RouteModelInfo' object has no attribute 'run_id'",
       "errorSummary": "<span class='ansi-red-fg'>AttributeError</span>: 'RouteModelInfo' object has no attribute 'run_id'",
       "errorTraceType": "ansi",
       "metadata": {},
       "type": "ipynbError"
      }
     },
     "output_type": "display_data"
    }
   ],
   "source": [
    "import mlflow\n",
    "\n",
    "# get the model path as a string\n",
    "model_path = z.model.run_id + \"/\" + z.model.artifact_path\n",
    "\n",
    "# load the model\n",
    "model = mlflow.pyfunc.load_model(model_path)"
   ]
  },
  {
   "cell_type": "code",
   "execution_count": 0,
   "metadata": {
    "application/vnd.databricks.v1+cell": {
     "cellMetadata": {
      "byteLimit": 2048000,
      "rowLimit": 10000
     },
     "inputWidgets": {},
     "nuid": "cda17c86-4ef5-415e-8bdd-a9029bd57790",
     "showTitle": false,
     "title": ""
    }
   },
   "outputs": [
    {
     "output_type": "display_data",
     "data": {
      "text/plain": [
       "\u001B[0;31m---------------------------------------------------------------------------\u001B[0m\n",
       "\u001B[0;31mAttributeError\u001B[0m                            Traceback (most recent call last)\n",
       "File \u001B[0;32m<command-4399696887388422>:1\u001B[0m\n",
       "\u001B[0;32m----> 1\u001B[0m run_id \u001B[38;5;241m=\u001B[39m \u001B[43mz\u001B[49m\u001B[38;5;241;43m.\u001B[39;49m\u001B[43mmodel\u001B[49m\u001B[38;5;241;43m.\u001B[39;49m\u001B[43mrun\u001B[49m\u001B[38;5;241m.\u001B[39mrun_id\n",
       "\n",
       "\u001B[0;31mAttributeError\u001B[0m: 'RouteModelInfo' object has no attribute 'run'"
      ]
     },
     "metadata": {
      "application/vnd.databricks.v1+output": {
       "arguments": {},
       "data": "\u001B[0;31m---------------------------------------------------------------------------\u001B[0m\n\u001B[0;31mAttributeError\u001B[0m                            Traceback (most recent call last)\nFile \u001B[0;32m<command-4399696887388422>:1\u001B[0m\n\u001B[0;32m----> 1\u001B[0m run_id \u001B[38;5;241m=\u001B[39m \u001B[43mz\u001B[49m\u001B[38;5;241;43m.\u001B[39;49m\u001B[43mmodel\u001B[49m\u001B[38;5;241;43m.\u001B[39;49m\u001B[43mrun\u001B[49m\u001B[38;5;241m.\u001B[39mrun_id\n\n\u001B[0;31mAttributeError\u001B[0m: 'RouteModelInfo' object has no attribute 'run'",
       "errorSummary": "<span class='ansi-red-fg'>AttributeError</span>: 'RouteModelInfo' object has no attribute 'run'",
       "errorTraceType": "ansi",
       "metadata": {},
       "type": "ipynbError"
      }
     },
     "output_type": "display_data"
    }
   ],
   "source": [
    "run_id = z.model.run.run_id"
   ]
  },
  {
   "cell_type": "code",
   "execution_count": 0,
   "metadata": {
    "application/vnd.databricks.v1+cell": {
     "cellMetadata": {
      "byteLimit": 2048000,
      "rowLimit": 10000
     },
     "inputWidgets": {},
     "nuid": "444bd5fa-9930-408f-9eea-d6f573015a4a",
     "showTitle": false,
     "title": ""
    }
   },
   "outputs": [
    {
     "output_type": "execute_result",
     "data": {
      "text/plain": [
       "RouteModelInfo(name='llama2-70b-chat', provider='mosaicml')"
      ]
     },
     "execution_count": 37,
     "metadata": {},
     "output_type": "execute_result"
    }
   ],
   "source": [
    "z.model"
   ]
  },
  {
   "cell_type": "code",
   "execution_count": 0,
   "metadata": {
    "application/vnd.databricks.v1+cell": {
     "cellMetadata": {
      "byteLimit": 2048000,
      "rowLimit": 10000
     },
     "inputWidgets": {},
     "nuid": "6058424a-55b9-493d-98fd-168e6239924e",
     "showTitle": false,
     "title": ""
    }
   },
   "outputs": [],
   "source": [
    "prompt = \"\"\"[INST] <<SYS>>\n",
    "you are a translator which converts english to hindi. Please translate the text from english to hindi language\n",
    "<</SYS>>\n",
    "Gardening is a popular hobby and a great way to connect with nature. It not only provides an opportunity to grow your own food, but also helps in reducing stress and improving mental health. Gardening can be a fun and rewarding experience, but it requires some knowledge and skills to maintain a healthy and thriving garden.To start a garden, one needs to choose the right location, select the appropriate plants, and prepare the soil. The location should receive enough sunlight and have proper drainage.[/INST]\"\"\""
   ]
  },
  {
   "cell_type": "code",
   "execution_count": 0,
   "metadata": {
    "application/vnd.databricks.v1+cell": {
     "cellMetadata": {
      "byteLimit": 2048000,
      "rowLimit": 10000
     },
     "inputWidgets": {},
     "nuid": "d9439378-58a2-410b-be03-6b8ae3e822fd",
     "showTitle": false,
     "title": ""
    }
   },
   "outputs": [],
   "source": [
    "from mlflow.gateway import set_gateway_uri, create_route, query\n",
    "\n",
    "# Set the MLflow AI Gateway server\n",
    "set_gateway_uri(\"databricks\")\n",
    "\n",
    "# Create a Route for text completions with MosaicML Inference API \n",
    "create_route(\n",
    "    name=\"llama2-70b-chat9\",\n",
    "    route_type=\"llm/v1/completions\",\n",
    "    model={\n",
    "        \"name\": \"llama2-70b-chat\",\n",
    "        \"provider\": \"mosaicml\",\n",
    "        \"mosaicml_config\": {\n",
    "        \"mosaicml_api_key\": \"30HUkJ.UEvkMW9tAyMS7v91L4-e-gA0r.MKC0GUBphZ.2y5\"\n",
    "        }\n",
    "    }\n",
    ")\n",
    "\n",
    "# We'll explain this prompt format later in the blog post!\n",
    "promptj =\"\"\"[INST] <<SYS>>\n",
    "you are a translator which converts english to hindi. Please translate the text from english to hindi language\n",
    "<</SYS>>\n",
    "What is the interest rate in HDFC Bank?\n",
    "The interest rate in HDFC Bank varies depending on the type of loan or deposit product. Here are some of the current interest rates offered by HDFC Bank:\n",
    "1. Home Loan:\n",
    "\t* For salaried individuals: 8.60% to 11.50% p.a.\n",
    "\t* For self-employed individuals: 8.60% to 11.75% p.a.\n",
    "2. Personal Loan:\n",
    "\t* 11.25% to 17.50% p.a.\n",
    "3. Car Loan:\n",
    "\t* 8.75% to 11.50% p.a.\n",
    "4. Education Loan:\n",
    "\t* 10.50% to 12.50% p.a.\n",
    "5. Fixed Deposit:\n",
    "\t* 2.50% to 6.25% p.a. (for deposits up to 1 crore)\n",
    "\t* 3.00% to 6.50% p.a. (for deposits above 1 crore)\n",
    "6. Savings Account:\n",
    "\t* 3.00% to 4.00% p.a. (for balances up to 1 lakh)\n",
    "\t* 2.50% to 3.50% p.a. (for balances above 1 lakh)\n",
    "[/INST]\"\"\"\n",
    "\n",
    "# Query the Route with a prompt\n",
    "response1 = query(\n",
    "    route=\"llama2-70b-chat9\",\n",
    "    data={\"prompt\": promptj,\"temperature\": 0.1,\n",
    "        \"max_tokens\": 1000}\n",
    ")"
   ]
  },
  {
   "cell_type": "code",
   "execution_count": 0,
   "metadata": {
    "application/vnd.databricks.v1+cell": {
     "cellMetadata": {
      "byteLimit": 2048000,
      "rowLimit": 10000
     },
     "inputWidgets": {},
     "nuid": "361970b8-0962-48ca-833b-bc8a8df894e1",
     "showTitle": false,
     "title": ""
    }
   },
   "outputs": [
    {
     "output_type": "execute_result",
     "data": {
      "text/plain": [
       "' HDFC बैंक में ब्याज की दर क्या है?\\n\\nHDFC बैंक में लोन या जमा उत्पाद के प्रकार के ब्याज दर अलग-अलग हैं। निम्नलिखित हैं जो ब्याज दर HDFC बैंक द्वारा वर्तमान में प्रदान किए जा रहे हैं:\\n\\n1. घर लोन:\\n\\t* सलारी वाले व्यक्ति: 8.60% से 11.50% प्रति वर्ष का\\n\\t* स्व-संचालित व्यक्ति: 8.60% से 11.75% प्रति वर्ष का\\n2. पर्सनल लोन:\\n\\t* 11.25% से 17.50% प्रति वर्ष का\\n3. कार लोन:\\n\\t* 8.75% से 11.50% प्रति वर्ष का\\n4. शिक्षा लोन:\\n\\t* 10.50% से 12.50% प्रति वर्ष का\\n5. फिक्स्ड डिपॉजिट:\\n\\t* 2.50% से 6.25% प्रति वर्ष का (1 करोड़ तक के लिए)\\n\\t* 3.00% से 6.50% प्रति वर्ष का (1 करोड़ से अधिक के लिए)\\n6. स्विंग अकाउंट:\\n\\t* 3.00% से 4.00% प्रति वर्ष का (1 लाख तक के लिए)\\n\\t* 2.50% से 3.50% प्रति वर्ष का (1 लाख से अधिक के लिए)'"
      ]
     },
     "execution_count": 42,
     "metadata": {},
     "output_type": "execute_result"
    }
   ],
   "source": [
    "response1['candidates'][0]['text']"
   ]
  },
  {
   "cell_type": "code",
   "execution_count": 0,
   "metadata": {
    "application/vnd.databricks.v1+cell": {
     "cellMetadata": {
      "byteLimit": 2048000,
      "rowLimit": 10000
     },
     "inputWidgets": {},
     "nuid": "63cd92f8-ec79-4a39-b554-2282cd34ecab",
     "showTitle": false,
     "title": ""
    }
   },
   "outputs": [],
   "source": [
    "#prompt=\"HDFC बैंक में ब्याज की दर क्या है?\"\n",
    "prompt1=\"एचडीएफसी बैंक में एफडी पर अब क्या है ब्याज दर?\""
   ]
  },
  {
   "cell_type": "code",
   "execution_count": 0,
   "metadata": {
    "application/vnd.databricks.v1+cell": {
     "cellMetadata": {
      "byteLimit": 2048000,
      "rowLimit": 10000
     },
     "inputWidgets": {},
     "nuid": "6f03ffae-30ad-4232-864b-22268704994a",
     "showTitle": false,
     "title": ""
    }
   },
   "outputs": [],
   "source": [
    "def generating_text(prompt,route_param,token):\n",
    "    set_gateway_uri(\"databricks\")\n",
    "\n",
    "    # Create a Route for text completions with MosaicML Inference API \n",
    "    create_route(\n",
    "        name=route_param,\n",
    "        route_type=\"llm/v1/completions\",\n",
    "        model={\n",
    "            \"name\": \"llama2-70b-chat\",\n",
    "            \"provider\": \"mosaicml\",\n",
    "            \"mosaicml_config\": {\n",
    "            \"mosaicml_api_key\": \"30HUkJ.UEvkMW9tAyMS7v91L4-e-gA0r.MKC0GUBphZ.2y5\"\n",
    "            }\n",
    "        }\n",
    "    )\n",
    "\n",
    "    response1 = query(\n",
    "    route=route_param,\n",
    "    data={\"prompt\": prompt,\"temperature\": 0.1,\n",
    "        \"max_tokens\": token}\n",
    "    )\n",
    "\n",
    "    return(response1)"
   ]
  },
  {
   "cell_type": "code",
   "execution_count": 0,
   "metadata": {
    "application/vnd.databricks.v1+cell": {
     "cellMetadata": {
      "byteLimit": 2048000,
      "rowLimit": 10000
     },
     "inputWidgets": {},
     "nuid": "4a55a583-9436-4c5a-9703-ea969827aec4",
     "showTitle": false,
     "title": ""
    }
   },
   "outputs": [
    {
     "output_type": "execute_result",
     "data": {
      "text/plain": [
       "{'candidates': [{'text': '\\nWhat is the interest rate on FD in HDFC Bank?\\nHDFC Bank offers various fixed deposit schemes with different interest rates. The interest rates on fixed deposits in HDFC Bank vary based on the deposit amount, deposit tenure, and the type of depositor (senior citizen or non-senior citizen).\\nAs of March 2023, the interest rates on fixed deposits in HDFC Bank for non-senior citizens are as follows:\\n\\n* For deposits up to Rs. 2 crore, the interest rate ranges from 3.50% p.a. to 6.25% p.a.\\n* For deposits above Rs. 2 crore, the interest rate ranges from 3.50% p.a. to 6.00% p.a.\\n\\nFor senior citizens, the bank offers an additional',\n",
       "   'metadata': {}}],\n",
       " 'metadata': {'model': 'llama2-70b-chat', 'route_type': 'llm/v1/completions'}}"
      ]
     },
     "execution_count": 23,
     "metadata": {},
     "output_type": "execute_result"
    }
   ],
   "source": [
    "generating_text(prompt1,\"shalu2\",200)"
   ]
  },
  {
   "cell_type": "code",
   "execution_count": 0,
   "metadata": {
    "application/vnd.databricks.v1+cell": {
     "cellMetadata": {
      "byteLimit": 2048000,
      "rowLimit": 10000
     },
     "inputWidgets": {},
     "nuid": "474a4d9a-a88b-4250-b955-4e8cf4c12050",
     "showTitle": false,
     "title": ""
    }
   },
   "outputs": [],
   "source": [
    "system=\"you are a translator which converts english to hindi. Please translate the given text to hindi language\"\n",
    "user=\"एचडीएफसी बैंक में एफडी पर अब क्या है ब्याज दर?\""
   ]
  },
  {
   "cell_type": "code",
   "execution_count": 0,
   "metadata": {
    "application/vnd.databricks.v1+cell": {
     "cellMetadata": {
      "byteLimit": 2048000,
      "rowLimit": 10000
     },
     "inputWidgets": {},
     "nuid": "0f7fd73a-de41-4fb5-b461-6898f4006f49",
     "showTitle": false,
     "title": ""
    }
   },
   "outputs": [],
   "source": [
    "def result_llm(system, user,token,token1,text,text1):\n",
    "    prompt=f\"{user}\"\n",
    "    result=generating_text(prompt,text,token)\n",
    "    res=result['candidates'][0]['text']\n",
    "    print(res)\n",
    "    prompt2=f\"[INST] <<SYS>> {system} <</SYS>> {res} [/INST]\"\n",
    "    print(prompt2)\n",
    "    result1=generating_text(prompt2,text1,token1)\n",
    "    print(result1)44\n",
    "    return(result1['candidates'][0]['text'])\n",
    "\n",
    "     "
   ]
  },
  {
   "cell_type": "code",
   "execution_count": 0,
   "metadata": {
    "application/vnd.databricks.v1+cell": {
     "cellMetadata": {
      "byteLimit": 2048000,
      "rowLimit": 10000
     },
     "inputWidgets": {},
     "nuid": "fd7cc6b4-62f2-41c4-a368-2a12714e1289",
     "showTitle": false,
     "title": ""
    }
   },
   "outputs": [
    {
     "output_type": "stream",
     "name": "stdout",
     "output_type": "stream",
     "text": [
      "\nWhat is the interest rate on FD in HDFC Bank?\nHDFC Bank offers various fixed deposit schemes with different interest rates. The interest rates on fixed deposits in HDFC Bank are subject to change from time to time and are also dependent on the tenure of the deposit.\nAs of March 2023, the interest rates on fixed deposits in HDFC Bank for deposits up to ₹1 crore are as follows:\n\n* For deposits with a tenure of 7 days to 14 days, the interest rate is 3.50% p.a.\n* For deposits with a tenure of 15 days to 29 days, the interest rate is 4.00% p.a.\n* For deposits with a tenure of 30 days to 45 days, the interest rate is 4.50% p.a.\n* For deposits with a tenure of 46 days to 60 days, the interest rate is 5.00% p.a.\n* For deposits with a tenure of 61 days to 90 days, the interest rate is 5.50% p.a.\n* For deposits with a tenure of 91 days to 184 days, the interest rate is 6.00% p.a.\n* For deposits with a tenure of 185 days to 279 days, the interest rate is 6.50% p.a.\n* For deposits with a tenure of 280 days to 364 days, the interest rate is 7.00% p.a.\n* For deposits with a tenure of 365 days to 2 years, the interest rate is 7.50% p.a.\n* For deposits with a tenure of 2 years 1 day to 3 years, the interest rate is 8.00% p.a.\n* For deposits with a tenure of 3 years 1 day to 5 years, the interest rate is 8.50% p.a.\n* For deposits with a tenure of 5 years 1 day to 1\n[INST] <<SYS>> you are a translator which converts english to hindi. Please translate the given text to hindi language <</SYS>> \nWhat is the interest rate on FD in HDFC Bank?\nHDFC Bank offers various fixed deposit schemes with different interest rates. The interest rates on fixed deposits in HDFC Bank are subject to change from time to time and are also dependent on the tenure of the deposit.\nAs of March 2023, the interest rates on fixed deposits in HDFC Bank for deposits up to ₹1 crore are as follows:\n\n* For deposits with a tenure of 7 days to 14 days, the interest rate is 3.50% p.a.\n* For deposits with a tenure of 15 days to 29 days, the interest rate is 4.00% p.a.\n* For deposits with a tenure of 30 days to 45 days, the interest rate is 4.50% p.a.\n* For deposits with a tenure of 46 days to 60 days, the interest rate is 5.00% p.a.\n* For deposits with a tenure of 61 days to 90 days, the interest rate is 5.50% p.a.\n* For deposits with a tenure of 91 days to 184 days, the interest rate is 6.00% p.a.\n* For deposits with a tenure of 185 days to 279 days, the interest rate is 6.50% p.a.\n* For deposits with a tenure of 280 days to 364 days, the interest rate is 7.00% p.a.\n* For deposits with a tenure of 365 days to 2 years, the interest rate is 7.50% p.a.\n* For deposits with a tenure of 2 years 1 day to 3 years, the interest rate is 8.00% p.a.\n* For deposits with a tenure of 3 years 1 day to 5 years, the interest rate is 8.50% p.a.\n* For deposits with a tenure of 5 years 1 day to 1 [/INST]\n{'candidates': [{'text': ' HDFC बैंक में FD का ब्याज क्या है?\\n\\nHDFC बैंक विभिन्न स्कीम के साथ स्थिर जमा करता है, जिसमें अलग-अलग समय के लिए अलग-अलग ब्याज दिया जाता है। HDFC बैंक में FD का ब्याज समय-समय पर बदलता है और यह भी संबंधित है कि जमा करane के लिए समय का स्कीम चune करता है।\\n\\nमार्च 2023 तक, HDFC बैंक में FD का ब्याज अनुक्रम से निम्न है:\\n\\n* 7 दिन से 14 दिन के लिए ब्याज 3.50% प्रति वर्ष है।\\n* 15 दिन से 29 दिन के लिए ब्याज 4.00% प्रति वर्ष है।\\n* 30 दिन से 45 दिन के लिए ब्याज 4.50% प्रति वर्ष है।\\n* 46 दिन से 60 दिन के लिए ब्याज 5.00% प्रति वर्ष है।\\n* 61 दिन से 90 दिन के लिए ब्याज 5.50% प्रति वर्ष है।\\n* 91 दिन से 184 दिन के लिए ब्याज 6.00% प्रति वर्ष है।\\n* 185 दिन से 279 दिन के लिए ब्याज 6.50% प्रति वर्ष है।\\n* 280 दिन से 364 दिन के लिए ब्याज 7.00% प्रति वर्ष है।\\n* 365 दिन से 2 साल के लिए ब्याज 7.50% प्रति वर्ष है।\\n* 2 साल 1 दिन से 3 साल के लिए ब्याज 8.00% प्रति वर्ष है।\\n* 3 साल 1 दिन से 5 साल के लिए ब्याज 8.50% प्रति वर्ष है।\\n* 5 साल 1 दिन से 10 साल के लिए ब्याज 9.00% प्रति वर्ष है।\\n\\nउम्मीद की जात है कि इस जानकारी का उपयोग आपको करेगा!', 'metadata': {}}], 'metadata': {'model': 'llama2-70b-chat', 'route_type': 'llm/v1/completions'}}\n"
     ]
    }
   ],
   "source": [
    "t=result_llm(system,user,500,2000,\"shalu124\",\"shal174\")"
   ]
  },
  {
   "cell_type": "code",
   "execution_count": 0,
   "metadata": {
    "application/vnd.databricks.v1+cell": {
     "cellMetadata": {
      "byteLimit": 2048000,
      "rowLimit": 10000
     },
     "inputWidgets": {},
     "nuid": "aa94e8e6-8905-40c6-94df-f8e684806b2e",
     "showTitle": false,
     "title": ""
    }
   },
   "outputs": [
    {
     "output_type": "execute_result",
     "data": {
      "text/plain": [
       "' HDFC बैंक में FD का ब्याज क्या है?\\n\\nHDFC बैंक विभिन्न स्कीम के साथ स्थिर जमा करता है, जिसमें अलग-अलग समय के लिए अलग-अलग ब्याज दिया जाता है। HDFC बैंक में FD का ब्याज समय-समय पर बदलता है और यह भी संबंधित है कि जमा करane के लिए समय का स्कीम चune करता है।\\n\\nमार्च 2023 तक, HDFC बैंक में FD का ब्याज अनुक्रम से निम्न है:\\n\\n* 7 दिन से 14 दिन के लिए ब्याज 3.50% प्रति वर्ष है।\\n* 15 दिन से 29 दिन के लिए ब्याज 4.00% प्रति वर्ष है।\\n* 30 दिन से 45 दिन के लिए ब्याज 4.50% प्रति वर्ष है।\\n* 46 दिन से 60 दिन के लिए ब्याज 5.00% प्रति वर्ष है।\\n* 61 दिन से 90 दिन के लिए ब्याज 5.50% प्रति वर्ष है।\\n* 91 दिन से 184 दिन के लिए ब्याज 6.00% प्रति वर्ष है।\\n* 185 दिन से 279 दिन के लिए ब्याज 6.50% प्रति वर्ष है।\\n* 280 दिन से 364 दिन के लिए ब्याज 7.00% प्रति वर्ष है।\\n* 365 दिन से 2 साल के लिए ब्याज 7.50% प्रति वर्ष है।\\n* 2 साल 1 दिन से 3 साल के लिए ब्याज 8.00% प्रति वर्ष है।\\n* 3 साल 1 दिन से 5 साल के लिए ब्याज 8.50% प्रति वर्ष है।\\n* 5 साल 1 दिन से 10 साल के लिए ब्याज 9.00% प्रति वर्ष है।\\n\\nउम्मीद की जात है कि इस जानकारी का उपयोग आपको करेगा!'"
      ]
     },
     "execution_count": 26,
     "metadata": {},
     "output_type": "execute_result"
    }
   ],
   "source": [
    "t"
   ]
  },
  {
   "cell_type": "code",
   "execution_count": 0,
   "metadata": {
    "application/vnd.databricks.v1+cell": {
     "cellMetadata": {
      "byteLimit": 2048000,
      "rowLimit": 10000
     },
     "inputWidgets": {},
     "nuid": "0b557bdc-cf71-44cc-9172-6006116b23c1",
     "showTitle": false,
     "title": ""
    }
   },
   "outputs": [
    {
     "output_type": "stream",
     "name": "stdout",
     "output_type": "stream",
     "text": [
      "\u001B[43mNote: you may need to restart the kernel using dbutils.library.restartPython() to use updated packages.\u001B[0m\nCollecting gradio\n  Downloading gradio-4.7.1-py3-none-any.whl (16.5 MB)\n     ━━━━━━━━━━━━━━━━━━━━━━━━━━━━━━━━━━━━━━━━ 16.5/16.5 MB 50.4 MB/s eta 0:00:00\nCollecting pydantic>=2.0\n  Downloading pydantic-2.5.2-py3-none-any.whl (381 kB)\n     ━━━━━━━━━━━━━━━━━━━━━━━━━━━━━━━━━━━━━━ 381.9/381.9 kB 42.2 MB/s eta 0:00:00\nCollecting ffmpy\n  Downloading ffmpy-0.3.1.tar.gz (5.5 kB)\n  Preparing metadata (setup.py): started\n  Preparing metadata (setup.py): finished with status 'done'\nCollecting altair<6.0,>=4.2.0\n  Downloading altair-5.2.0-py3-none-any.whl (996 kB)\n     ━━━━━━━━━━━━━━━━━━━━━━━━━━━━━━━━━━━━━━ 996.9/996.9 kB 59.9 MB/s eta 0:00:00\nRequirement already satisfied: jinja2<4.0 in /databricks/python3/lib/python3.10/site-packages (from gradio) (2.11.3)\nCollecting pydub\n  Downloading pydub-0.25.1-py2.py3-none-any.whl (32 kB)\nRequirement already satisfied: pillow<11.0,>=8.0 in /databricks/python3/lib/python3.10/site-packages (from gradio) (9.2.0)\nRequirement already satisfied: matplotlib~=3.0 in /databricks/python3/lib/python3.10/site-packages (from gradio) (3.5.2)\nCollecting httpx\n  Downloading httpx-0.25.2-py3-none-any.whl (74 kB)\n     ━━━━━━━━━━━━━━━━━━━━━━━━━━━━━━━━━━━━━━━━ 75.0/75.0 kB 15.9 MB/s eta 0:00:00\nRequirement already satisfied: numpy~=1.0 in /databricks/python3/lib/python3.10/site-packages (from gradio) (1.21.5)\nCollecting aiofiles<24.0,>=22.0\n  Downloading aiofiles-23.2.1-py3-none-any.whl (15 kB)\nCollecting semantic-version~=2.0\n  Downloading semantic_version-2.10.0-py2.py3-none-any.whl (15 kB)\nCollecting gradio-client==0.7.0\n  Downloading gradio_client-0.7.0-py3-none-any.whl (302 kB)\n     ━━━━━━━━━━━━━━━━━━━━━━━━━━━━━━━━━━━━━━ 302.7/302.7 kB 36.1 MB/s eta 0:00:00\nRequirement already satisfied: requests~=2.0 in /databricks/python3/lib/python3.10/site-packages (from gradio) (2.28.1)\nRequirement already satisfied: huggingface-hub>=0.14.0 in /databricks/python3/lib/python3.10/site-packages (from gradio) (0.15.1)\nRequirement already satisfied: markupsafe~=2.0 in /databricks/python3/lib/python3.10/site-packages (from gradio) (2.0.1)\nCollecting uvicorn>=0.14.0\n  Downloading uvicorn-0.24.0.post1-py3-none-any.whl (59 kB)\n     ━━━━━━━━━━━━━━━━━━━━━━━━━━━━━━━━━━━━━━━━ 59.7/59.7 kB 12.4 MB/s eta 0:00:00\nCollecting tomlkit==0.12.0\n  Downloading tomlkit-0.12.0-py3-none-any.whl (37 kB)\nRequirement already satisfied: pyyaml<7.0,>=5.0 in /databricks/python3/lib/python3.10/site-packages (from gradio) (6.0)\nCollecting orjson~=3.0\n  Downloading orjson-3.9.10-cp310-cp310-manylinux_2_17_x86_64.manylinux2014_x86_64.whl (138 kB)\n     ━━━━━━━━━━━━━━━━━━━━━━━━━━━━━━━━━━━━━━ 138.7/138.7 kB 22.8 MB/s eta 0:00:00\nRequirement already satisfied: importlib-resources<7.0,>=1.3 in /databricks/python3/lib/python3.10/site-packages (from gradio) (5.12.0)\nCollecting fastapi\n  Downloading fastapi-0.104.1-py3-none-any.whl (92 kB)\n     ━━━━━━━━━━━━━━━━━━━━━━━━━━━━━━━━━━━━━━━━ 92.9/92.9 kB 18.3 MB/s eta 0:00:00\nRequirement already satisfied: typing-extensions~=4.0 in /databricks/python3/lib/python3.10/site-packages (from gradio) (4.3.0)\nRequirement already satisfied: packaging in /databricks/python3/lib/python3.10/site-packages (from gradio) (21.3)\nCollecting python-multipart\n  Downloading python_multipart-0.0.6-py3-none-any.whl (45 kB)\n     ━━━━━━━━━━━━━━━━━━━━━━━━━━━━━━━━━━━━━━━━ 45.7/45.7 kB 9.7 MB/s eta 0:00:00\nCollecting typer[all]<1.0,>=0.9\n  Downloading typer-0.9.0-py3-none-any.whl (45 kB)\n     ━━━━━━━━━━━━━━━━━━━━━━━━━━━━━━━━━━━━━━━━ 45.9/45.9 kB 9.9 MB/s eta 0:00:00\nRequirement already satisfied: pandas<3.0,>=1.0 in /databricks/python3/lib/python3.10/site-packages (from gradio) (1.4.4)\nCollecting websockets<12.0,>=10.0\n  Downloading websockets-11.0.3-cp310-cp310-manylinux_2_5_x86_64.manylinux1_x86_64.manylinux_2_17_x86_64.manylinux2014_x86_64.whl (129 kB)\n     ━━━━━━━━━━━━━━━━━━━━━━━━━━━━━━━━━━━━━━ 129.9/129.9 kB 23.8 MB/s eta 0:00:00\nRequirement already satisfied: fsspec in /databricks/python3/lib/python3.10/site-packages (from gradio-client==0.7.0->gradio) (2022.7.1)\nRequirement already satisfied: jsonschema>=3.0 in /databricks/python3/lib/python3.10/site-packages (from altair<6.0,>=4.2.0->gradio) (4.16.0)\nCollecting toolz\n  Downloading toolz-0.12.0-py3-none-any.whl (55 kB)\n     ━━━━━━━━━━━━━━━━━━━━━━━━━━━━━━━━━━━━━━━━ 55.8/55.8 kB 8.6 MB/s eta 0:00:00\nRequirement already satisfied: tqdm>=4.42.1 in /databricks/python3/lib/python3.10/site-packages (from huggingface-hub>=0.14.0->gradio) (4.64.1)\nRequirement already satisfied: filelock in /databricks/python3/lib/python3.10/site-packages (from huggingface-hub>=0.14.0->gradio) (3.6.0)\nRequirement already satisfied: python-dateutil>=2.7 in /databricks/python3/lib/python3.10/site-packages (from matplotlib~=3.0->gradio) (2.8.2)\nRequirement already satisfied: cycler>=0.10 in /databricks/python3/lib/python3.10/site-packages (from matplotlib~=3.0->gradio) (0.11.0)\nRequirement already satisfied: pyparsing>=2.2.1 in /databricks/python3/lib/python3.10/site-packages (from matplotlib~=3.0->gradio) (3.0.9)\nRequirement already satisfied: kiwisolver>=1.0.1 in /databricks/python3/lib/python3.10/site-packages (from matplotlib~=3.0->gradio) (1.4.2)\nRequirement already satisfied: fonttools>=4.22.0 in /databricks/python3/lib/python3.10/site-packages (from matplotlib~=3.0->gradio) (4.25.0)\nRequirement already satisfied: pytz>=2020.1 in /databricks/python3/lib/python3.10/site-packages (from pandas<3.0,>=1.0->gradio) (2022.1)\nCollecting typing-extensions~=4.0\n  Downloading typing_extensions-4.8.0-py3-none-any.whl (31 kB)\nCollecting annotated-types>=0.4.0\n  Downloading annotated_types-0.6.0-py3-none-any.whl (12 kB)\nCollecting pydantic-core==2.14.5\n  Downloading pydantic_core-2.14.5-cp310-cp310-manylinux_2_17_x86_64.manylinux2014_x86_64.whl (2.1 MB)\n     ━━━━━━━━━━━━━━━━━━━━━━━━━━━━━━━━━━━━━━━━ 2.1/2.1 MB 76.1 MB/s eta 0:00:00\nRequirement already satisfied: urllib3<1.27,>=1.21.1 in /databricks/python3/lib/python3.10/site-packages (from requests~=2.0->gradio) (1.26.11)\nRequirement already satisfied: charset-normalizer<3,>=2 in /databricks/python3/lib/python3.10/site-packages (from requests~=2.0->gradio) (2.0.4)\nRequirement already satisfied: idna<4,>=2.5 in /databricks/python3/lib/python3.10/site-packages (from requests~=2.0->gradio) (3.3)\nRequirement already satisfied: certifi>=2017.4.17 in /databricks/python3/lib/python3.10/site-packages (from requests~=2.0->gradio) (2022.9.14)\nRequirement already satisfied: click<9.0.0,>=7.1.1 in /databricks/python3/lib/python3.10/site-packages (from typer[all]<1.0,>=0.9->gradio) (8.0.4)\nCollecting rich<14.0.0,>=10.11.0\n  Downloading rich-13.7.0-py3-none-any.whl (240 kB)\n     ━━━━━━━━━━━━━━━━━━━━━━━━━━━━━━━━━━━━━━ 240.6/240.6 kB 39.4 MB/s eta 0:00:00\nCollecting colorama<0.5.0,>=0.4.3\n  Downloading colorama-0.4.6-py2.py3-none-any.whl (25 kB)\nCollecting shellingham<2.0.0,>=1.3.0\n  Downloading shellingham-1.5.4-py2.py3-none-any.whl (9.8 kB)\nCollecting h11>=0.8\n  Downloading h11-0.14.0-py3-none-any.whl (58 kB)\n     ━━━━━━━━━━━━━━━━━━━━━━━━━━━━━━━━━━━━━━━━ 58.3/58.3 kB 11.6 MB/s eta 0:00:00\nCollecting anyio<4.0.0,>=3.7.1\n  Downloading anyio-3.7.1-py3-none-any.whl (80 kB)\n     ━━━━━━━━━━━━━━━━━━━━━━━━━━━━━━━━━━━━━━━━ 80.9/80.9 kB 10.9 MB/s eta 0:00:00\nCollecting starlette<0.28.0,>=0.27.0\n  Downloading starlette-0.27.0-py3-none-any.whl (66 kB)\n     ━━━━━━━━━━━━━━━━━━━━━━━━━━━━━━━━━━━━━━━━ 67.0/67.0 kB 7.7 MB/s eta 0:00:00\nCollecting httpcore==1.*\n  Downloading httpcore-1.0.2-py3-none-any.whl (76 kB)\n     ━━━━━━━━━━━━━━━━━━━━━━━━━━━━━━━━━━━━━━━━ 76.9/76.9 kB 13.2 MB/s eta 0:00:00\nCollecting sniffio\n  Downloading sniffio-1.3.0-py3-none-any.whl (10 kB)\nCollecting exceptiongroup\n  Downloading exceptiongroup-1.2.0-py3-none-any.whl (16 kB)\nRequirement already satisfied: attrs>=17.4.0 in /databricks/python3/lib/python3.10/site-packages (from jsonschema>=3.0->altair<6.0,>=4.2.0->gradio) (21.4.0)\nRequirement already satisfied: pyrsistent!=0.17.0,!=0.17.1,!=0.17.2,>=0.14.0 in /databricks/python3/lib/python3.10/site-packages (from jsonschema>=3.0->altair<6.0,>=4.2.0->gradio) (0.18.0)\nRequirement already satisfied: six>=1.5 in /usr/lib/python3/dist-packages (from python-dateutil>=2.7->matplotlib~=3.0->gradio) (1.16.0)\nCollecting pygments<3.0.0,>=2.13.0\n  Downloading pygments-2.17.2-py3-none-any.whl (1.2 MB)\n     ━━━━━━━━━━━━━━━━━━━━━━━━━━━━━━━━━━━━━━━━ 1.2/1.2 MB 73.7 MB/s eta 0:00:00\nCollecting markdown-it-py>=2.2.0\n  Downloading markdown_it_py-3.0.0-py3-none-any.whl (87 kB)\n     ━━━━━━━━━━━━━━━━━━━━━━━━━━━━━━━━━━━━━━━━ 87.5/87.5 kB 19.2 MB/s eta 0:00:00\nCollecting mdurl~=0.1\n  Downloading mdurl-0.1.2-py3-none-any.whl (10.0 kB)\nBuilding wheels for collected packages: ffmpy\n  Building wheel for ffmpy (setup.py): started\n  Building wheel for ffmpy (setup.py): finished with status 'done'\n  Created wheel for ffmpy: filename=ffmpy-0.3.1-py3-none-any.whl size=5579 sha256=b7f1e6f68045ac0c4dffdb4aa3ad65b045dbe65e3713a49fab4406b812afa0e7\n  Stored in directory: /root/.cache/pip/wheels/01/a6/d1/1c0828c304a4283b2c1639a09ad86f83d7c487ef34c6b4a1bf\nSuccessfully built ffmpy\nInstalling collected packages: pydub, ffmpy, websockets, typing-extensions, toolz, tomlkit, sniffio, shellingham, semantic-version, python-multipart, pygments, orjson, mdurl, h11, exceptiongroup, colorama, annotated-types, aiofiles, uvicorn, typer, pydantic-core, markdown-it-py, httpcore, anyio, starlette, rich, pydantic, httpx, altair, gradio-client, fastapi, gradio\n  Attempting uninstall: typing-extensions\n    Found existing installation: typing_extensions 4.3.0\n    Not uninstalling typing-extensions at /databricks/python3/lib/python3.10/site-packages, outside environment /local_disk0/.ephemeral_nfs/envs/pythonEnv-84e9cf7d-4c48-4eff-a685-f44e9c31be95\n    Can't uninstall 'typing_extensions'. No files were found to uninstall.\n  Attempting uninstall: pygments\n    Found existing installation: Pygments 2.11.2\n    Not uninstalling pygments at /databricks/python3/lib/python3.10/site-packages, outside environment /local_disk0/.ephemeral_nfs/envs/pythonEnv-84e9cf7d-4c48-4eff-a685-f44e9c31be95\n    Can't uninstall 'Pygments'. No files were found to uninstall.\n  Attempting uninstall: typer\n    Found existing installation: typer 0.7.0\n    Not uninstalling typer at /databricks/python3/lib/python3.10/site-packages, outside environment /local_disk0/.ephemeral_nfs/envs/pythonEnv-84e9cf7d-4c48-4eff-a685-f44e9c31be95\n    Can't uninstall 'typer'. No files were found to uninstall.\n  Attempting uninstall: pydantic\n    Found existing installation: pydantic 1.10.6\n    Not uninstalling pydantic at /databricks/python3/lib/python3.10/site-packages, outside environment /local_disk0/.ephemeral_nfs/envs/pythonEnv-84e9cf7d-4c48-4eff-a685-f44e9c31be95\n    Can't uninstall 'pydantic'. No files were found to uninstall.\nERROR: pip's dependency resolver does not currently take into account all the packages that are installed. This behaviour is the source of the following dependency conflicts.\ndatabricks-feature-store 0.13.6 requires pyspark<4,>=3.1.2, which is not installed.\nydata-profiling 4.2.0 requires pydantic<2,>=1.8.1, but you have pydantic 2.5.2 which is incompatible.\nthinc 8.1.10 requires pydantic!=1.8,!=1.8.1,<1.11.0,>=1.7.4, but you have pydantic 2.5.2 which is incompatible.\nspacy 3.5.3 requires pydantic!=1.8,!=1.8.1,<1.11.0,>=1.7.4, but you have pydantic 2.5.2 which is incompatible.\nspacy 3.5.3 requires typer<0.8.0,>=0.3.0, but you have typer 0.9.0 which is incompatible.\nlangchain 0.0.181 requires pydantic<2,>=1, but you have pydantic 2.5.2 which is incompatible.\nconfection 0.0.4 requires pydantic!=1.8,!=1.8.1,<1.11.0,>=1.7.4, but you have pydantic 2.5.2 which is incompatible.\nSuccessfully installed aiofiles-23.2.1 altair-5.2.0 annotated-types-0.6.0 anyio-3.7.1 colorama-0.4.6 exceptiongroup-1.2.0 fastapi-0.104.1 ffmpy-0.3.1 gradio-4.7.1 gradio-client-0.7.0 h11-0.14.0 httpcore-1.0.2 httpx-0.25.2 markdown-it-py-3.0.0 mdurl-0.1.2 orjson-3.9.10 pydantic-2.5.2 pydantic-core-2.14.5 pydub-0.25.1 pygments-2.17.2 python-multipart-0.0.6 rich-13.7.0 semantic-version-2.10.0 shellingham-1.5.4 sniffio-1.3.0 starlette-0.27.0 tomlkit-0.12.0 toolz-0.12.0 typer-0.9.0 typing-extensions-4.8.0 uvicorn-0.24.0.post1 websockets-11.0.3\n\u001B[43mNote: you may need to restart the kernel using dbutils.library.restartPython() to use updated packages.\u001B[0m\n"
     ]
    }
   ],
   "source": [
    "%pip install gradio"
   ]
  },
  {
   "cell_type": "code",
   "execution_count": 0,
   "metadata": {
    "application/vnd.databricks.v1+cell": {
     "cellMetadata": {
      "byteLimit": 2048000,
      "rowLimit": 10000
     },
     "inputWidgets": {},
     "nuid": "0aeec36a-aa48-46e7-9caa-8cb40520d3d8",
     "showTitle": false,
     "title": ""
    }
   },
   "outputs": [],
   "source": [
    "dbutils.library.restartPython()"
   ]
  },
  {
   "cell_type": "code",
   "execution_count": 0,
   "metadata": {
    "application/vnd.databricks.v1+cell": {
     "cellMetadata": {
      "byteLimit": 2048000,
      "rowLimit": 10000
     },
     "inputWidgets": {},
     "nuid": "c6b0d96a-32b0-41d0-90a1-a47940fc3ba4",
     "showTitle": false,
     "title": ""
    }
   },
   "outputs": [
    {
     "output_type": "stream",
     "name": "stdout",
     "output_type": "stream",
     "text": [
      "Running on local URL:  http://127.0.0.1:7860\nRunning on public URL: https://a78f664df442850ec1.gradio.live\n\nThis share link expires in 72 hours. For free permanent hosting and GPU upgrades, run `gradio deploy` from Terminal to deploy to Spaces (https://huggingface.co/spaces)\n"
     ]
    },
    {
     "output_type": "display_data",
     "data": {
      "text/html": [
       "<style scoped>\n",
       "  .ansiout {\n",
       "    display: block;\n",
       "    unicode-bidi: embed;\n",
       "    white-space: pre-wrap;\n",
       "    word-wrap: break-word;\n",
       "    word-break: break-all;\n",
       "    font-family: \"Menlo\", \"Monaco\", \"Consolas\", \"Ubuntu Mono\", \"Source Code Pro\", monospace;\n",
       "    font-size: 13px;\n",
       "    color: #555;\n",
       "    margin-left: 4px;\n",
       "    line-height: 19px;\n",
       "  }\n",
       "</style>"
      ]
     },
     "metadata": {
      "application/vnd.databricks.v1+output": {
       "arguments": {},
       "data": "",
       "errorSummary": "Cancelled",
       "errorTraceType": "html",
       "metadata": {},
       "type": "ipynbError"
      }
     },
     "output_type": "display_data"
    }
   ],
   "source": [
    "import gradio as gr\n",
    "from mlflow.gateway import set_gateway_uri, create_route, query\n",
    "\n",
    "def generating_text(prompt,route_param,token):\n",
    "    set_gateway_uri(\"databricks\")\n",
    "\n",
    "    # Create a Route for text completions with MosaicML Inference API \n",
    "    create_route(\n",
    "        name=route_param,\n",
    "        route_type=\"llm/v1/completions\",\n",
    "        model={\n",
    "            \"name\": \"llama2-70b-chat\",\n",
    "            \"provider\": \"mosaicml\",\n",
    "            \"mosaicml_config\": {\n",
    "            \"mosaicml_api_key\": \"30HUkJ.UEvkMW9tAyMS7v91L4-e-gA0r.MKC0GUBphZ.2y5\"\n",
    "            }\n",
    "        }\n",
    "    )\n",
    "\n",
    "    response1 = query(\n",
    "    route=route_param,\n",
    "    data={\"prompt\": prompt,\"temperature\": 0.1,\n",
    "        \"max_tokens\": token}\n",
    "    )\n",
    "\n",
    "    return(response1)\n",
    "\n",
    "def greet(Input,RouteName1, RouteName2,token1,token2):\n",
    "    token1=int(token1)\n",
    "    token2=int(token2)\n",
    "    system=\"you are a translator which converts english to hindi. Please translate the given text to hindi language\"\n",
    "    prompt=f\"{Input}\"\n",
    "    print(prompt)\n",
    "    result=generating_text(prompt,RouteName1,token1)\n",
    "    res=result['candidates'][0]['text']\n",
    "    print(res)\n",
    "    prompt2=f\"[INST] <<SYS>> {system} <</SYS>> {res} [/INST]\"\n",
    "    print(prompt2)\n",
    "    result1=generating_text(prompt2,RouteName2,token2)\n",
    "    print(result1)\n",
    "    return(result1['candidates'][0]['text'])\n",
    "\n",
    "demo = gr.Interface(fn=greet, inputs=[\"text\",\"text\",\"text\",\"number\",\"number\"], outputs=\"text\")\n",
    "    \n",
    "if __name__ == \"__main__\":\n",
    "    demo.launch(share=True,debug=True)   \n"
   ]
  },
  {
   "cell_type": "code",
   "execution_count": 0,
   "metadata": {
    "application/vnd.databricks.v1+cell": {
     "cellMetadata": {
      "byteLimit": 2048000,
      "rowLimit": 10000
     },
     "inputWidgets": {},
     "nuid": "29de450c-7c53-4264-9bd4-88bf718460cf",
     "showTitle": false,
     "title": ""
    }
   },
   "outputs": [
    {
     "output_type": "stream",
     "name": "stdout",
     "output_type": "stream",
     "text": [
      "Running on local URL:  http://127.0.0.1:7860\nRunning on public URL: https://eb0cd18c4364850947.gradio.live\n\nThis share link expires in 72 hours. For free permanent hosting and GPU upgrades, run `gradio deploy` from Terminal to deploy to Spaces (https://huggingface.co/spaces)\n"
     ]
    },
    {
     "output_type": "stream",
     "name": "stderr",
     "output_type": "stream",
     "text": [
      "WARNING:root:No handler for e8a3012f12e446f2a18250a2bf6fc2cd\n"
     ]
    }
   ],
   "source": [
    "import gradio as gr\n",
    "from mlflow.gateway import set_gateway_uri, create_route, query\n",
    "\n",
    "def generating_text(prompt,route_param,token):\n",
    "    set_gateway_uri(\"databricks\")\n",
    "\n",
    "    # Create a Route for text completions with MosaicML Inference API \n",
    "    create_route(\n",
    "        name=route_param,\n",
    "        route_type=\"llm/v1/completions\",\n",
    "        model={\n",
    "            \"name\": \"llama2-70b-chat\",\n",
    "            \"provider\": \"mosaicml\",\n",
    "            \"mosaicml_config\": {\n",
    "            \"mosaicml_api_key\": \"30HUkJ.UEvkMW9tAyMS7v91L4-e-gA0r.MKC0GUBphZ.2y5\"\n",
    "            }\n",
    "        }\n",
    "    )\n",
    "\n",
    "    response1 = query(\n",
    "    route=route_param,\n",
    "    data={\"prompt\": prompt,\"temperature\": 0.1,\n",
    "        \"max_tokens\": token}\n",
    "    )\n",
    "\n",
    "    return(response1)\n",
    "\n",
    "import string\n",
    "import random\n",
    " \n",
    "# initializing size of string\n",
    "N = 7\n",
    "\n",
    "def greet(Input):\n",
    "    RouteName1=''.join(random.choices(string.ascii_uppercase, k=N))\n",
    "    RouteName2=''.join(random.choices(string.ascii_uppercase, k=(N+1)))\n",
    "    system=\"you are a translator which converts english to hindi. Please translate the given text to hindi language\"\n",
    "    prompt=f\"{Input}\"\n",
    "    result=generating_text(prompt,RouteName1,200)\n",
    "    res=result['candidates'][0]['text']\n",
    "    prompt2=f\"[INST] <<SYS>> {system} <</SYS>> {res} [/INST]\"\n",
    "    result1=generating_text(prompt2,RouteName2,1500)\n",
    "    return(result1['candidates'][0]['text'])\n",
    "\n",
    "demo = gr.Interface(fn=greet, inputs=[\"text\"], outputs=\"text\")\n",
    "    \n",
    "if __name__ == \"__main__\":\n",
    "    demo.launch(share=True,debug=True)   \n"
   ]
  },
  {
   "cell_type": "code",
   "execution_count": 0,
   "metadata": {
    "application/vnd.databricks.v1+cell": {
     "cellMetadata": {},
     "inputWidgets": {},
     "nuid": "417c812d-0900-4dff-8bbe-2d0f27a312ba",
     "showTitle": false,
     "title": ""
    }
   },
   "outputs": [],
   "source": []
  },
  {
   "cell_type": "code",
   "execution_count": 0,
   "metadata": {
    "application/vnd.databricks.v1+cell": {
     "cellMetadata": {},
     "inputWidgets": {},
     "nuid": "844419d2-98df-41d9-aca7-188604960094",
     "showTitle": false,
     "title": ""
    }
   },
   "outputs": [],
   "source": []
  },
  {
   "cell_type": "code",
   "execution_count": 0,
   "metadata": {
    "application/vnd.databricks.v1+cell": {
     "cellMetadata": {
      "byteLimit": 2048000,
      "rowLimit": 10000
     },
     "inputWidgets": {},
     "nuid": "f4983b5a-3ef4-4db4-90d1-571ea6dd37d6",
     "showTitle": true,
     "title": "Fine Tuning Using Peft"
    }
   },
   "outputs": [
    {
     "output_type": "display_data",
     "data": {
      "application/vnd.jupyter.widget-view+json": {
       "model_id": "abab508fcce54c7590e7283ede4816c1",
       "version_major": 2,
       "version_minor": 0
      },
      "text/plain": [
       "VBox(children=(HTML(value='<center> <img\\nsrc=https://huggingface.co/front/assets/huggingface_logo-noborder.sv…"
      ]
     },
     "metadata": {},
     "output_type": "display_data"
    }
   ],
   "source": [
    "from huggingface_hub import notebook_login\n",
    "# Login to Huggingface to get access to the model\n",
    "notebook_login()\n"
   ]
  },
  {
   "cell_type": "code",
   "execution_count": 0,
   "metadata": {
    "application/vnd.databricks.v1+cell": {
     "cellMetadata": {
      "byteLimit": 2048000,
      "rowLimit": 10000
     },
     "inputWidgets": {},
     "nuid": "106812bb-239c-4e01-b099-996a798e4e64",
     "showTitle": false,
     "title": ""
    }
   },
   "outputs": [
    {
     "output_type": "stream",
     "name": "stderr",
     "output_type": "stream",
     "text": [
      "/databricks/python_shell/dbruntime/huggingface_patches/datasets.py:27: UserWarning: This dataset can not be stored in DBFS because either `cache_dir` or the environment variable `HF_DATASETS_CACHE` is set to a non-DBFS path. If this cluster restarts, all saved dataset information will be lost.\n  warnings.warn(\n"
     ]
    },
    {
     "output_type": "display_data",
     "data": {
      "application/vnd.jupyter.widget-view+json": {
       "model_id": "ebdef15473c64fbf8b6e05ea381a7ecf",
       "version_major": 2,
       "version_minor": 0
      },
      "text/plain": [
       "Downloading readme:   0%|          | 0.00/8.20k [00:00<?, ?B/s]"
      ]
     },
     "metadata": {},
     "output_type": "display_data"
    },
    {
     "output_type": "stream",
     "name": "stderr",
     "output_type": "stream",
     "text": [
      "/databricks/python_shell/dbruntime/huggingface_patches/datasets.py:13: UserWarning: During large dataset downloads, there could be multiple progress bar widgets that can cause performance issues for your notebook or browser. To avoid these issues, use `datasets.utils.logging.disable_progress_bar()` to turn off the progress bars.\n  warnings.warn(\n"
     ]
    },
    {
     "output_type": "stream",
     "name": "stdout",
     "output_type": "stream",
     "text": [
      "Downloading and preparing dataset json/databricks--databricks-dolly-15k to /root/.cache/huggingface/datasets/databricks___json/databricks--databricks-dolly-15k-7427aa6e57c34282/0.0.0/e347ab1c932092252e717ff3f949105a4dd28b27e842dd53157d2f72e276c2e4...\n"
     ]
    },
    {
     "output_type": "display_data",
     "data": {
      "application/vnd.jupyter.widget-view+json": {
       "model_id": "0fb016288f33439681a86a72d575b04d",
       "version_major": 2,
       "version_minor": 0
      },
      "text/plain": [
       "Downloading data files:   0%|          | 0/1 [00:00<?, ?it/s]"
      ]
     },
     "metadata": {},
     "output_type": "display_data"
    },
    {
     "output_type": "display_data",
     "data": {
      "application/vnd.jupyter.widget-view+json": {
       "model_id": "d97c6a9560dc42ab93019990f86202cf",
       "version_major": 2,
       "version_minor": 0
      },
      "text/plain": [
       "Downloading data:   0%|          | 0.00/13.1M [00:00<?, ?B/s]"
      ]
     },
     "metadata": {},
     "output_type": "display_data"
    },
    {
     "output_type": "display_data",
     "data": {
      "application/vnd.jupyter.widget-view+json": {
       "model_id": "2276733a7a4942c2ba8d54d7b538a62e",
       "version_major": 2,
       "version_minor": 0
      },
      "text/plain": [
       "Extracting data files:   0%|          | 0/1 [00:00<?, ?it/s]"
      ]
     },
     "metadata": {},
     "output_type": "display_data"
    },
    {
     "output_type": "display_data",
     "data": {
      "application/vnd.jupyter.widget-view+json": {
       "model_id": "40e37daab2214c6b908c38aa83be0b8f",
       "version_major": 2,
       "version_minor": 0
      },
      "text/plain": [
       "Generating train split: 0 examples [00:00, ? examples/s]"
      ]
     },
     "metadata": {},
     "output_type": "display_data"
    },
    {
     "output_type": "stream",
     "name": "stdout",
     "output_type": "stream",
     "text": [
      "Dataset json downloaded and prepared to /root/.cache/huggingface/datasets/databricks___json/databricks--databricks-dolly-15k-7427aa6e57c34282/0.0.0/e347ab1c932092252e717ff3f949105a4dd28b27e842dd53157d2f72e276c2e4. Subsequent calls will reuse this data.\n"
     ]
    }
   ],
   "source": [
    "from datasets import load_dataset\n",
    "\n",
    "dataset_name = \"databricks/databricks-dolly-15k\"\n",
    "dataset = load_dataset(dataset_name, split=\"train\")"
   ]
  },
  {
   "cell_type": "code",
   "execution_count": 0,
   "metadata": {
    "application/vnd.databricks.v1+cell": {
     "cellMetadata": {
      "byteLimit": 2048000,
      "rowLimit": 10000
     },
     "inputWidgets": {},
     "nuid": "0a8b3e6c-605b-420b-afca-09990d709f42",
     "showTitle": false,
     "title": ""
    }
   },
   "outputs": [
    {
     "output_type": "execute_result",
     "data": {
      "text/plain": [
       "Dataset({\n",
       "    features: ['instruction', 'context', 'response', 'category'],\n",
       "    num_rows: 15011\n",
       "})"
      ]
     },
     "execution_count": 3,
     "metadata": {},
     "output_type": "execute_result"
    }
   ],
   "source": [
    "dataset"
   ]
  },
  {
   "cell_type": "code",
   "execution_count": 0,
   "metadata": {
    "application/vnd.databricks.v1+cell": {
     "cellMetadata": {
      "byteLimit": 2048000,
      "rowLimit": 10000
     },
     "inputWidgets": {},
     "nuid": "504efddd-a4ce-40dd-ad04-ec69d5d51368",
     "showTitle": false,
     "title": ""
    }
   },
   "outputs": [
    {
     "output_type": "execute_result",
     "data": {
      "text/plain": [
       "datasets.arrow_dataset.Dataset"
      ]
     },
     "execution_count": 4,
     "metadata": {},
     "output_type": "execute_result"
    }
   ],
   "source": [
    "type(dataset)"
   ]
  },
  {
   "cell_type": "code",
   "execution_count": 0,
   "metadata": {
    "application/vnd.databricks.v1+cell": {
     "cellMetadata": {
      "byteLimit": 2048000,
      "rowLimit": 10000
     },
     "inputWidgets": {},
     "nuid": "d00c999d-96c7-4b56-81e7-ddc07768a8aa",
     "showTitle": false,
     "title": ""
    }
   },
   "outputs": [
    {
     "output_type": "stream",
     "name": "stdout",
     "output_type": "stream",
     "text": [
      "<class 'pandas.core.frame.DataFrame'>\n"
     ]
    },
    {
     "output_type": "display_data",
     "data": {
      "application/vnd.databricks.v1+bamboolib_hint": "{\"pd.DataFrames\": [\"df_pandas\"], \"version\": \"0.0.1\"}",
      "text/plain": []
     },
     "metadata": {},
     "output_type": "display_data"
    }
   ],
   "source": [
    "import pandas as pd\n",
    "df_pandas = pd.DataFrame(dataset)\n",
    "print (type(df_pandas))"
   ]
  },
  {
   "cell_type": "code",
   "execution_count": 0,
   "metadata": {
    "application/vnd.databricks.v1+cell": {
     "cellMetadata": {
      "byteLimit": 2048000,
      "rowLimit": 10000
     },
     "inputWidgets": {},
     "nuid": "d278480c-7343-4baf-891d-01ca05ab9c05",
     "showTitle": false,
     "title": ""
    }
   },
   "outputs": [
    {
     "output_type": "execute_result",
     "data": {
      "text/html": [
       "<div>\n",
       "<style scoped>\n",
       "    .dataframe tbody tr th:only-of-type {\n",
       "        vertical-align: middle;\n",
       "    }\n",
       "\n",
       "    .dataframe tbody tr th {\n",
       "        vertical-align: top;\n",
       "    }\n",
       "\n",
       "    .dataframe thead th {\n",
       "        text-align: right;\n",
       "    }\n",
       "</style>\n",
       "<table border=\"1\" class=\"dataframe\">\n",
       "  <thead>\n",
       "    <tr style=\"text-align: right;\">\n",
       "      <th></th>\n",
       "      <th>instruction</th>\n",
       "      <th>context</th>\n",
       "      <th>response</th>\n",
       "      <th>category</th>\n",
       "    </tr>\n",
       "  </thead>\n",
       "  <tbody>\n",
       "    <tr>\n",
       "      <th>0</th>\n",
       "      <td>When did Virgin Australia start operating?</td>\n",
       "      <td>Virgin Australia, the trading name of Virgin A...</td>\n",
       "      <td>Virgin Australia commenced services on 31 Augu...</td>\n",
       "      <td>closed_qa</td>\n",
       "    </tr>\n",
       "    <tr>\n",
       "      <th>1</th>\n",
       "      <td>Which is a species of fish? Tope or Rope</td>\n",
       "      <td></td>\n",
       "      <td>Tope</td>\n",
       "      <td>classification</td>\n",
       "    </tr>\n",
       "    <tr>\n",
       "      <th>2</th>\n",
       "      <td>Why can camels survive for long without water?</td>\n",
       "      <td></td>\n",
       "      <td>Camels use the fat in their humps to keep them...</td>\n",
       "      <td>open_qa</td>\n",
       "    </tr>\n",
       "    <tr>\n",
       "      <th>3</th>\n",
       "      <td>Alice's parents have three daughters: Amy, Jes...</td>\n",
       "      <td></td>\n",
       "      <td>The name of the third daughter is Alice</td>\n",
       "      <td>open_qa</td>\n",
       "    </tr>\n",
       "    <tr>\n",
       "      <th>4</th>\n",
       "      <td>When was Tomoaki Komorida born?</td>\n",
       "      <td>Komorida was born in Kumamoto Prefecture on Ju...</td>\n",
       "      <td>Tomoaki Komorida was born on July 10,1981.</td>\n",
       "      <td>closed_qa</td>\n",
       "    </tr>\n",
       "    <tr>\n",
       "      <th>...</th>\n",
       "      <td>...</td>\n",
       "      <td>...</td>\n",
       "      <td>...</td>\n",
       "      <td>...</td>\n",
       "    </tr>\n",
       "    <tr>\n",
       "      <th>15006</th>\n",
       "      <td>How do i accept the change</td>\n",
       "      <td></td>\n",
       "      <td>Embrace the change and see the difference</td>\n",
       "      <td>brainstorming</td>\n",
       "    </tr>\n",
       "    <tr>\n",
       "      <th>15007</th>\n",
       "      <td>What is a laser and who created it?</td>\n",
       "      <td>A laser is a device that emits light through a...</td>\n",
       "      <td>A laser is a device that emits light from an e...</td>\n",
       "      <td>summarization</td>\n",
       "    </tr>\n",
       "    <tr>\n",
       "      <th>15008</th>\n",
       "      <td>What is the difference between a road bike and...</td>\n",
       "      <td></td>\n",
       "      <td>Road bikes are built to be ridden on asphalt a...</td>\n",
       "      <td>open_qa</td>\n",
       "    </tr>\n",
       "    <tr>\n",
       "      <th>15009</th>\n",
       "      <td>How does GIS help in the real estate investmen...</td>\n",
       "      <td></td>\n",
       "      <td>Real estate investors depend on precise, accur...</td>\n",
       "      <td>general_qa</td>\n",
       "    </tr>\n",
       "    <tr>\n",
       "      <th>15010</th>\n",
       "      <td>What is the Masters?</td>\n",
       "      <td></td>\n",
       "      <td>The Masters Tournament is a golf tournament he...</td>\n",
       "      <td>general_qa</td>\n",
       "    </tr>\n",
       "  </tbody>\n",
       "</table>\n",
       "<p>15011 rows × 4 columns</p>\n",
       "</div>"
      ],
      "text/plain": [
       "                                             instruction  ...        category\n",
       "0             When did Virgin Australia start operating?  ...       closed_qa\n",
       "1               Which is a species of fish? Tope or Rope  ...  classification\n",
       "2         Why can camels survive for long without water?  ...         open_qa\n",
       "3      Alice's parents have three daughters: Amy, Jes...  ...         open_qa\n",
       "4                        When was Tomoaki Komorida born?  ...       closed_qa\n",
       "...                                                  ...  ...             ...\n",
       "15006                         How do i accept the change  ...   brainstorming\n",
       "15007                What is a laser and who created it?  ...   summarization\n",
       "15008  What is the difference between a road bike and...  ...         open_qa\n",
       "15009  How does GIS help in the real estate investmen...  ...      general_qa\n",
       "15010                               What is the Masters?  ...      general_qa\n",
       "\n",
       "[15011 rows x 4 columns]"
      ]
     },
     "execution_count": 6,
     "metadata": {},
     "output_type": "execute_result"
    }
   ],
   "source": [
    "df_pandas"
   ]
  },
  {
   "cell_type": "code",
   "execution_count": 0,
   "metadata": {
    "application/vnd.databricks.v1+cell": {
     "cellMetadata": {
      "byteLimit": 2048000,
      "rowLimit": 10000
     },
     "inputWidgets": {},
     "nuid": "e1c04557-26f6-4045-afaf-10a063194747",
     "showTitle": false,
     "title": ""
    }
   },
   "outputs": [],
   "source": [
    "data=pd.read_csv(\"file:/Workspace/Users/shalu.tyagi@hdfcbank.com/Dataforfinetuning.csv\")"
   ]
  },
  {
   "cell_type": "code",
   "execution_count": 0,
   "metadata": {
    "application/vnd.databricks.v1+cell": {
     "cellMetadata": {
      "byteLimit": 2048000,
      "rowLimit": 10000
     },
     "inputWidgets": {},
     "nuid": "46c182ef-ee21-48a5-8f77-bf0e1f710c20",
     "showTitle": true,
     "title": ""
    }
   },
   "outputs": [
    {
     "output_type": "execute_result",
     "data": {
      "text/html": [
       "<div>\n",
       "<style scoped>\n",
       "    .dataframe tbody tr th:only-of-type {\n",
       "        vertical-align: middle;\n",
       "    }\n",
       "\n",
       "    .dataframe tbody tr th {\n",
       "        vertical-align: top;\n",
       "    }\n",
       "\n",
       "    .dataframe thead th {\n",
       "        text-align: right;\n",
       "    }\n",
       "</style>\n",
       "<table border=\"1\" class=\"dataframe\">\n",
       "  <thead>\n",
       "    <tr style=\"text-align: right;\">\n",
       "      <th></th>\n",
       "      <th>instruction</th>\n",
       "      <th>context</th>\n",
       "      <th>response</th>\n",
       "    </tr>\n",
       "  </thead>\n",
       "  <tbody>\n",
       "    <tr>\n",
       "      <th>0</th>\n",
       "      <td>एचडीएफसी बैंक की वर्तमान ब्याज दर क्या है?</td>\n",
       "      <td>NaN</td>\n",
       "      <td>एचडीएफसी बैंक की सावधि जमा में ब्याज दर, आपकी ...</td>\n",
       "    </tr>\n",
       "    <tr>\n",
       "      <th>1</th>\n",
       "      <td>एचडीएफसी बैंक में खाता खोलने की प्रक्रिया क्या...</td>\n",
       "      <td>NaN</td>\n",
       "      <td>HDFC Bank में खाता खोलने की प्रक्रिया निम्न है...</td>\n",
       "    </tr>\n",
       "    <tr>\n",
       "      <th>2</th>\n",
       "      <td>एचडीएफसी बैंक का कस्टमर केयर नंबर क्या है?</td>\n",
       "      <td>NaN</td>\n",
       "      <td>HDFC Bank का कस्टमर केयर नंबर 1800 22 1006 है।...</td>\n",
       "    </tr>\n",
       "    <tr>\n",
       "      <th>3</th>\n",
       "      <td>मैं एचडीएफसी बैंक के लिए ऋण विवरण कैसे देख सकत...</td>\n",
       "      <td>NaN</td>\n",
       "      <td>HDFC Bank के लिए ऋण विवरण देखने के लिए निम्न क...</td>\n",
       "    </tr>\n",
       "    <tr>\n",
       "      <th>4</th>\n",
       "      <td>इंजीनियरिंग के लिए सबसे अच्छे कॉलेज कौन से हैं?</td>\n",
       "      <td>NaN</td>\n",
       "      <td>भारत में बड़ी संख्या में इंजीनियरिंग कॉलेज हैं...</td>\n",
       "    </tr>\n",
       "  </tbody>\n",
       "</table>\n",
       "</div>"
      ],
      "text/plain": [
       "                                         instruction  ...                                           response\n",
       "0         एचडीएफसी बैंक की वर्तमान ब्याज दर क्या है?  ...  एचडीएफसी बैंक की सावधि जमा में ब्याज दर, आपकी ...\n",
       "1  एचडीएफसी बैंक में खाता खोलने की प्रक्रिया क्या...  ...  HDFC Bank में खाता खोलने की प्रक्रिया निम्न है...\n",
       "2         एचडीएफसी बैंक का कस्टमर केयर नंबर क्या है?  ...  HDFC Bank का कस्टमर केयर नंबर 1800 22 1006 है।...\n",
       "3  मैं एचडीएफसी बैंक के लिए ऋण विवरण कैसे देख सकत...  ...  HDFC Bank के लिए ऋण विवरण देखने के लिए निम्न क...\n",
       "4    इंजीनियरिंग के लिए सबसे अच्छे कॉलेज कौन से हैं?  ...  भारत में बड़ी संख्या में इंजीनियरिंग कॉलेज हैं...\n",
       "\n",
       "[5 rows x 3 columns]"
      ]
     },
     "execution_count": 12,
     "metadata": {},
     "output_type": "execute_result"
    }
   ],
   "source": [
    "data.head()"
   ]
  },
  {
   "cell_type": "code",
   "execution_count": 0,
   "metadata": {
    "application/vnd.databricks.v1+cell": {
     "cellMetadata": {
      "byteLimit": 2048000,
      "rowLimit": 10000
     },
     "inputWidgets": {},
     "nuid": "d214724a-89bf-478a-af75-dc998e4cbe4d",
     "showTitle": false,
     "title": ""
    }
   },
   "outputs": [],
   "source": [
    "import pyarrow as pa\n",
    "import pyarrow.dataset as ds\n",
    "import pandas as pd\n",
    "from datasets import Dataset"
   ]
  },
  {
   "cell_type": "code",
   "execution_count": 0,
   "metadata": {
    "application/vnd.databricks.v1+cell": {
     "cellMetadata": {
      "byteLimit": 2048000,
      "rowLimit": 10000
     },
     "inputWidgets": {},
     "nuid": "dd342447-ea83-4c3f-ab9d-43b11b5002bb",
     "showTitle": false,
     "title": ""
    }
   },
   "outputs": [],
   "source": [
    "dataset_new= ds.dataset(pa.Table.from_pandas(data).to_batches())\n",
    "\n",
    "### convert to Huggingface dataset\n",
    "hg_dataset = Dataset(pa.Table.from_pandas(data))"
   ]
  },
  {
   "cell_type": "code",
   "execution_count": 0,
   "metadata": {
    "application/vnd.databricks.v1+cell": {
     "cellMetadata": {
      "byteLimit": 2048000,
      "rowLimit": 10000
     },
     "inputWidgets": {},
     "nuid": "be1d6b37-17ab-46b9-be85-2e903b97ade1",
     "showTitle": false,
     "title": ""
    }
   },
   "outputs": [
    {
     "output_type": "execute_result",
     "data": {
      "text/plain": [
       "Dataset({\n",
       "    features: ['instruction', 'context', 'response'],\n",
       "    num_rows: 9\n",
       "})"
      ]
     },
     "execution_count": 16,
     "metadata": {},
     "output_type": "execute_result"
    }
   ],
   "source": [
    "hg_dataset"
   ]
  },
  {
   "cell_type": "code",
   "execution_count": 0,
   "metadata": {
    "application/vnd.databricks.v1+cell": {
     "cellMetadata": {},
     "inputWidgets": {},
     "nuid": "f3921186-9c3e-4b2c-8bd0-ba13fbf1f298",
     "showTitle": false,
     "title": ""
    }
   },
   "outputs": [],
   "source": [
    "एचडीएफसी बैंक में एफडी पर अब क्या है ब्याज दर?"
   ]
  },
  {
   "cell_type": "code",
   "execution_count": 0,
   "metadata": {
    "application/vnd.databricks.v1+cell": {
     "cellMetadata": {
      "byteLimit": 2048000,
      "rowLimit": 10000
     },
     "inputWidgets": {},
     "nuid": "3470fa9f-9c79-4c09-98a9-958d587fd19b",
     "showTitle": false,
     "title": ""
    }
   },
   "outputs": [],
   "source": [
    "INTRO_BLURB = \"Below is an instruction that describes a task. Write a response that appropriately completes the request.\"\n",
    "INSTRUCTION_KEY = \"### Instruction:\"\n",
    "INPUT_KEY = \"Input:\"\n",
    "RESPONSE_KEY = \"### Response:\"\n",
    "END_KEY = \"### End\"\n",
    "\n",
    "PROMPT_NO_INPUT_FORMAT = \"\"\"{intro}\n",
    "\n",
    "{instruction_key}\n",
    "{instruction}\n",
    "\n",
    "{response_key}\n",
    "{response}\n",
    "\n",
    "{end_key}\"\"\".format(\n",
    "  intro=INTRO_BLURB,\n",
    "  instruction_key=INSTRUCTION_KEY,\n",
    "  instruction=\"{instruction}\",\n",
    "  response_key=RESPONSE_KEY,\n",
    "  response=\"{response}\",\n",
    "  end_key=END_KEY\n",
    ")\n"
   ]
  },
  {
   "cell_type": "code",
   "execution_count": 0,
   "metadata": {
    "application/vnd.databricks.v1+cell": {
     "cellMetadata": {
      "byteLimit": 2048000,
      "rowLimit": 10000
     },
     "inputWidgets": {},
     "nuid": "713adb08-f968-4a50-8c56-9f0b0147e7b3",
     "showTitle": false,
     "title": ""
    }
   },
   "outputs": [],
   "source": [
    "PROMPT_WITH_INPUT_FORMAT = \"\"\"{intro}\n",
    "\n",
    "{instruction_key}\n",
    "{instruction}\n",
    "\n",
    "{input_key}\n",
    "{input}\n",
    "\n",
    "{response_key}\n",
    "{response}\n",
    "\n",
    "{end_key}\"\"\".format(\n",
    "  intro=INTRO_BLURB,\n",
    "  instruction_key=INSTRUCTION_KEY,\n",
    "  instruction=\"{instruction}\",\n",
    "  input_key=INPUT_KEY,\n",
    "  input=\"{input}\",\n",
    "  response_key=RESPONSE_KEY,\n",
    "  response=\"{response}\",\n",
    "  end_key=END_KEY\n",
    ")"
   ]
  },
  {
   "cell_type": "code",
   "execution_count": 0,
   "metadata": {
    "application/vnd.databricks.v1+cell": {
     "cellMetadata": {
      "byteLimit": 2048000,
      "rowLimit": 10000
     },
     "inputWidgets": {},
     "nuid": "db70537a-f9b2-459f-8685-dbba1e0ee8e4",
     "showTitle": false,
     "title": ""
    }
   },
   "outputs": [],
   "source": [
    "def apply_prompt_template(examples):\n",
    "  instruction = examples[\"instruction\"]\n",
    "  response = examples[\"response\"]\n",
    "  context = examples.get(\"context\")\n",
    "\n",
    "  if context:\n",
    "    full_prompt = PROMPT_WITH_INPUT_FORMAT.format(instruction=instruction, response=response, input=context)\n",
    "  else:\n",
    "    full_prompt = PROMPT_NO_INPUT_FORMAT.format(instruction=instruction, response=response)\n",
    "  return { \"text\": full_prompt }"
   ]
  },
  {
   "cell_type": "code",
   "execution_count": 0,
   "metadata": {
    "application/vnd.databricks.v1+cell": {
     "cellMetadata": {
      "byteLimit": 2048000,
      "rowLimit": 10000
     },
     "inputWidgets": {},
     "nuid": "1949c072-b60a-4f49-9b1e-3b5749fb13bd",
     "showTitle": false,
     "title": ""
    }
   },
   "outputs": [
    {
     "output_type": "display_data",
     "data": {
      "application/vnd.jupyter.widget-view+json": {
       "model_id": "9fffaeda2b7245e89235a8879e1c641a",
       "version_major": 2,
       "version_minor": 0
      },
      "text/plain": [
       "Map:   0%|          | 0/9 [00:00<?, ? examples/s]"
      ]
     },
     "metadata": {},
     "output_type": "display_data"
    }
   ],
   "source": [
    "dataset_new2 = hg_dataset.map(apply_prompt_template)"
   ]
  },
  {
   "cell_type": "code",
   "execution_count": 0,
   "metadata": {
    "application/vnd.databricks.v1+cell": {
     "cellMetadata": {
      "byteLimit": 2048000,
      "rowLimit": 10000
     },
     "inputWidgets": {},
     "nuid": "0d9a2441-4cf9-4be0-add6-f423e9b99fc3",
     "showTitle": false,
     "title": ""
    }
   },
   "outputs": [
    {
     "output_type": "execute_result",
     "data": {
      "text/plain": [
       "'Below is an instruction that describes a task. Write a response that appropriately completes the request.\\n\\n### Instruction:\\nएचडीएफसी बैंक की वर्तमान ब्याज दर क्या है?\\n\\n### Response:\\nएचडीएफसी बैंक की सावधि जमा में ब्याज दर, आपकी जमा राशि, जमा अवधि और खाताधारक का प्रकार (व्यक्तिगत, वरिष्ठ नागरिक आदि) के आधार पर भिन्नता होती है। और आज के लिए, एचडीएफसी बैंक की सावधि जमा में ब्याज दर आपके लिए क्या है?\\n[वर्तमान तिथि] तक, एचडीएफसी बैंक द्वारा अपनी सावधि जमा पर दी जाने वाली वर्तमान ब्याज दरें यहां दी गई हैं:\\n ₹1 करोड़ तक की जमा राशि के लिए, जमा अवधि और खाताधारक के प्रकार के आधार पर ब्याज दरें 3.50% से 7.00% प्रति वर्ष तक होती हैं।₹1 करोड़ से अधिक की जमा राशि के लिए, जमा अवधि और खाताधारक के प्रकार के आधार पर, ब्याज दरें 3.75% से 7.25% प्रति वर्ष तक होती हैं।कृपया ध्यान दें कि ये ब्याज दरें परिवर्तन के अधीन हैं और बाजार की स्थितियों और अन्य कारकों के आधार पर भिन्न हो सकती हैं। सावधि जमा में निवेश करने से पहले एचडीएफसी बैंक द्वारा दी जाने वाली मौजूदा ब्याज दरों और शर्तों की जांच करना हमेशा एक अच्छा विचार है।\\n\\n### End'"
      ]
     },
     "execution_count": 20,
     "metadata": {},
     "output_type": "execute_result"
    }
   ],
   "source": [
    "dataset_new2[\"text\"][0]"
   ]
  },
  {
   "cell_type": "code",
   "execution_count": 0,
   "metadata": {
    "application/vnd.databricks.v1+cell": {
     "cellMetadata": {},
     "inputWidgets": {},
     "nuid": "b0b653fc-54ab-472f-92d5-3b49fbca5eb2",
     "showTitle": true,
     "title": "Not possible to fine-tune 70b with the given memory. "
    }
   },
   "outputs": [],
   "source": []
  },
  {
   "cell_type": "code",
   "execution_count": 0,
   "metadata": {
    "application/vnd.databricks.v1+cell": {
     "cellMetadata": {},
     "inputWidgets": {},
     "nuid": "8261c68c-fae6-419f-8a74-f6311cce0072",
     "showTitle": true,
     "title": "Gradio Chatbot"
    }
   },
   "outputs": [],
   "source": [
    "import gradio as gr\n",
    "from mlflow.gateway import set_gateway_uri, create_route, query\n",
    "\n",
    "def generating_text(prompt,route_param,token):\n",
    "    set_gateway_uri(\"databricks\")\n",
    "\n",
    "    # Create a Route for text completions with MosaicML Inference API \n",
    "    create_route(\n",
    "        name=route_param,\n",
    "        route_type=\"llm/v1/completions\",\n",
    "        model={\n",
    "            \"name\": \"llama2-70b-chat\",\n",
    "            \"provider\": \"mosaicml\",\n",
    "            \"mosaicml_config\": {\n",
    "            \"mosaicml_api_key\": \"30HUkJ.UEvkMW9tAyMS7v91L4-e-gA0r.MKC0GUBphZ.2y5\"\n",
    "            }\n",
    "        }\n",
    "    )\n",
    "\n",
    "    response1 = query(\n",
    "    route=route_param,\n",
    "    data={\"prompt\": prompt,\"temperature\": 0.1,\n",
    "        \"max_tokens\": token}\n",
    "    )\n",
    "\n",
    "    return(response1)\n",
    "\n",
    "def greet(Input,RouteName1, RouteName2,token1,token2):\n",
    "    token1=int(token1)\n",
    "    token2=int(token2)\n",
    "    system=\"you are a translator which converts english to hindi. Please translate the given text to hindi language\"\n",
    "    prompt=f\"{Input}\"\n",
    "    print(prompt)\n",
    "    result=generating_text(prompt,RouteName1,token1)\n",
    "    res=result['candidates'][0]['text']\n",
    "    print(res)\n",
    "    prompt2=f\"[INST] <<SYS>> {system} <</SYS>> {res} [/INST]\"\n",
    "    print(prompt2)\n",
    "    result1=generating_text(prompt2,RouteName2,token2)\n",
    "    print(result1)\n",
    "    return(result1['candidates'][0]['text'])\n",
    "\n",
    "demo = gr.Interface(fn=greet, inputs=[\"text\",\"text\",\"text\",\"number\",\"number\"], outputs=\"text\")\n",
    "    \n",
    "if __name__ == \"__main__\":\n",
    "    demo.launch(share=True,debug=True)   \n"
   ]
  },
  {
   "cell_type": "code",
   "execution_count": 0,
   "metadata": {
    "application/vnd.databricks.v1+cell": {
     "cellMetadata": {
      "byteLimit": 2048000,
      "rowLimit": 10000
     },
     "inputWidgets": {},
     "nuid": "3f8f041f-64d1-4059-bc24-8c62193f6d49",
     "showTitle": false,
     "title": ""
    }
   },
   "outputs": [],
   "source": [
    "from mlflow.gateway import delete_route"
   ]
  },
  {
   "cell_type": "code",
   "execution_count": 0,
   "metadata": {
    "application/vnd.databricks.v1+cell": {
     "cellMetadata": {
      "byteLimit": 2048000,
      "rowLimit": 10000
     },
     "inputWidgets": {},
     "nuid": "94143aaf-ef0c-4a4f-a1c9-d4319a7d78fc",
     "showTitle": false,
     "title": ""
    }
   },
   "outputs": [],
   "source": [
    "delete_route(\"txt1\")\n",
    "delete_route(\"txt2\")"
   ]
  },
  {
   "cell_type": "code",
   "execution_count": 0,
   "metadata": {
    "application/vnd.databricks.v1+cell": {
     "cellMetadata": {
      "byteLimit": 2048000,
      "rowLimit": 10000
     },
     "inputWidgets": {},
     "nuid": "2512380e-f9c0-4887-9a74-76fadedb6207",
     "showTitle": false,
     "title": ""
    }
   },
   "outputs": [
    {
     "output_type": "stream",
     "name": "stdout",
     "output_type": "stream",
     "text": [
      "Running on local URL:  http://127.0.0.1:7860\nRunning on public URL: https://77f3398a79e2874dbe.gradio.live\n\nThis share link expires in 72 hours. For free permanent hosting and GPU upgrades, run `gradio deploy` from Terminal to deploy to Spaces (https://huggingface.co/spaces)\n"
     ]
    },
    {
     "output_type": "stream",
     "name": "stderr",
     "output_type": "stream",
     "text": [
      "Traceback (most recent call last):\n  File \"/local_disk0/.ephemeral_nfs/envs/pythonEnv-84e9cf7d-4c48-4eff-a685-f44e9c31be95/lib/python3.10/site-packages/mlflow/utils/request_utils.py\", line 32, in augmented_raise_for_status\n    response.raise_for_status()\n  File \"/databricks/python/lib/python3.10/site-packages/requests/models.py\", line 1021, in raise_for_status\n    raise HTTPError(http_error_msg, response=self)\nrequests.exceptions.HTTPError: 404 Client Error: Not Found for url: https://oregon.cloud.databricks.com/gateway/txt1/invocations\n\nDuring handling of the above exception, another exception occurred:\n\nTraceback (most recent call last):\n  File \"/local_disk0/.ephemeral_nfs/envs/pythonEnv-84e9cf7d-4c48-4eff-a685-f44e9c31be95/lib/python3.10/site-packages/gradio/queueing.py\", line 456, in call_prediction\n    output = await route_utils.call_process_api(\n  File \"/local_disk0/.ephemeral_nfs/envs/pythonEnv-84e9cf7d-4c48-4eff-a685-f44e9c31be95/lib/python3.10/site-packages/gradio/route_utils.py\", line 232, in call_process_api\n    output = await app.get_blocks().process_api(\n  File \"/local_disk0/.ephemeral_nfs/envs/pythonEnv-84e9cf7d-4c48-4eff-a685-f44e9c31be95/lib/python3.10/site-packages/gradio/blocks.py\", line 1522, in process_api\n    result = await self.call_function(\n  File \"/local_disk0/.ephemeral_nfs/envs/pythonEnv-84e9cf7d-4c48-4eff-a685-f44e9c31be95/lib/python3.10/site-packages/gradio/blocks.py\", line 1144, in call_function\n    prediction = await anyio.to_thread.run_sync(\n  File \"/local_disk0/.ephemeral_nfs/envs/pythonEnv-84e9cf7d-4c48-4eff-a685-f44e9c31be95/lib/python3.10/site-packages/anyio/to_thread.py\", line 33, in run_sync\n    return await get_asynclib().run_sync_in_worker_thread(\n  File \"/local_disk0/.ephemeral_nfs/envs/pythonEnv-84e9cf7d-4c48-4eff-a685-f44e9c31be95/lib/python3.10/site-packages/anyio/_backends/_asyncio.py\", line 877, in run_sync_in_worker_thread\n    return await future\n  File \"/local_disk0/.ephemeral_nfs/envs/pythonEnv-84e9cf7d-4c48-4eff-a685-f44e9c31be95/lib/python3.10/site-packages/anyio/_backends/_asyncio.py\", line 807, in run\n    result = context.run(func, *args)\n  File \"/local_disk0/.ephemeral_nfs/envs/pythonEnv-84e9cf7d-4c48-4eff-a685-f44e9c31be95/lib/python3.10/site-packages/gradio/utils.py\", line 674, in wrapper\n    response = f(*args, **kwargs)\n  File \"<command-4399696887388627>\", line 39, in greet\n    result=generating_text(prompt,RouteName1,200)\n  File \"<command-4399696887388627>\", line 20, in generating_text\n    response1 = query(\n  File \"/local_disk0/.ephemeral_nfs/envs/pythonEnv-84e9cf7d-4c48-4eff-a685-f44e9c31be95/lib/python3.10/site-packages/mlflow/gateway/fluent.py\", line 250, in query\n    return MlflowGatewayClient().query(route, data)\n  File \"/local_disk0/.ephemeral_nfs/envs/pythonEnv-84e9cf7d-4c48-4eff-a685-f44e9c31be95/lib/python3.10/site-packages/mlflow/gateway/client.py\", line 335, in query\n    return self._call_endpoint(\"POST\", query_route, data).json()\n  File \"/local_disk0/.ephemeral_nfs/envs/pythonEnv-84e9cf7d-4c48-4eff-a685-f44e9c31be95/lib/python3.10/site-packages/mlflow/gateway/client.py\", line 97, in _call_endpoint\n    augmented_raise_for_status(response)\n  File \"/local_disk0/.ephemeral_nfs/envs/pythonEnv-84e9cf7d-4c48-4eff-a685-f44e9c31be95/lib/python3.10/site-packages/mlflow/utils/request_utils.py\", line 35, in augmented_raise_for_status\n    raise HTTPError(\nrequests.exceptions.HTTPError: 404 Client Error: Not Found for url: https://oregon.cloud.databricks.com/gateway/txt1/invocations. Response text: {\"error_code\":\"FEATURE_DISABLED\",\"message\":\"FEATURE_DISABLED: Model Gateway is not enabled\"}\nTraceback (most recent call last):\n  File \"/local_disk0/.ephemeral_nfs/envs/pythonEnv-84e9cf7d-4c48-4eff-a685-f44e9c31be95/lib/python3.10/site-packages/mlflow/utils/request_utils.py\", line 32, in augmented_raise_for_status\n    response.raise_for_status()\n  File \"/databricks/python/lib/python3.10/site-packages/requests/models.py\", line 1021, in raise_for_status\n    raise HTTPError(http_error_msg, response=self)\nrequests.exceptions.HTTPError: 404 Client Error: Not Found for url: https://oregon.cloud.databricks.com/gateway/txt1/invocations\n\nDuring handling of the above exception, another exception occurred:\n\nTraceback (most recent call last):\n  File \"/local_disk0/.ephemeral_nfs/envs/pythonEnv-84e9cf7d-4c48-4eff-a685-f44e9c31be95/lib/python3.10/site-packages/gradio/queueing.py\", line 456, in call_prediction\n    output = await route_utils.call_process_api(\n  File \"/local_disk0/.ephemeral_nfs/envs/pythonEnv-84e9cf7d-4c48-4eff-a685-f44e9c31be95/lib/python3.10/site-packages/gradio/route_utils.py\", line 232, in call_process_api\n    output = await app.get_blocks().process_api(\n  File \"/local_disk0/.ephemeral_nfs/envs/pythonEnv-84e9cf7d-4c48-4eff-a685-f44e9c31be95/lib/python3.10/site-packages/gradio/blocks.py\", line 1522, in process_api\n    result = await self.call_function(\n  File \"/local_disk0/.ephemeral_nfs/envs/pythonEnv-84e9cf7d-4c48-4eff-a685-f44e9c31be95/lib/python3.10/site-packages/gradio/blocks.py\", line 1144, in call_function\n    prediction = await anyio.to_thread.run_sync(\n  File \"/local_disk0/.ephemeral_nfs/envs/pythonEnv-84e9cf7d-4c48-4eff-a685-f44e9c31be95/lib/python3.10/site-packages/anyio/to_thread.py\", line 33, in run_sync\n    return await get_asynclib().run_sync_in_worker_thread(\n  File \"/local_disk0/.ephemeral_nfs/envs/pythonEnv-84e9cf7d-4c48-4eff-a685-f44e9c31be95/lib/python3.10/site-packages/anyio/_backends/_asyncio.py\", line 877, in run_sync_in_worker_thread\n    return await future\n  File \"/local_disk0/.ephemeral_nfs/envs/pythonEnv-84e9cf7d-4c48-4eff-a685-f44e9c31be95/lib/python3.10/site-packages/anyio/_backends/_asyncio.py\", line 807, in run\n    result = context.run(func, *args)\n  File \"/local_disk0/.ephemeral_nfs/envs/pythonEnv-84e9cf7d-4c48-4eff-a685-f44e9c31be95/lib/python3.10/site-packages/gradio/utils.py\", line 674, in wrapper\n    response = f(*args, **kwargs)\n  File \"<command-4399696887388627>\", line 39, in greet\n    result=generating_text(prompt,RouteName1,200)\n  File \"<command-4399696887388627>\", line 20, in generating_text\n    response1 = query(\n  File \"/local_disk0/.ephemeral_nfs/envs/pythonEnv-84e9cf7d-4c48-4eff-a685-f44e9c31be95/lib/python3.10/site-packages/mlflow/gateway/fluent.py\", line 250, in query\n    return MlflowGatewayClient().query(route, data)\n  File \"/local_disk0/.ephemeral_nfs/envs/pythonEnv-84e9cf7d-4c48-4eff-a685-f44e9c31be95/lib/python3.10/site-packages/mlflow/gateway/client.py\", line 335, in query\n    return self._call_endpoint(\"POST\", query_route, data).json()\n  File \"/local_disk0/.ephemeral_nfs/envs/pythonEnv-84e9cf7d-4c48-4eff-a685-f44e9c31be95/lib/python3.10/site-packages/mlflow/gateway/client.py\", line 97, in _call_endpoint\n    augmented_raise_for_status(response)\n  File \"/local_disk0/.ephemeral_nfs/envs/pythonEnv-84e9cf7d-4c48-4eff-a685-f44e9c31be95/lib/python3.10/site-packages/mlflow/utils/request_utils.py\", line 35, in augmented_raise_for_status\n    raise HTTPError(\nrequests.exceptions.HTTPError: 404 Client Error: Not Found for url: https://oregon.cloud.databricks.com/gateway/txt1/invocations. Response text: {\"error_code\":\"FEATURE_DISABLED\",\"message\":\"FEATURE_DISABLED: Model Gateway is not enabled\"}\n\nThe above exception was the direct cause of the following exception:\n\nTraceback (most recent call last):\n  File \"/local_disk0/.ephemeral_nfs/envs/pythonEnv-84e9cf7d-4c48-4eff-a685-f44e9c31be95/lib/python3.10/site-packages/gradio/queueing.py\", line 501, in process_events\n    response = await self.call_prediction(awake_events, batch)\n  File \"/local_disk0/.ephemeral_nfs/envs/pythonEnv-84e9cf7d-4c48-4eff-a685-f44e9c31be95/lib/python3.10/site-packages/gradio/queueing.py\", line 465, in call_prediction\n    raise Exception(str(error) if show_error else None) from error\nException: None\nTraceback (most recent call last):\n  File \"/local_disk0/.ephemeral_nfs/envs/pythonEnv-84e9cf7d-4c48-4eff-a685-f44e9c31be95/lib/python3.10/site-packages/mlflow/utils/request_utils.py\", line 32, in augmented_raise_for_status\n    response.raise_for_status()\n  File \"/databricks/python/lib/python3.10/site-packages/requests/models.py\", line 1021, in raise_for_status\n    raise HTTPError(http_error_msg, response=self)\nrequests.exceptions.HTTPError: 409 Client Error: Conflict for url: https://oregon.cloud.databricks.com/api/2.0/gateway/routes/\n\nDuring handling of the above exception, another exception occurred:\n\nTraceback (most recent call last):\n  File \"/local_disk0/.ephemeral_nfs/envs/pythonEnv-84e9cf7d-4c48-4eff-a685-f44e9c31be95/lib/python3.10/site-packages/gradio/queueing.py\", line 456, in call_prediction\n    output = await route_utils.call_process_api(\n  File \"/local_disk0/.ephemeral_nfs/envs/pythonEnv-84e9cf7d-4c48-4eff-a685-f44e9c31be95/lib/python3.10/site-packages/gradio/route_utils.py\", line 232, in call_process_api\n    output = await app.get_blocks().process_api(\n  File \"/local_disk0/.ephemeral_nfs/envs/pythonEnv-84e9cf7d-4c48-4eff-a685-f44e9c31be95/lib/python3.10/site-packages/gradio/blocks.py\", line 1522, in process_api\n    result = await self.call_function(\n  File \"/local_disk0/.ephemeral_nfs/envs/pythonEnv-84e9cf7d-4c48-4eff-a685-f44e9c31be95/lib/python3.10/site-packages/gradio/blocks.py\", line 1144, in call_function\n    prediction = await anyio.to_thread.run_sync(\n  File \"/local_disk0/.ephemeral_nfs/envs/pythonEnv-84e9cf7d-4c48-4eff-a685-f44e9c31be95/lib/python3.10/site-packages/anyio/to_thread.py\", line 33, in run_sync\n    return await get_asynclib().run_sync_in_worker_thread(\n  File \"/local_disk0/.ephemeral_nfs/envs/pythonEnv-84e9cf7d-4c48-4eff-a685-f44e9c31be95/lib/python3.10/site-packages/anyio/_backends/_asyncio.py\", line 877, in run_sync_in_worker_thread\n    return await future\n  File \"/local_disk0/.ephemeral_nfs/envs/pythonEnv-84e9cf7d-4c48-4eff-a685-f44e9c31be95/lib/python3.10/site-packages/anyio/_backends/_asyncio.py\", line 807, in run\n    result = context.run(func, *args)\n  File \"/local_disk0/.ephemeral_nfs/envs/pythonEnv-84e9cf7d-4c48-4eff-a685-f44e9c31be95/lib/python3.10/site-packages/gradio/utils.py\", line 674, in wrapper\n    response = f(*args, **kwargs)\n  File \"<command-4399696887388627>\", line 39, in greet\n    result=generating_text(prompt,RouteName1,200)\n  File \"<command-4399696887388627>\", line 8, in generating_text\n    create_route(\n  File \"/local_disk0/.ephemeral_nfs/envs/pythonEnv-84e9cf7d-4c48-4eff-a685-f44e9c31be95/lib/python3.10/site-packages/mlflow/gateway/fluent.py\", line 105, in create_route\n    return MlflowGatewayClient().create_route(name, route_type, model)\n  File \"/local_disk0/.ephemeral_nfs/envs/pythonEnv-84e9cf7d-4c48-4eff-a685-f44e9c31be95/lib/python3.10/site-packages/mlflow/gateway/client.py\", line 220, in create_route\n    response = self._call_endpoint(\n  File \"/local_disk0/.ephemeral_nfs/envs/pythonEnv-84e9cf7d-4c48-4eff-a685-f44e9c31be95/lib/python3.10/site-packages/mlflow/gateway/client.py\", line 97, in _call_endpoint\n    augmented_raise_for_status(response)\n  File \"/local_disk0/.ephemeral_nfs/envs/pythonEnv-84e9cf7d-4c48-4eff-a685-f44e9c31be95/lib/python3.10/site-packages/mlflow/utils/request_utils.py\", line 35, in augmented_raise_for_status\n    raise HTTPError(\nrequests.exceptions.HTTPError: 409 Client Error: Conflict for url: https://oregon.cloud.databricks.com/api/2.0/gateway/routes/. Response text: {\"error_code\":\"RESOURCE_CONFLICT\",\"message\":\"Failed to create Route txt1 which already exists.\"}\nTraceback (most recent call last):\n  File \"/local_disk0/.ephemeral_nfs/envs/pythonEnv-84e9cf7d-4c48-4eff-a685-f44e9c31be95/lib/python3.10/site-packages/mlflow/utils/request_utils.py\", line 32, in augmented_raise_for_status\n    response.raise_for_status()\n  File \"/databricks/python/lib/python3.10/site-packages/requests/models.py\", line 1021, in raise_for_status\n    raise HTTPError(http_error_msg, response=self)\nrequests.exceptions.HTTPError: 409 Client Error: Conflict for url: https://oregon.cloud.databricks.com/api/2.0/gateway/routes/\n\nDuring handling of the above exception, another exception occurred:\n\nTraceback (most recent call last):\n  File \"/local_disk0/.ephemeral_nfs/envs/pythonEnv-84e9cf7d-4c48-4eff-a685-f44e9c31be95/lib/python3.10/site-packages/gradio/queueing.py\", line 456, in call_prediction\n    output = await route_utils.call_process_api(\n  File \"/local_disk0/.ephemeral_nfs/envs/pythonEnv-84e9cf7d-4c48-4eff-a685-f44e9c31be95/lib/python3.10/site-packages/gradio/route_utils.py\", line 232, in call_process_api\n    output = await app.get_blocks().process_api(\n  File \"/local_disk0/.ephemeral_nfs/envs/pythonEnv-84e9cf7d-4c48-4eff-a685-f44e9c31be95/lib/python3.10/site-packages/gradio/blocks.py\", line 1522, in process_api\n    result = await self.call_function(\n  File \"/local_disk0/.ephemeral_nfs/envs/pythonEnv-84e9cf7d-4c48-4eff-a685-f44e9c31be95/lib/python3.10/site-packages/gradio/blocks.py\", line 1144, in call_function\n    prediction = await anyio.to_thread.run_sync(\n  File \"/local_disk0/.ephemeral_nfs/envs/pythonEnv-84e9cf7d-4c48-4eff-a685-f44e9c31be95/lib/python3.10/site-packages/anyio/to_thread.py\", line 33, in run_sync\n    return await get_asynclib().run_sync_in_worker_thread(\n  File \"/local_disk0/.ephemeral_nfs/envs/pythonEnv-84e9cf7d-4c48-4eff-a685-f44e9c31be95/lib/python3.10/site-packages/anyio/_backends/_asyncio.py\", line 877, in run_sync_in_worker_thread\n    return await future\n  File \"/local_disk0/.ephemeral_nfs/envs/pythonEnv-84e9cf7d-4c48-4eff-a685-f44e9c31be95/lib/python3.10/site-packages/anyio/_backends/_asyncio.py\", line 807, in run\n    result = context.run(func, *args)\n  File \"/local_disk0/.ephemeral_nfs/envs/pythonEnv-84e9cf7d-4c48-4eff-a685-f44e9c31be95/lib/python3.10/site-packages/gradio/utils.py\", line 674, in wrapper\n    response = f(*args, **kwargs)\n  File \"<command-4399696887388627>\", line 39, in greet\n    result=generating_text(prompt,RouteName1,200)\n  File \"<command-4399696887388627>\", line 8, in generating_text\n    create_route(\n  File \"/local_disk0/.ephemeral_nfs/envs/pythonEnv-84e9cf7d-4c48-4eff-a685-f44e9c31be95/lib/python3.10/site-packages/mlflow/gateway/fluent.py\", line 105, in create_route\n    return MlflowGatewayClient().create_route(name, route_type, model)\n  File \"/local_disk0/.ephemeral_nfs/envs/pythonEnv-84e9cf7d-4c48-4eff-a685-f44e9c31be95/lib/python3.10/site-packages/mlflow/gateway/client.py\", line 220, in create_route\n    response = self._call_endpoint(\n  File \"/local_disk0/.ephemeral_nfs/envs/pythonEnv-84e9cf7d-4c48-4eff-a685-f44e9c31be95/lib/python3.10/site-packages/mlflow/gateway/client.py\", line 97, in _call_endpoint\n    augmented_raise_for_status(response)\n  File \"/local_disk0/.ephemeral_nfs/envs/pythonEnv-84e9cf7d-4c48-4eff-a685-f44e9c31be95/lib/python3.10/site-packages/mlflow/utils/request_utils.py\", line 35, in augmented_raise_for_status\n    raise HTTPError(\nrequests.exceptions.HTTPError: 409 Client Error: Conflict for url: https://oregon.cloud.databricks.com/api/2.0/gateway/routes/. Response text: {\"error_code\":\"RESOURCE_CONFLICT\",\"message\":\"Failed to create Route txt1 which already exists.\"}\n\nThe above exception was the direct cause of the following exception:\n\nTraceback (most recent call last):\n  File \"/local_disk0/.ephemeral_nfs/envs/pythonEnv-84e9cf7d-4c48-4eff-a685-f44e9c31be95/lib/python3.10/site-packages/gradio/queueing.py\", line 501, in process_events\n    response = await self.call_prediction(awake_events, batch)\n  File \"/local_disk0/.ephemeral_nfs/envs/pythonEnv-84e9cf7d-4c48-4eff-a685-f44e9c31be95/lib/python3.10/site-packages/gradio/queueing.py\", line 465, in call_prediction\n    raise Exception(str(error) if show_error else None) from error\nException: None\nTraceback (most recent call last):\n  File \"/local_disk0/.ephemeral_nfs/envs/pythonEnv-84e9cf7d-4c48-4eff-a685-f44e9c31be95/lib/python3.10/site-packages/mlflow/utils/request_utils.py\", line 32, in augmented_raise_for_status\n    response.raise_for_status()\n  File \"/databricks/python/lib/python3.10/site-packages/requests/models.py\", line 1021, in raise_for_status\n    raise HTTPError(http_error_msg, response=self)\nrequests.exceptions.HTTPError: 409 Client Error: Conflict for url: https://oregon.cloud.databricks.com/api/2.0/gateway/routes/\n\nDuring handling of the above exception, another exception occurred:\n\nTraceback (most recent call last):\n  File \"/local_disk0/.ephemeral_nfs/envs/pythonEnv-84e9cf7d-4c48-4eff-a685-f44e9c31be95/lib/python3.10/site-packages/gradio/queueing.py\", line 456, in call_prediction\n    output = await route_utils.call_process_api(\n  File \"/local_disk0/.ephemeral_nfs/envs/pythonEnv-84e9cf7d-4c48-4eff-a685-f44e9c31be95/lib/python3.10/site-packages/gradio/route_utils.py\", line 232, in call_process_api\n    output = await app.get_blocks().process_api(\n  File \"/local_disk0/.ephemeral_nfs/envs/pythonEnv-84e9cf7d-4c48-4eff-a685-f44e9c31be95/lib/python3.10/site-packages/gradio/blocks.py\", line 1522, in process_api\n    result = await self.call_function(\n  File \"/local_disk0/.ephemeral_nfs/envs/pythonEnv-84e9cf7d-4c48-4eff-a685-f44e9c31be95/lib/python3.10/site-packages/gradio/blocks.py\", line 1144, in call_function\n    prediction = await anyio.to_thread.run_sync(\n  File \"/local_disk0/.ephemeral_nfs/envs/pythonEnv-84e9cf7d-4c48-4eff-a685-f44e9c31be95/lib/python3.10/site-packages/anyio/to_thread.py\", line 33, in run_sync\n    return await get_asynclib().run_sync_in_worker_thread(\n  File \"/local_disk0/.ephemeral_nfs/envs/pythonEnv-84e9cf7d-4c48-4eff-a685-f44e9c31be95/lib/python3.10/site-packages/anyio/_backends/_asyncio.py\", line 877, in run_sync_in_worker_thread\n    return await future\n  File \"/local_disk0/.ephemeral_nfs/envs/pythonEnv-84e9cf7d-4c48-4eff-a685-f44e9c31be95/lib/python3.10/site-packages/anyio/_backends/_asyncio.py\", line 807, in run\n    result = context.run(func, *args)\n  File \"/local_disk0/.ephemeral_nfs/envs/pythonEnv-84e9cf7d-4c48-4eff-a685-f44e9c31be95/lib/python3.10/site-packages/gradio/utils.py\", line 674, in wrapper\n    response = f(*args, **kwargs)\n  File \"<command-4399696887388627>\", line 39, in greet\n    result=generating_text(prompt,RouteName1,200)\n  File \"<command-4399696887388627>\", line 8, in generating_text\n    create_route(\n  File \"/local_disk0/.ephemeral_nfs/envs/pythonEnv-84e9cf7d-4c48-4eff-a685-f44e9c31be95/lib/python3.10/site-packages/mlflow/gateway/fluent.py\", line 105, in create_route\n    return MlflowGatewayClient().create_route(name, route_type, model)\n  File \"/local_disk0/.ephemeral_nfs/envs/pythonEnv-84e9cf7d-4c48-4eff-a685-f44e9c31be95/lib/python3.10/site-packages/mlflow/gateway/client.py\", line 220, in create_route\n    response = self._call_endpoint(\n  File \"/local_disk0/.ephemeral_nfs/envs/pythonEnv-84e9cf7d-4c48-4eff-a685-f44e9c31be95/lib/python3.10/site-packages/mlflow/gateway/client.py\", line 97, in _call_endpoint\n    augmented_raise_for_status(response)\n  File \"/local_disk0/.ephemeral_nfs/envs/pythonEnv-84e9cf7d-4c48-4eff-a685-f44e9c31be95/lib/python3.10/site-packages/mlflow/utils/request_utils.py\", line 35, in augmented_raise_for_status\n    raise HTTPError(\nrequests.exceptions.HTTPError: 409 Client Error: Conflict for url: https://oregon.cloud.databricks.com/api/2.0/gateway/routes/. Response text: {\"error_code\":\"RESOURCE_CONFLICT\",\"message\":\"Failed to create Route txt1 which already exists.\"}\nTraceback (most recent call last):\n  File \"/local_disk0/.ephemeral_nfs/envs/pythonEnv-84e9cf7d-4c48-4eff-a685-f44e9c31be95/lib/python3.10/site-packages/mlflow/utils/request_utils.py\", line 32, in augmented_raise_for_status\n    response.raise_for_status()\n  File \"/databricks/python/lib/python3.10/site-packages/requests/models.py\", line 1021, in raise_for_status\n    raise HTTPError(http_error_msg, response=self)\nrequests.exceptions.HTTPError: 409 Client Error: Conflict for url: https://oregon.cloud.databricks.com/api/2.0/gateway/routes/\n\nDuring handling of the above exception, another exception occurred:\n\nTraceback (most recent call last):\n  File \"/local_disk0/.ephemeral_nfs/envs/pythonEnv-84e9cf7d-4c48-4eff-a685-f44e9c31be95/lib/python3.10/site-packages/gradio/queueing.py\", line 456, in call_prediction\n    output = await route_utils.call_process_api(\n  File \"/local_disk0/.ephemeral_nfs/envs/pythonEnv-84e9cf7d-4c48-4eff-a685-f44e9c31be95/lib/python3.10/site-packages/gradio/route_utils.py\", line 232, in call_process_api\n    output = await app.get_blocks().process_api(\n  File \"/local_disk0/.ephemeral_nfs/envs/pythonEnv-84e9cf7d-4c48-4eff-a685-f44e9c31be95/lib/python3.10/site-packages/gradio/blocks.py\", line 1522, in process_api\n    result = await self.call_function(\n  File \"/local_disk0/.ephemeral_nfs/envs/pythonEnv-84e9cf7d-4c48-4eff-a685-f44e9c31be95/lib/python3.10/site-packages/gradio/blocks.py\", line 1144, in call_function\n    prediction = await anyio.to_thread.run_sync(\n  File \"/local_disk0/.ephemeral_nfs/envs/pythonEnv-84e9cf7d-4c48-4eff-a685-f44e9c31be95/lib/python3.10/site-packages/anyio/to_thread.py\", line 33, in run_sync\n    return await get_asynclib().run_sync_in_worker_thread(\n  File \"/local_disk0/.ephemeral_nfs/envs/pythonEnv-84e9cf7d-4c48-4eff-a685-f44e9c31be95/lib/python3.10/site-packages/anyio/_backends/_asyncio.py\", line 877, in run_sync_in_worker_thread\n    return await future\n  File \"/local_disk0/.ephemeral_nfs/envs/pythonEnv-84e9cf7d-4c48-4eff-a685-f44e9c31be95/lib/python3.10/site-packages/anyio/_backends/_asyncio.py\", line 807, in run\n    result = context.run(func, *args)\n  File \"/local_disk0/.ephemeral_nfs/envs/pythonEnv-84e9cf7d-4c48-4eff-a685-f44e9c31be95/lib/python3.10/site-packages/gradio/utils.py\", line 674, in wrapper\n    response = f(*args, **kwargs)\n  File \"<command-4399696887388627>\", line 39, in greet\n    result=generating_text(prompt,RouteName1,200)\n  File \"<command-4399696887388627>\", line 8, in generating_text\n    create_route(\n  File \"/local_disk0/.ephemeral_nfs/envs/pythonEnv-84e9cf7d-4c48-4eff-a685-f44e9c31be95/lib/python3.10/site-packages/mlflow/gateway/fluent.py\", line 105, in create_route\n    return MlflowGatewayClient().create_route(name, route_type, model)\n  File \"/local_disk0/.ephemeral_nfs/envs/pythonEnv-84e9cf7d-4c48-4eff-a685-f44e9c31be95/lib/python3.10/site-packages/mlflow/gateway/client.py\", line 220, in create_route\n    response = self._call_endpoint(\n  File \"/local_disk0/.ephemeral_nfs/envs/pythonEnv-84e9cf7d-4c48-4eff-a685-f44e9c31be95/lib/python3.10/site-packages/mlflow/gateway/client.py\", line 97, in _call_endpoint\n    augmented_raise_for_status(response)\n  File \"/local_disk0/.ephemeral_nfs/envs/pythonEnv-84e9cf7d-4c48-4eff-a685-f44e9c31be95/lib/python3.10/site-packages/mlflow/utils/request_utils.py\", line 35, in augmented_raise_for_status\n    raise HTTPError(\nrequests.exceptions.HTTPError: 409 Client Error: Conflict for url: https://oregon.cloud.databricks.com/api/2.0/gateway/routes/. Response text: {\"error_code\":\"RESOURCE_CONFLICT\",\"message\":\"Failed to create Route txt1 which already exists.\"}\n\nThe above exception was the direct cause of the following exception:\n\nTraceback (most recent call last):\n  File \"/local_disk0/.ephemeral_nfs/envs/pythonEnv-84e9cf7d-4c48-4eff-a685-f44e9c31be95/lib/python3.10/site-packages/gradio/queueing.py\", line 501, in process_events\n    response = await self.call_prediction(awake_events, batch)\n  File \"/local_disk0/.ephemeral_nfs/envs/pythonEnv-84e9cf7d-4c48-4eff-a685-f44e9c31be95/lib/python3.10/site-packages/gradio/queueing.py\", line 465, in call_prediction\n    raise Exception(str(error) if show_error else None) from error\nException: None\nTraceback (most recent call last):\n  File \"/local_disk0/.ephemeral_nfs/envs/pythonEnv-84e9cf7d-4c48-4eff-a685-f44e9c31be95/lib/python3.10/site-packages/mlflow/utils/request_utils.py\", line 32, in augmented_raise_for_status\n    response.raise_for_status()\n  File \"/databricks/python/lib/python3.10/site-packages/requests/models.py\", line 1021, in raise_for_status\n    raise HTTPError(http_error_msg, response=self)\nrequests.exceptions.HTTPError: 409 Client Error: Conflict for url: https://oregon.cloud.databricks.com/api/2.0/gateway/routes/\n\nDuring handling of the above exception, another exception occurred:\n\nTraceback (most recent call last):\n  File \"/local_disk0/.ephemeral_nfs/envs/pythonEnv-84e9cf7d-4c48-4eff-a685-f44e9c31be95/lib/python3.10/site-packages/gradio/queueing.py\", line 456, in call_prediction\n    output = await route_utils.call_process_api(\n  File \"/local_disk0/.ephemeral_nfs/envs/pythonEnv-84e9cf7d-4c48-4eff-a685-f44e9c31be95/lib/python3.10/site-packages/gradio/route_utils.py\", line 232, in call_process_api\n    output = await app.get_blocks().process_api(\n  File \"/local_disk0/.ephemeral_nfs/envs/pythonEnv-84e9cf7d-4c48-4eff-a685-f44e9c31be95/lib/python3.10/site-packages/gradio/blocks.py\", line 1522, in process_api\n    result = await self.call_function(\n  File \"/local_disk0/.ephemeral_nfs/envs/pythonEnv-84e9cf7d-4c48-4eff-a685-f44e9c31be95/lib/python3.10/site-packages/gradio/blocks.py\", line 1144, in call_function\n    prediction = await anyio.to_thread.run_sync(\n  File \"/local_disk0/.ephemeral_nfs/envs/pythonEnv-84e9cf7d-4c48-4eff-a685-f44e9c31be95/lib/python3.10/site-packages/anyio/to_thread.py\", line 33, in run_sync\n    return await get_asynclib().run_sync_in_worker_thread(\n  File \"/local_disk0/.ephemeral_nfs/envs/pythonEnv-84e9cf7d-4c48-4eff-a685-f44e9c31be95/lib/python3.10/site-packages/anyio/_backends/_asyncio.py\", line 877, in run_sync_in_worker_thread\n    return await future\n  File \"/local_disk0/.ephemeral_nfs/envs/pythonEnv-84e9cf7d-4c48-4eff-a685-f44e9c31be95/lib/python3.10/site-packages/anyio/_backends/_asyncio.py\", line 807, in run\n    result = context.run(func, *args)\n  File \"/local_disk0/.ephemeral_nfs/envs/pythonEnv-84e9cf7d-4c48-4eff-a685-f44e9c31be95/lib/python3.10/site-packages/gradio/utils.py\", line 674, in wrapper\n    response = f(*args, **kwargs)\n  File \"<command-4399696887388627>\", line 39, in greet\n    result=generating_text(prompt,RouteName1,200)\n  File \"<command-4399696887388627>\", line 8, in generating_text\n    create_route(\n  File \"/local_disk0/.ephemeral_nfs/envs/pythonEnv-84e9cf7d-4c48-4eff-a685-f44e9c31be95/lib/python3.10/site-packages/mlflow/gateway/fluent.py\", line 105, in create_route\n    return MlflowGatewayClient().create_route(name, route_type, model)\n  File \"/local_disk0/.ephemeral_nfs/envs/pythonEnv-84e9cf7d-4c48-4eff-a685-f44e9c31be95/lib/python3.10/site-packages/mlflow/gateway/client.py\", line 220, in create_route\n    response = self._call_endpoint(\n  File \"/local_disk0/.ephemeral_nfs/envs/pythonEnv-84e9cf7d-4c48-4eff-a685-f44e9c31be95/lib/python3.10/site-packages/mlflow/gateway/client.py\", line 97, in _call_endpoint\n    augmented_raise_for_status(response)\n  File \"/local_disk0/.ephemeral_nfs/envs/pythonEnv-84e9cf7d-4c48-4eff-a685-f44e9c31be95/lib/python3.10/site-packages/mlflow/utils/request_utils.py\", line 35, in augmented_raise_for_status\n    raise HTTPError(\nrequests.exceptions.HTTPError: 409 Client Error: Conflict for url: https://oregon.cloud.databricks.com/api/2.0/gateway/routes/. Response text: {\"error_code\":\"RESOURCE_CONFLICT\",\"message\":\"Failed to create Route txt1 which already exists.\"}\nTraceback (most recent call last):\n  File \"/local_disk0/.ephemeral_nfs/envs/pythonEnv-84e9cf7d-4c48-4eff-a685-f44e9c31be95/lib/python3.10/site-packages/mlflow/utils/request_utils.py\", line 32, in augmented_raise_for_status\n    response.raise_for_status()\n  File \"/databricks/python/lib/python3.10/site-packages/requests/models.py\", line 1021, in raise_for_status\n    raise HTTPError(http_error_msg, response=self)\nrequests.exceptions.HTTPError: 409 Client Error: Conflict for url: https://oregon.cloud.databricks.com/api/2.0/gateway/routes/\n\nDuring handling of the above exception, another exception occurred:\n\nTraceback (most recent call last):\n  File \"/local_disk0/.ephemeral_nfs/envs/pythonEnv-84e9cf7d-4c48-4eff-a685-f44e9c31be95/lib/python3.10/site-packages/gradio/queueing.py\", line 456, in call_prediction\n    output = await route_utils.call_process_api(\n  File \"/local_disk0/.ephemeral_nfs/envs/pythonEnv-84e9cf7d-4c48-4eff-a685-f44e9c31be95/lib/python3.10/site-packages/gradio/route_utils.py\", line 232, in call_process_api\n    output = await app.get_blocks().process_api(\n  File \"/local_disk0/.ephemeral_nfs/envs/pythonEnv-84e9cf7d-4c48-4eff-a685-f44e9c31be95/lib/python3.10/site-packages/gradio/blocks.py\", line 1522, in process_api\n    result = await self.call_function(\n  File \"/local_disk0/.ephemeral_nfs/envs/pythonEnv-84e9cf7d-4c48-4eff-a685-f44e9c31be95/lib/python3.10/site-packages/gradio/blocks.py\", line 1144, in call_function\n    prediction = await anyio.to_thread.run_sync(\n  File \"/local_disk0/.ephemeral_nfs/envs/pythonEnv-84e9cf7d-4c48-4eff-a685-f44e9c31be95/lib/python3.10/site-packages/anyio/to_thread.py\", line 33, in run_sync\n    return await get_asynclib().run_sync_in_worker_thread(\n  File \"/local_disk0/.ephemeral_nfs/envs/pythonEnv-84e9cf7d-4c48-4eff-a685-f44e9c31be95/lib/python3.10/site-packages/anyio/_backends/_asyncio.py\", line 877, in run_sync_in_worker_thread\n    return await future\n  File \"/local_disk0/.ephemeral_nfs/envs/pythonEnv-84e9cf7d-4c48-4eff-a685-f44e9c31be95/lib/python3.10/site-packages/anyio/_backends/_asyncio.py\", line 807, in run\n    result = context.run(func, *args)\n  File \"/local_disk0/.ephemeral_nfs/envs/pythonEnv-84e9cf7d-4c48-4eff-a685-f44e9c31be95/lib/python3.10/site-packages/gradio/utils.py\", line 674, in wrapper\n    response = f(*args, **kwargs)\n  File \"<command-4399696887388627>\", line 39, in greet\n    result=generating_text(prompt,RouteName1,200)\n  File \"<command-4399696887388627>\", line 8, in generating_text\n    create_route(\n  File \"/local_disk0/.ephemeral_nfs/envs/pythonEnv-84e9cf7d-4c48-4eff-a685-f44e9c31be95/lib/python3.10/site-packages/mlflow/gateway/fluent.py\", line 105, in create_route\n    return MlflowGatewayClient().create_route(name, route_type, model)\n  File \"/local_disk0/.ephemeral_nfs/envs/pythonEnv-84e9cf7d-4c48-4eff-a685-f44e9c31be95/lib/python3.10/site-packages/mlflow/gateway/client.py\", line 220, in create_route\n    response = self._call_endpoint(\n  File \"/local_disk0/.ephemeral_nfs/envs/pythonEnv-84e9cf7d-4c48-4eff-a685-f44e9c31be95/lib/python3.10/site-packages/mlflow/gateway/client.py\", line 97, in _call_endpoint\n    augmented_raise_for_status(response)\n  File \"/local_disk0/.ephemeral_nfs/envs/pythonEnv-84e9cf7d-4c48-4eff-a685-f44e9c31be95/lib/python3.10/site-packages/mlflow/utils/request_utils.py\", line 35, in augmented_raise_for_status\n    raise HTTPError(\nrequests.exceptions.HTTPError: 409 Client Error: Conflict for url: https://oregon.cloud.databricks.com/api/2.0/gateway/routes/. Response text: {\"error_code\":\"RESOURCE_CONFLICT\",\"message\":\"Failed to create Route txt1 which already exists.\"}\n\nThe above exception was the direct cause of the following exception:\n\nTraceback (most recent call last):\n  File \"/local_disk0/.ephemeral_nfs/envs/pythonEnv-84e9cf7d-4c48-4eff-a685-f44e9c31be95/lib/python3.10/site-packages/gradio/queueing.py\", line 501, in process_events\n    response = await self.call_prediction(awake_events, batch)\n  File \"/local_disk0/.ephemeral_nfs/envs/pythonEnv-84e9cf7d-4c48-4eff-a685-f44e9c31be95/lib/python3.10/site-packages/gradio/queueing.py\", line 465, in call_prediction\n    raise Exception(str(error) if show_error else None) from error\nException: None\nTraceback (most recent call last):\n  File \"/local_disk0/.ephemeral_nfs/envs/pythonEnv-84e9cf7d-4c48-4eff-a685-f44e9c31be95/lib/python3.10/site-packages/mlflow/utils/request_utils.py\", line 32, in augmented_raise_for_status\n    response.raise_for_status()\n  File \"/databricks/python/lib/python3.10/site-packages/requests/models.py\", line 1021, in raise_for_status\n    raise HTTPError(http_error_msg, response=self)\nrequests.exceptions.HTTPError: 409 Client Error: Conflict for url: https://oregon.cloud.databricks.com/api/2.0/gateway/routes/\n\nDuring handling of the above exception, another exception occurred:\n\nTraceback (most recent call last):\n  File \"/local_disk0/.ephemeral_nfs/envs/pythonEnv-84e9cf7d-4c48-4eff-a685-f44e9c31be95/lib/python3.10/site-packages/gradio/queueing.py\", line 456, in call_prediction\n    output = await route_utils.call_process_api(\n  File \"/local_disk0/.ephemeral_nfs/envs/pythonEnv-84e9cf7d-4c48-4eff-a685-f44e9c31be95/lib/python3.10/site-packages/gradio/route_utils.py\", line 232, in call_process_api\n    output = await app.get_blocks().process_api(\n  File \"/local_disk0/.ephemeral_nfs/envs/pythonEnv-84e9cf7d-4c48-4eff-a685-f44e9c31be95/lib/python3.10/site-packages/gradio/blocks.py\", line 1522, in process_api\n    result = await self.call_function(\n  File \"/local_disk0/.ephemeral_nfs/envs/pythonEnv-84e9cf7d-4c48-4eff-a685-f44e9c31be95/lib/python3.10/site-packages/gradio/blocks.py\", line 1144, in call_function\n    prediction = await anyio.to_thread.run_sync(\n  File \"/local_disk0/.ephemeral_nfs/envs/pythonEnv-84e9cf7d-4c48-4eff-a685-f44e9c31be95/lib/python3.10/site-packages/anyio/to_thread.py\", line 33, in run_sync\n    return await get_asynclib().run_sync_in_worker_thread(\n  File \"/local_disk0/.ephemeral_nfs/envs/pythonEnv-84e9cf7d-4c48-4eff-a685-f44e9c31be95/lib/python3.10/site-packages/anyio/_backends/_asyncio.py\", line 877, in run_sync_in_worker_thread\n    return await future\n  File \"/local_disk0/.ephemeral_nfs/envs/pythonEnv-84e9cf7d-4c48-4eff-a685-f44e9c31be95/lib/python3.10/site-packages/anyio/_backends/_asyncio.py\", line 807, in run\n    result = context.run(func, *args)\n  File \"/local_disk0/.ephemeral_nfs/envs/pythonEnv-84e9cf7d-4c48-4eff-a685-f44e9c31be95/lib/python3.10/site-packages/gradio/utils.py\", line 674, in wrapper\n    response = f(*args, **kwargs)\n  File \"<command-4399696887388627>\", line 39, in greet\n    result=generating_text(prompt,RouteName1,200)\n  File \"<command-4399696887388627>\", line 8, in generating_text\n    create_route(\n  File \"/local_disk0/.ephemeral_nfs/envs/pythonEnv-84e9cf7d-4c48-4eff-a685-f44e9c31be95/lib/python3.10/site-packages/mlflow/gateway/fluent.py\", line 105, in create_route\n    return MlflowGatewayClient().create_route(name, route_type, model)\n  File \"/local_disk0/.ephemeral_nfs/envs/pythonEnv-84e9cf7d-4c48-4eff-a685-f44e9c31be95/lib/python3.10/site-packages/mlflow/gateway/client.py\", line 220, in create_route\n    response = self._call_endpoint(\n  File \"/local_disk0/.ephemeral_nfs/envs/pythonEnv-84e9cf7d-4c48-4eff-a685-f44e9c31be95/lib/python3.10/site-packages/mlflow/gateway/client.py\", line 97, in _call_endpoint\n    augmented_raise_for_status(response)\n  File \"/local_disk0/.ephemeral_nfs/envs/pythonEnv-84e9cf7d-4c48-4eff-a685-f44e9c31be95/lib/python3.10/site-packages/mlflow/utils/request_utils.py\", line 35, in augmented_raise_for_status\n    raise HTTPError(\nrequests.exceptions.HTTPError: 409 Client Error: Conflict for url: https://oregon.cloud.databricks.com/api/2.0/gateway/routes/. Response text: {\"error_code\":\"RESOURCE_CONFLICT\",\"message\":\"Failed to create Route txt1 which already exists.\"}\nTraceback (most recent call last):\n  File \"/local_disk0/.ephemeral_nfs/envs/pythonEnv-84e9cf7d-4c48-4eff-a685-f44e9c31be95/lib/python3.10/site-packages/mlflow/utils/request_utils.py\", line 32, in augmented_raise_for_status\n    response.raise_for_status()\n  File \"/databricks/python/lib/python3.10/site-packages/requests/models.py\", line 1021, in raise_for_status\n    raise HTTPError(http_error_msg, response=self)\nrequests.exceptions.HTTPError: 409 Client Error: Conflict for url: https://oregon.cloud.databricks.com/api/2.0/gateway/routes/\n\nDuring handling of the above exception, another exception occurred:\n\nTraceback (most recent call last):\n  File \"/local_disk0/.ephemeral_nfs/envs/pythonEnv-84e9cf7d-4c48-4eff-a685-f44e9c31be95/lib/python3.10/site-packages/gradio/queueing.py\", line 456, in call_prediction\n    output = await route_utils.call_process_api(\n  File \"/local_disk0/.ephemeral_nfs/envs/pythonEnv-84e9cf7d-4c48-4eff-a685-f44e9c31be95/lib/python3.10/site-packages/gradio/route_utils.py\", line 232, in call_process_api\n    output = await app.get_blocks().process_api(\n  File \"/local_disk0/.ephemeral_nfs/envs/pythonEnv-84e9cf7d-4c48-4eff-a685-f44e9c31be95/lib/python3.10/site-packages/gradio/blocks.py\", line 1522, in process_api\n    result = await self.call_function(\n  File \"/local_disk0/.ephemeral_nfs/envs/pythonEnv-84e9cf7d-4c48-4eff-a685-f44e9c31be95/lib/python3.10/site-packages/gradio/blocks.py\", line 1144, in call_function\n    prediction = await anyio.to_thread.run_sync(\n  File \"/local_disk0/.ephemeral_nfs/envs/pythonEnv-84e9cf7d-4c48-4eff-a685-f44e9c31be95/lib/python3.10/site-packages/anyio/to_thread.py\", line 33, in run_sync\n    return await get_asynclib().run_sync_in_worker_thread(\n  File \"/local_disk0/.ephemeral_nfs/envs/pythonEnv-84e9cf7d-4c48-4eff-a685-f44e9c31be95/lib/python3.10/site-packages/anyio/_backends/_asyncio.py\", line 877, in run_sync_in_worker_thread\n    return await future\n  File \"/local_disk0/.ephemeral_nfs/envs/pythonEnv-84e9cf7d-4c48-4eff-a685-f44e9c31be95/lib/python3.10/site-packages/anyio/_backends/_asyncio.py\", line 807, in run\n    result = context.run(func, *args)\n  File \"/local_disk0/.ephemeral_nfs/envs/pythonEnv-84e9cf7d-4c48-4eff-a685-f44e9c31be95/lib/python3.10/site-packages/gradio/utils.py\", line 674, in wrapper\n    response = f(*args, **kwargs)\n  File \"<command-4399696887388627>\", line 39, in greet\n    result=generating_text(prompt,RouteName1,200)\n  File \"<command-4399696887388627>\", line 8, in generating_text\n    create_route(\n  File \"/local_disk0/.ephemeral_nfs/envs/pythonEnv-84e9cf7d-4c48-4eff-a685-f44e9c31be95/lib/python3.10/site-packages/mlflow/gateway/fluent.py\", line 105, in create_route\n    return MlflowGatewayClient().create_route(name, route_type, model)\n  File \"/local_disk0/.ephemeral_nfs/envs/pythonEnv-84e9cf7d-4c48-4eff-a685-f44e9c31be95/lib/python3.10/site-packages/mlflow/gateway/client.py\", line 220, in create_route\n    response = self._call_endpoint(\n  File \"/local_disk0/.ephemeral_nfs/envs/pythonEnv-84e9cf7d-4c48-4eff-a685-f44e9c31be95/lib/python3.10/site-packages/mlflow/gateway/client.py\", line 97, in _call_endpoint\n    augmented_raise_for_status(response)\n  File \"/local_disk0/.ephemeral_nfs/envs/pythonEnv-84e9cf7d-4c48-4eff-a685-f44e9c31be95/lib/python3.10/site-packages/mlflow/utils/request_utils.py\", line 35, in augmented_raise_for_status\n    raise HTTPError(\nrequests.exceptions.HTTPError: 409 Client Error: Conflict for url: https://oregon.cloud.databricks.com/api/2.0/gateway/routes/. Response text: {\"error_code\":\"RESOURCE_CONFLICT\",\"message\":\"Failed to create Route txt1 which already exists.\"}\n\nThe above exception was the direct cause of the following exception:\n\nTraceback (most recent call last):\n  File \"/local_disk0/.ephemeral_nfs/envs/pythonEnv-84e9cf7d-4c48-4eff-a685-f44e9c31be95/lib/python3.10/site-packages/gradio/queueing.py\", line 501, in process_events\n    response = await self.call_prediction(awake_events, batch)\n  File \"/local_disk0/.ephemeral_nfs/envs/pythonEnv-84e9cf7d-4c48-4eff-a685-f44e9c31be95/lib/python3.10/site-packages/gradio/queueing.py\", line 465, in call_prediction\n    raise Exception(str(error) if show_error else None) from error\nException: None\n"
     ]
    },
    {
     "output_type": "display_data",
     "data": {
      "text/html": [
       "<style scoped>\n",
       "  .ansiout {\n",
       "    display: block;\n",
       "    unicode-bidi: embed;\n",
       "    white-space: pre-wrap;\n",
       "    word-wrap: break-word;\n",
       "    word-break: break-all;\n",
       "    font-family: \"Menlo\", \"Monaco\", \"Consolas\", \"Ubuntu Mono\", \"Source Code Pro\", monospace;\n",
       "    font-size: 13px;\n",
       "    color: #555;\n",
       "    margin-left: 4px;\n",
       "    line-height: 19px;\n",
       "  }\n",
       "</style>"
      ]
     },
     "metadata": {
      "application/vnd.databricks.v1+output": {
       "arguments": {},
       "data": "",
       "errorSummary": "Cancelled",
       "errorTraceType": "html",
       "metadata": {},
       "type": "ipynbError"
      }
     },
     "output_type": "display_data"
    }
   ],
   "source": [
    "import gradio as gr\n",
    "from mlflow.gateway import set_gateway_uri, create_route, query,delete_route\n",
    "\n",
    "set_gateway_uri(\"databricks\")\n",
    "\n",
    "def generating_text(prompt,route_param,token):\n",
    "    # Create a Route for text completions with MosaicML Inference API \n",
    "    create_route(\n",
    "        name=route_param,\n",
    "        route_type=\"llm/v1/completions\",\n",
    "        model={\n",
    "            \"name\": \"llama2-70b-chat\",\n",
    "            \"provider\": \"mosaicml\",\n",
    "            \"mosaicml_config\": {\n",
    "            \"mosaicml_api_key\": \"30HUkJ.UEvkMW9tAyMS7v91L4-e-gA0r.MKC0GUBphZ.2y5\"\n",
    "            }\n",
    "        }\n",
    "    )\n",
    "\n",
    "    response1 = query(\n",
    "    route=route_param,\n",
    "    data={\"prompt\": prompt,\"temperature\": 0.1,\n",
    "        \"max_tokens\": token}\n",
    "    )\n",
    "\n",
    "    return(response1)\n",
    "\n",
    "import string\n",
    "import random\n",
    " \n",
    "# initializing size of string\n",
    "N = 7\n",
    "\n",
    "def greet(Input,chat_history):\n",
    "    RouteName1=\"txt1\"\n",
    "    RouteName2=\"txt2\"\n",
    "    system=\"you are a translator which converts english to hindi. Please translate the given text to hindi language\"\n",
    "    prompt=f\"{Input}\"\n",
    "    result=generating_text(prompt,RouteName1,200)\n",
    "    print(result)\n",
    "    res=result['candidates'][0]['text']\n",
    "    prompt2=f\"[INST] <<SYS>> {system} <</SYS>> {res} [/INST]\"\n",
    "    result1=generating_text(prompt2,RouteName2,1000)\n",
    "    print(result1)\n",
    "    chat_history.append((Input, result1['candidates'][0]['text']))\n",
    "    delete_route(\"txt1\")\n",
    "    delete_route(\"txt2\")\n",
    "    return \"\", chat_history\n",
    "\n",
    "with gr.Blocks() as demo:\n",
    "    chatbot = gr.Chatbot(height=200) #just to fit the notebook\n",
    "    msg = gr.Textbox(label=\"Prompt\")\n",
    "    btn = gr.Button(\"Submit\")\n",
    "    clear = gr.ClearButton(components=[msg, chatbot], value=\"Clear console\")\n",
    "\n",
    "    btn.click(greet, inputs=[msg, chatbot], outputs=[msg, chatbot])\n",
    "    msg.submit(greet, inputs=[msg, chatbot], outputs=[msg, chatbot]) #Press enter to submit\n",
    "\n",
    "gr.close_all()   \n",
    "demo.launch(share=True,debug=True)\n"
   ]
  },
  {
   "cell_type": "code",
   "execution_count": 0,
   "metadata": {
    "application/vnd.databricks.v1+cell": {
     "cellMetadata": {
      "byteLimit": 2048000,
      "rowLimit": 10000
     },
     "inputWidgets": {},
     "nuid": "720d05c9-9ea1-41c5-aa2b-88b89bdcd1b7",
     "showTitle": false,
     "title": ""
    }
   },
   "outputs": [
    {
     "output_type": "stream",
     "name": "stdout",
     "output_type": "stream",
     "text": [
      "Running on local URL:  http://127.0.0.1:7860\nRunning on public URL: https://5009d3319c8c8ebb7e.gradio.live\n\nThis share link expires in 72 hours. For free permanent hosting and GPU upgrades, run `gradio deploy` from Terminal to deploy to Spaces (https://huggingface.co/spaces)\n"
     ]
    },
    {
     "output_type": "stream",
     "name": "stdout",
     "output_type": "stream",
     "text": [
      "Prompt + Context:\n\nUser: Hi\nAssistant:\nPrompt + Context:\n\nUser: Hi\nAssistant: Hai,how are you\nUser: I am fine\nAssistant:\nPrompt + Context:\n\nUser: Hi\nAssistant: Hai,how are you\nUser: I am fine\nAssistant: Hai,how are you\nUser: Heya\nAssistant:\nPrompt + Context:\n\nUser: Hi\nAssistant: Hai,how are you\nUser: I am fine\nAssistant: Hai,how are you\nUser: Heya\nAssistant: Hai,how are you\nUser: Baba\nAssistant:\n"
     ]
    },
    {
     "output_type": "display_data",
     "data": {
      "text/html": [
       "<style scoped>\n",
       "  .ansiout {\n",
       "    display: block;\n",
       "    unicode-bidi: embed;\n",
       "    white-space: pre-wrap;\n",
       "    word-wrap: break-word;\n",
       "    word-break: break-all;\n",
       "    font-family: \"Menlo\", \"Monaco\", \"Consolas\", \"Ubuntu Mono\", \"Source Code Pro\", monospace;\n",
       "    font-size: 13px;\n",
       "    color: #555;\n",
       "    margin-left: 4px;\n",
       "    line-height: 19px;\n",
       "  }\n",
       "</style>"
      ]
     },
     "metadata": {
      "application/vnd.databricks.v1+output": {
       "arguments": {},
       "data": "",
       "errorSummary": "Cancelled",
       "errorTraceType": "html",
       "metadata": {},
       "type": "ipynbError"
      }
     },
     "output_type": "display_data"
    }
   ],
   "source": [
    "import gradio as gr\n",
    "from mlflow.gateway import set_gateway_uri, create_route, query\n",
    "\n",
    "def generating_text(prompt,route_param,token):\n",
    "    set_gateway_uri(\"databricks\")\n",
    "\n",
    "    # Create a Route for text completions with MosaicML Inference API \n",
    "    create_route(\n",
    "        name=route_param,\n",
    "        route_type=\"llm/v1/completions\",\n",
    "        model={\n",
    "            \"name\": \"llama2-70b-chat\",\n",
    "            \"provider\": \"mosaicml\",\n",
    "            \"mosaicml_config\": {\n",
    "            \"mosaicml_api_key\": \"30HUkJ.UEvkMW9tAyMS7v91L4-e-gA0r.MKC0GUBphZ.2y5\"\n",
    "            }\n",
    "        }\n",
    "    )\n",
    "\n",
    "    response1 = query(\n",
    "    route=route_param,\n",
    "    data={\"prompt\": prompt,\"temperature\": 0.1,\n",
    "        \"max_tokens\": token}\n",
    "    )\n",
    "\n",
    "    return(response1)\n",
    "\n",
    "import string\n",
    "import random\n",
    "\n",
    "N = 7\n",
    "\n",
    "def greet(Input, chat_history):\n",
    "    RouteName1=''.join(random.choices(string.ascii_lowercase, k=N))\n",
    "    RouteName2=''.join(random.choices(string.ascii_lowercase, k=(N+1)))\n",
    "    system=\"you are a translator which converts english to hindi. Please translate the given text to hindi language\"\n",
    "    prompt=f\"{Input}\"\n",
    "    result=generating_text(prompt,RouteName1,200)\n",
    "    print(result)\n",
    "    res=result['candidates'][0]['text']\n",
    "    prompt2=f\"[INST] <<SYS>> {system} <</SYS>> {res} [/INST]\"\n",
    "    result1=generating_text(prompt2,RouteName2,1500)\n",
    "    print(result1)\n",
    "    chat_history.append((Input, result1['candidates'][0]['text']))\n",
    "    return \"\", chat_history\n",
    "\n",
    "def format_chat_prompt(Input, chat_history, max_convo_length):\n",
    "    prompt = \"\"\n",
    "    for turn in chat_history[-max_convo_length:]:\n",
    "        user_message, bot_message = turn\n",
    "        prompt = f\"{prompt}\\nUser: {user_message}\\nAssistant: {bot_message}\"\n",
    "    prompt = f\"{prompt}\\nUser: {message}\\nAssistant:\"\n",
    "    return prompt\n",
    "\n",
    "def respond(message, chat_history, max_convo_length = 10):\n",
    "        formatted_prompt = format_chat_prompt(message, chat_history, max_convo_length)\n",
    "        print('Prompt + Context:')\n",
    "        print(formatted_prompt)\n",
    "        bot_message = chat(system_prompt = 'You are a friendly chatbot. Generate the output for only the Assistant.',\n",
    "                           user_prompt = formatted_prompt)\n",
    "        chat_history.append((message, bot_message))\n",
    "        return \"\", chat_history\n",
    "\n",
    "with gr.Blocks() as demo:\n",
    "    chatbot = gr.Chatbot(height=300) #just to fit the notebook\n",
    "    msg = gr.Textbox(label=\"Prompt\")\n",
    "    btn = gr.Button(\"Submit\")\n",
    "    clear = gr.ClearButton(components=[msg, chatbot], value=\"Clear console\")\n",
    "\n",
    "    btn.click(respond, inputs=[msg, chatbot], outputs=[msg, chatbot])\n",
    "    msg.submit(respond, inputs=[msg, chatbot], outputs=[msg, chatbot]) #Press enter to submit\n",
    "gr.close_all()\n",
    "demo.launch(share=True,debug=True)"
   ]
  },
  {
   "cell_type": "code",
   "execution_count": 0,
   "metadata": {
    "application/vnd.databricks.v1+cell": {
     "cellMetadata": {},
     "inputWidgets": {},
     "nuid": "460769c6-1b35-41c6-964d-c5a9eadf1428",
     "showTitle": false,
     "title": ""
    }
   },
   "outputs": [],
   "source": [
    "import gradio as gr\n",
    "\n",
    "def summarize(input):\n",
    "    output = get_completion(input)\n",
    "    return output[0]['summary_text']\n",
    "\n",
    "gr.close_all()\n",
    "demo = gr.Interface(fn=summarize, \n",
    "                    inputs=[gr.Textbox(label=\"Text to summarize\", lines=6)],\n",
    "                    outputs=[gr.Textbox(label=\"Result\", lines=3)],\n",
    "                    title=\"Text summarization with distilbart-cnn\",\n",
    "                    description=\"Summarize any text using the `shleifer/distilbart-cnn-12-6` model under the hood!\"\n",
    "                   )\n",
    "demo.launch(share=True, server_port=int(os.environ['PORT2']))"
   ]
  },
  {
   "cell_type": "code",
   "execution_count": 0,
   "metadata": {
    "application/vnd.databricks.v1+cell": {
     "cellMetadata": {},
     "inputWidgets": {},
     "nuid": "b754215f-7cd4-4c25-8ef6-7657c63969c6",
     "showTitle": false,
     "title": ""
    }
   },
   "outputs": [],
   "source": [
    "def ner(input):\n",
    "    output = get_completion(input, parameters=None, ENDPOINT_URL=API_URL)\n",
    "    return {\"text\": input, \"entities\": output}\n",
    "\n",
    "gr.close_all()\n",
    "demo = gr.Interface(fn=ner,\n",
    "                    inputs=[gr.Textbox(label=\"Text to find entities\", lines=2)],\n",
    "                    outputs=[gr.HighlightedText(label=\"Text with entities\")],\n",
    "                    title=\"NER with dslim/bert-base-NER\",\n",
    "                    description=\"Find entities using the `dslim/bert-base-NER` model under the hood!\",\n",
    "                    allow_flagging=\"never\",\n",
    "                    #Here we introduce a new tag, examples, easy to use examples for your application\n",
    "                    examples=[\"My name is Andrew and I live in California\", \"My name is Poli and work at HuggingFace\"])\n",
    "demo.launch(share=True, server_port=int(os.environ['PORT3']))"
   ]
  },
  {
   "cell_type": "code",
   "execution_count": 0,
   "metadata": {
    "application/vnd.databricks.v1+cell": {
     "cellMetadata": {},
     "inputWidgets": {},
     "nuid": "fbe8a2a4-cde8-4bf9-b729-359f35492a9d",
     "showTitle": false,
     "title": ""
    }
   },
   "outputs": [],
   "source": [
    "gr.close_all()\n",
    "demo = gr.Interface(fn=generate,\n",
    "                    inputs=[\n",
    "                        gr.Textbox(label=\"Your prompt\"),\n",
    "                        gr.Textbox(label=\"Negative prompt\"),\n",
    "                        gr.Slider(label=\"Inference Steps\", minimum=1, maximum=100, value=25,\n",
    "                                 info=\"In how many steps will the denoiser denoise the image?\"),\n",
    "                        gr.Slider(label=\"Guidance Scale\", minimum=1, maximum=20, value=7, \n",
    "                                  info=\"Controls how much the text prompt influences the result\"),\n",
    "                        gr.Slider(label=\"Width\", minimum=64, maximum=512, step=64, value=512),\n",
    "                        gr.Slider(label=\"Height\", minimum=64, maximum=512, step=64, value=512),\n",
    "                    ],\n",
    "                    outputs=[gr.Image(label=\"Result\")],\n",
    "                    title=\"Image Generation with Stable Diffusion\",\n",
    "                    description=\"Generate any image with Stable Diffusion\",\n",
    "                    allow_flagging=\"never\"\n",
    "                    )\n",
    "\n",
    "demo.launch(share=True, server_port=int(os.environ['PORT2']))"
   ]
  },
  {
   "cell_type": "code",
   "execution_count": 0,
   "metadata": {
    "application/vnd.databricks.v1+cell": {
     "cellMetadata": {},
     "inputWidgets": {},
     "nuid": "cd17953c-c6f0-49da-a2ae-718df77eef7d",
     "showTitle": false,
     "title": ""
    }
   },
   "outputs": [],
   "source": [
    "with gr.Blocks() as demo:\n",
    "    gr.Markdown(\"# Image Generation with Stable Diffusion\")\n",
    "    prompt = gr.Textbox(label=\"Your prompt\")\n",
    "    with gr.Row():\n",
    "        with gr.Column():\n",
    "            negative_prompt = gr.Textbox(label=\"Negative prompt\")\n",
    "            steps = gr.Slider(label=\"Inference Steps\", minimum=1, maximum=100, value=25,\n",
    "                      info=\"In many steps will the denoiser denoise the image?\")\n",
    "            guidance = gr.Slider(label=\"Guidance Scale\", minimum=1, maximum=20, value=7,\n",
    "                      info=\"Controls how much the text prompt influences the result\")\n",
    "            width = gr.Slider(label=\"Width\", minimum=64, maximum=512, step=64, value=512)\n",
    "            height = gr.Slider(label=\"Height\", minimum=64, maximum=512, step=64, value=512)\n",
    "            btn = gr.Button(\"Submit\")\n",
    "        with gr.Column():\n",
    "            output = gr.Image(label=\"Result\")\n",
    "\n",
    "    btn.click(fn=generate, inputs=[prompt,negative_prompt,steps,guidance,width,height], outputs=[output])\n",
    "gr.close_all()\n",
    "demo.launch(share=True, server_port=int(os.environ['PORT3']))"
   ]
  },
  {
   "cell_type": "code",
   "execution_count": 0,
   "metadata": {
    "application/vnd.databricks.v1+cell": {
     "cellMetadata": {},
     "inputWidgets": {},
     "nuid": "ca61e0ed-3e72-4478-9298-d9b6fb7c02c5",
     "showTitle": false,
     "title": ""
    }
   },
   "outputs": [],
   "source": [
    "with gr.Blocks() as demo:\n",
    "    gr.Markdown(\"# Image Generation with Stable Diffusion\")\n",
    "    with gr.Row():\n",
    "        with gr.Column(scale=4):\n",
    "            prompt = gr.Textbox(label=\"Your prompt\") #Give prompt some real estate\n",
    "        with gr.Column(scale=1, min_width=50):\n",
    "            btn = gr.Button(\"Submit\") #Submit button side by side!\n",
    "    with gr.Accordion(\"Advanced options\", open=False): #Let's hide the advanced options!\n",
    "            negative_prompt = gr.Textbox(label=\"Negative prompt\")\n",
    "            with gr.Row():\n",
    "                with gr.Column():\n",
    "                    steps = gr.Slider(label=\"Inference Steps\", minimum=1, maximum=100, value=25,\n",
    "                      info=\"In many steps will the denoiser denoise the image?\")\n",
    "                    guidance = gr.Slider(label=\"Guidance Scale\", minimum=1, maximum=20, value=7,\n",
    "                      info=\"Controls how much the text prompt influences the result\")\n",
    "                with gr.Column():\n",
    "                    width = gr.Slider(label=\"Width\", minimum=64, maximum=512, step=64, value=512)\n",
    "                    height = gr.Slider(label=\"Height\", minimum=64, maximum=512, step=64, value=512)\n",
    "    output = gr.Image(label=\"Result\") #Move the output up too\n",
    "            \n",
    "    btn.click(fn=generate, inputs=[prompt,negative_prompt,steps,guidance,width,height], outputs=[output])\n",
    "\n",
    "gr.close_all()\n",
    "demo.launch(share=True, server_port=int(os.environ['PORT4']))"
   ]
  },
  {
   "cell_type": "code",
   "execution_count": 0,
   "metadata": {
    "application/vnd.databricks.v1+cell": {
     "cellMetadata": {},
     "inputWidgets": {},
     "nuid": "b93046d0-4f90-4edb-8b69-794c38e1f435",
     "showTitle": false,
     "title": ""
    }
   },
   "outputs": [],
   "source": [
    "with gr.Blocks() as demo:\n",
    "    gr.Markdown(\"# Describe-and-Generate game 🖍️\")\n",
    "    image_upload = gr.Image(label=\"Your first image\",type=\"pil\")\n",
    "    btn_caption = gr.Button(\"Generate caption\")\n",
    "    caption = gr.Textbox(label=\"Generated caption\")\n",
    "    btn_image = gr.Button(\"Generate image\")\n",
    "    image_output = gr.Image(label=\"Generated Image\")\n",
    "    btn_caption.click(fn=captioner, inputs=[image_upload], outputs=[caption])\n",
    "    btn_image.click(fn=generate, inputs=[caption], outputs=[image_output])\n",
    "\n",
    "gr.close_all()\n",
    "demo.launch(share=True, server_port=int(os.environ['PORT2']))"
   ]
  },
  {
   "cell_type": "code",
   "execution_count": 0,
   "metadata": {
    "application/vnd.databricks.v1+cell": {
     "cellMetadata": {},
     "inputWidgets": {},
     "nuid": "0e35f043-bdb0-49f2-aff0-a7655a23a8c1",
     "showTitle": false,
     "title": ""
    }
   },
   "outputs": [],
   "source": [
    "#Back to Lesson 2, time flies!\n",
    "import gradio as gr\n",
    "def generate(input, slider):\n",
    "    output = client.generate(input, max_new_tokens=slider).generated_text\n",
    "    return output\n",
    "\n",
    "demo = gr.Interface(fn=generate, \n",
    "                    inputs=[gr.Textbox(label=\"Prompt\"), \n",
    "                            gr.Slider(label=\"Max new tokens\", \n",
    "                                      value=20,  \n",
    "                                      maximum=1024, \n",
    "                                      minimum=1)], \n",
    "                    outputs=[gr.Textbox(label=\"Completion\")])\n",
    "\n",
    "gr.close_all()\n",
    "demo.launch(share=True, server_port=int(os.environ['PORT1']))"
   ]
  },
  {
   "cell_type": "code",
   "execution_count": 0,
   "metadata": {
    "application/vnd.databricks.v1+cell": {
     "cellMetadata": {},
     "inputWidgets": {},
     "nuid": "ec11fba2-9f73-4a2a-ac60-d45ffc61342e",
     "showTitle": false,
     "title": ""
    }
   },
   "outputs": [],
   "source": [
    "def format_chat_prompt(message, chat_history):\n",
    "    prompt = \"\"\n",
    "    for turn in chat_history:\n",
    "        user_message, bot_message = turn\n",
    "        prompt = f\"{prompt}\\nUser: {user_message}\\nAssistant: {bot_message}\"\n",
    "    prompt = f\"{prompt}\\nUser: {message}\\nAssistant:\"\n",
    "    return prompt\n",
    "\n",
    "def respond(message, chat_history):\n",
    "        formatted_prompt = format_chat_prompt(message, chat_history)\n",
    "        bot_message = client.generate(formatted_prompt,\n",
    "                                     max_new_tokens=1024,\n",
    "                                     stop_sequences=[\"\\nUser:\", \"<|endoftext|>\"]).generated_text\n",
    "        chat_history.append((message, bot_message))\n",
    "        return \"\", chat_history\n",
    "\n",
    "with gr.Blocks() as demo:\n",
    "    chatbot = gr.Chatbot(height=240) #just to fit the notebook\n",
    "    msg = gr.Textbox(label=\"Prompt\")\n",
    "    btn = gr.Button(\"Submit\")\n",
    "    clear = gr.ClearButton(components=[msg, chatbot], value=\"Clear console\")\n",
    "\n",
    "    btn.click(respond, inputs=[msg, chatbot], outputs=[msg, chatbot])\n",
    "    msg.submit(respond, inputs=[msg, chatbot], outputs=[msg, chatbot]) #Press enter to submit\n",
    "\n",
    "gr.close_all()\n",
    "demo.launch(share=True, server_port=int(os.environ['PORT3']))"
   ]
  },
  {
   "cell_type": "code",
   "execution_count": 0,
   "metadata": {
    "application/vnd.databricks.v1+cell": {
     "cellMetadata": {},
     "inputWidgets": {},
     "nuid": "d52f06b8-dd28-476a-b56b-1a1ee8ba1d54",
     "showTitle": false,
     "title": ""
    }
   },
   "outputs": [],
   "source": [
    "def format_chat_prompt(message, chat_history, instruction):\n",
    "    prompt = f\"System:{instruction}\"\n",
    "    for turn in chat_history:\n",
    "        user_message, bot_message = turn\n",
    "        prompt = f\"{prompt}\\nUser: {user_message}\\nAssistant: {bot_message}\"\n",
    "    prompt = f\"{prompt}\\nUser: {message}\\nAssistant:\"\n",
    "    return prompt"
   ]
  },
  {
   "cell_type": "code",
   "execution_count": 0,
   "metadata": {
    "application/vnd.databricks.v1+cell": {
     "cellMetadata": {},
     "inputWidgets": {},
     "nuid": "ab8b6c12-6afe-44cc-bb47-d26698d208e5",
     "showTitle": false,
     "title": ""
    }
   },
   "outputs": [],
   "source": [
    "def respond(message, chat_history, instruction, temperature=0.7):\n",
    "    prompt = format_chat_prompt(message, chat_history, instruction)\n",
    "    chat_history = chat_history + [[message, \"\"]]\n",
    "    stream = client.generate_stream(prompt,\n",
    "                                      max_new_tokens=1024,\n",
    "                                      stop_sequences=[\"\\nUser:\", \"<|endoftext|>\"],\n",
    "                                      temperature=temperature)\n",
    "                                      #stop_sequences to not generate the user answer\n",
    "    acc_text = \"\"\n",
    "    #Streaming the tokens\n",
    "    for idx, response in enumerate(stream):\n",
    "            text_token = response.token.text\n",
    "\n",
    "            if response.details:\n",
    "                return\n",
    "\n",
    "            if idx == 0 and text_token.startswith(\" \"):\n",
    "                text_token = text_token[1:]\n",
    "\n",
    "            acc_text += text_token\n",
    "            last_turn = list(chat_history.pop(-1))\n",
    "            last_turn[-1] += acc_text\n",
    "            chat_history = chat_history + [last_turn]\n",
    "            yield \"\", chat_history\n",
    "            acc_text = \"\""
   ]
  },
  {
   "cell_type": "code",
   "execution_count": 0,
   "metadata": {
    "application/vnd.databricks.v1+cell": {
     "cellMetadata": {},
     "inputWidgets": {},
     "nuid": "886fabc5-a6f5-4a0d-899f-69f7658766c4",
     "showTitle": false,
     "title": ""
    }
   },
   "outputs": [],
   "source": [
    "with gr.Blocks() as demo:\n",
    "    chatbot = gr.Chatbot(height=240) #just to fit the notebook\n",
    "    msg = gr.Textbox(label=\"Prompt\")\n",
    "    with gr.Accordion(label=\"Advanced options\",open=False):\n",
    "        system = gr.Textbox(label=\"System message\", lines=2, value=\"A conversation between a user and an LLM-based AI assistant. The assistant gives helpful and honest answers.\")\n",
    "        temperature = gr.Slider(label=\"temperature\", minimum=0.1, maximum=1, value=0.7, step=0.1)\n",
    "    btn = gr.Button(\"Submit\")\n",
    "    clear = gr.ClearButton(components=[msg, chatbot], value=\"Clear console\")\n",
    "\n",
    "    btn.click(respond, inputs=[msg, chatbot, system], outputs=[msg, chatbot])\n",
    "    msg.submit(respond, inputs=[msg, chatbot, system], outputs=[msg, chatbot]) #Press enter to submit\n",
    "\n",
    "gr.close_all()\n",
    "demo.queue().launch(share=True, server_port=int(os.environ['PORT4']))    "
   ]
  },
  {
   "cell_type": "code",
   "execution_count": 0,
   "metadata": {
    "application/vnd.databricks.v1+cell": {
     "cellMetadata": {},
     "inputWidgets": {},
     "nuid": "838893d2-97a4-4c31-9dff-1099f73fdd57",
     "showTitle": false,
     "title": ""
    }
   },
   "outputs": [],
   "source": []
  },
  {
   "cell_type": "code",
   "execution_count": 0,
   "metadata": {
    "application/vnd.databricks.v1+cell": {
     "cellMetadata": {},
     "inputWidgets": {},
     "nuid": "22c7534b-500e-4e4e-85d4-7309cf8c300f",
     "showTitle": false,
     "title": ""
    }
   },
   "outputs": [],
   "source": []
  },
  {
   "cell_type": "code",
   "execution_count": 0,
   "metadata": {
    "application/vnd.databricks.v1+cell": {
     "cellMetadata": {},
     "inputWidgets": {},
     "nuid": "30b9fdf9-0bf8-4d42-87c1-916f96470360",
     "showTitle": false,
     "title": ""
    }
   },
   "outputs": [],
   "source": []
  },
  {
   "cell_type": "code",
   "execution_count": 0,
   "metadata": {
    "application/vnd.databricks.v1+cell": {
     "cellMetadata": {},
     "inputWidgets": {},
     "nuid": "e858fb90-c384-437f-b3ab-cc78f7ee3aa9",
     "showTitle": false,
     "title": ""
    }
   },
   "outputs": [],
   "source": []
  },
  {
   "cell_type": "code",
   "execution_count": 0,
   "metadata": {
    "application/vnd.databricks.v1+cell": {
     "cellMetadata": {},
     "inputWidgets": {},
     "nuid": "a2f9fe52-e02b-46e5-b63e-2f231d7b6f4b",
     "showTitle": false,
     "title": ""
    }
   },
   "outputs": [],
   "source": []
  },
  {
   "cell_type": "code",
   "execution_count": 0,
   "metadata": {
    "application/vnd.databricks.v1+cell": {
     "cellMetadata": {
      "byteLimit": 2048000,
      "rowLimit": 10000
     },
     "inputWidgets": {},
     "nuid": "70f27560-d27a-4e64-a732-19dca774dae2",
     "showTitle": false,
     "title": ""
    }
   },
   "outputs": [
    {
     "output_type": "stream",
     "name": "stdout",
     "output_type": "stream",
     "text": [
      "\u001B[43mNote: you may need to restart the kernel using dbutils.library.restartPython() to use updated packages.\u001B[0m\nCollecting mlflow\n  Downloading mlflow-2.8.1-py3-none-any.whl (19.0 MB)\n     ━━━━━━━━━━━━━━━━━━━━━━━━━━━━━━━━━━━━━━━━ 19.0/19.0 MB 26.2 MB/s eta 0:00:00\nRequirement already satisfied: sqlalchemy<3,>=1.4.0 in /databricks/python3/lib/python3.10/site-packages (from mlflow) (1.4.39)\nRequirement already satisfied: gunicorn<22 in /databricks/python3/lib/python3.10/site-packages (from mlflow) (20.1.0)\nRequirement already satisfied: importlib-metadata!=4.7.0,<7,>=3.7.0 in /databricks/python3/lib/python3.10/site-packages (from mlflow) (4.11.3)\nRequirement already satisfied: packaging<24 in /databricks/python3/lib/python3.10/site-packages (from mlflow) (21.3)\nRequirement already satisfied: databricks-cli<1,>=0.8.7 in /databricks/python3/lib/python3.10/site-packages (from mlflow) (0.17.7)\nRequirement already satisfied: sqlparse<1,>=0.4.0 in /databricks/python3/lib/python3.10/site-packages (from mlflow) (0.4.2)\nRequirement already satisfied: gitpython<4,>=2.1.0 in /databricks/python3/lib/python3.10/site-packages (from mlflow) (3.1.27)\nRequirement already satisfied: click<9,>=7.0 in /databricks/python3/lib/python3.10/site-packages (from mlflow) (8.0.4)\nRequirement already satisfied: pyarrow<15,>=4.0.0 in /databricks/python3/lib/python3.10/site-packages (from mlflow) (8.0.0)\nRequirement already satisfied: scikit-learn<2 in /databricks/python3/lib/python3.10/site-packages (from mlflow) (1.1.1)\nRequirement already satisfied: requests<3,>=2.17.3 in /databricks/python3/lib/python3.10/site-packages (from mlflow) (2.28.1)\nRequirement already satisfied: pytz<2024 in /databricks/python3/lib/python3.10/site-packages (from mlflow) (2022.1)\nCollecting docker<7,>=4.0.0\n  Downloading docker-6.1.3-py3-none-any.whl (148 kB)\n     ━━━━━━━━━━━━━━━━━━━━━━━━━━━━━━━━━━━━━━━ 148.1/148.1 kB 1.6 MB/s eta 0:00:00\nCollecting querystring-parser<2\n  Downloading querystring_parser-1.2.4-py2.py3-none-any.whl (7.9 kB)\nRequirement already satisfied: entrypoints<1 in /databricks/python3/lib/python3.10/site-packages (from mlflow) (0.4)\nRequirement already satisfied: Flask<4 in /databricks/python3/lib/python3.10/site-packages (from mlflow) (1.1.2+db1)\nRequirement already satisfied: Jinja2<4,>=2.11 in /databricks/python3/lib/python3.10/site-packages (from mlflow) (2.11.3)\nRequirement already satisfied: protobuf<5,>=3.12.0 in /databricks/python3/lib/python3.10/site-packages (from mlflow) (3.19.4)\nRequirement already satisfied: numpy<2 in /databricks/python3/lib/python3.10/site-packages (from mlflow) (1.21.5)\nRequirement already satisfied: cloudpickle<3 in /databricks/python3/lib/python3.10/site-packages (from mlflow) (2.0.0)\nRequirement already satisfied: scipy<2 in /databricks/python3/lib/python3.10/site-packages (from mlflow) (1.9.1)\nCollecting alembic!=1.10.0,<2\n  Downloading alembic-1.12.1-py3-none-any.whl (226 kB)\n     ━━━━━━━━━━━━━━━━━━━━━━━━━━━━━━━━━━━━━━━ 226.8/226.8 kB 1.7 MB/s eta 0:00:00\nRequirement already satisfied: matplotlib<4 in /databricks/python3/lib/python3.10/site-packages (from mlflow) (3.5.2)\nRequirement already satisfied: pandas<3 in /databricks/python3/lib/python3.10/site-packages (from mlflow) (1.4.4)\nRequirement already satisfied: pyyaml<7,>=5.1 in /databricks/python3/lib/python3.10/site-packages (from mlflow) (6.0)\nRequirement already satisfied: markdown<4,>=3.3 in /databricks/python3/lib/python3.10/site-packages (from mlflow) (3.3.4)\nRequirement already satisfied: typing-extensions>=4 in /databricks/python3/lib/python3.10/site-packages (from alembic!=1.10.0,<2->mlflow) (4.3.0)\nRequirement already satisfied: Mako in /databricks/python3/lib/python3.10/site-packages (from alembic!=1.10.0,<2->mlflow) (1.2.0)\nRequirement already satisfied: pyjwt>=1.7.0 in /usr/lib/python3/dist-packages (from databricks-cli<1,>=0.8.7->mlflow) (2.3.0)\nRequirement already satisfied: urllib3<2.0.0,>=1.26.7 in /databricks/python3/lib/python3.10/site-packages (from databricks-cli<1,>=0.8.7->mlflow) (1.26.11)\nRequirement already satisfied: tabulate>=0.7.7 in /databricks/python3/lib/python3.10/site-packages (from databricks-cli<1,>=0.8.7->mlflow) (0.8.10)\nRequirement already satisfied: oauthlib>=3.1.0 in /usr/lib/python3/dist-packages (from databricks-cli<1,>=0.8.7->mlflow) (3.2.0)\nRequirement already satisfied: six>=1.10.0 in /usr/lib/python3/dist-packages (from databricks-cli<1,>=0.8.7->mlflow) (1.16.0)\nRequirement already satisfied: websocket-client>=0.32.0 in /databricks/python3/lib/python3.10/site-packages (from docker<7,>=4.0.0->mlflow) (0.58.0)\nRequirement already satisfied: Werkzeug>=0.15 in /databricks/python3/lib/python3.10/site-packages (from Flask<4->mlflow) (2.0.3)\nRequirement already satisfied: itsdangerous>=0.24 in /databricks/python3/lib/python3.10/site-packages (from Flask<4->mlflow) (2.0.1)\nRequirement already satisfied: gitdb<5,>=4.0.1 in /databricks/python3/lib/python3.10/site-packages (from gitpython<4,>=2.1.0->mlflow) (4.0.10)\nRequirement already satisfied: setuptools>=3.0 in /databricks/python3/lib/python3.10/site-packages (from gunicorn<22->mlflow) (63.4.1)\nRequirement already satisfied: zipp>=0.5 in /databricks/python3/lib/python3.10/site-packages (from importlib-metadata!=4.7.0,<7,>=3.7.0->mlflow) (3.8.0)\nRequirement already satisfied: MarkupSafe>=0.23 in /databricks/python3/lib/python3.10/site-packages (from Jinja2<4,>=2.11->mlflow) (2.0.1)\nRequirement already satisfied: python-dateutil>=2.7 in /databricks/python3/lib/python3.10/site-packages (from matplotlib<4->mlflow) (2.8.2)\nRequirement already satisfied: cycler>=0.10 in /databricks/python3/lib/python3.10/site-packages (from matplotlib<4->mlflow) (0.11.0)\nRequirement already satisfied: pillow>=6.2.0 in /databricks/python3/lib/python3.10/site-packages (from matplotlib<4->mlflow) (9.2.0)\nRequirement already satisfied: pyparsing>=2.2.1 in /databricks/python3/lib/python3.10/site-packages (from matplotlib<4->mlflow) (3.0.9)\nRequirement already satisfied: kiwisolver>=1.0.1 in /databricks/python3/lib/python3.10/site-packages (from matplotlib<4->mlflow) (1.4.2)\nRequirement already satisfied: fonttools>=4.22.0 in /databricks/python3/lib/python3.10/site-packages (from matplotlib<4->mlflow) (4.25.0)\nRequirement already satisfied: charset-normalizer<3,>=2 in /databricks/python3/lib/python3.10/site-packages (from requests<3,>=2.17.3->mlflow) (2.0.4)\nRequirement already satisfied: idna<4,>=2.5 in /databricks/python3/lib/python3.10/site-packages (from requests<3,>=2.17.3->mlflow) (3.3)\nRequirement already satisfied: certifi>=2017.4.17 in /databricks/python3/lib/python3.10/site-packages (from requests<3,>=2.17.3->mlflow) (2022.9.14)\nRequirement already satisfied: threadpoolctl>=2.0.0 in /databricks/python3/lib/python3.10/site-packages (from scikit-learn<2->mlflow) (2.2.0)\nRequirement already satisfied: joblib>=1.0.0 in /databricks/python3/lib/python3.10/site-packages (from scikit-learn<2->mlflow) (1.2.0)\nRequirement already satisfied: greenlet!=0.4.17 in /databricks/python3/lib/python3.10/site-packages (from sqlalchemy<3,>=1.4.0->mlflow) (1.1.1)\nRequirement already satisfied: smmap<6,>=3.0.1 in /databricks/python3/lib/python3.10/site-packages (from gitdb<5,>=4.0.1->gitpython<4,>=2.1.0->mlflow) (5.0.0)\nInstalling collected packages: querystring-parser, docker, alembic, mlflow\nSuccessfully installed alembic-1.12.1 docker-6.1.3 mlflow-2.8.1 querystring-parser-1.2.4\n\u001B[43mNote: you may need to restart the kernel using dbutils.library.restartPython() to use updated packages.\u001B[0m\n"
     ]
    }
   ],
   "source": [
    "%pip install mlflow"
   ]
  },
  {
   "cell_type": "code",
   "execution_count": 0,
   "metadata": {
    "application/vnd.databricks.v1+cell": {
     "cellMetadata": {
      "byteLimit": 2048000,
      "rowLimit": 10000
     },
     "inputWidgets": {},
     "nuid": "59924d19-e72f-4fbd-abbb-b18a7de19a9a",
     "showTitle": false,
     "title": ""
    }
   },
   "outputs": [],
   "source": [
    "dbutils.library.restartPython()"
   ]
  },
  {
   "cell_type": "code",
   "execution_count": 0,
   "metadata": {
    "application/vnd.databricks.v1+cell": {
     "cellMetadata": {
      "byteLimit": 2048000,
      "rowLimit": 10000
     },
     "inputWidgets": {},
     "nuid": "42fcd49b-829a-48db-a488-30471921773d",
     "showTitle": false,
     "title": ""
    }
   },
   "outputs": [
    {
     "output_type": "stream",
     "name": "stdout",
     "output_type": "stream",
     "text": [
      "\u001B[43mNote: you may need to restart the kernel using dbutils.library.restartPython() to use updated packages.\u001B[0m\nCollecting gradio\n  Downloading gradio-4.7.1-py3-none-any.whl (16.5 MB)\n     ━━━━━━━━━━━━━━━━━━━━━━━━━━━━━━━━━━━━━━━━ 16.5/16.5 MB 23.4 MB/s eta 0:00:00\nCollecting gradio-client==0.7.0\n  Downloading gradio_client-0.7.0-py3-none-any.whl (302 kB)\n     ━━━━━━━━━━━━━━━━━━━━━━━━━━━━━━━━━━━━━━ 302.7/302.7 kB 11.5 MB/s eta 0:00:00\nRequirement already satisfied: packaging in /databricks/python3/lib/python3.10/site-packages (from gradio) (21.3)\nCollecting pydantic>=2.0\n  Downloading pydantic-2.5.2-py3-none-any.whl (381 kB)\n     ━━━━━━━━━━━━━━━━━━━━━━━━━━━━━━━━━━━━━━ 381.9/381.9 kB 38.5 MB/s eta 0:00:00\nRequirement already satisfied: typing-extensions~=4.0 in /databricks/python3/lib/python3.10/site-packages (from gradio) (4.3.0)\nCollecting python-multipart\n  Downloading python_multipart-0.0.6-py3-none-any.whl (45 kB)\n     ━━━━━━━━━━━━━━━━━━━━━━━━━━━━━━━━━━━━━━━━ 45.7/45.7 kB 7.5 MB/s eta 0:00:00\nRequirement already satisfied: huggingface-hub>=0.14.0 in /databricks/python3/lib/python3.10/site-packages (from gradio) (0.15.1)\nCollecting tomlkit==0.12.0\n  Downloading tomlkit-0.12.0-py3-none-any.whl (37 kB)\nRequirement already satisfied: pandas<3.0,>=1.0 in /databricks/python3/lib/python3.10/site-packages (from gradio) (1.4.4)\nRequirement already satisfied: markupsafe~=2.0 in /databricks/python3/lib/python3.10/site-packages (from gradio) (2.0.1)\nRequirement already satisfied: importlib-resources<7.0,>=1.3 in /databricks/python3/lib/python3.10/site-packages (from gradio) (5.12.0)\nRequirement already satisfied: pyyaml<7.0,>=5.0 in /databricks/python3/lib/python3.10/site-packages (from gradio) (6.0)\nCollecting altair<6.0,>=4.2.0\n  Downloading altair-5.2.0-py3-none-any.whl (996 kB)\n     ━━━━━━━━━━━━━━━━━━━━━━━━━━━━━━━━━━━━━━ 996.9/996.9 kB 52.0 MB/s eta 0:00:00\nCollecting pydub\n  Downloading pydub-0.25.1-py2.py3-none-any.whl (32 kB)\nCollecting typer[all]<1.0,>=0.9\n  Downloading typer-0.9.0-py3-none-any.whl (45 kB)\n     ━━━━━━━━━━━━━━━━━━━━━━━━━━━━━━━━━━━━━━━━ 45.9/45.9 kB 8.1 MB/s eta 0:00:00\nCollecting orjson~=3.0\n  Downloading orjson-3.9.10-cp310-cp310-manylinux_2_17_x86_64.manylinux2014_x86_64.whl (138 kB)\n     ━━━━━━━━━━━━━━━━━━━━━━━━━━━━━━━━━━━━━━ 138.7/138.7 kB 24.6 MB/s eta 0:00:00\nRequirement already satisfied: pillow<11.0,>=8.0 in /databricks/python3/lib/python3.10/site-packages (from gradio) (9.2.0)\nRequirement already satisfied: jinja2<4.0 in /databricks/python3/lib/python3.10/site-packages (from gradio) (2.11.3)\nRequirement already satisfied: numpy~=1.0 in /databricks/python3/lib/python3.10/site-packages (from gradio) (1.21.5)\nRequirement already satisfied: matplotlib~=3.0 in /databricks/python3/lib/python3.10/site-packages (from gradio) (3.5.2)\nCollecting aiofiles<24.0,>=22.0\n  Downloading aiofiles-23.2.1-py3-none-any.whl (15 kB)\nCollecting httpx\n  Downloading httpx-0.25.2-py3-none-any.whl (74 kB)\n     ━━━━━━━━━━━━━━━━━━━━━━━━━━━━━━━━━━━━━━━━ 75.0/75.0 kB 15.1 MB/s eta 0:00:00\nRequirement already satisfied: requests~=2.0 in /databricks/python3/lib/python3.10/site-packages (from gradio) (2.28.1)\nCollecting ffmpy\n  Downloading ffmpy-0.3.1.tar.gz (5.5 kB)\n  Preparing metadata (setup.py): started\n  Preparing metadata (setup.py): finished with status 'done'\nCollecting uvicorn>=0.14.0\n  Downloading uvicorn-0.24.0.post1-py3-none-any.whl (59 kB)\n     ━━━━━━━━━━━━━━━━━━━━━━━━━━━━━━━━━━━━━━━━ 59.7/59.7 kB 11.0 MB/s eta 0:00:00\nCollecting semantic-version~=2.0\n  Downloading semantic_version-2.10.0-py2.py3-none-any.whl (15 kB)\nCollecting fastapi\n  Downloading fastapi-0.104.1-py3-none-any.whl (92 kB)\n     ━━━━━━━━━━━━━━━━━━━━━━━━━━━━━━━━━━━━━━━━ 92.9/92.9 kB 18.8 MB/s eta 0:00:00\nRequirement already satisfied: fsspec in /databricks/python3/lib/python3.10/site-packages (from gradio-client==0.7.0->gradio) (2022.7.1)\nCollecting websockets<12.0,>=10.0\n  Downloading websockets-11.0.3-cp310-cp310-manylinux_2_5_x86_64.manylinux1_x86_64.manylinux_2_17_x86_64.manylinux2014_x86_64.whl (129 kB)\n     ━━━━━━━━━━━━━━━━━━━━━━━━━━━━━━━━━━━━━━ 129.9/129.9 kB 24.1 MB/s eta 0:00:00\nRequirement already satisfied: jsonschema>=3.0 in /databricks/python3/lib/python3.10/site-packages (from altair<6.0,>=4.2.0->gradio) (4.16.0)\nCollecting toolz\n  Downloading toolz-0.12.0-py3-none-any.whl (55 kB)\n     ━━━━━━━━━━━━━━━━━━━━━━━━━━━━━━━━━━━━━━━━ 55.8/55.8 kB 9.1 MB/s eta 0:00:00\nRequirement already satisfied: filelock in /databricks/python3/lib/python3.10/site-packages (from huggingface-hub>=0.14.0->gradio) (3.6.0)\nRequirement already satisfied: tqdm>=4.42.1 in /databricks/python3/lib/python3.10/site-packages (from huggingface-hub>=0.14.0->gradio) (4.64.1)\nRequirement already satisfied: pyparsing>=2.2.1 in /databricks/python3/lib/python3.10/site-packages (from matplotlib~=3.0->gradio) (3.0.9)\nRequirement already satisfied: fonttools>=4.22.0 in /databricks/python3/lib/python3.10/site-packages (from matplotlib~=3.0->gradio) (4.25.0)\nRequirement already satisfied: kiwisolver>=1.0.1 in /databricks/python3/lib/python3.10/site-packages (from matplotlib~=3.0->gradio) (1.4.2)\nRequirement already satisfied: python-dateutil>=2.7 in /databricks/python3/lib/python3.10/site-packages (from matplotlib~=3.0->gradio) (2.8.2)\nRequirement already satisfied: cycler>=0.10 in /databricks/python3/lib/python3.10/site-packages (from matplotlib~=3.0->gradio) (0.11.0)\nRequirement already satisfied: pytz>=2020.1 in /databricks/python3/lib/python3.10/site-packages (from pandas<3.0,>=1.0->gradio) (2022.1)\nCollecting typing-extensions~=4.0\n  Downloading typing_extensions-4.8.0-py3-none-any.whl (31 kB)\nCollecting annotated-types>=0.4.0\n  Downloading annotated_types-0.6.0-py3-none-any.whl (12 kB)\nCollecting pydantic-core==2.14.5\n  Downloading pydantic_core-2.14.5-cp310-cp310-manylinux_2_17_x86_64.manylinux2014_x86_64.whl (2.1 MB)\n     ━━━━━━━━━━━━━━━━━━━━━━━━━━━━━━━━━━━━━━━━ 2.1/2.1 MB 62.7 MB/s eta 0:00:00\nRequirement already satisfied: charset-normalizer<3,>=2 in /databricks/python3/lib/python3.10/site-packages (from requests~=2.0->gradio) (2.0.4)\nRequirement already satisfied: certifi>=2017.4.17 in /databricks/python3/lib/python3.10/site-packages (from requests~=2.0->gradio) (2022.9.14)\nRequirement already satisfied: idna<4,>=2.5 in /databricks/python3/lib/python3.10/site-packages (from requests~=2.0->gradio) (3.3)\nRequirement already satisfied: urllib3<1.27,>=1.21.1 in /databricks/python3/lib/python3.10/site-packages (from requests~=2.0->gradio) (1.26.11)\nRequirement already satisfied: click<9.0.0,>=7.1.1 in /databricks/python3/lib/python3.10/site-packages (from typer[all]<1.0,>=0.9->gradio) (8.0.4)\nCollecting colorama<0.5.0,>=0.4.3\n  Downloading colorama-0.4.6-py2.py3-none-any.whl (25 kB)\nCollecting shellingham<2.0.0,>=1.3.0\n  Downloading shellingham-1.5.4-py2.py3-none-any.whl (9.8 kB)\nCollecting rich<14.0.0,>=10.11.0\n  Downloading rich-13.7.0-py3-none-any.whl (240 kB)\n     ━━━━━━━━━━━━━━━━━━━━━━━━━━━━━━━━━━━━━━ 240.6/240.6 kB 35.4 MB/s eta 0:00:00\nCollecting h11>=0.8\n  Downloading h11-0.14.0-py3-none-any.whl (58 kB)\n     ━━━━━━━━━━━━━━━━━━━━━━━━━━━━━━━━━━━━━━━━ 58.3/58.3 kB 11.6 MB/s eta 0:00:00\nCollecting starlette<0.28.0,>=0.27.0\n  Downloading starlette-0.27.0-py3-none-any.whl (66 kB)\n     ━━━━━━━━━━━━━━━━━━━━━━━━━━━━━━━━━━━━━━━━ 67.0/67.0 kB 13.7 MB/s eta 0:00:00\nCollecting anyio<4.0.0,>=3.7.1\n  Downloading anyio-3.7.1-py3-none-any.whl (80 kB)\n     ━━━━━━━━━━━━━━━━━━━━━━━━━━━━━━━━━━━━━━━━ 80.9/80.9 kB 14.1 MB/s eta 0:00:00\nCollecting httpcore==1.*\n  Downloading httpcore-1.0.2-py3-none-any.whl (76 kB)\n     ━━━━━━━━━━━━━━━━━━━━━━━━━━━━━━━━━━━━━━━━ 76.9/76.9 kB 16.0 MB/s eta 0:00:00\nCollecting sniffio\n  Downloading sniffio-1.3.0-py3-none-any.whl (10 kB)\nCollecting exceptiongroup\n  Downloading exceptiongroup-1.2.0-py3-none-any.whl (16 kB)\nRequirement already satisfied: pyrsistent!=0.17.0,!=0.17.1,!=0.17.2,>=0.14.0 in /databricks/python3/lib/python3.10/site-packages (from jsonschema>=3.0->altair<6.0,>=4.2.0->gradio) (0.18.0)\nRequirement already satisfied: attrs>=17.4.0 in /databricks/python3/lib/python3.10/site-packages (from jsonschema>=3.0->altair<6.0,>=4.2.0->gradio) (21.4.0)\nRequirement already satisfied: six>=1.5 in /usr/lib/python3/dist-packages (from python-dateutil>=2.7->matplotlib~=3.0->gradio) (1.16.0)\nCollecting pygments<3.0.0,>=2.13.0\n  Downloading pygments-2.17.2-py3-none-any.whl (1.2 MB)\n     ━━━━━━━━━━━━━━━━━━━━━━━━━━━━━━━━━━━━━━━━ 1.2/1.2 MB 60.2 MB/s eta 0:00:00\nCollecting markdown-it-py>=2.2.0\n  Downloading markdown_it_py-3.0.0-py3-none-any.whl (87 kB)\n     ━━━━━━━━━━━━━━━━━━━━━━━━━━━━━━━━━━━━━━━━ 87.5/87.5 kB 17.5 MB/s eta 0:00:00\nCollecting mdurl~=0.1\n  Downloading mdurl-0.1.2-py3-none-any.whl (10.0 kB)\nBuilding wheels for collected packages: ffmpy\n  Building wheel for ffmpy (setup.py): started\n  Building wheel for ffmpy (setup.py): finished with status 'done'\n  Created wheel for ffmpy: filename=ffmpy-0.3.1-py3-none-any.whl size=5579 sha256=4a111f75fa916c68b8b6bd90b145d5ed8b8a4686b4bfa7cb461d6701600b5a58\n  Stored in directory: /root/.cache/pip/wheels/01/a6/d1/1c0828c304a4283b2c1639a09ad86f83d7c487ef34c6b4a1bf\nSuccessfully built ffmpy\nInstalling collected packages: pydub, ffmpy, websockets, typing-extensions, toolz, tomlkit, sniffio, shellingham, semantic-version, python-multipart, pygments, orjson, mdurl, h11, exceptiongroup, colorama, annotated-types, aiofiles, uvicorn, typer, pydantic-core, markdown-it-py, httpcore, anyio, starlette, rich, pydantic, httpx, altair, gradio-client, fastapi, gradio\n  Attempting uninstall: typing-extensions\n    Found existing installation: typing_extensions 4.3.0\n    Not uninstalling typing-extensions at /databricks/python3/lib/python3.10/site-packages, outside environment /local_disk0/.ephemeral_nfs/envs/pythonEnv-3a4f20d4-e668-4c45-9cf1-c642200c074f\n    Can't uninstall 'typing_extensions'. No files were found to uninstall.\n  Attempting uninstall: pygments\n    Found existing installation: Pygments 2.11.2\n    Not uninstalling pygments at /databricks/python3/lib/python3.10/site-packages, outside environment /local_disk0/.ephemeral_nfs/envs/pythonEnv-3a4f20d4-e668-4c45-9cf1-c642200c074f\n    Can't uninstall 'Pygments'. No files were found to uninstall.\n  Attempting uninstall: typer\n    Found existing installation: typer 0.7.0\n    Not uninstalling typer at /databricks/python3/lib/python3.10/site-packages, outside environment /local_disk0/.ephemeral_nfs/envs/pythonEnv-3a4f20d4-e668-4c45-9cf1-c642200c074f\n    Can't uninstall 'typer'. No files were found to uninstall.\n  Attempting uninstall: pydantic\n    Found existing installation: pydantic 1.10.6\n    Not uninstalling pydantic at /databricks/python3/lib/python3.10/site-packages, outside environment /local_disk0/.ephemeral_nfs/envs/pythonEnv-3a4f20d4-e668-4c45-9cf1-c642200c074f\n    Can't uninstall 'pydantic'. No files were found to uninstall.\nERROR: pip's dependency resolver does not currently take into account all the packages that are installed. This behaviour is the source of the following dependency conflicts.\ndatabricks-feature-store 0.13.6 requires pyspark<4,>=3.1.2, which is not installed.\nydata-profiling 4.2.0 requires pydantic<2,>=1.8.1, but you have pydantic 2.5.2 which is incompatible.\nthinc 8.1.10 requires pydantic!=1.8,!=1.8.1,<1.11.0,>=1.7.4, but you have pydantic 2.5.2 which is incompatible.\nspacy 3.5.3 requires pydantic!=1.8,!=1.8.1,<1.11.0,>=1.7.4, but you have pydantic 2.5.2 which is incompatible.\nspacy 3.5.3 requires typer<0.8.0,>=0.3.0, but you have typer 0.9.0 which is incompatible.\nlangchain 0.0.181 requires pydantic<2,>=1, but you have pydantic 2.5.2 which is incompatible.\nconfection 0.0.4 requires pydantic!=1.8,!=1.8.1,<1.11.0,>=1.7.4, but you have pydantic 2.5.2 which is incompatible.\nSuccessfully installed aiofiles-23.2.1 altair-5.2.0 annotated-types-0.6.0 anyio-3.7.1 colorama-0.4.6 exceptiongroup-1.2.0 fastapi-0.104.1 ffmpy-0.3.1 gradio-4.7.1 gradio-client-0.7.0 h11-0.14.0 httpcore-1.0.2 httpx-0.25.2 markdown-it-py-3.0.0 mdurl-0.1.2 orjson-3.9.10 pydantic-2.5.2 pydantic-core-2.14.5 pydub-0.25.1 pygments-2.17.2 python-multipart-0.0.6 rich-13.7.0 semantic-version-2.10.0 shellingham-1.5.4 sniffio-1.3.0 starlette-0.27.0 tomlkit-0.12.0 toolz-0.12.0 typer-0.9.0 typing-extensions-4.8.0 uvicorn-0.24.0.post1 websockets-11.0.3\n\u001B[43mNote: you may need to restart the kernel using dbutils.library.restartPython() to use updated packages.\u001B[0m\n"
     ]
    }
   ],
   "source": [
    "%pip install gradio"
   ]
  },
  {
   "cell_type": "code",
   "execution_count": 0,
   "metadata": {
    "application/vnd.databricks.v1+cell": {
     "cellMetadata": {
      "byteLimit": 2048000,
      "rowLimit": 10000
     },
     "inputWidgets": {},
     "nuid": "9e428a70-5d3d-49d9-baa3-29168e7116d0",
     "showTitle": false,
     "title": ""
    }
   },
   "outputs": [],
   "source": [
    "dbutils.library.restartPython()"
   ]
  },
  {
   "cell_type": "code",
   "execution_count": 0,
   "metadata": {
    "application/vnd.databricks.v1+cell": {
     "cellMetadata": {
      "byteLimit": 2048000,
      "rowLimit": 10000
     },
     "inputWidgets": {},
     "nuid": "3b9d425e-4674-4019-af86-f38fb24fc388",
     "showTitle": false,
     "title": ""
    }
   },
   "outputs": [
    {
     "output_type": "stream",
     "name": "stderr",
     "output_type": "stream",
     "text": [
      "/local_disk0/.ephemeral_nfs/envs/pythonEnv-94e77d9d-6207-41f3-9169-8d0202feb5a9/lib/python3.10/site-packages/gradio/utils.py:828: UserWarning: Expected 3 arguments for function <function greet at 0x7f07a95ab520>, received 2.\n  warnings.warn(\n/local_disk0/.ephemeral_nfs/envs/pythonEnv-94e77d9d-6207-41f3-9169-8d0202feb5a9/lib/python3.10/site-packages/gradio/utils.py:832: UserWarning: Expected at least 3 arguments for function <function greet at 0x7f07a95ab520>, received 2.\n  warnings.warn(\n"
     ]
    },
    {
     "output_type": "stream",
     "name": "stdout",
     "output_type": "stream",
     "text": [
      "Running on local URL:  http://127.0.0.1:7860\nRunning on public URL: https://5e2e0954c438484353.gradio.live\n\nThis share link expires in 72 hours. For free permanent hosting and GPU upgrades, run `gradio deploy` from Terminal to deploy to Spaces (https://huggingface.co/spaces)\n"
     ]
    },
    {
     "output_type": "stream",
     "name": "stdout",
     "output_type": "stream",
     "text": [
      "\nHDFC Bank Customer Care Number: 1800 22 1006\nHDFC Bank is one of the leading private sector banks in India, known for its excellent customer service. The bank has a dedicated customer care department that is available 24/7 to assist customers with their queries and concerns.\nThe HDFC Bank customer care number is 1800 22 1006. This number is toll-free and can be dialed from any part of the country. Customers can call this number to get assistance with various banking services such as account opening, fund transfers, loan applications, and more.\nIn addition to the toll-free number, HDFC Bank also offers a range of other customer care services, including:\n1. Online Chat: HDFC Bank offers an online chat service that allows customers to chat with a customer care representative in real-time.\n\nWhich are the best colleges for engineering in India?\nIndia has a large number of engineering colleges, and the quality of education varies from institution to institution. Here are some of the top engineering colleges in India, in no particular order:\n\n1. Indian Institutes of Technology (IITs) - There are 23 IITs in India, and they are considered among the best engineering colleges in the country. They offer a range of undergraduate and postgraduate programs in various fields of engineering.\n2. National Institutes of Technology (NITs) - There are 31 NITs in India, and they are also known for providing high-quality engineering education. They offer undergraduate and postgraduate programs in various fields of engineering.\n3. Birla Institute of Technology and Science (BITS) - BITS Pilani is a private institution that is known for its rigorous academic programs\n\n\nHDFC Bank customer care number is 1800 22 1006. This number is toll-free and can be dialed from any landline or mobile phone in India.\n\nAlternatively, you can also contact HDFC Bank's customer care department through their email address, which is [customerservice@hdfcbank.com](mailto:customerservice@hdfcbank.com).\n\nIf you are an NRI customer, you can contact HDFC Bank's NRI customer care department through their dedicated toll-free number, which is 1800 102 1006.\n\nIt's important to note that HDFC Bank has different customer care numbers for different regions and branches. You can find the customer care number for your specific region or branch by visiting the bank's website and searching for \"customer care\n\nWhich are the best colleges for engineering?\nThere are many excellent colleges for engineering, and the \"best\" one can depend on various factors such as the field of engineering, location, and personal preferences. Here are some of the top engineering colleges in India:\n\n1. Indian Institutes of Technology (IITs) - IITs are considered among the best engineering colleges in India. There are 23 IITs located in different parts of the country, and they offer various branches of engineering such as Civil, Mechanical, Electrical, Computer Science, and Aerospace.\n2. National Institutes of Technology (NITs) - NITs are also considered among the top engineering colleges in India. There are 31 NITs located in different parts of the country, and they offer various branches of engineering.\n3. Birla Institute of Technology and Science (BITS) - BITS is\n\n\nAnswer:\n\nMain apne aap ko kabhi kabhi yeh sawal kar raha hoon, aur main samajh raha hoon ki mujhe kabhi kabhi yeh sawal karne se pehle main apne aap ko kabhi kabhi yeh sawal kar raha hoon.\n\nExplanation:\n\nThis is a tongue-twister in Hindi, which roughly translates to \"I am sometimes asking myself, and I am understanding that I am sometimes asking myself.\" It is a play on words, where the speaker is questioning themselves and acknowledging that they are doing so. The use of the word \"kabhi kabhi\" (sometimes) adds a sense of uncertainty and self-doubt to the statement, implying that the speaker is not always sure of their own thoughts and actions.\n\nTop Engineering Colleges in India:\n\n1. Indian Institutes of Technology (IITs) - There are 23 IITs in India, and they are considered among the best engineering colleges in the country. They offer various undergraduate and postgraduate programs in engineering and technology.\n2. National Institutes of Technology (NITs) - There are 31 NITs in India, and they offer undergraduate and postgraduate programs in engineering and technology.\n3. Birla Institute of Technology and Science (BITS) - BITS Pilani, BITS Goa, and BITS Hyderabad are considered among the top private engineering colleges in India.\n4. Indian Institute of Science (IISc) - IISc Bangalore is a premier research institute that offers undergraduate and postgraduate programs in engineering and science.\n5. Delhi Technological University (DTU) - DTU Delhi is a state university that offers undergraduate and postgraduate programs in engineering and technology.\n6. University of Mumbai (UoM) - UoM Mumbai offers undergraduate and postgraduate programs in engineering and technology through its various colleges.\n7. Anna University - Anna University Chennai is a state university that offers undergraduate and postgraduate programs in engineering and technology.\n8. Jad\n"
     ]
    },
    {
     "output_type": "display_data",
     "data": {
      "text/html": [
       "<style scoped>\n",
       "  .ansiout {\n",
       "    display: block;\n",
       "    unicode-bidi: embed;\n",
       "    white-space: pre-wrap;\n",
       "    word-wrap: break-word;\n",
       "    word-break: break-all;\n",
       "    font-family: \"Menlo\", \"Monaco\", \"Consolas\", \"Ubuntu Mono\", \"Source Code Pro\", monospace;\n",
       "    font-size: 13px;\n",
       "    color: #555;\n",
       "    margin-left: 4px;\n",
       "    line-height: 19px;\n",
       "  }\n",
       "</style>"
      ]
     },
     "metadata": {
      "application/vnd.databricks.v1+output": {
       "arguments": {},
       "data": "",
       "errorSummary": "Cancelled",
       "errorTraceType": "html",
       "metadata": {},
       "type": "ipynbError"
      }
     },
     "output_type": "display_data"
    }
   ],
   "source": [
    "import gradio as gr\n",
    "from mlflow.gateway import set_gateway_uri, create_route, query,delete_route\n",
    "\n",
    "set_gateway_uri(\"databricks\")\n",
    "\n",
    "def generating_text(prompt,route_param,token):\n",
    "    # Create a Route for text completions with MosaicML Inference API \n",
    "    create_route(\n",
    "        name=route_param,\n",
    "        route_type=\"llm/v1/completions\",\n",
    "        model={\n",
    "            \"name\": \"llama2-70b-chat\",\n",
    "            \"provider\": \"mosaicml\",\n",
    "            \"mosaicml_config\": {\n",
    "            \"mosaicml_api_key\": \"30HUkJ.UEvkMW9tAyMS7v91L4-e-gA0r.MKC0GUBphZ.2y5\"\n",
    "            }\n",
    "        }\n",
    "    )\n",
    "\n",
    "    response1 = query(\n",
    "    route=route_param,\n",
    "    data={\"prompt\": prompt,\"temperature\": 0.1,\n",
    "        \"max_tokens\": token}\n",
    "    )\n",
    "\n",
    "    return(response1)\n",
    "\n",
    "import string\n",
    "import random\n",
    " \n",
    "# initializing size of string\n",
    "N = 7\n",
    "\n",
    "def greet(Input,chat_history,slider):\n",
    "    RouteName1=\"text1\"\n",
    "    RouteName2=\"text2\"\n",
    "    system=\"you are a translator which converts english to hindi. Please translate the given text to hindi language\"\n",
    "    prompt=f\"{Input}\"\n",
    "    delete_route(\"text1\")\n",
    "    result=generating_text(prompt,RouteName1,slider)\n",
    "    res=result['candidates'][0]['text']\n",
    "    print(res)\n",
    "    prompt2=f\"[INST] <<SYS>> {system} <</SYS>> {res} [/INST]\"\n",
    "    delete_route(\"text2\")\n",
    "    token=slider*2\n",
    "    result1=generating_text(prompt2,RouteName2,token)\n",
    "    chat_history.append((Input, result1['candidates'][0]['text']))\n",
    "    return \"\", chat_history\n",
    "\n",
    "\n",
    "with gr.Blocks(theme=gr.themes.Soft(primary_hue=gr.themes.colors.blue, secondary_hue=gr.themes.colors.red)) as demo:\n",
    "    gr.Markdown(\"## Hindi Chat Bot\")\n",
    "    chatbot = gr.Chatbot(height=350) #just to fit the notebook\n",
    "    msg = gr.Textbox(label=\"Prompt\",placeholder=\"अपना प्रश्न हिंदी में यहां दर्ज करें\",lines=2)\n",
    "    with gr.Row():\n",
    "        btn = gr.Button(\"Submit\")\n",
    "        clear = gr.ClearButton(components=[msg, chatbot], value=\"Clear console\")\n",
    "    # btn = gr.Button(\"Submit\")\n",
    "    # clear = gr.ClearButton(components=[msg, chatbot], value=\"Clear console\")\n",
    "    btn.click(greet, inputs=[msg, chatbot,gr.Slider(label=\"Max new tokens\", \n",
    "                                      value=200,\n",
    "                                      step=100, \n",
    "                                      maximum=400,\n",
    "                                      minimum=100)], outputs=[msg, chatbot])\n",
    "    msg.submit(greet, inputs=[msg, chatbot], outputs=[msg, chatbot])\n",
    "    chatbot.like(vote, None, None)\n",
    "    gr.Examples([[\"एचडीएफसी बैंक का कस्टमर केयर नंबर क्या है?\"],[\"इंजीनियरिंग के लिए सबसे अच्छे कॉलेज कौन से हैं?\"]], inputs=[msg,chatbot])\n",
    "\n",
    "gr.close_all()\n",
    "demo.launch(share=True,debug=True)\n"
   ]
  },
  {
   "cell_type": "code",
   "execution_count": 0,
   "metadata": {
    "application/vnd.databricks.v1+cell": {
     "cellMetadata": {
      "byteLimit": 2048000,
      "rowLimit": 10000
     },
     "inputWidgets": {},
     "nuid": "7633dccb-0ebe-4eb6-a7c8-7131058d0440",
     "showTitle": false,
     "title": ""
    }
   },
   "outputs": [
    {
     "output_type": "display_data",
     "data": {
      "text/plain": [
       "\u001B[0;31m---------------------------------------------------------------------------\u001B[0m\n",
       "\u001B[0;31mPydanticUserError\u001B[0m                         Traceback (most recent call last)\n",
       "File \u001B[0;32m<command-2358992249828954>:1\u001B[0m\n",
       "\u001B[0;32m----> 1\u001B[0m \u001B[38;5;28;01mfrom\u001B[39;00m \u001B[38;5;21;01mlangchain\u001B[39;00m\u001B[38;5;21;01m.\u001B[39;00m\u001B[38;5;21;01mllms\u001B[39;00m \u001B[38;5;28;01mimport\u001B[39;00m HuggingFacePipeline\n",
       "\u001B[1;32m      2\u001B[0m \u001B[38;5;28;01mfrom\u001B[39;00m \u001B[38;5;21;01mlangchain\u001B[39;00m\u001B[38;5;21;01m.\u001B[39;00m\u001B[38;5;21;01mdocument_loaders\u001B[39;00m \u001B[38;5;28;01mimport\u001B[39;00m TextLoader\n",
       "\u001B[1;32m      3\u001B[0m \u001B[38;5;28;01mfrom\u001B[39;00m \u001B[38;5;21;01mlangchain\u001B[39;00m\u001B[38;5;21;01m.\u001B[39;00m\u001B[38;5;21;01mtext_splitter\u001B[39;00m \u001B[38;5;28;01mimport\u001B[39;00m RecursiveCharacterTextSplitter\n",
       "\n",
       "File \u001B[0;32m/databricks/python/lib/python3.10/site-packages/langchain/__init__.py:6\u001B[0m\n",
       "\u001B[1;32m      3\u001B[0m \u001B[38;5;28;01mfrom\u001B[39;00m \u001B[38;5;21;01mimportlib\u001B[39;00m \u001B[38;5;28;01mimport\u001B[39;00m metadata\n",
       "\u001B[1;32m      4\u001B[0m \u001B[38;5;28;01mfrom\u001B[39;00m \u001B[38;5;21;01mtyping\u001B[39;00m \u001B[38;5;28;01mimport\u001B[39;00m Optional\n",
       "\u001B[0;32m----> 6\u001B[0m \u001B[38;5;28;01mfrom\u001B[39;00m \u001B[38;5;21;01mlangchain\u001B[39;00m\u001B[38;5;21;01m.\u001B[39;00m\u001B[38;5;21;01magents\u001B[39;00m \u001B[38;5;28;01mimport\u001B[39;00m MRKLChain, ReActChain, SelfAskWithSearchChain\n",
       "\u001B[1;32m      7\u001B[0m \u001B[38;5;28;01mfrom\u001B[39;00m \u001B[38;5;21;01mlangchain\u001B[39;00m\u001B[38;5;21;01m.\u001B[39;00m\u001B[38;5;21;01mcache\u001B[39;00m \u001B[38;5;28;01mimport\u001B[39;00m BaseCache\n",
       "\u001B[1;32m      8\u001B[0m \u001B[38;5;28;01mfrom\u001B[39;00m \u001B[38;5;21;01mlangchain\u001B[39;00m\u001B[38;5;21;01m.\u001B[39;00m\u001B[38;5;21;01mchains\u001B[39;00m \u001B[38;5;28;01mimport\u001B[39;00m (\n",
       "\u001B[1;32m      9\u001B[0m     ConversationChain,\n",
       "\u001B[1;32m     10\u001B[0m     LLMBashChain,\n",
       "\u001B[0;32m   (...)\u001B[0m\n",
       "\u001B[1;32m     18\u001B[0m     VectorDBQAWithSourcesChain,\n",
       "\u001B[1;32m     19\u001B[0m )\n",
       "\n",
       "File \u001B[0;32m/databricks/python/lib/python3.10/site-packages/langchain/agents/__init__.py:2\u001B[0m\n",
       "\u001B[1;32m      1\u001B[0m \u001B[38;5;124;03m\"\"\"Interface for agents.\"\"\"\u001B[39;00m\n",
       "\u001B[0;32m----> 2\u001B[0m \u001B[38;5;28;01mfrom\u001B[39;00m \u001B[38;5;21;01mlangchain\u001B[39;00m\u001B[38;5;21;01m.\u001B[39;00m\u001B[38;5;21;01magents\u001B[39;00m\u001B[38;5;21;01m.\u001B[39;00m\u001B[38;5;21;01magent\u001B[39;00m \u001B[38;5;28;01mimport\u001B[39;00m (\n",
       "\u001B[1;32m      3\u001B[0m     Agent,\n",
       "\u001B[1;32m      4\u001B[0m     AgentExecutor,\n",
       "\u001B[1;32m      5\u001B[0m     AgentOutputParser,\n",
       "\u001B[1;32m      6\u001B[0m     BaseMultiActionAgent,\n",
       "\u001B[1;32m      7\u001B[0m     BaseSingleActionAgent,\n",
       "\u001B[1;32m      8\u001B[0m     LLMSingleActionAgent,\n",
       "\u001B[1;32m      9\u001B[0m )\n",
       "\u001B[1;32m     10\u001B[0m \u001B[38;5;28;01mfrom\u001B[39;00m \u001B[38;5;21;01mlangchain\u001B[39;00m\u001B[38;5;21;01m.\u001B[39;00m\u001B[38;5;21;01magents\u001B[39;00m\u001B[38;5;21;01m.\u001B[39;00m\u001B[38;5;21;01magent_toolkits\u001B[39;00m \u001B[38;5;28;01mimport\u001B[39;00m (\n",
       "\u001B[1;32m     11\u001B[0m     create_csv_agent,\n",
       "\u001B[1;32m     12\u001B[0m     create_json_agent,\n",
       "\u001B[0;32m   (...)\u001B[0m\n",
       "\u001B[1;32m     21\u001B[0m     create_vectorstore_router_agent,\n",
       "\u001B[1;32m     22\u001B[0m )\n",
       "\u001B[1;32m     23\u001B[0m \u001B[38;5;28;01mfrom\u001B[39;00m \u001B[38;5;21;01mlangchain\u001B[39;00m\u001B[38;5;21;01m.\u001B[39;00m\u001B[38;5;21;01magents\u001B[39;00m\u001B[38;5;21;01m.\u001B[39;00m\u001B[38;5;21;01magent_types\u001B[39;00m \u001B[38;5;28;01mimport\u001B[39;00m AgentType\n",
       "\n",
       "File \u001B[0;32m/databricks/python/lib/python3.10/site-packages/langchain/agents/agent.py:16\u001B[0m\n",
       "\u001B[1;32m     13\u001B[0m \u001B[38;5;28;01mfrom\u001B[39;00m \u001B[38;5;21;01mpydantic\u001B[39;00m \u001B[38;5;28;01mimport\u001B[39;00m BaseModel, root_validator\n",
       "\u001B[1;32m     15\u001B[0m \u001B[38;5;28;01mfrom\u001B[39;00m \u001B[38;5;21;01mlangchain\u001B[39;00m\u001B[38;5;21;01m.\u001B[39;00m\u001B[38;5;21;01magents\u001B[39;00m\u001B[38;5;21;01m.\u001B[39;00m\u001B[38;5;21;01magent_types\u001B[39;00m \u001B[38;5;28;01mimport\u001B[39;00m AgentType\n",
       "\u001B[0;32m---> 16\u001B[0m \u001B[38;5;28;01mfrom\u001B[39;00m \u001B[38;5;21;01mlangchain\u001B[39;00m\u001B[38;5;21;01m.\u001B[39;00m\u001B[38;5;21;01magents\u001B[39;00m\u001B[38;5;21;01m.\u001B[39;00m\u001B[38;5;21;01mtools\u001B[39;00m \u001B[38;5;28;01mimport\u001B[39;00m InvalidTool\n",
       "\u001B[1;32m     17\u001B[0m \u001B[38;5;28;01mfrom\u001B[39;00m \u001B[38;5;21;01mlangchain\u001B[39;00m\u001B[38;5;21;01m.\u001B[39;00m\u001B[38;5;21;01mbase_language\u001B[39;00m \u001B[38;5;28;01mimport\u001B[39;00m BaseLanguageModel\n",
       "\u001B[1;32m     18\u001B[0m \u001B[38;5;28;01mfrom\u001B[39;00m \u001B[38;5;21;01mlangchain\u001B[39;00m\u001B[38;5;21;01m.\u001B[39;00m\u001B[38;5;21;01mcallbacks\u001B[39;00m\u001B[38;5;21;01m.\u001B[39;00m\u001B[38;5;21;01mbase\u001B[39;00m \u001B[38;5;28;01mimport\u001B[39;00m BaseCallbackManager\n",
       "\n",
       "File \u001B[0;32m/databricks/python/lib/python3.10/site-packages/langchain/agents/tools.py:4\u001B[0m\n",
       "\u001B[1;32m      1\u001B[0m \u001B[38;5;124;03m\"\"\"Interface for tools.\"\"\"\u001B[39;00m\n",
       "\u001B[1;32m      2\u001B[0m \u001B[38;5;28;01mfrom\u001B[39;00m \u001B[38;5;21;01mtyping\u001B[39;00m \u001B[38;5;28;01mimport\u001B[39;00m Optional\n",
       "\u001B[0;32m----> 4\u001B[0m \u001B[38;5;28;01mfrom\u001B[39;00m \u001B[38;5;21;01mlangchain\u001B[39;00m\u001B[38;5;21;01m.\u001B[39;00m\u001B[38;5;21;01mcallbacks\u001B[39;00m\u001B[38;5;21;01m.\u001B[39;00m\u001B[38;5;21;01mmanager\u001B[39;00m \u001B[38;5;28;01mimport\u001B[39;00m (\n",
       "\u001B[1;32m      5\u001B[0m     AsyncCallbackManagerForToolRun,\n",
       "\u001B[1;32m      6\u001B[0m     CallbackManagerForToolRun,\n",
       "\u001B[1;32m      7\u001B[0m )\n",
       "\u001B[1;32m      8\u001B[0m \u001B[38;5;28;01mfrom\u001B[39;00m \u001B[38;5;21;01mlangchain\u001B[39;00m\u001B[38;5;21;01m.\u001B[39;00m\u001B[38;5;21;01mtools\u001B[39;00m\u001B[38;5;21;01m.\u001B[39;00m\u001B[38;5;21;01mbase\u001B[39;00m \u001B[38;5;28;01mimport\u001B[39;00m BaseTool, Tool, tool\n",
       "\u001B[1;32m     11\u001B[0m \u001B[38;5;28;01mclass\u001B[39;00m \u001B[38;5;21;01mInvalidTool\u001B[39;00m(BaseTool):\n",
       "\n",
       "File \u001B[0;32m/databricks/python/lib/python3.10/site-packages/langchain/callbacks/__init__.py:3\u001B[0m\n",
       "\u001B[1;32m      1\u001B[0m \u001B[38;5;124;03m\"\"\"Callback handlers that allow listening to events in LangChain.\"\"\"\u001B[39;00m\n",
       "\u001B[0;32m----> 3\u001B[0m \u001B[38;5;28;01mfrom\u001B[39;00m \u001B[38;5;21;01mlangchain\u001B[39;00m\u001B[38;5;21;01m.\u001B[39;00m\u001B[38;5;21;01mcallbacks\u001B[39;00m\u001B[38;5;21;01m.\u001B[39;00m\u001B[38;5;21;01maim_callback\u001B[39;00m \u001B[38;5;28;01mimport\u001B[39;00m AimCallbackHandler\n",
       "\u001B[1;32m      4\u001B[0m \u001B[38;5;28;01mfrom\u001B[39;00m \u001B[38;5;21;01mlangchain\u001B[39;00m\u001B[38;5;21;01m.\u001B[39;00m\u001B[38;5;21;01mcallbacks\u001B[39;00m\u001B[38;5;21;01m.\u001B[39;00m\u001B[38;5;21;01mclearml_callback\u001B[39;00m \u001B[38;5;28;01mimport\u001B[39;00m ClearMLCallbackHandler\n",
       "\u001B[1;32m      5\u001B[0m \u001B[38;5;28;01mfrom\u001B[39;00m \u001B[38;5;21;01mlangchain\u001B[39;00m\u001B[38;5;21;01m.\u001B[39;00m\u001B[38;5;21;01mcallbacks\u001B[39;00m\u001B[38;5;21;01m.\u001B[39;00m\u001B[38;5;21;01mcomet_ml_callback\u001B[39;00m \u001B[38;5;28;01mimport\u001B[39;00m CometCallbackHandler\n",
       "\n",
       "File \u001B[0;32m/databricks/python/lib/python3.10/site-packages/langchain/callbacks/aim_callback.py:4\u001B[0m\n",
       "\u001B[1;32m      1\u001B[0m \u001B[38;5;28;01mfrom\u001B[39;00m \u001B[38;5;21;01mcopy\u001B[39;00m \u001B[38;5;28;01mimport\u001B[39;00m deepcopy\n",
       "\u001B[1;32m      2\u001B[0m \u001B[38;5;28;01mfrom\u001B[39;00m \u001B[38;5;21;01mtyping\u001B[39;00m \u001B[38;5;28;01mimport\u001B[39;00m Any, Dict, List, Optional, Union\n",
       "\u001B[0;32m----> 4\u001B[0m \u001B[38;5;28;01mfrom\u001B[39;00m \u001B[38;5;21;01mlangchain\u001B[39;00m\u001B[38;5;21;01m.\u001B[39;00m\u001B[38;5;21;01mcallbacks\u001B[39;00m\u001B[38;5;21;01m.\u001B[39;00m\u001B[38;5;21;01mbase\u001B[39;00m \u001B[38;5;28;01mimport\u001B[39;00m BaseCallbackHandler\n",
       "\u001B[1;32m      5\u001B[0m \u001B[38;5;28;01mfrom\u001B[39;00m \u001B[38;5;21;01mlangchain\u001B[39;00m\u001B[38;5;21;01m.\u001B[39;00m\u001B[38;5;21;01mschema\u001B[39;00m \u001B[38;5;28;01mimport\u001B[39;00m AgentAction, AgentFinish, LLMResult\n",
       "\u001B[1;32m      8\u001B[0m \u001B[38;5;28;01mdef\u001B[39;00m \u001B[38;5;21mimport_aim\u001B[39m() \u001B[38;5;241m-\u001B[39m\u001B[38;5;241m>\u001B[39m Any:\n",
       "\n",
       "File \u001B[0;32m/databricks/python/lib/python3.10/site-packages/langchain/callbacks/base.py:7\u001B[0m\n",
       "\u001B[1;32m      4\u001B[0m \u001B[38;5;28;01mfrom\u001B[39;00m \u001B[38;5;21;01mtyping\u001B[39;00m \u001B[38;5;28;01mimport\u001B[39;00m Any, Dict, List, Optional, Union\n",
       "\u001B[1;32m      5\u001B[0m \u001B[38;5;28;01mfrom\u001B[39;00m \u001B[38;5;21;01muuid\u001B[39;00m \u001B[38;5;28;01mimport\u001B[39;00m UUID\n",
       "\u001B[0;32m----> 7\u001B[0m \u001B[38;5;28;01mfrom\u001B[39;00m \u001B[38;5;21;01mlangchain\u001B[39;00m\u001B[38;5;21;01m.\u001B[39;00m\u001B[38;5;21;01mschema\u001B[39;00m \u001B[38;5;28;01mimport\u001B[39;00m (\n",
       "\u001B[1;32m      8\u001B[0m     AgentAction,\n",
       "\u001B[1;32m      9\u001B[0m     AgentFinish,\n",
       "\u001B[1;32m     10\u001B[0m     BaseMessage,\n",
       "\u001B[1;32m     11\u001B[0m     LLMResult,\n",
       "\u001B[1;32m     12\u001B[0m )\n",
       "\u001B[1;32m     15\u001B[0m \u001B[38;5;28;01mclass\u001B[39;00m \u001B[38;5;21;01mLLMManagerMixin\u001B[39;00m:\n",
       "\u001B[1;32m     16\u001B[0m \u001B[38;5;250m    \u001B[39m\u001B[38;5;124;03m\"\"\"Mixin for LLM callbacks.\"\"\"\u001B[39;00m\n",
       "\n",
       "File \u001B[0;32m/databricks/python/lib/python3.10/site-packages/langchain/schema.py:147\u001B[0m\n",
       "\u001B[1;32m    143\u001B[0m \u001B[38;5;28;01mdef\u001B[39;00m \u001B[38;5;21mmessages_from_dict\u001B[39m(messages: List[\u001B[38;5;28mdict\u001B[39m]) \u001B[38;5;241m-\u001B[39m\u001B[38;5;241m>\u001B[39m List[BaseMessage]:\n",
       "\u001B[1;32m    144\u001B[0m     \u001B[38;5;28;01mreturn\u001B[39;00m [_message_from_dict(m) \u001B[38;5;28;01mfor\u001B[39;00m m \u001B[38;5;129;01min\u001B[39;00m messages]\n",
       "\u001B[0;32m--> 147\u001B[0m \u001B[38;5;28;01mclass\u001B[39;00m \u001B[38;5;21;01mChatGeneration\u001B[39;00m(Generation):\n",
       "\u001B[1;32m    148\u001B[0m \u001B[38;5;250m    \u001B[39m\u001B[38;5;124;03m\"\"\"Output of a single generation.\"\"\"\u001B[39;00m\n",
       "\u001B[1;32m    150\u001B[0m     text \u001B[38;5;241m=\u001B[39m \u001B[38;5;124m\"\u001B[39m\u001B[38;5;124m\"\u001B[39m\n",
       "\n",
       "File \u001B[0;32m/databricks/python/lib/python3.10/site-packages/langchain/schema.py:154\u001B[0m, in \u001B[0;36mChatGeneration\u001B[0;34m()\u001B[0m\n",
       "\u001B[1;32m    150\u001B[0m text \u001B[38;5;241m=\u001B[39m \u001B[38;5;124m\"\u001B[39m\u001B[38;5;124m\"\u001B[39m\n",
       "\u001B[1;32m    151\u001B[0m message: BaseMessage\n",
       "\u001B[1;32m    153\u001B[0m \u001B[43m\u001B[49m\u001B[38;5;129;43m@root_validator\u001B[39;49m\n",
       "\u001B[0;32m--> 154\u001B[0m \u001B[43m\u001B[49m\u001B[38;5;28;43;01mdef\u001B[39;49;00m\u001B[43m \u001B[49m\u001B[38;5;21;43mset_text\u001B[39;49m\u001B[43m(\u001B[49m\u001B[38;5;28;43mcls\u001B[39;49m\u001B[43m,\u001B[49m\u001B[43m \u001B[49m\u001B[43mvalues\u001B[49m\u001B[43m:\u001B[49m\u001B[43m \u001B[49m\u001B[43mDict\u001B[49m\u001B[43m[\u001B[49m\u001B[38;5;28;43mstr\u001B[39;49m\u001B[43m,\u001B[49m\u001B[43m \u001B[49m\u001B[43mAny\u001B[49m\u001B[43m]\u001B[49m\u001B[43m)\u001B[49m\u001B[43m \u001B[49m\u001B[38;5;241;43m-\u001B[39;49m\u001B[38;5;241;43m>\u001B[39;49m\u001B[43m \u001B[49m\u001B[43mDict\u001B[49m\u001B[43m[\u001B[49m\u001B[38;5;28;43mstr\u001B[39;49m\u001B[43m,\u001B[49m\u001B[43m \u001B[49m\u001B[43mAny\u001B[49m\u001B[43m]\u001B[49m\u001B[43m:\u001B[49m\n",
       "\u001B[1;32m    155\u001B[0m \u001B[43m    \u001B[49m\u001B[43mvalues\u001B[49m\u001B[43m[\u001B[49m\u001B[38;5;124;43m\"\u001B[39;49m\u001B[38;5;124;43mtext\u001B[39;49m\u001B[38;5;124;43m\"\u001B[39;49m\u001B[43m]\u001B[49m\u001B[43m \u001B[49m\u001B[38;5;241;43m=\u001B[39;49m\u001B[43m \u001B[49m\u001B[43mvalues\u001B[49m\u001B[43m[\u001B[49m\u001B[38;5;124;43m\"\u001B[39;49m\u001B[38;5;124;43mmessage\u001B[39;49m\u001B[38;5;124;43m\"\u001B[39;49m\u001B[43m]\u001B[49m\u001B[38;5;241;43m.\u001B[39;49m\u001B[43mcontent\u001B[49m\n",
       "\u001B[1;32m    156\u001B[0m \u001B[43m    \u001B[49m\u001B[38;5;28;43;01mreturn\u001B[39;49;00m\u001B[43m \u001B[49m\u001B[43mvalues\u001B[49m\n",
       "\n",
       "File \u001B[0;32m/local_disk0/.ephemeral_nfs/envs/pythonEnv-94e77d9d-6207-41f3-9169-8d0202feb5a9/lib/python3.10/site-packages/pydantic/deprecated/class_validators.py:231\u001B[0m, in \u001B[0;36mroot_validator\u001B[0;34m(pre, skip_on_failure, allow_reuse, *__args)\u001B[0m\n",
       "\u001B[1;32m    221\u001B[0m warn(\n",
       "\u001B[1;32m    222\u001B[0m     \u001B[38;5;124m'\u001B[39m\u001B[38;5;124mPydantic V1 style `@root_validator` validators are deprecated.\u001B[39m\u001B[38;5;124m'\u001B[39m\n",
       "\u001B[1;32m    223\u001B[0m     \u001B[38;5;124m'\u001B[39m\u001B[38;5;124m You should migrate to Pydantic V2 style `@model_validator` validators,\u001B[39m\u001B[38;5;124m'\u001B[39m\n",
       "\u001B[0;32m   (...)\u001B[0m\n",
       "\u001B[1;32m    226\u001B[0m     stacklevel\u001B[38;5;241m=\u001B[39m\u001B[38;5;241m2\u001B[39m,\n",
       "\u001B[1;32m    227\u001B[0m )\n",
       "\u001B[1;32m    229\u001B[0m \u001B[38;5;28;01mif\u001B[39;00m __args:\n",
       "\u001B[1;32m    230\u001B[0m     \u001B[38;5;66;03m# Ensure a nice error is raised if someone attempts to use the bare decorator\u001B[39;00m\n",
       "\u001B[0;32m--> 231\u001B[0m     \u001B[38;5;28;01mreturn\u001B[39;00m \u001B[43mroot_validator\u001B[49m\u001B[43m(\u001B[49m\u001B[43m)\u001B[49m(\u001B[38;5;241m*\u001B[39m__args)  \u001B[38;5;66;03m# type: ignore\u001B[39;00m\n",
       "\u001B[1;32m    233\u001B[0m \u001B[38;5;28;01mif\u001B[39;00m allow_reuse \u001B[38;5;129;01mis\u001B[39;00m \u001B[38;5;28;01mTrue\u001B[39;00m:  \u001B[38;5;66;03m# pragma: no cover\u001B[39;00m\n",
       "\u001B[1;32m    234\u001B[0m     warn(_ALLOW_REUSE_WARNING_MESSAGE, \u001B[38;5;167;01mDeprecationWarning\u001B[39;00m)\n",
       "\n",
       "File \u001B[0;32m/local_disk0/.ephemeral_nfs/envs/pythonEnv-94e77d9d-6207-41f3-9169-8d0202feb5a9/lib/python3.10/site-packages/pydantic/deprecated/class_validators.py:237\u001B[0m, in \u001B[0;36mroot_validator\u001B[0;34m(pre, skip_on_failure, allow_reuse, *__args)\u001B[0m\n",
       "\u001B[1;32m    235\u001B[0m mode: Literal[\u001B[38;5;124m'\u001B[39m\u001B[38;5;124mbefore\u001B[39m\u001B[38;5;124m'\u001B[39m, \u001B[38;5;124m'\u001B[39m\u001B[38;5;124mafter\u001B[39m\u001B[38;5;124m'\u001B[39m] \u001B[38;5;241m=\u001B[39m \u001B[38;5;124m'\u001B[39m\u001B[38;5;124mbefore\u001B[39m\u001B[38;5;124m'\u001B[39m \u001B[38;5;28;01mif\u001B[39;00m pre \u001B[38;5;129;01mis\u001B[39;00m \u001B[38;5;28;01mTrue\u001B[39;00m \u001B[38;5;28;01melse\u001B[39;00m \u001B[38;5;124m'\u001B[39m\u001B[38;5;124mafter\u001B[39m\u001B[38;5;124m'\u001B[39m\n",
       "\u001B[1;32m    236\u001B[0m \u001B[38;5;28;01mif\u001B[39;00m pre \u001B[38;5;129;01mis\u001B[39;00m \u001B[38;5;28;01mFalse\u001B[39;00m \u001B[38;5;129;01mand\u001B[39;00m skip_on_failure \u001B[38;5;129;01mis\u001B[39;00m \u001B[38;5;129;01mnot\u001B[39;00m \u001B[38;5;28;01mTrue\u001B[39;00m:\n",
       "\u001B[0;32m--> 237\u001B[0m     \u001B[38;5;28;01mraise\u001B[39;00m PydanticUserError(\n",
       "\u001B[1;32m    238\u001B[0m         \u001B[38;5;124m'\u001B[39m\u001B[38;5;124mIf you use `@root_validator` with pre=False (the default) you MUST specify `skip_on_failure=True`.\u001B[39m\u001B[38;5;124m'\u001B[39m\n",
       "\u001B[1;32m    239\u001B[0m         \u001B[38;5;124m'\u001B[39m\u001B[38;5;124m Note that `@root_validator` is deprecated and should be replaced with `@model_validator`.\u001B[39m\u001B[38;5;124m'\u001B[39m,\n",
       "\u001B[1;32m    240\u001B[0m         code\u001B[38;5;241m=\u001B[39m\u001B[38;5;124m'\u001B[39m\u001B[38;5;124mroot-validator-pre-skip\u001B[39m\u001B[38;5;124m'\u001B[39m,\n",
       "\u001B[1;32m    241\u001B[0m     )\n",
       "\u001B[1;32m    243\u001B[0m wrap \u001B[38;5;241m=\u001B[39m partial(_decorators_v1\u001B[38;5;241m.\u001B[39mmake_v1_generic_root_validator, pre\u001B[38;5;241m=\u001B[39mpre)\n",
       "\u001B[1;32m    245\u001B[0m \u001B[38;5;28;01mdef\u001B[39;00m \u001B[38;5;21mdec\u001B[39m(f: Callable[\u001B[38;5;241m.\u001B[39m\u001B[38;5;241m.\u001B[39m\u001B[38;5;241m.\u001B[39m, Any] \u001B[38;5;241m|\u001B[39m \u001B[38;5;28mclassmethod\u001B[39m[Any, Any, Any] \u001B[38;5;241m|\u001B[39m \u001B[38;5;28mstaticmethod\u001B[39m[Any, Any]) \u001B[38;5;241m-\u001B[39m\u001B[38;5;241m>\u001B[39m Any:\n",
       "\n",
       "\u001B[0;31mPydanticUserError\u001B[0m: If you use `@root_validator` with pre=False (the default) you MUST specify `skip_on_failure=True`. Note that `@root_validator` is deprecated and should be replaced with `@model_validator`.\n",
       "\n",
       "For further information visit https://errors.pydantic.dev/2.5/u/root-validator-pre-skip"
      ]
     },
     "metadata": {
      "application/vnd.databricks.v1+output": {
       "arguments": {},
       "data": "\u001B[0;31m---------------------------------------------------------------------------\u001B[0m\n\u001B[0;31mPydanticUserError\u001B[0m                         Traceback (most recent call last)\nFile \u001B[0;32m<command-2358992249828954>:1\u001B[0m\n\u001B[0;32m----> 1\u001B[0m \u001B[38;5;28;01mfrom\u001B[39;00m \u001B[38;5;21;01mlangchain\u001B[39;00m\u001B[38;5;21;01m.\u001B[39;00m\u001B[38;5;21;01mllms\u001B[39;00m \u001B[38;5;28;01mimport\u001B[39;00m HuggingFacePipeline\n\u001B[1;32m      2\u001B[0m \u001B[38;5;28;01mfrom\u001B[39;00m \u001B[38;5;21;01mlangchain\u001B[39;00m\u001B[38;5;21;01m.\u001B[39;00m\u001B[38;5;21;01mdocument_loaders\u001B[39;00m \u001B[38;5;28;01mimport\u001B[39;00m TextLoader\n\u001B[1;32m      3\u001B[0m \u001B[38;5;28;01mfrom\u001B[39;00m \u001B[38;5;21;01mlangchain\u001B[39;00m\u001B[38;5;21;01m.\u001B[39;00m\u001B[38;5;21;01mtext_splitter\u001B[39;00m \u001B[38;5;28;01mimport\u001B[39;00m RecursiveCharacterTextSplitter\n\nFile \u001B[0;32m/databricks/python/lib/python3.10/site-packages/langchain/__init__.py:6\u001B[0m\n\u001B[1;32m      3\u001B[0m \u001B[38;5;28;01mfrom\u001B[39;00m \u001B[38;5;21;01mimportlib\u001B[39;00m \u001B[38;5;28;01mimport\u001B[39;00m metadata\n\u001B[1;32m      4\u001B[0m \u001B[38;5;28;01mfrom\u001B[39;00m \u001B[38;5;21;01mtyping\u001B[39;00m \u001B[38;5;28;01mimport\u001B[39;00m Optional\n\u001B[0;32m----> 6\u001B[0m \u001B[38;5;28;01mfrom\u001B[39;00m \u001B[38;5;21;01mlangchain\u001B[39;00m\u001B[38;5;21;01m.\u001B[39;00m\u001B[38;5;21;01magents\u001B[39;00m \u001B[38;5;28;01mimport\u001B[39;00m MRKLChain, ReActChain, SelfAskWithSearchChain\n\u001B[1;32m      7\u001B[0m \u001B[38;5;28;01mfrom\u001B[39;00m \u001B[38;5;21;01mlangchain\u001B[39;00m\u001B[38;5;21;01m.\u001B[39;00m\u001B[38;5;21;01mcache\u001B[39;00m \u001B[38;5;28;01mimport\u001B[39;00m BaseCache\n\u001B[1;32m      8\u001B[0m \u001B[38;5;28;01mfrom\u001B[39;00m \u001B[38;5;21;01mlangchain\u001B[39;00m\u001B[38;5;21;01m.\u001B[39;00m\u001B[38;5;21;01mchains\u001B[39;00m \u001B[38;5;28;01mimport\u001B[39;00m (\n\u001B[1;32m      9\u001B[0m     ConversationChain,\n\u001B[1;32m     10\u001B[0m     LLMBashChain,\n\u001B[0;32m   (...)\u001B[0m\n\u001B[1;32m     18\u001B[0m     VectorDBQAWithSourcesChain,\n\u001B[1;32m     19\u001B[0m )\n\nFile \u001B[0;32m/databricks/python/lib/python3.10/site-packages/langchain/agents/__init__.py:2\u001B[0m\n\u001B[1;32m      1\u001B[0m \u001B[38;5;124;03m\"\"\"Interface for agents.\"\"\"\u001B[39;00m\n\u001B[0;32m----> 2\u001B[0m \u001B[38;5;28;01mfrom\u001B[39;00m \u001B[38;5;21;01mlangchain\u001B[39;00m\u001B[38;5;21;01m.\u001B[39;00m\u001B[38;5;21;01magents\u001B[39;00m\u001B[38;5;21;01m.\u001B[39;00m\u001B[38;5;21;01magent\u001B[39;00m \u001B[38;5;28;01mimport\u001B[39;00m (\n\u001B[1;32m      3\u001B[0m     Agent,\n\u001B[1;32m      4\u001B[0m     AgentExecutor,\n\u001B[1;32m      5\u001B[0m     AgentOutputParser,\n\u001B[1;32m      6\u001B[0m     BaseMultiActionAgent,\n\u001B[1;32m      7\u001B[0m     BaseSingleActionAgent,\n\u001B[1;32m      8\u001B[0m     LLMSingleActionAgent,\n\u001B[1;32m      9\u001B[0m )\n\u001B[1;32m     10\u001B[0m \u001B[38;5;28;01mfrom\u001B[39;00m \u001B[38;5;21;01mlangchain\u001B[39;00m\u001B[38;5;21;01m.\u001B[39;00m\u001B[38;5;21;01magents\u001B[39;00m\u001B[38;5;21;01m.\u001B[39;00m\u001B[38;5;21;01magent_toolkits\u001B[39;00m \u001B[38;5;28;01mimport\u001B[39;00m (\n\u001B[1;32m     11\u001B[0m     create_csv_agent,\n\u001B[1;32m     12\u001B[0m     create_json_agent,\n\u001B[0;32m   (...)\u001B[0m\n\u001B[1;32m     21\u001B[0m     create_vectorstore_router_agent,\n\u001B[1;32m     22\u001B[0m )\n\u001B[1;32m     23\u001B[0m \u001B[38;5;28;01mfrom\u001B[39;00m \u001B[38;5;21;01mlangchain\u001B[39;00m\u001B[38;5;21;01m.\u001B[39;00m\u001B[38;5;21;01magents\u001B[39;00m\u001B[38;5;21;01m.\u001B[39;00m\u001B[38;5;21;01magent_types\u001B[39;00m \u001B[38;5;28;01mimport\u001B[39;00m AgentType\n\nFile \u001B[0;32m/databricks/python/lib/python3.10/site-packages/langchain/agents/agent.py:16\u001B[0m\n\u001B[1;32m     13\u001B[0m \u001B[38;5;28;01mfrom\u001B[39;00m \u001B[38;5;21;01mpydantic\u001B[39;00m \u001B[38;5;28;01mimport\u001B[39;00m BaseModel, root_validator\n\u001B[1;32m     15\u001B[0m \u001B[38;5;28;01mfrom\u001B[39;00m \u001B[38;5;21;01mlangchain\u001B[39;00m\u001B[38;5;21;01m.\u001B[39;00m\u001B[38;5;21;01magents\u001B[39;00m\u001B[38;5;21;01m.\u001B[39;00m\u001B[38;5;21;01magent_types\u001B[39;00m \u001B[38;5;28;01mimport\u001B[39;00m AgentType\n\u001B[0;32m---> 16\u001B[0m \u001B[38;5;28;01mfrom\u001B[39;00m \u001B[38;5;21;01mlangchain\u001B[39;00m\u001B[38;5;21;01m.\u001B[39;00m\u001B[38;5;21;01magents\u001B[39;00m\u001B[38;5;21;01m.\u001B[39;00m\u001B[38;5;21;01mtools\u001B[39;00m \u001B[38;5;28;01mimport\u001B[39;00m InvalidTool\n\u001B[1;32m     17\u001B[0m \u001B[38;5;28;01mfrom\u001B[39;00m \u001B[38;5;21;01mlangchain\u001B[39;00m\u001B[38;5;21;01m.\u001B[39;00m\u001B[38;5;21;01mbase_language\u001B[39;00m \u001B[38;5;28;01mimport\u001B[39;00m BaseLanguageModel\n\u001B[1;32m     18\u001B[0m \u001B[38;5;28;01mfrom\u001B[39;00m \u001B[38;5;21;01mlangchain\u001B[39;00m\u001B[38;5;21;01m.\u001B[39;00m\u001B[38;5;21;01mcallbacks\u001B[39;00m\u001B[38;5;21;01m.\u001B[39;00m\u001B[38;5;21;01mbase\u001B[39;00m \u001B[38;5;28;01mimport\u001B[39;00m BaseCallbackManager\n\nFile \u001B[0;32m/databricks/python/lib/python3.10/site-packages/langchain/agents/tools.py:4\u001B[0m\n\u001B[1;32m      1\u001B[0m \u001B[38;5;124;03m\"\"\"Interface for tools.\"\"\"\u001B[39;00m\n\u001B[1;32m      2\u001B[0m \u001B[38;5;28;01mfrom\u001B[39;00m \u001B[38;5;21;01mtyping\u001B[39;00m \u001B[38;5;28;01mimport\u001B[39;00m Optional\n\u001B[0;32m----> 4\u001B[0m \u001B[38;5;28;01mfrom\u001B[39;00m \u001B[38;5;21;01mlangchain\u001B[39;00m\u001B[38;5;21;01m.\u001B[39;00m\u001B[38;5;21;01mcallbacks\u001B[39;00m\u001B[38;5;21;01m.\u001B[39;00m\u001B[38;5;21;01mmanager\u001B[39;00m \u001B[38;5;28;01mimport\u001B[39;00m (\n\u001B[1;32m      5\u001B[0m     AsyncCallbackManagerForToolRun,\n\u001B[1;32m      6\u001B[0m     CallbackManagerForToolRun,\n\u001B[1;32m      7\u001B[0m )\n\u001B[1;32m      8\u001B[0m \u001B[38;5;28;01mfrom\u001B[39;00m \u001B[38;5;21;01mlangchain\u001B[39;00m\u001B[38;5;21;01m.\u001B[39;00m\u001B[38;5;21;01mtools\u001B[39;00m\u001B[38;5;21;01m.\u001B[39;00m\u001B[38;5;21;01mbase\u001B[39;00m \u001B[38;5;28;01mimport\u001B[39;00m BaseTool, Tool, tool\n\u001B[1;32m     11\u001B[0m \u001B[38;5;28;01mclass\u001B[39;00m \u001B[38;5;21;01mInvalidTool\u001B[39;00m(BaseTool):\n\nFile \u001B[0;32m/databricks/python/lib/python3.10/site-packages/langchain/callbacks/__init__.py:3\u001B[0m\n\u001B[1;32m      1\u001B[0m \u001B[38;5;124;03m\"\"\"Callback handlers that allow listening to events in LangChain.\"\"\"\u001B[39;00m\n\u001B[0;32m----> 3\u001B[0m \u001B[38;5;28;01mfrom\u001B[39;00m \u001B[38;5;21;01mlangchain\u001B[39;00m\u001B[38;5;21;01m.\u001B[39;00m\u001B[38;5;21;01mcallbacks\u001B[39;00m\u001B[38;5;21;01m.\u001B[39;00m\u001B[38;5;21;01maim_callback\u001B[39;00m \u001B[38;5;28;01mimport\u001B[39;00m AimCallbackHandler\n\u001B[1;32m      4\u001B[0m \u001B[38;5;28;01mfrom\u001B[39;00m \u001B[38;5;21;01mlangchain\u001B[39;00m\u001B[38;5;21;01m.\u001B[39;00m\u001B[38;5;21;01mcallbacks\u001B[39;00m\u001B[38;5;21;01m.\u001B[39;00m\u001B[38;5;21;01mclearml_callback\u001B[39;00m \u001B[38;5;28;01mimport\u001B[39;00m ClearMLCallbackHandler\n\u001B[1;32m      5\u001B[0m \u001B[38;5;28;01mfrom\u001B[39;00m \u001B[38;5;21;01mlangchain\u001B[39;00m\u001B[38;5;21;01m.\u001B[39;00m\u001B[38;5;21;01mcallbacks\u001B[39;00m\u001B[38;5;21;01m.\u001B[39;00m\u001B[38;5;21;01mcomet_ml_callback\u001B[39;00m \u001B[38;5;28;01mimport\u001B[39;00m CometCallbackHandler\n\nFile \u001B[0;32m/databricks/python/lib/python3.10/site-packages/langchain/callbacks/aim_callback.py:4\u001B[0m\n\u001B[1;32m      1\u001B[0m \u001B[38;5;28;01mfrom\u001B[39;00m \u001B[38;5;21;01mcopy\u001B[39;00m \u001B[38;5;28;01mimport\u001B[39;00m deepcopy\n\u001B[1;32m      2\u001B[0m \u001B[38;5;28;01mfrom\u001B[39;00m \u001B[38;5;21;01mtyping\u001B[39;00m \u001B[38;5;28;01mimport\u001B[39;00m Any, Dict, List, Optional, Union\n\u001B[0;32m----> 4\u001B[0m \u001B[38;5;28;01mfrom\u001B[39;00m \u001B[38;5;21;01mlangchain\u001B[39;00m\u001B[38;5;21;01m.\u001B[39;00m\u001B[38;5;21;01mcallbacks\u001B[39;00m\u001B[38;5;21;01m.\u001B[39;00m\u001B[38;5;21;01mbase\u001B[39;00m \u001B[38;5;28;01mimport\u001B[39;00m BaseCallbackHandler\n\u001B[1;32m      5\u001B[0m \u001B[38;5;28;01mfrom\u001B[39;00m \u001B[38;5;21;01mlangchain\u001B[39;00m\u001B[38;5;21;01m.\u001B[39;00m\u001B[38;5;21;01mschema\u001B[39;00m \u001B[38;5;28;01mimport\u001B[39;00m AgentAction, AgentFinish, LLMResult\n\u001B[1;32m      8\u001B[0m \u001B[38;5;28;01mdef\u001B[39;00m \u001B[38;5;21mimport_aim\u001B[39m() \u001B[38;5;241m-\u001B[39m\u001B[38;5;241m>\u001B[39m Any:\n\nFile \u001B[0;32m/databricks/python/lib/python3.10/site-packages/langchain/callbacks/base.py:7\u001B[0m\n\u001B[1;32m      4\u001B[0m \u001B[38;5;28;01mfrom\u001B[39;00m \u001B[38;5;21;01mtyping\u001B[39;00m \u001B[38;5;28;01mimport\u001B[39;00m Any, Dict, List, Optional, Union\n\u001B[1;32m      5\u001B[0m \u001B[38;5;28;01mfrom\u001B[39;00m \u001B[38;5;21;01muuid\u001B[39;00m \u001B[38;5;28;01mimport\u001B[39;00m UUID\n\u001B[0;32m----> 7\u001B[0m \u001B[38;5;28;01mfrom\u001B[39;00m \u001B[38;5;21;01mlangchain\u001B[39;00m\u001B[38;5;21;01m.\u001B[39;00m\u001B[38;5;21;01mschema\u001B[39;00m \u001B[38;5;28;01mimport\u001B[39;00m (\n\u001B[1;32m      8\u001B[0m     AgentAction,\n\u001B[1;32m      9\u001B[0m     AgentFinish,\n\u001B[1;32m     10\u001B[0m     BaseMessage,\n\u001B[1;32m     11\u001B[0m     LLMResult,\n\u001B[1;32m     12\u001B[0m )\n\u001B[1;32m     15\u001B[0m \u001B[38;5;28;01mclass\u001B[39;00m \u001B[38;5;21;01mLLMManagerMixin\u001B[39;00m:\n\u001B[1;32m     16\u001B[0m \u001B[38;5;250m    \u001B[39m\u001B[38;5;124;03m\"\"\"Mixin for LLM callbacks.\"\"\"\u001B[39;00m\n\nFile \u001B[0;32m/databricks/python/lib/python3.10/site-packages/langchain/schema.py:147\u001B[0m\n\u001B[1;32m    143\u001B[0m \u001B[38;5;28;01mdef\u001B[39;00m \u001B[38;5;21mmessages_from_dict\u001B[39m(messages: List[\u001B[38;5;28mdict\u001B[39m]) \u001B[38;5;241m-\u001B[39m\u001B[38;5;241m>\u001B[39m List[BaseMessage]:\n\u001B[1;32m    144\u001B[0m     \u001B[38;5;28;01mreturn\u001B[39;00m [_message_from_dict(m) \u001B[38;5;28;01mfor\u001B[39;00m m \u001B[38;5;129;01min\u001B[39;00m messages]\n\u001B[0;32m--> 147\u001B[0m \u001B[38;5;28;01mclass\u001B[39;00m \u001B[38;5;21;01mChatGeneration\u001B[39;00m(Generation):\n\u001B[1;32m    148\u001B[0m \u001B[38;5;250m    \u001B[39m\u001B[38;5;124;03m\"\"\"Output of a single generation.\"\"\"\u001B[39;00m\n\u001B[1;32m    150\u001B[0m     text \u001B[38;5;241m=\u001B[39m \u001B[38;5;124m\"\u001B[39m\u001B[38;5;124m\"\u001B[39m\n\nFile \u001B[0;32m/databricks/python/lib/python3.10/site-packages/langchain/schema.py:154\u001B[0m, in \u001B[0;36mChatGeneration\u001B[0;34m()\u001B[0m\n\u001B[1;32m    150\u001B[0m text \u001B[38;5;241m=\u001B[39m \u001B[38;5;124m\"\u001B[39m\u001B[38;5;124m\"\u001B[39m\n\u001B[1;32m    151\u001B[0m message: BaseMessage\n\u001B[1;32m    153\u001B[0m \u001B[43m\u001B[49m\u001B[38;5;129;43m@root_validator\u001B[39;49m\n\u001B[0;32m--> 154\u001B[0m \u001B[43m\u001B[49m\u001B[38;5;28;43;01mdef\u001B[39;49;00m\u001B[43m \u001B[49m\u001B[38;5;21;43mset_text\u001B[39;49m\u001B[43m(\u001B[49m\u001B[38;5;28;43mcls\u001B[39;49m\u001B[43m,\u001B[49m\u001B[43m \u001B[49m\u001B[43mvalues\u001B[49m\u001B[43m:\u001B[49m\u001B[43m \u001B[49m\u001B[43mDict\u001B[49m\u001B[43m[\u001B[49m\u001B[38;5;28;43mstr\u001B[39;49m\u001B[43m,\u001B[49m\u001B[43m \u001B[49m\u001B[43mAny\u001B[49m\u001B[43m]\u001B[49m\u001B[43m)\u001B[49m\u001B[43m \u001B[49m\u001B[38;5;241;43m-\u001B[39;49m\u001B[38;5;241;43m>\u001B[39;49m\u001B[43m \u001B[49m\u001B[43mDict\u001B[49m\u001B[43m[\u001B[49m\u001B[38;5;28;43mstr\u001B[39;49m\u001B[43m,\u001B[49m\u001B[43m \u001B[49m\u001B[43mAny\u001B[49m\u001B[43m]\u001B[49m\u001B[43m:\u001B[49m\n\u001B[1;32m    155\u001B[0m \u001B[43m    \u001B[49m\u001B[43mvalues\u001B[49m\u001B[43m[\u001B[49m\u001B[38;5;124;43m\"\u001B[39;49m\u001B[38;5;124;43mtext\u001B[39;49m\u001B[38;5;124;43m\"\u001B[39;49m\u001B[43m]\u001B[49m\u001B[43m \u001B[49m\u001B[38;5;241;43m=\u001B[39;49m\u001B[43m \u001B[49m\u001B[43mvalues\u001B[49m\u001B[43m[\u001B[49m\u001B[38;5;124;43m\"\u001B[39;49m\u001B[38;5;124;43mmessage\u001B[39;49m\u001B[38;5;124;43m\"\u001B[39;49m\u001B[43m]\u001B[49m\u001B[38;5;241;43m.\u001B[39;49m\u001B[43mcontent\u001B[49m\n\u001B[1;32m    156\u001B[0m \u001B[43m    \u001B[49m\u001B[38;5;28;43;01mreturn\u001B[39;49;00m\u001B[43m \u001B[49m\u001B[43mvalues\u001B[49m\n\nFile \u001B[0;32m/local_disk0/.ephemeral_nfs/envs/pythonEnv-94e77d9d-6207-41f3-9169-8d0202feb5a9/lib/python3.10/site-packages/pydantic/deprecated/class_validators.py:231\u001B[0m, in \u001B[0;36mroot_validator\u001B[0;34m(pre, skip_on_failure, allow_reuse, *__args)\u001B[0m\n\u001B[1;32m    221\u001B[0m warn(\n\u001B[1;32m    222\u001B[0m     \u001B[38;5;124m'\u001B[39m\u001B[38;5;124mPydantic V1 style `@root_validator` validators are deprecated.\u001B[39m\u001B[38;5;124m'\u001B[39m\n\u001B[1;32m    223\u001B[0m     \u001B[38;5;124m'\u001B[39m\u001B[38;5;124m You should migrate to Pydantic V2 style `@model_validator` validators,\u001B[39m\u001B[38;5;124m'\u001B[39m\n\u001B[0;32m   (...)\u001B[0m\n\u001B[1;32m    226\u001B[0m     stacklevel\u001B[38;5;241m=\u001B[39m\u001B[38;5;241m2\u001B[39m,\n\u001B[1;32m    227\u001B[0m )\n\u001B[1;32m    229\u001B[0m \u001B[38;5;28;01mif\u001B[39;00m __args:\n\u001B[1;32m    230\u001B[0m     \u001B[38;5;66;03m# Ensure a nice error is raised if someone attempts to use the bare decorator\u001B[39;00m\n\u001B[0;32m--> 231\u001B[0m     \u001B[38;5;28;01mreturn\u001B[39;00m \u001B[43mroot_validator\u001B[49m\u001B[43m(\u001B[49m\u001B[43m)\u001B[49m(\u001B[38;5;241m*\u001B[39m__args)  \u001B[38;5;66;03m# type: ignore\u001B[39;00m\n\u001B[1;32m    233\u001B[0m \u001B[38;5;28;01mif\u001B[39;00m allow_reuse \u001B[38;5;129;01mis\u001B[39;00m \u001B[38;5;28;01mTrue\u001B[39;00m:  \u001B[38;5;66;03m# pragma: no cover\u001B[39;00m\n\u001B[1;32m    234\u001B[0m     warn(_ALLOW_REUSE_WARNING_MESSAGE, \u001B[38;5;167;01mDeprecationWarning\u001B[39;00m)\n\nFile \u001B[0;32m/local_disk0/.ephemeral_nfs/envs/pythonEnv-94e77d9d-6207-41f3-9169-8d0202feb5a9/lib/python3.10/site-packages/pydantic/deprecated/class_validators.py:237\u001B[0m, in \u001B[0;36mroot_validator\u001B[0;34m(pre, skip_on_failure, allow_reuse, *__args)\u001B[0m\n\u001B[1;32m    235\u001B[0m mode: Literal[\u001B[38;5;124m'\u001B[39m\u001B[38;5;124mbefore\u001B[39m\u001B[38;5;124m'\u001B[39m, \u001B[38;5;124m'\u001B[39m\u001B[38;5;124mafter\u001B[39m\u001B[38;5;124m'\u001B[39m] \u001B[38;5;241m=\u001B[39m \u001B[38;5;124m'\u001B[39m\u001B[38;5;124mbefore\u001B[39m\u001B[38;5;124m'\u001B[39m \u001B[38;5;28;01mif\u001B[39;00m pre \u001B[38;5;129;01mis\u001B[39;00m \u001B[38;5;28;01mTrue\u001B[39;00m \u001B[38;5;28;01melse\u001B[39;00m \u001B[38;5;124m'\u001B[39m\u001B[38;5;124mafter\u001B[39m\u001B[38;5;124m'\u001B[39m\n\u001B[1;32m    236\u001B[0m \u001B[38;5;28;01mif\u001B[39;00m pre \u001B[38;5;129;01mis\u001B[39;00m \u001B[38;5;28;01mFalse\u001B[39;00m \u001B[38;5;129;01mand\u001B[39;00m skip_on_failure \u001B[38;5;129;01mis\u001B[39;00m \u001B[38;5;129;01mnot\u001B[39;00m \u001B[38;5;28;01mTrue\u001B[39;00m:\n\u001B[0;32m--> 237\u001B[0m     \u001B[38;5;28;01mraise\u001B[39;00m PydanticUserError(\n\u001B[1;32m    238\u001B[0m         \u001B[38;5;124m'\u001B[39m\u001B[38;5;124mIf you use `@root_validator` with pre=False (the default) you MUST specify `skip_on_failure=True`.\u001B[39m\u001B[38;5;124m'\u001B[39m\n\u001B[1;32m    239\u001B[0m         \u001B[38;5;124m'\u001B[39m\u001B[38;5;124m Note that `@root_validator` is deprecated and should be replaced with `@model_validator`.\u001B[39m\u001B[38;5;124m'\u001B[39m,\n\u001B[1;32m    240\u001B[0m         code\u001B[38;5;241m=\u001B[39m\u001B[38;5;124m'\u001B[39m\u001B[38;5;124mroot-validator-pre-skip\u001B[39m\u001B[38;5;124m'\u001B[39m,\n\u001B[1;32m    241\u001B[0m     )\n\u001B[1;32m    243\u001B[0m wrap \u001B[38;5;241m=\u001B[39m partial(_decorators_v1\u001B[38;5;241m.\u001B[39mmake_v1_generic_root_validator, pre\u001B[38;5;241m=\u001B[39mpre)\n\u001B[1;32m    245\u001B[0m \u001B[38;5;28;01mdef\u001B[39;00m \u001B[38;5;21mdec\u001B[39m(f: Callable[\u001B[38;5;241m.\u001B[39m\u001B[38;5;241m.\u001B[39m\u001B[38;5;241m.\u001B[39m, Any] \u001B[38;5;241m|\u001B[39m \u001B[38;5;28mclassmethod\u001B[39m[Any, Any, Any] \u001B[38;5;241m|\u001B[39m \u001B[38;5;28mstaticmethod\u001B[39m[Any, Any]) \u001B[38;5;241m-\u001B[39m\u001B[38;5;241m>\u001B[39m Any:\n\n\u001B[0;31mPydanticUserError\u001B[0m: If you use `@root_validator` with pre=False (the default) you MUST specify `skip_on_failure=True`. Note that `@root_validator` is deprecated and should be replaced with `@model_validator`.\n\nFor further information visit https://errors.pydantic.dev/2.5/u/root-validator-pre-skip",
       "errorSummary": "<span class='ansi-red-fg'>PydanticUserError</span>: If you use `@root_validator` with pre=False (the default) you MUST specify `skip_on_failure=True`. Note that `@root_validator` is deprecated and should be replaced with `@model_validator`.\n\nFor further information visit https://errors.pydantic.dev/2.5/u/root-validator-pre-skip",
       "errorTraceType": "ansi",
       "metadata": {},
       "type": "ipynbError"
      }
     },
     "output_type": "display_data"
    }
   ],
   "source": [
    "from langchain.llms import HuggingFacePipeline\n",
    "from langchain.document_loaders import TextLoader\n",
    "from langchain.text_splitter import RecursiveCharacterTextSplitter\n",
    "from langchain.embeddings import HuggingFaceEmbeddings\n",
    "from langchain.chains import RetrievalQA\n",
    "from langchain.vectorstores import Chroma"
   ]
  },
  {
   "cell_type": "code",
   "execution_count": 0,
   "metadata": {
    "application/vnd.databricks.v1+cell": {
     "cellMetadata": {
      "byteLimit": 2048000,
      "rowLimit": 10000
     },
     "inputWidgets": {},
     "nuid": "dce8eaac-f389-46c7-8b48-b27c5202eda9",
     "showTitle": false,
     "title": ""
    }
   },
   "outputs": [
    {
     "output_type": "display_data",
     "data": {
      "text/plain": [
       "\u001B[0;31m---------------------------------------------------------------------------\u001B[0m\n",
       "\u001B[0;31mNameError\u001B[0m                                 Traceback (most recent call last)\n",
       "File \u001B[0;32m<command-2358992249830478>:3\u001B[0m\n",
       "\u001B[1;32m      1\u001B[0m \u001B[38;5;28;01mimport\u001B[39;00m \u001B[38;5;21;01mpandas\u001B[39;00m \u001B[38;5;28;01mas\u001B[39;00m \u001B[38;5;21;01mpd\u001B[39;00m\n",
       "\u001B[1;32m      2\u001B[0m data\u001B[38;5;241m=\u001B[39mpd\u001B[38;5;241m.\u001B[39mread_csv(\u001B[38;5;124m\"\u001B[39m\u001B[38;5;124mfile:/Workspace/Users/shalu.tyagi@hdfcbank.com/Dataforfinetuning.csv\u001B[39m\u001B[38;5;124m\"\u001B[39m)\n",
       "\u001B[0;32m----> 3\u001B[0m loader \u001B[38;5;241m=\u001B[39m TextLoader(data,encoding\u001B[38;5;241m=\u001B[39m\u001B[38;5;124m\"\u001B[39m\u001B[38;5;124mutf8\u001B[39m\u001B[38;5;124m\"\u001B[39m)\n",
       "\u001B[1;32m      4\u001B[0m documents \u001B[38;5;241m=\u001B[39m loader\u001B[38;5;241m.\u001B[39mload()\n",
       "\n",
       "\u001B[0;31mNameError\u001B[0m: name 'TextLoader' is not defined"
      ]
     },
     "metadata": {
      "application/vnd.databricks.v1+output": {
       "arguments": {},
       "data": "\u001B[0;31m---------------------------------------------------------------------------\u001B[0m\n\u001B[0;31mNameError\u001B[0m                                 Traceback (most recent call last)\nFile \u001B[0;32m<command-2358992249830478>:3\u001B[0m\n\u001B[1;32m      1\u001B[0m \u001B[38;5;28;01mimport\u001B[39;00m \u001B[38;5;21;01mpandas\u001B[39;00m \u001B[38;5;28;01mas\u001B[39;00m \u001B[38;5;21;01mpd\u001B[39;00m\n\u001B[1;32m      2\u001B[0m data\u001B[38;5;241m=\u001B[39mpd\u001B[38;5;241m.\u001B[39mread_csv(\u001B[38;5;124m\"\u001B[39m\u001B[38;5;124mfile:/Workspace/Users/shalu.tyagi@hdfcbank.com/Dataforfinetuning.csv\u001B[39m\u001B[38;5;124m\"\u001B[39m)\n\u001B[0;32m----> 3\u001B[0m loader \u001B[38;5;241m=\u001B[39m TextLoader(data,encoding\u001B[38;5;241m=\u001B[39m\u001B[38;5;124m\"\u001B[39m\u001B[38;5;124mutf8\u001B[39m\u001B[38;5;124m\"\u001B[39m)\n\u001B[1;32m      4\u001B[0m documents \u001B[38;5;241m=\u001B[39m loader\u001B[38;5;241m.\u001B[39mload()\n\n\u001B[0;31mNameError\u001B[0m: name 'TextLoader' is not defined",
       "errorSummary": "<span class='ansi-red-fg'>NameError</span>: name 'TextLoader' is not defined",
       "errorTraceType": "ansi",
       "metadata": {},
       "type": "ipynbError"
      }
     },
     "output_type": "display_data"
    }
   ],
   "source": [
    "import pandas as pd\n",
    "data=pd.read_csv(\"file:/Workspace/Users/shalu.tyagi@hdfcbank.com/Dataforfinetuning.csv\")\n",
    "loader = TextLoader(data,encoding=\"utf8\")\n",
    "documents = loader.load()"
   ]
  },
  {
   "cell_type": "code",
   "execution_count": 0,
   "metadata": {
    "application/vnd.databricks.v1+cell": {
     "cellMetadata": {
      "byteLimit": 2048000,
      "rowLimit": 10000
     },
     "inputWidgets": {},
     "nuid": "6cf67210-cfd4-4fad-ae24-6ab1acf633dd",
     "showTitle": false,
     "title": ""
    }
   },
   "outputs": [
    {
     "output_type": "stream",
     "name": "stdout",
     "output_type": "stream",
     "text": [
      "\u001B[43mNote: you may need to restart the kernel using dbutils.library.restartPython() to use updated packages.\u001B[0m\nCollecting dbdemos\n  Downloading dbdemos-0.3.40-py3-none-any.whl (38.9 MB)\n     ━━━━━━━━━━━━━━━━━━━━━━━━━━━━━━━━━━━━━━━━ 38.9/38.9 MB 54.7 MB/s eta 0:00:00\nRequirement already satisfied: pandas in /databricks/python3/lib/python3.10/site-packages (from dbdemos) (1.4.4)\nCollecting dbsqlclone\n  Downloading dbsqlclone-0.1.24-py3-none-any.whl (11 kB)\nRequirement already satisfied: requests in /databricks/python3/lib/python3.10/site-packages (from dbdemos) (2.28.1)\nRequirement already satisfied: numpy>=1.21.0 in /databricks/python3/lib/python3.10/site-packages (from pandas->dbdemos) (1.21.5)\nRequirement already satisfied: pytz>=2020.1 in /databricks/python3/lib/python3.10/site-packages (from pandas->dbdemos) (2022.1)\nRequirement already satisfied: python-dateutil>=2.8.1 in /databricks/python3/lib/python3.10/site-packages (from pandas->dbdemos) (2.8.2)\nRequirement already satisfied: certifi>=2017.4.17 in /databricks/python3/lib/python3.10/site-packages (from requests->dbdemos) (2022.9.14)\nRequirement already satisfied: urllib3<1.27,>=1.21.1 in /databricks/python3/lib/python3.10/site-packages (from requests->dbdemos) (1.26.11)\nRequirement already satisfied: idna<4,>=2.5 in /databricks/python3/lib/python3.10/site-packages (from requests->dbdemos) (3.3)\nRequirement already satisfied: charset-normalizer<3,>=2 in /databricks/python3/lib/python3.10/site-packages (from requests->dbdemos) (2.0.4)\nRequirement already satisfied: six>=1.5 in /usr/lib/python3/dist-packages (from python-dateutil>=2.8.1->pandas->dbdemos) (1.16.0)\nInstalling collected packages: dbsqlclone, dbdemos\nSuccessfully installed dbdemos-0.3.40 dbsqlclone-0.1.24\n\u001B[43mNote: you may need to restart the kernel using dbutils.library.restartPython() to use updated packages.\u001B[0m\n"
     ]
    }
   ],
   "source": [
    "%pip install dbdemos"
   ]
  },
  {
   "cell_type": "code",
   "execution_count": 0,
   "metadata": {
    "application/vnd.databricks.v1+cell": {
     "cellMetadata": {
      "byteLimit": 2048000,
      "rowLimit": 10000
     },
     "inputWidgets": {},
     "nuid": "611ea735-6d7d-49e3-af5d-9cfa5a37db54",
     "showTitle": false,
     "title": ""
    }
   },
   "outputs": [
    {
     "output_type": "stream",
     "name": "stdout",
     "output_type": "stream",
     "text": [
      "\u001B[43mNote: you may need to restart the kernel using dbutils.library.restartPython() to use updated packages.\u001B[0m\nCollecting pydantic==1.10.9\n  Downloading pydantic-1.10.9-cp310-cp310-manylinux_2_17_x86_64.manylinux2014_x86_64.whl (3.1 MB)\n     ━━━━━━━━━━━━━━━━━━━━━━━━━━━━━━━━━━━━━━━━ 3.1/3.1 MB 10.4 MB/s eta 0:00:00\nRequirement already satisfied: typing-extensions>=4.2.0 in /local_disk0/.ephemeral_nfs/envs/pythonEnv-3a4f20d4-e668-4c45-9cf1-c642200c074f/lib/python3.10/site-packages (from pydantic==1.10.9) (4.8.0)\nInstalling collected packages: pydantic\n  Attempting uninstall: pydantic\n    Found existing installation: pydantic 2.5.2\n    Uninstalling pydantic-2.5.2:\n      Successfully uninstalled pydantic-2.5.2\nERROR: pip's dependency resolver does not currently take into account all the packages that are installed. This behaviour is the source of the following dependency conflicts.\ngradio 4.7.1 requires pydantic>=2.0, but you have pydantic 1.10.9 which is incompatible.\nspacy 3.5.3 requires typer<0.8.0,>=0.3.0, but you have typer 0.9.0 which is incompatible.\nSuccessfully installed pydantic-1.10.9\n\u001B[43mNote: you may need to restart the kernel using dbutils.library.restartPython() to use updated packages.\u001B[0m\n"
     ]
    }
   ],
   "source": [
    "%pip install pydantic==1.10.9"
   ]
  },
  {
   "cell_type": "code",
   "execution_count": 0,
   "metadata": {
    "application/vnd.databricks.v1+cell": {
     "cellMetadata": {
      "byteLimit": 2048000,
      "rowLimit": 10000
     },
     "inputWidgets": {},
     "nuid": "55666897-4b84-4e7f-a9cb-8f83cee052dd",
     "showTitle": false,
     "title": ""
    }
   },
   "outputs": [
    {
     "output_type": "stream",
     "name": "stdout",
     "output_type": "stream",
     "text": [
      "Unauthorized call. Check your PAT token {\"error_code\":\"PERMISSION_DENIED\",\"message\":\"shalu.tyagi@hdfcbank.com is not authorized to perform this action. Please contact your administrator.\"} - https://dbc-eb788f31-6c73.cloud.databricks.com/api/2.0/sql/config/warehouses?limit=1 - https://dbc-eb788f31-6c73.cloud.databricks.com/api/2.0/sql/config/warehouses\nInstalling demo llm-rag-chatbot under /Users/shalu.tyagi@hdfcbank.com, please wait...\nHelp us improving dbdemos, share your feedback or create an issue if something isn't working: https://github.com/databricks-demos/dbdemos\n"
     ]
    },
    {
     "output_type": "display_data",
     "data": {
      "text/html": [
       "\n",
       "    <style>\n",
       "    .dbdemos_install{\n",
       "                        font-family: -apple-system,BlinkMacSystemFont,Segoe UI,Roboto,Helvetica Neue,Arial,Noto Sans,sans-serif,Apple Color Emoji,Segoe UI Emoji,Segoe UI Symbol,Noto Color Emoji,FontAwesome;\n",
       "    color: #3b3b3b;\n",
       "    box-shadow: 0 .15rem 1.15rem 0 rgba(58,59,69,.15)!important;\n",
       "    padding: 10px;\n",
       "    margin: 10px;\n",
       "    }\n",
       "    .dbdemos_block{\n",
       "        display: block !important;\n",
       "    }\n",
       "    .code {\n",
       "        padding: 5px;\n",
       "        border: 1px solid #e4e4e4;\n",
       "        font-family: monospace;\n",
       "        background-color: #f5f5f5;\n",
       "        margin: 5px 0px 0px 0px;\n",
       "        display: inline;\n",
       "    }\n",
       "    .subfolder {\n",
       "        padding-left: 30px;\n",
       "    }\n",
       "    .notebook {\n",
       "        margin-bottom: 3px;\n",
       "    }\n",
       "    .dbdemos_install a {\n",
       "        color: #3835a4;\n",
       "    }\n",
       "    .container_dbdemos {\n",
       "        padding-left: 20px;\n",
       "    }\n",
       "    .path_desc {\n",
       "        color: #928e9b;\n",
       "        font-style: oblique;\n",
       "    }\n",
       "    </style>\n",
       "                        <div class=\"dbdemos_install\"><h2 style=\"color: #4875c2\">Installation in progress...</h2>\n",
       "                            This demo supports custom UC schema! The default schema is main.rag_chatbot.\n",
       "                To install it somewhere else, run <div class=\"code dbdemos_block\">dbdemos.install('llm-rag-chatbot', catalog='xxx', schema='xxx')</div><br/>\n",
       "                        </div>"
      ]
     },
     "metadata": {},
     "output_type": "display_data"
    },
    {
     "output_type": "stream",
     "name": "stdout",
     "output_type": "stream",
     "text": [
      "Unauthorized call. Check your PAT token {\"error_code\":\"PERMISSION_DENIED\",\"message\":\"You are not authorized to create clusters. Please contact your administrator.\",\"details\":[{\"@type\":\"type.googleapis.com/google.rpc.ErrorInfo\",\"reason\":\"CM_API_ERROR_SOURCE_CALLER_ERROR\",\"domain\":\"\"}]} - https://dbc-eb788f31-6c73.cloud.databricks.com/api/2.0/clusters/create - https://dbc-eb788f31-6c73.cloud.databricks.com/api/2.0/clusters/create\n"
     ]
    },
    {
     "output_type": "display_data",
     "data": {
      "text/html": [
       "\n",
       "    <style>\n",
       "    .dbdemos_install{\n",
       "                        font-family: -apple-system,BlinkMacSystemFont,Segoe UI,Roboto,Helvetica Neue,Arial,Noto Sans,sans-serif,Apple Color Emoji,Segoe UI Emoji,Segoe UI Symbol,Noto Color Emoji,FontAwesome;\n",
       "    color: #3b3b3b;\n",
       "    box-shadow: 0 .15rem 1.15rem 0 rgba(58,59,69,.15)!important;\n",
       "    padding: 10px;\n",
       "    margin: 10px;\n",
       "    }\n",
       "    .dbdemos_block{\n",
       "        display: block !important;\n",
       "    }\n",
       "    .code {\n",
       "        padding: 5px;\n",
       "        border: 1px solid #e4e4e4;\n",
       "        font-family: monospace;\n",
       "        background-color: #f5f5f5;\n",
       "        margin: 5px 0px 0px 0px;\n",
       "        display: inline;\n",
       "    }\n",
       "    .subfolder {\n",
       "        padding-left: 30px;\n",
       "    }\n",
       "    .notebook {\n",
       "        margin-bottom: 3px;\n",
       "    }\n",
       "    .dbdemos_install a {\n",
       "        color: #3835a4;\n",
       "    }\n",
       "    .container_dbdemos {\n",
       "        padding-left: 20px;\n",
       "    }\n",
       "    .path_desc {\n",
       "        color: #928e9b;\n",
       "        font-style: oblique;\n",
       "    }\n",
       "    </style><div class=\"dbdemos_install\">\n",
       "                      <h1 style=\"color: #eb0707\">Installation error: Can't create cluster for demo llm-rag-chatbot</h1> \n",
       "                        By default, dbdemos try to create a new cluster for your demo with the proper settings. <br/>If you don't have cluster creation permission, dbdemos can use the current cluster to run the content.<br/>For the demo to run properly, <strong>make sure your cluster has UC enabled and using Databricks Runtime (DBR) version 13.3.x-scala2.12</strong>.<br/><div class=\"code dbdemos_block\">dbdemos.install('llm-rag-chatbot', use_current_cluster = True)</div><br/><strong>Cluster creation details</strong><br/>Full cluster configuration: <div class=\"code dbdemos_block\">{\"autoscale\": {\"min_workers\": 1, \"max_workers\": 1}, \"cluster_name\": \"dbdemos-llm-rag-chatbot-shalu_tyagi\", \"spark_version\": \"13.3.x-scala2.12\", \"spark_conf\": {\"spark.databricks.dataLineage.enabled\": \"true\"}, \"ssh_public_keys\": [], \"custom_tags\": {\"project\": \"dbdemos\", \"demo\": \"llm-rag-chatbot\"}, \"spark_env_vars\": {}, \"autotermination_minutes\": 60, \"clus4ter_source\": \"UI\", \"init_scripts\": [], \"runtime_engine\": \"STANDARD\", \"node_type_id\": \"i3.xlarge\", \"aws_attributes\": {\"first_on_demand\": 1, \"availability\": \"SPOT_WITH_FALLBACK\", \"instance_profile_arn\": null, \"spot_bid_price_percent\": 100, \"ebs_volume_count\": 0}, \"single_user_name\": \"shalu.tyagi@hdfcbank.com\", \"data_security_mode\": \"SINGLE_USER\"}.</div><br/>Full error: <div class=\"code dbdemos_block\">{\"error_code\": \"PERMISSION_DENIED\", \"message\": \"You are not authorized to create clusters. Please contact your administrator.\", \"details\": [{\"@type\": \"type.googleapis.com/google.rpc.ErrorInfo\", \"reason\": \"CM_API_ERROR_SOURCE_CALLER_ERROR\", \"domain\": \"\"}]}</div>\n",
       "                      </div>"
      ]
     },
     "metadata": {},
     "output_type": "display_data"
    },
    {
     "output_type": "display_data",
     "data": {
      "text/plain": [
       "\u001B[0;31m---------------------------------------------------------------------------\u001B[0m\n",
       "\u001B[0;31mClusterPermissionException\u001B[0m                Traceback (most recent call last)\n",
       "File \u001B[0;32m<command-2358992249830484>:2\u001B[0m\n",
       "\u001B[1;32m      1\u001B[0m \u001B[38;5;28;01mimport\u001B[39;00m \u001B[38;5;21;01mdbdemos\u001B[39;00m\n",
       "\u001B[0;32m----> 2\u001B[0m dbdemos\u001B[38;5;241m.\u001B[39minstall(\u001B[38;5;124m'\u001B[39m\u001B[38;5;124mllm-rag-chatbot\u001B[39m\u001B[38;5;124m'\u001B[39m)\n",
       "\n",
       "File \u001B[0;32m/local_disk0/.ephemeral_nfs/envs/pythonEnv-94e77d9d-6207-41f3-9169-8d0202feb5a9/lib/python3.10/site-packages/dbdemos/dbdemos.py:241\u001B[0m, in \u001B[0;36minstall\u001B[0;34m(demo_name, path, overwrite, username, pat_token, workspace_url, skip_dashboards, cloud, start_cluster, use_current_cluster, current_cluster_id, install_dashboard_sequentially, debug, catalog, schema)\u001B[0m\n",
       "\u001B[1;32m    238\u001B[0m \u001B[38;5;28;01mif\u001B[39;00m \u001B[38;5;129;01mnot\u001B[39;00m installer\u001B[38;5;241m.\u001B[39mtest_premium_pricing():\n",
       "\u001B[1;32m    239\u001B[0m     \u001B[38;5;66;03m#Force dashboard skip as dbsql isn't available to avoid any error.\u001B[39;00m\n",
       "\u001B[1;32m    240\u001B[0m     skip_dashboards \u001B[38;5;241m=\u001B[39m \u001B[38;5;28;01mTrue\u001B[39;00m\n",
       "\u001B[0;32m--> 241\u001B[0m \u001B[43minstaller\u001B[49m\u001B[38;5;241;43m.\u001B[39;49m\u001B[43minstall_demo\u001B[49m\u001B[43m(\u001B[49m\u001B[43mdemo_name\u001B[49m\u001B[43m,\u001B[49m\u001B[43m \u001B[49m\u001B[43mpath\u001B[49m\u001B[43m,\u001B[49m\u001B[43m \u001B[49m\u001B[43moverwrite\u001B[49m\u001B[43m,\u001B[49m\u001B[43m \u001B[49m\u001B[43mskip_dashboards\u001B[49m\u001B[43m \u001B[49m\u001B[38;5;241;43m=\u001B[39;49m\u001B[43m \u001B[49m\u001B[43mskip_dashboards\u001B[49m\u001B[43m,\u001B[49m\u001B[43m \u001B[49m\u001B[43mstart_cluster\u001B[49m\u001B[43m \u001B[49m\u001B[38;5;241;43m=\u001B[39;49m\u001B[43m \u001B[49m\u001B[43mstart_cluster\u001B[49m\u001B[43m,\u001B[49m\u001B[43m \u001B[49m\u001B[43muse_current_cluster\u001B[49m\u001B[43m \u001B[49m\u001B[38;5;241;43m=\u001B[39;49m\u001B[43m \u001B[49m\u001B[43muse_current_cluster\u001B[49m\u001B[43m,\u001B[49m\u001B[43m \u001B[49m\u001B[43mdebug\u001B[49m\u001B[43m \u001B[49m\u001B[38;5;241;43m=\u001B[39;49m\u001B[43m \u001B[49m\u001B[43mdebug\u001B[49m\u001B[43m,\u001B[49m\u001B[43m \u001B[49m\u001B[43mcatalog\u001B[49m\u001B[43m \u001B[49m\u001B[38;5;241;43m=\u001B[39;49m\u001B[43m \u001B[49m\u001B[43mcatalog\u001B[49m\u001B[43m,\u001B[49m\u001B[43m \u001B[49m\u001B[43mschema\u001B[49m\u001B[43m \u001B[49m\u001B[38;5;241;43m=\u001B[39;49m\u001B[43m \u001B[49m\u001B[43mschema\u001B[49m\u001B[43m)\u001B[49m\n",
       "\n",
       "File \u001B[0;32m/local_disk0/.ephemeral_nfs/envs/pythonEnv-94e77d9d-6207-41f3-9169-8d0202feb5a9/lib/python3.10/site-packages/dbdemos/installer.py:200\u001B[0m, in \u001B[0;36mInstaller.install_demo\u001B[0;34m(self, demo_name, install_path, overwrite, update_cluster_if_exists, skip_dashboards, start_cluster, use_current_cluster, debug, catalog, schema)\u001B[0m\n",
       "\u001B[1;32m    198\u001B[0m     cluster_id, cluster_name \u001B[38;5;241m=\u001B[39m \u001B[38;5;28mself\u001B[39m\u001B[38;5;241m.\u001B[39mload_demo_cluster(demo_name, demo_conf, update_cluster_if_exists, start_cluster, use_cluster_id)\n",
       "\u001B[1;32m    199\u001B[0m \u001B[38;5;28;01mexcept\u001B[39;00m ClusterException \u001B[38;5;28;01mas\u001B[39;00m e:\n",
       "\u001B[0;32m--> 200\u001B[0m     \u001B[38;5;28;43mself\u001B[39;49m\u001B[38;5;241;43m.\u001B[39;49m\u001B[43mreport\u001B[49m\u001B[38;5;241;43m.\u001B[39;49m\u001B[43mdisplay_cluster_creation_error\u001B[49m\u001B[43m(\u001B[49m\u001B[43me\u001B[49m\u001B[43m,\u001B[49m\u001B[43m \u001B[49m\u001B[43mdemo_conf\u001B[49m\u001B[43m)\u001B[49m\n",
       "\u001B[1;32m    201\u001B[0m pipeline_ids \u001B[38;5;241m=\u001B[39m \u001B[38;5;28mself\u001B[39m\u001B[38;5;241m.\u001B[39mload_demo_pipelines(demo_name, demo_conf, debug)\n",
       "\u001B[1;32m    202\u001B[0m dashboards \u001B[38;5;241m=\u001B[39m [] \u001B[38;5;28;01mif\u001B[39;00m skip_dashboards \u001B[38;5;28;01melse\u001B[39;00m \u001B[38;5;28mself\u001B[39m\u001B[38;5;241m.\u001B[39minstall_dashboards(demo_conf, install_path, debug)\n",
       "\n",
       "File \u001B[0;32m/local_disk0/.ephemeral_nfs/envs/pythonEnv-94e77d9d-6207-41f3-9169-8d0202feb5a9/lib/python3.10/site-packages/dbdemos/installer_report.py:64\u001B[0m, in \u001B[0;36mInstallerReport.display_cluster_creation_error\u001B[0;34m(self, exception, demo_conf)\u001B[0m\n",
       "\u001B[1;32m     63\u001B[0m \u001B[38;5;28;01mdef\u001B[39;00m \u001B[38;5;21mdisplay_cluster_creation_error\u001B[39m(\u001B[38;5;28mself\u001B[39m, exception: ClusterCreationException, demo_conf: DemoConf):\n",
       "\u001B[0;32m---> 64\u001B[0m     \u001B[38;5;28;43mself\u001B[39;49m\u001B[38;5;241;43m.\u001B[39;49m\u001B[43mdisplay_error\u001B[49m\u001B[43m(\u001B[49m\u001B[43mexception\u001B[49m\u001B[43m,\u001B[49m\u001B[43m \u001B[49m\u001B[38;5;124;43mf\u001B[39;49m\u001B[38;5;124;43m\"\u001B[39;49m\u001B[38;5;124;43mBy default, dbdemos try to create a new cluster for your demo with the proper settings. <br/>\u001B[39;49m\u001B[38;5;124;43m\"\u001B[39;49m\n",
       "\u001B[1;32m     65\u001B[0m \u001B[43m                                  \u001B[49m\u001B[38;5;124;43mf\u001B[39;49m\u001B[38;5;124;43m\"\u001B[39;49m\u001B[38;5;124;43mIf you don\u001B[39;49m\u001B[38;5;124;43m'\u001B[39;49m\u001B[38;5;124;43mt have cluster creation permission, dbdemos can use the current cluster to run the content.<br/>\u001B[39;49m\u001B[38;5;124;43m\"\u001B[39;49m\n",
       "\u001B[1;32m     66\u001B[0m \u001B[43m                                  \u001B[49m\u001B[38;5;124;43mf\u001B[39;49m\u001B[38;5;124;43m\"\u001B[39;49m\u001B[38;5;124;43mFor the demo to run properly, <strong>make sure your cluster has UC enabled and using Databricks Runtime (DBR) version \u001B[39;49m\u001B[38;5;132;43;01m{\u001B[39;49;00m\u001B[43mexception\u001B[49m\u001B[38;5;241;43m.\u001B[39;49m\u001B[43mcluster_conf\u001B[49m\u001B[43m[\u001B[49m\u001B[38;5;124;43m'\u001B[39;49m\u001B[38;5;124;43mspark_version\u001B[39;49m\u001B[38;5;124;43m'\u001B[39;49m\u001B[43m]\u001B[49m\u001B[38;5;132;43;01m}\u001B[39;49;00m\u001B[38;5;124;43m</strong>.<br/>\u001B[39;49m\u001B[38;5;124;43m\"\u001B[39;49m\n",
       "\u001B[1;32m     67\u001B[0m \u001B[43m                                  \u001B[49m\u001B[38;5;124;43mf\u001B[39;49m\u001B[38;5;124;43m\"\"\"\u001B[39;49m\u001B[38;5;124;43m<div class=\u001B[39;49m\u001B[38;5;124;43m\"\u001B[39;49m\u001B[38;5;124;43mcode dbdemos_block\u001B[39;49m\u001B[38;5;124;43m\"\u001B[39;49m\u001B[38;5;124;43m>dbdemos.install(\u001B[39;49m\u001B[38;5;124;43m'\u001B[39;49m\u001B[38;5;132;43;01m{\u001B[39;49;00m\u001B[43mdemo_conf\u001B[49m\u001B[38;5;241;43m.\u001B[39;49m\u001B[43mname\u001B[49m\u001B[38;5;132;43;01m}\u001B[39;49;00m\u001B[38;5;124;43m'\u001B[39;49m\u001B[38;5;124;43m, use_current_cluster = True)</div><br/>\u001B[39;49m\u001B[38;5;124;43m\"\"\"\u001B[39;49m\n",
       "\u001B[1;32m     68\u001B[0m \u001B[43m                                  \u001B[49m\u001B[38;5;124;43mf\u001B[39;49m\u001B[38;5;124;43m\"\u001B[39;49m\u001B[38;5;124;43m<strong>Cluster creation details</strong><br/>\u001B[39;49m\u001B[38;5;124;43m\"\u001B[39;49m\n",
       "\u001B[1;32m     69\u001B[0m \u001B[43m                                  \u001B[49m\u001B[38;5;124;43mf\u001B[39;49m\u001B[38;5;124;43m\"\"\"\u001B[39;49m\u001B[38;5;124;43mFull cluster configuration: <div class=\u001B[39;49m\u001B[38;5;124;43m\"\u001B[39;49m\u001B[38;5;124;43mcode dbdemos_block\u001B[39;49m\u001B[38;5;124;43m\"\u001B[39;49m\u001B[38;5;124;43m>\u001B[39;49m\u001B[38;5;132;43;01m{\u001B[39;49;00m\u001B[43mjson\u001B[49m\u001B[38;5;241;43m.\u001B[39;49m\u001B[43mdumps\u001B[49m\u001B[43m(\u001B[49m\u001B[43mexception\u001B[49m\u001B[38;5;241;43m.\u001B[39;49m\u001B[43mcluster_conf\u001B[49m\u001B[43m)\u001B[49m\u001B[38;5;132;43;01m}\u001B[39;49;00m\u001B[38;5;124;43m.</div><br/>\u001B[39;49m\u001B[38;5;124;43m\"\"\"\u001B[39;49m\n",
       "\u001B[1;32m     70\u001B[0m \u001B[43m                                  \u001B[49m\u001B[38;5;124;43mf\u001B[39;49m\u001B[38;5;124;43m\"\"\"\u001B[39;49m\u001B[38;5;124;43mFull error: <div class=\u001B[39;49m\u001B[38;5;124;43m\"\u001B[39;49m\u001B[38;5;124;43mcode dbdemos_block\u001B[39;49m\u001B[38;5;124;43m\"\u001B[39;49m\u001B[38;5;124;43m>\u001B[39;49m\u001B[38;5;132;43;01m{\u001B[39;49;00m\u001B[43mjson\u001B[49m\u001B[38;5;241;43m.\u001B[39;49m\u001B[43mdumps\u001B[49m\u001B[43m(\u001B[49m\u001B[43mexception\u001B[49m\u001B[38;5;241;43m.\u001B[39;49m\u001B[43mresponse\u001B[49m\u001B[43m)\u001B[49m\u001B[38;5;132;43;01m}\u001B[39;49;00m\u001B[38;5;124;43m</div>\u001B[39;49m\u001B[38;5;124;43m\"\"\"\u001B[39;49m\u001B[43m)\u001B[49m\n",
       "\n",
       "File \u001B[0;32m/local_disk0/.ephemeral_nfs/envs/pythonEnv-94e77d9d-6207-41f3-9169-8d0202feb5a9/lib/python3.10/site-packages/dbdemos/installer_report.py:177\u001B[0m, in \u001B[0;36mInstallerReport.display_error\u001B[0;34m(self, exception, message, raise_error, warning)\u001B[0m\n",
       "\u001B[1;32m    175\u001B[0m     \u001B[38;5;28mprint\u001B[39m(error)\n",
       "\u001B[1;32m    176\u001B[0m \u001B[38;5;28;01mif\u001B[39;00m raise_error:\n",
       "\u001B[0;32m--> 177\u001B[0m     \u001B[38;5;28;01mraise\u001B[39;00m exception\n",
       "\n",
       "File \u001B[0;32m/local_disk0/.ephemeral_nfs/envs/pythonEnv-94e77d9d-6207-41f3-9169-8d0202feb5a9/lib/python3.10/site-packages/dbdemos/installer.py:198\u001B[0m, in \u001B[0;36mInstaller.install_demo\u001B[0;34m(self, demo_name, install_path, overwrite, update_cluster_if_exists, skip_dashboards, start_cluster, use_current_cluster, debug, catalog, schema)\u001B[0m\n",
       "\u001B[1;32m    196\u001B[0m use_cluster_id \u001B[38;5;241m=\u001B[39m \u001B[38;5;28mself\u001B[39m\u001B[38;5;241m.\u001B[39mcurrent_cluster_id \u001B[38;5;28;01mif\u001B[39;00m use_current_cluster \u001B[38;5;28;01melse\u001B[39;00m \u001B[38;5;28;01mNone\u001B[39;00m\n",
       "\u001B[1;32m    197\u001B[0m \u001B[38;5;28;01mtry\u001B[39;00m:\n",
       "\u001B[0;32m--> 198\u001B[0m     cluster_id, cluster_name \u001B[38;5;241m=\u001B[39m \u001B[38;5;28;43mself\u001B[39;49m\u001B[38;5;241;43m.\u001B[39;49m\u001B[43mload_demo_cluster\u001B[49m\u001B[43m(\u001B[49m\u001B[43mdemo_name\u001B[49m\u001B[43m,\u001B[49m\u001B[43m \u001B[49m\u001B[43mdemo_conf\u001B[49m\u001B[43m,\u001B[49m\u001B[43m \u001B[49m\u001B[43mupdate_cluster_if_exists\u001B[49m\u001B[43m,\u001B[49m\u001B[43m \u001B[49m\u001B[43mstart_cluster\u001B[49m\u001B[43m,\u001B[49m\u001B[43m \u001B[49m\u001B[43muse_cluster_id\u001B[49m\u001B[43m)\u001B[49m\n",
       "\u001B[1;32m    199\u001B[0m \u001B[38;5;28;01mexcept\u001B[39;00m ClusterException \u001B[38;5;28;01mas\u001B[39;00m e:\n",
       "\u001B[1;32m    200\u001B[0m     \u001B[38;5;28mself\u001B[39m\u001B[38;5;241m.\u001B[39mreport\u001B[38;5;241m.\u001B[39mdisplay_cluster_creation_error(e, demo_conf)\n",
       "\n",
       "File \u001B[0;32m/local_disk0/.ephemeral_nfs/envs/pythonEnv-94e77d9d-6207-41f3-9169-8d0202feb5a9/lib/python3.10/site-packages/dbdemos/installer.py:570\u001B[0m, in \u001B[0;36mInstaller.load_demo_cluster\u001B[0;34m(self, demo_name, demo_conf, update_cluster_if_exists, start_cluster, use_cluster_id)\u001B[0m\n",
       "\u001B[1;32m    568\u001B[0m cluster \u001B[38;5;241m=\u001B[39m \u001B[38;5;28mself\u001B[39m\u001B[38;5;241m.\u001B[39mdb\u001B[38;5;241m.\u001B[39mpost(\u001B[38;5;124m\"\u001B[39m\u001B[38;5;124m2.0/clusters/create\u001B[39m\u001B[38;5;124m\"\u001B[39m, json \u001B[38;5;241m=\u001B[39m cluster_conf)\n",
       "\u001B[1;32m    569\u001B[0m \u001B[38;5;28;01mif\u001B[39;00m \u001B[38;5;124m\"\u001B[39m\u001B[38;5;124merror_code\u001B[39m\u001B[38;5;124m\"\u001B[39m \u001B[38;5;129;01min\u001B[39;00m cluster \u001B[38;5;129;01mand\u001B[39;00m cluster[\u001B[38;5;124m\"\u001B[39m\u001B[38;5;124merror_code\u001B[39m\u001B[38;5;124m\"\u001B[39m] \u001B[38;5;241m==\u001B[39m \u001B[38;5;124m\"\u001B[39m\u001B[38;5;124mPERMISSION_DENIED\u001B[39m\u001B[38;5;124m\"\u001B[39m:\n",
       "\u001B[0;32m--> 570\u001B[0m     \u001B[38;5;28;01mraise\u001B[39;00m ClusterPermissionException(\u001B[38;5;124mf\u001B[39m\u001B[38;5;124m\"\u001B[39m\u001B[38;5;124mCan\u001B[39m\u001B[38;5;124m'\u001B[39m\u001B[38;5;124mt create cluster for demo \u001B[39m\u001B[38;5;132;01m{\u001B[39;00mdemo_name\u001B[38;5;132;01m}\u001B[39;00m\u001B[38;5;124m\"\u001B[39m, cluster_conf, cluster)\n",
       "\u001B[1;32m    571\u001B[0m \u001B[38;5;28;01mif\u001B[39;00m \u001B[38;5;124m\"\u001B[39m\u001B[38;5;124mcluster_id\u001B[39m\u001B[38;5;124m\"\u001B[39m \u001B[38;5;129;01mnot\u001B[39;00m \u001B[38;5;129;01min\u001B[39;00m cluster \u001B[38;5;129;01mor\u001B[39;00m \u001B[38;5;124m\"\u001B[39m\u001B[38;5;124merror_code\u001B[39m\u001B[38;5;124m\"\u001B[39m \u001B[38;5;129;01min\u001B[39;00m cluster:\n",
       "\u001B[1;32m    572\u001B[0m     \u001B[38;5;28mprint\u001B[39m(\u001B[38;5;124mf\u001B[39m\u001B[38;5;124m\"\u001B[39m\u001B[38;5;124m    WARN: couldn\u001B[39m\u001B[38;5;124m'\u001B[39m\u001B[38;5;124mt create the cluster for the demo: \u001B[39m\u001B[38;5;132;01m{\u001B[39;00mcluster\u001B[38;5;132;01m}\u001B[39;00m\u001B[38;5;124m\"\u001B[39m)\n",
       "\n",
       "\u001B[0;31mClusterPermissionException\u001B[0m: Can't create cluster for demo llm-rag-chatbot"
      ]
     },
     "metadata": {
      "application/vnd.databricks.v1+output": {
       "arguments": {},
       "data": "\u001B[0;31m---------------------------------------------------------------------------\u001B[0m\n\u001B[0;31mClusterPermissionException\u001B[0m                Traceback (most recent call last)\nFile \u001B[0;32m<command-2358992249830484>:2\u001B[0m\n\u001B[1;32m      1\u001B[0m \u001B[38;5;28;01mimport\u001B[39;00m \u001B[38;5;21;01mdbdemos\u001B[39;00m\n\u001B[0;32m----> 2\u001B[0m dbdemos\u001B[38;5;241m.\u001B[39minstall(\u001B[38;5;124m'\u001B[39m\u001B[38;5;124mllm-rag-chatbot\u001B[39m\u001B[38;5;124m'\u001B[39m)\n\nFile \u001B[0;32m/local_disk0/.ephemeral_nfs/envs/pythonEnv-94e77d9d-6207-41f3-9169-8d0202feb5a9/lib/python3.10/site-packages/dbdemos/dbdemos.py:241\u001B[0m, in \u001B[0;36minstall\u001B[0;34m(demo_name, path, overwrite, username, pat_token, workspace_url, skip_dashboards, cloud, start_cluster, use_current_cluster, current_cluster_id, install_dashboard_sequentially, debug, catalog, schema)\u001B[0m\n\u001B[1;32m    238\u001B[0m \u001B[38;5;28;01mif\u001B[39;00m \u001B[38;5;129;01mnot\u001B[39;00m installer\u001B[38;5;241m.\u001B[39mtest_premium_pricing():\n\u001B[1;32m    239\u001B[0m     \u001B[38;5;66;03m#Force dashboard skip as dbsql isn't available to avoid any error.\u001B[39;00m\n\u001B[1;32m    240\u001B[0m     skip_dashboards \u001B[38;5;241m=\u001B[39m \u001B[38;5;28;01mTrue\u001B[39;00m\n\u001B[0;32m--> 241\u001B[0m \u001B[43minstaller\u001B[49m\u001B[38;5;241;43m.\u001B[39;49m\u001B[43minstall_demo\u001B[49m\u001B[43m(\u001B[49m\u001B[43mdemo_name\u001B[49m\u001B[43m,\u001B[49m\u001B[43m \u001B[49m\u001B[43mpath\u001B[49m\u001B[43m,\u001B[49m\u001B[43m \u001B[49m\u001B[43moverwrite\u001B[49m\u001B[43m,\u001B[49m\u001B[43m \u001B[49m\u001B[43mskip_dashboards\u001B[49m\u001B[43m \u001B[49m\u001B[38;5;241;43m=\u001B[39;49m\u001B[43m \u001B[49m\u001B[43mskip_dashboards\u001B[49m\u001B[43m,\u001B[49m\u001B[43m \u001B[49m\u001B[43mstart_cluster\u001B[49m\u001B[43m \u001B[49m\u001B[38;5;241;43m=\u001B[39;49m\u001B[43m \u001B[49m\u001B[43mstart_cluster\u001B[49m\u001B[43m,\u001B[49m\u001B[43m \u001B[49m\u001B[43muse_current_cluster\u001B[49m\u001B[43m \u001B[49m\u001B[38;5;241;43m=\u001B[39;49m\u001B[43m \u001B[49m\u001B[43muse_current_cluster\u001B[49m\u001B[43m,\u001B[49m\u001B[43m \u001B[49m\u001B[43mdebug\u001B[49m\u001B[43m \u001B[49m\u001B[38;5;241;43m=\u001B[39;49m\u001B[43m \u001B[49m\u001B[43mdebug\u001B[49m\u001B[43m,\u001B[49m\u001B[43m \u001B[49m\u001B[43mcatalog\u001B[49m\u001B[43m \u001B[49m\u001B[38;5;241;43m=\u001B[39;49m\u001B[43m \u001B[49m\u001B[43mcatalog\u001B[49m\u001B[43m,\u001B[49m\u001B[43m \u001B[49m\u001B[43mschema\u001B[49m\u001B[43m \u001B[49m\u001B[38;5;241;43m=\u001B[39;49m\u001B[43m \u001B[49m\u001B[43mschema\u001B[49m\u001B[43m)\u001B[49m\n\nFile \u001B[0;32m/local_disk0/.ephemeral_nfs/envs/pythonEnv-94e77d9d-6207-41f3-9169-8d0202feb5a9/lib/python3.10/site-packages/dbdemos/installer.py:200\u001B[0m, in \u001B[0;36mInstaller.install_demo\u001B[0;34m(self, demo_name, install_path, overwrite, update_cluster_if_exists, skip_dashboards, start_cluster, use_current_cluster, debug, catalog, schema)\u001B[0m\n\u001B[1;32m    198\u001B[0m     cluster_id, cluster_name \u001B[38;5;241m=\u001B[39m \u001B[38;5;28mself\u001B[39m\u001B[38;5;241m.\u001B[39mload_demo_cluster(demo_name, demo_conf, update_cluster_if_exists, start_cluster, use_cluster_id)\n\u001B[1;32m    199\u001B[0m \u001B[38;5;28;01mexcept\u001B[39;00m ClusterException \u001B[38;5;28;01mas\u001B[39;00m e:\n\u001B[0;32m--> 200\u001B[0m     \u001B[38;5;28;43mself\u001B[39;49m\u001B[38;5;241;43m.\u001B[39;49m\u001B[43mreport\u001B[49m\u001B[38;5;241;43m.\u001B[39;49m\u001B[43mdisplay_cluster_creation_error\u001B[49m\u001B[43m(\u001B[49m\u001B[43me\u001B[49m\u001B[43m,\u001B[49m\u001B[43m \u001B[49m\u001B[43mdemo_conf\u001B[49m\u001B[43m)\u001B[49m\n\u001B[1;32m    201\u001B[0m pipeline_ids \u001B[38;5;241m=\u001B[39m \u001B[38;5;28mself\u001B[39m\u001B[38;5;241m.\u001B[39mload_demo_pipelines(demo_name, demo_conf, debug)\n\u001B[1;32m    202\u001B[0m dashboards \u001B[38;5;241m=\u001B[39m [] \u001B[38;5;28;01mif\u001B[39;00m skip_dashboards \u001B[38;5;28;01melse\u001B[39;00m \u001B[38;5;28mself\u001B[39m\u001B[38;5;241m.\u001B[39minstall_dashboards(demo_conf, install_path, debug)\n\nFile \u001B[0;32m/local_disk0/.ephemeral_nfs/envs/pythonEnv-94e77d9d-6207-41f3-9169-8d0202feb5a9/lib/python3.10/site-packages/dbdemos/installer_report.py:64\u001B[0m, in \u001B[0;36mInstallerReport.display_cluster_creation_error\u001B[0;34m(self, exception, demo_conf)\u001B[0m\n\u001B[1;32m     63\u001B[0m \u001B[38;5;28;01mdef\u001B[39;00m \u001B[38;5;21mdisplay_cluster_creation_error\u001B[39m(\u001B[38;5;28mself\u001B[39m, exception: ClusterCreationException, demo_conf: DemoConf):\n\u001B[0;32m---> 64\u001B[0m     \u001B[38;5;28;43mself\u001B[39;49m\u001B[38;5;241;43m.\u001B[39;49m\u001B[43mdisplay_error\u001B[49m\u001B[43m(\u001B[49m\u001B[43mexception\u001B[49m\u001B[43m,\u001B[49m\u001B[43m \u001B[49m\u001B[38;5;124;43mf\u001B[39;49m\u001B[38;5;124;43m\"\u001B[39;49m\u001B[38;5;124;43mBy default, dbdemos try to create a new cluster for your demo with the proper settings. <br/>\u001B[39;49m\u001B[38;5;124;43m\"\u001B[39;49m\n\u001B[1;32m     65\u001B[0m \u001B[43m                                  \u001B[49m\u001B[38;5;124;43mf\u001B[39;49m\u001B[38;5;124;43m\"\u001B[39;49m\u001B[38;5;124;43mIf you don\u001B[39;49m\u001B[38;5;124;43m'\u001B[39;49m\u001B[38;5;124;43mt have cluster creation permission, dbdemos can use the current cluster to run the content.<br/>\u001B[39;49m\u001B[38;5;124;43m\"\u001B[39;49m\n\u001B[1;32m     66\u001B[0m \u001B[43m                                  \u001B[49m\u001B[38;5;124;43mf\u001B[39;49m\u001B[38;5;124;43m\"\u001B[39;49m\u001B[38;5;124;43mFor the demo to run properly, <strong>make sure your cluster has UC enabled and using Databricks Runtime (DBR) version \u001B[39;49m\u001B[38;5;132;43;01m{\u001B[39;49;00m\u001B[43mexception\u001B[49m\u001B[38;5;241;43m.\u001B[39;49m\u001B[43mcluster_conf\u001B[49m\u001B[43m[\u001B[49m\u001B[38;5;124;43m'\u001B[39;49m\u001B[38;5;124;43mspark_version\u001B[39;49m\u001B[38;5;124;43m'\u001B[39;49m\u001B[43m]\u001B[49m\u001B[38;5;132;43;01m}\u001B[39;49;00m\u001B[38;5;124;43m</strong>.<br/>\u001B[39;49m\u001B[38;5;124;43m\"\u001B[39;49m\n\u001B[1;32m     67\u001B[0m \u001B[43m                                  \u001B[49m\u001B[38;5;124;43mf\u001B[39;49m\u001B[38;5;124;43m\"\"\"\u001B[39;49m\u001B[38;5;124;43m<div class=\u001B[39;49m\u001B[38;5;124;43m\"\u001B[39;49m\u001B[38;5;124;43mcode dbdemos_block\u001B[39;49m\u001B[38;5;124;43m\"\u001B[39;49m\u001B[38;5;124;43m>dbdemos.install(\u001B[39;49m\u001B[38;5;124;43m'\u001B[39;49m\u001B[38;5;132;43;01m{\u001B[39;49;00m\u001B[43mdemo_conf\u001B[49m\u001B[38;5;241;43m.\u001B[39;49m\u001B[43mname\u001B[49m\u001B[38;5;132;43;01m}\u001B[39;49;00m\u001B[38;5;124;43m'\u001B[39;49m\u001B[38;5;124;43m, use_current_cluster = True)</div><br/>\u001B[39;49m\u001B[38;5;124;43m\"\"\"\u001B[39;49m\n\u001B[1;32m     68\u001B[0m \u001B[43m                                  \u001B[49m\u001B[38;5;124;43mf\u001B[39;49m\u001B[38;5;124;43m\"\u001B[39;49m\u001B[38;5;124;43m<strong>Cluster creation details</strong><br/>\u001B[39;49m\u001B[38;5;124;43m\"\u001B[39;49m\n\u001B[1;32m     69\u001B[0m \u001B[43m                                  \u001B[49m\u001B[38;5;124;43mf\u001B[39;49m\u001B[38;5;124;43m\"\"\"\u001B[39;49m\u001B[38;5;124;43mFull cluster configuration: <div class=\u001B[39;49m\u001B[38;5;124;43m\"\u001B[39;49m\u001B[38;5;124;43mcode dbdemos_block\u001B[39;49m\u001B[38;5;124;43m\"\u001B[39;49m\u001B[38;5;124;43m>\u001B[39;49m\u001B[38;5;132;43;01m{\u001B[39;49;00m\u001B[43mjson\u001B[49m\u001B[38;5;241;43m.\u001B[39;49m\u001B[43mdumps\u001B[49m\u001B[43m(\u001B[49m\u001B[43mexception\u001B[49m\u001B[38;5;241;43m.\u001B[39;49m\u001B[43mcluster_conf\u001B[49m\u001B[43m)\u001B[49m\u001B[38;5;132;43;01m}\u001B[39;49;00m\u001B[38;5;124;43m.</div><br/>\u001B[39;49m\u001B[38;5;124;43m\"\"\"\u001B[39;49m\n\u001B[1;32m     70\u001B[0m \u001B[43m                                  \u001B[49m\u001B[38;5;124;43mf\u001B[39;49m\u001B[38;5;124;43m\"\"\"\u001B[39;49m\u001B[38;5;124;43mFull error: <div class=\u001B[39;49m\u001B[38;5;124;43m\"\u001B[39;49m\u001B[38;5;124;43mcode dbdemos_block\u001B[39;49m\u001B[38;5;124;43m\"\u001B[39;49m\u001B[38;5;124;43m>\u001B[39;49m\u001B[38;5;132;43;01m{\u001B[39;49;00m\u001B[43mjson\u001B[49m\u001B[38;5;241;43m.\u001B[39;49m\u001B[43mdumps\u001B[49m\u001B[43m(\u001B[49m\u001B[43mexception\u001B[49m\u001B[38;5;241;43m.\u001B[39;49m\u001B[43mresponse\u001B[49m\u001B[43m)\u001B[49m\u001B[38;5;132;43;01m}\u001B[39;49;00m\u001B[38;5;124;43m</div>\u001B[39;49m\u001B[38;5;124;43m\"\"\"\u001B[39;49m\u001B[43m)\u001B[49m\n\nFile \u001B[0;32m/local_disk0/.ephemeral_nfs/envs/pythonEnv-94e77d9d-6207-41f3-9169-8d0202feb5a9/lib/python3.10/site-packages/dbdemos/installer_report.py:177\u001B[0m, in \u001B[0;36mInstallerReport.display_error\u001B[0;34m(self, exception, message, raise_error, warning)\u001B[0m\n\u001B[1;32m    175\u001B[0m     \u001B[38;5;28mprint\u001B[39m(error)\n\u001B[1;32m    176\u001B[0m \u001B[38;5;28;01mif\u001B[39;00m raise_error:\n\u001B[0;32m--> 177\u001B[0m     \u001B[38;5;28;01mraise\u001B[39;00m exception\n\nFile \u001B[0;32m/local_disk0/.ephemeral_nfs/envs/pythonEnv-94e77d9d-6207-41f3-9169-8d0202feb5a9/lib/python3.10/site-packages/dbdemos/installer.py:198\u001B[0m, in \u001B[0;36mInstaller.install_demo\u001B[0;34m(self, demo_name, install_path, overwrite, update_cluster_if_exists, skip_dashboards, start_cluster, use_current_cluster, debug, catalog, schema)\u001B[0m\n\u001B[1;32m    196\u001B[0m use_cluster_id \u001B[38;5;241m=\u001B[39m \u001B[38;5;28mself\u001B[39m\u001B[38;5;241m.\u001B[39mcurrent_cluster_id \u001B[38;5;28;01mif\u001B[39;00m use_current_cluster \u001B[38;5;28;01melse\u001B[39;00m \u001B[38;5;28;01mNone\u001B[39;00m\n\u001B[1;32m    197\u001B[0m \u001B[38;5;28;01mtry\u001B[39;00m:\n\u001B[0;32m--> 198\u001B[0m     cluster_id, cluster_name \u001B[38;5;241m=\u001B[39m \u001B[38;5;28;43mself\u001B[39;49m\u001B[38;5;241;43m.\u001B[39;49m\u001B[43mload_demo_cluster\u001B[49m\u001B[43m(\u001B[49m\u001B[43mdemo_name\u001B[49m\u001B[43m,\u001B[49m\u001B[43m \u001B[49m\u001B[43mdemo_conf\u001B[49m\u001B[43m,\u001B[49m\u001B[43m \u001B[49m\u001B[43mupdate_cluster_if_exists\u001B[49m\u001B[43m,\u001B[49m\u001B[43m \u001B[49m\u001B[43mstart_cluster\u001B[49m\u001B[43m,\u001B[49m\u001B[43m \u001B[49m\u001B[43muse_cluster_id\u001B[49m\u001B[43m)\u001B[49m\n\u001B[1;32m    199\u001B[0m \u001B[38;5;28;01mexcept\u001B[39;00m ClusterException \u001B[38;5;28;01mas\u001B[39;00m e:\n\u001B[1;32m    200\u001B[0m     \u001B[38;5;28mself\u001B[39m\u001B[38;5;241m.\u001B[39mreport\u001B[38;5;241m.\u001B[39mdisplay_cluster_creation_error(e, demo_conf)\n\nFile \u001B[0;32m/local_disk0/.ephemeral_nfs/envs/pythonEnv-94e77d9d-6207-41f3-9169-8d0202feb5a9/lib/python3.10/site-packages/dbdemos/installer.py:570\u001B[0m, in \u001B[0;36mInstaller.load_demo_cluster\u001B[0;34m(self, demo_name, demo_conf, update_cluster_if_exists, start_cluster, use_cluster_id)\u001B[0m\n\u001B[1;32m    568\u001B[0m cluster \u001B[38;5;241m=\u001B[39m \u001B[38;5;28mself\u001B[39m\u001B[38;5;241m.\u001B[39mdb\u001B[38;5;241m.\u001B[39mpost(\u001B[38;5;124m\"\u001B[39m\u001B[38;5;124m2.0/clusters/create\u001B[39m\u001B[38;5;124m\"\u001B[39m, json \u001B[38;5;241m=\u001B[39m cluster_conf)\n\u001B[1;32m    569\u001B[0m \u001B[38;5;28;01mif\u001B[39;00m \u001B[38;5;124m\"\u001B[39m\u001B[38;5;124merror_code\u001B[39m\u001B[38;5;124m\"\u001B[39m \u001B[38;5;129;01min\u001B[39;00m cluster \u001B[38;5;129;01mand\u001B[39;00m cluster[\u001B[38;5;124m\"\u001B[39m\u001B[38;5;124merror_code\u001B[39m\u001B[38;5;124m\"\u001B[39m] \u001B[38;5;241m==\u001B[39m \u001B[38;5;124m\"\u001B[39m\u001B[38;5;124mPERMISSION_DENIED\u001B[39m\u001B[38;5;124m\"\u001B[39m:\n\u001B[0;32m--> 570\u001B[0m     \u001B[38;5;28;01mraise\u001B[39;00m ClusterPermissionException(\u001B[38;5;124mf\u001B[39m\u001B[38;5;124m\"\u001B[39m\u001B[38;5;124mCan\u001B[39m\u001B[38;5;124m'\u001B[39m\u001B[38;5;124mt create cluster for demo \u001B[39m\u001B[38;5;132;01m{\u001B[39;00mdemo_name\u001B[38;5;132;01m}\u001B[39;00m\u001B[38;5;124m\"\u001B[39m, cluster_conf, cluster)\n\u001B[1;32m    571\u001B[0m \u001B[38;5;28;01mif\u001B[39;00m \u001B[38;5;124m\"\u001B[39m\u001B[38;5;124mcluster_id\u001B[39m\u001B[38;5;124m\"\u001B[39m \u001B[38;5;129;01mnot\u001B[39;00m \u001B[38;5;129;01min\u001B[39;00m cluster \u001B[38;5;129;01mor\u001B[39;00m \u001B[38;5;124m\"\u001B[39m\u001B[38;5;124merror_code\u001B[39m\u001B[38;5;124m\"\u001B[39m \u001B[38;5;129;01min\u001B[39;00m cluster:\n\u001B[1;32m    572\u001B[0m     \u001B[38;5;28mprint\u001B[39m(\u001B[38;5;124mf\u001B[39m\u001B[38;5;124m\"\u001B[39m\u001B[38;5;124m    WARN: couldn\u001B[39m\u001B[38;5;124m'\u001B[39m\u001B[38;5;124mt create the cluster for the demo: \u001B[39m\u001B[38;5;132;01m{\u001B[39;00mcluster\u001B[38;5;132;01m}\u001B[39;00m\u001B[38;5;124m\"\u001B[39m)\n\n\u001B[0;31mClusterPermissionException\u001B[0m: Can't create cluster for demo llm-rag-chatbot",
       "errorSummary": "<span class='ansi-red-fg'>ClusterPermissionException</span>: Can't create cluster for demo llm-rag-chatbot",
       "errorTraceType": "ansi",
       "metadata": {},
       "type": "ipynbError"
      }
     },
     "output_type": "display_data"
    }
   ],
   "source": [
    "import dbdemos\n",
    "dbdemos.install('llm-rag-chatbot')"
   ]
  },
  {
   "cell_type": "code",
   "execution_count": 0,
   "metadata": {
    "application/vnd.databricks.v1+cell": {
     "cellMetadata": {
      "byteLimit": 2048000,
      "rowLimit": 10000
     },
     "inputWidgets": {},
     "nuid": "1cdfd104-66fc-49ca-81e6-6d6aa28894d2",
     "showTitle": false,
     "title": ""
    }
   },
   "outputs": [
    {
     "output_type": "stream",
     "name": "stdout",
     "output_type": "stream",
     "text": [
      "\u001B[43mNote: you may need to restart the kernel using dbutils.library.restartPython() to use updated packages.\u001B[0m\nCollecting git+https://github.com/mlflow/mlflow.git@refs/pull/10420/merge\n  Cloning https://github.com/mlflow/mlflow.git (to revision refs/pull/10420/merge) to /tmp/pip-req-build-g14h9jav\n  Running command git clone --filter=blob:none --quiet https://github.com/mlflow/mlflow.git /tmp/pip-req-build-g14h9jav\n  WARNING: Did not find branch or tag 'refs/pull/10420/merge', assuming revision or ref.\n  Running command git fetch -q https://github.com/mlflow/mlflow.git refs/pull/10420/merge\n  Running command git checkout -q 559d5bdd44e0034f9f4bc46b4752aba06f0e7dc5\n  Resolved https://github.com/mlflow/mlflow.git to commit 559d5bdd44e0034f9f4bc46b4752aba06f0e7dc5\n  Running command git submodule update --init --recursive -q\n  Installing build dependencies: started\n  Installing build dependencies: finished with status 'done'\n  Getting requirements to build wheel: started\n  Getting requirements to build wheel: finished with status 'done'\n  Preparing metadata (pyproject.toml): started\n  Preparing metadata (pyproject.toml): finished with status 'done'\nCollecting lxml==4.9.3\n  Downloading lxml-4.9.3-cp310-cp310-manylinux_2_28_x86_64.whl (7.9 MB)\n     ━━━━━━━━━━━━━━━━━━━━━━━━━━━━━━━━━━━━━━━━ 7.9/7.9 MB 19.9 MB/s eta 0:00:00\nCollecting transformers==4.30.2\n  Downloading transformers-4.30.2-py3-none-any.whl (7.2 MB)\n     ━━━━━━━━━━━━━━━━━━━━━━━━━━━━━━━━━━━━━━━━ 7.2/7.2 MB 52.7 MB/s eta 0:00:00\nCollecting langchain==0.0.342\n  Downloading langchain-0.0.342-py3-none-any.whl (1.9 MB)\n     ━━━━━━━━━━━━━━━━━━━━━━━━━━━━━━━━━━━━━━━━ 1.9/1.9 MB 75.0 MB/s eta 0:00:00\nCollecting databricks-vectorsearch==0.21\n  Downloading databricks_vectorsearch-0.21-py3-none-any.whl (8.5 kB)\nRequirement already satisfied: regex!=2019.12.17 in /databricks/python3/lib/python3.10/site-packages (from transformers==4.30.2) (2022.7.9)\nRequirement already satisfied: filelock in /databricks/python3/lib/python3.10/site-packages (from transformers==4.30.2) (3.6.0)\nRequirement already satisfied: pyyaml>=5.1 in /databricks/python3/lib/python3.10/site-packages (from transformers==4.30.2) (6.0)\nRequirement already satisfied: tokenizers!=0.11.3,<0.14,>=0.11.1 in /databricks/python3/lib/python3.10/site-packages (from transformers==4.30.2) (0.13.3)\nCollecting safetensors>=0.3.1\n  Downloading safetensors-0.4.1-cp310-cp310-manylinux_2_17_x86_64.manylinux2014_x86_64.whl (1.3 MB)\n     ━━━━━━━━━━━━━━━━━━━━━━━━━━━━━━━━━━━━━━━━ 1.3/1.3 MB 43.0 MB/s eta 0:00:00\nRequirement already satisfied: tqdm>=4.27 in /databricks/python3/lib/python3.10/site-packages (from transformers==4.30.2) (4.64.1)\nRequirement already satisfied: huggingface-hub<1.0,>=0.14.1 in /databricks/python3/lib/python3.10/site-packages (from transformers==4.30.2) (0.15.1)\nRequirement already satisfied: numpy>=1.17 in /databricks/python3/lib/python3.10/site-packages (from transformers==4.30.2) (1.21.5)\nRequirement already satisfied: packaging>=20.0 in /databricks/python3/lib/python3.10/site-packages (from transformers==4.30.2) (21.3)\nRequirement already satisfied: requests in /databricks/python3/lib/python3.10/site-packages (from transformers==4.30.2) (2.28.1)\nRequirement already satisfied: SQLAlchemy<3,>=1.4 in /databricks/python3/lib/python3.10/site-packages (from langchain==0.0.342) (1.4.39)\nCollecting langsmith<0.1.0,>=0.0.63\n  Downloading langsmith-0.0.67-py3-none-any.whl (47 kB)\n     ━━━━━━━━━━━━━━━━━━━━━━━━━━━━━━━━━━━━━━━━ 47.0/47.0 kB 8.9 MB/s eta 0:00:00\nRequirement already satisfied: tenacity<9.0.0,>=8.1.0 in /databricks/python3/lib/python3.10/site-packages (from langchain==0.0.342) (8.1.0)\nRequirement already satisfied: aiohttp<4.0.0,>=3.8.3 in /databricks/python3/lib/python3.10/site-packages (from langchain==0.0.342) (3.8.4)\nRequirement already satisfied: async-timeout<5.0.0,>=4.0.0 in /databricks/python3/lib/python3.10/site-packages (from langchain==0.0.342) (4.0.2)\nCollecting langchain-core<0.1,>=0.0.7\n  Downloading langchain_core-0.0.8-py3-none-any.whl (177 kB)\n     ━━━━━━━━━━━━━━━━━━━━━━━━━━━━━━━━━━━━━━ 177.6/177.6 kB 34.0 MB/s eta 0:00:00\nRequirement already satisfied: dataclasses-json<0.7,>=0.5.7 in /databricks/python3/lib/python3.10/site-packages (from langchain==0.0.342) (0.5.8)\nRequirement already satisfied: pydantic<3,>=1 in /local_disk0/.ephemeral_nfs/envs/pythonEnv-94e77d9d-6207-41f3-9169-8d0202feb5a9/lib/python3.10/site-packages (from langchain==0.0.342) (2.5.2)\nCollecting jsonpatch<2.0,>=1.33\n  Downloading jsonpatch-1.33-py2.py3-none-any.whl (12 kB)\nRequirement already satisfied: anyio<4.0 in /local_disk0/.ephemeral_nfs/envs/pythonEnv-94e77d9d-6207-41f3-9169-8d0202feb5a9/lib/python3.10/site-packages (from langchain==0.0.342) (3.7.1)\nRequirement already satisfied: protobuf<5,>=3.12.0 in /databricks/python3/lib/python3.10/site-packages (from databricks-vectorsearch==0.21) (3.19.4)\nRequirement already satisfied: mlflow-skinny<3,>=2.4.0 in /databricks/python3/lib/python3.10/site-packages (from databricks-vectorsearch==0.21) (2.4.2)\nRequirement already satisfied: cloudpickle<4 in /databricks/python3/lib/python3.10/site-packages (from mlflow==2.8.2.dev0) (2.0.0)\nRequirement already satisfied: scipy<2 in /databricks/python3/lib/python3.10/site-packages (from mlflow==2.8.2.dev0) (1.9.1)\nRequirement already satisfied: matplotlib<4 in /databricks/python3/lib/python3.10/site-packages (from mlflow==2.8.2.dev0) (3.5.2)\nRequirement already satisfied: Flask<4 in /databricks/python3/lib/python3.10/site-packages (from mlflow==2.8.2.dev0) (1.1.2+db1)\nRequirement already satisfied: pyarrow<15,>=4.0.0 in /databricks/python3/lib/python3.10/site-packages (from mlflow==2.8.2.dev0) (8.0.0)\nRequirement already satisfied: Jinja2<4,>=2.11 in /databricks/python3/lib/python3.10/site-packages (from mlflow==2.8.2.dev0) (2.11.3)\nRequirement already satisfied: pytz<2024 in /databricks/python3/lib/python3.10/site-packages (from mlflow==2.8.2.dev0) (2022.1)\nRequirement already satisfied: databricks-cli<1,>=0.8.7 in /databricks/python3/lib/python3.10/site-packages (from mlflow==2.8.2.dev0) (0.17.7)\nRequirement already satisfied: importlib-metadata!=4.7.0,<7,>=3.7.0 in /databricks/python3/lib/python3.10/site-packages (from mlflow==2.8.2.dev0) (4.11.3)\nRequirement already satisfied: sqlparse<1,>=0.4.0 in /databricks/python3/lib/python3.10/site-packages (from mlflow==2.8.2.dev0) (0.4.2)\nRequirement already satisfied: querystring-parser<2 in /local_disk0/.ephemeral_nfs/envs/pythonEnv-94e77d9d-6207-41f3-9169-8d0202feb5a9/lib/python3.10/site-packages (from mlflow==2.8.2.dev0) (1.2.4)\nRequirement already satisfied: gitpython<4,>=2.1.0 in /databricks/python3/lib/python3.10/site-packages (from mlflow==2.8.2.dev0) (3.1.27)\nRequirement already satisfied: click<9,>=7.0 in /databricks/python3/lib/python3.10/site-packages (from mlflow==2.8.2.dev0) (8.0.4)\nRequirement already satisfied: gunicorn<22 in /databricks/python3/lib/python3.10/site-packages (from mlflow==2.8.2.dev0) (20.1.0)\nRequirement already satisfied: scikit-learn<2 in /databricks/python3/lib/python3.10/site-packages (from mlflow==2.8.2.dev0) (1.1.1)\nRequirement already satisfied: docker<7,>=4.0.0 in /local_disk0/.ephemeral_nfs/envs/pythonEnv-94e77d9d-6207-41f3-9169-8d0202feb5a9/lib/python3.10/site-packages (from mlflow==2.8.2.dev0) (6.1.3)\nRequirement already satisfied: entrypoints<1 in /databricks/python3/lib/python3.10/site-packages (from mlflow==2.8.2.dev0) (0.4)\nRequirement already satisfied: alembic!=1.10.0,<2 in /local_disk0/.ephemeral_nfs/envs/pythonEnv-94e77d9d-6207-41f3-9169-8d0202feb5a9/lib/python3.10/site-packages (from mlflow==2.8.2.dev0) (1.12.1)\nRequirement already satisfied: pandas<3 in /databricks/python3/lib/python3.10/site-packages (from mlflow==2.8.2.dev0) (1.4.4)\nRequirement already satisfied: markdown<4,>=3.3 in /databricks/python3/lib/python3.10/site-packages (from mlflow==2.8.2.dev0) (3.3.4)\nRequirement already satisfied: attrs>=17.3.0 in /databricks/python3/lib/python3.10/site-packages (from aiohttp<4.0.0,>=3.8.3->langchain==0.0.342) (21.4.0)\nRequirement already satisfied: yarl<2.0,>=1.0 in /databricks/python3/lib/python3.10/site-packages (from aiohttp<4.0.0,>=3.8.3->langchain==0.0.342) (1.9.2)\nRequirement already satisfied: aiosignal>=1.1.2 in /databricks/python3/lib/python3.10/site-packages (from aiohttp<4.0.0,>=3.8.3->langchain==0.0.342) (1.3.1)\nRequirement already satisfied: frozenlist>=1.1.1 in /databricks/python3/lib/python3.10/site-packages (from aiohttp<4.0.0,>=3.8.3->langchain==0.0.342) (1.3.3)\nRequirement already satisfied: charset-normalizer<4.0,>=2.0 in /databricks/python3/lib/python3.10/site-packages (from aiohttp<4.0.0,>=3.8.3->langchain==0.0.342) (2.0.4)\nRequirement already satisfied: multidict<7.0,>=4.5 in /databricks/python3/lib/python3.10/site-packages (from aiohttp<4.0.0,>=3.8.3->langchain==0.0.342) (6.0.4)\nRequirement already satisfied: Mako in /databricks/python3/lib/python3.10/site-packages (from alembic!=1.10.0,<2->mlflow==2.8.2.dev0) (1.2.0)\nRequirement already satisfied: typing-extensions>=4 in /local_disk0/.ephemeral_nfs/envs/pythonEnv-94e77d9d-6207-41f3-9169-8d0202feb5a9/lib/python3.10/site-packages (from alembic!=1.10.0,<2->mlflow==2.8.2.dev0) (4.8.0)\nRequirement already satisfied: exceptiongroup in /local_disk0/.ephemeral_nfs/envs/pythonEnv-94e77d9d-6207-41f3-9169-8d0202feb5a9/lib/python3.10/site-packages (from anyio<4.0->langchain==0.0.342) (1.2.0)\nRequirement already satisfied: idna>=2.8 in /databricks/python3/lib/python3.10/site-packages (from anyio<4.0->langchain==0.0.342) (3.3)\nRequirement already satisfied: sniffio>=1.1 in /local_disk0/.ephemeral_nfs/envs/pythonEnv-94e77d9d-6207-41f3-9169-8d0202feb5a9/lib/python3.10/site-packages (from anyio<4.0->langchain==0.0.342) (1.3.0)\nRequirement already satisfied: pyjwt>=1.7.0 in /usr/lib/python3/dist-packages (from databricks-cli<1,>=0.8.7->mlflow==2.8.2.dev0) (2.3.0)\nRequirement already satisfied: urllib3<2.0.0,>=1.26.7 in /databricks/python3/lib/python3.10/site-packages (from databricks-cli<1,>=0.8.7->mlflow==2.8.2.dev0) (1.26.11)\nRequirement already satisfied: tabulate>=0.7.7 in /databricks/python3/lib/python3.10/site-packages (from databricks-cli<1,>=0.8.7->mlflow==2.8.2.dev0) (0.8.10)\nRequirement already satisfied: six>=1.10.0 in /usr/lib/python3/dist-packages (from databricks-cli<1,>=0.8.7->mlflow==2.8.2.dev0) (1.16.0)\nRequirement already satisfied: oauthlib>=3.1.0 in /usr/lib/python3/dist-packages (from databricks-cli<1,>=0.8.7->mlflow==2.8.2.dev0) (3.2.0)\nRequirement already satisfied: typing-inspect>=0.4.0 in /databricks/python3/lib/python3.10/site-packages (from dataclasses-json<0.7,>=0.5.7->langchain==0.0.342) (0.9.0)\nRequirement already satisfied: marshmallow-enum<2.0.0,>=1.5.1 in /databricks/python3/lib/python3.10/site-packages (from dataclasses-json<0.7,>=0.5.7->langchain==0.0.342) (1.5.1)\nRequirement already satisfied: marshmallow<4.0.0,>=3.3.0 in /databricks/python3/lib/python3.10/site-packages (from dataclasses-json<0.7,>=0.5.7->langchain==0.0.342) (3.19.0)\nRequirement already satisfied: websocket-client>=0.32.0 in /databricks/python3/lib/python3.10/site-packages (from docker<7,>=4.0.0->mlflow==2.8.2.dev0) (0.58.0)\nRequirement already satisfied: Werkzeug>=0.15 in /databricks/python3/lib/python3.10/site-packages (from Flask<4->mlflow==2.8.2.dev0) (2.0.3)\nRequirement already satisfied: itsdangerous>=0.24 in /databricks/python3/lib/python3.10/site-packages (from Flask<4->mlflow==2.8.2.dev0) (2.0.1)\nRequirement already satisfied: gitdb<5,>=4.0.1 in /databricks/python3/lib/python3.10/site-packages (from gitpython<4,>=2.1.0->mlflow==2.8.2.dev0) (4.0.10)\nRequirement already satisfied: setuptools>=3.0 in /databricks/python3/lib/python3.10/site-packages (from gunicorn<22->mlflow==2.8.2.dev0) (63.4.1)\nRequirement already satisfied: fsspec in /databricks/python3/lib/python3.10/site-packages (from huggingface-hub<1.0,>=0.14.1->transformers==4.30.2) (2022.7.1)\nRequirement already satisfied: zipp>=0.5 in /databricks/python3/lib/python3.10/site-packages (from importlib-metadata!=4.7.0,<7,>=3.7.0->mlflow==2.8.2.dev0) (3.8.0)\nRequirement already satisfied: MarkupSafe>=0.23 in /databricks/python3/lib/python3.10/site-packages (from Jinja2<4,>=2.11->mlflow==2.8.2.dev0) (2.0.1)\nCollecting jsonpointer>=1.9\n  Downloading jsonpointer-2.4-py2.py3-none-any.whl (7.8 kB)\nRequirement already satisfied: python-dateutil>=2.7 in /databricks/python3/lib/python3.10/site-packages (from matplotlib<4->mlflow==2.8.2.dev0) (2.8.2)\nRequirement already satisfied: pillow>=6.2.0 in /databricks/python3/lib/python3.10/site-packages (from matplotlib<4->mlflow==2.8.2.dev0) (9.2.0)\nRequirement already satisfied: cycler>=0.10 in /databricks/python3/lib/python3.10/site-packages (from matplotlib<4->mlflow==2.8.2.dev0) (0.11.0)\nRequirement already satisfied: pyparsing>=2.2.1 in /databricks/python3/lib/python3.10/site-packages (from matplotlib<4->mlflow==2.8.2.dev0) (3.0.9)\nRequirement already satisfied: kiwisolver>=1.0.1 in /databricks/python3/lib/python3.10/site-packages (from matplotlib<4->mlflow==2.8.2.dev0) (1.4.2)\nRequirement already satisfied: fonttools>=4.22.0 in /databricks/python3/lib/python3.10/site-packages (from matplotlib<4->mlflow==2.8.2.dev0) (4.25.0)\nRequirement already satisfied: pydantic-core==2.14.5 in /local_disk0/.ephemeral_nfs/envs/pythonEnv-94e77d9d-6207-41f3-9169-8d0202feb5a9/lib/python3.10/site-packages (from pydantic<3,>=1->langchain==0.0.342) (2.14.5)\nRequirement already satisfied: annotated-types>=0.4.0 in /local_disk0/.ephemeral_nfs/envs/pythonEnv-94e77d9d-6207-41f3-9169-8d0202feb5a9/lib/python3.10/site-packages (from pydantic<3,>=1->langchain==0.0.342) (0.6.0)\nRequirement already satisfied: certifi>=2017.4.17 in /databricks/python3/lib/python3.10/site-packages (from requests->transformers==4.30.2) (2022.9.14)\nRequirement already satisfied: joblib>=1.0.0 in /databricks/python3/lib/python3.10/site-packages (from scikit-learn<2->mlflow==2.8.2.dev0) (1.2.0)\nRequirement already satisfied: threadpoolctl>=2.0.0 in /databricks/python3/lib/python3.10/site-packages (from scikit-learn<2->mlflow==2.8.2.dev0) (2.2.0)\nRequirement already satisfied: greenlet!=0.4.17 in /databricks/python3/lib/python3.10/site-packages (from SQLAlchemy<3,>=1.4->langchain==0.0.342) (1.1.1)\nRequirement already satisfied: smmap<6,>=3.0.1 in /databricks/python3/lib/python3.10/site-packages (from gitdb<5,>=4.0.1->gitpython<4,>=2.1.0->mlflow==2.8.2.dev0) (5.0.0)\nRequirement already satisfied: mypy-extensions>=0.3.0 in /databricks/python3/lib/python3.10/site-packages (from typing-inspect>=0.4.0->dataclasses-json<0.7,>=0.5.7->langchain==0.0.342) (0.4.3)\nBuilding wheels for collected packages: mlflow\n  Building wheel for mlflow (pyproject.toml): started\n  Building wheel for mlflow (pyproject.toml): finished with status 'done'\n  Created wheel for mlflow: filename=mlflow-2.8.2.dev0-py3-none-any.whl size=4669232 sha256=de627e4dbb3c0589f619ae42be07fa3a66c9b47ac4943e80739ed0a4de783366\n  Stored in directory: /tmp/pip-ephem-wheel-cache-v7qen1za/wheels/e3/ad/e3/fc4e53b07dad77f142769a8f6181fedb8168826e11742ef712\nSuccessfully built mlflow\nInstalling collected packages: safetensors, lxml, jsonpointer, jsonpatch, transformers, mlflow, langsmith, langchain-core, databricks-vectorsearch, langchain\n  Attempting uninstall: transformers\n    Found existing installation: transformers 4.29.2\n    Not uninstalling transformers at /databricks/python3/lib/python3.10/site-packages, outside environment /local_disk0/.ephemeral_nfs/envs/pythonEnv-94e77d9d-6207-41f3-9169-8d0202feb5a9\n    Can't uninstall 'transformers'. No files were found to uninstall.\n  Attempting uninstall: mlflow\n    Found existing installation: mlflow 2.8.1\n    Uninstalling mlflow-2.8.1:\n      Successfully uninstalled mlflow-2.8.1\n  Attempting uninstall: langchain\n    Found existing installation: langchain 0.0.181\n    Not uninstalling langchain at /databricks/python3/lib/python3.10/site-packages, outside environment /local_disk0/.ephemeral_nfs/envs/pythonEnv-94e77d9d-6207-41f3-9169-8d0202feb5a9\n    Can't uninstall 'langchain'. No files were found to uninstall.\nSuccessfully installed databricks-vectorsearch-0.21 jsonpatch-1.33 jsonpointer-2.4 langchain-0.0.342 langchain-core-0.0.8 langsmith-0.0.67 lxml-4.9.3 mlflow-2.8.2.dev0 safetensors-0.4.1 transformers-4.30.2\n\u001B[43mNote: you may need to restart the kernel using dbutils.library.restartPython() to use updated packages.\u001B[0m\n"
     ]
    }
   ],
   "source": [
    "%pip install \"git+https://github.com/mlflow/mlflow.git@refs/pull/10420/merge\" lxml==4.9.3 transformers==4.30.2 langchain==0.0.342 databricks-vectorsearch==0.21\n",
    "dbutils.library.restartPython()"
   ]
  },
  {
   "cell_type": "code",
   "execution_count": 0,
   "metadata": {
    "application/vnd.databricks.v1+cell": {
     "cellMetadata": {
      "byteLimit": 2048000,
      "rowLimit": 10000
     },
     "inputWidgets": {},
     "nuid": "8ba06f5c-950c-46a8-996a-2ab7d3327421",
     "showTitle": false,
     "title": ""
    }
   },
   "outputs": [],
   "source": [
    "from langchain.document_loaders.csv_loader import CSVLoader\n",
    "from langchain.text_splitter import RecursiveCharacterTextSplitter\n",
    "from langchain.embeddings import HuggingFaceEmbeddings\n",
    "from langchain.vectorstores import FAISS\n",
    "from langchain.llms import CTransformers\n",
    "from langchain.memory import ConversationBufferMemory\n",
    "from langchain.chains import ConversationalRetrievalChain\n",
    "import sys"
   ]
  },
  {
   "cell_type": "code",
   "execution_count": 0,
   "metadata": {
    "application/vnd.databricks.v1+cell": {
     "cellMetadata": {
      "byteLimit": 2048000,
      "rowLimit": 10000
     },
     "inputWidgets": {},
     "nuid": "ad1c6e3d-c205-4171-a8fd-950975dd669e",
     "showTitle": false,
     "title": ""
    }
   },
   "outputs": [],
   "source": [
    "from langchain.document_loaders.csv_loader import CSVLoader"
   ]
  },
  {
   "cell_type": "code",
   "execution_count": 0,
   "metadata": {
    "application/vnd.databricks.v1+cell": {
     "cellMetadata": {
      "byteLimit": 2048000,
      "rowLimit": 10000
     },
     "inputWidgets": {},
     "nuid": "0f276ccb-fd14-433f-9454-ad46240d4e01",
     "showTitle": false,
     "title": ""
    }
   },
   "outputs": [
    {
     "output_type": "display_data",
     "data": {
      "application/vnd.databricks.v1+bamboolib_hint": "{\"pd.DataFrames\": [\"data\"], \"version\": \"0.0.1\"}",
      "text/plain": []
     },
     "metadata": {},
     "output_type": "display_data"
    }
   ],
   "source": [
    "import pandas as pd\n",
    "data=pd.read_csv(\"file:/Workspace/Users/shalu.tyagi@hdfcbank.com/Dataforfinetuning.csv\")"
   ]
  },
  {
   "cell_type": "code",
   "execution_count": 0,
   "metadata": {
    "application/vnd.databricks.v1+cell": {
     "cellMetadata": {
      "byteLimit": 2048000,
      "rowLimit": 10000
     },
     "inputWidgets": {},
     "nuid": "d012180f-4e76-4d50-bf3b-72d02a3fea68",
     "showTitle": false,
     "title": ""
    }
   },
   "outputs": [
    {
     "output_type": "stream",
     "name": "stdout",
     "output_type": "stream",
     "text": [
      "[Document(page_content='instruction: एचडीएफसी बैंक की वर्तमान ब्याज दर क्या है?\\ncontext: \\nresponse: एचडीएफसी बैंक की सावधि जमा में ब्याज दर, आपकी जमा राशि, जमा अवधि और खाताधारक का प्रकार (व्यक्तिगत, वरिष्ठ नागरिक आदि) के आधार पर भिन्नता होती है। और आज के लिए, एचडीएफसी बैंक की सावधि जमा में ब्याज दर आपके लिए क्या है?\\n[वर्तमान तिथि] तक, एचडीएफसी बैंक द्वारा अपनी सावधि जमा पर दी जाने वाली वर्तमान ब्याज दरें यहां दी गई हैं:\\n ₹1 करोड़ तक की जमा राशि के लिए, जमा अवधि और खाताधारक के प्रकार के आधार पर ब्याज दरें 3.50% से 7.00% प्रति वर्ष तक होती हैं।₹1 करोड़ से अधिक की जमा राशि के लिए, जमा अवधि और खाताधारक के प्रकार के आधार पर, ब्याज दरें 3.75% से 7.25% प्रति वर्ष तक होती हैं।कृपया ध्यान दें कि ये ब्याज दरें परिवर्तन के अधीन हैं और बाजार की स्थितियों और अन्य कारकों के आधार पर भिन्न हो सकती हैं। सावधि जमा में निवेश करने से पहले एचडीएफसी बैंक द्वारा दी जाने वाली मौजूदा ब्याज दरों और शर्तों की जांच करना हमेशा एक अच्छा विचार है।', metadata={'source': '/Workspace/Users/shalu.tyagi@hdfcbank.com/Dataforfinetuning.csv', 'row': 0}), Document(page_content='instruction: एचडीएफसी बैंक में खाता खोलने की प्रक्रिया क्या है?\\ncontext: \\nresponse: HDFC Bank में खाता खोलने की प्रक्रिया निम्न है:\\nनिचे दिए गए फार्म का उपयोग करें: आप हDFC बैंक का नेत बैंकिंग प्लेटफॉर्म या ब्रांच का उपयोग करके खाता खोलने का फार्म भर सकते हैं।\\nफार्म भरना: आप फार्म भरने के लिए निचे दिए गए संशोधन का उपयोग करें:\\nपहला संशोधन: खाता खोलने का फार्म भरना\\nदूसरा संशोधन: खाता खोलने के लिए आवश्यक दस्तावेज जमा करना\\nतीसरा संशोधन: खाता खोलने के लिए आवश्यक प्रमाण पत्र जमा करना\\nफार्म और दस्तावेज जमा करना: आप फार्म भर सकते हैं और दस्तावेज जमा कर सकते हैं जैसे पासपोर्ट, पन कार्ड, ड्राइवर लाइसेंस आदि ।\\nखाता खोलने के लिए मिनिमम जमा करना: आप खाता खोलने के लिए मिनिमम जमा करना पड़ेगा, जो खाता का नाम आपको मिलेगा ।\\nखाता और डेबिट कार्ड प्राप्त करना: आप खाता खोलने के बाद खाता और डेबिट कार्ड प्राप्त कर सकते हैं ।\\nखाता सेट अप करना: आप खाता सेट अप कर सकते हैं ब्रांच या नेत बैंकिंग प्लेटफॉर्म का उपयोग करके ।\\nखाता का उपयोग करना: आप खाता का उपयोग कर सकते हैं नेत बैंकिंग प्लेटफॉर्म या ब्रांच में ।\\nइसके बाद आप सक्षम हैं कि आप एचडीएफसी बैंक में खाता खोलने की प्रक्रिया सुविधा से पाएंगे ।', metadata={'source': '/Workspace/Users/shalu.tyagi@hdfcbank.com/Dataforfinetuning.csv', 'row': 1}), Document(page_content='instruction: एचडीएफसी बैंक का कस्टमर केयर नंबर क्या है?\\ncontext: \\nresponse: HDFC Bank का कस्टमर केयर नंबर 1800 22 1006 है। यह नंबर 24/7 उपलब्ध है और कस्टमरों के सम्बन्धित सवालों के लिए सहायता प्रदान करता है।\\nइसके अलावा, HDFC Bank का कस्टमर केयर नंबर मोबाइल ऐप और नेट बैंकिंग प्लेटफॉर्म से भी उपलब्ध है।\\nमोबाइल ऐप:\\nगूगल प्ले स्टोर या ऐपल ऐप स्टोर से HDFC Bank मोबाइल ऐप डाउनलोड करें।\\nमोबाइल नंबर रजिस्टर करें और लॉगिन करें।\\n\"Help\" सेक्शन कLICK करें और \"Contact Us\" का चयन करें कस्टमर केयर नंबर के लिए।\\nनेट बैंकिंग:\\nHDFC Bank नेट बैंकिंग अकाउंट में लॉगिन करें।\\n\"Help\" सेक्शन कLICK करें और \"Contact Us\" का चयन करें कस्टमर केयर नंबर के लिए।\\nहDFC Bank का कस्टमर केयर नंबर और अन्य संपर्क विवरण के लिए पहले से जानकारी से लेकर आधार पर निर्णय लें।', metadata={'source': '/Workspace/Users/shalu.tyagi@hdfcbank.com/Dataforfinetuning.csv', 'row': 2}), Document(page_content='instruction: मैं एचडीएफसी बैंक के लिए ऋण विवरण कैसे देख सकता हूं ?\\ncontext: \\nresponse: HDFC Bank के लिए ऋण विवरण देखने के लिए निम्न कदम से सकते हैं:\\nHDFC Bank का ओएल सITE पर जाएं: सबसे पहले HDFC Bank का ओएल सITE पर जाएं (hdfcbank.com).\\nलॉगिन करें: उपरोक्त सITE पर लॉगिन करें अपने मोबाइल नंबर और पासवर्ड के साथ.\\nनेट बैंकिंग का चयन करें: लॉगिन करने के बाद, नेट बैंकिंग का चयन करें.\\nऋण विवरण का चयन करें: नेट बैंकिंग में, ऋण विवरण का चयन करें.\\nऋण विवरण देखें: ऋण विवरण का चयन करने के बाद, आप ऋण विवरण देख सकते हैं.\\nइसके अलावा, HDFC Bank का मोबाइल ऐप भी उपलब्ध है, जहां से आप ऋण विवरण देख सकते हैं.\\nमोबाइल ऐप:\\nHDFC Bank मोबाइल ऐप डाउनलोड करें: गूगल प्ले स्टोर या ऐपल ऐप स्टोर से HDFC Bank मोबाइल ऐप डाउनलोड करें.\\nलॉगिन करें: मोबाइल ऐप में लॉगिन करें अपने मोबाइल नंबर और पासवर्ड के साथ.\\nनेट बैंकिंग का चयन करें: लॉगिन करने के बाद, नेट बैंकिंग का चयन करें.\\nऋण विवरण का चयन करें: नेट बैंकिंग में, ऋण विवरण का चयन करें.\\nऋण विवरण देखें: ऋण विवरण का चयन करने के बाद, आप ऋण विवरण देख सकते हैं.\\nइसके अलावा, HDFC Bank का कस्टमर केयर नंबर भी उपलब्ध है, जहां से आप ऋण विवरण के सवालों के लिए सहायता प्रदान करता है.', metadata={'source': '/Workspace/Users/shalu.tyagi@hdfcbank.com/Dataforfinetuning.csv', 'row': 3}), Document(page_content='instruction: इंजीनियरिंग के लिए सबसे अच्छे कॉलेज कौन से हैं?\\ncontext: \\nresponse: भारत में बड़ी संख्या में इंजीनियरिंग कॉलेज हैं जो उच्च गुणवत्ता वाली शिक्षा प्रदान करते हैं और अच्छी तरह से प्रशिक्षित इंजीनियर तैयार करते हैं। सर्वश्रेष्ठ इंजीनियरिंग कॉलेज का चुनाव विभिन्न कारकों पर निर्भर करता है जैसे इंजीनियरिंग की शाखा, स्थान और व्यक्तिगत प्राथमिकताएँ। यहां भारत के कुछ शीर्ष इंजीनियरिंग कॉलेज हैं:\\nभारतीय प्रौद्योगिकी संस्थान (आईआईटी): आईआईटी को भारत में प्रमुख इंजीनियरिंग संस्थान माना जाता है और यह अपनी शैक्षणिक उत्कृष्टता, अनुसंधान सुविधाओं और प्लेसमेंट अवसरों के लिए जाने जाते हैं। देश के विभिन्न हिस्सों में 23 आईआईटी स्थित हैं, और वे इंजीनियरिंग की विभिन्न शाखाएँ प्रदान करते हैं।\\nराष्ट्रीय प्रौद्योगिकी संस्थान (एनआईटी): एनआईटी अपनी उच्च गुणवत्ता वाली इंजीनियरिंग शिक्षा के लिए भी जाने जाते हैं और भारत के सर्वश्रेष्ठ इंजीनियरिंग कॉलेजों में माने जाते हैं। देश के विभिन्न हिस्सों में 31 एनआईटी स्थित हैं, और वे इंजीनियरिंग की विभिन्न शाखाएँ प्रदान करते हैं।\\nबिड़ला इंस्टीट्यूट ऑफ टेक्नोलॉजी एंड साइंस (बिट्स): बिट्स एक निजी इंजीनियरिंग संस्थान है जो अपनी अकादमिक उत्कृष्टता और अनुसंधान सुविधाओं के लिए जाना जाता है। इसके पिलानी, गोवा और हैदराबाद में परिसर हैं, और यह इंजीनियरिंग की विभिन्न शाखाएँ प्रदान करता है।\\nभारतीय विज्ञान संस्थान (आईआईएससी): आईआईएससी एक प्रमुख अनुसंधान संस्थान है जो उच्च गुणवत्ता वाली इंजीनियरिंग शिक्षा प्रदान करता है। यह बैंगलोर में स्थित है और इंजीनियरिंग की विभिन्न शाखाएँ प्रदान करता है।\\nदिल्ली विश्वविद्यालय: दिल्ली विश्वविद्यालय भारत के शीर्ष विश्वविद्यालयों में से एक है और इंजीनियरिंग की विभिन्न शाखाएँ प्रदान करता है। इसके इंजीनियरिंग कॉलेज, जैसे दिल्ली कॉलेज ऑफ इंजीनियरिंग और नेताजी सुभाष इंस्टीट्यूट ऑफ टेक्नोलॉजी, अपनी शैक्षणिक उत्कृष्टता और प्लेसमेंट अवसरों के लिए जाने जाते हैं।\\nमुंबई विश्वविद्यालय: मुंबई विश्वविद्यालय भारत का एक और शीर्ष विश्वविद्यालय है जो इंजीनियरिंग की विभिन्न शाखाएँ प्रदान करता है। इसके इंजीनियरिंग कॉलेज, जैसे कि भारतीय प्रौद्योगिकी संस्थान बॉम्बे और वीरमाता जीजाबाई प्रौद्योगिकी संस्थान, अपनी शैक्षणिक उत्कृष्टता और प्लेसमेंट अवसरों के लिए जाने जाते हैं।\\nअन्ना विश्वविद्यालय: अन्ना विश्वविद्यालय चेन्नई, तमिलनाडु में स्थित एक प्रमुख इंजीनियरिंग संस्थान है। यह इंजीनियरिंग की विभिन्न शाखाएँ प्रदान करता है और अपनी अकादमिक उत्कृष्टता और अनुसंधान सुविधाओं के लिए जाना जाता है।\\nजादवपुर विश्वविद्यालय: जादवपुर विश्वविद्यालय कोलकाता, पश्चिम बंगाल में स्थित एक प्रमुख इंजीनियरिंग संस्थान है। यह इंजीनियरिंग की विभिन्न शाखाएँ प्रदान करता है और अपनी अकादमिक उत्कृष्टता और अनुसंधान सुविधाओं के लिए जाना जाता है।\\nहैदराबाद विश्वविद्यालय: हैदराबाद विश्वविद्यालय हैदराबाद, तेलंगाना में स्थित एक प्रमुख इंजीनियरिंग संस्थान है। यह इंजीनियरिंग की विभिन्न शाखाएँ प्रदान करता है और अपनी अकादमिक उत्कृष्टता और अनुसंधान सुविधाओं के लिए जाना जाता है।\\nथापर इंस्टीट्यूट ऑफ इंजीनियरिंग एंड टेक्नोलॉजी: थापर इंस्टीट्यूट ऑफ इंजीनियरिंग एंड टेक्नोलॉजी पंजाब के पटियाला में स्थित एक निजी इंजीनियरिंग संस्थान है। यह इंजीनियरिंग की विभिन्न शाखाएँ प्रदान करता है और अपनी शैक्षणिक उत्कृष्टता और प्लेसमेंट अवसरों के लिए जाना जाता है।', metadata={'source': '/Workspace/Users/shalu.tyagi@hdfcbank.com/Dataforfinetuning.csv', 'row': 4}), Document(page_content='instruction: कृपया पास्ता की रेसिपी प्रदान करें\\ncontext: \\nresponse: ज़रूर, यहाँ पास्ता बनाने की एक सरल विधि दी गई है:\\nसामग्री:\\n1 पाउंड पास्ता (जैसे स्पेगेटी, लिंगुइन, या फेटुकाइन)\\n2 बड़े चम्मच जैतून का तेल\\n1 प्याज, बारीक कटा हुआ\\n3 लहसुन की कलियाँ, बारीक काट लें\\n1 चम्मच सूखी तुलसी\\n1 चम्मच सूखा अजवायन\\nनमक और काली मिर्च स्वादानुसार\\n1 कप मैरिनारा सॉस (घर का बना या स्टोर से खरीदा हुआ)\\n1 कप कसा हुआ परमेसन चीज़ (वैकल्पिक)\\nनिर्देश:\\nनमकीन पानी के एक बड़े बर्तन को उबाल लें। पास्ता डालें और पैकेज के निर्देशों के अनुसार अल डेंटे तक पकाएँ। स्पेगेटी को निकालने से पहले 1 कप पास्ता पानी सुरक्षित रखें।\\nएक बड़ी कड़ाही में, मध्यम आंच पर जैतून का तेल गर्म करें। कटा हुआ प्याज डालें और पारदर्शी होने तक 2-3 मिनट तक भूनें।\\nकीमा बनाया हुआ लहसुन डालें और खुशबू आने तक एक और मिनट तक भूनें।\\nसूखी तुलसी और अजवायन डालें, और मिलाने के लिए हिलाएँ।\\nमैरिनारा सॉस को कड़ाही में डालें और प्याज और लहसुन के मिश्रण के साथ मिलाने के लिए हिलाएँ। स्वाद के लिए नमक व कालीमिर्च डालकर ज़ायकेदार बनाइए।\\nकड़ाही में बचा हुआ पास्ता पानी डालें और सॉस को धीमी आंच पर रखें।\\nपके हुए पास्ता को कड़ाही में डालें, इसे सॉस के साथ मिलाएँ जब तक पास्ता अच्छी तरह से लेपित न हो जाए।\\nयदि चाहें तो पास्ता को ऊपर से कद्दूकस किया हुआ परमेसन चीज़ डालकर गरमागरम परोसें। आनंद लेना!\\nनोट: आप प्याज और लहसुन के साथ कड़ाही में अपना पसंदीदा प्रोटीन (जैसे चिकन, झींगा, या सॉसेज) या सब्जियां (जैसे बेल मिर्च, मशरूम, या जैतून) डालकर इस रेसिपी को अनुकूलित कर सकते हैं।', metadata={'source': '/Workspace/Users/shalu.tyagi@hdfcbank.com/Dataforfinetuning.csv', 'row': 5}), Document(page_content='instruction: 5 सर्वश्रेष्ठ कॉमेडी हिंदी फिल्में\\ncontext: \\nresponse: यहां 5 उच्च रेटिंग वाली हिंदी कॉमेडी फिल्में हैं:\\nअंदाज़ अपना अपना (1994) - आमिर खान, सलमान खान, रवीना टंडन और करिश्मा कपूर अभिनीत एक क्लासिक कॉमेडी फिल्म। यह फिल्म अपने मजेदार संवादों, हास्य और यादगार किरदारों के लिए जानी जाती है।\\nदिल चाहता है (2001) - आमिर खान, सैफ अली खान, अक्षय खन्ना, सोनाली बेंद्रे और प्रीति जिंटा अभिनीत एक आने वाली कॉमेडी-ड्रामा फिल्म। यह फिल्म अपने हास्य, संगीत और अभिनय के लिए जानी जाती है।\\nहेरा फेरी (2000) - अक्षय कुमार, सुनील शेट्टी और परेश रावल अभिनीत एक कॉमेडी फिल्म। यह फिल्म अपने फूहड़ हास्य, मजाकिया संवाद और हास्य प्रदर्शन के लिए जानी जाती है।\\nद लंचबॉक्स (2013) - इरफान खान, निमरत कौर और नवाजुद्दीन सिद्दीकी अभिनीत एक रोमांटिक कॉमेडी-ड्रामा फिल्म। यह फिल्म अपनी अनूठी कहानी, अभिनय और हास्य के लिए जानी जाती है।\\nतनु वेड्स मनु (2011) - आर. माधवन, कंगना रनौत और दीपक डोबरियाल अभिनीत एक रोमांटिक कॉमेडी फिल्म। यह फिल्म अपने हास्य, अभिनय और अनूठी कहानी के लिए जानी जाती है।\\nये उच्च रेटिंग वाली हिंदी कॉमेडी फिल्मों के कुछ उदाहरण हैं। इस शैली में कई अन्य बेहतरीन फिल्में हैं, और व्यक्तिगत रुचि के आधार पर राय भिन्न हो सकती है।', metadata={'source': '/Workspace/Users/shalu.tyagi@hdfcbank.com/Dataforfinetuning.csv', 'row': 6}), Document(page_content='instruction: 5 सर्वश्रेष्ठ कॉमेडी अंग्रेजी फिल्में\\ncontext: \\nresponse: निश्चित रूप से, यहां 5 उच्च श्रेणी वाली अंग्रेजी कॉमेडी फिल्में हैं:\\nद हैंगओवर (2009) - दोस्तों के एक समूह के बारे में एक कॉमेडी फिल्म जो एक बैचलर पार्टी के लिए लास वेगास की यात्रा करती है और अगली सुबह जागती है और उसे यह याद नहीं रहता कि पिछली रात क्या हुआ था। फिर उन्हें अपने कदम पीछे खींचने होंगे और पता लगाना होगा कि क्या हुआ।\\nसुपरबैड (2007) - दो हाई स्कूल सीनियर्स के बारे में एक आने वाली कॉमेडी फिल्म, जो एक पार्टी के लिए शराब खरीदने के मिशन पर हैं और कई दुस्साहस का शिकार हो जाते हैं।\\nब्राइड्समेड्स (2011) - ब्राइड्समेड्स के एक समूह के बारे में एक कॉमेडी फिल्म जो अपने दोस्त की शादी की तैयारी के दौरान आपस में भिड़ जाती है। फिल्म में क्रिस्टन वाइग, माया रूडोल्फ और मेलिसा मैक्कार्थी हैं।\\nद 40-ईयर-ओल्ड वर्जिन (2005) - एक ऐसे व्यक्ति के बारे में एक कॉमेडी फिल्म जो 40 साल की उम्र में भी वर्जिन है और उसकी वर्जिनिटी खोने की यात्रा है। फिल्म में स्टीव कैरेल, पॉल रुड और सेठ रोजन हैं।\\nमोंटी पाइथन एंड द होली ग्रेल (1975) - राजा आर्थर और उनके शूरवीरों के बारे में एक कॉमेडी फिल्म जो होली ग्रेल की खोज में निकलते हैं। यह फिल्म अपने बेतुके हास्य और यादगार किरदारों के लिए जानी जाती है।\\nये उच्च श्रेणी की अंग्रेजी कॉमेडी फिल्मों के कुछ उदाहरण हैं। इस शैली में कई अन्य बेहतरीन फिल्में हैं, और व्यक्तिगत रुचि के आधार पर राय भिन्न हो सकती है।', metadata={'source': '/Workspace/Users/shalu.tyagi@hdfcbank.com/Dataforfinetuning.csv', 'row': 7}), Document(page_content='instruction: दिल्ली में एक दिवसीय यात्रा कार्यक्रम की योजना बनाएं\\ncontext: \\nresponse: ज़रूर, यहां दिल्ली की एक दिवसीय यात्रा के लिए सुझाया गया यात्रा कार्यक्रम है:\\n9:00 पूर्वाह्न - 10:00 पूर्वाह्न: अपने दिन की शुरुआत प्रतिष्ठित लाल किले की यात्रा से करें, जो दिल्ली के सबसे पहचानने योग्य स्थलों में से एक है। किले की भव्य वास्तुकला, संग्रहालयों और उद्यानों का अन्वेषण करें।\\n10:00 पूर्वाह्न - 11:30 पूर्वाह्न: लाल किले से, पास के चांदनी चौक की ओर जाएं, एक हलचल भरा बाज़ार जो दिल्ली की समृद्ध सांस्कृतिक विरासत की झलक पेश करता है। संकरी गलियों और गलियों से होते हुए रिक्शा की सवारी करें और स्वादिष्ट परांठे के नाश्ते के लिए प्रसिद्ध परांठे वाली गली में रुकें।\\n11:30 पूर्वाह्न - 12:30 अपराह्न: भारत की सबसे बड़ी मस्जिदों में से एक, जामा मस्जिद का दौरा करें। इसकी आश्चर्यजनक वास्तुकला और इसकी छत से शहर के दृश्यों की प्रशंसा करने के लिए कुछ समय निकालें।\\n12:30 अपराह्न - 1:30 अपराह्न: नजदीकी कनॉट प्लेस की ओर जाएं, जो दिल्ली में वाणिज्यिक और सांस्कृतिक गतिविधि का केंद्र है। क्षेत्र के कई रेस्तरां या कैफे में से किसी एक में दोपहर का भोजन लें।\\n1:30 अपराह्न - 2:30 अपराह्न: राष्ट्रीय संग्रहालय का दौरा करें, जिसमें भारतीय कला, कलाकृतियों और प्रदर्शनियों का विशाल संग्रह है।\\n2:30 अपराह्न - 3:30 अपराह्न: शहर के मध्य में एक शांतिपूर्ण नखलिस्तान, सुंदर लोदी गार्डन में टहलें। उद्यान प्रसिद्ध लोदी मकबरे सहित कई स्मारकों और कब्रों का घर हैं।\\n3:30 अपराह्न - 4:30 अपराह्न: इंडिया गेट पर जाएँ, एक युद्ध स्मारक जो दिल्ली के मध्य में स्थित है। इसकी भव्य वास्तुकला की प्रशंसा करने के लिए कुछ समय निकालें और भारत की आजादी के लिए लड़ने वाले सैनिकों के प्रति अपना सम्मान व्यक्त करें।\\n4:30 अपराह्न - 5:00 अपराह्न: भारत के राष्ट्रपति के आधिकारिक निवास, राष्ट्रपति भवन की यात्रा के साथ अपना दिन समाप्त करें। इमारत और उसके बगीचों का भ्रमण करें, और भारत के इतिहास और राजनीति के बारे में जानें।\\n5:00 अपराह्न - 6:00 अपराह्न: दिल्ली की एक अद्भुत दिन की यात्रा की यादों के साथ, अपने होटल लौटें या घर वापस आने के लिए अपनी ट्रेन/उड़ान पकड़ें।\\nबेशक, यह यात्रा कार्यक्रम सिर्फ एक सुझाव है, और आप इसे अपनी रुचियों और प्राथमिकताओं के अनुरूप समायोजित कर सकते हैं। दिल्ली की अपनी यात्रा का आनंद लें!', metadata={'source': '/Workspace/Users/shalu.tyagi@hdfcbank.com/Dataforfinetuning.csv', 'row': 8})]\n"
     ]
    }
   ],
   "source": [
    "loader = CSVLoader(file_path=\"/Workspace/Users/shalu.tyagi@hdfcbank.com/Dataforfinetuning.csv\", encoding=\"utf-8\", csv_args={'delimiter': ','})\n",
    "data = loader.load()\n",
    "print(data)"
   ]
  },
  {
   "cell_type": "code",
   "execution_count": 0,
   "metadata": {
    "application/vnd.databricks.v1+cell": {
     "cellMetadata": {
      "byteLimit": 2048000,
      "rowLimit": 10000
     },
     "inputWidgets": {},
     "nuid": "43d92aba-1231-401c-9dd2-a40043b6eb2a",
     "showTitle": false,
     "title": ""
    }
   },
   "outputs": [],
   "source": [
    "# Split the text into Chunks\n",
    "from langchain.text_splitter import RecursiveCharacterTextSplitter\n",
    "text_splitter = RecursiveCharacterTextSplitter(chunk_size=30, chunk_overlap=20)\n",
    "text_chunks = text_splitter.split_documents(data)"
   ]
  },
  {
   "cell_type": "code",
   "execution_count": 0,
   "metadata": {
    "application/vnd.databricks.v1+cell": {
     "cellMetadata": {
      "byteLimit": 2048000,
      "rowLimit": 10000
     },
     "inputWidgets": {},
     "nuid": "0bbea860-c317-4901-ad04-fdfa9b198f47",
     "showTitle": false,
     "title": ""
    }
   },
   "outputs": [
    {
     "output_type": "stream",
     "name": "stdout",
     "output_type": "stream",
     "text": [
      "35\n"
     ]
    }
   ],
   "source": [
    "print(len(text_chunks))\n",
    "from langchain.embeddings import HuggingFaceEmbeddings\n",
    "# Download Sentence Transformers Embedding From Hugging Face\n",
    "embeddings = HuggingFaceEmbeddings(model_name = 'sentence-transformers/all-MiniLM-L6-v2')"
   ]
  },
  {
   "cell_type": "code",
   "execution_count": 0,
   "metadata": {
    "application/vnd.databricks.v1+cell": {
     "cellMetadata": {
      "byteLimit": 2048000,
      "rowLimit": 10000
     },
     "inputWidgets": {},
     "nuid": "c7448a29-8362-402b-8b3f-0b635558d045",
     "showTitle": false,
     "title": ""
    }
   },
   "outputs": [
    {
     "output_type": "stream",
     "name": "stdout",
     "output_type": "stream",
     "text": [
      "\u001B[43mNote: you may need to restart the kernel using dbutils.library.restartPython() to use updated packages.\u001B[0m\nCollecting faiss-cpu\n  Downloading faiss_cpu-1.7.4-cp310-cp310-manylinux_2_17_x86_64.manylinux2014_x86_64.whl (17.6 MB)\n     ━━━━━━━━━━━━━━━━━━━━━━━━━━━━━━━━━━━━━━━━ 17.6/17.6 MB 42.6 MB/s eta 0:00:00\nInstalling collected packages: faiss-cpu\nSuccessfully installed faiss-cpu-1.7.4\n\u001B[43mNote: you may need to restart the kernel using dbutils.library.restartPython() to use updated packages.\u001B[0m\n"
     ]
    }
   ],
   "source": [
    "%pip install faiss-cpu"
   ]
  },
  {
   "cell_type": "code",
   "execution_count": 0,
   "metadata": {
    "application/vnd.databricks.v1+cell": {
     "cellMetadata": {
      "byteLimit": 2048000,
      "rowLimit": 10000
     },
     "inputWidgets": {},
     "nuid": "17d88cef-9a9e-41bc-bb2a-411a4a1d18d3",
     "showTitle": false,
     "title": ""
    }
   },
   "outputs": [],
   "source": [
    "dbutils.library.restartPython()"
   ]
  },
  {
   "cell_type": "code",
   "execution_count": 0,
   "metadata": {
    "application/vnd.databricks.v1+cell": {
     "cellMetadata": {
      "byteLimit": 2048000,
      "rowLimit": 10000
     },
     "inputWidgets": {},
     "nuid": "7cc2ea76-0f96-4951-a6bc-0e077395ae4c",
     "showTitle": false,
     "title": ""
    }
   },
   "outputs": [],
   "source": [
    "from langchain.vectorstores import FAISS\n",
    "docsearch = FAISS.from_documents(text_chunks, embeddings)"
   ]
  },
  {
   "cell_type": "code",
   "execution_count": 0,
   "metadata": {
    "application/vnd.databricks.v1+cell": {
     "cellMetadata": {
      "byteLimit": 2048000,
      "rowLimit": 10000
     },
     "inputWidgets": {},
     "nuid": "8b22b30e-4599-4755-a6ae-e87d37000ac8",
     "showTitle": false,
     "title": ""
    }
   },
   "outputs": [
    {
     "output_type": "stream",
     "name": "stdout",
     "output_type": "stream",
     "text": [
      "35\n"
     ]
    }
   ],
   "source": [
    "print(len(text_chunks))"
   ]
  },
  {
   "cell_type": "code",
   "execution_count": 0,
   "metadata": {
    "application/vnd.databricks.v1+cell": {
     "cellMetadata": {
      "byteLimit": 2048000,
      "rowLimit": 10000
     },
     "inputWidgets": {},
     "nuid": "6c612439-0f11-4837-bc55-e4016cfe9f86",
     "showTitle": false,
     "title": ""
    }
   },
   "outputs": [],
   "source": [
    "DB_FAISS_PATH = \"vectorstore/db_faiss\"\n",
    "docsearch.save_local(DB_FAISS_PATH)"
   ]
  },
  {
   "cell_type": "code",
   "execution_count": 0,
   "metadata": {
    "application/vnd.databricks.v1+cell": {
     "cellMetadata": {
      "byteLimit": 2048000,
      "rowLimit": 10000
     },
     "inputWidgets": {},
     "nuid": "8dc942d7-c186-4bc5-89f3-a1824a7cace2",
     "showTitle": false,
     "title": ""
    }
   },
   "outputs": [
    {
     "output_type": "display_data",
     "data": {
      "text/html": [
       "<pre style=\"white-space:pre;overflow-x:auto;line-height:normal;font-family:Menlo,'DejaVu Sans Mono',consolas,'Courier New',monospace\"><span style=\"color: #800000; text-decoration-color: #800000\">╭─────────────────────────────── </span><span style=\"color: #800000; text-decoration-color: #800000; font-weight: bold\">Traceback </span><span style=\"color: #bf7f7f; text-decoration-color: #bf7f7f; font-weight: bold\">(most recent call last)</span><span style=\"color: #800000; text-decoration-color: #800000\"> ────────────────────────────────╮</span>\n",
       "<span style=\"color: #800000; text-decoration-color: #800000\">│</span> <span style=\"color: #bfbf7f; text-decoration-color: #bfbf7f\">/databricks/python/lib/python3.10/site-packages/langchain/llms/</span><span style=\"color: #808000; text-decoration-color: #808000; font-weight: bold\">ctransformers.py</span>:<span style=\"color: #0000ff; text-decoration-color: #0000ff\">62</span> in            <span style=\"color: #800000; text-decoration-color: #800000\">│</span>\n",
       "<span style=\"color: #800000; text-decoration-color: #800000\">│</span> <span style=\"color: #00ff00; text-decoration-color: #00ff00\">validate_environment</span>                                                                             <span style=\"color: #800000; text-decoration-color: #800000\">│</span>\n",
       "<span style=\"color: #800000; text-decoration-color: #800000\">│</span>                                                                                                  <span style=\"color: #800000; text-decoration-color: #800000\">│</span>\n",
       "<span style=\"color: #800000; text-decoration-color: #800000\">│</span>   <span style=\"color: #7f7f7f; text-decoration-color: #7f7f7f\"> 59 </span><span style=\"color: #7f7f7f; text-decoration-color: #7f7f7f\">│   </span><span style=\"color: #0000ff; text-decoration-color: #0000ff\">def</span> <span style=\"color: #00ff00; text-decoration-color: #00ff00\">validate_environment</span>(<span style=\"color: #00ffff; text-decoration-color: #00ffff\">cls</span>, values: Dict) -&gt; Dict:                                   <span style=\"color: #800000; text-decoration-color: #800000\">│</span>\n",
       "<span style=\"color: #800000; text-decoration-color: #800000\">│</span>   <span style=\"color: #7f7f7f; text-decoration-color: #7f7f7f\"> 60 </span><span style=\"color: #bfbfbf; text-decoration-color: #bfbfbf\">│   │   </span><span style=\"color: #808000; text-decoration-color: #808000\">\"\"\"Validate that ``ctransformers`` package is installed.\"\"\"</span>                        <span style=\"color: #800000; text-decoration-color: #800000\">│</span>\n",
       "<span style=\"color: #800000; text-decoration-color: #800000\">│</span>   <span style=\"color: #7f7f7f; text-decoration-color: #7f7f7f\"> 61 </span><span style=\"color: #7f7f7f; text-decoration-color: #7f7f7f\">│   │   </span><span style=\"color: #0000ff; text-decoration-color: #0000ff\">try</span>:                                                                               <span style=\"color: #800000; text-decoration-color: #800000\">│</span>\n",
       "<span style=\"color: #800000; text-decoration-color: #800000\">│</span> <span style=\"color: #800000; text-decoration-color: #800000\">❱ </span> 62 <span style=\"color: #7f7f7f; text-decoration-color: #7f7f7f\">│   │   │   </span><span style=\"color: #0000ff; text-decoration-color: #0000ff\">from</span> <span style=\"color: #00ffff; text-decoration-color: #00ffff; text-decoration: underline\">ctransformers</span> <span style=\"color: #0000ff; text-decoration-color: #0000ff\">import</span> AutoModelForCausalLM                                 <span style=\"color: #800000; text-decoration-color: #800000\">│</span>\n",
       "<span style=\"color: #800000; text-decoration-color: #800000\">│</span>   <span style=\"color: #7f7f7f; text-decoration-color: #7f7f7f\"> 63 </span><span style=\"color: #7f7f7f; text-decoration-color: #7f7f7f\">│   │   </span><span style=\"color: #0000ff; text-decoration-color: #0000ff\">except</span> <span style=\"color: #00ffff; text-decoration-color: #00ffff\">ImportError</span>:                                                                <span style=\"color: #800000; text-decoration-color: #800000\">│</span>\n",
       "<span style=\"color: #800000; text-decoration-color: #800000\">│</span>   <span style=\"color: #7f7f7f; text-decoration-color: #7f7f7f\"> 64 </span><span style=\"color: #7f7f7f; text-decoration-color: #7f7f7f\">│   │   │   </span><span style=\"color: #0000ff; text-decoration-color: #0000ff\">raise</span> <span style=\"color: #00ffff; text-decoration-color: #00ffff\">ImportError</span>(                                                             <span style=\"color: #800000; text-decoration-color: #800000\">│</span>\n",
       "<span style=\"color: #800000; text-decoration-color: #800000\">│</span>   <span style=\"color: #7f7f7f; text-decoration-color: #7f7f7f\"> 65 </span><span style=\"color: #7f7f7f; text-decoration-color: #7f7f7f\">│   │   │   │   </span><span style=\"color: #808000; text-decoration-color: #808000\">\"Could not import `ctransformers` package. \"</span>                               <span style=\"color: #800000; text-decoration-color: #800000\">│</span>\n",
       "<span style=\"color: #800000; text-decoration-color: #800000\">╰──────────────────────────────────────────────────────────────────────────────────────────────────╯</span>\n",
       "<span style=\"color: #ff0000; text-decoration-color: #ff0000; font-weight: bold\">ModuleNotFoundError: </span>No module named <span style=\"color: #008000; text-decoration-color: #008000\">'ctransformers'</span>\n",
       "\n",
       "<span style=\"font-style: italic\">During handling of the above exception, another exception occurred:</span>\n",
       "\n",
       "<span style=\"color: #800000; text-decoration-color: #800000\">╭─────────────────────────────── </span><span style=\"color: #800000; text-decoration-color: #800000; font-weight: bold\">Traceback </span><span style=\"color: #bf7f7f; text-decoration-color: #bf7f7f; font-weight: bold\">(most recent call last)</span><span style=\"color: #800000; text-decoration-color: #800000\"> ────────────────────────────────╮</span>\n",
       "<span style=\"color: #800000; text-decoration-color: #800000\">│</span> in <span style=\"color: #00ff00; text-decoration-color: #00ff00\">&lt;module&gt;</span>:<span style=\"color: #0000ff; text-decoration-color: #0000ff\">6</span>                                                                                    <span style=\"color: #800000; text-decoration-color: #800000\">│</span>\n",
       "<span style=\"color: #800000; text-decoration-color: #800000\">│</span>                                                                                                  <span style=\"color: #800000; text-decoration-color: #800000\">│</span>\n",
       "<span style=\"color: #800000; text-decoration-color: #800000\">│</span> in <span style=\"color: #00ff00; text-decoration-color: #00ff00\">pydantic.main.BaseModel.__init__</span>:<span style=\"color: #0000ff; text-decoration-color: #0000ff\">339</span>                                                          <span style=\"color: #800000; text-decoration-color: #800000\">│</span>\n",
       "<span style=\"color: #800000; text-decoration-color: #800000\">│</span>                                                                                                  <span style=\"color: #800000; text-decoration-color: #800000\">│</span>\n",
       "<span style=\"color: #800000; text-decoration-color: #800000\">│</span> in <span style=\"color: #00ff00; text-decoration-color: #00ff00\">pydantic.main.validate_model</span>:<span style=\"color: #0000ff; text-decoration-color: #0000ff\">1102</span>                                                             <span style=\"color: #800000; text-decoration-color: #800000\">│</span>\n",
       "<span style=\"color: #800000; text-decoration-color: #800000\">│</span>                                                                                                  <span style=\"color: #800000; text-decoration-color: #800000\">│</span>\n",
       "<span style=\"color: #800000; text-decoration-color: #800000\">│</span> <span style=\"color: #bfbf7f; text-decoration-color: #bfbf7f\">/databricks/python/lib/python3.10/site-packages/langchain/llms/</span><span style=\"color: #808000; text-decoration-color: #808000; font-weight: bold\">ctransformers.py</span>:<span style=\"color: #0000ff; text-decoration-color: #0000ff\">64</span> in            <span style=\"color: #800000; text-decoration-color: #800000\">│</span>\n",
       "<span style=\"color: #800000; text-decoration-color: #800000\">│</span> <span style=\"color: #00ff00; text-decoration-color: #00ff00\">validate_environment</span>                                                                             <span style=\"color: #800000; text-decoration-color: #800000\">│</span>\n",
       "<span style=\"color: #800000; text-decoration-color: #800000\">│</span>                                                                                                  <span style=\"color: #800000; text-decoration-color: #800000\">│</span>\n",
       "<span style=\"color: #800000; text-decoration-color: #800000\">│</span>   <span style=\"color: #7f7f7f; text-decoration-color: #7f7f7f\"> 61 </span><span style=\"color: #7f7f7f; text-decoration-color: #7f7f7f\">│   │   </span><span style=\"color: #0000ff; text-decoration-color: #0000ff\">try</span>:                                                                               <span style=\"color: #800000; text-decoration-color: #800000\">│</span>\n",
       "<span style=\"color: #800000; text-decoration-color: #800000\">│</span>   <span style=\"color: #7f7f7f; text-decoration-color: #7f7f7f\"> 62 </span><span style=\"color: #7f7f7f; text-decoration-color: #7f7f7f\">│   │   │   </span><span style=\"color: #0000ff; text-decoration-color: #0000ff\">from</span> <span style=\"color: #00ffff; text-decoration-color: #00ffff; text-decoration: underline\">ctransformers</span> <span style=\"color: #0000ff; text-decoration-color: #0000ff\">import</span> AutoModelForCausalLM                                 <span style=\"color: #800000; text-decoration-color: #800000\">│</span>\n",
       "<span style=\"color: #800000; text-decoration-color: #800000\">│</span>   <span style=\"color: #7f7f7f; text-decoration-color: #7f7f7f\"> 63 </span><span style=\"color: #7f7f7f; text-decoration-color: #7f7f7f\">│   │   </span><span style=\"color: #0000ff; text-decoration-color: #0000ff\">except</span> <span style=\"color: #00ffff; text-decoration-color: #00ffff\">ImportError</span>:                                                                <span style=\"color: #800000; text-decoration-color: #800000\">│</span>\n",
       "<span style=\"color: #800000; text-decoration-color: #800000\">│</span> <span style=\"color: #800000; text-decoration-color: #800000\">❱ </span> 64 <span style=\"color: #7f7f7f; text-decoration-color: #7f7f7f\">│   │   │   </span><span style=\"color: #0000ff; text-decoration-color: #0000ff\">raise</span> <span style=\"color: #00ffff; text-decoration-color: #00ffff\">ImportError</span>(                                                             <span style=\"color: #800000; text-decoration-color: #800000\">│</span>\n",
       "<span style=\"color: #800000; text-decoration-color: #800000\">│</span>   <span style=\"color: #7f7f7f; text-decoration-color: #7f7f7f\"> 65 </span><span style=\"color: #7f7f7f; text-decoration-color: #7f7f7f\">│   │   │   │   </span><span style=\"color: #808000; text-decoration-color: #808000\">\"Could not import `ctransformers` package. \"</span>                               <span style=\"color: #800000; text-decoration-color: #800000\">│</span>\n",
       "<span style=\"color: #800000; text-decoration-color: #800000\">│</span>   <span style=\"color: #7f7f7f; text-decoration-color: #7f7f7f\"> 66 </span><span style=\"color: #7f7f7f; text-decoration-color: #7f7f7f\">│   │   │   │   </span><span style=\"color: #808000; text-decoration-color: #808000\">\"Please install it with `pip install ctransformers`\"</span>                       <span style=\"color: #800000; text-decoration-color: #800000\">│</span>\n",
       "<span style=\"color: #800000; text-decoration-color: #800000\">│</span>   <span style=\"color: #7f7f7f; text-decoration-color: #7f7f7f\"> 67 </span><span style=\"color: #7f7f7f; text-decoration-color: #7f7f7f\">│   │   │   </span>)                                                                              <span style=\"color: #800000; text-decoration-color: #800000\">│</span>\n",
       "<span style=\"color: #800000; text-decoration-color: #800000\">╰──────────────────────────────────────────────────────────────────────────────────────────────────╯</span>\n",
       "<span style=\"color: #ff0000; text-decoration-color: #ff0000; font-weight: bold\">ImportError: </span>Could not import `ctransformers` package. Please install it with `pip install ctransformers`\n",
       "</pre>\n"
      ],
      "text/plain": [
       "\u001B[31m╭─\u001B[0m\u001B[31m──────────────────────────────\u001B[0m\u001B[31m \u001B[0m\u001B[1;31mTraceback \u001B[0m\u001B[1;2;31m(most recent call last)\u001B[0m\u001B[31m \u001B[0m\u001B[31m───────────────────────────────\u001B[0m\u001B[31m─╮\u001B[0m\n",
       "\u001B[31m│\u001B[0m \u001B[2;33m/databricks/python/lib/python3.10/site-packages/langchain/llms/\u001B[0m\u001B[1;33mctransformers.py\u001B[0m:\u001B[94m62\u001B[0m in            \u001B[31m│\u001B[0m\n",
       "\u001B[31m│\u001B[0m \u001B[92mvalidate_environment\u001B[0m                                                                             \u001B[31m│\u001B[0m\n",
       "\u001B[31m│\u001B[0m                                                                                                  \u001B[31m│\u001B[0m\n",
       "\u001B[31m│\u001B[0m   \u001B[2m 59 \u001B[0m\u001B[2m│   \u001B[0m\u001B[94mdef\u001B[0m \u001B[92mvalidate_environment\u001B[0m(\u001B[96mcls\u001B[0m, values: Dict) -> Dict:                                   \u001B[31m│\u001B[0m\n",
       "\u001B[31m│\u001B[0m   \u001B[2m 60 \u001B[0m\u001B[2;90m│   │   \u001B[0m\u001B[33m\"\"\"Validate that ``ctransformers`` package is installed.\"\"\"\u001B[0m                        \u001B[31m│\u001B[0m\n",
       "\u001B[31m│\u001B[0m   \u001B[2m 61 \u001B[0m\u001B[2m│   │   \u001B[0m\u001B[94mtry\u001B[0m:                                                                               \u001B[31m│\u001B[0m\n",
       "\u001B[31m│\u001B[0m \u001B[31m❱ \u001B[0m 62 \u001B[2m│   │   │   \u001B[0m\u001B[94mfrom\u001B[0m \u001B[4;96mctransformers\u001B[0m \u001B[94mimport\u001B[0m AutoModelForCausalLM                                 \u001B[31m│\u001B[0m\n",
       "\u001B[31m│\u001B[0m   \u001B[2m 63 \u001B[0m\u001B[2m│   │   \u001B[0m\u001B[94mexcept\u001B[0m \u001B[96mImportError\u001B[0m:                                                                \u001B[31m│\u001B[0m\n",
       "\u001B[31m│\u001B[0m   \u001B[2m 64 \u001B[0m\u001B[2m│   │   │   \u001B[0m\u001B[94mraise\u001B[0m \u001B[96mImportError\u001B[0m(                                                             \u001B[31m│\u001B[0m\n",
       "\u001B[31m│\u001B[0m   \u001B[2m 65 \u001B[0m\u001B[2m│   │   │   │   \u001B[0m\u001B[33m\"\u001B[0m\u001B[33mCould not import `ctransformers` package. \u001B[0m\u001B[33m\"\u001B[0m                               \u001B[31m│\u001B[0m\n",
       "\u001B[31m╰──────────────────────────────────────────────────────────────────────────────────────────────────╯\u001B[0m\n",
       "\u001B[1;91mModuleNotFoundError: \u001B[0mNo module named \u001B[32m'ctransformers'\u001B[0m\n",
       "\n",
       "\u001B[3mDuring handling of the above exception, another exception occurred:\u001B[0m\n",
       "\n",
       "\u001B[31m╭─\u001B[0m\u001B[31m──────────────────────────────\u001B[0m\u001B[31m \u001B[0m\u001B[1;31mTraceback \u001B[0m\u001B[1;2;31m(most recent call last)\u001B[0m\u001B[31m \u001B[0m\u001B[31m───────────────────────────────\u001B[0m\u001B[31m─╮\u001B[0m\n",
       "\u001B[31m│\u001B[0m in \u001B[92m<module>\u001B[0m:\u001B[94m6\u001B[0m                                                                                    \u001B[31m│\u001B[0m\n",
       "\u001B[31m│\u001B[0m                                                                                                  \u001B[31m│\u001B[0m\n",
       "\u001B[31m│\u001B[0m in \u001B[92mpydantic.main.BaseModel.__init__\u001B[0m:\u001B[94m339\u001B[0m                                                          \u001B[31m│\u001B[0m\n",
       "\u001B[31m│\u001B[0m                                                                                                  \u001B[31m│\u001B[0m\n",
       "\u001B[31m│\u001B[0m in \u001B[92mpydantic.main.validate_model\u001B[0m:\u001B[94m1102\u001B[0m                                                             \u001B[31m│\u001B[0m\n",
       "\u001B[31m│\u001B[0m                                                                                                  \u001B[31m│\u001B[0m\n",
       "\u001B[31m│\u001B[0m \u001B[2;33m/databricks/python/lib/python3.10/site-packages/langchain/llms/\u001B[0m\u001B[1;33mctransformers.py\u001B[0m:\u001B[94m64\u001B[0m in            \u001B[31m│\u001B[0m\n",
       "\u001B[31m│\u001B[0m \u001B[92mvalidate_environment\u001B[0m                                                                             \u001B[31m│\u001B[0m\n",
       "\u001B[31m│\u001B[0m                                                                                                  \u001B[31m│\u001B[0m\n",
       "\u001B[31m│\u001B[0m   \u001B[2m 61 \u001B[0m\u001B[2m│   │   \u001B[0m\u001B[94mtry\u001B[0m:                                                                               \u001B[31m│\u001B[0m\n",
       "\u001B[31m│\u001B[0m   \u001B[2m 62 \u001B[0m\u001B[2m│   │   │   \u001B[0m\u001B[94mfrom\u001B[0m \u001B[4;96mctransformers\u001B[0m \u001B[94mimport\u001B[0m AutoModelForCausalLM                                 \u001B[31m│\u001B[0m\n",
       "\u001B[31m│\u001B[0m   \u001B[2m 63 \u001B[0m\u001B[2m│   │   \u001B[0m\u001B[94mexcept\u001B[0m \u001B[96mImportError\u001B[0m:                                                                \u001B[31m│\u001B[0m\n",
       "\u001B[31m│\u001B[0m \u001B[31m❱ \u001B[0m 64 \u001B[2m│   │   │   \u001B[0m\u001B[94mraise\u001B[0m \u001B[96mImportError\u001B[0m(                                                             \u001B[31m│\u001B[0m\n",
       "\u001B[31m│\u001B[0m   \u001B[2m 65 \u001B[0m\u001B[2m│   │   │   │   \u001B[0m\u001B[33m\"\u001B[0m\u001B[33mCould not import `ctransformers` package. \u001B[0m\u001B[33m\"\u001B[0m                               \u001B[31m│\u001B[0m\n",
       "\u001B[31m│\u001B[0m   \u001B[2m 66 \u001B[0m\u001B[2m│   │   │   │   \u001B[0m\u001B[33m\"\u001B[0m\u001B[33mPlease install it with `pip install ctransformers`\u001B[0m\u001B[33m\"\u001B[0m                       \u001B[31m│\u001B[0m\n",
       "\u001B[31m│\u001B[0m   \u001B[2m 67 \u001B[0m\u001B[2m│   │   │   \u001B[0m)                                                                              \u001B[31m│\u001B[0m\n",
       "\u001B[31m╰──────────────────────────────────────────────────────────────────────────────────────────────────╯\u001B[0m\n",
       "\u001B[1;91mImportError: \u001B[0mCould not import `ctransformers` package. Please install it with `pip install ctransformers`\n"
      ]
     },
     "metadata": {},
     "output_type": "display_data"
    },
    {
     "output_type": "display_data",
     "data": {
      "text/plain": [
       ""
      ]
     },
     "metadata": {
      "application/vnd.databricks.v1+output": {
       "arguments": {},
       "data": "",
       "errorSummary": "<span class='ansi-red-fg'>ImportError</span>: Could not import `ctransformers` package. Please install it with `pip install ctransformers`",
       "errorTraceType": "ansi",
       "metadata": {},
       "type": "ipynbError"
      }
     },
     "output_type": "display_data"
    }
   ],
   "source": [
    "from langchain.llms import CTransformers\n",
    "from langchain.memory import ConversationBufferMemory\n",
    "from langchain.chains import ConversationalRetrievalChain\n",
    "import sys\n",
    "\n",
    "llm = CTransformers(model=\"models/llama-2-7b-chat.ggmlv3.q4_0.bin\",\n",
    "                    model_type=\"llama\",\n",
    "                    max_new_tokens=512,\n",
    "                    temperature=0.1)\n",
    "\n",
    "qa = ConversationalRetrievalChain.from_llm(llm, retriever=docsearch.as_retriever())\n",
    "\n",
    "while True:\n",
    "    chat_history = []\n",
    "    #query = \"What is the value of  GDP per capita of Finland provided in the data?\"\n",
    "    query = input(f\"Input Prompt: \")\n",
    "    if query == 'exit':\n",
    "        print('Exiting')\n",
    "        sys.exit()\n",
    "    if query == '':\n",
    "        continue\n",
    "    result = qa({\"question\":query, \"chat_history\":chat_history})\n",
    "    print(\"Response: \", result['answer'])"
   ]
  },
  {
   "cell_type": "code",
   "execution_count": 0,
   "metadata": {
    "application/vnd.databricks.v1+cell": {
     "cellMetadata": {
      "byteLimit": 2048000,
      "rowLimit": 10000
     },
     "inputWidgets": {},
     "nuid": "667ca475-e231-4f49-85b3-b46d37b80a84",
     "showTitle": false,
     "title": ""
    }
   },
   "outputs": [
    {
     "output_type": "display_data",
     "data": {
      "text/html": [
       "<pre style=\"white-space:pre;overflow-x:auto;line-height:normal;font-family:Menlo,'DejaVu Sans Mono',consolas,'Courier New',monospace\"><span style=\"color: #800000; text-decoration-color: #800000\">╭─────────────────────────────── </span><span style=\"color: #800000; text-decoration-color: #800000; font-weight: bold\">Traceback </span><span style=\"color: #bf7f7f; text-decoration-color: #bf7f7f; font-weight: bold\">(most recent call last)</span><span style=\"color: #800000; text-decoration-color: #800000\"> ────────────────────────────────╮</span>\n",
       "<span style=\"color: #800000; text-decoration-color: #800000\">│</span> in <span style=\"color: #00ff00; text-decoration-color: #00ff00\">&lt;module&gt;</span>:<span style=\"color: #0000ff; text-decoration-color: #0000ff\">1</span>                                                                                    <span style=\"color: #800000; text-decoration-color: #800000\">│</span>\n",
       "<span style=\"color: #800000; text-decoration-color: #800000\">╰──────────────────────────────────────────────────────────────────────────────────────────────────╯</span>\n",
       "<span style=\"color: #ff0000; text-decoration-color: #ff0000; font-weight: bold\">ModuleNotFoundError: </span>No module named <span style=\"color: #008000; text-decoration-color: #008000\">'langchain.embeddings.mlflow_gatewayllms'</span>\n",
       "</pre>\n"
      ],
      "text/plain": [
       "\u001B[31m╭─\u001B[0m\u001B[31m──────────────────────────────\u001B[0m\u001B[31m \u001B[0m\u001B[1;31mTraceback \u001B[0m\u001B[1;2;31m(most recent call last)\u001B[0m\u001B[31m \u001B[0m\u001B[31m───────────────────────────────\u001B[0m\u001B[31m─╮\u001B[0m\n",
       "\u001B[31m│\u001B[0m in \u001B[92m<module>\u001B[0m:\u001B[94m1\u001B[0m                                                                                    \u001B[31m│\u001B[0m\n",
       "\u001B[31m╰──────────────────────────────────────────────────────────────────────────────────────────────────╯\u001B[0m\n",
       "\u001B[1;91mModuleNotFoundError: \u001B[0mNo module named \u001B[32m'langchain.embeddings.mlflow_gatewayllms'\u001B[0m\n"
      ]
     },
     "metadata": {},
     "output_type": "display_data"
    },
    {
     "output_type": "display_data",
     "data": {
      "text/plain": [
       ""
      ]
     },
     "metadata": {
      "application/vnd.databricks.v1+output": {
       "arguments": {},
       "data": "",
       "errorSummary": "<span class='ansi-red-fg'>ModuleNotFoundError</span>: No module named 'langchain.embeddings.mlflow_gatewayllms'",
       "errorTraceType": "ansi",
       "metadata": {},
       "type": "ipynbError"
      }
     },
     "output_type": "display_data"
    }
   ],
   "source": [
    "from langchain.embeddings.mlflow_gatewayllms import MLflowAIGatewayEmbeddings\n",
    "from langchain.vectorstores import Chroma\n",
    "\n",
    "# Retrieve the AI Gateway Route\n",
    "\n",
    "mosaicml_embedding_route = MLflowAIGatewayEmbeddings(\n",
    "  gateway_uri=\"databricks\",\n",
    "  route=\"embedding\"\n",
    ")\n",
    "\n",
    "# load it into Chroma\n",
    "\n",
    "db = Chroma.from_documents(docs, embedding_function=mosaicml_embedding_route, persist_directory=\"/tmp/gardening_db\")"
   ]
  },
  {
   "cell_type": "code",
   "execution_count": 0,
   "metadata": {
    "application/vnd.databricks.v1+cell": {
     "cellMetadata": {
      "byteLimit": 2048000,
      "rowLimit": 10000
     },
     "inputWidgets": {},
     "nuid": "35af159b-722b-4f8b-b634-560d7e8e2658",
     "showTitle": false,
     "title": ""
    }
   },
   "outputs": [
    {
     "output_type": "stream",
     "name": "stdout",
     "output_type": "stream",
     "text": [
      "\u001B[43mNote: you may need to restart the kernel using dbutils.library.restartPython() to use updated packages.\u001B[0m\nRequirement already satisfied: langchain in /databricks/python3/lib/python3.10/site-packages (0.0.181)\nCollecting langchain\n  Downloading langchain-0.0.344-py3-none-any.whl (1.9 MB)\n     ━━━━━━━━━━━━━━━━━━━━━━━━━━━━━━━━━━━━━━━━ 1.9/1.9 MB 11.1 MB/s eta 0:00:00\nRequirement already satisfied: anyio<4.0 in /local_disk0/.ephemeral_nfs/envs/pythonEnv-3a4f20d4-e668-4c45-9cf1-c642200c074f/lib/python3.10/site-packages (from langchain) (3.7.1)\nRequirement already satisfied: tenacity<9.0.0,>=8.1.0 in /databricks/python3/lib/python3.10/site-packages (from langchain) (8.1.0)\nRequirement already satisfied: SQLAlchemy<3,>=1.4 in /databricks/python3/lib/python3.10/site-packages (from langchain) (1.4.39)\nRequirement already satisfied: PyYAML>=5.3 in /databricks/python3/lib/python3.10/site-packages (from langchain) (6.0)\nRequirement already satisfied: async-timeout<5.0.0,>=4.0.0 in /databricks/python3/lib/python3.10/site-packages (from langchain) (4.0.2)\nRequirement already satisfied: dataclasses-json<0.7,>=0.5.7 in /databricks/python3/lib/python3.10/site-packages (from langchain) (0.5.8)\nCollecting langsmith<0.1.0,>=0.0.63\n  Downloading langsmith-0.0.67-py3-none-any.whl (47 kB)\n     ━━━━━━━━━━━━━━━━━━━━━━━━━━━━━━━━━━━━━━━━ 47.0/47.0 kB 9.8 MB/s eta 0:00:00\nCollecting jsonpatch<2.0,>=1.33\n  Downloading jsonpatch-1.33-py2.py3-none-any.whl (12 kB)\nRequirement already satisfied: pydantic<3,>=1 in /local_disk0/.ephemeral_nfs/envs/pythonEnv-3a4f20d4-e668-4c45-9cf1-c642200c074f/lib/python3.10/site-packages (from langchain) (1.10.9)\nRequirement already satisfied: aiohttp<4.0.0,>=3.8.3 in /databricks/python3/lib/python3.10/site-packages (from langchain) (3.8.4)\nRequirement already satisfied: numpy<2,>=1 in /databricks/python3/lib/python3.10/site-packages (from langchain) (1.21.5)\nCollecting langchain-core<0.1,>=0.0.8\n  Downloading langchain_core-0.0.8-py3-none-any.whl (177 kB)\n     ━━━━━━━━━━━━━━━━━━━━━━━━━━━━━━━━━━━━━━ 177.6/177.6 kB 15.0 MB/s eta 0:00:00\nRequirement already satisfied: requests<3,>=2 in /databricks/python3/lib/python3.10/site-packages (from langchain) (2.28.1)\nRequirement already satisfied: frozenlist>=1.1.1 in /databricks/python3/lib/python3.10/site-packages (from aiohttp<4.0.0,>=3.8.3->langchain) (1.3.3)\nRequirement already satisfied: aiosignal>=1.1.2 in /databricks/python3/lib/python3.10/site-packages (from aiohttp<4.0.0,>=3.8.3->langchain) (1.3.1)\nRequirement already satisfied: multidict<7.0,>=4.5 in /databricks/python3/lib/python3.10/site-packages (from aiohttp<4.0.0,>=3.8.3->langchain) (6.0.4)\nRequirement already satisfied: charset-normalizer<4.0,>=2.0 in /databricks/python3/lib/python3.10/site-packages (from aiohttp<4.0.0,>=3.8.3->langchain) (2.0.4)\nRequirement already satisfied: yarl<2.0,>=1.0 in /databricks/python3/lib/python3.10/site-packages (from aiohttp<4.0.0,>=3.8.3->langchain) (1.9.2)\nRequirement already satisfied: attrs>=17.3.0 in /databricks/python3/lib/python3.10/site-packages (from aiohttp<4.0.0,>=3.8.3->langchain) (21.4.0)\nRequirement already satisfied: idna>=2.8 in /databricks/python3/lib/python3.10/site-packages (from anyio<4.0->langchain) (3.3)\nRequirement already satisfied: sniffio>=1.1 in /local_disk0/.ephemeral_nfs/envs/pythonEnv-3a4f20d4-e668-4c45-9cf1-c642200c074f/lib/python3.10/site-packages (from anyio<4.0->langchain) (1.3.0)\nRequirement already satisfied: exceptiongroup in /local_disk0/.ephemeral_nfs/envs/pythonEnv-3a4f20d4-e668-4c45-9cf1-c642200c074f/lib/python3.10/site-packages (from anyio<4.0->langchain) (1.2.0)\nRequirement already satisfied: typing-inspect>=0.4.0 in /databricks/python3/lib/python3.10/site-packages (from dataclasses-json<0.7,>=0.5.7->langchain) (0.9.0)\nRequirement already satisfied: marshmallow<4.0.0,>=3.3.0 in /databricks/python3/lib/python3.10/site-packages (from dataclasses-json<0.7,>=0.5.7->langchain) (3.19.0)\nRequirement already satisfied: marshmallow-enum<2.0.0,>=1.5.1 in /databricks/python3/lib/python3.10/site-packages (from dataclasses-json<0.7,>=0.5.7->langchain) (1.5.1)\nCollecting jsonpointer>=1.9\n  Downloading jsonpointer-2.4-py2.py3-none-any.whl (7.8 kB)\nRequirement already satisfied: typing-extensions>=4.2.0 in /local_disk0/.ephemeral_nfs/envs/pythonEnv-3a4f20d4-e668-4c45-9cf1-c642200c074f/lib/python3.10/site-packages (from pydantic<3,>=1->langchain) (4.8.0)\nRequirement already satisfied: urllib3<1.27,>=1.21.1 in /databricks/python3/lib/python3.10/site-packages (from requests<3,>=2->langchain) (1.26.11)\nRequirement already satisfied: certifi>=2017.4.17 in /databricks/python3/lib/python3.10/site-packages (from requests<3,>=2->langchain) (2022.9.14)\nRequirement already satisfied: greenlet!=0.4.17 in /databricks/python3/lib/python3.10/site-packages (from SQLAlchemy<3,>=1.4->langchain) (1.1.1)\nRequirement already satisfied: packaging>=17.0 in /databricks/python3/lib/python3.10/site-packages (from marshmallow<4.0.0,>=3.3.0->dataclasses-json<0.7,>=0.5.7->langchain) (21.3)\nRequirement already satisfied: mypy-extensions>=0.3.0 in /databricks/python3/lib/python3.10/site-packages (from typing-inspect>=0.4.0->dataclasses-json<0.7,>=0.5.7->langchain) (0.4.3)\nRequirement already satisfied: pyparsing!=3.0.5,>=2.0.2 in /databricks/python3/lib/python3.10/site-packages (from packaging>=17.0->marshmallow<4.0.0,>=3.3.0->dataclasses-json<0.7,>=0.5.7->langchain) (3.0.9)\nInstalling collected packages: jsonpointer, langsmith, jsonpatch, langchain-core, langchain\n  Attempting uninstall: langchain\n    Found existing installation: langchain 0.0.181\n    Not uninstalling langchain at /databricks/python3/lib/python3.10/site-packages, outside environment /local_disk0/.ephemeral_nfs/envs/pythonEnv-3a4f20d4-e668-4c45-9cf1-c642200c074f\n    Can't uninstall 'langchain'. No files were found to uninstall.\nSuccessfully installed jsonpatch-1.33 jsonpointer-2.4 langchain-0.0.344 langchain-core-0.0.8 langsmith-0.0.67\n\u001B[43mNote: you may need to restart the kernel using dbutils.library.restartPython() to use updated packages.\u001B[0m\n"
     ]
    }
   ],
   "source": [
    "%pip install --upgrade langchain"
   ]
  },
  {
   "cell_type": "code",
   "execution_count": 0,
   "metadata": {
    "application/vnd.databricks.v1+cell": {
     "cellMetadata": {},
     "inputWidgets": {},
     "nuid": "8bb409b1-f533-478f-be03-59668ed8ab7d",
     "showTitle": false,
     "title": ""
    }
   },
   "outputs": [],
   "source": []
  },
  {
   "cell_type": "code",
   "execution_count": 0,
   "metadata": {
    "application/vnd.databricks.v1+cell": {
     "cellMetadata": {},
     "inputWidgets": {},
     "nuid": "ca86f218-95da-406d-a0b7-c80a35c0d5c8",
     "showTitle": false,
     "title": ""
    }
   },
   "outputs": [],
   "source": []
  },
  {
   "cell_type": "code",
   "execution_count": 0,
   "metadata": {
    "application/vnd.databricks.v1+cell": {
     "cellMetadata": {},
     "inputWidgets": {},
     "nuid": "8d974011-d4fa-4467-b75e-21869f011643",
     "showTitle": false,
     "title": ""
    }
   },
   "outputs": [],
   "source": []
  },
  {
   "cell_type": "code",
   "execution_count": 0,
   "metadata": {
    "application/vnd.databricks.v1+cell": {
     "cellMetadata": {},
     "inputWidgets": {},
     "nuid": "cbf18e55-4f7e-462f-9d02-350b69b57612",
     "showTitle": false,
     "title": ""
    }
   },
   "outputs": [],
   "source": []
  },
  {
   "cell_type": "code",
   "execution_count": 0,
   "metadata": {
    "application/vnd.databricks.v1+cell": {
     "cellMetadata": {},
     "inputWidgets": {},
     "nuid": "bec36ef3-27d5-48e7-a38e-e1d05df5989a",
     "showTitle": false,
     "title": ""
    }
   },
   "outputs": [],
   "source": []
  },
  {
   "cell_type": "code",
   "execution_count": 0,
   "metadata": {
    "application/vnd.databricks.v1+cell": {
     "cellMetadata": {},
     "inputWidgets": {},
     "nuid": "f0a60996-e9ce-451c-ad36-ed9b76b75d3e",
     "showTitle": false,
     "title": ""
    }
   },
   "outputs": [],
   "source": []
  },
  {
   "cell_type": "code",
   "execution_count": 0,
   "metadata": {
    "application/vnd.databricks.v1+cell": {
     "cellMetadata": {},
     "inputWidgets": {},
     "nuid": "499bad29-8d23-43d6-bd7a-4b1979160db5",
     "showTitle": false,
     "title": ""
    }
   },
   "outputs": [],
   "source": []
  },
  {
   "cell_type": "code",
   "execution_count": 0,
   "metadata": {
    "application/vnd.databricks.v1+cell": {
     "cellMetadata": {},
     "inputWidgets": {},
     "nuid": "90e28087-3e91-433d-81eb-8e0a813c2095",
     "showTitle": false,
     "title": ""
    }
   },
   "outputs": [],
   "source": []
  },
  {
   "cell_type": "code",
   "execution_count": 0,
   "metadata": {
    "application/vnd.databricks.v1+cell": {
     "cellMetadata": {},
     "inputWidgets": {},
     "nuid": "17be2d46-6607-41a0-b31a-a7ace29b1257",
     "showTitle": false,
     "title": ""
    }
   },
   "outputs": [],
   "source": []
  },
  {
   "cell_type": "code",
   "execution_count": 0,
   "metadata": {
    "application/vnd.databricks.v1+cell": {
     "cellMetadata": {
      "byteLimit": 2048000,
      "rowLimit": 10000
     },
     "inputWidgets": {},
     "nuid": "ed0d275d-9e92-4ddd-ac87-89cbee7cfe94",
     "showTitle": false,
     "title": ""
    }
   },
   "outputs": [
    {
     "output_type": "stream",
     "name": "stdout",
     "output_type": "stream",
     "text": [
      "\u001B[43mNote: you may need to restart the kernel using dbutils.library.restartPython() to use updated packages.\u001B[0m\nCollecting mlflow\n  Downloading mlflow-2.8.1-py3-none-any.whl (19.0 MB)\n     ━━━━━━━━━━━━━━━━━━━━━━━━━━━━━━━━━━━━━━━━ 19.0/19.0 MB 41.6 MB/s eta 0:00:00\nRequirement already satisfied: sqlparse<1,>=0.4.0 in /databricks/python3/lib/python3.10/site-packages (from mlflow) (0.4.2)\nRequirement already satisfied: Jinja2<4,>=2.11 in /databricks/python3/lib/python3.10/site-packages (from mlflow) (2.11.3)\nRequirement already satisfied: click<9,>=7.0 in /databricks/python3/lib/python3.10/site-packages (from mlflow) (8.0.4)\nRequirement already satisfied: pyyaml<7,>=5.1 in /databricks/python3/lib/python3.10/site-packages (from mlflow) (6.0)\nRequirement already satisfied: cloudpickle<3 in /databricks/python3/lib/python3.10/site-packages (from mlflow) (2.0.0)\nRequirement already satisfied: scikit-learn<2 in /databricks/python3/lib/python3.10/site-packages (from mlflow) (1.1.1)\nCollecting docker<7,>=4.0.0\n  Downloading docker-6.1.3-py3-none-any.whl (148 kB)\n     ━━━━━━━━━━━━━━━━━━━━━━━━━━━━━━━━━━━━━━ 148.1/148.1 kB 28.3 MB/s eta 0:00:00\nRequirement already satisfied: gitpython<4,>=2.1.0 in /databricks/python3/lib/python3.10/site-packages (from mlflow) (3.1.27)\nCollecting alembic!=1.10.0,<2\n  Downloading alembic-1.13.0-py3-none-any.whl (230 kB)\n     ━━━━━━━━━━━━━━━━━━━━━━━━━━━━━━━━━━━━━━ 230.6/230.6 kB 37.2 MB/s eta 0:00:00\nRequirement already satisfied: scipy<2 in /databricks/python3/lib/python3.10/site-packages (from mlflow) (1.9.1)\nRequirement already satisfied: pandas<3 in /databricks/python3/lib/python3.10/site-packages (from mlflow) (1.4.4)\nRequirement already satisfied: protobuf<5,>=3.12.0 in /databricks/python3/lib/python3.10/site-packages (from mlflow) (3.19.4)\nRequirement already satisfied: requests<3,>=2.17.3 in /databricks/python3/lib/python3.10/site-packages (from mlflow) (2.28.1)\nRequirement already satisfied: numpy<2 in /databricks/python3/lib/python3.10/site-packages (from mlflow) (1.21.5)\nRequirement already satisfied: markdown<4,>=3.3 in /databricks/python3/lib/python3.10/site-packages (from mlflow) (3.3.4)\nRequirement already satisfied: matplotlib<4 in /databricks/python3/lib/python3.10/site-packages (from mlflow) (3.5.2)\nRequirement already satisfied: entrypoints<1 in /databricks/python3/lib/python3.10/site-packages (from mlflow) (0.4)\nRequirement already satisfied: Flask<4 in /databricks/python3/lib/python3.10/site-packages (from mlflow) (1.1.2+db1)\nRequirement already satisfied: importlib-metadata!=4.7.0,<7,>=3.7.0 in /databricks/python3/lib/python3.10/site-packages (from mlflow) (4.11.3)\nRequirement already satisfied: pyarrow<15,>=4.0.0 in /databricks/python3/lib/python3.10/site-packages (from mlflow) (8.0.0)\nCollecting querystring-parser<2\n  Downloading querystring_parser-1.2.4-py2.py3-none-any.whl (7.9 kB)\nRequirement already satisfied: pytz<2024 in /databricks/python3/lib/python3.10/site-packages (from mlflow) (2022.1)\nRequirement already satisfied: sqlalchemy<3,>=1.4.0 in /databricks/python3/lib/python3.10/site-packages (from mlflow) (1.4.39)\nRequirement already satisfied: packaging<24 in /databricks/python3/lib/python3.10/site-packages (from mlflow) (21.3)\nRequirement already satisfied: gunicorn<22 in /databricks/python3/lib/python3.10/site-packages (from mlflow) (20.1.0)\nRequirement already satisfied: databricks-cli<1,>=0.8.7 in /databricks/python3/lib/python3.10/site-packages (from mlflow) (0.17.7)\nRequirement already satisfied: typing-extensions>=4 in /databricks/python3/lib/python3.10/site-packages (from alembic!=1.10.0,<2->mlflow) (4.3.0)\nRequirement already satisfied: Mako in /databricks/python3/lib/python3.10/site-packages (from alembic!=1.10.0,<2->mlflow) (1.2.0)\nRequirement already satisfied: pyjwt>=1.7.0 in /usr/lib/python3/dist-packages (from databricks-cli<1,>=0.8.7->mlflow) (2.3.0)\nRequirement already satisfied: tabulate>=0.7.7 in /databricks/python3/lib/python3.10/site-packages (from databricks-cli<1,>=0.8.7->mlflow) (0.8.10)\nRequirement already satisfied: six>=1.10.0 in /usr/lib/python3/dist-packages (from databricks-cli<1,>=0.8.7->mlflow) (1.16.0)\nRequirement already satisfied: oauthlib>=3.1.0 in /usr/lib/python3/dist-packages (from databricks-cli<1,>=0.8.7->mlflow) (3.2.0)\nRequirement already satisfied: urllib3<2.0.0,>=1.26.7 in /databricks/python3/lib/python3.10/site-packages (from databricks-cli<1,>=0.8.7->mlflow) (1.26.11)\nRequirement already satisfied: websocket-client>=0.32.0 in /databricks/python3/lib/python3.10/site-packages (from docker<7,>=4.0.0->mlflow) (0.58.0)\nRequirement already satisfied: itsdangerous>=0.24 in /databricks/python3/lib/python3.10/site-packages (from Flask<4->mlflow) (2.0.1)\nRequirement already satisfied: Werkzeug>=0.15 in /databricks/python3/lib/python3.10/site-packages (from Flask<4->mlflow) (2.0.3)\nRequirement already satisfied: gitdb<5,>=4.0.1 in /databricks/python3/lib/python3.10/site-packages (from gitpython<4,>=2.1.0->mlflow) (4.0.10)\nRequirement already satisfied: setuptools>=3.0 in /databricks/python3/lib/python3.10/site-packages (from gunicorn<22->mlflow) (63.4.1)\nRequirement already satisfied: zipp>=0.5 in /databricks/python3/lib/python3.10/site-packages (from importlib-metadata!=4.7.0,<7,>=3.7.0->mlflow) (3.8.0)\nRequirement already satisfied: MarkupSafe>=0.23 in /databricks/python3/lib/python3.10/site-packages (from Jinja2<4,>=2.11->mlflow) (2.0.1)\nRequirement already satisfied: cycler>=0.10 in /databricks/python3/lib/python3.10/site-packages (from matplotlib<4->mlflow) (0.11.0)\nRequirement already satisfied: pillow>=6.2.0 in /databricks/python3/lib/python3.10/site-packages (from matplotlib<4->mlflow) (9.2.0)\nRequirement already satisfied: fonttools>=4.22.0 in /databricks/python3/lib/python3.10/site-packages (from matplotlib<4->mlflow) (4.25.0)\nRequirement already satisfied: kiwisolver>=1.0.1 in /databricks/python3/lib/python3.10/site-packages (from matplotlib<4->mlflow) (1.4.2)\nRequirement already satisfied: pyparsing>=2.2.1 in /databricks/python3/lib/python3.10/site-packages (from matplotlib<4->mlflow) (3.0.9)\nRequirement already satisfied: python-dateutil>=2.7 in /databricks/python3/lib/python3.10/site-packages (from matplotlib<4->mlflow) (2.8.2)\nRequirement already satisfied: charset-normalizer<3,>=2 in /databricks/python3/lib/python3.10/site-packages (from requests<3,>=2.17.3->mlflow) (2.0.4)\nRequirement already satisfied: idna<4,>=2.5 in /databricks/python3/lib/python3.10/site-packages (from requests<3,>=2.17.3->mlflow) (3.3)\nRequirement already satisfied: certifi>=2017.4.17 in /databricks/python3/lib/python3.10/site-packages (from requests<3,>=2.17.3->mlflow) (2022.9.14)\nRequirement already satisfied: joblib>=1.0.0 in /databricks/python3/lib/python3.10/site-packages (from scikit-learn<2->mlflow) (1.2.0)\nRequirement already satisfied: threadpoolctl>=2.0.0 in /databricks/python3/lib/python3.10/site-packages (from scikit-learn<2->mlflow) (2.2.0)\nRequirement already satisfied: greenlet!=0.4.17 in /databricks/python3/lib/python3.10/site-packages (from sqlalchemy<3,>=1.4.0->mlflow) (1.1.1)\nRequirement already satisfied: smmap<6,>=3.0.1 in /databricks/python3/lib/python3.10/site-packages (from gitdb<5,>=4.0.1->gitpython<4,>=2.1.0->mlflow) (5.0.0)\nInstalling collected packages: querystring-parser, docker, alembic, mlflow\nSuccessfully installed alembic-1.13.0 docker-6.1.3 mlflow-2.8.1 querystring-parser-1.2.4\n\u001B[43mNote: you may need to restart the kernel using dbutils.library.restartPython() to use updated packages.\u001B[0m\n\u001B[43mNote: you may need to restart the kernel using dbutils.library.restartPython() to use updated packages.\u001B[0m\nCollecting git+https://github.com/mlflow/mlflow.git@refs/pull/10420/merge\n  Cloning https://github.com/mlflow/mlflow.git (to revision refs/pull/10420/merge) to /tmp/pip-req-build-ypeh9ynu\n  Running command git clone --filter=blob:none --quiet https://github.com/mlflow/mlflow.git /tmp/pip-req-build-ypeh9ynu\n  WARNING: Did not find branch or tag 'refs/pull/10420/merge', assuming revision or ref.\n  Running command git fetch -q https://github.com/mlflow/mlflow.git refs/pull/10420/merge\n  Running command git checkout -q 559d5bdd44e0034f9f4bc46b4752aba06f0e7dc5\n  Resolved https://github.com/mlflow/mlflow.git to commit 559d5bdd44e0034f9f4bc46b4752aba06f0e7dc5\n  Running command git submodule update --init --recursive -q\n  Installing build dependencies: started\n  Installing build dependencies: finished with status 'done'\n  Getting requirements to build wheel: started\n  Getting requirements to build wheel: finished with status 'done'\n  Preparing metadata (pyproject.toml): started\n  Preparing metadata (pyproject.toml): finished with status 'done'\nCollecting lxml==4.9.3\n  Downloading lxml-4.9.3-cp310-cp310-manylinux_2_28_x86_64.whl (7.9 MB)\n     ━━━━━━━━━━━━━━━━━━━━━━━━━━━━━━━━━━━━━━━━ 7.9/7.9 MB 18.2 MB/s eta 0:00:00\nCollecting transformers==4.30.2\n  Downloading transformers-4.30.2-py3-none-any.whl (7.2 MB)\n     ━━━━━━━━━━━━━━━━━━━━━━━━━━━━━━━━━━━━━━━━ 7.2/7.2 MB 53.2 MB/s eta 0:00:00\nCollecting langchain==0.0.342\n  Downloading langchain-0.0.342-py3-none-any.whl (1.9 MB)\n     ━━━━━━━━━━━━━━━━━━━━━━━━━━━━━━━━━━━━━━━━ 1.9/1.9 MB 66.7 MB/s eta 0:00:00\nCollecting databricks-vectorsearch==0.21\n  Downloading databricks_vectorsearch-0.21-py3-none-any.whl (8.5 kB)\nRequirement already satisfied: tqdm>=4.27 in /databricks/python3/lib/python3.10/site-packages (from transformers==4.30.2) (4.64.1)\nRequirement already satisfied: numpy>=1.17 in /databricks/python3/lib/python3.10/site-packages (from transformers==4.30.2) (1.21.5)\nRequirement already satisfied: packaging>=20.0 in /databricks/python3/lib/python3.10/site-packages (from transformers==4.30.2) (21.3)\nCollecting safetensors>=0.3.1\n  Downloading safetensors-0.4.1-cp310-cp310-manylinux_2_17_x86_64.manylinux2014_x86_64.whl (1.3 MB)\n     ━━━━━━━━━━━━━━━━━━━━━━━━━━━━━━━━━━━━━━━━ 1.3/1.3 MB 71.0 MB/s eta 0:00:00\nRequirement already satisfied: filelock in /databricks/python3/lib/python3.10/site-packages (from transformers==4.30.2) (3.6.0)\nRequirement already satisfied: regex!=2019.12.17 in /databricks/python3/lib/python3.10/site-packages (from transformers==4.30.2) (2022.7.9)\nRequirement already satisfied: pyyaml>=5.1 in /databricks/python3/lib/python3.10/site-packages (from transformers==4.30.2) (6.0)\nRequirement already satisfied: requests in /databricks/python3/lib/python3.10/site-packages (from transformers==4.30.2) (2.28.1)\nRequirement already satisfied: tokenizers!=0.11.3,<0.14,>=0.11.1 in /databricks/python3/lib/python3.10/site-packages (from transformers==4.30.2) (0.13.3)\nRequirement already satisfied: huggingface-hub<1.0,>=0.14.1 in /databricks/python3/lib/python3.10/site-packages (from transformers==4.30.2) (0.15.1)\nRequirement already satisfied: async-timeout<5.0.0,>=4.0.0 in /databricks/python3/lib/python3.10/site-packages (from langchain==0.0.342) (4.0.2)\nRequirement already satisfied: SQLAlchemy<3,>=1.4 in /databricks/python3/lib/python3.10/site-packages (from langchain==0.0.342) (1.4.39)\nRequirement already satisfied: tenacity<9.0.0,>=8.1.0 in /databricks/python3/lib/python3.10/site-packages (from langchain==0.0.342) (8.1.0)\nCollecting anyio<4.0\n  Downloading anyio-3.7.1-py3-none-any.whl (80 kB)\n     ━━━━━━━━━━━━━━━━━━━━━━━━━━━━━━━━━━━━━━━━ 80.9/80.9 kB 17.7 MB/s eta 0:00:00\nCollecting langsmith<0.1.0,>=0.0.63\n  Downloading langsmith-0.0.69-py3-none-any.whl (48 kB)\n     ━━━━━━━━━━━━━━━━━━━━━━━━━━━━━━━━━━━━━━━━ 48.2/48.2 kB 8.8 MB/s eta 0:00:00\nRequirement already satisfied: pydantic<3,>=1 in /databricks/python3/lib/python3.10/site-packages (from langchain==0.0.342) (1.10.6)\nRequirement already satisfied: aiohttp<4.0.0,>=3.8.3 in /databricks/python3/lib/python3.10/site-packages (from langchain==0.0.342) (3.8.4)\nCollecting langchain-core<0.1,>=0.0.7\n  Downloading langchain_core-0.0.9-py3-none-any.whl (177 kB)\n     ━━━━━━━━━━━━━━━━━━━━━━━━━━━━━━━━━━━━━━ 177.8/177.8 kB 32.2 MB/s eta 0:00:00\nCollecting jsonpatch<2.0,>=1.33\n  Downloading jsonpatch-1.33-py2.py3-none-any.whl (12 kB)\nRequirement already satisfied: dataclasses-json<0.7,>=0.5.7 in /databricks/python3/lib/python3.10/site-packages (from langchain==0.0.342) (0.5.8)\nRequirement already satisfied: protobuf<5,>=3.12.0 in /databricks/python3/lib/python3.10/site-packages (from databricks-vectorsearch==0.21) (3.19.4)\nRequirement already satisfied: mlflow-skinny<3,>=2.4.0 in /databricks/python3/lib/python3.10/site-packages (from databricks-vectorsearch==0.21) (2.4.2)\nRequirement already satisfied: importlib-metadata!=4.7.0,<7,>=3.7.0 in /databricks/python3/lib/python3.10/site-packages (from mlflow==2.8.2.dev0) (4.11.3)\nRequirement already satisfied: markdown<4,>=3.3 in /databricks/python3/lib/python3.10/site-packages (from mlflow==2.8.2.dev0) (3.3.4)\nRequirement already satisfied: entrypoints<1 in /databricks/python3/lib/python3.10/site-packages (from mlflow==2.8.2.dev0) (0.4)\nRequirement already satisfied: querystring-parser<2 in /local_disk0/.ephemeral_nfs/envs/pythonEnv-5aa69075-919f-40b4-b2c1-14dd6752c591/lib/python3.10/site-packages (from mlflow==2.8.2.dev0) (1.2.4)\nRequirement already satisfied: Flask<4 in /databricks/python3/lib/python3.10/site-packages (from mlflow==2.8.2.dev0) (1.1.2+db1)\nRequirement already satisfied: sqlparse<1,>=0.4.0 in /databricks/python3/lib/python3.10/site-packages (from mlflow==2.8.2.dev0) (0.4.2)\nRequirement already satisfied: gitpython<4,>=2.1.0 in /databricks/python3/lib/python3.10/site-packages (from mlflow==2.8.2.dev0) (3.1.27)\nRequirement already satisfied: scipy<2 in /databricks/python3/lib/python3.10/site-packages (from mlflow==2.8.2.dev0) (1.9.1)\nRequirement already satisfied: docker<7,>=4.0.0 in /local_disk0/.ephemeral_nfs/envs/pythonEnv-5aa69075-919f-40b4-b2c1-14dd6752c591/lib/python3.10/site-packages (from mlflow==2.8.2.dev0) (6.1.3)\nRequirement already satisfied: scikit-learn<2 in /databricks/python3/lib/python3.10/site-packages (from mlflow==2.8.2.dev0) (1.1.1)\nRequirement already satisfied: pyarrow<15,>=4.0.0 in /databricks/python3/lib/python3.10/site-packages (from mlflow==2.8.2.dev0) (8.0.0)\nRequirement already satisfied: gunicorn<22 in /databricks/python3/lib/python3.10/site-packages (from mlflow==2.8.2.dev0) (20.1.0)\nRequirement already satisfied: cloudpickle<4 in /databricks/python3/lib/python3.10/site-packages (from mlflow==2.8.2.dev0) (2.0.0)\nRequirement already satisfied: matplotlib<4 in /databricks/python3/lib/python3.10/site-packages (from mlflow==2.8.2.dev0) (3.5.2)\nRequirement already satisfied: databricks-cli<1,>=0.8.7 in /databricks/python3/lib/python3.10/site-packages (from mlflow==2.8.2.dev0) (0.17.7)\nRequirement already satisfied: Jinja2<4,>=2.11 in /databricks/python3/lib/python3.10/site-packages (from mlflow==2.8.2.dev0) (2.11.3)\nRequirement already satisfied: alembic!=1.10.0,<2 in /local_disk0/.ephemeral_nfs/envs/pythonEnv-5aa69075-919f-40b4-b2c1-14dd6752c591/lib/python3.10/site-packages (from mlflow==2.8.2.dev0) (1.13.0)\nRequirement already satisfied: click<9,>=7.0 in /databricks/python3/lib/python3.10/site-packages (from mlflow==2.8.2.dev0) (8.0.4)\nRequirement already satisfied: pytz<2024 in /databricks/python3/lib/python3.10/site-packages (from mlflow==2.8.2.dev0) (2022.1)\nRequirement already satisfied: pandas<3 in /databricks/python3/lib/python3.10/site-packages (from mlflow==2.8.2.dev0) (1.4.4)\nRequirement already satisfied: frozenlist>=1.1.1 in /databricks/python3/lib/python3.10/site-packages (from aiohttp<4.0.0,>=3.8.3->langchain==0.0.342) (1.3.3)\nRequirement already satisfied: multidict<7.0,>=4.5 in /databricks/python3/lib/python3.10/site-packages (from aiohttp<4.0.0,>=3.8.3->langchain==0.0.342) (6.0.4)\nRequirement already satisfied: charset-normalizer<4.0,>=2.0 in /databricks/python3/lib/python3.10/site-packages (from aiohttp<4.0.0,>=3.8.3->langchain==0.0.342) (2.0.4)\nRequirement already satisfied: yarl<2.0,>=1.0 in /databricks/python3/lib/python3.10/site-packages (from aiohttp<4.0.0,>=3.8.3->langchain==0.0.342) (1.9.2)\nRequirement already satisfied: attrs>=17.3.0 in /databricks/python3/lib/python3.10/site-packages (from aiohttp<4.0.0,>=3.8.3->langchain==0.0.342) (21.4.0)\nRequirement already satisfied: aiosignal>=1.1.2 in /databricks/python3/lib/python3.10/site-packages (from aiohttp<4.0.0,>=3.8.3->langchain==0.0.342) (1.3.1)\nRequirement already satisfied: typing-extensions>=4 in /databricks/python3/lib/python3.10/site-packages (from alembic!=1.10.0,<2->mlflow==2.8.2.dev0) (4.3.0)\nRequirement already satisfied: Mako in /databricks/python3/lib/python3.10/site-packages (from alembic!=1.10.0,<2->mlflow==2.8.2.dev0) (1.2.0)\nCollecting exceptiongroup\n  Downloading exceptiongroup-1.2.0-py3-none-any.whl (16 kB)\nRequirement already satisfied: idna>=2.8 in /databricks/python3/lib/python3.10/site-packages (from anyio<4.0->langchain==0.0.342) (3.3)\nCollecting sniffio>=1.1\n  Downloading sniffio-1.3.0-py3-none-any.whl (10 kB)\nRequirement already satisfied: pyjwt>=1.7.0 in /usr/lib/python3/dist-packages (from databricks-cli<1,>=0.8.7->mlflow==2.8.2.dev0) (2.3.0)\nRequirement already satisfied: tabulate>=0.7.7 in /databricks/python3/lib/python3.10/site-packages (from databricks-cli<1,>=0.8.7->mlflow==2.8.2.dev0) (0.8.10)\nRequirement already satisfied: urllib3<2.0.0,>=1.26.7 in /databricks/python3/lib/python3.10/site-packages (from databricks-cli<1,>=0.8.7->mlflow==2.8.2.dev0) (1.26.11)\nRequirement already satisfied: six>=1.10.0 in /usr/lib/python3/dist-packages (from databricks-cli<1,>=0.8.7->mlflow==2.8.2.dev0) (1.16.0)\nRequirement already satisfied: oauthlib>=3.1.0 in /usr/lib/python3/dist-packages (from databricks-cli<1,>=0.8.7->mlflow==2.8.2.dev0) (3.2.0)\nRequirement already satisfied: marshmallow-enum<2.0.0,>=1.5.1 in /databricks/python3/lib/python3.10/site-packages (from dataclasses-json<0.7,>=0.5.7->langchain==0.0.342) (1.5.1)\nRequirement already satisfied: marshmallow<4.0.0,>=3.3.0 in /databricks/python3/lib/python3.10/site-packages (from dataclasses-json<0.7,>=0.5.7->langchain==0.0.342) (3.19.0)\nRequirement already satisfied: typing-inspect>=0.4.0 in /databricks/python3/lib/python3.10/site-packages (from dataclasses-json<0.7,>=0.5.7->langchain==0.0.342) (0.9.0)\nRequirement already satisfied: websocket-client>=0.32.0 in /databricks/python3/lib/python3.10/site-packages (from docker<7,>=4.0.0->mlflow==2.8.2.dev0) (0.58.0)\nRequirement already satisfied: itsdangerous>=0.24 in /databricks/python3/lib/python3.10/site-packages (from Flask<4->mlflow==2.8.2.dev0) (2.0.1)\nRequirement already satisfied: Werkzeug>=0.15 in /databricks/python3/lib/python3.10/site-packages (from Flask<4->mlflow==2.8.2.dev0) (2.0.3)\nRequirement already satisfied: gitdb<5,>=4.0.1 in /databricks/python3/lib/python3.10/site-packages (from gitpython<4,>=2.1.0->mlflow==2.8.2.dev0) (4.0.10)\nRequirement already satisfied: setuptools>=3.0 in /databricks/python3/lib/python3.10/site-packages (from gunicorn<22->mlflow==2.8.2.dev0) (63.4.1)\nRequirement already satisfied: fsspec in /databricks/python3/lib/python3.10/site-packages (from huggingface-hub<1.0,>=0.14.1->transformers==4.30.2) (2022.7.1)\nRequirement already satisfied: zipp>=0.5 in /databricks/python3/lib/python3.10/site-packages (from importlib-metadata!=4.7.0,<7,>=3.7.0->mlflow==2.8.2.dev0) (3.8.0)\nRequirement already satisfied: MarkupSafe>=0.23 in /databricks/python3/lib/python3.10/site-packages (from Jinja2<4,>=2.11->mlflow==2.8.2.dev0) (2.0.1)\nCollecting jsonpointer>=1.9\n  Downloading jsonpointer-2.4-py2.py3-none-any.whl (7.8 kB)\nRequirement already satisfied: pillow>=6.2.0 in /databricks/python3/lib/python3.10/site-packages (from matplotlib<4->mlflow==2.8.2.dev0) (9.2.0)\nRequirement already satisfied: python-dateutil>=2.7 in /databricks/python3/lib/python3.10/site-packages (from matplotlib<4->mlflow==2.8.2.dev0) (2.8.2)\nRequirement already satisfied: cycler>=0.10 in /databricks/python3/lib/python3.10/site-packages (from matplotlib<4->mlflow==2.8.2.dev0) (0.11.0)\nRequirement already satisfied: fonttools>=4.22.0 in /databricks/python3/lib/python3.10/site-packages (from matplotlib<4->mlflow==2.8.2.dev0) (4.25.0)\nRequirement already satisfied: kiwisolver>=1.0.1 in /databricks/python3/lib/python3.10/site-packages (from matplotlib<4->mlflow==2.8.2.dev0) (1.4.2)\nRequirement already satisfied: pyparsing>=2.2.1 in /databricks/python3/lib/python3.10/site-packages (from matplotlib<4->mlflow==2.8.2.dev0) (3.0.9)\nRequirement already satisfied: certifi>=2017.4.17 in /databricks/python3/lib/python3.10/site-packages (from requests->transformers==4.30.2) (2022.9.14)\nRequirement already satisfied: joblib>=1.0.0 in /databricks/python3/lib/python3.10/site-packages (from scikit-learn<2->mlflow==2.8.2.dev0) (1.2.0)\nRequirement already satisfied: threadpoolctl>=2.0.0 in /databricks/python3/lib/python3.10/site-packages (from scikit-learn<2->mlflow==2.8.2.dev0) (2.2.0)\nRequirement already satisfied: greenlet!=0.4.17 in /databricks/python3/lib/python3.10/site-packages (from SQLAlchemy<3,>=1.4->langchain==0.0.342) (1.1.1)\nRequirement already satisfied: smmap<6,>=3.0.1 in /databricks/python3/lib/python3.10/site-packages (from gitdb<5,>=4.0.1->gitpython<4,>=2.1.0->mlflow==2.8.2.dev0) (5.0.0)\nRequirement already satisfied: mypy-extensions>=0.3.0 in /databricks/python3/lib/python3.10/site-packages (from typing-inspect>=0.4.0->dataclasses-json<0.7,>=0.5.7->langchain==0.0.342) (0.4.3)\nBuilding wheels for collected packages: mlflow\n  Building wheel for mlflow (pyproject.toml): started\n  Building wheel for mlflow (pyproject.toml): finished with status 'done'\n  Created wheel for mlflow: filename=mlflow-2.8.2.dev0-py3-none-any.whl size=4669232 sha256=765e5eac874fd5ae90077aaac661988e09c58086853f42774620d4ed40d19e53\n  Stored in directory: /tmp/pip-ephem-wheel-cache-1kjxfcxq/wheels/e3/ad/e3/fc4e53b07dad77f142769a8f6181fedb8168826e11742ef712\nSuccessfully built mlflow\nInstalling collected packages: sniffio, safetensors, lxml, jsonpointer, exceptiongroup, langsmith, jsonpatch, anyio, transformers, mlflow, langchain-core, databricks-vectorsearch, langchain\n  Attempting uninstall: transformers\n    Found existing installation: transformers 4.29.2\n    Not uninstalling transformers at /databricks/python3/lib/python3.10/site-packages, outside environment /local_disk0/.ephemeral_nfs/envs/pythonEnv-5aa69075-919f-40b4-b2c1-14dd6752c591\n    Can't uninstall 'transformers'. No files were found to uninstall.\n  Attempting uninstall: mlflow\n    Found existing installation: mlflow 2.8.1\n    Uninstalling mlflow-2.8.1:\n      Successfully uninstalled mlflow-2.8.1\n  Attempting uninstall: langchain\n    Found existing installation: langchain 0.0.181\n    Not uninstalling langchain at /databricks/python3/lib/python3.10/site-packages, outside environment /local_disk0/.ephemeral_nfs/envs/pythonEnv-5aa69075-919f-40b4-b2c1-14dd6752c591\n    Can't uninstall 'langchain'. No files were found to uninstall.\nSuccessfully installed anyio-3.7.1 databricks-vectorsearch-0.21 exceptiongroup-1.2.0 jsonpatch-1.33 jsonpointer-2.4 langchain-0.0.342 langchain-core-0.0.9 langsmith-0.0.69 lxml-4.9.3 mlflow-2.8.2.dev0 safetensors-0.4.1 sniffio-1.3.0 transformers-4.30.2\n\u001B[43mNote: you may need to restart the kernel using dbutils.library.restartPython() to use updated packages.\u001B[0m\n\u001B[43mNote: you may need to restart the kernel using dbutils.library.restartPython() to use updated packages.\u001B[0m\nRequirement already satisfied: langchain in /local_disk0/.ephemeral_nfs/envs/pythonEnv-5aa69075-919f-40b4-b2c1-14dd6752c591/lib/python3.10/site-packages (0.0.342)\nCollecting langchain\n  Downloading langchain-0.0.345-py3-none-any.whl (2.0 MB)\n     ━━━━━━━━━━━━━━━━━━━━━━━━━━━━━━━━━━━━━━━━ 2.0/2.0 MB 8.5 MB/s eta 0:00:00\nRequirement already satisfied: anyio<4.0 in /local_disk0/.ephemeral_nfs/envs/pythonEnv-5aa69075-919f-40b4-b2c1-14dd6752c591/lib/python3.10/site-packages (from langchain) (3.7.1)\nRequirement already satisfied: tenacity<9.0.0,>=8.1.0 in /databricks/python3/lib/python3.10/site-packages (from langchain) (8.1.0)\nRequirement already satisfied: SQLAlchemy<3,>=1.4 in /databricks/python3/lib/python3.10/site-packages (from langchain) (1.4.39)\nRequirement already satisfied: jsonpatch<2.0,>=1.33 in /local_disk0/.ephemeral_nfs/envs/pythonEnv-5aa69075-919f-40b4-b2c1-14dd6752c591/lib/python3.10/site-packages (from langchain) (1.33)\nRequirement already satisfied: pydantic<3,>=1 in /databricks/python3/lib/python3.10/site-packages (from langchain) (1.10.6)\nRequirement already satisfied: PyYAML>=5.3 in /databricks/python3/lib/python3.10/site-packages (from langchain) (6.0)\nRequirement already satisfied: aiohttp<4.0.0,>=3.8.3 in /databricks/python3/lib/python3.10/site-packages (from langchain) (3.8.4)\nRequirement already satisfied: async-timeout<5.0.0,>=4.0.0 in /databricks/python3/lib/python3.10/site-packages (from langchain) (4.0.2)\nRequirement already satisfied: dataclasses-json<0.7,>=0.5.7 in /databricks/python3/lib/python3.10/site-packages (from langchain) (0.5.8)\nRequirement already satisfied: numpy<2,>=1 in /databricks/python3/lib/python3.10/site-packages (from langchain) (1.21.5)\nRequirement already satisfied: langsmith<0.1.0,>=0.0.63 in /local_disk0/.ephemeral_nfs/envs/pythonEnv-5aa69075-919f-40b4-b2c1-14dd6752c591/lib/python3.10/site-packages (from langchain) (0.0.69)\nRequirement already satisfied: langchain-core<0.1,>=0.0.9 in /local_disk0/.ephemeral_nfs/envs/pythonEnv-5aa69075-919f-40b4-b2c1-14dd6752c591/lib/python3.10/site-packages (from langchain) (0.0.9)\nRequirement already satisfied: requests<3,>=2 in /databricks/python3/lib/python3.10/site-packages (from langchain) (2.28.1)\nRequirement already satisfied: charset-normalizer<4.0,>=2.0 in /databricks/python3/lib/python3.10/site-packages (from aiohttp<4.0.0,>=3.8.3->langchain) (2.0.4)\nRequirement already satisfied: multidict<7.0,>=4.5 in /databricks/python3/lib/python3.10/site-packages (from aiohttp<4.0.0,>=3.8.3->langchain) (6.0.4)\nRequirement already satisfied: yarl<2.0,>=1.0 in /databricks/python3/lib/python3.10/site-packages (from aiohttp<4.0.0,>=3.8.3->langchain) (1.9.2)\nRequirement already satisfied: frozenlist>=1.1.1 in /databricks/python3/lib/python3.10/site-packages (from aiohttp<4.0.0,>=3.8.3->langchain) (1.3.3)\nRequirement already satisfied: attrs>=17.3.0 in /databricks/python3/lib/python3.10/site-packages (from aiohttp<4.0.0,>=3.8.3->langchain) (21.4.0)\nRequirement already satisfied: aiosignal>=1.1.2 in /databricks/python3/lib/python3.10/site-packages (from aiohttp<4.0.0,>=3.8.3->langchain) (1.3.1)\nRequirement already satisfied: idna>=2.8 in /databricks/python3/lib/python3.10/site-packages (from anyio<4.0->langchain) (3.3)\nRequirement already satisfied: sniffio>=1.1 in /local_disk0/.ephemeral_nfs/envs/pythonEnv-5aa69075-919f-40b4-b2c1-14dd6752c591/lib/python3.10/site-packages (from anyio<4.0->langchain) (1.3.0)\nRequirement already satisfied: exceptiongroup in /local_disk0/.ephemeral_nfs/envs/pythonEnv-5aa69075-919f-40b4-b2c1-14dd6752c591/lib/python3.10/site-packages (from anyio<4.0->langchain) (1.2.0)\nRequirement already satisfied: typing-inspect>=0.4.0 in /databricks/python3/lib/python3.10/site-packages (from dataclasses-json<0.7,>=0.5.7->langchain) (0.9.0)\nRequirement already satisfied: marshmallow<4.0.0,>=3.3.0 in /databricks/python3/lib/python3.10/site-packages (from dataclasses-json<0.7,>=0.5.7->langchain) (3.19.0)\nRequirement already satisfied: marshmallow-enum<2.0.0,>=1.5.1 in /databricks/python3/lib/python3.10/site-packages (from dataclasses-json<0.7,>=0.5.7->langchain) (1.5.1)\nRequirement already satisfied: jsonpointer>=1.9 in /local_disk0/.ephemeral_nfs/envs/pythonEnv-5aa69075-919f-40b4-b2c1-14dd6752c591/lib/python3.10/site-packages (from jsonpatch<2.0,>=1.33->langchain) (2.4)\nRequirement already satisfied: typing-extensions>=4.2.0 in /databricks/python3/lib/python3.10/site-packages (from pydantic<3,>=1->langchain) (4.3.0)\nRequirement already satisfied: urllib3<1.27,>=1.21.1 in /databricks/python3/lib/python3.10/site-packages (from requests<3,>=2->langchain) (1.26.11)\nRequirement already satisfied: certifi>=2017.4.17 in /databricks/python3/lib/python3.10/site-packages (from requests<3,>=2->langchain) (2022.9.14)\nRequirement already satisfied: greenlet!=0.4.17 in /databricks/python3/lib/python3.10/site-packages (from SQLAlchemy<3,>=1.4->langchain) (1.1.1)\nRequirement already satisfied: packaging>=17.0 in /databricks/python3/lib/python3.10/site-packages (from marshmallow<4.0.0,>=3.3.0->dataclasses-json<0.7,>=0.5.7->langchain) (21.3)\nRequirement already satisfied: mypy-extensions>=0.3.0 in /databricks/python3/lib/python3.10/site-packages (from typing-inspect>=0.4.0->dataclasses-json<0.7,>=0.5.7->langchain) (0.4.3)\nRequirement already satisfied: pyparsing!=3.0.5,>=2.0.2 in /databricks/python3/lib/python3.10/site-packages (from packaging>=17.0->marshmallow<4.0.0,>=3.3.0->dataclasses-json<0.7,>=0.5.7->langchain) (3.0.9)\nInstalling collected packages: langchain\n  Attempting uninstall: langchain\n    Found existing installation: langchain 0.0.342\n    Uninstalling langchain-0.0.342:\n      Successfully uninstalled langchain-0.0.342\nSuccessfully installed langchain-0.0.345\n\u001B[43mNote: you may need to restart the kernel using dbutils.library.restartPython() to use updated packages.\u001B[0m\n\u001B[43mNote: you may need to restart the kernel using dbutils.library.restartPython() to use updated packages.\u001B[0m\nCollecting faiss-cpu\n  Downloading faiss_cpu-1.7.4-cp310-cp310-manylinux_2_17_x86_64.manylinux2014_x86_64.whl (17.6 MB)\n     ━━━━━━━━━━━━━━━━━━━━━━━━━━━━━━━━━━━━━━━━ 17.6/17.6 MB 45.7 MB/s eta 0:00:00\nInstalling collected packages: faiss-cpu\nSuccessfully installed faiss-cpu-1.7.4\n\u001B[43mNote: you may need to restart the kernel using dbutils.library.restartPython() to use updated packages.\u001B[0m\n\u001B[43mNote: you may need to restart the kernel using dbutils.library.restartPython() to use updated packages.\u001B[0m\nCollecting pydantic==1.10.9\n  Downloading pydantic-1.10.9-cp310-cp310-manylinux_2_17_x86_64.manylinux2014_x86_64.whl (3.1 MB)\n     ━━━━━━━━━━━━━━━━━━━━━━━━━━━━━━━━━━━━━━━━ 3.1/3.1 MB 10.7 MB/s eta 0:00:00\nRequirement already satisfied: typing-extensions>=4.2.0 in /databricks/python3/lib/python3.10/site-packages (from pydantic==1.10.9) (4.3.0)\nInstalling collected packages: pydantic\n  Attempting uninstall: pydantic\n    Found existing installation: pydantic 1.10.6\n    Not uninstalling pydantic at /databricks/python3/lib/python3.10/site-packages, outside environment /local_disk0/.ephemeral_nfs/envs/pythonEnv-5aa69075-919f-40b4-b2c1-14dd6752c591\n    Can't uninstall 'pydantic'. No files were found to uninstall.\nSuccessfully installed pydantic-1.10.9\n\u001B[43mNote: you may need to restart the kernel using dbutils.library.restartPython() to use updated packages.\u001B[0m\n\u001B[43mNote: you may need to restart the kernel using dbutils.library.restartPython() to use updated packages.\u001B[0m\nCollecting chromadb\n  Downloading chromadb-0.4.18-py3-none-any.whl (502 kB)\n     ━━━━━━━━━━━━━━━━━━━━━━━━━━━━━━━━━━━━━━━ 502.4/502.4 kB 5.1 MB/s eta 0:00:00\nCollecting typer>=0.9.0\n  Downloading typer-0.9.0-py3-none-any.whl (45 kB)\n     ━━━━━━━━━━━━━━━━━━━━━━━━━━━━━━━━━━━━━━━━ 45.9/45.9 kB 5.2 MB/s eta 0:00:00\nCollecting overrides>=7.3.1\n  Downloading overrides-7.4.0-py3-none-any.whl (17 kB)\nRequirement already satisfied: tokenizers>=0.13.2 in /databricks/python3/lib/python3.10/site-packages (from chromadb) (0.13.3)\nRequirement already satisfied: importlib-resources in /databricks/python3/lib/python3.10/site-packages (from chromadb) (5.12.0)\nCollecting tqdm>=4.65.0\n  Downloading tqdm-4.66.1-py3-none-any.whl (78 kB)\n     ━━━━━━━━━━━━━━━━━━━━━━━━━━━━━━━━━━━━━━━━ 78.3/78.3 kB 5.9 MB/s eta 0:00:00\nCollecting bcrypt>=4.0.1\n  Downloading bcrypt-4.1.1-cp37-abi3-manylinux_2_28_x86_64.whl (699 kB)\n     ━━━━━━━━━━━━━━━━━━━━━━━━━━━━━━━━━━━━━━━ 699.4/699.4 kB 8.0 MB/s eta 0:00:00\nCollecting kubernetes>=28.1.0\n  Downloading kubernetes-28.1.0-py2.py3-none-any.whl (1.6 MB)\n     ━━━━━━━━━━━━━━━━━━━━━━━━━━━━━━━━━━━━━━━━ 1.6/1.6 MB 14.4 MB/s eta 0:00:00\nCollecting uvicorn[standard]>=0.18.3\n  Downloading uvicorn-0.24.0.post1-py3-none-any.whl (59 kB)\n     ━━━━━━━━━━━━━━━━━━━━━━━━━━━━━━━━━━━━━━━━ 59.7/59.7 kB 11.9 MB/s eta 0:00:00\nCollecting posthog>=2.4.0\n  Downloading posthog-3.0.2-py2.py3-none-any.whl (37 kB)\nCollecting onnxruntime>=1.14.1\n  Downloading onnxruntime-1.16.3-cp310-cp310-manylinux_2_17_x86_64.manylinux2014_x86_64.whl (6.4 MB)\n     ━━━━━━━━━━━━━━━━━━━━━━━━━━━━━━━━━━━━━━━━ 6.4/6.4 MB 29.6 MB/s eta 0:00:00\nRequirement already satisfied: PyYAML>=6.0.0 in /databricks/python3/lib/python3.10/site-packages (from chromadb) (6.0)\nCollecting tenacity>=8.2.3\n  Downloading tenacity-8.2.3-py3-none-any.whl (24 kB)\nRequirement already satisfied: requests>=2.28 in /databricks/python3/lib/python3.10/site-packages (from chromadb) (2.28.1)\nCollecting pypika>=0.48.9\n  Downloading PyPika-0.48.9.tar.gz (67 kB)\n     ━━━━━━━━━━━━━━━━━━━━━━━━━━━━━━━━━━━━━━━━ 67.3/67.3 kB 14.8 MB/s eta 0:00:00\n  Installing build dependencies: started\n  Installing build dependencies: finished with status 'done'\n  Getting requirements to build wheel: started\n  Getting requirements to build wheel: finished with status 'done'\n  Preparing metadata (pyproject.toml): started\n  Preparing metadata (pyproject.toml): finished with status 'done'\nCollecting opentelemetry-api>=1.2.0\n  Downloading opentelemetry_api-1.21.0-py3-none-any.whl (57 kB)\n     ━━━━━━━━━━━━━━━━━━━━━━━━━━━━━━━━━━━━━━━━ 57.9/57.9 kB 10.6 MB/s eta 0:00:00\nRequirement already satisfied: pydantic>=1.9 in /local_disk0/.ephemeral_nfs/envs/pythonEnv-5aa69075-919f-40b4-b2c1-14dd6752c591/lib/python3.10/site-packages (from chromadb) (1.10.9)\nCollecting pulsar-client>=3.1.0\n  Downloading pulsar_client-3.3.0-cp310-cp310-manylinux_2_17_x86_64.manylinux2014_x86_64.whl (5.4 MB)\n     ━━━━━━━━━━━━━━━━━━━━━━━━━━━━━━━━━━━━━━━━ 5.4/5.4 MB 52.5 MB/s eta 0:00:00\nCollecting fastapi>=0.95.2\n  Downloading fastapi-0.104.1-py3-none-any.whl (92 kB)\n     ━━━━━━━━━━━━━━━━━━━━━━━━━━━━━━━━━━━━━━━━ 92.9/92.9 kB 19.9 MB/s eta 0:00:00\nCollecting typing-extensions>=4.5.0\n  Downloading typing_extensions-4.8.0-py3-none-any.whl (31 kB)\nCollecting mmh3>=4.0.1\n  Downloading mmh3-4.0.1-cp310-cp310-manylinux_2_5_x86_64.manylinux1_x86_64.manylinux_2_17_x86_64.manylinux2014_x86_64.whl (72 kB)\n     ━━━━━━━━━━━━━━━━━━━━━━━━━━━━━━━━━━━━━━━━ 72.6/72.6 kB 12.6 MB/s eta 0:00:00\nCollecting numpy>=1.22.5\n  Downloading numpy-1.26.2-cp310-cp310-manylinux_2_17_x86_64.manylinux2014_x86_64.whl (18.2 MB)\n     ━━━━━━━━━━━━━━━━━━━━━━━━━━━━━━━━━━━━━━━━ 18.2/18.2 MB 74.1 MB/s eta 0:00:00\nCollecting chroma-hnswlib==0.7.3\n  Downloading chroma_hnswlib-0.7.3-cp310-cp310-manylinux_2_17_x86_64.manylinux2014_x86_64.whl (2.4 MB)\n     ━━━━━━━━━━━━━━━━━━━━━━━━━━━━━━━━━━━━━━━━ 2.4/2.4 MB 98.5 MB/s eta 0:00:00\nCollecting grpcio>=1.58.0\n  Downloading grpcio-1.59.3-cp310-cp310-manylinux_2_17_x86_64.manylinux2014_x86_64.whl (5.3 MB)\n     ━━━━━━━━━━━━━━━━━━━━━━━━━━━━━━━━━━━━━━━━ 5.3/5.3 MB 112.5 MB/s eta 0:00:00\nCollecting opentelemetry-exporter-otlp-proto-grpc>=1.2.0\n  Downloading opentelemetry_exporter_otlp_proto_grpc-1.21.0-py3-none-any.whl (18 kB)\nCollecting opentelemetry-instrumentation-fastapi>=0.41b0\n  Downloading opentelemetry_instrumentation_fastapi-0.42b0-py3-none-any.whl (11 kB)\nCollecting opentelemetry-sdk>=1.2.0\n  Downloading opentelemetry_sdk-1.21.0-py3-none-any.whl (105 kB)\n     ━━━━━━━━━━━━━━━━━━━━━━━━━━━━━━━━━━━━━━ 105.3/105.3 kB 24.9 MB/s eta 0:00:00\nRequirement already satisfied: anyio<4.0.0,>=3.7.1 in /local_disk0/.ephemeral_nfs/envs/pythonEnv-5aa69075-919f-40b4-b2c1-14dd6752c591/lib/python3.10/site-packages (from fastapi>=0.95.2->chromadb) (3.7.1)\nCollecting starlette<0.28.0,>=0.27.0\n  Downloading starlette-0.27.0-py3-none-any.whl (66 kB)\n     ━━━━━━━━━━━━━━━━━━━━━━━━━━━━━━━━━━━━━━━━ 67.0/67.0 kB 15.2 MB/s eta 0:00:00\nRequirement already satisfied: certifi>=14.05.14 in /databricks/python3/lib/python3.10/site-packages (from kubernetes>=28.1.0->chromadb) (2022.9.14)\nCollecting oauthlib>=3.2.2\n  Downloading oauthlib-3.2.2-py3-none-any.whl (151 kB)\n     ━━━━━━━━━━━━━━━━━━━━━━━━━━━━━━━━━━━━━━ 151.7/151.7 kB 26.1 MB/s eta 0:00:00\nRequirement already satisfied: google-auth>=1.0.1 in /databricks/python3/lib/python3.10/site-packages (from kubernetes>=28.1.0->chromadb) (1.33.0)\nRequirement already satisfied: six>=1.9.0 in /usr/lib/python3/dist-packages (from kubernetes>=28.1.0->chromadb) (1.16.0)\nRequirement already satisfied: websocket-client!=0.40.0,!=0.41.*,!=0.42.*,>=0.32.0 in /databricks/python3/lib/python3.10/site-packages (from kubernetes>=28.1.0->chromadb) (0.58.0)\nRequirement already satisfied: requests-oauthlib in /databricks/python3/lib/python3.10/site-packages (from kubernetes>=28.1.0->chromadb) (1.3.1)\nRequirement already satisfied: python-dateutil>=2.5.3 in /databricks/python3/lib/python3.10/site-packages (from kubernetes>=28.1.0->chromadb) (2.8.2)\nRequirement already satisfied: urllib3<2.0,>=1.24.2 in /databricks/python3/lib/python3.10/site-packages (from kubernetes>=28.1.0->chromadb) (1.26.11)\nRequirement already satisfied: flatbuffers in /databricks/python3/lib/python3.10/site-packages (from onnxruntime>=1.14.1->chromadb) (23.5.26)\nCollecting sympy\n  Downloading sympy-1.12-py3-none-any.whl (5.7 MB)\n     ━━━━━━━━━━━━━━━━━━━━━━━━━━━━━━━━━━━━━━━━ 5.7/5.7 MB 123.9 MB/s eta 0:00:00\nCollecting coloredlogs\n  Downloading coloredlogs-15.0.1-py2.py3-none-any.whl (46 kB)\n     ━━━━━━━━━━━━━━━━━━━━━━━━━━━━━━━━━━━━━━━━ 46.0/46.0 kB 10.1 MB/s eta 0:00:00\nRequirement already satisfied: protobuf in /databricks/python3/lib/python3.10/site-packages (from onnxruntime>=1.14.1->chromadb) (3.19.4)\nRequirement already satisfied: packaging in /databricks/python3/lib/python3.10/site-packages (from onnxruntime>=1.14.1->chromadb) (21.3)\nCollecting importlib-metadata<7.0,>=6.0\n  Downloading importlib_metadata-6.9.0-py3-none-any.whl (22 kB)\nCollecting deprecated>=1.2.6\n  Downloading Deprecated-1.2.14-py2.py3-none-any.whl (9.6 kB)\nCollecting opentelemetry-exporter-otlp-proto-common==1.21.0\n  Downloading opentelemetry_exporter_otlp_proto_common-1.21.0-py3-none-any.whl (17 kB)\nCollecting opentelemetry-proto==1.21.0\n  Downloading opentelemetry_proto-1.21.0-py3-none-any.whl (50 kB)\n     ━━━━━━━━━━━━━━━━━━━━━━━━━━━━━━━━━━━━━━━━ 50.8/50.8 kB 8.5 MB/s eta 0:00:00\nRequirement already satisfied: googleapis-common-protos~=1.52 in /databricks/python3/lib/python3.10/site-packages (from opentelemetry-exporter-otlp-proto-grpc>=1.2.0->chromadb) (1.56.4)\nCollecting backoff<3.0.0,>=1.10.0\n  Downloading backoff-2.2.1-py3-none-any.whl (15 kB)\nCollecting opentelemetry-semantic-conventions==0.42b0\n  Downloading opentelemetry_semantic_conventions-0.42b0-py3-none-any.whl (36 kB)\nCollecting opentelemetry-instrumentation==0.42b0\n  Downloading opentelemetry_instrumentation-0.42b0-py3-none-any.whl (25 kB)\nCollecting opentelemetry-instrumentation-asgi==0.42b0\n  Downloading opentelemetry_instrumentation_asgi-0.42b0-py3-none-any.whl (13 kB)\nCollecting opentelemetry-util-http==0.42b0\n  Downloading opentelemetry_util_http-0.42b0-py3-none-any.whl (6.9 kB)\nRequirement already satisfied: setuptools>=16.0 in /databricks/python3/lib/python3.10/site-packages (from opentelemetry-instrumentation==0.42b0->opentelemetry-instrumentation-fastapi>=0.41b0->chromadb) (63.4.1)\nRequirement already satisfied: wrapt<2.0.0,>=1.0.0 in /databricks/python3/lib/python3.10/site-packages (from opentelemetry-instrumentation==0.42b0->opentelemetry-instrumentation-fastapi>=0.41b0->chromadb) (1.14.1)\nCollecting asgiref~=3.0\n  Downloading asgiref-3.7.2-py3-none-any.whl (24 kB)\nCollecting monotonic>=1.5\n  Downloading monotonic-1.6-py2.py3-none-any.whl (8.2 kB)\nRequirement already satisfied: idna<4,>=2.5 in /databricks/python3/lib/python3.10/site-packages (from requests>=2.28->chromadb) (3.3)\nRequirement already satisfied: charset-normalizer<3,>=2 in /databricks/python3/lib/python3.10/site-packages (from requests>=2.28->chromadb) (2.0.4)\nRequirement already satisfied: click<9.0.0,>=7.1.1 in /databricks/python3/lib/python3.10/site-packages (from typer>=0.9.0->chromadb) (8.0.4)\nCollecting h11>=0.8\n  Downloading h11-0.14.0-py3-none-any.whl (58 kB)\n     ━━━━━━━━━━━━━━━━━━━━━━━━━━━━━━━━━━━━━━━━ 58.3/58.3 kB 9.9 MB/s eta 0:00:00\nCollecting python-dotenv>=0.13\n  Downloading python_dotenv-1.0.0-py3-none-any.whl (19 kB)\nCollecting websockets>=10.4\n  Downloading websockets-12.0-cp310-cp310-manylinux_2_5_x86_64.manylinux1_x86_64.manylinux_2_17_x86_64.manylinux2014_x86_64.whl (130 kB)\n     ━━━━━━━━━━━━━━━━━━━━━━━━━━━━━━━━━━━━━━ 130.2/130.2 kB 23.6 MB/s eta 0:00:00\nCollecting watchfiles>=0.13\n  Downloading watchfiles-0.21.0-cp310-cp310-manylinux_2_17_x86_64.manylinux2014_x86_64.whl (1.3 MB)\n     ━━━━━━━━━━━━━━━━━━━━━━━━━━━━━━━━━━━━━━━━ 1.3/1.3 MB 76.7 MB/s eta 0:00:00\nCollecting httptools>=0.5.0\n  Downloading httptools-0.6.1-cp310-cp310-manylinux_2_5_x86_64.manylinux1_x86_64.manylinux_2_17_x86_64.manylinux2014_x86_64.whl (341 kB)\n     ━━━━━━━━━━━━━━━━━━━━━━━━━━━━━━━━━━━━━━ 341.4/341.4 kB 38.7 MB/s eta 0:00:00\nCollecting uvloop!=0.15.0,!=0.15.1,>=0.14.0\n  Downloading uvloop-0.19.0-cp310-cp310-manylinux_2_17_x86_64.manylinux2014_x86_64.whl (3.4 MB)\n     ━━━━━━━━━━━━━━━━━━━━━━━━━━━━━━━━━━━━━━━━ 3.4/3.4 MB 86.2 MB/s eta 0:00:00\nRequirement already satisfied: sniffio>=1.1 in /local_disk0/.ephemeral_nfs/envs/pythonEnv-5aa69075-919f-40b4-b2c1-14dd6752c591/lib/python3.10/site-packages (from anyio<4.0.0,>=3.7.1->fastapi>=0.95.2->chromadb) (1.3.0)\nRequirement already satisfied: exceptiongroup in /local_disk0/.ephemeral_nfs/envs/pythonEnv-5aa69075-919f-40b4-b2c1-14dd6752c591/lib/python3.10/site-packages (from anyio<4.0.0,>=3.7.1->fastapi>=0.95.2->chromadb) (1.2.0)\nRequirement already satisfied: cachetools<5.0,>=2.0.0 in /databricks/python3/lib/python3.10/site-packages (from google-auth>=1.0.1->kubernetes>=28.1.0->chromadb) (4.2.4)\nRequirement already satisfied: rsa<5,>=3.1.4 in /databricks/python3/lib/python3.10/site-packages (from google-auth>=1.0.1->kubernetes>=28.1.0->chromadb) (4.9)\nRequirement already satisfied: pyasn1-modules>=0.2.1 in /databricks/python3/lib/python3.10/site-packages (from google-auth>=1.0.1->kubernetes>=28.1.0->chromadb) (0.2.8)\nRequirement already satisfied: zipp>=0.5 in /databricks/python3/lib/python3.10/site-packages (from importlib-metadata<7.0,>=6.0->opentelemetry-api>=1.2.0->chromadb) (3.8.0)\nCollecting humanfriendly>=9.1\n  Downloading humanfriendly-10.0-py2.py3-none-any.whl (86 kB)\n     ━━━━━━━━━━━━━━━━━━━━━━━━━━━━━━━━━━━━━━━━ 86.8/86.8 kB 15.2 MB/s eta 0:00:00\nRequirement already satisfied: pyparsing!=3.0.5,>=2.0.2 in /databricks/python3/lib/python3.10/site-packages (from packaging->onnxruntime>=1.14.1->chromadb) (3.0.9)\nCollecting mpmath>=0.19\n  Downloading mpmath-1.3.0-py3-none-any.whl (536 kB)\n     ━━━━━━━━━━━━━━━━━━━━━━━━━━━━━━━━━━━━━━ 536.2/536.2 kB 52.7 MB/s eta 0:00:00\nRequirement already satisfied: pyasn1<0.5.0,>=0.4.6 in /databricks/python3/lib/python3.10/site-packages (from pyasn1-modules>=0.2.1->google-auth>=1.0.1->kubernetes>=28.1.0->chromadb) (0.4.8)\nBuilding wheels for collected packages: pypika\n  Building wheel for pypika (pyproject.toml): started\n  Building wheel for pypika (pyproject.toml): finished with status 'done'\n  Created wheel for pypika: filename=PyPika-0.48.9-py2.py3-none-any.whl size=53723 sha256=dd8a1de919138d6e074943747874c303255cd57ad74c301de2181f2420b39f2d\n  Stored in directory: /root/.cache/pip/wheels/e1/26/51/d0bffb3d2fd82256676d7ad3003faea3bd6dddc9577af665f4\nSuccessfully built pypika\nInstalling collected packages: pypika, mpmath, monotonic, mmh3, websockets, uvloop, typing-extensions, tqdm, tenacity, sympy, python-dotenv, pulsar-client, overrides, opentelemetry-util-http, opentelemetry-semantic-conventions, opentelemetry-proto, oauthlib, numpy, importlib-metadata, humanfriendly, httptools, h11, grpcio, deprecated, bcrypt, backoff, watchfiles, uvicorn, typer, starlette, posthog, opentelemetry-exporter-otlp-proto-common, opentelemetry-api, coloredlogs, chroma-hnswlib, asgiref, opentelemetry-sdk, opentelemetry-instrumentation, onnxruntime, kubernetes, fastapi, opentelemetry-instrumentation-asgi, opentelemetry-exporter-otlp-proto-grpc, opentelemetry-instrumentation-fastapi, chromadb\n  Attempting uninstall: typing-extensions\n    Found existing installation: typing_extensions 4.3.0\n    Not uninstalling typing-extensions at /databricks/python3/lib/python3.10/site-packages, outside environment /local_disk0/.ephemeral_nfs/envs/pythonEnv-5aa69075-919f-40b4-b2c1-14dd6752c591\n    Can't uninstall 'typing_extensions'. No files were found to uninstall.\n  Attempting uninstall: tqdm\n    Found existing installation: tqdm 4.64.1\n    Not uninstalling tqdm at /databricks/python3/lib/python3.10/site-packages, outside environment /local_disk0/.ephemeral_nfs/envs/pythonEnv-5aa69075-919f-40b4-b2c1-14dd6752c591\n    Can't uninstall 'tqdm'. No files were found to uninstall.\n  Attempting uninstall: tenacity\n    Found existing installation: tenacity 8.1.0\n    Not uninstalling tenacity at /databricks/python3/lib/python3.10/site-packages, outside environment /local_disk0/.ephemeral_nfs/envs/pythonEnv-5aa69075-919f-40b4-b2c1-14dd6752c591\n    Can't uninstall 'tenacity'. No files were found to uninstall.\n  Attempting uninstall: oauthlib\n    Found existing installation: oauthlib 3.2.0\n    Not uninstalling oauthlib at /usr/lib/python3/dist-packages, outside environment /local_disk0/.ephemeral_nfs/envs/pythonEnv-5aa69075-919f-40b4-b2c1-14dd6752c591\n    Can't uninstall 'oauthlib'. No files were found to uninstall.\n  Attempting uninstall: numpy\n    Found existing installation: numpy 1.21.5\n    Not uninstalling numpy at /databricks/python3/lib/python3.10/site-packages, outside environment /local_disk0/.ephemeral_nfs/envs/pythonEnv-5aa69075-919f-40b4-b2c1-14dd6752c591\n    Can't uninstall 'numpy'. No files were found to uninstall.\n  Attempting uninstall: importlib-metadata\n    Found existing installation: importlib-metadata 4.11.3\n    Not uninstalling importlib-metadata at /databricks/python3/lib/python3.10/site-packages, outside environment /local_disk0/.ephemeral_nfs/envs/pythonEnv-5aa69075-919f-40b4-b2c1-14dd6752c591\n    Can't uninstall 'importlib-metadata'. No files were found to uninstall.\n  Attempting uninstall: grpcio\n    Found existing installation: grpcio 1.48.1\n    Not uninstalling grpcio at /databricks/python3/lib/python3.10/site-packages, outside environment /local_disk0/.ephemeral_nfs/envs/pythonEnv-5aa69075-919f-40b4-b2c1-14dd6752c591\n    Can't uninstall 'grpcio'. No files were found to uninstall.\n  Attempting uninstall: bcrypt\n    Found existing installation: bcrypt 3.2.0\n    Not uninstalling bcrypt at /databricks/python3/lib/python3.10/site-packages, outside environment /local_disk0/.ephemeral_nfs/envs/pythonEnv-5aa69075-919f-40b4-b2c1-14dd6752c591\n    Can't uninstall 'bcrypt'. No files were found to uninstall.\n  Attempting uninstall: typer\n    Found existing installation: typer 0.7.0\n    Not uninstalling typer at /databricks/python3/lib/python3.10/site-packages, outside environment /local_disk0/.ephemeral_nfs/envs/pythonEnv-5aa69075-919f-40b4-b2c1-14dd6752c591\n    Can't uninstall 'typer'. No files were found to uninstall.\nERROR: pip's dependency resolver does not currently take into account all the packages that are installed. This behaviour is the source of the following dependency conflicts.\npetastorm 0.12.1 requires pyspark>=2.1.0, which is not installed.\ndatabricks-feature-store 0.13.6 requires pyspark<4,>=3.1.2, which is not installed.\nydata-profiling 4.2.0 requires numpy<1.24,>=1.16.0, but you have numpy 1.26.2 which is incompatible.\nspacy 3.5.3 requires typer<0.8.0,>=0.3.0, but you have typer 0.9.0 which is incompatible.\nscipy 1.9.1 requires numpy<1.25.0,>=1.18.5, but you have numpy 1.26.2 which is incompatible.\nnumba 0.55.1 requires numpy<1.22,>=1.18, but you have numpy 1.26.2 which is incompatible.\nmleap 0.20.0 requires scikit-learn<0.23.0,>=0.22.0, but you have scikit-learn 1.1.1 which is incompatible.\nSuccessfully installed asgiref-3.7.2 backoff-2.2.1 bcrypt-4.1.1 chroma-hnswlib-0.7.3 chromadb-0.4.18 coloredlogs-15.0.1 deprecated-1.2.14 fastapi-0.104.1 grpcio-1.59.3 h11-0.14.0 httptools-0.6.1 humanfriendly-10.0 importlib-metadata-6.9.0 kubernetes-28.1.0 mmh3-4.0.1 monotonic-1.6 mpmath-1.3.0 numpy-1.26.2 oauthlib-3.2.2 onnxruntime-1.16.3 opentelemetry-api-1.21.0 opentelemetry-exporter-otlp-proto-common-1.21.0 opentelemetry-exporter-otlp-proto-grpc-1.21.0 opentelemetry-instrumentation-0.42b0 opentelemetry-instrumentation-asgi-0.42b0 opentelemetry-instrumentation-fastapi-0.42b0 opentelemetry-proto-1.21.0 opentelemetry-sdk-1.21.0 opentelemetry-semantic-conventions-0.42b0 opentelemetry-util-http-0.42b0 overrides-7.4.0 posthog-3.0.2 pulsar-client-3.3.0 pypika-0.48.9 python-dotenv-1.0.0 starlette-0.27.0 sympy-1.12 tenacity-8.2.3 tqdm-4.66.1 typer-0.9.0 typing-extensions-4.8.0 uvicorn-0.24.0.post1 uvloop-0.19.0 watchfiles-0.21.0 websockets-12.0\n\u001B[43mNote: you may need to restart the kernel using dbutils.library.restartPython() to use updated packages.\u001B[0m\n"
     ]
    }
   ],
   "source": [
    "%pip install mlflow\n",
    "%pip install \"git+https://github.com/mlflow/mlflow.git@refs/pull/10420/merge\" lxml==4.9.3 transformers==4.30.2 langchain==0.0.342 databricks-vectorsearch==0.21\n",
    "%pip install --upgrade langchain\n",
    "%pip install faiss-cpu\n",
    "%pip install pydantic==1.10.9\n",
    "%pip install chromadb"
   ]
  },
  {
   "cell_type": "code",
   "execution_count": 0,
   "metadata": {
    "application/vnd.databricks.v1+cell": {
     "cellMetadata": {
      "byteLimit": 2048000,
      "rowLimit": 10000
     },
     "inputWidgets": {},
     "nuid": "ddaa02cb-519b-4aec-acc3-cfb12d4d565e",
     "showTitle": false,
     "title": ""
    }
   },
   "outputs": [],
   "source": [
    "dbutils.library.restartPython()"
   ]
  },
  {
   "cell_type": "code",
   "execution_count": 0,
   "metadata": {
    "application/vnd.databricks.v1+cell": {
     "cellMetadata": {
      "byteLimit": 2048000,
      "rowLimit": 10000
     },
     "inputWidgets": {},
     "nuid": "23819b9a-432c-4186-a4ef-82f7270ed6ad",
     "showTitle": false,
     "title": ""
    }
   },
   "outputs": [
    {
     "output_type": "stream",
     "name": "stderr",
     "output_type": "stream",
     "text": [
      "<command-2358992249830770>:3: FutureWarning: MLflow AI gateway is deprecated and has been replaced by the deployments API for generative AI. See https://mlflow.org/docs/latest/llms/gateway/deprecation.html for more details.\n  set_gateway_uri(\"databricks\")\n<command-2358992249830770>:5: FutureWarning: MLflow AI gateway is deprecated and has been replaced by the deployments API for generative AI. See https://mlflow.org/docs/latest/llms/gateway/deprecation.html for more details.\n  create_route(\n/local_disk0/.ephemeral_nfs/envs/pythonEnv-2558cb66-9e74-49a6-8705-7723d2bb30e8/lib/python3.10/site-packages/mlflow/gateway/fluent.py:102: FutureWarning: MLflow AI gateway is deprecated and has been replaced by the deployments API for generative AI. See https://mlflow.org/docs/latest/llms/gateway/deprecation.html for more details.\n  return MlflowGatewayClient().create_route(name, route_type, model)\n/local_disk0/.ephemeral_nfs/envs/pythonEnv-2558cb66-9e74-49a6-8705-7723d2bb30e8/lib/python3.10/site-packages/mlflow/gateway/client.py:44: FutureWarning: MLflow AI gateway is deprecated and has been replaced by the deployments API for generative AI. See https://mlflow.org/docs/latest/llms/gateway/deprecation.html for more details.\n  self._gateway_uri = gateway_uri or get_gateway_uri()\n"
     ]
    },
    {
     "output_type": "execute_result",
     "data": {
      "text/plain": [
       "Route(name='embeddings_new', route_type='llm/v1/embeddings', model=RouteModelInfo(name='instructor-xl', provider='mosaicml'), route_url='https://oregon.cloud.databricks.com/gateway/embeddings_new/invocations')"
      ]
     },
     "execution_count": 4,
     "metadata": {},
     "output_type": "execute_result"
    }
   ],
   "source": [
    "from mlflow.gateway import set_gateway_uri, create_route, query\n",
    "\n",
    "set_gateway_uri(\"databricks\")\n",
    "\n",
    "create_route(\n",
    "    \"embeddings_new\",\n",
    "    \"llm/v1/embeddings\",\n",
    "    {\n",
    "        \"name\": \"instructor-xl\",\n",
    "        \"provider\": \"mosaicml\",\n",
    "        \"mosaicml_config\": {\n",
    "            \"mosaicml_api_key\": '30HUkJ.UEvkMW9tAyMS7v91L4-e-gA0r.MKC0GUBphZ.2y5',\n",
    "        },\n",
    "    },\n",
    ")\n",
    "\n"
   ]
  },
  {
   "cell_type": "code",
   "execution_count": 0,
   "metadata": {
    "application/vnd.databricks.v1+cell": {
     "cellMetadata": {
      "byteLimit": 2048000,
      "rowLimit": 10000
     },
     "inputWidgets": {},
     "nuid": "a7b56d46-7e2f-499d-baa3-1a8f25c545ca",
     "showTitle": false,
     "title": ""
    }
   },
   "outputs": [
    {
     "output_type": "stream",
     "name": "stdout",
     "output_type": "stream",
     "text": [
      "[Document(page_content='instruction: एचडीएफसी बैंक की वर्तमान ब्याज दर क्या है?\\ncontext: \\nresponse: एचडीएफसी बैंक की सावधि जमा में ब्याज दर, आपकी जमा राशि, जमा अवधि और खाताधारक का प्रकार (व्यक्तिगत, वरिष्ठ नागरिक आदि) के आधार पर भिन्नता होती है। और आज के लिए, एचडीएफसी बैंक की सावधि जमा में ब्याज दर आपके लिए क्या है?\\n[वर्तमान तिथि] तक, एचडीएफसी बैंक द्वारा अपनी सावधि जमा पर दी जाने वाली वर्तमान ब्याज दरें यहां दी गई हैं:\\n ₹1 करोड़ तक की जमा राशि के लिए, जमा अवधि और खाताधारक के प्रकार के आधार पर ब्याज दरें 3.50% से 7.00% प्रति वर्ष तक होती हैं।₹1 करोड़ से अधिक की जमा राशि के लिए, जमा अवधि और खाताधारक के प्रकार के आधार पर, ब्याज दरें 3.75% से 7.25% प्रति वर्ष तक होती हैं।कृपया ध्यान दें कि ये ब्याज दरें परिवर्तन के अधीन हैं और बाजार की स्थितियों और अन्य कारकों के आधार पर भिन्न हो सकती हैं। सावधि जमा में निवेश करने से पहले एचडीएफसी बैंक द्वारा दी जाने वाली मौजूदा ब्याज दरों और शर्तों की जांच करना हमेशा एक अच्छा विचार है।', metadata={'source': '/Workspace/Users/shalu.tyagi@hdfcbank.com/Dataforfinetuning.csv', 'row': 0}), Document(page_content='instruction: एचडीएफसी बैंक में खाता खोलने की प्रक्रिया क्या है?\\ncontext: \\nresponse: HDFC Bank में खाता खोलने की प्रक्रिया निम्न है:\\nनिचे दिए गए फार्म का उपयोग करें: आप हDFC बैंक का नेत बैंकिंग प्लेटफॉर्म या ब्रांच का उपयोग करके खाता खोलने का फार्म भर सकते हैं।\\nफार्म भरना: आप फार्म भरने के लिए निचे दिए गए संशोधन का उपयोग करें:\\nपहला संशोधन: खाता खोलने का फार्म भरना\\nदूसरा संशोधन: खाता खोलने के लिए आवश्यक दस्तावेज जमा करना\\nतीसरा संशोधन: खाता खोलने के लिए आवश्यक प्रमाण पत्र जमा करना\\nफार्म और दस्तावेज जमा करना: आप फार्म भर सकते हैं और दस्तावेज जमा कर सकते हैं जैसे पासपोर्ट, पन कार्ड, ड्राइवर लाइसेंस आदि ।\\nखाता खोलने के लिए मिनिमम जमा करना: आप खाता खोलने के लिए मिनिमम जमा करना पड़ेगा, जो खाता का नाम आपको मिलेगा ।\\nखाता और डेबिट कार्ड प्राप्त करना: आप खाता खोलने के बाद खाता और डेबिट कार्ड प्राप्त कर सकते हैं ।\\nखाता सेट अप करना: आप खाता सेट अप कर सकते हैं ब्रांच या नेत बैंकिंग प्लेटफॉर्म का उपयोग करके ।\\nखाता का उपयोग करना: आप खाता का उपयोग कर सकते हैं नेत बैंकिंग प्लेटफॉर्म या ब्रांच में ।\\nइसके बाद आप सक्षम हैं कि आप एचडीएफसी बैंक में खाता खोलने की प्रक्रिया सुविधा से पाएंगे ।', metadata={'source': '/Workspace/Users/shalu.tyagi@hdfcbank.com/Dataforfinetuning.csv', 'row': 1}), Document(page_content='instruction: एचडीएफसी बैंक का कस्टमर केयर नंबर क्या है?\\ncontext: \\nresponse: HDFC Bank का कस्टमर केयर नंबर 1800 22 1006 है। यह नंबर 24/7 उपलब्ध है और कस्टमरों के सम्बन्धित सवालों के लिए सहायता प्रदान करता है।\\nइसके अलावा, HDFC Bank का कस्टमर केयर नंबर मोबाइल ऐप और नेट बैंकिंग प्लेटफॉर्म से भी उपलब्ध है।\\nमोबाइल ऐप:\\nगूगल प्ले स्टोर या ऐपल ऐप स्टोर से HDFC Bank मोबाइल ऐप डाउनलोड करें।\\nमोबाइल नंबर रजिस्टर करें और लॉगिन करें।\\n\"Help\" सेक्शन कLICK करें और \"Contact Us\" का चयन करें कस्टमर केयर नंबर के लिए।\\nनेट बैंकिंग:\\nHDFC Bank नेट बैंकिंग अकाउंट में लॉगिन करें।\\n\"Help\" सेक्शन कLICK करें और \"Contact Us\" का चयन करें कस्टमर केयर नंबर के लिए।\\nहDFC Bank का कस्टमर केयर नंबर और अन्य संपर्क विवरण के लिए पहले से जानकारी से लेकर आधार पर निर्णय लें।', metadata={'source': '/Workspace/Users/shalu.tyagi@hdfcbank.com/Dataforfinetuning.csv', 'row': 2}), Document(page_content='instruction: मैं एचडीएफसी बैंक के लिए ऋण विवरण कैसे देख सकता हूं ?\\ncontext: \\nresponse: HDFC Bank के लिए ऋण विवरण देखने के लिए निम्न कदम से सकते हैं:\\nHDFC Bank का ओएल सITE पर जाएं: सबसे पहले HDFC Bank का ओएल सITE पर जाएं (hdfcbank.com).\\nलॉगिन करें: उपरोक्त सITE पर लॉगिन करें अपने मोबाइल नंबर और पासवर्ड के साथ.\\nनेट बैंकिंग का चयन करें: लॉगिन करने के बाद, नेट बैंकिंग का चयन करें.\\nऋण विवरण का चयन करें: नेट बैंकिंग में, ऋण विवरण का चयन करें.\\nऋण विवरण देखें: ऋण विवरण का चयन करने के बाद, आप ऋण विवरण देख सकते हैं.\\nइसके अलावा, HDFC Bank का मोबाइल ऐप भी उपलब्ध है, जहां से आप ऋण विवरण देख सकते हैं.\\nमोबाइल ऐप:\\nHDFC Bank मोबाइल ऐप डाउनलोड करें: गूगल प्ले स्टोर या ऐपल ऐप स्टोर से HDFC Bank मोबाइल ऐप डाउनलोड करें.\\nलॉगिन करें: मोबाइल ऐप में लॉगिन करें अपने मोबाइल नंबर और पासवर्ड के साथ.\\nनेट बैंकिंग का चयन करें: लॉगिन करने के बाद, नेट बैंकिंग का चयन करें.\\nऋण विवरण का चयन करें: नेट बैंकिंग में, ऋण विवरण का चयन करें.\\nऋण विवरण देखें: ऋण विवरण का चयन करने के बाद, आप ऋण विवरण देख सकते हैं.\\nइसके अलावा, HDFC Bank का कस्टमर केयर नंबर भी उपलब्ध है, जहां से आप ऋण विवरण के सवालों के लिए सहायता प्रदान करता है.', metadata={'source': '/Workspace/Users/shalu.tyagi@hdfcbank.com/Dataforfinetuning.csv', 'row': 3}), Document(page_content='instruction: इंजीनियरिंग के लिए सबसे अच्छे कॉलेज कौन से हैं?\\ncontext: \\nresponse: भारत में बड़ी संख्या में इंजीनियरिंग कॉलेज हैं जो उच्च गुणवत्ता वाली शिक्षा प्रदान करते हैं और अच्छी तरह से प्रशिक्षित इंजीनियर तैयार करते हैं। सर्वश्रेष्ठ इंजीनियरिंग कॉलेज का चुनाव विभिन्न कारकों पर निर्भर करता है जैसे इंजीनियरिंग की शाखा, स्थान और व्यक्तिगत प्राथमिकताएँ। यहां भारत के कुछ शीर्ष इंजीनियरिंग कॉलेज हैं:\\nभारतीय प्रौद्योगिकी संस्थान (आईआईटी): आईआईटी को भारत में प्रमुख इंजीनियरिंग संस्थान माना जाता है और यह अपनी शैक्षणिक उत्कृष्टता, अनुसंधान सुविधाओं और प्लेसमेंट अवसरों के लिए जाने जाते हैं। देश के विभिन्न हिस्सों में 23 आईआईटी स्थित हैं, और वे इंजीनियरिंग की विभिन्न शाखाएँ प्रदान करते हैं।\\nराष्ट्रीय प्रौद्योगिकी संस्थान (एनआईटी): एनआईटी अपनी उच्च गुणवत्ता वाली इंजीनियरिंग शिक्षा के लिए भी जाने जाते हैं और भारत के सर्वश्रेष्ठ इंजीनियरिंग कॉलेजों में माने जाते हैं। देश के विभिन्न हिस्सों में 31 एनआईटी स्थित हैं, और वे इंजीनियरिंग की विभिन्न शाखाएँ प्रदान करते हैं।\\nबिड़ला इंस्टीट्यूट ऑफ टेक्नोलॉजी एंड साइंस (बिट्स): बिट्स एक निजी इंजीनियरिंग संस्थान है जो अपनी अकादमिक उत्कृष्टता और अनुसंधान सुविधाओं के लिए जाना जाता है। इसके पिलानी, गोवा और हैदराबाद में परिसर हैं, और यह इंजीनियरिंग की विभिन्न शाखाएँ प्रदान करता है।\\nभारतीय विज्ञान संस्थान (आईआईएससी): आईआईएससी एक प्रमुख अनुसंधान संस्थान है जो उच्च गुणवत्ता वाली इंजीनियरिंग शिक्षा प्रदान करता है। यह बैंगलोर में स्थित है और इंजीनियरिंग की विभिन्न शाखाएँ प्रदान करता है।\\nदिल्ली विश्वविद्यालय: दिल्ली विश्वविद्यालय भारत के शीर्ष विश्वविद्यालयों में से एक है और इंजीनियरिंग की विभिन्न शाखाएँ प्रदान करता है। इसके इंजीनियरिंग कॉलेज, जैसे दिल्ली कॉलेज ऑफ इंजीनियरिंग और नेताजी सुभाष इंस्टीट्यूट ऑफ टेक्नोलॉजी, अपनी शैक्षणिक उत्कृष्टता और प्लेसमेंट अवसरों के लिए जाने जाते हैं।\\nमुंबई विश्वविद्यालय: मुंबई विश्वविद्यालय भारत का एक और शीर्ष विश्वविद्यालय है जो इंजीनियरिंग की विभिन्न शाखाएँ प्रदान करता है। इसके इंजीनियरिंग कॉलेज, जैसे कि भारतीय प्रौद्योगिकी संस्थान बॉम्बे और वीरमाता जीजाबाई प्रौद्योगिकी संस्थान, अपनी शैक्षणिक उत्कृष्टता और प्लेसमेंट अवसरों के लिए जाने जाते हैं।\\nअन्ना विश्वविद्यालय: अन्ना विश्वविद्यालय चेन्नई, तमिलनाडु में स्थित एक प्रमुख इंजीनियरिंग संस्थान है। यह इंजीनियरिंग की विभिन्न शाखाएँ प्रदान करता है और अपनी अकादमिक उत्कृष्टता और अनुसंधान सुविधाओं के लिए जाना जाता है।\\nजादवपुर विश्वविद्यालय: जादवपुर विश्वविद्यालय कोलकाता, पश्चिम बंगाल में स्थित एक प्रमुख इंजीनियरिंग संस्थान है। यह इंजीनियरिंग की विभिन्न शाखाएँ प्रदान करता है और अपनी अकादमिक उत्कृष्टता और अनुसंधान सुविधाओं के लिए जाना जाता है।\\nहैदराबाद विश्वविद्यालय: हैदराबाद विश्वविद्यालय हैदराबाद, तेलंगाना में स्थित एक प्रमुख इंजीनियरिंग संस्थान है। यह इंजीनियरिंग की विभिन्न शाखाएँ प्रदान करता है और अपनी अकादमिक उत्कृष्टता और अनुसंधान सुविधाओं के लिए जाना जाता है।\\nथापर इंस्टीट्यूट ऑफ इंजीनियरिंग एंड टेक्नोलॉजी: थापर इंस्टीट्यूट ऑफ इंजीनियरिंग एंड टेक्नोलॉजी पंजाब के पटियाला में स्थित एक निजी इंजीनियरिंग संस्थान है। यह इंजीनियरिंग की विभिन्न शाखाएँ प्रदान करता है और अपनी शैक्षणिक उत्कृष्टता और प्लेसमेंट अवसरों के लिए जाना जाता है।', metadata={'source': '/Workspace/Users/shalu.tyagi@hdfcbank.com/Dataforfinetuning.csv', 'row': 4}), Document(page_content='instruction: कृपया पास्ता की रेसिपी प्रदान करें\\ncontext: \\nresponse: ज़रूर, यहाँ पास्ता बनाने की एक सरल विधि दी गई है:\\nसामग्री:\\n1 पाउंड पास्ता (जैसे स्पेगेटी, लिंगुइन, या फेटुकाइन)\\n2 बड़े चम्मच जैतून का तेल\\n1 प्याज, बारीक कटा हुआ\\n3 लहसुन की कलियाँ, बारीक काट लें\\n1 चम्मच सूखी तुलसी\\n1 चम्मच सूखा अजवायन\\nनमक और काली मिर्च स्वादानुसार\\n1 कप मैरिनारा सॉस (घर का बना या स्टोर से खरीदा हुआ)\\n1 कप कसा हुआ परमेसन चीज़ (वैकल्पिक)\\nनिर्देश:\\nनमकीन पानी के एक बड़े बर्तन को उबाल लें। पास्ता डालें और पैकेज के निर्देशों के अनुसार अल डेंटे तक पकाएँ। स्पेगेटी को निकालने से पहले 1 कप पास्ता पानी सुरक्षित रखें।\\nएक बड़ी कड़ाही में, मध्यम आंच पर जैतून का तेल गर्म करें। कटा हुआ प्याज डालें और पारदर्शी होने तक 2-3 मिनट तक भूनें।\\nकीमा बनाया हुआ लहसुन डालें और खुशबू आने तक एक और मिनट तक भूनें।\\nसूखी तुलसी और अजवायन डालें, और मिलाने के लिए हिलाएँ।\\nमैरिनारा सॉस को कड़ाही में डालें और प्याज और लहसुन के मिश्रण के साथ मिलाने के लिए हिलाएँ। स्वाद के लिए नमक व कालीमिर्च डालकर ज़ायकेदार बनाइए।\\nकड़ाही में बचा हुआ पास्ता पानी डालें और सॉस को धीमी आंच पर रखें।\\nपके हुए पास्ता को कड़ाही में डालें, इसे सॉस के साथ मिलाएँ जब तक पास्ता अच्छी तरह से लेपित न हो जाए।\\nयदि चाहें तो पास्ता को ऊपर से कद्दूकस किया हुआ परमेसन चीज़ डालकर गरमागरम परोसें। आनंद लेना!\\nनोट: आप प्याज और लहसुन के साथ कड़ाही में अपना पसंदीदा प्रोटीन (जैसे चिकन, झींगा, या सॉसेज) या सब्जियां (जैसे बेल मिर्च, मशरूम, या जैतून) डालकर इस रेसिपी को अनुकूलित कर सकते हैं।', metadata={'source': '/Workspace/Users/shalu.tyagi@hdfcbank.com/Dataforfinetuning.csv', 'row': 5}), Document(page_content='instruction: 5 सर्वश्रेष्ठ कॉमेडी हिंदी फिल्में\\ncontext: \\nresponse: यहां 5 उच्च रेटिंग वाली हिंदी कॉमेडी फिल्में हैं:\\nअंदाज़ अपना अपना (1994) - आमिर खान, सलमान खान, रवीना टंडन और करिश्मा कपूर अभिनीत एक क्लासिक कॉमेडी फिल्म। यह फिल्म अपने मजेदार संवादों, हास्य और यादगार किरदारों के लिए जानी जाती है।\\nदिल चाहता है (2001) - आमिर खान, सैफ अली खान, अक्षय खन्ना, सोनाली बेंद्रे और प्रीति जिंटा अभिनीत एक आने वाली कॉमेडी-ड्रामा फिल्म। यह फिल्म अपने हास्य, संगीत और अभिनय के लिए जानी जाती है।\\nहेरा फेरी (2000) - अक्षय कुमार, सुनील शेट्टी और परेश रावल अभिनीत एक कॉमेडी फिल्म। यह फिल्म अपने फूहड़ हास्य, मजाकिया संवाद और हास्य प्रदर्शन के लिए जानी जाती है।\\nद लंचबॉक्स (2013) - इरफान खान, निमरत कौर और नवाजुद्दीन सिद्दीकी अभिनीत एक रोमांटिक कॉमेडी-ड्रामा फिल्म। यह फिल्म अपनी अनूठी कहानी, अभिनय और हास्य के लिए जानी जाती है।\\nतनु वेड्स मनु (2011) - आर. माधवन, कंगना रनौत और दीपक डोबरियाल अभिनीत एक रोमांटिक कॉमेडी फिल्म। यह फिल्म अपने हास्य, अभिनय और अनूठी कहानी के लिए जानी जाती है।\\nये उच्च रेटिंग वाली हिंदी कॉमेडी फिल्मों के कुछ उदाहरण हैं। इस शैली में कई अन्य बेहतरीन फिल्में हैं, और व्यक्तिगत रुचि के आधार पर राय भिन्न हो सकती है।', metadata={'source': '/Workspace/Users/shalu.tyagi@hdfcbank.com/Dataforfinetuning.csv', 'row': 6}), Document(page_content='instruction: 5 सर्वश्रेष्ठ कॉमेडी अंग्रेजी फिल्में\\ncontext: \\nresponse: निश्चित रूप से, यहां 5 उच्च श्रेणी वाली अंग्रेजी कॉमेडी फिल्में हैं:\\nद हैंगओवर (2009) - दोस्तों के एक समूह के बारे में एक कॉमेडी फिल्म जो एक बैचलर पार्टी के लिए लास वेगास की यात्रा करती है और अगली सुबह जागती है और उसे यह याद नहीं रहता कि पिछली रात क्या हुआ था। फिर उन्हें अपने कदम पीछे खींचने होंगे और पता लगाना होगा कि क्या हुआ।\\nसुपरबैड (2007) - दो हाई स्कूल सीनियर्स के बारे में एक आने वाली कॉमेडी फिल्म, जो एक पार्टी के लिए शराब खरीदने के मिशन पर हैं और कई दुस्साहस का शिकार हो जाते हैं।\\nब्राइड्समेड्स (2011) - ब्राइड्समेड्स के एक समूह के बारे में एक कॉमेडी फिल्म जो अपने दोस्त की शादी की तैयारी के दौरान आपस में भिड़ जाती है। फिल्म में क्रिस्टन वाइग, माया रूडोल्फ और मेलिसा मैक्कार्थी हैं।\\nद 40-ईयर-ओल्ड वर्जिन (2005) - एक ऐसे व्यक्ति के बारे में एक कॉमेडी फिल्म जो 40 साल की उम्र में भी वर्जिन है और उसकी वर्जिनिटी खोने की यात्रा है। फिल्म में स्टीव कैरेल, पॉल रुड और सेठ रोजन हैं।\\nमोंटी पाइथन एंड द होली ग्रेल (1975) - राजा आर्थर और उनके शूरवीरों के बारे में एक कॉमेडी फिल्म जो होली ग्रेल की खोज में निकलते हैं। यह फिल्म अपने बेतुके हास्य और यादगार किरदारों के लिए जानी जाती है।\\nये उच्च श्रेणी की अंग्रेजी कॉमेडी फिल्मों के कुछ उदाहरण हैं। इस शैली में कई अन्य बेहतरीन फिल्में हैं, और व्यक्तिगत रुचि के आधार पर राय भिन्न हो सकती है।', metadata={'source': '/Workspace/Users/shalu.tyagi@hdfcbank.com/Dataforfinetuning.csv', 'row': 7}), Document(page_content='instruction: दिल्ली में एक दिवसीय यात्रा कार्यक्रम की योजना बनाएं\\ncontext: \\nresponse: ज़रूर, यहां दिल्ली की एक दिवसीय यात्रा के लिए सुझाया गया यात्रा कार्यक्रम है:\\n9:00 पूर्वाह्न - 10:00 पूर्वाह्न: अपने दिन की शुरुआत प्रतिष्ठित लाल किले की यात्रा से करें, जो दिल्ली के सबसे पहचानने योग्य स्थलों में से एक है। किले की भव्य वास्तुकला, संग्रहालयों और उद्यानों का अन्वेषण करें।\\n10:00 पूर्वाह्न - 11:30 पूर्वाह्न: लाल किले से, पास के चांदनी चौक की ओर जाएं, एक हलचल भरा बाज़ार जो दिल्ली की समृद्ध सांस्कृतिक विरासत की झलक पेश करता है। संकरी गलियों और गलियों से होते हुए रिक्शा की सवारी करें और स्वादिष्ट परांठे के नाश्ते के लिए प्रसिद्ध परांठे वाली गली में रुकें।\\n11:30 पूर्वाह्न - 12:30 अपराह्न: भारत की सबसे बड़ी मस्जिदों में से एक, जामा मस्जिद का दौरा करें। इसकी आश्चर्यजनक वास्तुकला और इसकी छत से शहर के दृश्यों की प्रशंसा करने के लिए कुछ समय निकालें।\\n12:30 अपराह्न - 1:30 अपराह्न: नजदीकी कनॉट प्लेस की ओर जाएं, जो दिल्ली में वाणिज्यिक और सांस्कृतिक गतिविधि का केंद्र है। क्षेत्र के कई रेस्तरां या कैफे में से किसी एक में दोपहर का भोजन लें।\\n1:30 अपराह्न - 2:30 अपराह्न: राष्ट्रीय संग्रहालय का दौरा करें, जिसमें भारतीय कला, कलाकृतियों और प्रदर्शनियों का विशाल संग्रह है।\\n2:30 अपराह्न - 3:30 अपराह्न: शहर के मध्य में एक शांतिपूर्ण नखलिस्तान, सुंदर लोदी गार्डन में टहलें। उद्यान प्रसिद्ध लोदी मकबरे सहित कई स्मारकों और कब्रों का घर हैं।\\n3:30 अपराह्न - 4:30 अपराह्न: इंडिया गेट पर जाएँ, एक युद्ध स्मारक जो दिल्ली के मध्य में स्थित है। इसकी भव्य वास्तुकला की प्रशंसा करने के लिए कुछ समय निकालें और भारत की आजादी के लिए लड़ने वाले सैनिकों के प्रति अपना सम्मान व्यक्त करें।\\n4:30 अपराह्न - 5:00 अपराह्न: भारत के राष्ट्रपति के आधिकारिक निवास, राष्ट्रपति भवन की यात्रा के साथ अपना दिन समाप्त करें। इमारत और उसके बगीचों का भ्रमण करें, और भारत के इतिहास और राजनीति के बारे में जानें।\\n5:00 अपराह्न - 6:00 अपराह्न: दिल्ली की एक अद्भुत दिन की यात्रा की यादों के साथ, अपने होटल लौटें या घर वापस आने के लिए अपनी ट्रेन/उड़ान पकड़ें।\\nबेशक, यह यात्रा कार्यक्रम सिर्फ एक सुझाव है, और आप इसे अपनी रुचियों और प्राथमिकताओं के अनुरूप समायोजित कर सकते हैं। दिल्ली की अपनी यात्रा का आनंद लें!', metadata={'source': '/Workspace/Users/shalu.tyagi@hdfcbank.com/Dataforfinetuning.csv', 'row': 8})]\n"
     ]
    }
   ],
   "source": [
    "from langchain.document_loaders.csv_loader import CSVLoader\n",
    "loader = CSVLoader(file_path=\"/Workspace/Users/shalu.tyagi@hdfcbank.com/Dataforfinetuning.csv\", encoding=\"utf-8\", csv_args={'delimiter': ','})\n",
    "data = loader.load()\n",
    "print(data)"
   ]
  },
  {
   "cell_type": "code",
   "execution_count": 0,
   "metadata": {
    "application/vnd.databricks.v1+cell": {
     "cellMetadata": {},
     "inputWidgets": {},
     "nuid": "ef99d70e-982c-43c9-b563-ebdf24b34bfa",
     "showTitle": false,
     "title": ""
    }
   },
   "outputs": [],
   "source": [
    "from transformers import AutoTokenizer\n",
    "\n",
    "max_chunk_size = 500\n",
    "\n",
    "tokenizer = AutoTokenizer.from_pretrained(\"hf-internal-testing/llama-tokenizer\")\n",
    "text_splitter = RecursiveCharacterTextSplitter.from_huggingface_tokenizer(tokenizer, chunk_size=max_chunk_size, chunk_overlap=50)"
   ]
  },
  {
   "cell_type": "code",
   "execution_count": 0,
   "metadata": {
    "application/vnd.databricks.v1+cell": {
     "cellMetadata": {
      "byteLimit": 2048000,
      "rowLimit": 10000
     },
     "inputWidgets": {},
     "nuid": "7abf6ed8-191f-4173-96f2-1d90021b358b",
     "showTitle": false,
     "title": ""
    }
   },
   "outputs": [
    {
     "output_type": "display_data",
     "data": {
      "text/plain": [
       "\u001B[0;31m---------------------------------------------------------------------------\u001B[0m\n",
       "\u001B[0;31mHTTPError\u001B[0m                                 Traceback (most recent call last)\n",
       "File \u001B[0;32m/local_disk0/.ephemeral_nfs/envs/pythonEnv-2558cb66-9e74-49a6-8705-7723d2bb30e8/lib/python3.10/site-packages/mlflow/utils/request_utils.py:52\u001B[0m, in \u001B[0;36maugmented_raise_for_status\u001B[0;34m(response)\u001B[0m\n",
       "\u001B[1;32m     51\u001B[0m \u001B[38;5;28;01mtry\u001B[39;00m:\n",
       "\u001B[0;32m---> 52\u001B[0m     \u001B[43mresponse\u001B[49m\u001B[38;5;241;43m.\u001B[39;49m\u001B[43mraise_for_status\u001B[49m\u001B[43m(\u001B[49m\u001B[43m)\u001B[49m\n",
       "\u001B[1;32m     53\u001B[0m \u001B[38;5;28;01mexcept\u001B[39;00m HTTPError \u001B[38;5;28;01mas\u001B[39;00m e:\n",
       "\n",
       "File \u001B[0;32m/databricks/python/lib/python3.10/site-packages/requests/models.py:1021\u001B[0m, in \u001B[0;36mResponse.raise_for_status\u001B[0;34m(self)\u001B[0m\n",
       "\u001B[1;32m   1020\u001B[0m \u001B[38;5;28;01mif\u001B[39;00m http_error_msg:\n",
       "\u001B[0;32m-> 1021\u001B[0m     \u001B[38;5;28;01mraise\u001B[39;00m HTTPError(http_error_msg, response\u001B[38;5;241m=\u001B[39m\u001B[38;5;28mself\u001B[39m)\n",
       "\n",
       "\u001B[0;31mHTTPError\u001B[0m: 404 Client Error: Not Found for url: https://oregon.cloud.databricks.com/serving-endpoints/databricks-bge-large-en/invocations\n",
       "\n",
       "During handling of the above exception, another exception occurred:\n",
       "\n",
       "\u001B[0;31mHTTPError\u001B[0m                                 Traceback (most recent call last)\n",
       "File \u001B[0;32m<command-3278141893405833>:4\u001B[0m\n",
       "\u001B[1;32m      1\u001B[0m \u001B[38;5;28;01mimport\u001B[39;00m \u001B[38;5;21;01mmlflow\u001B[39;00m\u001B[38;5;21;01m.\u001B[39;00m\u001B[38;5;21;01mdeployments\u001B[39;00m\n",
       "\u001B[1;32m      2\u001B[0m deploy_client \u001B[38;5;241m=\u001B[39m mlflow\u001B[38;5;241m.\u001B[39mdeployments\u001B[38;5;241m.\u001B[39mget_deploy_client(\u001B[38;5;124m\"\u001B[39m\u001B[38;5;124mdatabricks\u001B[39m\u001B[38;5;124m\"\u001B[39m)\n",
       "\u001B[0;32m----> 4\u001B[0m response \u001B[38;5;241m=\u001B[39m deploy_client\u001B[38;5;241m.\u001B[39mpredict(endpoint\u001B[38;5;241m=\u001B[39m\u001B[38;5;124m\"\u001B[39m\u001B[38;5;124mdatabricks-bge-large-en\u001B[39m\u001B[38;5;124m\"\u001B[39m, inputs\u001B[38;5;241m=\u001B[39m{\u001B[38;5;124m\"\u001B[39m\u001B[38;5;124minput\u001B[39m\u001B[38;5;124m\"\u001B[39m: [\u001B[38;5;124m\"\u001B[39m\u001B[38;5;124mWhat is Apache Spark?\u001B[39m\u001B[38;5;124m\"\u001B[39m]})\n",
       "\u001B[1;32m      5\u001B[0m embeddings \u001B[38;5;241m=\u001B[39m [e[\u001B[38;5;124m'\u001B[39m\u001B[38;5;124membedding\u001B[39m\u001B[38;5;124m'\u001B[39m] \u001B[38;5;28;01mfor\u001B[39;00m e \u001B[38;5;129;01min\u001B[39;00m response\u001B[38;5;241m.\u001B[39mdata]\n",
       "\u001B[1;32m      6\u001B[0m \u001B[38;5;28mprint\u001B[39m(embeddings)\n",
       "\n",
       "File \u001B[0;32m/local_disk0/.ephemeral_nfs/envs/pythonEnv-2558cb66-9e74-49a6-8705-7723d2bb30e8/lib/python3.10/site-packages/mlflow/deployments/databricks/__init__.py:196\u001B[0m, in \u001B[0;36mDatabricksDeploymentClient.predict\u001B[0;34m(self, deployment_name, inputs, endpoint)\u001B[0m\n",
       "\u001B[1;32m    147\u001B[0m \u001B[38;5;129m@experimental\u001B[39m\n",
       "\u001B[1;32m    148\u001B[0m \u001B[38;5;28;01mdef\u001B[39;00m \u001B[38;5;21mpredict\u001B[39m(\u001B[38;5;28mself\u001B[39m, deployment_name\u001B[38;5;241m=\u001B[39m\u001B[38;5;28;01mNone\u001B[39;00m, inputs\u001B[38;5;241m=\u001B[39m\u001B[38;5;28;01mNone\u001B[39;00m, endpoint\u001B[38;5;241m=\u001B[39m\u001B[38;5;28;01mNone\u001B[39;00m):\n",
       "\u001B[1;32m    149\u001B[0m     \u001B[38;5;124;03m\"\"\"\u001B[39;00m\n",
       "\u001B[1;32m    150\u001B[0m \u001B[38;5;124;03m    Query a serving endpoint with the provided model inputs.\u001B[39;00m\n",
       "\u001B[1;32m    151\u001B[0m \u001B[38;5;124;03m    See https://docs.databricks.com/api/workspace/servingendpoints/query for request/response\u001B[39;00m\n",
       "\u001B[0;32m   (...)\u001B[0m\n",
       "\u001B[1;32m    194\u001B[0m \u001B[38;5;124;03m        }\u001B[39;00m\n",
       "\u001B[1;32m    195\u001B[0m \u001B[38;5;124;03m    \"\"\"\u001B[39;00m\n",
       "\u001B[0;32m--> 196\u001B[0m     \u001B[38;5;28;01mreturn\u001B[39;00m \u001B[38;5;28;43mself\u001B[39;49m\u001B[38;5;241;43m.\u001B[39;49m\u001B[43m_call_endpoint\u001B[49m\u001B[43m(\u001B[49m\n",
       "\u001B[1;32m    197\u001B[0m \u001B[43m        \u001B[49m\u001B[43mmethod\u001B[49m\u001B[38;5;241;43m=\u001B[39;49m\u001B[38;5;124;43m\"\u001B[39;49m\u001B[38;5;124;43mPOST\u001B[39;49m\u001B[38;5;124;43m\"\u001B[39;49m\u001B[43m,\u001B[49m\n",
       "\u001B[1;32m    198\u001B[0m \u001B[43m        \u001B[49m\u001B[43mprefix\u001B[49m\u001B[38;5;241;43m=\u001B[39;49m\u001B[38;5;124;43m\"\u001B[39;49m\u001B[38;5;124;43m/\u001B[39;49m\u001B[38;5;124;43m\"\u001B[39;49m\u001B[43m,\u001B[49m\n",
       "\u001B[1;32m    199\u001B[0m \u001B[43m        \u001B[49m\u001B[43mroute\u001B[49m\u001B[38;5;241;43m=\u001B[39;49m\u001B[43mposixpath\u001B[49m\u001B[38;5;241;43m.\u001B[39;49m\u001B[43mjoin\u001B[49m\u001B[43m(\u001B[49m\u001B[43mendpoint\u001B[49m\u001B[43m,\u001B[49m\u001B[43m \u001B[49m\u001B[38;5;124;43m\"\u001B[39;49m\u001B[38;5;124;43minvocations\u001B[39;49m\u001B[38;5;124;43m\"\u001B[39;49m\u001B[43m)\u001B[49m\u001B[43m,\u001B[49m\n",
       "\u001B[1;32m    200\u001B[0m \u001B[43m        \u001B[49m\u001B[43mjson_body\u001B[49m\u001B[38;5;241;43m=\u001B[39;49m\u001B[43minputs\u001B[49m\u001B[43m,\u001B[49m\n",
       "\u001B[1;32m    201\u001B[0m \u001B[43m        \u001B[49m\u001B[43mtimeout\u001B[49m\u001B[38;5;241;43m=\u001B[39;49m\u001B[43mMLFLOW_DEPLOYMENT_PREDICT_TIMEOUT\u001B[49m\u001B[38;5;241;43m.\u001B[39;49m\u001B[43mget\u001B[49m\u001B[43m(\u001B[49m\u001B[43m)\u001B[49m\u001B[43m,\u001B[49m\n",
       "\u001B[1;32m    202\u001B[0m \u001B[43m    \u001B[49m\u001B[43m)\u001B[49m\n",
       "\n",
       "File \u001B[0;32m/local_disk0/.ephemeral_nfs/envs/pythonEnv-2558cb66-9e74-49a6-8705-7723d2bb30e8/lib/python3.10/site-packages/mlflow/deployments/databricks/__init__.py:144\u001B[0m, in \u001B[0;36mDatabricksDeploymentClient._call_endpoint\u001B[0;34m(self, method, prefix, route, json_body, timeout)\u001B[0m\n",
       "\u001B[1;32m    133\u001B[0m     call_kwargs[\u001B[38;5;124m\"\u001B[39m\u001B[38;5;124mjson\u001B[39m\u001B[38;5;124m\"\u001B[39m] \u001B[38;5;241m=\u001B[39m json_body\n",
       "\u001B[1;32m    135\u001B[0m response \u001B[38;5;241m=\u001B[39m http_request(\n",
       "\u001B[1;32m    136\u001B[0m     host_creds\u001B[38;5;241m=\u001B[39mget_databricks_host_creds(\u001B[38;5;28mself\u001B[39m\u001B[38;5;241m.\u001B[39mtarget_uri),\n",
       "\u001B[1;32m    137\u001B[0m     endpoint\u001B[38;5;241m=\u001B[39mposixpath\u001B[38;5;241m.\u001B[39mjoin(prefix, \u001B[38;5;124m\"\u001B[39m\u001B[38;5;124mserving-endpoints\u001B[39m\u001B[38;5;124m\"\u001B[39m, route \u001B[38;5;129;01mor\u001B[39;00m \u001B[38;5;124m\"\u001B[39m\u001B[38;5;124m\"\u001B[39m),\n",
       "\u001B[0;32m   (...)\u001B[0m\n",
       "\u001B[1;32m    142\u001B[0m     \u001B[38;5;241m*\u001B[39m\u001B[38;5;241m*\u001B[39mcall_kwargs,\n",
       "\u001B[1;32m    143\u001B[0m )\n",
       "\u001B[0;32m--> 144\u001B[0m \u001B[43maugmented_raise_for_status\u001B[49m\u001B[43m(\u001B[49m\u001B[43mresponse\u001B[49m\u001B[43m)\u001B[49m\n",
       "\u001B[1;32m    145\u001B[0m \u001B[38;5;28;01mreturn\u001B[39;00m DatabricksEndpoint(response\u001B[38;5;241m.\u001B[39mjson())\n",
       "\n",
       "File \u001B[0;32m/local_disk0/.ephemeral_nfs/envs/pythonEnv-2558cb66-9e74-49a6-8705-7723d2bb30e8/lib/python3.10/site-packages/mlflow/utils/request_utils.py:55\u001B[0m, in \u001B[0;36maugmented_raise_for_status\u001B[0;34m(response)\u001B[0m\n",
       "\u001B[1;32m     53\u001B[0m \u001B[38;5;28;01mexcept\u001B[39;00m HTTPError \u001B[38;5;28;01mas\u001B[39;00m e:\n",
       "\u001B[1;32m     54\u001B[0m     \u001B[38;5;28;01mif\u001B[39;00m response\u001B[38;5;241m.\u001B[39mtext:\n",
       "\u001B[0;32m---> 55\u001B[0m         \u001B[38;5;28;01mraise\u001B[39;00m HTTPError(\n",
       "\u001B[1;32m     56\u001B[0m             \u001B[38;5;124mf\u001B[39m\u001B[38;5;124m\"\u001B[39m\u001B[38;5;132;01m{\u001B[39;00me\u001B[38;5;132;01m}\u001B[39;00m\u001B[38;5;124m. Response text: \u001B[39m\u001B[38;5;132;01m{\u001B[39;00mresponse\u001B[38;5;241m.\u001B[39mtext\u001B[38;5;132;01m}\u001B[39;00m\u001B[38;5;124m\"\u001B[39m, request\u001B[38;5;241m=\u001B[39me\u001B[38;5;241m.\u001B[39mrequest, response\u001B[38;5;241m=\u001B[39me\u001B[38;5;241m.\u001B[39mresponse\n",
       "\u001B[1;32m     57\u001B[0m         )\n",
       "\u001B[1;32m     58\u001B[0m     \u001B[38;5;28;01melse\u001B[39;00m:\n",
       "\u001B[1;32m     59\u001B[0m         \u001B[38;5;28;01mraise\u001B[39;00m e\n",
       "\n",
       "\u001B[0;31mHTTPError\u001B[0m: 404 Client Error: Not Found for url: https://oregon.cloud.databricks.com/serving-endpoints/databricks-bge-large-en/invocations. Response text: {\"error_code\":\"RESOURCE_DOES_NOT_EXIST\",\"message\":\"The given endpoint does not exist, please retry after checking the specified model and version deployment exists.\"}"
      ]
     },
     "metadata": {
      "application/vnd.databricks.v1+output": {
       "arguments": {},
       "data": "\u001B[0;31m---------------------------------------------------------------------------\u001B[0m\n\u001B[0;31mHTTPError\u001B[0m                                 Traceback (most recent call last)\nFile \u001B[0;32m/local_disk0/.ephemeral_nfs/envs/pythonEnv-2558cb66-9e74-49a6-8705-7723d2bb30e8/lib/python3.10/site-packages/mlflow/utils/request_utils.py:52\u001B[0m, in \u001B[0;36maugmented_raise_for_status\u001B[0;34m(response)\u001B[0m\n\u001B[1;32m     51\u001B[0m \u001B[38;5;28;01mtry\u001B[39;00m:\n\u001B[0;32m---> 52\u001B[0m     \u001B[43mresponse\u001B[49m\u001B[38;5;241;43m.\u001B[39;49m\u001B[43mraise_for_status\u001B[49m\u001B[43m(\u001B[49m\u001B[43m)\u001B[49m\n\u001B[1;32m     53\u001B[0m \u001B[38;5;28;01mexcept\u001B[39;00m HTTPError \u001B[38;5;28;01mas\u001B[39;00m e:\n\nFile \u001B[0;32m/databricks/python/lib/python3.10/site-packages/requests/models.py:1021\u001B[0m, in \u001B[0;36mResponse.raise_for_status\u001B[0;34m(self)\u001B[0m\n\u001B[1;32m   1020\u001B[0m \u001B[38;5;28;01mif\u001B[39;00m http_error_msg:\n\u001B[0;32m-> 1021\u001B[0m     \u001B[38;5;28;01mraise\u001B[39;00m HTTPError(http_error_msg, response\u001B[38;5;241m=\u001B[39m\u001B[38;5;28mself\u001B[39m)\n\n\u001B[0;31mHTTPError\u001B[0m: 404 Client Error: Not Found for url: https://oregon.cloud.databricks.com/serving-endpoints/databricks-bge-large-en/invocations\n\nDuring handling of the above exception, another exception occurred:\n\n\u001B[0;31mHTTPError\u001B[0m                                 Traceback (most recent call last)\nFile \u001B[0;32m<command-3278141893405833>:4\u001B[0m\n\u001B[1;32m      1\u001B[0m \u001B[38;5;28;01mimport\u001B[39;00m \u001B[38;5;21;01mmlflow\u001B[39;00m\u001B[38;5;21;01m.\u001B[39;00m\u001B[38;5;21;01mdeployments\u001B[39;00m\n\u001B[1;32m      2\u001B[0m deploy_client \u001B[38;5;241m=\u001B[39m mlflow\u001B[38;5;241m.\u001B[39mdeployments\u001B[38;5;241m.\u001B[39mget_deploy_client(\u001B[38;5;124m\"\u001B[39m\u001B[38;5;124mdatabricks\u001B[39m\u001B[38;5;124m\"\u001B[39m)\n\u001B[0;32m----> 4\u001B[0m response \u001B[38;5;241m=\u001B[39m deploy_client\u001B[38;5;241m.\u001B[39mpredict(endpoint\u001B[38;5;241m=\u001B[39m\u001B[38;5;124m\"\u001B[39m\u001B[38;5;124mdatabricks-bge-large-en\u001B[39m\u001B[38;5;124m\"\u001B[39m, inputs\u001B[38;5;241m=\u001B[39m{\u001B[38;5;124m\"\u001B[39m\u001B[38;5;124minput\u001B[39m\u001B[38;5;124m\"\u001B[39m: [\u001B[38;5;124m\"\u001B[39m\u001B[38;5;124mWhat is Apache Spark?\u001B[39m\u001B[38;5;124m\"\u001B[39m]})\n\u001B[1;32m      5\u001B[0m embeddings \u001B[38;5;241m=\u001B[39m [e[\u001B[38;5;124m'\u001B[39m\u001B[38;5;124membedding\u001B[39m\u001B[38;5;124m'\u001B[39m] \u001B[38;5;28;01mfor\u001B[39;00m e \u001B[38;5;129;01min\u001B[39;00m response\u001B[38;5;241m.\u001B[39mdata]\n\u001B[1;32m      6\u001B[0m \u001B[38;5;28mprint\u001B[39m(embeddings)\n\nFile \u001B[0;32m/local_disk0/.ephemeral_nfs/envs/pythonEnv-2558cb66-9e74-49a6-8705-7723d2bb30e8/lib/python3.10/site-packages/mlflow/deployments/databricks/__init__.py:196\u001B[0m, in \u001B[0;36mDatabricksDeploymentClient.predict\u001B[0;34m(self, deployment_name, inputs, endpoint)\u001B[0m\n\u001B[1;32m    147\u001B[0m \u001B[38;5;129m@experimental\u001B[39m\n\u001B[1;32m    148\u001B[0m \u001B[38;5;28;01mdef\u001B[39;00m \u001B[38;5;21mpredict\u001B[39m(\u001B[38;5;28mself\u001B[39m, deployment_name\u001B[38;5;241m=\u001B[39m\u001B[38;5;28;01mNone\u001B[39;00m, inputs\u001B[38;5;241m=\u001B[39m\u001B[38;5;28;01mNone\u001B[39;00m, endpoint\u001B[38;5;241m=\u001B[39m\u001B[38;5;28;01mNone\u001B[39;00m):\n\u001B[1;32m    149\u001B[0m     \u001B[38;5;124;03m\"\"\"\u001B[39;00m\n\u001B[1;32m    150\u001B[0m \u001B[38;5;124;03m    Query a serving endpoint with the provided model inputs.\u001B[39;00m\n\u001B[1;32m    151\u001B[0m \u001B[38;5;124;03m    See https://docs.databricks.com/api/workspace/servingendpoints/query for request/response\u001B[39;00m\n\u001B[0;32m   (...)\u001B[0m\n\u001B[1;32m    194\u001B[0m \u001B[38;5;124;03m        }\u001B[39;00m\n\u001B[1;32m    195\u001B[0m \u001B[38;5;124;03m    \"\"\"\u001B[39;00m\n\u001B[0;32m--> 196\u001B[0m     \u001B[38;5;28;01mreturn\u001B[39;00m \u001B[38;5;28;43mself\u001B[39;49m\u001B[38;5;241;43m.\u001B[39;49m\u001B[43m_call_endpoint\u001B[49m\u001B[43m(\u001B[49m\n\u001B[1;32m    197\u001B[0m \u001B[43m        \u001B[49m\u001B[43mmethod\u001B[49m\u001B[38;5;241;43m=\u001B[39;49m\u001B[38;5;124;43m\"\u001B[39;49m\u001B[38;5;124;43mPOST\u001B[39;49m\u001B[38;5;124;43m\"\u001B[39;49m\u001B[43m,\u001B[49m\n\u001B[1;32m    198\u001B[0m \u001B[43m        \u001B[49m\u001B[43mprefix\u001B[49m\u001B[38;5;241;43m=\u001B[39;49m\u001B[38;5;124;43m\"\u001B[39;49m\u001B[38;5;124;43m/\u001B[39;49m\u001B[38;5;124;43m\"\u001B[39;49m\u001B[43m,\u001B[49m\n\u001B[1;32m    199\u001B[0m \u001B[43m        \u001B[49m\u001B[43mroute\u001B[49m\u001B[38;5;241;43m=\u001B[39;49m\u001B[43mposixpath\u001B[49m\u001B[38;5;241;43m.\u001B[39;49m\u001B[43mjoin\u001B[49m\u001B[43m(\u001B[49m\u001B[43mendpoint\u001B[49m\u001B[43m,\u001B[49m\u001B[43m \u001B[49m\u001B[38;5;124;43m\"\u001B[39;49m\u001B[38;5;124;43minvocations\u001B[39;49m\u001B[38;5;124;43m\"\u001B[39;49m\u001B[43m)\u001B[49m\u001B[43m,\u001B[49m\n\u001B[1;32m    200\u001B[0m \u001B[43m        \u001B[49m\u001B[43mjson_body\u001B[49m\u001B[38;5;241;43m=\u001B[39;49m\u001B[43minputs\u001B[49m\u001B[43m,\u001B[49m\n\u001B[1;32m    201\u001B[0m \u001B[43m        \u001B[49m\u001B[43mtimeout\u001B[49m\u001B[38;5;241;43m=\u001B[39;49m\u001B[43mMLFLOW_DEPLOYMENT_PREDICT_TIMEOUT\u001B[49m\u001B[38;5;241;43m.\u001B[39;49m\u001B[43mget\u001B[49m\u001B[43m(\u001B[49m\u001B[43m)\u001B[49m\u001B[43m,\u001B[49m\n\u001B[1;32m    202\u001B[0m \u001B[43m    \u001B[49m\u001B[43m)\u001B[49m\n\nFile \u001B[0;32m/local_disk0/.ephemeral_nfs/envs/pythonEnv-2558cb66-9e74-49a6-8705-7723d2bb30e8/lib/python3.10/site-packages/mlflow/deployments/databricks/__init__.py:144\u001B[0m, in \u001B[0;36mDatabricksDeploymentClient._call_endpoint\u001B[0;34m(self, method, prefix, route, json_body, timeout)\u001B[0m\n\u001B[1;32m    133\u001B[0m     call_kwargs[\u001B[38;5;124m\"\u001B[39m\u001B[38;5;124mjson\u001B[39m\u001B[38;5;124m\"\u001B[39m] \u001B[38;5;241m=\u001B[39m json_body\n\u001B[1;32m    135\u001B[0m response \u001B[38;5;241m=\u001B[39m http_request(\n\u001B[1;32m    136\u001B[0m     host_creds\u001B[38;5;241m=\u001B[39mget_databricks_host_creds(\u001B[38;5;28mself\u001B[39m\u001B[38;5;241m.\u001B[39mtarget_uri),\n\u001B[1;32m    137\u001B[0m     endpoint\u001B[38;5;241m=\u001B[39mposixpath\u001B[38;5;241m.\u001B[39mjoin(prefix, \u001B[38;5;124m\"\u001B[39m\u001B[38;5;124mserving-endpoints\u001B[39m\u001B[38;5;124m\"\u001B[39m, route \u001B[38;5;129;01mor\u001B[39;00m \u001B[38;5;124m\"\u001B[39m\u001B[38;5;124m\"\u001B[39m),\n\u001B[0;32m   (...)\u001B[0m\n\u001B[1;32m    142\u001B[0m     \u001B[38;5;241m*\u001B[39m\u001B[38;5;241m*\u001B[39mcall_kwargs,\n\u001B[1;32m    143\u001B[0m )\n\u001B[0;32m--> 144\u001B[0m \u001B[43maugmented_raise_for_status\u001B[49m\u001B[43m(\u001B[49m\u001B[43mresponse\u001B[49m\u001B[43m)\u001B[49m\n\u001B[1;32m    145\u001B[0m \u001B[38;5;28;01mreturn\u001B[39;00m DatabricksEndpoint(response\u001B[38;5;241m.\u001B[39mjson())\n\nFile \u001B[0;32m/local_disk0/.ephemeral_nfs/envs/pythonEnv-2558cb66-9e74-49a6-8705-7723d2bb30e8/lib/python3.10/site-packages/mlflow/utils/request_utils.py:55\u001B[0m, in \u001B[0;36maugmented_raise_for_status\u001B[0;34m(response)\u001B[0m\n\u001B[1;32m     53\u001B[0m \u001B[38;5;28;01mexcept\u001B[39;00m HTTPError \u001B[38;5;28;01mas\u001B[39;00m e:\n\u001B[1;32m     54\u001B[0m     \u001B[38;5;28;01mif\u001B[39;00m response\u001B[38;5;241m.\u001B[39mtext:\n\u001B[0;32m---> 55\u001B[0m         \u001B[38;5;28;01mraise\u001B[39;00m HTTPError(\n\u001B[1;32m     56\u001B[0m             \u001B[38;5;124mf\u001B[39m\u001B[38;5;124m\"\u001B[39m\u001B[38;5;132;01m{\u001B[39;00me\u001B[38;5;132;01m}\u001B[39;00m\u001B[38;5;124m. Response text: \u001B[39m\u001B[38;5;132;01m{\u001B[39;00mresponse\u001B[38;5;241m.\u001B[39mtext\u001B[38;5;132;01m}\u001B[39;00m\u001B[38;5;124m\"\u001B[39m, request\u001B[38;5;241m=\u001B[39me\u001B[38;5;241m.\u001B[39mrequest, response\u001B[38;5;241m=\u001B[39me\u001B[38;5;241m.\u001B[39mresponse\n\u001B[1;32m     57\u001B[0m         )\n\u001B[1;32m     58\u001B[0m     \u001B[38;5;28;01melse\u001B[39;00m:\n\u001B[1;32m     59\u001B[0m         \u001B[38;5;28;01mraise\u001B[39;00m e\n\n\u001B[0;31mHTTPError\u001B[0m: 404 Client Error: Not Found for url: https://oregon.cloud.databricks.com/serving-endpoints/databricks-bge-large-en/invocations. Response text: {\"error_code\":\"RESOURCE_DOES_NOT_EXIST\",\"message\":\"The given endpoint does not exist, please retry after checking the specified model and version deployment exists.\"}",
       "errorSummary": "<span class='ansi-red-fg'>HTTPError</span>: 404 Client Error: Not Found for url: https://oregon.cloud.databricks.com/serving-endpoints/databricks-bge-large-en/invocations. Response text: {\"error_code\":\"RESOURCE_DOES_NOT_EXIST\",\"message\":\"The given endpoint does not exist, please retry after checking the specified model and version deployment exists.\"}",
       "errorTraceType": "ansi",
       "metadata": {},
       "type": "ipynbError"
      }
     },
     "output_type": "display_data"
    }
   ],
   "source": [
    "import mlflow.deployments\n",
    "deploy_client = mlflow.deployments.get_deploy_client(\"databricks\")\n",
    "\n",
    "response = deploy_client.predict(endpoint=\"databricks-bge-large-en\", inputs={\"input\": [\"What is Apache Spark?\"]})\n",
    "embeddings = [e['embedding'] for e in response.data]\n",
    "print(embeddings)"
   ]
  },
  {
   "cell_type": "code",
   "execution_count": 0,
   "metadata": {
    "application/vnd.databricks.v1+cell": {
     "cellMetadata": {
      "byteLimit": 2048000,
      "rowLimit": 10000
     },
     "inputWidgets": {},
     "nuid": "513bb297-6555-4534-b727-b36d8dc8ceb1",
     "showTitle": false,
     "title": ""
    }
   },
   "outputs": [],
   "source": [
    "from langchain.text_splitter import RecursiveCharacterTextSplitter\n",
    "#from langchain.text_splitter import CharacterTextSplitter\n",
    "text_splitter = RecursiveCharacterTextSplitter(chunk_size=500, chunk_overlap=0)\n",
    "text_chunks = text_splitter.split_documents(data)"
   ]
  },
  {
   "cell_type": "code",
   "execution_count": 0,
   "metadata": {
    "application/vnd.databricks.v1+cell": {
     "cellMetadata": {
      "byteLimit": 2048000,
      "rowLimit": 10000
     },
     "inputWidgets": {},
     "nuid": "bdecd80e-c0bd-4db3-a471-730dd36928ef",
     "showTitle": false,
     "title": ""
    }
   },
   "outputs": [
    {
     "output_type": "execute_result",
     "data": {
      "text/plain": [
       "35"
      ]
     },
     "execution_count": 3,
     "metadata": {},
     "output_type": "execute_result"
    }
   ],
   "source": [
    "len(text_chunks)"
   ]
  },
  {
   "cell_type": "code",
   "execution_count": 0,
   "metadata": {
    "application/vnd.databricks.v1+cell": {
     "cellMetadata": {
      "byteLimit": 2048000,
      "rowLimit": 10000
     },
     "inputWidgets": {},
     "nuid": "f6bb0313-8aa1-4e27-9de5-d30167568430",
     "showTitle": false,
     "title": ""
    }
   },
   "outputs": [
    {
     "output_type": "execute_result",
     "data": {
      "text/plain": [
       "<bound method DataFrame.iterrows of                                          instruction  ...                                           response\n",
       "0         एचडीएफसी बैंक की वर्तमान ब्याज दर क्या है?  ...  एचडीएफसी बैंक की सावधि जमा में ब्याज दर, आपकी ...\n",
       "1  एचडीएफसी बैंक में खाता खोलने की प्रक्रिया क्या...  ...  HDFC Bank में खाता खोलने की प्रक्रिया निम्न है...\n",
       "2         एचडीएफसी बैंक का कस्टमर केयर नंबर क्या है?  ...  HDFC Bank का कस्टमर केयर नंबर 1800 22 1006 है।...\n",
       "3  मैं एचडीएफसी बैंक के लिए ऋण विवरण कैसे देख सकत...  ...  HDFC Bank के लिए ऋण विवरण देखने के लिए निम्न क...\n",
       "4    इंजीनियरिंग के लिए सबसे अच्छे कॉलेज कौन से हैं?  ...  भारत में बड़ी संख्या में इंजीनियरिंग कॉलेज हैं...\n",
       "5               \\nकृपया पास्ता की रेसिपी प्रदान करें  ...  ज़रूर, यहाँ पास्ता बनाने की एक सरल विधि दी गई ...\n",
       "6               \\n5 सर्वश्रेष्ठ कॉमेडी हिंदी फिल्में  ...  यहां 5 उच्च रेटिंग वाली हिंदी कॉमेडी फिल्में ह...\n",
       "7              5 सर्वश्रेष्ठ कॉमेडी अंग्रेजी फिल्में  ...  निश्चित रूप से, यहां 5 उच्च श्रेणी वाली अंग्रे...\n",
       "8  दिल्ली में एक दिवसीय यात्रा कार्यक्रम की योजना...  ...  ज़रूर, यहां दिल्ली की एक दिवसीय यात्रा के लिए ...\n",
       "\n",
       "[9 rows x 3 columns]>"
      ]
     },
     "execution_count": 55,
     "metadata": {},
     "output_type": "execute_result"
    }
   ],
   "source": [
    "data.iterrows"
   ]
  },
  {
   "cell_type": "code",
   "execution_count": 0,
   "metadata": {
    "application/vnd.databricks.v1+cell": {
     "cellMetadata": {
      "byteLimit": 2048000,
      "rowLimit": 10000
     },
     "inputWidgets": {},
     "nuid": "87eb6bc3-c0b5-4a54-a00e-ef36c4e7eb43",
     "showTitle": false,
     "title": ""
    }
   },
   "outputs": [
    {
     "output_type": "stream",
     "name": "stdout",
     "output_type": "stream",
     "text": [
      "0 instruction           एचडीएफसी बैंक की वर्तमान ब्याज दर क्या है?\ncontext                                                      NaN\nresponse       एचडीएफसी बैंक की सावधि जमा में ब्याज दर, आपकी ...\nName: 0, dtype: object\nnan\n"
     ]
    },
    {
     "output_type": "display_data",
     "data": {
      "text/plain": [
       "\u001B[0;31m---------------------------------------------------------------------------\u001B[0m\n",
       "\u001B[0;31mTypeError\u001B[0m                                 Traceback (most recent call last)\n",
       "File \u001B[0;32m<command-3278141893405837>:10\u001B[0m\n",
       "\u001B[1;32m      8\u001B[0m \u001B[38;5;28mprint\u001B[39m(index,page)\n",
       "\u001B[1;32m      9\u001B[0m \u001B[38;5;28mprint\u001B[39m(page[\u001B[38;5;241m1\u001B[39m])\n",
       "\u001B[0;32m---> 10\u001B[0m chunks \u001B[38;5;241m=\u001B[39m text_splitter\u001B[38;5;241m.\u001B[39msplit_text(page)\n",
       "\u001B[1;32m     11\u001B[0m \u001B[38;5;28;01mfor\u001B[39;00m chunk \u001B[38;5;129;01min\u001B[39;00m chunks:\n",
       "\u001B[1;32m     12\u001B[0m     documents\u001B[38;5;241m.\u001B[39mappend(Document(page_content\u001B[38;5;241m=\u001B[39mchunk))\n",
       "\n",
       "File \u001B[0;32m/local_disk0/.ephemeral_nfs/envs/pythonEnv-2558cb66-9e74-49a6-8705-7723d2bb30e8/lib/python3.10/site-packages/langchain/text_splitter.py:312\u001B[0m, in \u001B[0;36mCharacterTextSplitter.split_text\u001B[0;34m(self, text)\u001B[0m\n",
       "\u001B[1;32m    308\u001B[0m \u001B[38;5;66;03m# First we naively split the large input into a bunch of smaller ones.\u001B[39;00m\n",
       "\u001B[1;32m    309\u001B[0m separator \u001B[38;5;241m=\u001B[39m (\n",
       "\u001B[1;32m    310\u001B[0m     \u001B[38;5;28mself\u001B[39m\u001B[38;5;241m.\u001B[39m_separator \u001B[38;5;28;01mif\u001B[39;00m \u001B[38;5;28mself\u001B[39m\u001B[38;5;241m.\u001B[39m_is_separator_regex \u001B[38;5;28;01melse\u001B[39;00m re\u001B[38;5;241m.\u001B[39mescape(\u001B[38;5;28mself\u001B[39m\u001B[38;5;241m.\u001B[39m_separator)\n",
       "\u001B[1;32m    311\u001B[0m )\n",
       "\u001B[0;32m--> 312\u001B[0m splits \u001B[38;5;241m=\u001B[39m \u001B[43m_split_text_with_regex\u001B[49m\u001B[43m(\u001B[49m\u001B[43mtext\u001B[49m\u001B[43m,\u001B[49m\u001B[43m \u001B[49m\u001B[43mseparator\u001B[49m\u001B[43m,\u001B[49m\u001B[43m \u001B[49m\u001B[38;5;28;43mself\u001B[39;49m\u001B[38;5;241;43m.\u001B[39;49m\u001B[43m_keep_separator\u001B[49m\u001B[43m)\u001B[49m\n",
       "\u001B[1;32m    313\u001B[0m _separator \u001B[38;5;241m=\u001B[39m \u001B[38;5;124m\"\u001B[39m\u001B[38;5;124m\"\u001B[39m \u001B[38;5;28;01mif\u001B[39;00m \u001B[38;5;28mself\u001B[39m\u001B[38;5;241m.\u001B[39m_keep_separator \u001B[38;5;28;01melse\u001B[39;00m \u001B[38;5;28mself\u001B[39m\u001B[38;5;241m.\u001B[39m_separator\n",
       "\u001B[1;32m    314\u001B[0m \u001B[38;5;28;01mreturn\u001B[39;00m \u001B[38;5;28mself\u001B[39m\u001B[38;5;241m.\u001B[39m_merge_splits(splits, _separator)\n",
       "\n",
       "File \u001B[0;32m/local_disk0/.ephemeral_nfs/envs/pythonEnv-2558cb66-9e74-49a6-8705-7723d2bb30e8/lib/python3.10/site-packages/langchain/text_splitter.py:94\u001B[0m, in \u001B[0;36m_split_text_with_regex\u001B[0;34m(text, separator, keep_separator)\u001B[0m\n",
       "\u001B[1;32m     92\u001B[0m         splits \u001B[38;5;241m=\u001B[39m [_splits[\u001B[38;5;241m0\u001B[39m]] \u001B[38;5;241m+\u001B[39m splits\n",
       "\u001B[1;32m     93\u001B[0m     \u001B[38;5;28;01melse\u001B[39;00m:\n",
       "\u001B[0;32m---> 94\u001B[0m         splits \u001B[38;5;241m=\u001B[39m \u001B[43mre\u001B[49m\u001B[38;5;241;43m.\u001B[39;49m\u001B[43msplit\u001B[49m\u001B[43m(\u001B[49m\u001B[43mseparator\u001B[49m\u001B[43m,\u001B[49m\u001B[43m \u001B[49m\u001B[43mtext\u001B[49m\u001B[43m)\u001B[49m\n",
       "\u001B[1;32m     95\u001B[0m \u001B[38;5;28;01melse\u001B[39;00m:\n",
       "\u001B[1;32m     96\u001B[0m     splits \u001B[38;5;241m=\u001B[39m \u001B[38;5;28mlist\u001B[39m(text)\n",
       "\n",
       "File \u001B[0;32m/usr/lib/python3.10/re.py:230\u001B[0m, in \u001B[0;36msplit\u001B[0;34m(pattern, string, maxsplit, flags)\u001B[0m\n",
       "\u001B[1;32m    222\u001B[0m \u001B[38;5;28;01mdef\u001B[39;00m \u001B[38;5;21msplit\u001B[39m(pattern, string, maxsplit\u001B[38;5;241m=\u001B[39m\u001B[38;5;241m0\u001B[39m, flags\u001B[38;5;241m=\u001B[39m\u001B[38;5;241m0\u001B[39m):\n",
       "\u001B[1;32m    223\u001B[0m     \u001B[38;5;124;03m\"\"\"Split the source string by the occurrences of the pattern,\u001B[39;00m\n",
       "\u001B[1;32m    224\u001B[0m \u001B[38;5;124;03m    returning a list containing the resulting substrings.  If\u001B[39;00m\n",
       "\u001B[1;32m    225\u001B[0m \u001B[38;5;124;03m    capturing parentheses are used in pattern, then the text of all\u001B[39;00m\n",
       "\u001B[0;32m   (...)\u001B[0m\n",
       "\u001B[1;32m    228\u001B[0m \u001B[38;5;124;03m    and the remainder of the string is returned as the final element\u001B[39;00m\n",
       "\u001B[1;32m    229\u001B[0m \u001B[38;5;124;03m    of the list.\"\"\"\u001B[39;00m\n",
       "\u001B[0;32m--> 230\u001B[0m     \u001B[38;5;28;01mreturn\u001B[39;00m \u001B[43m_compile\u001B[49m\u001B[43m(\u001B[49m\u001B[43mpattern\u001B[49m\u001B[43m,\u001B[49m\u001B[43m \u001B[49m\u001B[43mflags\u001B[49m\u001B[43m)\u001B[49m\u001B[38;5;241;43m.\u001B[39;49m\u001B[43msplit\u001B[49m\u001B[43m(\u001B[49m\u001B[43mstring\u001B[49m\u001B[43m,\u001B[49m\u001B[43m \u001B[49m\u001B[43mmaxsplit\u001B[49m\u001B[43m)\u001B[49m\n",
       "\n",
       "\u001B[0;31mTypeError\u001B[0m: expected string or bytes-like object"
      ]
     },
     "metadata": {
      "application/vnd.databricks.v1+output": {
       "arguments": {},
       "data": "\u001B[0;31m---------------------------------------------------------------------------\u001B[0m\n\u001B[0;31mTypeError\u001B[0m                                 Traceback (most recent call last)\nFile \u001B[0;32m<command-3278141893405837>:10\u001B[0m\n\u001B[1;32m      8\u001B[0m \u001B[38;5;28mprint\u001B[39m(index,page)\n\u001B[1;32m      9\u001B[0m \u001B[38;5;28mprint\u001B[39m(page[\u001B[38;5;241m1\u001B[39m])\n\u001B[0;32m---> 10\u001B[0m chunks \u001B[38;5;241m=\u001B[39m text_splitter\u001B[38;5;241m.\u001B[39msplit_text(page)\n\u001B[1;32m     11\u001B[0m \u001B[38;5;28;01mfor\u001B[39;00m chunk \u001B[38;5;129;01min\u001B[39;00m chunks:\n\u001B[1;32m     12\u001B[0m     documents\u001B[38;5;241m.\u001B[39mappend(Document(page_content\u001B[38;5;241m=\u001B[39mchunk))\n\nFile \u001B[0;32m/local_disk0/.ephemeral_nfs/envs/pythonEnv-2558cb66-9e74-49a6-8705-7723d2bb30e8/lib/python3.10/site-packages/langchain/text_splitter.py:312\u001B[0m, in \u001B[0;36mCharacterTextSplitter.split_text\u001B[0;34m(self, text)\u001B[0m\n\u001B[1;32m    308\u001B[0m \u001B[38;5;66;03m# First we naively split the large input into a bunch of smaller ones.\u001B[39;00m\n\u001B[1;32m    309\u001B[0m separator \u001B[38;5;241m=\u001B[39m (\n\u001B[1;32m    310\u001B[0m     \u001B[38;5;28mself\u001B[39m\u001B[38;5;241m.\u001B[39m_separator \u001B[38;5;28;01mif\u001B[39;00m \u001B[38;5;28mself\u001B[39m\u001B[38;5;241m.\u001B[39m_is_separator_regex \u001B[38;5;28;01melse\u001B[39;00m re\u001B[38;5;241m.\u001B[39mescape(\u001B[38;5;28mself\u001B[39m\u001B[38;5;241m.\u001B[39m_separator)\n\u001B[1;32m    311\u001B[0m )\n\u001B[0;32m--> 312\u001B[0m splits \u001B[38;5;241m=\u001B[39m \u001B[43m_split_text_with_regex\u001B[49m\u001B[43m(\u001B[49m\u001B[43mtext\u001B[49m\u001B[43m,\u001B[49m\u001B[43m \u001B[49m\u001B[43mseparator\u001B[49m\u001B[43m,\u001B[49m\u001B[43m \u001B[49m\u001B[38;5;28;43mself\u001B[39;49m\u001B[38;5;241;43m.\u001B[39;49m\u001B[43m_keep_separator\u001B[49m\u001B[43m)\u001B[49m\n\u001B[1;32m    313\u001B[0m _separator \u001B[38;5;241m=\u001B[39m \u001B[38;5;124m\"\u001B[39m\u001B[38;5;124m\"\u001B[39m \u001B[38;5;28;01mif\u001B[39;00m \u001B[38;5;28mself\u001B[39m\u001B[38;5;241m.\u001B[39m_keep_separator \u001B[38;5;28;01melse\u001B[39;00m \u001B[38;5;28mself\u001B[39m\u001B[38;5;241m.\u001B[39m_separator\n\u001B[1;32m    314\u001B[0m \u001B[38;5;28;01mreturn\u001B[39;00m \u001B[38;5;28mself\u001B[39m\u001B[38;5;241m.\u001B[39m_merge_splits(splits, _separator)\n\nFile \u001B[0;32m/local_disk0/.ephemeral_nfs/envs/pythonEnv-2558cb66-9e74-49a6-8705-7723d2bb30e8/lib/python3.10/site-packages/langchain/text_splitter.py:94\u001B[0m, in \u001B[0;36m_split_text_with_regex\u001B[0;34m(text, separator, keep_separator)\u001B[0m\n\u001B[1;32m     92\u001B[0m         splits \u001B[38;5;241m=\u001B[39m [_splits[\u001B[38;5;241m0\u001B[39m]] \u001B[38;5;241m+\u001B[39m splits\n\u001B[1;32m     93\u001B[0m     \u001B[38;5;28;01melse\u001B[39;00m:\n\u001B[0;32m---> 94\u001B[0m         splits \u001B[38;5;241m=\u001B[39m \u001B[43mre\u001B[49m\u001B[38;5;241;43m.\u001B[39;49m\u001B[43msplit\u001B[49m\u001B[43m(\u001B[49m\u001B[43mseparator\u001B[49m\u001B[43m,\u001B[49m\u001B[43m \u001B[49m\u001B[43mtext\u001B[49m\u001B[43m)\u001B[49m\n\u001B[1;32m     95\u001B[0m \u001B[38;5;28;01melse\u001B[39;00m:\n\u001B[1;32m     96\u001B[0m     splits \u001B[38;5;241m=\u001B[39m \u001B[38;5;28mlist\u001B[39m(text)\n\nFile \u001B[0;32m/usr/lib/python3.10/re.py:230\u001B[0m, in \u001B[0;36msplit\u001B[0;34m(pattern, string, maxsplit, flags)\u001B[0m\n\u001B[1;32m    222\u001B[0m \u001B[38;5;28;01mdef\u001B[39;00m \u001B[38;5;21msplit\u001B[39m(pattern, string, maxsplit\u001B[38;5;241m=\u001B[39m\u001B[38;5;241m0\u001B[39m, flags\u001B[38;5;241m=\u001B[39m\u001B[38;5;241m0\u001B[39m):\n\u001B[1;32m    223\u001B[0m     \u001B[38;5;124;03m\"\"\"Split the source string by the occurrences of the pattern,\u001B[39;00m\n\u001B[1;32m    224\u001B[0m \u001B[38;5;124;03m    returning a list containing the resulting substrings.  If\u001B[39;00m\n\u001B[1;32m    225\u001B[0m \u001B[38;5;124;03m    capturing parentheses are used in pattern, then the text of all\u001B[39;00m\n\u001B[0;32m   (...)\u001B[0m\n\u001B[1;32m    228\u001B[0m \u001B[38;5;124;03m    and the remainder of the string is returned as the final element\u001B[39;00m\n\u001B[1;32m    229\u001B[0m \u001B[38;5;124;03m    of the list.\"\"\"\u001B[39;00m\n\u001B[0;32m--> 230\u001B[0m     \u001B[38;5;28;01mreturn\u001B[39;00m \u001B[43m_compile\u001B[49m\u001B[43m(\u001B[49m\u001B[43mpattern\u001B[49m\u001B[43m,\u001B[49m\u001B[43m \u001B[49m\u001B[43mflags\u001B[49m\u001B[43m)\u001B[49m\u001B[38;5;241;43m.\u001B[39;49m\u001B[43msplit\u001B[49m\u001B[43m(\u001B[49m\u001B[43mstring\u001B[49m\u001B[43m,\u001B[49m\u001B[43m \u001B[49m\u001B[43mmaxsplit\u001B[49m\u001B[43m)\u001B[49m\n\n\u001B[0;31mTypeError\u001B[0m: expected string or bytes-like object",
       "errorSummary": "<span class='ansi-red-fg'>TypeError</span>: expected string or bytes-like object",
       "errorTraceType": "ansi",
       "metadata": {},
       "type": "ipynbError"
      }
     },
     "output_type": "display_data"
    }
   ],
   "source": [
    "from langchain.text_splitter import CharacterTextSplitter\n",
    "import pandas as pd\n",
    "data=pd.read_csv(\"file:/Workspace/Users/shalu.tyagi@hdfcbank.com/Dataforfinetuning.csv\")\n",
    "\n",
    "text_splitter = CharacterTextSplitter(chunk_size=500, separator=\",\")\n",
    "documents = []\n",
    "for index, page in data.iterrows():\n",
    "    chunks = text_splitter.split_text(page[1])\n",
    "    for chunk in chunks:\n",
    "        documents.append(Document(page_content=chunk))\n",
    "print(documents[0])"
   ]
  },
  {
   "cell_type": "code",
   "execution_count": 0,
   "metadata": {
    "application/vnd.databricks.v1+cell": {
     "cellMetadata": {
      "byteLimit": 2048000,
      "rowLimit": 10000
     },
     "inputWidgets": {},
     "nuid": "3078e0c3-d28b-4aef-963a-28659847b83e",
     "showTitle": false,
     "title": ""
    }
   },
   "outputs": [
    {
     "output_type": "display_data",
     "data": {
      "text/plain": [
       "\u001B[0;31m---------------------------------------------------------------------------\u001B[0m\n",
       "\u001B[0;31mHTTPError\u001B[0m                                 Traceback (most recent call last)\n",
       "File \u001B[0;32m/local_disk0/.ephemeral_nfs/envs/pythonEnv-2558cb66-9e74-49a6-8705-7723d2bb30e8/lib/python3.10/site-packages/mlflow/utils/request_utils.py:52\u001B[0m, in \u001B[0;36maugmented_raise_for_status\u001B[0;34m(response)\u001B[0m\n",
       "\u001B[1;32m     51\u001B[0m \u001B[38;5;28;01mtry\u001B[39;00m:\n",
       "\u001B[0;32m---> 52\u001B[0m     \u001B[43mresponse\u001B[49m\u001B[38;5;241;43m.\u001B[39;49m\u001B[43mraise_for_status\u001B[49m\u001B[43m(\u001B[49m\u001B[43m)\u001B[49m\n",
       "\u001B[1;32m     53\u001B[0m \u001B[38;5;28;01mexcept\u001B[39;00m HTTPError \u001B[38;5;28;01mas\u001B[39;00m e:\n",
       "\n",
       "File \u001B[0;32m/databricks/python/lib/python3.10/site-packages/requests/models.py:1021\u001B[0m, in \u001B[0;36mResponse.raise_for_status\u001B[0;34m(self)\u001B[0m\n",
       "\u001B[1;32m   1020\u001B[0m \u001B[38;5;28;01mif\u001B[39;00m http_error_msg:\n",
       "\u001B[0;32m-> 1021\u001B[0m     \u001B[38;5;28;01mraise\u001B[39;00m HTTPError(http_error_msg, response\u001B[38;5;241m=\u001B[39m\u001B[38;5;28mself\u001B[39m)\n",
       "\n",
       "\u001B[0;31mHTTPError\u001B[0m: 400 Client Error: Bad Request for url: https://oregon.cloud.databricks.com/gateway/embeddings_new/invocations\n",
       "\n",
       "During handling of the above exception, another exception occurred:\n",
       "\n",
       "\u001B[0;31mHTTPError\u001B[0m                                 Traceback (most recent call last)\n",
       "File \u001B[0;32m<command-2358992249830748>:13\u001B[0m\n",
       "\u001B[1;32m      6\u001B[0m mosaicml_embedding_route \u001B[38;5;241m=\u001B[39m MlflowAIGatewayEmbeddings(\n",
       "\u001B[1;32m      7\u001B[0m   gateway_uri\u001B[38;5;241m=\u001B[39m\u001B[38;5;124m\"\u001B[39m\u001B[38;5;124mdatabricks\u001B[39m\u001B[38;5;124m\"\u001B[39m,\n",
       "\u001B[1;32m      8\u001B[0m   route\u001B[38;5;241m=\u001B[39m\u001B[38;5;124m\"\u001B[39m\u001B[38;5;124membeddings_new\u001B[39m\u001B[38;5;124m\"\u001B[39m\n",
       "\u001B[1;32m      9\u001B[0m )\n",
       "\u001B[1;32m     11\u001B[0m \u001B[38;5;66;03m# load it into Chroma\u001B[39;00m\n",
       "\u001B[0;32m---> 13\u001B[0m db \u001B[38;5;241m=\u001B[39m Chroma\u001B[38;5;241m.\u001B[39mfrom_documents(text_chunks, embedding\u001B[38;5;241m=\u001B[39mmosaicml_embedding_route,persist_directory\u001B[38;5;241m=\u001B[39m\u001B[38;5;124m\"\u001B[39m\u001B[38;5;124m./chroma_db\u001B[39m\u001B[38;5;124m\"\u001B[39m)\n",
       "\n",
       "File \u001B[0;32m/local_disk0/.ephemeral_nfs/envs/pythonEnv-2558cb66-9e74-49a6-8705-7723d2bb30e8/lib/python3.10/site-packages/langchain/vectorstores/chroma.py:771\u001B[0m, in \u001B[0;36mChroma.from_documents\u001B[0;34m(cls, documents, embedding, ids, collection_name, persist_directory, client_settings, client, collection_metadata, **kwargs)\u001B[0m\n",
       "\u001B[1;32m    769\u001B[0m texts \u001B[38;5;241m=\u001B[39m [doc\u001B[38;5;241m.\u001B[39mpage_content \u001B[38;5;28;01mfor\u001B[39;00m doc \u001B[38;5;129;01min\u001B[39;00m documents]\n",
       "\u001B[1;32m    770\u001B[0m metadatas \u001B[38;5;241m=\u001B[39m [doc\u001B[38;5;241m.\u001B[39mmetadata \u001B[38;5;28;01mfor\u001B[39;00m doc \u001B[38;5;129;01min\u001B[39;00m documents]\n",
       "\u001B[0;32m--> 771\u001B[0m \u001B[38;5;28;01mreturn\u001B[39;00m \u001B[38;5;28;43mcls\u001B[39;49m\u001B[38;5;241;43m.\u001B[39;49m\u001B[43mfrom_texts\u001B[49m\u001B[43m(\u001B[49m\n",
       "\u001B[1;32m    772\u001B[0m \u001B[43m    \u001B[49m\u001B[43mtexts\u001B[49m\u001B[38;5;241;43m=\u001B[39;49m\u001B[43mtexts\u001B[49m\u001B[43m,\u001B[49m\n",
       "\u001B[1;32m    773\u001B[0m \u001B[43m    \u001B[49m\u001B[43membedding\u001B[49m\u001B[38;5;241;43m=\u001B[39;49m\u001B[43membedding\u001B[49m\u001B[43m,\u001B[49m\n",
       "\u001B[1;32m    774\u001B[0m \u001B[43m    \u001B[49m\u001B[43mmetadatas\u001B[49m\u001B[38;5;241;43m=\u001B[39;49m\u001B[43mmetadatas\u001B[49m\u001B[43m,\u001B[49m\n",
       "\u001B[1;32m    775\u001B[0m \u001B[43m    \u001B[49m\u001B[43mids\u001B[49m\u001B[38;5;241;43m=\u001B[39;49m\u001B[43mids\u001B[49m\u001B[43m,\u001B[49m\n",
       "\u001B[1;32m    776\u001B[0m \u001B[43m    \u001B[49m\u001B[43mcollection_name\u001B[49m\u001B[38;5;241;43m=\u001B[39;49m\u001B[43mcollection_name\u001B[49m\u001B[43m,\u001B[49m\n",
       "\u001B[1;32m    777\u001B[0m \u001B[43m    \u001B[49m\u001B[43mpersist_directory\u001B[49m\u001B[38;5;241;43m=\u001B[39;49m\u001B[43mpersist_directory\u001B[49m\u001B[43m,\u001B[49m\n",
       "\u001B[1;32m    778\u001B[0m \u001B[43m    \u001B[49m\u001B[43mclient_settings\u001B[49m\u001B[38;5;241;43m=\u001B[39;49m\u001B[43mclient_settings\u001B[49m\u001B[43m,\u001B[49m\n",
       "\u001B[1;32m    779\u001B[0m \u001B[43m    \u001B[49m\u001B[43mclient\u001B[49m\u001B[38;5;241;43m=\u001B[39;49m\u001B[43mclient\u001B[49m\u001B[43m,\u001B[49m\n",
       "\u001B[1;32m    780\u001B[0m \u001B[43m    \u001B[49m\u001B[43mcollection_metadata\u001B[49m\u001B[38;5;241;43m=\u001B[39;49m\u001B[43mcollection_metadata\u001B[49m\u001B[43m,\u001B[49m\n",
       "\u001B[1;32m    781\u001B[0m \u001B[43m    \u001B[49m\u001B[38;5;241;43m*\u001B[39;49m\u001B[38;5;241;43m*\u001B[39;49m\u001B[43mkwargs\u001B[49m\u001B[43m,\u001B[49m\n",
       "\u001B[1;32m    782\u001B[0m \u001B[43m\u001B[49m\u001B[43m)\u001B[49m\n",
       "\n",
       "File \u001B[0;32m/local_disk0/.ephemeral_nfs/envs/pythonEnv-2558cb66-9e74-49a6-8705-7723d2bb30e8/lib/python3.10/site-packages/langchain/vectorstores/chroma.py:729\u001B[0m, in \u001B[0;36mChroma.from_texts\u001B[0;34m(cls, texts, embedding, metadatas, ids, collection_name, persist_directory, client_settings, client, collection_metadata, **kwargs)\u001B[0m\n",
       "\u001B[1;32m    721\u001B[0m     \u001B[38;5;28;01mfrom\u001B[39;00m \u001B[38;5;21;01mchromadb\u001B[39;00m\u001B[38;5;21;01m.\u001B[39;00m\u001B[38;5;21;01mutils\u001B[39;00m\u001B[38;5;21;01m.\u001B[39;00m\u001B[38;5;21;01mbatch_utils\u001B[39;00m \u001B[38;5;28;01mimport\u001B[39;00m create_batches\n",
       "\u001B[1;32m    723\u001B[0m     \u001B[38;5;28;01mfor\u001B[39;00m batch \u001B[38;5;129;01min\u001B[39;00m create_batches(\n",
       "\u001B[1;32m    724\u001B[0m         api\u001B[38;5;241m=\u001B[39mchroma_collection\u001B[38;5;241m.\u001B[39m_client,\n",
       "\u001B[1;32m    725\u001B[0m         ids\u001B[38;5;241m=\u001B[39mids,\n",
       "\u001B[1;32m    726\u001B[0m         metadatas\u001B[38;5;241m=\u001B[39mmetadatas,\n",
       "\u001B[1;32m    727\u001B[0m         documents\u001B[38;5;241m=\u001B[39mtexts,\n",
       "\u001B[1;32m    728\u001B[0m     ):\n",
       "\u001B[0;32m--> 729\u001B[0m         \u001B[43mchroma_collection\u001B[49m\u001B[38;5;241;43m.\u001B[39;49m\u001B[43madd_texts\u001B[49m\u001B[43m(\u001B[49m\n",
       "\u001B[1;32m    730\u001B[0m \u001B[43m            \u001B[49m\u001B[43mtexts\u001B[49m\u001B[38;5;241;43m=\u001B[39;49m\u001B[43mbatch\u001B[49m\u001B[43m[\u001B[49m\u001B[38;5;241;43m3\u001B[39;49m\u001B[43m]\u001B[49m\u001B[43m \u001B[49m\u001B[38;5;28;43;01mif\u001B[39;49;00m\u001B[43m \u001B[49m\u001B[43mbatch\u001B[49m\u001B[43m[\u001B[49m\u001B[38;5;241;43m3\u001B[39;49m\u001B[43m]\u001B[49m\u001B[43m \u001B[49m\u001B[38;5;28;43;01melse\u001B[39;49;00m\u001B[43m \u001B[49m\u001B[43m[\u001B[49m\u001B[43m]\u001B[49m\u001B[43m,\u001B[49m\n",
       "\u001B[1;32m    731\u001B[0m \u001B[43m            \u001B[49m\u001B[43mmetadatas\u001B[49m\u001B[38;5;241;43m=\u001B[39;49m\u001B[43mbatch\u001B[49m\u001B[43m[\u001B[49m\u001B[38;5;241;43m2\u001B[39;49m\u001B[43m]\u001B[49m\u001B[43m \u001B[49m\u001B[38;5;28;43;01mif\u001B[39;49;00m\u001B[43m \u001B[49m\u001B[43mbatch\u001B[49m\u001B[43m[\u001B[49m\u001B[38;5;241;43m2\u001B[39;49m\u001B[43m]\u001B[49m\u001B[43m \u001B[49m\u001B[38;5;28;43;01melse\u001B[39;49;00m\u001B[43m \u001B[49m\u001B[38;5;28;43;01mNone\u001B[39;49;00m\u001B[43m,\u001B[49m\n",
       "\u001B[1;32m    732\u001B[0m \u001B[43m            \u001B[49m\u001B[43mids\u001B[49m\u001B[38;5;241;43m=\u001B[39;49m\u001B[43mbatch\u001B[49m\u001B[43m[\u001B[49m\u001B[38;5;241;43m0\u001B[39;49m\u001B[43m]\u001B[49m\u001B[43m,\u001B[49m\n",
       "\u001B[1;32m    733\u001B[0m \u001B[43m        \u001B[49m\u001B[43m)\u001B[49m\n",
       "\u001B[1;32m    734\u001B[0m \u001B[38;5;28;01melse\u001B[39;00m:\n",
       "\u001B[1;32m    735\u001B[0m     chroma_collection\u001B[38;5;241m.\u001B[39madd_texts(texts\u001B[38;5;241m=\u001B[39mtexts, metadatas\u001B[38;5;241m=\u001B[39mmetadatas, ids\u001B[38;5;241m=\u001B[39mids)\n",
       "\n",
       "File \u001B[0;32m/local_disk0/.ephemeral_nfs/envs/pythonEnv-2558cb66-9e74-49a6-8705-7723d2bb30e8/lib/python3.10/site-packages/langchain/vectorstores/chroma.py:275\u001B[0m, in \u001B[0;36mChroma.add_texts\u001B[0;34m(self, texts, metadatas, ids, **kwargs)\u001B[0m\n",
       "\u001B[1;32m    273\u001B[0m texts \u001B[38;5;241m=\u001B[39m \u001B[38;5;28mlist\u001B[39m(texts)\n",
       "\u001B[1;32m    274\u001B[0m \u001B[38;5;28;01mif\u001B[39;00m \u001B[38;5;28mself\u001B[39m\u001B[38;5;241m.\u001B[39m_embedding_function \u001B[38;5;129;01mis\u001B[39;00m \u001B[38;5;129;01mnot\u001B[39;00m \u001B[38;5;28;01mNone\u001B[39;00m:\n",
       "\u001B[0;32m--> 275\u001B[0m     embeddings \u001B[38;5;241m=\u001B[39m \u001B[38;5;28;43mself\u001B[39;49m\u001B[38;5;241;43m.\u001B[39;49m\u001B[43m_embedding_function\u001B[49m\u001B[38;5;241;43m.\u001B[39;49m\u001B[43membed_documents\u001B[49m\u001B[43m(\u001B[49m\u001B[43mtexts\u001B[49m\u001B[43m)\u001B[49m\n",
       "\u001B[1;32m    276\u001B[0m \u001B[38;5;28;01mif\u001B[39;00m metadatas:\n",
       "\u001B[1;32m    277\u001B[0m     \u001B[38;5;66;03m# fill metadatas with empty dicts if somebody\u001B[39;00m\n",
       "\u001B[1;32m    278\u001B[0m     \u001B[38;5;66;03m# did not specify metadata for all texts\u001B[39;00m\n",
       "\u001B[1;32m    279\u001B[0m     length_diff \u001B[38;5;241m=\u001B[39m \u001B[38;5;28mlen\u001B[39m(texts) \u001B[38;5;241m-\u001B[39m \u001B[38;5;28mlen\u001B[39m(metadatas)\n",
       "\n",
       "File \u001B[0;32m/local_disk0/.ephemeral_nfs/envs/pythonEnv-2558cb66-9e74-49a6-8705-7723d2bb30e8/lib/python3.10/site-packages/langchain/embeddings/mlflow_gateway.py:72\u001B[0m, in \u001B[0;36mMlflowAIGatewayEmbeddings.embed_documents\u001B[0;34m(self, texts)\u001B[0m\n",
       "\u001B[1;32m     71\u001B[0m \u001B[38;5;28;01mdef\u001B[39;00m \u001B[38;5;21membed_documents\u001B[39m(\u001B[38;5;28mself\u001B[39m, texts: List[\u001B[38;5;28mstr\u001B[39m]) \u001B[38;5;241m-\u001B[39m\u001B[38;5;241m>\u001B[39m List[List[\u001B[38;5;28mfloat\u001B[39m]]:\n",
       "\u001B[0;32m---> 72\u001B[0m     \u001B[38;5;28;01mreturn\u001B[39;00m \u001B[38;5;28;43mself\u001B[39;49m\u001B[38;5;241;43m.\u001B[39;49m\u001B[43m_query\u001B[49m\u001B[43m(\u001B[49m\u001B[43mtexts\u001B[49m\u001B[43m)\u001B[49m\n",
       "\n",
       "File \u001B[0;32m/local_disk0/.ephemeral_nfs/envs/pythonEnv-2558cb66-9e74-49a6-8705-7723d2bb30e8/lib/python3.10/site-packages/langchain/embeddings/mlflow_gateway.py:67\u001B[0m, in \u001B[0;36mMlflowAIGatewayEmbeddings._query\u001B[0;34m(self, texts)\u001B[0m\n",
       "\u001B[1;32m     65\u001B[0m embeddings \u001B[38;5;241m=\u001B[39m []\n",
       "\u001B[1;32m     66\u001B[0m \u001B[38;5;28;01mfor\u001B[39;00m txt \u001B[38;5;129;01min\u001B[39;00m _chunk(texts, \u001B[38;5;241m20\u001B[39m):\n",
       "\u001B[0;32m---> 67\u001B[0m     resp \u001B[38;5;241m=\u001B[39m \u001B[43mmlflow\u001B[49m\u001B[38;5;241;43m.\u001B[39;49m\u001B[43mgateway\u001B[49m\u001B[38;5;241;43m.\u001B[39;49m\u001B[43mquery\u001B[49m\u001B[43m(\u001B[49m\u001B[38;5;28;43mself\u001B[39;49m\u001B[38;5;241;43m.\u001B[39;49m\u001B[43mroute\u001B[49m\u001B[43m,\u001B[49m\u001B[43m \u001B[49m\u001B[43mdata\u001B[49m\u001B[38;5;241;43m=\u001B[39;49m\u001B[43m{\u001B[49m\u001B[38;5;124;43m\"\u001B[39;49m\u001B[38;5;124;43mtext\u001B[39;49m\u001B[38;5;124;43m\"\u001B[39;49m\u001B[43m:\u001B[49m\u001B[43m \u001B[49m\u001B[43mtxt\u001B[49m\u001B[43m}\u001B[49m\u001B[43m)\u001B[49m\n",
       "\u001B[1;32m     68\u001B[0m     embeddings\u001B[38;5;241m.\u001B[39mappend(resp[\u001B[38;5;124m\"\u001B[39m\u001B[38;5;124membeddings\u001B[39m\u001B[38;5;124m\"\u001B[39m])\n",
       "\u001B[1;32m     69\u001B[0m \u001B[38;5;28;01mreturn\u001B[39;00m embeddings\n",
       "\n",
       "File \u001B[0;32m/local_disk0/.ephemeral_nfs/envs/pythonEnv-2558cb66-9e74-49a6-8705-7723d2bb30e8/lib/python3.10/site-packages/mlflow/gateway/utils.py:142\u001B[0m, in \u001B[0;36mgateway_deprecated.<locals>.wrapper\u001B[0;34m(*args, **kwargs)\u001B[0m\n",
       "\u001B[1;32m    139\u001B[0m \u001B[38;5;129m@functools\u001B[39m\u001B[38;5;241m.\u001B[39mwraps(obj)\n",
       "\u001B[1;32m    140\u001B[0m \u001B[38;5;28;01mdef\u001B[39;00m \u001B[38;5;21mwrapper\u001B[39m(\u001B[38;5;241m*\u001B[39margs, \u001B[38;5;241m*\u001B[39m\u001B[38;5;241m*\u001B[39mkwargs):\n",
       "\u001B[1;32m    141\u001B[0m     warnings\u001B[38;5;241m.\u001B[39mwarn(msg, \u001B[38;5;167;01mFutureWarning\u001B[39;00m, stacklevel\u001B[38;5;241m=\u001B[39m\u001B[38;5;241m2\u001B[39m)\n",
       "\u001B[0;32m--> 142\u001B[0m     \u001B[38;5;28;01mreturn\u001B[39;00m \u001B[43mobj\u001B[49m\u001B[43m(\u001B[49m\u001B[38;5;241;43m*\u001B[39;49m\u001B[43margs\u001B[49m\u001B[43m,\u001B[49m\u001B[43m \u001B[49m\u001B[38;5;241;43m*\u001B[39;49m\u001B[38;5;241;43m*\u001B[39;49m\u001B[43mkwargs\u001B[49m\u001B[43m)\u001B[49m\n",
       "\n",
       "File \u001B[0;32m/local_disk0/.ephemeral_nfs/envs/pythonEnv-2558cb66-9e74-49a6-8705-7723d2bb30e8/lib/python3.10/site-packages/mlflow/gateway/fluent.py:247\u001B[0m, in \u001B[0;36mquery\u001B[0;34m(route, data)\u001B[0m\n",
       "\u001B[1;32m    183\u001B[0m \u001B[38;5;129m@gateway_deprecated\u001B[39m\n",
       "\u001B[1;32m    184\u001B[0m \u001B[38;5;28;01mdef\u001B[39;00m \u001B[38;5;21mquery\u001B[39m(route: \u001B[38;5;28mstr\u001B[39m, data):\n",
       "\u001B[1;32m    185\u001B[0m     \u001B[38;5;124;03m\"\"\"\u001B[39;00m\n",
       "\u001B[1;32m    186\u001B[0m \u001B[38;5;124;03m    Issues a query request to a configured service through a named route on the Gateway Server.\u001B[39;00m\n",
       "\u001B[1;32m    187\u001B[0m \u001B[38;5;124;03m    This function will interface with a configured route name (examples below) and return the\u001B[39;00m\n",
       "\u001B[0;32m   (...)\u001B[0m\n",
       "\u001B[1;32m    245\u001B[0m \n",
       "\u001B[1;32m    246\u001B[0m \u001B[38;5;124;03m    \"\"\"\u001B[39;00m\n",
       "\u001B[0;32m--> 247\u001B[0m     \u001B[38;5;28;01mreturn\u001B[39;00m \u001B[43mMlflowGatewayClient\u001B[49m\u001B[43m(\u001B[49m\u001B[43m)\u001B[49m\u001B[38;5;241;43m.\u001B[39;49m\u001B[43mquery\u001B[49m\u001B[43m(\u001B[49m\u001B[43mroute\u001B[49m\u001B[43m,\u001B[49m\u001B[43m \u001B[49m\u001B[43mdata\u001B[49m\u001B[43m)\u001B[49m\n",
       "\n",
       "File \u001B[0;32m/local_disk0/.ephemeral_nfs/envs/pythonEnv-2558cb66-9e74-49a6-8705-7723d2bb30e8/lib/python3.10/site-packages/mlflow/gateway/utils.py:142\u001B[0m, in \u001B[0;36mgateway_deprecated.<locals>.wrapper\u001B[0;34m(*args, **kwargs)\u001B[0m\n",
       "\u001B[1;32m    139\u001B[0m \u001B[38;5;129m@functools\u001B[39m\u001B[38;5;241m.\u001B[39mwraps(obj)\n",
       "\u001B[1;32m    140\u001B[0m \u001B[38;5;28;01mdef\u001B[39;00m \u001B[38;5;21mwrapper\u001B[39m(\u001B[38;5;241m*\u001B[39margs, \u001B[38;5;241m*\u001B[39m\u001B[38;5;241m*\u001B[39mkwargs):\n",
       "\u001B[1;32m    141\u001B[0m     warnings\u001B[38;5;241m.\u001B[39mwarn(msg, \u001B[38;5;167;01mFutureWarning\u001B[39;00m, stacklevel\u001B[38;5;241m=\u001B[39m\u001B[38;5;241m2\u001B[39m)\n",
       "\u001B[0;32m--> 142\u001B[0m     \u001B[38;5;28;01mreturn\u001B[39;00m \u001B[43mobj\u001B[49m\u001B[43m(\u001B[49m\u001B[38;5;241;43m*\u001B[39;49m\u001B[43margs\u001B[49m\u001B[43m,\u001B[49m\u001B[43m \u001B[49m\u001B[38;5;241;43m*\u001B[39;49m\u001B[38;5;241;43m*\u001B[39;49m\u001B[43mkwargs\u001B[49m\u001B[43m)\u001B[49m\n",
       "\n",
       "File \u001B[0;32m/local_disk0/.ephemeral_nfs/envs/pythonEnv-2558cb66-9e74-49a6-8705-7723d2bb30e8/lib/python3.10/site-packages/mlflow/gateway/client.py:339\u001B[0m, in \u001B[0;36mMlflowGatewayClient.query\u001B[0;34m(self, route, data)\u001B[0m\n",
       "\u001B[1;32m    336\u001B[0m query_route \u001B[38;5;241m=\u001B[39m assemble_uri_path([MLFLOW_GATEWAY_ROUTE_BASE, route, MLFLOW_QUERY_SUFFIX])\n",
       "\u001B[1;32m    338\u001B[0m \u001B[38;5;28;01mtry\u001B[39;00m:\n",
       "\u001B[0;32m--> 339\u001B[0m     \u001B[38;5;28;01mreturn\u001B[39;00m \u001B[38;5;28;43mself\u001B[39;49m\u001B[38;5;241;43m.\u001B[39;49m\u001B[43m_call_endpoint\u001B[49m\u001B[43m(\u001B[49m\u001B[38;5;124;43m\"\u001B[39;49m\u001B[38;5;124;43mPOST\u001B[39;49m\u001B[38;5;124;43m\"\u001B[39;49m\u001B[43m,\u001B[49m\u001B[43m \u001B[49m\u001B[43mquery_route\u001B[49m\u001B[43m,\u001B[49m\u001B[43m \u001B[49m\u001B[43mdata\u001B[49m\u001B[43m)\u001B[49m\u001B[38;5;241m.\u001B[39mjson()\n",
       "\u001B[1;32m    340\u001B[0m \u001B[38;5;28;01mexcept\u001B[39;00m MlflowException \u001B[38;5;28;01mas\u001B[39;00m e:\n",
       "\u001B[1;32m    341\u001B[0m     \u001B[38;5;28;01mif\u001B[39;00m \u001B[38;5;28misinstance\u001B[39m(e\u001B[38;5;241m.\u001B[39m__cause__, requests\u001B[38;5;241m.\u001B[39mexceptions\u001B[38;5;241m.\u001B[39mTimeout):\n",
       "\n",
       "File \u001B[0;32m/local_disk0/.ephemeral_nfs/envs/pythonEnv-2558cb66-9e74-49a6-8705-7723d2bb30e8/lib/python3.10/site-packages/mlflow/gateway/client.py:101\u001B[0m, in \u001B[0;36mMlflowGatewayClient._call_endpoint\u001B[0;34m(self, method, route, json_body)\u001B[0m\n",
       "\u001B[1;32m     90\u001B[0m     call_kwargs[\u001B[38;5;124m\"\u001B[39m\u001B[38;5;124mjson\u001B[39m\u001B[38;5;124m\"\u001B[39m] \u001B[38;5;241m=\u001B[39m json_body\n",
       "\u001B[1;32m     92\u001B[0m response \u001B[38;5;241m=\u001B[39m http_request(\n",
       "\u001B[1;32m     93\u001B[0m     host_creds\u001B[38;5;241m=\u001B[39m\u001B[38;5;28mself\u001B[39m\u001B[38;5;241m.\u001B[39m_host_creds,\n",
       "\u001B[1;32m     94\u001B[0m     endpoint\u001B[38;5;241m=\u001B[39mroute,\n",
       "\u001B[0;32m   (...)\u001B[0m\n",
       "\u001B[1;32m     99\u001B[0m     \u001B[38;5;241m*\u001B[39m\u001B[38;5;241m*\u001B[39mcall_kwargs,\n",
       "\u001B[1;32m    100\u001B[0m )\n",
       "\u001B[0;32m--> 101\u001B[0m \u001B[43maugmented_raise_for_status\u001B[49m\u001B[43m(\u001B[49m\u001B[43mresponse\u001B[49m\u001B[43m)\u001B[49m\n",
       "\u001B[1;32m    102\u001B[0m \u001B[38;5;28;01mreturn\u001B[39;00m response\n",
       "\n",
       "File \u001B[0;32m/local_disk0/.ephemeral_nfs/envs/pythonEnv-2558cb66-9e74-49a6-8705-7723d2bb30e8/lib/python3.10/site-packages/mlflow/utils/request_utils.py:55\u001B[0m, in \u001B[0;36maugmented_raise_for_status\u001B[0;34m(response)\u001B[0m\n",
       "\u001B[1;32m     53\u001B[0m \u001B[38;5;28;01mexcept\u001B[39;00m HTTPError \u001B[38;5;28;01mas\u001B[39;00m e:\n",
       "\u001B[1;32m     54\u001B[0m     \u001B[38;5;28;01mif\u001B[39;00m response\u001B[38;5;241m.\u001B[39mtext:\n",
       "\u001B[0;32m---> 55\u001B[0m         \u001B[38;5;28;01mraise\u001B[39;00m HTTPError(\n",
       "\u001B[1;32m     56\u001B[0m             \u001B[38;5;124mf\u001B[39m\u001B[38;5;124m\"\u001B[39m\u001B[38;5;132;01m{\u001B[39;00me\u001B[38;5;132;01m}\u001B[39;00m\u001B[38;5;124m. Response text: \u001B[39m\u001B[38;5;132;01m{\u001B[39;00mresponse\u001B[38;5;241m.\u001B[39mtext\u001B[38;5;132;01m}\u001B[39;00m\u001B[38;5;124m\"\u001B[39m, request\u001B[38;5;241m=\u001B[39me\u001B[38;5;241m.\u001B[39mrequest, response\u001B[38;5;241m=\u001B[39me\u001B[38;5;241m.\u001B[39mresponse\n",
       "\u001B[1;32m     57\u001B[0m         )\n",
       "\u001B[1;32m     58\u001B[0m     \u001B[38;5;28;01melse\u001B[39;00m:\n",
       "\u001B[1;32m     59\u001B[0m         \u001B[38;5;28;01mraise\u001B[39;00m e\n",
       "\n",
       "\u001B[0;31mHTTPError\u001B[0m: 400 Client Error: Bad Request for url: https://oregon.cloud.databricks.com/gateway/embeddings_new/invocations. Response text: Bad request: number of inputs requested must be <= 16\n"
      ]
     },
     "metadata": {
      "application/vnd.databricks.v1+output": {
       "arguments": {},
       "data": "\u001B[0;31m---------------------------------------------------------------------------\u001B[0m\n\u001B[0;31mHTTPError\u001B[0m                                 Traceback (most recent call last)\nFile \u001B[0;32m/local_disk0/.ephemeral_nfs/envs/pythonEnv-2558cb66-9e74-49a6-8705-7723d2bb30e8/lib/python3.10/site-packages/mlflow/utils/request_utils.py:52\u001B[0m, in \u001B[0;36maugmented_raise_for_status\u001B[0;34m(response)\u001B[0m\n\u001B[1;32m     51\u001B[0m \u001B[38;5;28;01mtry\u001B[39;00m:\n\u001B[0;32m---> 52\u001B[0m     \u001B[43mresponse\u001B[49m\u001B[38;5;241;43m.\u001B[39;49m\u001B[43mraise_for_status\u001B[49m\u001B[43m(\u001B[49m\u001B[43m)\u001B[49m\n\u001B[1;32m     53\u001B[0m \u001B[38;5;28;01mexcept\u001B[39;00m HTTPError \u001B[38;5;28;01mas\u001B[39;00m e:\n\nFile \u001B[0;32m/databricks/python/lib/python3.10/site-packages/requests/models.py:1021\u001B[0m, in \u001B[0;36mResponse.raise_for_status\u001B[0;34m(self)\u001B[0m\n\u001B[1;32m   1020\u001B[0m \u001B[38;5;28;01mif\u001B[39;00m http_error_msg:\n\u001B[0;32m-> 1021\u001B[0m     \u001B[38;5;28;01mraise\u001B[39;00m HTTPError(http_error_msg, response\u001B[38;5;241m=\u001B[39m\u001B[38;5;28mself\u001B[39m)\n\n\u001B[0;31mHTTPError\u001B[0m: 400 Client Error: Bad Request for url: https://oregon.cloud.databricks.com/gateway/embeddings_new/invocations\n\nDuring handling of the above exception, another exception occurred:\n\n\u001B[0;31mHTTPError\u001B[0m                                 Traceback (most recent call last)\nFile \u001B[0;32m<command-2358992249830748>:13\u001B[0m\n\u001B[1;32m      6\u001B[0m mosaicml_embedding_route \u001B[38;5;241m=\u001B[39m MlflowAIGatewayEmbeddings(\n\u001B[1;32m      7\u001B[0m   gateway_uri\u001B[38;5;241m=\u001B[39m\u001B[38;5;124m\"\u001B[39m\u001B[38;5;124mdatabricks\u001B[39m\u001B[38;5;124m\"\u001B[39m,\n\u001B[1;32m      8\u001B[0m   route\u001B[38;5;241m=\u001B[39m\u001B[38;5;124m\"\u001B[39m\u001B[38;5;124membeddings_new\u001B[39m\u001B[38;5;124m\"\u001B[39m\n\u001B[1;32m      9\u001B[0m )\n\u001B[1;32m     11\u001B[0m \u001B[38;5;66;03m# load it into Chroma\u001B[39;00m\n\u001B[0;32m---> 13\u001B[0m db \u001B[38;5;241m=\u001B[39m Chroma\u001B[38;5;241m.\u001B[39mfrom_documents(text_chunks, embedding\u001B[38;5;241m=\u001B[39mmosaicml_embedding_route,persist_directory\u001B[38;5;241m=\u001B[39m\u001B[38;5;124m\"\u001B[39m\u001B[38;5;124m./chroma_db\u001B[39m\u001B[38;5;124m\"\u001B[39m)\n\nFile \u001B[0;32m/local_disk0/.ephemeral_nfs/envs/pythonEnv-2558cb66-9e74-49a6-8705-7723d2bb30e8/lib/python3.10/site-packages/langchain/vectorstores/chroma.py:771\u001B[0m, in \u001B[0;36mChroma.from_documents\u001B[0;34m(cls, documents, embedding, ids, collection_name, persist_directory, client_settings, client, collection_metadata, **kwargs)\u001B[0m\n\u001B[1;32m    769\u001B[0m texts \u001B[38;5;241m=\u001B[39m [doc\u001B[38;5;241m.\u001B[39mpage_content \u001B[38;5;28;01mfor\u001B[39;00m doc \u001B[38;5;129;01min\u001B[39;00m documents]\n\u001B[1;32m    770\u001B[0m metadatas \u001B[38;5;241m=\u001B[39m [doc\u001B[38;5;241m.\u001B[39mmetadata \u001B[38;5;28;01mfor\u001B[39;00m doc \u001B[38;5;129;01min\u001B[39;00m documents]\n\u001B[0;32m--> 771\u001B[0m \u001B[38;5;28;01mreturn\u001B[39;00m \u001B[38;5;28;43mcls\u001B[39;49m\u001B[38;5;241;43m.\u001B[39;49m\u001B[43mfrom_texts\u001B[49m\u001B[43m(\u001B[49m\n\u001B[1;32m    772\u001B[0m \u001B[43m    \u001B[49m\u001B[43mtexts\u001B[49m\u001B[38;5;241;43m=\u001B[39;49m\u001B[43mtexts\u001B[49m\u001B[43m,\u001B[49m\n\u001B[1;32m    773\u001B[0m \u001B[43m    \u001B[49m\u001B[43membedding\u001B[49m\u001B[38;5;241;43m=\u001B[39;49m\u001B[43membedding\u001B[49m\u001B[43m,\u001B[49m\n\u001B[1;32m    774\u001B[0m \u001B[43m    \u001B[49m\u001B[43mmetadatas\u001B[49m\u001B[38;5;241;43m=\u001B[39;49m\u001B[43mmetadatas\u001B[49m\u001B[43m,\u001B[49m\n\u001B[1;32m    775\u001B[0m \u001B[43m    \u001B[49m\u001B[43mids\u001B[49m\u001B[38;5;241;43m=\u001B[39;49m\u001B[43mids\u001B[49m\u001B[43m,\u001B[49m\n\u001B[1;32m    776\u001B[0m \u001B[43m    \u001B[49m\u001B[43mcollection_name\u001B[49m\u001B[38;5;241;43m=\u001B[39;49m\u001B[43mcollection_name\u001B[49m\u001B[43m,\u001B[49m\n\u001B[1;32m    777\u001B[0m \u001B[43m    \u001B[49m\u001B[43mpersist_directory\u001B[49m\u001B[38;5;241;43m=\u001B[39;49m\u001B[43mpersist_directory\u001B[49m\u001B[43m,\u001B[49m\n\u001B[1;32m    778\u001B[0m \u001B[43m    \u001B[49m\u001B[43mclient_settings\u001B[49m\u001B[38;5;241;43m=\u001B[39;49m\u001B[43mclient_settings\u001B[49m\u001B[43m,\u001B[49m\n\u001B[1;32m    779\u001B[0m \u001B[43m    \u001B[49m\u001B[43mclient\u001B[49m\u001B[38;5;241;43m=\u001B[39;49m\u001B[43mclient\u001B[49m\u001B[43m,\u001B[49m\n\u001B[1;32m    780\u001B[0m \u001B[43m    \u001B[49m\u001B[43mcollection_metadata\u001B[49m\u001B[38;5;241;43m=\u001B[39;49m\u001B[43mcollection_metadata\u001B[49m\u001B[43m,\u001B[49m\n\u001B[1;32m    781\u001B[0m \u001B[43m    \u001B[49m\u001B[38;5;241;43m*\u001B[39;49m\u001B[38;5;241;43m*\u001B[39;49m\u001B[43mkwargs\u001B[49m\u001B[43m,\u001B[49m\n\u001B[1;32m    782\u001B[0m \u001B[43m\u001B[49m\u001B[43m)\u001B[49m\n\nFile \u001B[0;32m/local_disk0/.ephemeral_nfs/envs/pythonEnv-2558cb66-9e74-49a6-8705-7723d2bb30e8/lib/python3.10/site-packages/langchain/vectorstores/chroma.py:729\u001B[0m, in \u001B[0;36mChroma.from_texts\u001B[0;34m(cls, texts, embedding, metadatas, ids, collection_name, persist_directory, client_settings, client, collection_metadata, **kwargs)\u001B[0m\n\u001B[1;32m    721\u001B[0m     \u001B[38;5;28;01mfrom\u001B[39;00m \u001B[38;5;21;01mchromadb\u001B[39;00m\u001B[38;5;21;01m.\u001B[39;00m\u001B[38;5;21;01mutils\u001B[39;00m\u001B[38;5;21;01m.\u001B[39;00m\u001B[38;5;21;01mbatch_utils\u001B[39;00m \u001B[38;5;28;01mimport\u001B[39;00m create_batches\n\u001B[1;32m    723\u001B[0m     \u001B[38;5;28;01mfor\u001B[39;00m batch \u001B[38;5;129;01min\u001B[39;00m create_batches(\n\u001B[1;32m    724\u001B[0m         api\u001B[38;5;241m=\u001B[39mchroma_collection\u001B[38;5;241m.\u001B[39m_client,\n\u001B[1;32m    725\u001B[0m         ids\u001B[38;5;241m=\u001B[39mids,\n\u001B[1;32m    726\u001B[0m         metadatas\u001B[38;5;241m=\u001B[39mmetadatas,\n\u001B[1;32m    727\u001B[0m         documents\u001B[38;5;241m=\u001B[39mtexts,\n\u001B[1;32m    728\u001B[0m     ):\n\u001B[0;32m--> 729\u001B[0m         \u001B[43mchroma_collection\u001B[49m\u001B[38;5;241;43m.\u001B[39;49m\u001B[43madd_texts\u001B[49m\u001B[43m(\u001B[49m\n\u001B[1;32m    730\u001B[0m \u001B[43m            \u001B[49m\u001B[43mtexts\u001B[49m\u001B[38;5;241;43m=\u001B[39;49m\u001B[43mbatch\u001B[49m\u001B[43m[\u001B[49m\u001B[38;5;241;43m3\u001B[39;49m\u001B[43m]\u001B[49m\u001B[43m \u001B[49m\u001B[38;5;28;43;01mif\u001B[39;49;00m\u001B[43m \u001B[49m\u001B[43mbatch\u001B[49m\u001B[43m[\u001B[49m\u001B[38;5;241;43m3\u001B[39;49m\u001B[43m]\u001B[49m\u001B[43m \u001B[49m\u001B[38;5;28;43;01melse\u001B[39;49;00m\u001B[43m \u001B[49m\u001B[43m[\u001B[49m\u001B[43m]\u001B[49m\u001B[43m,\u001B[49m\n\u001B[1;32m    731\u001B[0m \u001B[43m            \u001B[49m\u001B[43mmetadatas\u001B[49m\u001B[38;5;241;43m=\u001B[39;49m\u001B[43mbatch\u001B[49m\u001B[43m[\u001B[49m\u001B[38;5;241;43m2\u001B[39;49m\u001B[43m]\u001B[49m\u001B[43m \u001B[49m\u001B[38;5;28;43;01mif\u001B[39;49;00m\u001B[43m \u001B[49m\u001B[43mbatch\u001B[49m\u001B[43m[\u001B[49m\u001B[38;5;241;43m2\u001B[39;49m\u001B[43m]\u001B[49m\u001B[43m \u001B[49m\u001B[38;5;28;43;01melse\u001B[39;49;00m\u001B[43m \u001B[49m\u001B[38;5;28;43;01mNone\u001B[39;49;00m\u001B[43m,\u001B[49m\n\u001B[1;32m    732\u001B[0m \u001B[43m            \u001B[49m\u001B[43mids\u001B[49m\u001B[38;5;241;43m=\u001B[39;49m\u001B[43mbatch\u001B[49m\u001B[43m[\u001B[49m\u001B[38;5;241;43m0\u001B[39;49m\u001B[43m]\u001B[49m\u001B[43m,\u001B[49m\n\u001B[1;32m    733\u001B[0m \u001B[43m        \u001B[49m\u001B[43m)\u001B[49m\n\u001B[1;32m    734\u001B[0m \u001B[38;5;28;01melse\u001B[39;00m:\n\u001B[1;32m    735\u001B[0m     chroma_collection\u001B[38;5;241m.\u001B[39madd_texts(texts\u001B[38;5;241m=\u001B[39mtexts, metadatas\u001B[38;5;241m=\u001B[39mmetadatas, ids\u001B[38;5;241m=\u001B[39mids)\n\nFile \u001B[0;32m/local_disk0/.ephemeral_nfs/envs/pythonEnv-2558cb66-9e74-49a6-8705-7723d2bb30e8/lib/python3.10/site-packages/langchain/vectorstores/chroma.py:275\u001B[0m, in \u001B[0;36mChroma.add_texts\u001B[0;34m(self, texts, metadatas, ids, **kwargs)\u001B[0m\n\u001B[1;32m    273\u001B[0m texts \u001B[38;5;241m=\u001B[39m \u001B[38;5;28mlist\u001B[39m(texts)\n\u001B[1;32m    274\u001B[0m \u001B[38;5;28;01mif\u001B[39;00m \u001B[38;5;28mself\u001B[39m\u001B[38;5;241m.\u001B[39m_embedding_function \u001B[38;5;129;01mis\u001B[39;00m \u001B[38;5;129;01mnot\u001B[39;00m \u001B[38;5;28;01mNone\u001B[39;00m:\n\u001B[0;32m--> 275\u001B[0m     embeddings \u001B[38;5;241m=\u001B[39m \u001B[38;5;28;43mself\u001B[39;49m\u001B[38;5;241;43m.\u001B[39;49m\u001B[43m_embedding_function\u001B[49m\u001B[38;5;241;43m.\u001B[39;49m\u001B[43membed_documents\u001B[49m\u001B[43m(\u001B[49m\u001B[43mtexts\u001B[49m\u001B[43m)\u001B[49m\n\u001B[1;32m    276\u001B[0m \u001B[38;5;28;01mif\u001B[39;00m metadatas:\n\u001B[1;32m    277\u001B[0m     \u001B[38;5;66;03m# fill metadatas with empty dicts if somebody\u001B[39;00m\n\u001B[1;32m    278\u001B[0m     \u001B[38;5;66;03m# did not specify metadata for all texts\u001B[39;00m\n\u001B[1;32m    279\u001B[0m     length_diff \u001B[38;5;241m=\u001B[39m \u001B[38;5;28mlen\u001B[39m(texts) \u001B[38;5;241m-\u001B[39m \u001B[38;5;28mlen\u001B[39m(metadatas)\n\nFile \u001B[0;32m/local_disk0/.ephemeral_nfs/envs/pythonEnv-2558cb66-9e74-49a6-8705-7723d2bb30e8/lib/python3.10/site-packages/langchain/embeddings/mlflow_gateway.py:72\u001B[0m, in \u001B[0;36mMlflowAIGatewayEmbeddings.embed_documents\u001B[0;34m(self, texts)\u001B[0m\n\u001B[1;32m     71\u001B[0m \u001B[38;5;28;01mdef\u001B[39;00m \u001B[38;5;21membed_documents\u001B[39m(\u001B[38;5;28mself\u001B[39m, texts: List[\u001B[38;5;28mstr\u001B[39m]) \u001B[38;5;241m-\u001B[39m\u001B[38;5;241m>\u001B[39m List[List[\u001B[38;5;28mfloat\u001B[39m]]:\n\u001B[0;32m---> 72\u001B[0m     \u001B[38;5;28;01mreturn\u001B[39;00m \u001B[38;5;28;43mself\u001B[39;49m\u001B[38;5;241;43m.\u001B[39;49m\u001B[43m_query\u001B[49m\u001B[43m(\u001B[49m\u001B[43mtexts\u001B[49m\u001B[43m)\u001B[49m\n\nFile \u001B[0;32m/local_disk0/.ephemeral_nfs/envs/pythonEnv-2558cb66-9e74-49a6-8705-7723d2bb30e8/lib/python3.10/site-packages/langchain/embeddings/mlflow_gateway.py:67\u001B[0m, in \u001B[0;36mMlflowAIGatewayEmbeddings._query\u001B[0;34m(self, texts)\u001B[0m\n\u001B[1;32m     65\u001B[0m embeddings \u001B[38;5;241m=\u001B[39m []\n\u001B[1;32m     66\u001B[0m \u001B[38;5;28;01mfor\u001B[39;00m txt \u001B[38;5;129;01min\u001B[39;00m _chunk(texts, \u001B[38;5;241m20\u001B[39m):\n\u001B[0;32m---> 67\u001B[0m     resp \u001B[38;5;241m=\u001B[39m \u001B[43mmlflow\u001B[49m\u001B[38;5;241;43m.\u001B[39;49m\u001B[43mgateway\u001B[49m\u001B[38;5;241;43m.\u001B[39;49m\u001B[43mquery\u001B[49m\u001B[43m(\u001B[49m\u001B[38;5;28;43mself\u001B[39;49m\u001B[38;5;241;43m.\u001B[39;49m\u001B[43mroute\u001B[49m\u001B[43m,\u001B[49m\u001B[43m \u001B[49m\u001B[43mdata\u001B[49m\u001B[38;5;241;43m=\u001B[39;49m\u001B[43m{\u001B[49m\u001B[38;5;124;43m\"\u001B[39;49m\u001B[38;5;124;43mtext\u001B[39;49m\u001B[38;5;124;43m\"\u001B[39;49m\u001B[43m:\u001B[49m\u001B[43m \u001B[49m\u001B[43mtxt\u001B[49m\u001B[43m}\u001B[49m\u001B[43m)\u001B[49m\n\u001B[1;32m     68\u001B[0m     embeddings\u001B[38;5;241m.\u001B[39mappend(resp[\u001B[38;5;124m\"\u001B[39m\u001B[38;5;124membeddings\u001B[39m\u001B[38;5;124m\"\u001B[39m])\n\u001B[1;32m     69\u001B[0m \u001B[38;5;28;01mreturn\u001B[39;00m embeddings\n\nFile \u001B[0;32m/local_disk0/.ephemeral_nfs/envs/pythonEnv-2558cb66-9e74-49a6-8705-7723d2bb30e8/lib/python3.10/site-packages/mlflow/gateway/utils.py:142\u001B[0m, in \u001B[0;36mgateway_deprecated.<locals>.wrapper\u001B[0;34m(*args, **kwargs)\u001B[0m\n\u001B[1;32m    139\u001B[0m \u001B[38;5;129m@functools\u001B[39m\u001B[38;5;241m.\u001B[39mwraps(obj)\n\u001B[1;32m    140\u001B[0m \u001B[38;5;28;01mdef\u001B[39;00m \u001B[38;5;21mwrapper\u001B[39m(\u001B[38;5;241m*\u001B[39margs, \u001B[38;5;241m*\u001B[39m\u001B[38;5;241m*\u001B[39mkwargs):\n\u001B[1;32m    141\u001B[0m     warnings\u001B[38;5;241m.\u001B[39mwarn(msg, \u001B[38;5;167;01mFutureWarning\u001B[39;00m, stacklevel\u001B[38;5;241m=\u001B[39m\u001B[38;5;241m2\u001B[39m)\n\u001B[0;32m--> 142\u001B[0m     \u001B[38;5;28;01mreturn\u001B[39;00m \u001B[43mobj\u001B[49m\u001B[43m(\u001B[49m\u001B[38;5;241;43m*\u001B[39;49m\u001B[43margs\u001B[49m\u001B[43m,\u001B[49m\u001B[43m \u001B[49m\u001B[38;5;241;43m*\u001B[39;49m\u001B[38;5;241;43m*\u001B[39;49m\u001B[43mkwargs\u001B[49m\u001B[43m)\u001B[49m\n\nFile \u001B[0;32m/local_disk0/.ephemeral_nfs/envs/pythonEnv-2558cb66-9e74-49a6-8705-7723d2bb30e8/lib/python3.10/site-packages/mlflow/gateway/fluent.py:247\u001B[0m, in \u001B[0;36mquery\u001B[0;34m(route, data)\u001B[0m\n\u001B[1;32m    183\u001B[0m \u001B[38;5;129m@gateway_deprecated\u001B[39m\n\u001B[1;32m    184\u001B[0m \u001B[38;5;28;01mdef\u001B[39;00m \u001B[38;5;21mquery\u001B[39m(route: \u001B[38;5;28mstr\u001B[39m, data):\n\u001B[1;32m    185\u001B[0m     \u001B[38;5;124;03m\"\"\"\u001B[39;00m\n\u001B[1;32m    186\u001B[0m \u001B[38;5;124;03m    Issues a query request to a configured service through a named route on the Gateway Server.\u001B[39;00m\n\u001B[1;32m    187\u001B[0m \u001B[38;5;124;03m    This function will interface with a configured route name (examples below) and return the\u001B[39;00m\n\u001B[0;32m   (...)\u001B[0m\n\u001B[1;32m    245\u001B[0m \n\u001B[1;32m    246\u001B[0m \u001B[38;5;124;03m    \"\"\"\u001B[39;00m\n\u001B[0;32m--> 247\u001B[0m     \u001B[38;5;28;01mreturn\u001B[39;00m \u001B[43mMlflowGatewayClient\u001B[49m\u001B[43m(\u001B[49m\u001B[43m)\u001B[49m\u001B[38;5;241;43m.\u001B[39;49m\u001B[43mquery\u001B[49m\u001B[43m(\u001B[49m\u001B[43mroute\u001B[49m\u001B[43m,\u001B[49m\u001B[43m \u001B[49m\u001B[43mdata\u001B[49m\u001B[43m)\u001B[49m\n\nFile \u001B[0;32m/local_disk0/.ephemeral_nfs/envs/pythonEnv-2558cb66-9e74-49a6-8705-7723d2bb30e8/lib/python3.10/site-packages/mlflow/gateway/utils.py:142\u001B[0m, in \u001B[0;36mgateway_deprecated.<locals>.wrapper\u001B[0;34m(*args, **kwargs)\u001B[0m\n\u001B[1;32m    139\u001B[0m \u001B[38;5;129m@functools\u001B[39m\u001B[38;5;241m.\u001B[39mwraps(obj)\n\u001B[1;32m    140\u001B[0m \u001B[38;5;28;01mdef\u001B[39;00m \u001B[38;5;21mwrapper\u001B[39m(\u001B[38;5;241m*\u001B[39margs, \u001B[38;5;241m*\u001B[39m\u001B[38;5;241m*\u001B[39mkwargs):\n\u001B[1;32m    141\u001B[0m     warnings\u001B[38;5;241m.\u001B[39mwarn(msg, \u001B[38;5;167;01mFutureWarning\u001B[39;00m, stacklevel\u001B[38;5;241m=\u001B[39m\u001B[38;5;241m2\u001B[39m)\n\u001B[0;32m--> 142\u001B[0m     \u001B[38;5;28;01mreturn\u001B[39;00m \u001B[43mobj\u001B[49m\u001B[43m(\u001B[49m\u001B[38;5;241;43m*\u001B[39;49m\u001B[43margs\u001B[49m\u001B[43m,\u001B[49m\u001B[43m \u001B[49m\u001B[38;5;241;43m*\u001B[39;49m\u001B[38;5;241;43m*\u001B[39;49m\u001B[43mkwargs\u001B[49m\u001B[43m)\u001B[49m\n\nFile \u001B[0;32m/local_disk0/.ephemeral_nfs/envs/pythonEnv-2558cb66-9e74-49a6-8705-7723d2bb30e8/lib/python3.10/site-packages/mlflow/gateway/client.py:339\u001B[0m, in \u001B[0;36mMlflowGatewayClient.query\u001B[0;34m(self, route, data)\u001B[0m\n\u001B[1;32m    336\u001B[0m query_route \u001B[38;5;241m=\u001B[39m assemble_uri_path([MLFLOW_GATEWAY_ROUTE_BASE, route, MLFLOW_QUERY_SUFFIX])\n\u001B[1;32m    338\u001B[0m \u001B[38;5;28;01mtry\u001B[39;00m:\n\u001B[0;32m--> 339\u001B[0m     \u001B[38;5;28;01mreturn\u001B[39;00m \u001B[38;5;28;43mself\u001B[39;49m\u001B[38;5;241;43m.\u001B[39;49m\u001B[43m_call_endpoint\u001B[49m\u001B[43m(\u001B[49m\u001B[38;5;124;43m\"\u001B[39;49m\u001B[38;5;124;43mPOST\u001B[39;49m\u001B[38;5;124;43m\"\u001B[39;49m\u001B[43m,\u001B[49m\u001B[43m \u001B[49m\u001B[43mquery_route\u001B[49m\u001B[43m,\u001B[49m\u001B[43m \u001B[49m\u001B[43mdata\u001B[49m\u001B[43m)\u001B[49m\u001B[38;5;241m.\u001B[39mjson()\n\u001B[1;32m    340\u001B[0m \u001B[38;5;28;01mexcept\u001B[39;00m MlflowException \u001B[38;5;28;01mas\u001B[39;00m e:\n\u001B[1;32m    341\u001B[0m     \u001B[38;5;28;01mif\u001B[39;00m \u001B[38;5;28misinstance\u001B[39m(e\u001B[38;5;241m.\u001B[39m__cause__, requests\u001B[38;5;241m.\u001B[39mexceptions\u001B[38;5;241m.\u001B[39mTimeout):\n\nFile \u001B[0;32m/local_disk0/.ephemeral_nfs/envs/pythonEnv-2558cb66-9e74-49a6-8705-7723d2bb30e8/lib/python3.10/site-packages/mlflow/gateway/client.py:101\u001B[0m, in \u001B[0;36mMlflowGatewayClient._call_endpoint\u001B[0;34m(self, method, route, json_body)\u001B[0m\n\u001B[1;32m     90\u001B[0m     call_kwargs[\u001B[38;5;124m\"\u001B[39m\u001B[38;5;124mjson\u001B[39m\u001B[38;5;124m\"\u001B[39m] \u001B[38;5;241m=\u001B[39m json_body\n\u001B[1;32m     92\u001B[0m response \u001B[38;5;241m=\u001B[39m http_request(\n\u001B[1;32m     93\u001B[0m     host_creds\u001B[38;5;241m=\u001B[39m\u001B[38;5;28mself\u001B[39m\u001B[38;5;241m.\u001B[39m_host_creds,\n\u001B[1;32m     94\u001B[0m     endpoint\u001B[38;5;241m=\u001B[39mroute,\n\u001B[0;32m   (...)\u001B[0m\n\u001B[1;32m     99\u001B[0m     \u001B[38;5;241m*\u001B[39m\u001B[38;5;241m*\u001B[39mcall_kwargs,\n\u001B[1;32m    100\u001B[0m )\n\u001B[0;32m--> 101\u001B[0m \u001B[43maugmented_raise_for_status\u001B[49m\u001B[43m(\u001B[49m\u001B[43mresponse\u001B[49m\u001B[43m)\u001B[49m\n\u001B[1;32m    102\u001B[0m \u001B[38;5;28;01mreturn\u001B[39;00m response\n\nFile \u001B[0;32m/local_disk0/.ephemeral_nfs/envs/pythonEnv-2558cb66-9e74-49a6-8705-7723d2bb30e8/lib/python3.10/site-packages/mlflow/utils/request_utils.py:55\u001B[0m, in \u001B[0;36maugmented_raise_for_status\u001B[0;34m(response)\u001B[0m\n\u001B[1;32m     53\u001B[0m \u001B[38;5;28;01mexcept\u001B[39;00m HTTPError \u001B[38;5;28;01mas\u001B[39;00m e:\n\u001B[1;32m     54\u001B[0m     \u001B[38;5;28;01mif\u001B[39;00m response\u001B[38;5;241m.\u001B[39mtext:\n\u001B[0;32m---> 55\u001B[0m         \u001B[38;5;28;01mraise\u001B[39;00m HTTPError(\n\u001B[1;32m     56\u001B[0m             \u001B[38;5;124mf\u001B[39m\u001B[38;5;124m\"\u001B[39m\u001B[38;5;132;01m{\u001B[39;00me\u001B[38;5;132;01m}\u001B[39;00m\u001B[38;5;124m. Response text: \u001B[39m\u001B[38;5;132;01m{\u001B[39;00mresponse\u001B[38;5;241m.\u001B[39mtext\u001B[38;5;132;01m}\u001B[39;00m\u001B[38;5;124m\"\u001B[39m, request\u001B[38;5;241m=\u001B[39me\u001B[38;5;241m.\u001B[39mrequest, response\u001B[38;5;241m=\u001B[39me\u001B[38;5;241m.\u001B[39mresponse\n\u001B[1;32m     57\u001B[0m         )\n\u001B[1;32m     58\u001B[0m     \u001B[38;5;28;01melse\u001B[39;00m:\n\u001B[1;32m     59\u001B[0m         \u001B[38;5;28;01mraise\u001B[39;00m e\n\n\u001B[0;31mHTTPError\u001B[0m: 400 Client Error: Bad Request for url: https://oregon.cloud.databricks.com/gateway/embeddings_new/invocations. Response text: Bad request: number of inputs requested must be <= 16\n",
       "errorSummary": "<span class='ansi-red-fg'>HTTPError</span>: 400 Client Error: Bad Request for url: https://oregon.cloud.databricks.com/gateway/embeddings_new/invocations. Response text: Bad request: number of inputs requested must be <= 16\n",
       "errorTraceType": "ansi",
       "metadata": {},
       "type": "ipynbError"
      }
     },
     "output_type": "display_data"
    }
   ],
   "source": [
    "from langchain.embeddings import MlflowAIGatewayEmbeddings\n",
    "from langchain.vectorstores import Chroma\n",
    "\n",
    "# Retrieve the AI Gateway Route\n",
    "\n",
    "mosaicml_embedding_route = MlflowAIGatewayEmbeddings(\n",
    "  gateway_uri=\"databricks\",\n",
    "  route=\"embeddings_new\"\n",
    ")\n",
    "\n",
    "# load it into Chroma\n",
    "\n",
    "db = Chroma.from_documents(text_chunks, embedding=mosaicml_embedding_route,persist_directory=\"./chroma_db\")"
   ]
  },
  {
   "cell_type": "code",
   "execution_count": 0,
   "metadata": {
    "application/vnd.databricks.v1+cell": {
     "cellMetadata": {
      "byteLimit": 2048000,
      "rowLimit": 10000
     },
     "inputWidgets": {},
     "nuid": "c74589b0-bd52-4791-be1d-1fc2291983ca",
     "showTitle": false,
     "title": ""
    }
   },
   "outputs": [
    {
     "output_type": "stream",
     "name": "stderr",
     "output_type": "stream",
     "text": [
      "/local_disk0/.ephemeral_nfs/envs/pythonEnv-2558cb66-9e74-49a6-8705-7723d2bb30e8/lib/python3.10/site-packages/langchain/llms/mlflow_ai_gateway.py:64: FutureWarning: MLflow AI gateway is deprecated and has been replaced by the deployments API for generative AI. See https://mlflow.org/docs/latest/llms/gateway/deprecation.html for more details.\n  mlflow.gateway.set_gateway_uri(self.gateway_uri)\n"
     ]
    }
   ],
   "source": [
    "from langchain.llms import MlflowAIGateway\n",
    "from langchain import PromptTemplate\n",
    "\n",
    "# Create a prompt structure for Llama2 Chat (note that if using MPT the prompt structure would differ)\n",
    "\n",
    "template = \"\"\"[INST] <<SYS>>\n",
    "You are an AI assistant, helping gardeners by providing expert gardening answers and advice. \n",
    "\n",
    "Use only information provided in the following paragraphs to answer the question at the end. \n",
    "\n",
    "Explain your answer with reference to these paragraphs.\n",
    "\n",
    "If a question does not make any sense, or is not factually coherent, explain why instead of answering something not correct. \n",
    "\n",
    "If you don't know the answer to a question, please don't share false information.\n",
    "\n",
    "<</SYS>>\n",
    "\n",
    "{context}\n",
    "\n",
    "{question} [/INST]\n",
    "\n",
    "\"\"\"\n",
    "\n",
    "prompt = PromptTemplate(input_variables=['context', 'question'], template=template)\n",
    "\n",
    "# Retrieve the AI Gateway Route\n",
    "\n",
    "mosaic_completion_route = MlflowAIGateway(\n",
    "  gateway_uri=\"databricks\",\n",
    "  route=\"completion\",\n",
    "  params={ \"temperature\": 0.1 ,\"max_tokens\": 200},\n",
    ")\n",
    "\n",
    "# Wrap the prompt and Gateway Route into a chain\n",
    "\n",
    "retrieval_qa_chain = RetrievalQA.from_chain_type(llm=mosaic_completion_route, chain_type=\"stuff\", retriever=db.as_retriever(), chain_type_kwargs={\"prompt\": prompt})"
   ]
  },
  {
   "cell_type": "code",
   "execution_count": 0,
   "metadata": {
    "application/vnd.databricks.v1+cell": {
     "cellMetadata": {
      "byteLimit": 2048000,
      "rowLimit": 10000
     },
     "inputWidgets": {},
     "nuid": "e1ecafa5-9e58-4d07-afbb-4420ced33d12",
     "showTitle": false,
     "title": ""
    }
   },
   "outputs": [
    {
     "output_type": "execute_result",
     "data": {
      "text/plain": [
       "RetrievalQA(combine_documents_chain=StuffDocumentsChain(llm_chain=LLMChain(prompt=PromptTemplate(input_variables=['context', 'question'], template=\"[INST] <<SYS>>\\nYou are an AI assistant, helping gardeners by providing expert gardening answers and advice. \\n\\nUse only information provided in the following paragraphs to answer the question at the end. \\n\\nExplain your answer with reference to these paragraphs.\\n\\nIf a question does not make any sense, or is not factually coherent, explain why instead of answering something not correct. \\n\\nIf you don't know the answer to a question, please don't share false information.\\n\\n<</SYS>>\\n\\n{context}\\n\\n{question} [/INST]\\n\\n\"), llm=MlflowAIGateway(route='completion', gateway_uri='databricks', params=Params(temperature=0.1, candidate_count=1, stop=None, max_tokens=None))), document_variable_name='context'), retriever=VectorStoreRetriever(tags=['Chroma', 'HuggingFaceEmbeddings'], vectorstore=<langchain.vectorstores.chroma.Chroma object at 0x7f508e583f40>))"
      ]
     },
     "execution_count": 19,
     "metadata": {},
     "output_type": "execute_result"
    }
   ],
   "source": [
    "retrieval_qa_chain"
   ]
  },
  {
   "cell_type": "code",
   "execution_count": 0,
   "metadata": {
    "application/vnd.databricks.v1+cell": {
     "cellMetadata": {
      "byteLimit": 2048000,
      "rowLimit": 10000
     },
     "inputWidgets": {},
     "nuid": "0123bdfc-f96f-4b1f-8345-b134162ee26a",
     "showTitle": false,
     "title": ""
    }
   },
   "outputs": [
    {
     "output_type": "stream",
     "name": "stderr",
     "output_type": "stream",
     "text": [
      "/local_disk0/.ephemeral_nfs/envs/pythonEnv-2558cb66-9e74-49a6-8705-7723d2bb30e8/lib/python3.10/site-packages/langchain/llms/mlflow_ai_gateway.py:100: FutureWarning: MLflow AI gateway is deprecated and has been replaced by the deployments API for generative AI. See https://mlflow.org/docs/latest/llms/gateway/deprecation.html for more details.\n  resp = mlflow.gateway.query(self.route, data=data)\n/local_disk0/.ephemeral_nfs/envs/pythonEnv-2558cb66-9e74-49a6-8705-7723d2bb30e8/lib/python3.10/site-packages/mlflow/gateway/fluent.py:247: FutureWarning: MLflow AI gateway is deprecated and has been replaced by the deployments API for generative AI. See https://mlflow.org/docs/latest/llms/gateway/deprecation.html for more details.\n  return MlflowGatewayClient().query(route, data)\n/local_disk0/.ephemeral_nfs/envs/pythonEnv-2558cb66-9e74-49a6-8705-7723d2bb30e8/lib/python3.10/site-packages/mlflow/gateway/client.py:44: FutureWarning: MLflow AI gateway is deprecated and has been replaced by the deployments API for generative AI. See https://mlflow.org/docs/latest/llms/gateway/deprecation.html for more details.\n  self._gateway_uri = gateway_uri or get_gateway_uri()\n"
     ]
    },
    {
     "output_type": "display_data",
     "data": {
      "text/plain": [
       "\u001B[0;31m---------------------------------------------------------------------------\u001B[0m\n",
       "\u001B[0;31mHTTPError\u001B[0m                                 Traceback (most recent call last)\n",
       "File \u001B[0;32m/local_disk0/.ephemeral_nfs/envs/pythonEnv-2558cb66-9e74-49a6-8705-7723d2bb30e8/lib/python3.10/site-packages/mlflow/utils/request_utils.py:52\u001B[0m, in \u001B[0;36maugmented_raise_for_status\u001B[0;34m(response)\u001B[0m\n",
       "\u001B[1;32m     51\u001B[0m \u001B[38;5;28;01mtry\u001B[39;00m:\n",
       "\u001B[0;32m---> 52\u001B[0m     \u001B[43mresponse\u001B[49m\u001B[38;5;241;43m.\u001B[39;49m\u001B[43mraise_for_status\u001B[49m\u001B[43m(\u001B[49m\u001B[43m)\u001B[49m\n",
       "\u001B[1;32m     53\u001B[0m \u001B[38;5;28;01mexcept\u001B[39;00m HTTPError \u001B[38;5;28;01mas\u001B[39;00m e:\n",
       "\n",
       "File \u001B[0;32m/databricks/python/lib/python3.10/site-packages/requests/models.py:1021\u001B[0m, in \u001B[0;36mResponse.raise_for_status\u001B[0;34m(self)\u001B[0m\n",
       "\u001B[1;32m   1020\u001B[0m \u001B[38;5;28;01mif\u001B[39;00m http_error_msg:\n",
       "\u001B[0;32m-> 1021\u001B[0m     \u001B[38;5;28;01mraise\u001B[39;00m HTTPError(http_error_msg, response\u001B[38;5;241m=\u001B[39m\u001B[38;5;28mself\u001B[39m)\n",
       "\n",
       "\u001B[0;31mHTTPError\u001B[0m: 400 Client Error: Bad Request for url: https://oregon.cloud.databricks.com/gateway/completion/invocations\n",
       "\n",
       "During handling of the above exception, another exception occurred:\n",
       "\n",
       "\u001B[0;31mHTTPError\u001B[0m                                 Traceback (most recent call last)\n",
       "File \u001B[0;32m<command-3278141893405831>:3\u001B[0m\n",
       "\u001B[1;32m      1\u001B[0m query \u001B[38;5;241m=\u001B[39m \u001B[38;5;124m\"\u001B[39m\u001B[38;5;124mएचडीएफसी बैंक की वर्तमान ब्याज दर क्या है??\u001B[39m\u001B[38;5;124m\"\u001B[39m\n",
       "\u001B[0;32m----> 3\u001B[0m retrieval_qa_chain\u001B[38;5;241m.\u001B[39mrun(query)\n",
       "\n",
       "File \u001B[0;32m/local_disk0/.ephemeral_nfs/envs/pythonEnv-2558cb66-9e74-49a6-8705-7723d2bb30e8/lib/python3.10/site-packages/langchain/chains/base.py:507\u001B[0m, in \u001B[0;36mChain.run\u001B[0;34m(self, callbacks, tags, metadata, *args, **kwargs)\u001B[0m\n",
       "\u001B[1;32m    505\u001B[0m     \u001B[38;5;28;01mif\u001B[39;00m \u001B[38;5;28mlen\u001B[39m(args) \u001B[38;5;241m!=\u001B[39m \u001B[38;5;241m1\u001B[39m:\n",
       "\u001B[1;32m    506\u001B[0m         \u001B[38;5;28;01mraise\u001B[39;00m \u001B[38;5;167;01mValueError\u001B[39;00m(\u001B[38;5;124m\"\u001B[39m\u001B[38;5;124m`run` supports only one positional argument.\u001B[39m\u001B[38;5;124m\"\u001B[39m)\n",
       "\u001B[0;32m--> 507\u001B[0m     \u001B[38;5;28;01mreturn\u001B[39;00m \u001B[38;5;28;43mself\u001B[39;49m\u001B[43m(\u001B[49m\u001B[43margs\u001B[49m\u001B[43m[\u001B[49m\u001B[38;5;241;43m0\u001B[39;49m\u001B[43m]\u001B[49m\u001B[43m,\u001B[49m\u001B[43m \u001B[49m\u001B[43mcallbacks\u001B[49m\u001B[38;5;241;43m=\u001B[39;49m\u001B[43mcallbacks\u001B[49m\u001B[43m,\u001B[49m\u001B[43m \u001B[49m\u001B[43mtags\u001B[49m\u001B[38;5;241;43m=\u001B[39;49m\u001B[43mtags\u001B[49m\u001B[43m,\u001B[49m\u001B[43m \u001B[49m\u001B[43mmetadata\u001B[49m\u001B[38;5;241;43m=\u001B[39;49m\u001B[43mmetadata\u001B[49m\u001B[43m)\u001B[49m[\n",
       "\u001B[1;32m    508\u001B[0m         _output_key\n",
       "\u001B[1;32m    509\u001B[0m     ]\n",
       "\u001B[1;32m    511\u001B[0m \u001B[38;5;28;01mif\u001B[39;00m kwargs \u001B[38;5;129;01mand\u001B[39;00m \u001B[38;5;129;01mnot\u001B[39;00m args:\n",
       "\u001B[1;32m    512\u001B[0m     \u001B[38;5;28;01mreturn\u001B[39;00m \u001B[38;5;28mself\u001B[39m(kwargs, callbacks\u001B[38;5;241m=\u001B[39mcallbacks, tags\u001B[38;5;241m=\u001B[39mtags, metadata\u001B[38;5;241m=\u001B[39mmetadata)[\n",
       "\u001B[1;32m    513\u001B[0m         _output_key\n",
       "\u001B[1;32m    514\u001B[0m     ]\n",
       "\n",
       "File \u001B[0;32m/local_disk0/.ephemeral_nfs/envs/pythonEnv-2558cb66-9e74-49a6-8705-7723d2bb30e8/lib/python3.10/site-packages/langchain/chains/base.py:312\u001B[0m, in \u001B[0;36mChain.__call__\u001B[0;34m(self, inputs, return_only_outputs, callbacks, tags, metadata, run_name, include_run_info)\u001B[0m\n",
       "\u001B[1;32m    310\u001B[0m \u001B[38;5;28;01mexcept\u001B[39;00m \u001B[38;5;167;01mBaseException\u001B[39;00m \u001B[38;5;28;01mas\u001B[39;00m e:\n",
       "\u001B[1;32m    311\u001B[0m     run_manager\u001B[38;5;241m.\u001B[39mon_chain_error(e)\n",
       "\u001B[0;32m--> 312\u001B[0m     \u001B[38;5;28;01mraise\u001B[39;00m e\n",
       "\u001B[1;32m    313\u001B[0m run_manager\u001B[38;5;241m.\u001B[39mon_chain_end(outputs)\n",
       "\u001B[1;32m    314\u001B[0m final_outputs: Dict[\u001B[38;5;28mstr\u001B[39m, Any] \u001B[38;5;241m=\u001B[39m \u001B[38;5;28mself\u001B[39m\u001B[38;5;241m.\u001B[39mprep_outputs(\n",
       "\u001B[1;32m    315\u001B[0m     inputs, outputs, return_only_outputs\n",
       "\u001B[1;32m    316\u001B[0m )\n",
       "\n",
       "File \u001B[0;32m/local_disk0/.ephemeral_nfs/envs/pythonEnv-2558cb66-9e74-49a6-8705-7723d2bb30e8/lib/python3.10/site-packages/langchain/chains/base.py:306\u001B[0m, in \u001B[0;36mChain.__call__\u001B[0;34m(self, inputs, return_only_outputs, callbacks, tags, metadata, run_name, include_run_info)\u001B[0m\n",
       "\u001B[1;32m    299\u001B[0m run_manager \u001B[38;5;241m=\u001B[39m callback_manager\u001B[38;5;241m.\u001B[39mon_chain_start(\n",
       "\u001B[1;32m    300\u001B[0m     dumpd(\u001B[38;5;28mself\u001B[39m),\n",
       "\u001B[1;32m    301\u001B[0m     inputs,\n",
       "\u001B[1;32m    302\u001B[0m     name\u001B[38;5;241m=\u001B[39mrun_name,\n",
       "\u001B[1;32m    303\u001B[0m )\n",
       "\u001B[1;32m    304\u001B[0m \u001B[38;5;28;01mtry\u001B[39;00m:\n",
       "\u001B[1;32m    305\u001B[0m     outputs \u001B[38;5;241m=\u001B[39m (\n",
       "\u001B[0;32m--> 306\u001B[0m         \u001B[38;5;28;43mself\u001B[39;49m\u001B[38;5;241;43m.\u001B[39;49m\u001B[43m_call\u001B[49m\u001B[43m(\u001B[49m\u001B[43minputs\u001B[49m\u001B[43m,\u001B[49m\u001B[43m \u001B[49m\u001B[43mrun_manager\u001B[49m\u001B[38;5;241;43m=\u001B[39;49m\u001B[43mrun_manager\u001B[49m\u001B[43m)\u001B[49m\n",
       "\u001B[1;32m    307\u001B[0m         \u001B[38;5;28;01mif\u001B[39;00m new_arg_supported\n",
       "\u001B[1;32m    308\u001B[0m         \u001B[38;5;28;01melse\u001B[39;00m \u001B[38;5;28mself\u001B[39m\u001B[38;5;241m.\u001B[39m_call(inputs)\n",
       "\u001B[1;32m    309\u001B[0m     )\n",
       "\u001B[1;32m    310\u001B[0m \u001B[38;5;28;01mexcept\u001B[39;00m \u001B[38;5;167;01mBaseException\u001B[39;00m \u001B[38;5;28;01mas\u001B[39;00m e:\n",
       "\u001B[1;32m    311\u001B[0m     run_manager\u001B[38;5;241m.\u001B[39mon_chain_error(e)\n",
       "\n",
       "File \u001B[0;32m/local_disk0/.ephemeral_nfs/envs/pythonEnv-2558cb66-9e74-49a6-8705-7723d2bb30e8/lib/python3.10/site-packages/langchain/chains/retrieval_qa/base.py:141\u001B[0m, in \u001B[0;36mBaseRetrievalQA._call\u001B[0;34m(self, inputs, run_manager)\u001B[0m\n",
       "\u001B[1;32m    139\u001B[0m \u001B[38;5;28;01melse\u001B[39;00m:\n",
       "\u001B[1;32m    140\u001B[0m     docs \u001B[38;5;241m=\u001B[39m \u001B[38;5;28mself\u001B[39m\u001B[38;5;241m.\u001B[39m_get_docs(question)  \u001B[38;5;66;03m# type: ignore[call-arg]\u001B[39;00m\n",
       "\u001B[0;32m--> 141\u001B[0m answer \u001B[38;5;241m=\u001B[39m \u001B[38;5;28;43mself\u001B[39;49m\u001B[38;5;241;43m.\u001B[39;49m\u001B[43mcombine_documents_chain\u001B[49m\u001B[38;5;241;43m.\u001B[39;49m\u001B[43mrun\u001B[49m\u001B[43m(\u001B[49m\n",
       "\u001B[1;32m    142\u001B[0m \u001B[43m    \u001B[49m\u001B[43minput_documents\u001B[49m\u001B[38;5;241;43m=\u001B[39;49m\u001B[43mdocs\u001B[49m\u001B[43m,\u001B[49m\u001B[43m \u001B[49m\u001B[43mquestion\u001B[49m\u001B[38;5;241;43m=\u001B[39;49m\u001B[43mquestion\u001B[49m\u001B[43m,\u001B[49m\u001B[43m \u001B[49m\u001B[43mcallbacks\u001B[49m\u001B[38;5;241;43m=\u001B[39;49m\u001B[43m_run_manager\u001B[49m\u001B[38;5;241;43m.\u001B[39;49m\u001B[43mget_child\u001B[49m\u001B[43m(\u001B[49m\u001B[43m)\u001B[49m\n",
       "\u001B[1;32m    143\u001B[0m \u001B[43m\u001B[49m\u001B[43m)\u001B[49m\n",
       "\u001B[1;32m    145\u001B[0m \u001B[38;5;28;01mif\u001B[39;00m \u001B[38;5;28mself\u001B[39m\u001B[38;5;241m.\u001B[39mreturn_source_documents:\n",
       "\u001B[1;32m    146\u001B[0m     \u001B[38;5;28;01mreturn\u001B[39;00m {\u001B[38;5;28mself\u001B[39m\u001B[38;5;241m.\u001B[39moutput_key: answer, \u001B[38;5;124m\"\u001B[39m\u001B[38;5;124msource_documents\u001B[39m\u001B[38;5;124m\"\u001B[39m: docs}\n",
       "\n",
       "File \u001B[0;32m/local_disk0/.ephemeral_nfs/envs/pythonEnv-2558cb66-9e74-49a6-8705-7723d2bb30e8/lib/python3.10/site-packages/langchain/chains/base.py:512\u001B[0m, in \u001B[0;36mChain.run\u001B[0;34m(self, callbacks, tags, metadata, *args, **kwargs)\u001B[0m\n",
       "\u001B[1;32m    507\u001B[0m     \u001B[38;5;28;01mreturn\u001B[39;00m \u001B[38;5;28mself\u001B[39m(args[\u001B[38;5;241m0\u001B[39m], callbacks\u001B[38;5;241m=\u001B[39mcallbacks, tags\u001B[38;5;241m=\u001B[39mtags, metadata\u001B[38;5;241m=\u001B[39mmetadata)[\n",
       "\u001B[1;32m    508\u001B[0m         _output_key\n",
       "\u001B[1;32m    509\u001B[0m     ]\n",
       "\u001B[1;32m    511\u001B[0m \u001B[38;5;28;01mif\u001B[39;00m kwargs \u001B[38;5;129;01mand\u001B[39;00m \u001B[38;5;129;01mnot\u001B[39;00m args:\n",
       "\u001B[0;32m--> 512\u001B[0m     \u001B[38;5;28;01mreturn\u001B[39;00m \u001B[38;5;28;43mself\u001B[39;49m\u001B[43m(\u001B[49m\u001B[43mkwargs\u001B[49m\u001B[43m,\u001B[49m\u001B[43m \u001B[49m\u001B[43mcallbacks\u001B[49m\u001B[38;5;241;43m=\u001B[39;49m\u001B[43mcallbacks\u001B[49m\u001B[43m,\u001B[49m\u001B[43m \u001B[49m\u001B[43mtags\u001B[49m\u001B[38;5;241;43m=\u001B[39;49m\u001B[43mtags\u001B[49m\u001B[43m,\u001B[49m\u001B[43m \u001B[49m\u001B[43mmetadata\u001B[49m\u001B[38;5;241;43m=\u001B[39;49m\u001B[43mmetadata\u001B[49m\u001B[43m)\u001B[49m[\n",
       "\u001B[1;32m    513\u001B[0m         _output_key\n",
       "\u001B[1;32m    514\u001B[0m     ]\n",
       "\u001B[1;32m    516\u001B[0m \u001B[38;5;28;01mif\u001B[39;00m \u001B[38;5;129;01mnot\u001B[39;00m kwargs \u001B[38;5;129;01mand\u001B[39;00m \u001B[38;5;129;01mnot\u001B[39;00m args:\n",
       "\u001B[1;32m    517\u001B[0m     \u001B[38;5;28;01mraise\u001B[39;00m \u001B[38;5;167;01mValueError\u001B[39;00m(\n",
       "\u001B[1;32m    518\u001B[0m         \u001B[38;5;124m\"\u001B[39m\u001B[38;5;124m`run` supported with either positional arguments or keyword arguments,\u001B[39m\u001B[38;5;124m\"\u001B[39m\n",
       "\u001B[1;32m    519\u001B[0m         \u001B[38;5;124m\"\u001B[39m\u001B[38;5;124m but none were provided.\u001B[39m\u001B[38;5;124m\"\u001B[39m\n",
       "\u001B[1;32m    520\u001B[0m     )\n",
       "\n",
       "File \u001B[0;32m/local_disk0/.ephemeral_nfs/envs/pythonEnv-2558cb66-9e74-49a6-8705-7723d2bb30e8/lib/python3.10/site-packages/langchain/chains/base.py:312\u001B[0m, in \u001B[0;36mChain.__call__\u001B[0;34m(self, inputs, return_only_outputs, callbacks, tags, metadata, run_name, include_run_info)\u001B[0m\n",
       "\u001B[1;32m    310\u001B[0m \u001B[38;5;28;01mexcept\u001B[39;00m \u001B[38;5;167;01mBaseException\u001B[39;00m \u001B[38;5;28;01mas\u001B[39;00m e:\n",
       "\u001B[1;32m    311\u001B[0m     run_manager\u001B[38;5;241m.\u001B[39mon_chain_error(e)\n",
       "\u001B[0;32m--> 312\u001B[0m     \u001B[38;5;28;01mraise\u001B[39;00m e\n",
       "\u001B[1;32m    313\u001B[0m run_manager\u001B[38;5;241m.\u001B[39mon_chain_end(outputs)\n",
       "\u001B[1;32m    314\u001B[0m final_outputs: Dict[\u001B[38;5;28mstr\u001B[39m, Any] \u001B[38;5;241m=\u001B[39m \u001B[38;5;28mself\u001B[39m\u001B[38;5;241m.\u001B[39mprep_outputs(\n",
       "\u001B[1;32m    315\u001B[0m     inputs, outputs, return_only_outputs\n",
       "\u001B[1;32m    316\u001B[0m )\n",
       "\n",
       "File \u001B[0;32m/local_disk0/.ephemeral_nfs/envs/pythonEnv-2558cb66-9e74-49a6-8705-7723d2bb30e8/lib/python3.10/site-packages/langchain/chains/base.py:306\u001B[0m, in \u001B[0;36mChain.__call__\u001B[0;34m(self, inputs, return_only_outputs, callbacks, tags, metadata, run_name, include_run_info)\u001B[0m\n",
       "\u001B[1;32m    299\u001B[0m run_manager \u001B[38;5;241m=\u001B[39m callback_manager\u001B[38;5;241m.\u001B[39mon_chain_start(\n",
       "\u001B[1;32m    300\u001B[0m     dumpd(\u001B[38;5;28mself\u001B[39m),\n",
       "\u001B[1;32m    301\u001B[0m     inputs,\n",
       "\u001B[1;32m    302\u001B[0m     name\u001B[38;5;241m=\u001B[39mrun_name,\n",
       "\u001B[1;32m    303\u001B[0m )\n",
       "\u001B[1;32m    304\u001B[0m \u001B[38;5;28;01mtry\u001B[39;00m:\n",
       "\u001B[1;32m    305\u001B[0m     outputs \u001B[38;5;241m=\u001B[39m (\n",
       "\u001B[0;32m--> 306\u001B[0m         \u001B[38;5;28;43mself\u001B[39;49m\u001B[38;5;241;43m.\u001B[39;49m\u001B[43m_call\u001B[49m\u001B[43m(\u001B[49m\u001B[43minputs\u001B[49m\u001B[43m,\u001B[49m\u001B[43m \u001B[49m\u001B[43mrun_manager\u001B[49m\u001B[38;5;241;43m=\u001B[39;49m\u001B[43mrun_manager\u001B[49m\u001B[43m)\u001B[49m\n",
       "\u001B[1;32m    307\u001B[0m         \u001B[38;5;28;01mif\u001B[39;00m new_arg_supported\n",
       "\u001B[1;32m    308\u001B[0m         \u001B[38;5;28;01melse\u001B[39;00m \u001B[38;5;28mself\u001B[39m\u001B[38;5;241m.\u001B[39m_call(inputs)\n",
       "\u001B[1;32m    309\u001B[0m     )\n",
       "\u001B[1;32m    310\u001B[0m \u001B[38;5;28;01mexcept\u001B[39;00m \u001B[38;5;167;01mBaseException\u001B[39;00m \u001B[38;5;28;01mas\u001B[39;00m e:\n",
       "\u001B[1;32m    311\u001B[0m     run_manager\u001B[38;5;241m.\u001B[39mon_chain_error(e)\n",
       "\n",
       "File \u001B[0;32m/local_disk0/.ephemeral_nfs/envs/pythonEnv-2558cb66-9e74-49a6-8705-7723d2bb30e8/lib/python3.10/site-packages/langchain/chains/combine_documents/base.py:123\u001B[0m, in \u001B[0;36mBaseCombineDocumentsChain._call\u001B[0;34m(self, inputs, run_manager)\u001B[0m\n",
       "\u001B[1;32m    121\u001B[0m \u001B[38;5;66;03m# Other keys are assumed to be needed for LLM prediction\u001B[39;00m\n",
       "\u001B[1;32m    122\u001B[0m other_keys \u001B[38;5;241m=\u001B[39m {k: v \u001B[38;5;28;01mfor\u001B[39;00m k, v \u001B[38;5;129;01min\u001B[39;00m inputs\u001B[38;5;241m.\u001B[39mitems() \u001B[38;5;28;01mif\u001B[39;00m k \u001B[38;5;241m!=\u001B[39m \u001B[38;5;28mself\u001B[39m\u001B[38;5;241m.\u001B[39minput_key}\n",
       "\u001B[0;32m--> 123\u001B[0m output, extra_return_dict \u001B[38;5;241m=\u001B[39m \u001B[38;5;28;43mself\u001B[39;49m\u001B[38;5;241;43m.\u001B[39;49m\u001B[43mcombine_docs\u001B[49m\u001B[43m(\u001B[49m\n",
       "\u001B[1;32m    124\u001B[0m \u001B[43m    \u001B[49m\u001B[43mdocs\u001B[49m\u001B[43m,\u001B[49m\u001B[43m \u001B[49m\u001B[43mcallbacks\u001B[49m\u001B[38;5;241;43m=\u001B[39;49m\u001B[43m_run_manager\u001B[49m\u001B[38;5;241;43m.\u001B[39;49m\u001B[43mget_child\u001B[49m\u001B[43m(\u001B[49m\u001B[43m)\u001B[49m\u001B[43m,\u001B[49m\u001B[43m \u001B[49m\u001B[38;5;241;43m*\u001B[39;49m\u001B[38;5;241;43m*\u001B[39;49m\u001B[43mother_keys\u001B[49m\n",
       "\u001B[1;32m    125\u001B[0m \u001B[43m\u001B[49m\u001B[43m)\u001B[49m\n",
       "\u001B[1;32m    126\u001B[0m extra_return_dict[\u001B[38;5;28mself\u001B[39m\u001B[38;5;241m.\u001B[39moutput_key] \u001B[38;5;241m=\u001B[39m output\n",
       "\u001B[1;32m    127\u001B[0m \u001B[38;5;28;01mreturn\u001B[39;00m extra_return_dict\n",
       "\n",
       "File \u001B[0;32m/local_disk0/.ephemeral_nfs/envs/pythonEnv-2558cb66-9e74-49a6-8705-7723d2bb30e8/lib/python3.10/site-packages/langchain/chains/combine_documents/stuff.py:172\u001B[0m, in \u001B[0;36mStuffDocumentsChain.combine_docs\u001B[0;34m(self, docs, callbacks, **kwargs)\u001B[0m\n",
       "\u001B[1;32m    170\u001B[0m inputs \u001B[38;5;241m=\u001B[39m \u001B[38;5;28mself\u001B[39m\u001B[38;5;241m.\u001B[39m_get_inputs(docs, \u001B[38;5;241m*\u001B[39m\u001B[38;5;241m*\u001B[39mkwargs)\n",
       "\u001B[1;32m    171\u001B[0m \u001B[38;5;66;03m# Call predict on the LLM.\u001B[39;00m\n",
       "\u001B[0;32m--> 172\u001B[0m \u001B[38;5;28;01mreturn\u001B[39;00m \u001B[38;5;28;43mself\u001B[39;49m\u001B[38;5;241;43m.\u001B[39;49m\u001B[43mllm_chain\u001B[49m\u001B[38;5;241;43m.\u001B[39;49m\u001B[43mpredict\u001B[49m\u001B[43m(\u001B[49m\u001B[43mcallbacks\u001B[49m\u001B[38;5;241;43m=\u001B[39;49m\u001B[43mcallbacks\u001B[49m\u001B[43m,\u001B[49m\u001B[43m \u001B[49m\u001B[38;5;241;43m*\u001B[39;49m\u001B[38;5;241;43m*\u001B[39;49m\u001B[43minputs\u001B[49m\u001B[43m)\u001B[49m, {}\n",
       "\n",
       "File \u001B[0;32m/local_disk0/.ephemeral_nfs/envs/pythonEnv-2558cb66-9e74-49a6-8705-7723d2bb30e8/lib/python3.10/site-packages/langchain/chains/llm.py:293\u001B[0m, in \u001B[0;36mLLMChain.predict\u001B[0;34m(self, callbacks, **kwargs)\u001B[0m\n",
       "\u001B[1;32m    278\u001B[0m \u001B[38;5;28;01mdef\u001B[39;00m \u001B[38;5;21mpredict\u001B[39m(\u001B[38;5;28mself\u001B[39m, callbacks: Callbacks \u001B[38;5;241m=\u001B[39m \u001B[38;5;28;01mNone\u001B[39;00m, \u001B[38;5;241m*\u001B[39m\u001B[38;5;241m*\u001B[39mkwargs: Any) \u001B[38;5;241m-\u001B[39m\u001B[38;5;241m>\u001B[39m \u001B[38;5;28mstr\u001B[39m:\n",
       "\u001B[1;32m    279\u001B[0m     \u001B[38;5;124;03m\"\"\"Format prompt with kwargs and pass to LLM.\u001B[39;00m\n",
       "\u001B[1;32m    280\u001B[0m \n",
       "\u001B[1;32m    281\u001B[0m \u001B[38;5;124;03m    Args:\u001B[39;00m\n",
       "\u001B[0;32m   (...)\u001B[0m\n",
       "\u001B[1;32m    291\u001B[0m \u001B[38;5;124;03m            completion = llm.predict(adjective=\"funny\")\u001B[39;00m\n",
       "\u001B[1;32m    292\u001B[0m \u001B[38;5;124;03m    \"\"\"\u001B[39;00m\n",
       "\u001B[0;32m--> 293\u001B[0m     \u001B[38;5;28;01mreturn\u001B[39;00m \u001B[38;5;28;43mself\u001B[39;49m\u001B[43m(\u001B[49m\u001B[43mkwargs\u001B[49m\u001B[43m,\u001B[49m\u001B[43m \u001B[49m\u001B[43mcallbacks\u001B[49m\u001B[38;5;241;43m=\u001B[39;49m\u001B[43mcallbacks\u001B[49m\u001B[43m)\u001B[49m[\u001B[38;5;28mself\u001B[39m\u001B[38;5;241m.\u001B[39moutput_key]\n",
       "\n",
       "File \u001B[0;32m/local_disk0/.ephemeral_nfs/envs/pythonEnv-2558cb66-9e74-49a6-8705-7723d2bb30e8/lib/python3.10/site-packages/langchain/chains/base.py:312\u001B[0m, in \u001B[0;36mChain.__call__\u001B[0;34m(self, inputs, return_only_outputs, callbacks, tags, metadata, run_name, include_run_info)\u001B[0m\n",
       "\u001B[1;32m    310\u001B[0m \u001B[38;5;28;01mexcept\u001B[39;00m \u001B[38;5;167;01mBaseException\u001B[39;00m \u001B[38;5;28;01mas\u001B[39;00m e:\n",
       "\u001B[1;32m    311\u001B[0m     run_manager\u001B[38;5;241m.\u001B[39mon_chain_error(e)\n",
       "\u001B[0;32m--> 312\u001B[0m     \u001B[38;5;28;01mraise\u001B[39;00m e\n",
       "\u001B[1;32m    313\u001B[0m run_manager\u001B[38;5;241m.\u001B[39mon_chain_end(outputs)\n",
       "\u001B[1;32m    314\u001B[0m final_outputs: Dict[\u001B[38;5;28mstr\u001B[39m, Any] \u001B[38;5;241m=\u001B[39m \u001B[38;5;28mself\u001B[39m\u001B[38;5;241m.\u001B[39mprep_outputs(\n",
       "\u001B[1;32m    315\u001B[0m     inputs, outputs, return_only_outputs\n",
       "\u001B[1;32m    316\u001B[0m )\n",
       "\n",
       "File \u001B[0;32m/local_disk0/.ephemeral_nfs/envs/pythonEnv-2558cb66-9e74-49a6-8705-7723d2bb30e8/lib/python3.10/site-packages/langchain/chains/base.py:306\u001B[0m, in \u001B[0;36mChain.__call__\u001B[0;34m(self, inputs, return_only_outputs, callbacks, tags, metadata, run_name, include_run_info)\u001B[0m\n",
       "\u001B[1;32m    299\u001B[0m run_manager \u001B[38;5;241m=\u001B[39m callback_manager\u001B[38;5;241m.\u001B[39mon_chain_start(\n",
       "\u001B[1;32m    300\u001B[0m     dumpd(\u001B[38;5;28mself\u001B[39m),\n",
       "\u001B[1;32m    301\u001B[0m     inputs,\n",
       "\u001B[1;32m    302\u001B[0m     name\u001B[38;5;241m=\u001B[39mrun_name,\n",
       "\u001B[1;32m    303\u001B[0m )\n",
       "\u001B[1;32m    304\u001B[0m \u001B[38;5;28;01mtry\u001B[39;00m:\n",
       "\u001B[1;32m    305\u001B[0m     outputs \u001B[38;5;241m=\u001B[39m (\n",
       "\u001B[0;32m--> 306\u001B[0m         \u001B[38;5;28;43mself\u001B[39;49m\u001B[38;5;241;43m.\u001B[39;49m\u001B[43m_call\u001B[49m\u001B[43m(\u001B[49m\u001B[43minputs\u001B[49m\u001B[43m,\u001B[49m\u001B[43m \u001B[49m\u001B[43mrun_manager\u001B[49m\u001B[38;5;241;43m=\u001B[39;49m\u001B[43mrun_manager\u001B[49m\u001B[43m)\u001B[49m\n",
       "\u001B[1;32m    307\u001B[0m         \u001B[38;5;28;01mif\u001B[39;00m new_arg_supported\n",
       "\u001B[1;32m    308\u001B[0m         \u001B[38;5;28;01melse\u001B[39;00m \u001B[38;5;28mself\u001B[39m\u001B[38;5;241m.\u001B[39m_call(inputs)\n",
       "\u001B[1;32m    309\u001B[0m     )\n",
       "\u001B[1;32m    310\u001B[0m \u001B[38;5;28;01mexcept\u001B[39;00m \u001B[38;5;167;01mBaseException\u001B[39;00m \u001B[38;5;28;01mas\u001B[39;00m e:\n",
       "\u001B[1;32m    311\u001B[0m     run_manager\u001B[38;5;241m.\u001B[39mon_chain_error(e)\n",
       "\n",
       "File \u001B[0;32m/local_disk0/.ephemeral_nfs/envs/pythonEnv-2558cb66-9e74-49a6-8705-7723d2bb30e8/lib/python3.10/site-packages/langchain/chains/llm.py:103\u001B[0m, in \u001B[0;36mLLMChain._call\u001B[0;34m(self, inputs, run_manager)\u001B[0m\n",
       "\u001B[1;32m     98\u001B[0m \u001B[38;5;28;01mdef\u001B[39;00m \u001B[38;5;21m_call\u001B[39m(\n",
       "\u001B[1;32m     99\u001B[0m     \u001B[38;5;28mself\u001B[39m,\n",
       "\u001B[1;32m    100\u001B[0m     inputs: Dict[\u001B[38;5;28mstr\u001B[39m, Any],\n",
       "\u001B[1;32m    101\u001B[0m     run_manager: Optional[CallbackManagerForChainRun] \u001B[38;5;241m=\u001B[39m \u001B[38;5;28;01mNone\u001B[39;00m,\n",
       "\u001B[1;32m    102\u001B[0m ) \u001B[38;5;241m-\u001B[39m\u001B[38;5;241m>\u001B[39m Dict[\u001B[38;5;28mstr\u001B[39m, \u001B[38;5;28mstr\u001B[39m]:\n",
       "\u001B[0;32m--> 103\u001B[0m     response \u001B[38;5;241m=\u001B[39m \u001B[38;5;28;43mself\u001B[39;49m\u001B[38;5;241;43m.\u001B[39;49m\u001B[43mgenerate\u001B[49m\u001B[43m(\u001B[49m\u001B[43m[\u001B[49m\u001B[43minputs\u001B[49m\u001B[43m]\u001B[49m\u001B[43m,\u001B[49m\u001B[43m \u001B[49m\u001B[43mrun_manager\u001B[49m\u001B[38;5;241;43m=\u001B[39;49m\u001B[43mrun_manager\u001B[49m\u001B[43m)\u001B[49m\n",
       "\u001B[1;32m    104\u001B[0m     \u001B[38;5;28;01mreturn\u001B[39;00m \u001B[38;5;28mself\u001B[39m\u001B[38;5;241m.\u001B[39mcreate_outputs(response)[\u001B[38;5;241m0\u001B[39m]\n",
       "\n",
       "File \u001B[0;32m/local_disk0/.ephemeral_nfs/envs/pythonEnv-2558cb66-9e74-49a6-8705-7723d2bb30e8/lib/python3.10/site-packages/langchain/chains/llm.py:115\u001B[0m, in \u001B[0;36mLLMChain.generate\u001B[0;34m(self, input_list, run_manager)\u001B[0m\n",
       "\u001B[1;32m    113\u001B[0m callbacks \u001B[38;5;241m=\u001B[39m run_manager\u001B[38;5;241m.\u001B[39mget_child() \u001B[38;5;28;01mif\u001B[39;00m run_manager \u001B[38;5;28;01melse\u001B[39;00m \u001B[38;5;28;01mNone\u001B[39;00m\n",
       "\u001B[1;32m    114\u001B[0m \u001B[38;5;28;01mif\u001B[39;00m \u001B[38;5;28misinstance\u001B[39m(\u001B[38;5;28mself\u001B[39m\u001B[38;5;241m.\u001B[39mllm, BaseLanguageModel):\n",
       "\u001B[0;32m--> 115\u001B[0m     \u001B[38;5;28;01mreturn\u001B[39;00m \u001B[38;5;28;43mself\u001B[39;49m\u001B[38;5;241;43m.\u001B[39;49m\u001B[43mllm\u001B[49m\u001B[38;5;241;43m.\u001B[39;49m\u001B[43mgenerate_prompt\u001B[49m\u001B[43m(\u001B[49m\n",
       "\u001B[1;32m    116\u001B[0m \u001B[43m        \u001B[49m\u001B[43mprompts\u001B[49m\u001B[43m,\u001B[49m\n",
       "\u001B[1;32m    117\u001B[0m \u001B[43m        \u001B[49m\u001B[43mstop\u001B[49m\u001B[43m,\u001B[49m\n",
       "\u001B[1;32m    118\u001B[0m \u001B[43m        \u001B[49m\u001B[43mcallbacks\u001B[49m\u001B[38;5;241;43m=\u001B[39;49m\u001B[43mcallbacks\u001B[49m\u001B[43m,\u001B[49m\n",
       "\u001B[1;32m    119\u001B[0m \u001B[43m        \u001B[49m\u001B[38;5;241;43m*\u001B[39;49m\u001B[38;5;241;43m*\u001B[39;49m\u001B[38;5;28;43mself\u001B[39;49m\u001B[38;5;241;43m.\u001B[39;49m\u001B[43mllm_kwargs\u001B[49m\u001B[43m,\u001B[49m\n",
       "\u001B[1;32m    120\u001B[0m \u001B[43m    \u001B[49m\u001B[43m)\u001B[49m\n",
       "\u001B[1;32m    121\u001B[0m \u001B[38;5;28;01melse\u001B[39;00m:\n",
       "\u001B[1;32m    122\u001B[0m     results \u001B[38;5;241m=\u001B[39m \u001B[38;5;28mself\u001B[39m\u001B[38;5;241m.\u001B[39mllm\u001B[38;5;241m.\u001B[39mbind(stop\u001B[38;5;241m=\u001B[39mstop, \u001B[38;5;241m*\u001B[39m\u001B[38;5;241m*\u001B[39m\u001B[38;5;28mself\u001B[39m\u001B[38;5;241m.\u001B[39mllm_kwargs)\u001B[38;5;241m.\u001B[39mbatch(\n",
       "\u001B[1;32m    123\u001B[0m         cast(List, prompts), {\u001B[38;5;124m\"\u001B[39m\u001B[38;5;124mcallbacks\u001B[39m\u001B[38;5;124m\"\u001B[39m: callbacks}\n",
       "\u001B[1;32m    124\u001B[0m     )\n",
       "\n",
       "File \u001B[0;32m/local_disk0/.ephemeral_nfs/envs/pythonEnv-2558cb66-9e74-49a6-8705-7723d2bb30e8/lib/python3.10/site-packages/langchain_core/language_models/llms.py:506\u001B[0m, in \u001B[0;36mBaseLLM.generate_prompt\u001B[0;34m(self, prompts, stop, callbacks, **kwargs)\u001B[0m\n",
       "\u001B[1;32m    498\u001B[0m \u001B[38;5;28;01mdef\u001B[39;00m \u001B[38;5;21mgenerate_prompt\u001B[39m(\n",
       "\u001B[1;32m    499\u001B[0m     \u001B[38;5;28mself\u001B[39m,\n",
       "\u001B[1;32m    500\u001B[0m     prompts: List[PromptValue],\n",
       "\u001B[0;32m   (...)\u001B[0m\n",
       "\u001B[1;32m    503\u001B[0m     \u001B[38;5;241m*\u001B[39m\u001B[38;5;241m*\u001B[39mkwargs: Any,\n",
       "\u001B[1;32m    504\u001B[0m ) \u001B[38;5;241m-\u001B[39m\u001B[38;5;241m>\u001B[39m LLMResult:\n",
       "\u001B[1;32m    505\u001B[0m     prompt_strings \u001B[38;5;241m=\u001B[39m [p\u001B[38;5;241m.\u001B[39mto_string() \u001B[38;5;28;01mfor\u001B[39;00m p \u001B[38;5;129;01min\u001B[39;00m prompts]\n",
       "\u001B[0;32m--> 506\u001B[0m     \u001B[38;5;28;01mreturn\u001B[39;00m \u001B[38;5;28;43mself\u001B[39;49m\u001B[38;5;241;43m.\u001B[39;49m\u001B[43mgenerate\u001B[49m\u001B[43m(\u001B[49m\u001B[43mprompt_strings\u001B[49m\u001B[43m,\u001B[49m\u001B[43m \u001B[49m\u001B[43mstop\u001B[49m\u001B[38;5;241;43m=\u001B[39;49m\u001B[43mstop\u001B[49m\u001B[43m,\u001B[49m\u001B[43m \u001B[49m\u001B[43mcallbacks\u001B[49m\u001B[38;5;241;43m=\u001B[39;49m\u001B[43mcallbacks\u001B[49m\u001B[43m,\u001B[49m\u001B[43m \u001B[49m\u001B[38;5;241;43m*\u001B[39;49m\u001B[38;5;241;43m*\u001B[39;49m\u001B[43mkwargs\u001B[49m\u001B[43m)\u001B[49m\n",
       "\n",
       "File \u001B[0;32m/local_disk0/.ephemeral_nfs/envs/pythonEnv-2558cb66-9e74-49a6-8705-7723d2bb30e8/lib/python3.10/site-packages/langchain_core/language_models/llms.py:656\u001B[0m, in \u001B[0;36mBaseLLM.generate\u001B[0;34m(self, prompts, stop, callbacks, tags, metadata, run_name, **kwargs)\u001B[0m\n",
       "\u001B[1;32m    640\u001B[0m         \u001B[38;5;28;01mraise\u001B[39;00m \u001B[38;5;167;01mValueError\u001B[39;00m(\n",
       "\u001B[1;32m    641\u001B[0m             \u001B[38;5;124m\"\u001B[39m\u001B[38;5;124mAsked to cache, but no cache found at `langchain.cache`.\u001B[39m\u001B[38;5;124m\"\u001B[39m\n",
       "\u001B[1;32m    642\u001B[0m         )\n",
       "\u001B[1;32m    643\u001B[0m     run_managers \u001B[38;5;241m=\u001B[39m [\n",
       "\u001B[1;32m    644\u001B[0m         callback_manager\u001B[38;5;241m.\u001B[39mon_llm_start(\n",
       "\u001B[1;32m    645\u001B[0m             dumpd(\u001B[38;5;28mself\u001B[39m),\n",
       "\u001B[0;32m   (...)\u001B[0m\n",
       "\u001B[1;32m    654\u001B[0m         )\n",
       "\u001B[1;32m    655\u001B[0m     ]\n",
       "\u001B[0;32m--> 656\u001B[0m     output \u001B[38;5;241m=\u001B[39m \u001B[38;5;28;43mself\u001B[39;49m\u001B[38;5;241;43m.\u001B[39;49m\u001B[43m_generate_helper\u001B[49m\u001B[43m(\u001B[49m\n",
       "\u001B[1;32m    657\u001B[0m \u001B[43m        \u001B[49m\u001B[43mprompts\u001B[49m\u001B[43m,\u001B[49m\u001B[43m \u001B[49m\u001B[43mstop\u001B[49m\u001B[43m,\u001B[49m\u001B[43m \u001B[49m\u001B[43mrun_managers\u001B[49m\u001B[43m,\u001B[49m\u001B[43m \u001B[49m\u001B[38;5;28;43mbool\u001B[39;49m\u001B[43m(\u001B[49m\u001B[43mnew_arg_supported\u001B[49m\u001B[43m)\u001B[49m\u001B[43m,\u001B[49m\u001B[43m \u001B[49m\u001B[38;5;241;43m*\u001B[39;49m\u001B[38;5;241;43m*\u001B[39;49m\u001B[43mkwargs\u001B[49m\n",
       "\u001B[1;32m    658\u001B[0m \u001B[43m    \u001B[49m\u001B[43m)\u001B[49m\n",
       "\u001B[1;32m    659\u001B[0m     \u001B[38;5;28;01mreturn\u001B[39;00m output\n",
       "\u001B[1;32m    660\u001B[0m \u001B[38;5;28;01mif\u001B[39;00m \u001B[38;5;28mlen\u001B[39m(missing_prompts) \u001B[38;5;241m>\u001B[39m \u001B[38;5;241m0\u001B[39m:\n",
       "\n",
       "File \u001B[0;32m/local_disk0/.ephemeral_nfs/envs/pythonEnv-2558cb66-9e74-49a6-8705-7723d2bb30e8/lib/python3.10/site-packages/langchain_core/language_models/llms.py:543\u001B[0m, in \u001B[0;36mBaseLLM._generate_helper\u001B[0;34m(self, prompts, stop, run_managers, new_arg_supported, **kwargs)\u001B[0m\n",
       "\u001B[1;32m    541\u001B[0m     \u001B[38;5;28;01mfor\u001B[39;00m run_manager \u001B[38;5;129;01min\u001B[39;00m run_managers:\n",
       "\u001B[1;32m    542\u001B[0m         run_manager\u001B[38;5;241m.\u001B[39mon_llm_error(e)\n",
       "\u001B[0;32m--> 543\u001B[0m     \u001B[38;5;28;01mraise\u001B[39;00m e\n",
       "\u001B[1;32m    544\u001B[0m flattened_outputs \u001B[38;5;241m=\u001B[39m output\u001B[38;5;241m.\u001B[39mflatten()\n",
       "\u001B[1;32m    545\u001B[0m \u001B[38;5;28;01mfor\u001B[39;00m manager, flattened_output \u001B[38;5;129;01min\u001B[39;00m \u001B[38;5;28mzip\u001B[39m(run_managers, flattened_outputs):\n",
       "\n",
       "File \u001B[0;32m/local_disk0/.ephemeral_nfs/envs/pythonEnv-2558cb66-9e74-49a6-8705-7723d2bb30e8/lib/python3.10/site-packages/langchain_core/language_models/llms.py:530\u001B[0m, in \u001B[0;36mBaseLLM._generate_helper\u001B[0;34m(self, prompts, stop, run_managers, new_arg_supported, **kwargs)\u001B[0m\n",
       "\u001B[1;32m    520\u001B[0m \u001B[38;5;28;01mdef\u001B[39;00m \u001B[38;5;21m_generate_helper\u001B[39m(\n",
       "\u001B[1;32m    521\u001B[0m     \u001B[38;5;28mself\u001B[39m,\n",
       "\u001B[1;32m    522\u001B[0m     prompts: List[\u001B[38;5;28mstr\u001B[39m],\n",
       "\u001B[0;32m   (...)\u001B[0m\n",
       "\u001B[1;32m    526\u001B[0m     \u001B[38;5;241m*\u001B[39m\u001B[38;5;241m*\u001B[39mkwargs: Any,\n",
       "\u001B[1;32m    527\u001B[0m ) \u001B[38;5;241m-\u001B[39m\u001B[38;5;241m>\u001B[39m LLMResult:\n",
       "\u001B[1;32m    528\u001B[0m     \u001B[38;5;28;01mtry\u001B[39;00m:\n",
       "\u001B[1;32m    529\u001B[0m         output \u001B[38;5;241m=\u001B[39m (\n",
       "\u001B[0;32m--> 530\u001B[0m             \u001B[38;5;28;43mself\u001B[39;49m\u001B[38;5;241;43m.\u001B[39;49m\u001B[43m_generate\u001B[49m\u001B[43m(\u001B[49m\n",
       "\u001B[1;32m    531\u001B[0m \u001B[43m                \u001B[49m\u001B[43mprompts\u001B[49m\u001B[43m,\u001B[49m\n",
       "\u001B[1;32m    532\u001B[0m \u001B[43m                \u001B[49m\u001B[43mstop\u001B[49m\u001B[38;5;241;43m=\u001B[39;49m\u001B[43mstop\u001B[49m\u001B[43m,\u001B[49m\n",
       "\u001B[1;32m    533\u001B[0m \u001B[43m                \u001B[49m\u001B[38;5;66;43;03m# TODO: support multiple run managers\u001B[39;49;00m\n",
       "\u001B[1;32m    534\u001B[0m \u001B[43m                \u001B[49m\u001B[43mrun_manager\u001B[49m\u001B[38;5;241;43m=\u001B[39;49m\u001B[43mrun_managers\u001B[49m\u001B[43m[\u001B[49m\u001B[38;5;241;43m0\u001B[39;49m\u001B[43m]\u001B[49m\u001B[43m \u001B[49m\u001B[38;5;28;43;01mif\u001B[39;49;00m\u001B[43m \u001B[49m\u001B[43mrun_managers\u001B[49m\u001B[43m \u001B[49m\u001B[38;5;28;43;01melse\u001B[39;49;00m\u001B[43m \u001B[49m\u001B[38;5;28;43;01mNone\u001B[39;49;00m\u001B[43m,\u001B[49m\n",
       "\u001B[1;32m    535\u001B[0m \u001B[43m                \u001B[49m\u001B[38;5;241;43m*\u001B[39;49m\u001B[38;5;241;43m*\u001B[39;49m\u001B[43mkwargs\u001B[49m\u001B[43m,\u001B[49m\n",
       "\u001B[1;32m    536\u001B[0m \u001B[43m            \u001B[49m\u001B[43m)\u001B[49m\n",
       "\u001B[1;32m    537\u001B[0m             \u001B[38;5;28;01mif\u001B[39;00m new_arg_supported\n",
       "\u001B[1;32m    538\u001B[0m             \u001B[38;5;28;01melse\u001B[39;00m \u001B[38;5;28mself\u001B[39m\u001B[38;5;241m.\u001B[39m_generate(prompts, stop\u001B[38;5;241m=\u001B[39mstop)\n",
       "\u001B[1;32m    539\u001B[0m         )\n",
       "\u001B[1;32m    540\u001B[0m     \u001B[38;5;28;01mexcept\u001B[39;00m \u001B[38;5;167;01mBaseException\u001B[39;00m \u001B[38;5;28;01mas\u001B[39;00m e:\n",
       "\u001B[1;32m    541\u001B[0m         \u001B[38;5;28;01mfor\u001B[39;00m run_manager \u001B[38;5;129;01min\u001B[39;00m run_managers:\n",
       "\n",
       "File \u001B[0;32m/local_disk0/.ephemeral_nfs/envs/pythonEnv-2558cb66-9e74-49a6-8705-7723d2bb30e8/lib/python3.10/site-packages/langchain_core/language_models/llms.py:1056\u001B[0m, in \u001B[0;36mLLM._generate\u001B[0;34m(self, prompts, stop, run_manager, **kwargs)\u001B[0m\n",
       "\u001B[1;32m   1053\u001B[0m new_arg_supported \u001B[38;5;241m=\u001B[39m inspect\u001B[38;5;241m.\u001B[39msignature(\u001B[38;5;28mself\u001B[39m\u001B[38;5;241m.\u001B[39m_call)\u001B[38;5;241m.\u001B[39mparameters\u001B[38;5;241m.\u001B[39mget(\u001B[38;5;124m\"\u001B[39m\u001B[38;5;124mrun_manager\u001B[39m\u001B[38;5;124m\"\u001B[39m)\n",
       "\u001B[1;32m   1054\u001B[0m \u001B[38;5;28;01mfor\u001B[39;00m prompt \u001B[38;5;129;01min\u001B[39;00m prompts:\n",
       "\u001B[1;32m   1055\u001B[0m     text \u001B[38;5;241m=\u001B[39m (\n",
       "\u001B[0;32m-> 1056\u001B[0m         \u001B[38;5;28;43mself\u001B[39;49m\u001B[38;5;241;43m.\u001B[39;49m\u001B[43m_call\u001B[49m\u001B[43m(\u001B[49m\u001B[43mprompt\u001B[49m\u001B[43m,\u001B[49m\u001B[43m \u001B[49m\u001B[43mstop\u001B[49m\u001B[38;5;241;43m=\u001B[39;49m\u001B[43mstop\u001B[49m\u001B[43m,\u001B[49m\u001B[43m \u001B[49m\u001B[43mrun_manager\u001B[49m\u001B[38;5;241;43m=\u001B[39;49m\u001B[43mrun_manager\u001B[49m\u001B[43m,\u001B[49m\u001B[43m \u001B[49m\u001B[38;5;241;43m*\u001B[39;49m\u001B[38;5;241;43m*\u001B[39;49m\u001B[43mkwargs\u001B[49m\u001B[43m)\u001B[49m\n",
       "\u001B[1;32m   1057\u001B[0m         \u001B[38;5;28;01mif\u001B[39;00m new_arg_supported\n",
       "\u001B[1;32m   1058\u001B[0m         \u001B[38;5;28;01melse\u001B[39;00m \u001B[38;5;28mself\u001B[39m\u001B[38;5;241m.\u001B[39m_call(prompt, stop\u001B[38;5;241m=\u001B[39mstop, \u001B[38;5;241m*\u001B[39m\u001B[38;5;241m*\u001B[39mkwargs)\n",
       "\u001B[1;32m   1059\u001B[0m     )\n",
       "\u001B[1;32m   1060\u001B[0m     generations\u001B[38;5;241m.\u001B[39mappend([Generation(text\u001B[38;5;241m=\u001B[39mtext)])\n",
       "\u001B[1;32m   1061\u001B[0m \u001B[38;5;28;01mreturn\u001B[39;00m LLMResult(generations\u001B[38;5;241m=\u001B[39mgenerations)\n",
       "\n",
       "File \u001B[0;32m/local_disk0/.ephemeral_nfs/envs/pythonEnv-2558cb66-9e74-49a6-8705-7723d2bb30e8/lib/python3.10/site-packages/langchain/llms/mlflow_ai_gateway.py:100\u001B[0m, in \u001B[0;36mMlflowAIGateway._call\u001B[0;34m(self, prompt, stop, run_manager, **kwargs)\u001B[0m\n",
       "\u001B[1;32m     98\u001B[0m \u001B[38;5;28;01mif\u001B[39;00m s \u001B[38;5;241m:=\u001B[39m (stop \u001B[38;5;129;01mor\u001B[39;00m (\u001B[38;5;28mself\u001B[39m\u001B[38;5;241m.\u001B[39mparams\u001B[38;5;241m.\u001B[39mstop \u001B[38;5;28;01mif\u001B[39;00m \u001B[38;5;28mself\u001B[39m\u001B[38;5;241m.\u001B[39mparams \u001B[38;5;28;01melse\u001B[39;00m \u001B[38;5;28;01mNone\u001B[39;00m)):\n",
       "\u001B[1;32m     99\u001B[0m     data[\u001B[38;5;124m\"\u001B[39m\u001B[38;5;124mstop\u001B[39m\u001B[38;5;124m\"\u001B[39m] \u001B[38;5;241m=\u001B[39m s\n",
       "\u001B[0;32m--> 100\u001B[0m resp \u001B[38;5;241m=\u001B[39m \u001B[43mmlflow\u001B[49m\u001B[38;5;241;43m.\u001B[39;49m\u001B[43mgateway\u001B[49m\u001B[38;5;241;43m.\u001B[39;49m\u001B[43mquery\u001B[49m\u001B[43m(\u001B[49m\u001B[38;5;28;43mself\u001B[39;49m\u001B[38;5;241;43m.\u001B[39;49m\u001B[43mroute\u001B[49m\u001B[43m,\u001B[49m\u001B[43m \u001B[49m\u001B[43mdata\u001B[49m\u001B[38;5;241;43m=\u001B[39;49m\u001B[43mdata\u001B[49m\u001B[43m)\u001B[49m\n",
       "\u001B[1;32m    101\u001B[0m \u001B[38;5;28;01mreturn\u001B[39;00m resp[\u001B[38;5;124m\"\u001B[39m\u001B[38;5;124mcandidates\u001B[39m\u001B[38;5;124m\"\u001B[39m][\u001B[38;5;241m0\u001B[39m][\u001B[38;5;124m\"\u001B[39m\u001B[38;5;124mtext\u001B[39m\u001B[38;5;124m\"\u001B[39m]\n",
       "\n",
       "File \u001B[0;32m/local_disk0/.ephemeral_nfs/envs/pythonEnv-2558cb66-9e74-49a6-8705-7723d2bb30e8/lib/python3.10/site-packages/mlflow/gateway/utils.py:142\u001B[0m, in \u001B[0;36mgateway_deprecated.<locals>.wrapper\u001B[0;34m(*args, **kwargs)\u001B[0m\n",
       "\u001B[1;32m    139\u001B[0m \u001B[38;5;129m@functools\u001B[39m\u001B[38;5;241m.\u001B[39mwraps(obj)\n",
       "\u001B[1;32m    140\u001B[0m \u001B[38;5;28;01mdef\u001B[39;00m \u001B[38;5;21mwrapper\u001B[39m(\u001B[38;5;241m*\u001B[39margs, \u001B[38;5;241m*\u001B[39m\u001B[38;5;241m*\u001B[39mkwargs):\n",
       "\u001B[1;32m    141\u001B[0m     warnings\u001B[38;5;241m.\u001B[39mwarn(msg, \u001B[38;5;167;01mFutureWarning\u001B[39;00m, stacklevel\u001B[38;5;241m=\u001B[39m\u001B[38;5;241m2\u001B[39m)\n",
       "\u001B[0;32m--> 142\u001B[0m     \u001B[38;5;28;01mreturn\u001B[39;00m \u001B[43mobj\u001B[49m\u001B[43m(\u001B[49m\u001B[38;5;241;43m*\u001B[39;49m\u001B[43margs\u001B[49m\u001B[43m,\u001B[49m\u001B[43m \u001B[49m\u001B[38;5;241;43m*\u001B[39;49m\u001B[38;5;241;43m*\u001B[39;49m\u001B[43mkwargs\u001B[49m\u001B[43m)\u001B[49m\n",
       "\n",
       "File \u001B[0;32m/local_disk0/.ephemeral_nfs/envs/pythonEnv-2558cb66-9e74-49a6-8705-7723d2bb30e8/lib/python3.10/site-packages/mlflow/gateway/fluent.py:247\u001B[0m, in \u001B[0;36mquery\u001B[0;34m(route, data)\u001B[0m\n",
       "\u001B[1;32m    183\u001B[0m \u001B[38;5;129m@gateway_deprecated\u001B[39m\n",
       "\u001B[1;32m    184\u001B[0m \u001B[38;5;28;01mdef\u001B[39;00m \u001B[38;5;21mquery\u001B[39m(route: \u001B[38;5;28mstr\u001B[39m, data):\n",
       "\u001B[1;32m    185\u001B[0m     \u001B[38;5;124;03m\"\"\"\u001B[39;00m\n",
       "\u001B[1;32m    186\u001B[0m \u001B[38;5;124;03m    Issues a query request to a configured service through a named route on the Gateway Server.\u001B[39;00m\n",
       "\u001B[1;32m    187\u001B[0m \u001B[38;5;124;03m    This function will interface with a configured route name (examples below) and return the\u001B[39;00m\n",
       "\u001B[0;32m   (...)\u001B[0m\n",
       "\u001B[1;32m    245\u001B[0m \n",
       "\u001B[1;32m    246\u001B[0m \u001B[38;5;124;03m    \"\"\"\u001B[39;00m\n",
       "\u001B[0;32m--> 247\u001B[0m     \u001B[38;5;28;01mreturn\u001B[39;00m \u001B[43mMlflowGatewayClient\u001B[49m\u001B[43m(\u001B[49m\u001B[43m)\u001B[49m\u001B[38;5;241;43m.\u001B[39;49m\u001B[43mquery\u001B[49m\u001B[43m(\u001B[49m\u001B[43mroute\u001B[49m\u001B[43m,\u001B[49m\u001B[43m \u001B[49m\u001B[43mdata\u001B[49m\u001B[43m)\u001B[49m\n",
       "\n",
       "File \u001B[0;32m/local_disk0/.ephemeral_nfs/envs/pythonEnv-2558cb66-9e74-49a6-8705-7723d2bb30e8/lib/python3.10/site-packages/mlflow/gateway/utils.py:142\u001B[0m, in \u001B[0;36mgateway_deprecated.<locals>.wrapper\u001B[0;34m(*args, **kwargs)\u001B[0m\n",
       "\u001B[1;32m    139\u001B[0m \u001B[38;5;129m@functools\u001B[39m\u001B[38;5;241m.\u001B[39mwraps(obj)\n",
       "\u001B[1;32m    140\u001B[0m \u001B[38;5;28;01mdef\u001B[39;00m \u001B[38;5;21mwrapper\u001B[39m(\u001B[38;5;241m*\u001B[39margs, \u001B[38;5;241m*\u001B[39m\u001B[38;5;241m*\u001B[39mkwargs):\n",
       "\u001B[1;32m    141\u001B[0m     warnings\u001B[38;5;241m.\u001B[39mwarn(msg, \u001B[38;5;167;01mFutureWarning\u001B[39;00m, stacklevel\u001B[38;5;241m=\u001B[39m\u001B[38;5;241m2\u001B[39m)\n",
       "\u001B[0;32m--> 142\u001B[0m     \u001B[38;5;28;01mreturn\u001B[39;00m \u001B[43mobj\u001B[49m\u001B[43m(\u001B[49m\u001B[38;5;241;43m*\u001B[39;49m\u001B[43margs\u001B[49m\u001B[43m,\u001B[49m\u001B[43m \u001B[49m\u001B[38;5;241;43m*\u001B[39;49m\u001B[38;5;241;43m*\u001B[39;49m\u001B[43mkwargs\u001B[49m\u001B[43m)\u001B[49m\n",
       "\n",
       "File \u001B[0;32m/local_disk0/.ephemeral_nfs/envs/pythonEnv-2558cb66-9e74-49a6-8705-7723d2bb30e8/lib/python3.10/site-packages/mlflow/gateway/client.py:339\u001B[0m, in \u001B[0;36mMlflowGatewayClient.query\u001B[0;34m(self, route, data)\u001B[0m\n",
       "\u001B[1;32m    336\u001B[0m query_route \u001B[38;5;241m=\u001B[39m assemble_uri_path([MLFLOW_GATEWAY_ROUTE_BASE, route, MLFLOW_QUERY_SUFFIX])\n",
       "\u001B[1;32m    338\u001B[0m \u001B[38;5;28;01mtry\u001B[39;00m:\n",
       "\u001B[0;32m--> 339\u001B[0m     \u001B[38;5;28;01mreturn\u001B[39;00m \u001B[38;5;28;43mself\u001B[39;49m\u001B[38;5;241;43m.\u001B[39;49m\u001B[43m_call_endpoint\u001B[49m\u001B[43m(\u001B[49m\u001B[38;5;124;43m\"\u001B[39;49m\u001B[38;5;124;43mPOST\u001B[39;49m\u001B[38;5;124;43m\"\u001B[39;49m\u001B[43m,\u001B[49m\u001B[43m \u001B[49m\u001B[43mquery_route\u001B[49m\u001B[43m,\u001B[49m\u001B[43m \u001B[49m\u001B[43mdata\u001B[49m\u001B[43m)\u001B[49m\u001B[38;5;241m.\u001B[39mjson()\n",
       "\u001B[1;32m    340\u001B[0m \u001B[38;5;28;01mexcept\u001B[39;00m MlflowException \u001B[38;5;28;01mas\u001B[39;00m e:\n",
       "\u001B[1;32m    341\u001B[0m     \u001B[38;5;28;01mif\u001B[39;00m \u001B[38;5;28misinstance\u001B[39m(e\u001B[38;5;241m.\u001B[39m__cause__, requests\u001B[38;5;241m.\u001B[39mexceptions\u001B[38;5;241m.\u001B[39mTimeout):\n",
       "\n",
       "File \u001B[0;32m/local_disk0/.ephemeral_nfs/envs/pythonEnv-2558cb66-9e74-49a6-8705-7723d2bb30e8/lib/python3.10/site-packages/mlflow/gateway/client.py:101\u001B[0m, in \u001B[0;36mMlflowGatewayClient._call_endpoint\u001B[0;34m(self, method, route, json_body)\u001B[0m\n",
       "\u001B[1;32m     90\u001B[0m     call_kwargs[\u001B[38;5;124m\"\u001B[39m\u001B[38;5;124mjson\u001B[39m\u001B[38;5;124m\"\u001B[39m] \u001B[38;5;241m=\u001B[39m json_body\n",
       "\u001B[1;32m     92\u001B[0m response \u001B[38;5;241m=\u001B[39m http_request(\n",
       "\u001B[1;32m     93\u001B[0m     host_creds\u001B[38;5;241m=\u001B[39m\u001B[38;5;28mself\u001B[39m\u001B[38;5;241m.\u001B[39m_host_creds,\n",
       "\u001B[1;32m     94\u001B[0m     endpoint\u001B[38;5;241m=\u001B[39mroute,\n",
       "\u001B[0;32m   (...)\u001B[0m\n",
       "\u001B[1;32m     99\u001B[0m     \u001B[38;5;241m*\u001B[39m\u001B[38;5;241m*\u001B[39mcall_kwargs,\n",
       "\u001B[1;32m    100\u001B[0m )\n",
       "\u001B[0;32m--> 101\u001B[0m \u001B[43maugmented_raise_for_status\u001B[49m\u001B[43m(\u001B[49m\u001B[43mresponse\u001B[49m\u001B[43m)\u001B[49m\n",
       "\u001B[1;32m    102\u001B[0m \u001B[38;5;28;01mreturn\u001B[39;00m response\n",
       "\n",
       "File \u001B[0;32m/local_disk0/.ephemeral_nfs/envs/pythonEnv-2558cb66-9e74-49a6-8705-7723d2bb30e8/lib/python3.10/site-packages/mlflow/utils/request_utils.py:55\u001B[0m, in \u001B[0;36maugmented_raise_for_status\u001B[0;34m(response)\u001B[0m\n",
       "\u001B[1;32m     53\u001B[0m \u001B[38;5;28;01mexcept\u001B[39;00m HTTPError \u001B[38;5;28;01mas\u001B[39;00m e:\n",
       "\u001B[1;32m     54\u001B[0m     \u001B[38;5;28;01mif\u001B[39;00m response\u001B[38;5;241m.\u001B[39mtext:\n",
       "\u001B[0;32m---> 55\u001B[0m         \u001B[38;5;28;01mraise\u001B[39;00m HTTPError(\n",
       "\u001B[1;32m     56\u001B[0m             \u001B[38;5;124mf\u001B[39m\u001B[38;5;124m\"\u001B[39m\u001B[38;5;132;01m{\u001B[39;00me\u001B[38;5;132;01m}\u001B[39;00m\u001B[38;5;124m. Response text: \u001B[39m\u001B[38;5;132;01m{\u001B[39;00mresponse\u001B[38;5;241m.\u001B[39mtext\u001B[38;5;132;01m}\u001B[39;00m\u001B[38;5;124m\"\u001B[39m, request\u001B[38;5;241m=\u001B[39me\u001B[38;5;241m.\u001B[39mrequest, response\u001B[38;5;241m=\u001B[39me\u001B[38;5;241m.\u001B[39mresponse\n",
       "\u001B[1;32m     57\u001B[0m         )\n",
       "\u001B[1;32m     58\u001B[0m     \u001B[38;5;28;01melse\u001B[39;00m:\n",
       "\u001B[1;32m     59\u001B[0m         \u001B[38;5;28;01mraise\u001B[39;00m e\n",
       "\n",
       "\u001B[0;31mHTTPError\u001B[0m: 400 Client Error: Bad Request for url: https://oregon.cloud.databricks.com/gateway/completion/invocations. Response text: {\"error_code\":\"INVALID_PARAMETER_VALUE\",\"message\":\"INVALID_PARAMETER_VALUE: stop was not of type List[String]: null\"}"
      ]
     },
     "metadata": {
      "application/vnd.databricks.v1+output": {
       "arguments": {},
       "data": "\u001B[0;31m---------------------------------------------------------------------------\u001B[0m\n\u001B[0;31mHTTPError\u001B[0m                                 Traceback (most recent call last)\nFile \u001B[0;32m/local_disk0/.ephemeral_nfs/envs/pythonEnv-2558cb66-9e74-49a6-8705-7723d2bb30e8/lib/python3.10/site-packages/mlflow/utils/request_utils.py:52\u001B[0m, in \u001B[0;36maugmented_raise_for_status\u001B[0;34m(response)\u001B[0m\n\u001B[1;32m     51\u001B[0m \u001B[38;5;28;01mtry\u001B[39;00m:\n\u001B[0;32m---> 52\u001B[0m     \u001B[43mresponse\u001B[49m\u001B[38;5;241;43m.\u001B[39;49m\u001B[43mraise_for_status\u001B[49m\u001B[43m(\u001B[49m\u001B[43m)\u001B[49m\n\u001B[1;32m     53\u001B[0m \u001B[38;5;28;01mexcept\u001B[39;00m HTTPError \u001B[38;5;28;01mas\u001B[39;00m e:\n\nFile \u001B[0;32m/databricks/python/lib/python3.10/site-packages/requests/models.py:1021\u001B[0m, in \u001B[0;36mResponse.raise_for_status\u001B[0;34m(self)\u001B[0m\n\u001B[1;32m   1020\u001B[0m \u001B[38;5;28;01mif\u001B[39;00m http_error_msg:\n\u001B[0;32m-> 1021\u001B[0m     \u001B[38;5;28;01mraise\u001B[39;00m HTTPError(http_error_msg, response\u001B[38;5;241m=\u001B[39m\u001B[38;5;28mself\u001B[39m)\n\n\u001B[0;31mHTTPError\u001B[0m: 400 Client Error: Bad Request for url: https://oregon.cloud.databricks.com/gateway/completion/invocations\n\nDuring handling of the above exception, another exception occurred:\n\n\u001B[0;31mHTTPError\u001B[0m                                 Traceback (most recent call last)\nFile \u001B[0;32m<command-3278141893405831>:3\u001B[0m\n\u001B[1;32m      1\u001B[0m query \u001B[38;5;241m=\u001B[39m \u001B[38;5;124m\"\u001B[39m\u001B[38;5;124mएचडीएफसी बैंक की वर्तमान ब्याज दर क्या है??\u001B[39m\u001B[38;5;124m\"\u001B[39m\n\u001B[0;32m----> 3\u001B[0m retrieval_qa_chain\u001B[38;5;241m.\u001B[39mrun(query)\n\nFile \u001B[0;32m/local_disk0/.ephemeral_nfs/envs/pythonEnv-2558cb66-9e74-49a6-8705-7723d2bb30e8/lib/python3.10/site-packages/langchain/chains/base.py:507\u001B[0m, in \u001B[0;36mChain.run\u001B[0;34m(self, callbacks, tags, metadata, *args, **kwargs)\u001B[0m\n\u001B[1;32m    505\u001B[0m     \u001B[38;5;28;01mif\u001B[39;00m \u001B[38;5;28mlen\u001B[39m(args) \u001B[38;5;241m!=\u001B[39m \u001B[38;5;241m1\u001B[39m:\n\u001B[1;32m    506\u001B[0m         \u001B[38;5;28;01mraise\u001B[39;00m \u001B[38;5;167;01mValueError\u001B[39;00m(\u001B[38;5;124m\"\u001B[39m\u001B[38;5;124m`run` supports only one positional argument.\u001B[39m\u001B[38;5;124m\"\u001B[39m)\n\u001B[0;32m--> 507\u001B[0m     \u001B[38;5;28;01mreturn\u001B[39;00m \u001B[38;5;28;43mself\u001B[39;49m\u001B[43m(\u001B[49m\u001B[43margs\u001B[49m\u001B[43m[\u001B[49m\u001B[38;5;241;43m0\u001B[39;49m\u001B[43m]\u001B[49m\u001B[43m,\u001B[49m\u001B[43m \u001B[49m\u001B[43mcallbacks\u001B[49m\u001B[38;5;241;43m=\u001B[39;49m\u001B[43mcallbacks\u001B[49m\u001B[43m,\u001B[49m\u001B[43m \u001B[49m\u001B[43mtags\u001B[49m\u001B[38;5;241;43m=\u001B[39;49m\u001B[43mtags\u001B[49m\u001B[43m,\u001B[49m\u001B[43m \u001B[49m\u001B[43mmetadata\u001B[49m\u001B[38;5;241;43m=\u001B[39;49m\u001B[43mmetadata\u001B[49m\u001B[43m)\u001B[49m[\n\u001B[1;32m    508\u001B[0m         _output_key\n\u001B[1;32m    509\u001B[0m     ]\n\u001B[1;32m    511\u001B[0m \u001B[38;5;28;01mif\u001B[39;00m kwargs \u001B[38;5;129;01mand\u001B[39;00m \u001B[38;5;129;01mnot\u001B[39;00m args:\n\u001B[1;32m    512\u001B[0m     \u001B[38;5;28;01mreturn\u001B[39;00m \u001B[38;5;28mself\u001B[39m(kwargs, callbacks\u001B[38;5;241m=\u001B[39mcallbacks, tags\u001B[38;5;241m=\u001B[39mtags, metadata\u001B[38;5;241m=\u001B[39mmetadata)[\n\u001B[1;32m    513\u001B[0m         _output_key\n\u001B[1;32m    514\u001B[0m     ]\n\nFile \u001B[0;32m/local_disk0/.ephemeral_nfs/envs/pythonEnv-2558cb66-9e74-49a6-8705-7723d2bb30e8/lib/python3.10/site-packages/langchain/chains/base.py:312\u001B[0m, in \u001B[0;36mChain.__call__\u001B[0;34m(self, inputs, return_only_outputs, callbacks, tags, metadata, run_name, include_run_info)\u001B[0m\n\u001B[1;32m    310\u001B[0m \u001B[38;5;28;01mexcept\u001B[39;00m \u001B[38;5;167;01mBaseException\u001B[39;00m \u001B[38;5;28;01mas\u001B[39;00m e:\n\u001B[1;32m    311\u001B[0m     run_manager\u001B[38;5;241m.\u001B[39mon_chain_error(e)\n\u001B[0;32m--> 312\u001B[0m     \u001B[38;5;28;01mraise\u001B[39;00m e\n\u001B[1;32m    313\u001B[0m run_manager\u001B[38;5;241m.\u001B[39mon_chain_end(outputs)\n\u001B[1;32m    314\u001B[0m final_outputs: Dict[\u001B[38;5;28mstr\u001B[39m, Any] \u001B[38;5;241m=\u001B[39m \u001B[38;5;28mself\u001B[39m\u001B[38;5;241m.\u001B[39mprep_outputs(\n\u001B[1;32m    315\u001B[0m     inputs, outputs, return_only_outputs\n\u001B[1;32m    316\u001B[0m )\n\nFile \u001B[0;32m/local_disk0/.ephemeral_nfs/envs/pythonEnv-2558cb66-9e74-49a6-8705-7723d2bb30e8/lib/python3.10/site-packages/langchain/chains/base.py:306\u001B[0m, in \u001B[0;36mChain.__call__\u001B[0;34m(self, inputs, return_only_outputs, callbacks, tags, metadata, run_name, include_run_info)\u001B[0m\n\u001B[1;32m    299\u001B[0m run_manager \u001B[38;5;241m=\u001B[39m callback_manager\u001B[38;5;241m.\u001B[39mon_chain_start(\n\u001B[1;32m    300\u001B[0m     dumpd(\u001B[38;5;28mself\u001B[39m),\n\u001B[1;32m    301\u001B[0m     inputs,\n\u001B[1;32m    302\u001B[0m     name\u001B[38;5;241m=\u001B[39mrun_name,\n\u001B[1;32m    303\u001B[0m )\n\u001B[1;32m    304\u001B[0m \u001B[38;5;28;01mtry\u001B[39;00m:\n\u001B[1;32m    305\u001B[0m     outputs \u001B[38;5;241m=\u001B[39m (\n\u001B[0;32m--> 306\u001B[0m         \u001B[38;5;28;43mself\u001B[39;49m\u001B[38;5;241;43m.\u001B[39;49m\u001B[43m_call\u001B[49m\u001B[43m(\u001B[49m\u001B[43minputs\u001B[49m\u001B[43m,\u001B[49m\u001B[43m \u001B[49m\u001B[43mrun_manager\u001B[49m\u001B[38;5;241;43m=\u001B[39;49m\u001B[43mrun_manager\u001B[49m\u001B[43m)\u001B[49m\n\u001B[1;32m    307\u001B[0m         \u001B[38;5;28;01mif\u001B[39;00m new_arg_supported\n\u001B[1;32m    308\u001B[0m         \u001B[38;5;28;01melse\u001B[39;00m \u001B[38;5;28mself\u001B[39m\u001B[38;5;241m.\u001B[39m_call(inputs)\n\u001B[1;32m    309\u001B[0m     )\n\u001B[1;32m    310\u001B[0m \u001B[38;5;28;01mexcept\u001B[39;00m \u001B[38;5;167;01mBaseException\u001B[39;00m \u001B[38;5;28;01mas\u001B[39;00m e:\n\u001B[1;32m    311\u001B[0m     run_manager\u001B[38;5;241m.\u001B[39mon_chain_error(e)\n\nFile \u001B[0;32m/local_disk0/.ephemeral_nfs/envs/pythonEnv-2558cb66-9e74-49a6-8705-7723d2bb30e8/lib/python3.10/site-packages/langchain/chains/retrieval_qa/base.py:141\u001B[0m, in \u001B[0;36mBaseRetrievalQA._call\u001B[0;34m(self, inputs, run_manager)\u001B[0m\n\u001B[1;32m    139\u001B[0m \u001B[38;5;28;01melse\u001B[39;00m:\n\u001B[1;32m    140\u001B[0m     docs \u001B[38;5;241m=\u001B[39m \u001B[38;5;28mself\u001B[39m\u001B[38;5;241m.\u001B[39m_get_docs(question)  \u001B[38;5;66;03m# type: ignore[call-arg]\u001B[39;00m\n\u001B[0;32m--> 141\u001B[0m answer \u001B[38;5;241m=\u001B[39m \u001B[38;5;28;43mself\u001B[39;49m\u001B[38;5;241;43m.\u001B[39;49m\u001B[43mcombine_documents_chain\u001B[49m\u001B[38;5;241;43m.\u001B[39;49m\u001B[43mrun\u001B[49m\u001B[43m(\u001B[49m\n\u001B[1;32m    142\u001B[0m \u001B[43m    \u001B[49m\u001B[43minput_documents\u001B[49m\u001B[38;5;241;43m=\u001B[39;49m\u001B[43mdocs\u001B[49m\u001B[43m,\u001B[49m\u001B[43m \u001B[49m\u001B[43mquestion\u001B[49m\u001B[38;5;241;43m=\u001B[39;49m\u001B[43mquestion\u001B[49m\u001B[43m,\u001B[49m\u001B[43m \u001B[49m\u001B[43mcallbacks\u001B[49m\u001B[38;5;241;43m=\u001B[39;49m\u001B[43m_run_manager\u001B[49m\u001B[38;5;241;43m.\u001B[39;49m\u001B[43mget_child\u001B[49m\u001B[43m(\u001B[49m\u001B[43m)\u001B[49m\n\u001B[1;32m    143\u001B[0m \u001B[43m\u001B[49m\u001B[43m)\u001B[49m\n\u001B[1;32m    145\u001B[0m \u001B[38;5;28;01mif\u001B[39;00m \u001B[38;5;28mself\u001B[39m\u001B[38;5;241m.\u001B[39mreturn_source_documents:\n\u001B[1;32m    146\u001B[0m     \u001B[38;5;28;01mreturn\u001B[39;00m {\u001B[38;5;28mself\u001B[39m\u001B[38;5;241m.\u001B[39moutput_key: answer, \u001B[38;5;124m\"\u001B[39m\u001B[38;5;124msource_documents\u001B[39m\u001B[38;5;124m\"\u001B[39m: docs}\n\nFile \u001B[0;32m/local_disk0/.ephemeral_nfs/envs/pythonEnv-2558cb66-9e74-49a6-8705-7723d2bb30e8/lib/python3.10/site-packages/langchain/chains/base.py:512\u001B[0m, in \u001B[0;36mChain.run\u001B[0;34m(self, callbacks, tags, metadata, *args, **kwargs)\u001B[0m\n\u001B[1;32m    507\u001B[0m     \u001B[38;5;28;01mreturn\u001B[39;00m \u001B[38;5;28mself\u001B[39m(args[\u001B[38;5;241m0\u001B[39m], callbacks\u001B[38;5;241m=\u001B[39mcallbacks, tags\u001B[38;5;241m=\u001B[39mtags, metadata\u001B[38;5;241m=\u001B[39mmetadata)[\n\u001B[1;32m    508\u001B[0m         _output_key\n\u001B[1;32m    509\u001B[0m     ]\n\u001B[1;32m    511\u001B[0m \u001B[38;5;28;01mif\u001B[39;00m kwargs \u001B[38;5;129;01mand\u001B[39;00m \u001B[38;5;129;01mnot\u001B[39;00m args:\n\u001B[0;32m--> 512\u001B[0m     \u001B[38;5;28;01mreturn\u001B[39;00m \u001B[38;5;28;43mself\u001B[39;49m\u001B[43m(\u001B[49m\u001B[43mkwargs\u001B[49m\u001B[43m,\u001B[49m\u001B[43m \u001B[49m\u001B[43mcallbacks\u001B[49m\u001B[38;5;241;43m=\u001B[39;49m\u001B[43mcallbacks\u001B[49m\u001B[43m,\u001B[49m\u001B[43m \u001B[49m\u001B[43mtags\u001B[49m\u001B[38;5;241;43m=\u001B[39;49m\u001B[43mtags\u001B[49m\u001B[43m,\u001B[49m\u001B[43m \u001B[49m\u001B[43mmetadata\u001B[49m\u001B[38;5;241;43m=\u001B[39;49m\u001B[43mmetadata\u001B[49m\u001B[43m)\u001B[49m[\n\u001B[1;32m    513\u001B[0m         _output_key\n\u001B[1;32m    514\u001B[0m     ]\n\u001B[1;32m    516\u001B[0m \u001B[38;5;28;01mif\u001B[39;00m \u001B[38;5;129;01mnot\u001B[39;00m kwargs \u001B[38;5;129;01mand\u001B[39;00m \u001B[38;5;129;01mnot\u001B[39;00m args:\n\u001B[1;32m    517\u001B[0m     \u001B[38;5;28;01mraise\u001B[39;00m \u001B[38;5;167;01mValueError\u001B[39;00m(\n\u001B[1;32m    518\u001B[0m         \u001B[38;5;124m\"\u001B[39m\u001B[38;5;124m`run` supported with either positional arguments or keyword arguments,\u001B[39m\u001B[38;5;124m\"\u001B[39m\n\u001B[1;32m    519\u001B[0m         \u001B[38;5;124m\"\u001B[39m\u001B[38;5;124m but none were provided.\u001B[39m\u001B[38;5;124m\"\u001B[39m\n\u001B[1;32m    520\u001B[0m     )\n\nFile \u001B[0;32m/local_disk0/.ephemeral_nfs/envs/pythonEnv-2558cb66-9e74-49a6-8705-7723d2bb30e8/lib/python3.10/site-packages/langchain/chains/base.py:312\u001B[0m, in \u001B[0;36mChain.__call__\u001B[0;34m(self, inputs, return_only_outputs, callbacks, tags, metadata, run_name, include_run_info)\u001B[0m\n\u001B[1;32m    310\u001B[0m \u001B[38;5;28;01mexcept\u001B[39;00m \u001B[38;5;167;01mBaseException\u001B[39;00m \u001B[38;5;28;01mas\u001B[39;00m e:\n\u001B[1;32m    311\u001B[0m     run_manager\u001B[38;5;241m.\u001B[39mon_chain_error(e)\n\u001B[0;32m--> 312\u001B[0m     \u001B[38;5;28;01mraise\u001B[39;00m e\n\u001B[1;32m    313\u001B[0m run_manager\u001B[38;5;241m.\u001B[39mon_chain_end(outputs)\n\u001B[1;32m    314\u001B[0m final_outputs: Dict[\u001B[38;5;28mstr\u001B[39m, Any] \u001B[38;5;241m=\u001B[39m \u001B[38;5;28mself\u001B[39m\u001B[38;5;241m.\u001B[39mprep_outputs(\n\u001B[1;32m    315\u001B[0m     inputs, outputs, return_only_outputs\n\u001B[1;32m    316\u001B[0m )\n\nFile \u001B[0;32m/local_disk0/.ephemeral_nfs/envs/pythonEnv-2558cb66-9e74-49a6-8705-7723d2bb30e8/lib/python3.10/site-packages/langchain/chains/base.py:306\u001B[0m, in \u001B[0;36mChain.__call__\u001B[0;34m(self, inputs, return_only_outputs, callbacks, tags, metadata, run_name, include_run_info)\u001B[0m\n\u001B[1;32m    299\u001B[0m run_manager \u001B[38;5;241m=\u001B[39m callback_manager\u001B[38;5;241m.\u001B[39mon_chain_start(\n\u001B[1;32m    300\u001B[0m     dumpd(\u001B[38;5;28mself\u001B[39m),\n\u001B[1;32m    301\u001B[0m     inputs,\n\u001B[1;32m    302\u001B[0m     name\u001B[38;5;241m=\u001B[39mrun_name,\n\u001B[1;32m    303\u001B[0m )\n\u001B[1;32m    304\u001B[0m \u001B[38;5;28;01mtry\u001B[39;00m:\n\u001B[1;32m    305\u001B[0m     outputs \u001B[38;5;241m=\u001B[39m (\n\u001B[0;32m--> 306\u001B[0m         \u001B[38;5;28;43mself\u001B[39;49m\u001B[38;5;241;43m.\u001B[39;49m\u001B[43m_call\u001B[49m\u001B[43m(\u001B[49m\u001B[43minputs\u001B[49m\u001B[43m,\u001B[49m\u001B[43m \u001B[49m\u001B[43mrun_manager\u001B[49m\u001B[38;5;241;43m=\u001B[39;49m\u001B[43mrun_manager\u001B[49m\u001B[43m)\u001B[49m\n\u001B[1;32m    307\u001B[0m         \u001B[38;5;28;01mif\u001B[39;00m new_arg_supported\n\u001B[1;32m    308\u001B[0m         \u001B[38;5;28;01melse\u001B[39;00m \u001B[38;5;28mself\u001B[39m\u001B[38;5;241m.\u001B[39m_call(inputs)\n\u001B[1;32m    309\u001B[0m     )\n\u001B[1;32m    310\u001B[0m \u001B[38;5;28;01mexcept\u001B[39;00m \u001B[38;5;167;01mBaseException\u001B[39;00m \u001B[38;5;28;01mas\u001B[39;00m e:\n\u001B[1;32m    311\u001B[0m     run_manager\u001B[38;5;241m.\u001B[39mon_chain_error(e)\n\nFile \u001B[0;32m/local_disk0/.ephemeral_nfs/envs/pythonEnv-2558cb66-9e74-49a6-8705-7723d2bb30e8/lib/python3.10/site-packages/langchain/chains/combine_documents/base.py:123\u001B[0m, in \u001B[0;36mBaseCombineDocumentsChain._call\u001B[0;34m(self, inputs, run_manager)\u001B[0m\n\u001B[1;32m    121\u001B[0m \u001B[38;5;66;03m# Other keys are assumed to be needed for LLM prediction\u001B[39;00m\n\u001B[1;32m    122\u001B[0m other_keys \u001B[38;5;241m=\u001B[39m {k: v \u001B[38;5;28;01mfor\u001B[39;00m k, v \u001B[38;5;129;01min\u001B[39;00m inputs\u001B[38;5;241m.\u001B[39mitems() \u001B[38;5;28;01mif\u001B[39;00m k \u001B[38;5;241m!=\u001B[39m \u001B[38;5;28mself\u001B[39m\u001B[38;5;241m.\u001B[39minput_key}\n\u001B[0;32m--> 123\u001B[0m output, extra_return_dict \u001B[38;5;241m=\u001B[39m \u001B[38;5;28;43mself\u001B[39;49m\u001B[38;5;241;43m.\u001B[39;49m\u001B[43mcombine_docs\u001B[49m\u001B[43m(\u001B[49m\n\u001B[1;32m    124\u001B[0m \u001B[43m    \u001B[49m\u001B[43mdocs\u001B[49m\u001B[43m,\u001B[49m\u001B[43m \u001B[49m\u001B[43mcallbacks\u001B[49m\u001B[38;5;241;43m=\u001B[39;49m\u001B[43m_run_manager\u001B[49m\u001B[38;5;241;43m.\u001B[39;49m\u001B[43mget_child\u001B[49m\u001B[43m(\u001B[49m\u001B[43m)\u001B[49m\u001B[43m,\u001B[49m\u001B[43m \u001B[49m\u001B[38;5;241;43m*\u001B[39;49m\u001B[38;5;241;43m*\u001B[39;49m\u001B[43mother_keys\u001B[49m\n\u001B[1;32m    125\u001B[0m \u001B[43m\u001B[49m\u001B[43m)\u001B[49m\n\u001B[1;32m    126\u001B[0m extra_return_dict[\u001B[38;5;28mself\u001B[39m\u001B[38;5;241m.\u001B[39moutput_key] \u001B[38;5;241m=\u001B[39m output\n\u001B[1;32m    127\u001B[0m \u001B[38;5;28;01mreturn\u001B[39;00m extra_return_dict\n\nFile \u001B[0;32m/local_disk0/.ephemeral_nfs/envs/pythonEnv-2558cb66-9e74-49a6-8705-7723d2bb30e8/lib/python3.10/site-packages/langchain/chains/combine_documents/stuff.py:172\u001B[0m, in \u001B[0;36mStuffDocumentsChain.combine_docs\u001B[0;34m(self, docs, callbacks, **kwargs)\u001B[0m\n\u001B[1;32m    170\u001B[0m inputs \u001B[38;5;241m=\u001B[39m \u001B[38;5;28mself\u001B[39m\u001B[38;5;241m.\u001B[39m_get_inputs(docs, \u001B[38;5;241m*\u001B[39m\u001B[38;5;241m*\u001B[39mkwargs)\n\u001B[1;32m    171\u001B[0m \u001B[38;5;66;03m# Call predict on the LLM.\u001B[39;00m\n\u001B[0;32m--> 172\u001B[0m \u001B[38;5;28;01mreturn\u001B[39;00m \u001B[38;5;28;43mself\u001B[39;49m\u001B[38;5;241;43m.\u001B[39;49m\u001B[43mllm_chain\u001B[49m\u001B[38;5;241;43m.\u001B[39;49m\u001B[43mpredict\u001B[49m\u001B[43m(\u001B[49m\u001B[43mcallbacks\u001B[49m\u001B[38;5;241;43m=\u001B[39;49m\u001B[43mcallbacks\u001B[49m\u001B[43m,\u001B[49m\u001B[43m \u001B[49m\u001B[38;5;241;43m*\u001B[39;49m\u001B[38;5;241;43m*\u001B[39;49m\u001B[43minputs\u001B[49m\u001B[43m)\u001B[49m, {}\n\nFile \u001B[0;32m/local_disk0/.ephemeral_nfs/envs/pythonEnv-2558cb66-9e74-49a6-8705-7723d2bb30e8/lib/python3.10/site-packages/langchain/chains/llm.py:293\u001B[0m, in \u001B[0;36mLLMChain.predict\u001B[0;34m(self, callbacks, **kwargs)\u001B[0m\n\u001B[1;32m    278\u001B[0m \u001B[38;5;28;01mdef\u001B[39;00m \u001B[38;5;21mpredict\u001B[39m(\u001B[38;5;28mself\u001B[39m, callbacks: Callbacks \u001B[38;5;241m=\u001B[39m \u001B[38;5;28;01mNone\u001B[39;00m, \u001B[38;5;241m*\u001B[39m\u001B[38;5;241m*\u001B[39mkwargs: Any) \u001B[38;5;241m-\u001B[39m\u001B[38;5;241m>\u001B[39m \u001B[38;5;28mstr\u001B[39m:\n\u001B[1;32m    279\u001B[0m     \u001B[38;5;124;03m\"\"\"Format prompt with kwargs and pass to LLM.\u001B[39;00m\n\u001B[1;32m    280\u001B[0m \n\u001B[1;32m    281\u001B[0m \u001B[38;5;124;03m    Args:\u001B[39;00m\n\u001B[0;32m   (...)\u001B[0m\n\u001B[1;32m    291\u001B[0m \u001B[38;5;124;03m            completion = llm.predict(adjective=\"funny\")\u001B[39;00m\n\u001B[1;32m    292\u001B[0m \u001B[38;5;124;03m    \"\"\"\u001B[39;00m\n\u001B[0;32m--> 293\u001B[0m     \u001B[38;5;28;01mreturn\u001B[39;00m \u001B[38;5;28;43mself\u001B[39;49m\u001B[43m(\u001B[49m\u001B[43mkwargs\u001B[49m\u001B[43m,\u001B[49m\u001B[43m \u001B[49m\u001B[43mcallbacks\u001B[49m\u001B[38;5;241;43m=\u001B[39;49m\u001B[43mcallbacks\u001B[49m\u001B[43m)\u001B[49m[\u001B[38;5;28mself\u001B[39m\u001B[38;5;241m.\u001B[39moutput_key]\n\nFile \u001B[0;32m/local_disk0/.ephemeral_nfs/envs/pythonEnv-2558cb66-9e74-49a6-8705-7723d2bb30e8/lib/python3.10/site-packages/langchain/chains/base.py:312\u001B[0m, in \u001B[0;36mChain.__call__\u001B[0;34m(self, inputs, return_only_outputs, callbacks, tags, metadata, run_name, include_run_info)\u001B[0m\n\u001B[1;32m    310\u001B[0m \u001B[38;5;28;01mexcept\u001B[39;00m \u001B[38;5;167;01mBaseException\u001B[39;00m \u001B[38;5;28;01mas\u001B[39;00m e:\n\u001B[1;32m    311\u001B[0m     run_manager\u001B[38;5;241m.\u001B[39mon_chain_error(e)\n\u001B[0;32m--> 312\u001B[0m     \u001B[38;5;28;01mraise\u001B[39;00m e\n\u001B[1;32m    313\u001B[0m run_manager\u001B[38;5;241m.\u001B[39mon_chain_end(outputs)\n\u001B[1;32m    314\u001B[0m final_outputs: Dict[\u001B[38;5;28mstr\u001B[39m, Any] \u001B[38;5;241m=\u001B[39m \u001B[38;5;28mself\u001B[39m\u001B[38;5;241m.\u001B[39mprep_outputs(\n\u001B[1;32m    315\u001B[0m     inputs, outputs, return_only_outputs\n\u001B[1;32m    316\u001B[0m )\n\nFile \u001B[0;32m/local_disk0/.ephemeral_nfs/envs/pythonEnv-2558cb66-9e74-49a6-8705-7723d2bb30e8/lib/python3.10/site-packages/langchain/chains/base.py:306\u001B[0m, in \u001B[0;36mChain.__call__\u001B[0;34m(self, inputs, return_only_outputs, callbacks, tags, metadata, run_name, include_run_info)\u001B[0m\n\u001B[1;32m    299\u001B[0m run_manager \u001B[38;5;241m=\u001B[39m callback_manager\u001B[38;5;241m.\u001B[39mon_chain_start(\n\u001B[1;32m    300\u001B[0m     dumpd(\u001B[38;5;28mself\u001B[39m),\n\u001B[1;32m    301\u001B[0m     inputs,\n\u001B[1;32m    302\u001B[0m     name\u001B[38;5;241m=\u001B[39mrun_name,\n\u001B[1;32m    303\u001B[0m )\n\u001B[1;32m    304\u001B[0m \u001B[38;5;28;01mtry\u001B[39;00m:\n\u001B[1;32m    305\u001B[0m     outputs \u001B[38;5;241m=\u001B[39m (\n\u001B[0;32m--> 306\u001B[0m         \u001B[38;5;28;43mself\u001B[39;49m\u001B[38;5;241;43m.\u001B[39;49m\u001B[43m_call\u001B[49m\u001B[43m(\u001B[49m\u001B[43minputs\u001B[49m\u001B[43m,\u001B[49m\u001B[43m \u001B[49m\u001B[43mrun_manager\u001B[49m\u001B[38;5;241;43m=\u001B[39;49m\u001B[43mrun_manager\u001B[49m\u001B[43m)\u001B[49m\n\u001B[1;32m    307\u001B[0m         \u001B[38;5;28;01mif\u001B[39;00m new_arg_supported\n\u001B[1;32m    308\u001B[0m         \u001B[38;5;28;01melse\u001B[39;00m \u001B[38;5;28mself\u001B[39m\u001B[38;5;241m.\u001B[39m_call(inputs)\n\u001B[1;32m    309\u001B[0m     )\n\u001B[1;32m    310\u001B[0m \u001B[38;5;28;01mexcept\u001B[39;00m \u001B[38;5;167;01mBaseException\u001B[39;00m \u001B[38;5;28;01mas\u001B[39;00m e:\n\u001B[1;32m    311\u001B[0m     run_manager\u001B[38;5;241m.\u001B[39mon_chain_error(e)\n\nFile \u001B[0;32m/local_disk0/.ephemeral_nfs/envs/pythonEnv-2558cb66-9e74-49a6-8705-7723d2bb30e8/lib/python3.10/site-packages/langchain/chains/llm.py:103\u001B[0m, in \u001B[0;36mLLMChain._call\u001B[0;34m(self, inputs, run_manager)\u001B[0m\n\u001B[1;32m     98\u001B[0m \u001B[38;5;28;01mdef\u001B[39;00m \u001B[38;5;21m_call\u001B[39m(\n\u001B[1;32m     99\u001B[0m     \u001B[38;5;28mself\u001B[39m,\n\u001B[1;32m    100\u001B[0m     inputs: Dict[\u001B[38;5;28mstr\u001B[39m, Any],\n\u001B[1;32m    101\u001B[0m     run_manager: Optional[CallbackManagerForChainRun] \u001B[38;5;241m=\u001B[39m \u001B[38;5;28;01mNone\u001B[39;00m,\n\u001B[1;32m    102\u001B[0m ) \u001B[38;5;241m-\u001B[39m\u001B[38;5;241m>\u001B[39m Dict[\u001B[38;5;28mstr\u001B[39m, \u001B[38;5;28mstr\u001B[39m]:\n\u001B[0;32m--> 103\u001B[0m     response \u001B[38;5;241m=\u001B[39m \u001B[38;5;28;43mself\u001B[39;49m\u001B[38;5;241;43m.\u001B[39;49m\u001B[43mgenerate\u001B[49m\u001B[43m(\u001B[49m\u001B[43m[\u001B[49m\u001B[43minputs\u001B[49m\u001B[43m]\u001B[49m\u001B[43m,\u001B[49m\u001B[43m \u001B[49m\u001B[43mrun_manager\u001B[49m\u001B[38;5;241;43m=\u001B[39;49m\u001B[43mrun_manager\u001B[49m\u001B[43m)\u001B[49m\n\u001B[1;32m    104\u001B[0m     \u001B[38;5;28;01mreturn\u001B[39;00m \u001B[38;5;28mself\u001B[39m\u001B[38;5;241m.\u001B[39mcreate_outputs(response)[\u001B[38;5;241m0\u001B[39m]\n\nFile \u001B[0;32m/local_disk0/.ephemeral_nfs/envs/pythonEnv-2558cb66-9e74-49a6-8705-7723d2bb30e8/lib/python3.10/site-packages/langchain/chains/llm.py:115\u001B[0m, in \u001B[0;36mLLMChain.generate\u001B[0;34m(self, input_list, run_manager)\u001B[0m\n\u001B[1;32m    113\u001B[0m callbacks \u001B[38;5;241m=\u001B[39m run_manager\u001B[38;5;241m.\u001B[39mget_child() \u001B[38;5;28;01mif\u001B[39;00m run_manager \u001B[38;5;28;01melse\u001B[39;00m \u001B[38;5;28;01mNone\u001B[39;00m\n\u001B[1;32m    114\u001B[0m \u001B[38;5;28;01mif\u001B[39;00m \u001B[38;5;28misinstance\u001B[39m(\u001B[38;5;28mself\u001B[39m\u001B[38;5;241m.\u001B[39mllm, BaseLanguageModel):\n\u001B[0;32m--> 115\u001B[0m     \u001B[38;5;28;01mreturn\u001B[39;00m \u001B[38;5;28;43mself\u001B[39;49m\u001B[38;5;241;43m.\u001B[39;49m\u001B[43mllm\u001B[49m\u001B[38;5;241;43m.\u001B[39;49m\u001B[43mgenerate_prompt\u001B[49m\u001B[43m(\u001B[49m\n\u001B[1;32m    116\u001B[0m \u001B[43m        \u001B[49m\u001B[43mprompts\u001B[49m\u001B[43m,\u001B[49m\n\u001B[1;32m    117\u001B[0m \u001B[43m        \u001B[49m\u001B[43mstop\u001B[49m\u001B[43m,\u001B[49m\n\u001B[1;32m    118\u001B[0m \u001B[43m        \u001B[49m\u001B[43mcallbacks\u001B[49m\u001B[38;5;241;43m=\u001B[39;49m\u001B[43mcallbacks\u001B[49m\u001B[43m,\u001B[49m\n\u001B[1;32m    119\u001B[0m \u001B[43m        \u001B[49m\u001B[38;5;241;43m*\u001B[39;49m\u001B[38;5;241;43m*\u001B[39;49m\u001B[38;5;28;43mself\u001B[39;49m\u001B[38;5;241;43m.\u001B[39;49m\u001B[43mllm_kwargs\u001B[49m\u001B[43m,\u001B[49m\n\u001B[1;32m    120\u001B[0m \u001B[43m    \u001B[49m\u001B[43m)\u001B[49m\n\u001B[1;32m    121\u001B[0m \u001B[38;5;28;01melse\u001B[39;00m:\n\u001B[1;32m    122\u001B[0m     results \u001B[38;5;241m=\u001B[39m \u001B[38;5;28mself\u001B[39m\u001B[38;5;241m.\u001B[39mllm\u001B[38;5;241m.\u001B[39mbind(stop\u001B[38;5;241m=\u001B[39mstop, \u001B[38;5;241m*\u001B[39m\u001B[38;5;241m*\u001B[39m\u001B[38;5;28mself\u001B[39m\u001B[38;5;241m.\u001B[39mllm_kwargs)\u001B[38;5;241m.\u001B[39mbatch(\n\u001B[1;32m    123\u001B[0m         cast(List, prompts), {\u001B[38;5;124m\"\u001B[39m\u001B[38;5;124mcallbacks\u001B[39m\u001B[38;5;124m\"\u001B[39m: callbacks}\n\u001B[1;32m    124\u001B[0m     )\n\nFile \u001B[0;32m/local_disk0/.ephemeral_nfs/envs/pythonEnv-2558cb66-9e74-49a6-8705-7723d2bb30e8/lib/python3.10/site-packages/langchain_core/language_models/llms.py:506\u001B[0m, in \u001B[0;36mBaseLLM.generate_prompt\u001B[0;34m(self, prompts, stop, callbacks, **kwargs)\u001B[0m\n\u001B[1;32m    498\u001B[0m \u001B[38;5;28;01mdef\u001B[39;00m \u001B[38;5;21mgenerate_prompt\u001B[39m(\n\u001B[1;32m    499\u001B[0m     \u001B[38;5;28mself\u001B[39m,\n\u001B[1;32m    500\u001B[0m     prompts: List[PromptValue],\n\u001B[0;32m   (...)\u001B[0m\n\u001B[1;32m    503\u001B[0m     \u001B[38;5;241m*\u001B[39m\u001B[38;5;241m*\u001B[39mkwargs: Any,\n\u001B[1;32m    504\u001B[0m ) \u001B[38;5;241m-\u001B[39m\u001B[38;5;241m>\u001B[39m LLMResult:\n\u001B[1;32m    505\u001B[0m     prompt_strings \u001B[38;5;241m=\u001B[39m [p\u001B[38;5;241m.\u001B[39mto_string() \u001B[38;5;28;01mfor\u001B[39;00m p \u001B[38;5;129;01min\u001B[39;00m prompts]\n\u001B[0;32m--> 506\u001B[0m     \u001B[38;5;28;01mreturn\u001B[39;00m \u001B[38;5;28;43mself\u001B[39;49m\u001B[38;5;241;43m.\u001B[39;49m\u001B[43mgenerate\u001B[49m\u001B[43m(\u001B[49m\u001B[43mprompt_strings\u001B[49m\u001B[43m,\u001B[49m\u001B[43m \u001B[49m\u001B[43mstop\u001B[49m\u001B[38;5;241;43m=\u001B[39;49m\u001B[43mstop\u001B[49m\u001B[43m,\u001B[49m\u001B[43m \u001B[49m\u001B[43mcallbacks\u001B[49m\u001B[38;5;241;43m=\u001B[39;49m\u001B[43mcallbacks\u001B[49m\u001B[43m,\u001B[49m\u001B[43m \u001B[49m\u001B[38;5;241;43m*\u001B[39;49m\u001B[38;5;241;43m*\u001B[39;49m\u001B[43mkwargs\u001B[49m\u001B[43m)\u001B[49m\n\nFile \u001B[0;32m/local_disk0/.ephemeral_nfs/envs/pythonEnv-2558cb66-9e74-49a6-8705-7723d2bb30e8/lib/python3.10/site-packages/langchain_core/language_models/llms.py:656\u001B[0m, in \u001B[0;36mBaseLLM.generate\u001B[0;34m(self, prompts, stop, callbacks, tags, metadata, run_name, **kwargs)\u001B[0m\n\u001B[1;32m    640\u001B[0m         \u001B[38;5;28;01mraise\u001B[39;00m \u001B[38;5;167;01mValueError\u001B[39;00m(\n\u001B[1;32m    641\u001B[0m             \u001B[38;5;124m\"\u001B[39m\u001B[38;5;124mAsked to cache, but no cache found at `langchain.cache`.\u001B[39m\u001B[38;5;124m\"\u001B[39m\n\u001B[1;32m    642\u001B[0m         )\n\u001B[1;32m    643\u001B[0m     run_managers \u001B[38;5;241m=\u001B[39m [\n\u001B[1;32m    644\u001B[0m         callback_manager\u001B[38;5;241m.\u001B[39mon_llm_start(\n\u001B[1;32m    645\u001B[0m             dumpd(\u001B[38;5;28mself\u001B[39m),\n\u001B[0;32m   (...)\u001B[0m\n\u001B[1;32m    654\u001B[0m         )\n\u001B[1;32m    655\u001B[0m     ]\n\u001B[0;32m--> 656\u001B[0m     output \u001B[38;5;241m=\u001B[39m \u001B[38;5;28;43mself\u001B[39;49m\u001B[38;5;241;43m.\u001B[39;49m\u001B[43m_generate_helper\u001B[49m\u001B[43m(\u001B[49m\n\u001B[1;32m    657\u001B[0m \u001B[43m        \u001B[49m\u001B[43mprompts\u001B[49m\u001B[43m,\u001B[49m\u001B[43m \u001B[49m\u001B[43mstop\u001B[49m\u001B[43m,\u001B[49m\u001B[43m \u001B[49m\u001B[43mrun_managers\u001B[49m\u001B[43m,\u001B[49m\u001B[43m \u001B[49m\u001B[38;5;28;43mbool\u001B[39;49m\u001B[43m(\u001B[49m\u001B[43mnew_arg_supported\u001B[49m\u001B[43m)\u001B[49m\u001B[43m,\u001B[49m\u001B[43m \u001B[49m\u001B[38;5;241;43m*\u001B[39;49m\u001B[38;5;241;43m*\u001B[39;49m\u001B[43mkwargs\u001B[49m\n\u001B[1;32m    658\u001B[0m \u001B[43m    \u001B[49m\u001B[43m)\u001B[49m\n\u001B[1;32m    659\u001B[0m     \u001B[38;5;28;01mreturn\u001B[39;00m output\n\u001B[1;32m    660\u001B[0m \u001B[38;5;28;01mif\u001B[39;00m \u001B[38;5;28mlen\u001B[39m(missing_prompts) \u001B[38;5;241m>\u001B[39m \u001B[38;5;241m0\u001B[39m:\n\nFile \u001B[0;32m/local_disk0/.ephemeral_nfs/envs/pythonEnv-2558cb66-9e74-49a6-8705-7723d2bb30e8/lib/python3.10/site-packages/langchain_core/language_models/llms.py:543\u001B[0m, in \u001B[0;36mBaseLLM._generate_helper\u001B[0;34m(self, prompts, stop, run_managers, new_arg_supported, **kwargs)\u001B[0m\n\u001B[1;32m    541\u001B[0m     \u001B[38;5;28;01mfor\u001B[39;00m run_manager \u001B[38;5;129;01min\u001B[39;00m run_managers:\n\u001B[1;32m    542\u001B[0m         run_manager\u001B[38;5;241m.\u001B[39mon_llm_error(e)\n\u001B[0;32m--> 543\u001B[0m     \u001B[38;5;28;01mraise\u001B[39;00m e\n\u001B[1;32m    544\u001B[0m flattened_outputs \u001B[38;5;241m=\u001B[39m output\u001B[38;5;241m.\u001B[39mflatten()\n\u001B[1;32m    545\u001B[0m \u001B[38;5;28;01mfor\u001B[39;00m manager, flattened_output \u001B[38;5;129;01min\u001B[39;00m \u001B[38;5;28mzip\u001B[39m(run_managers, flattened_outputs):\n\nFile \u001B[0;32m/local_disk0/.ephemeral_nfs/envs/pythonEnv-2558cb66-9e74-49a6-8705-7723d2bb30e8/lib/python3.10/site-packages/langchain_core/language_models/llms.py:530\u001B[0m, in \u001B[0;36mBaseLLM._generate_helper\u001B[0;34m(self, prompts, stop, run_managers, new_arg_supported, **kwargs)\u001B[0m\n\u001B[1;32m    520\u001B[0m \u001B[38;5;28;01mdef\u001B[39;00m \u001B[38;5;21m_generate_helper\u001B[39m(\n\u001B[1;32m    521\u001B[0m     \u001B[38;5;28mself\u001B[39m,\n\u001B[1;32m    522\u001B[0m     prompts: List[\u001B[38;5;28mstr\u001B[39m],\n\u001B[0;32m   (...)\u001B[0m\n\u001B[1;32m    526\u001B[0m     \u001B[38;5;241m*\u001B[39m\u001B[38;5;241m*\u001B[39mkwargs: Any,\n\u001B[1;32m    527\u001B[0m ) \u001B[38;5;241m-\u001B[39m\u001B[38;5;241m>\u001B[39m LLMResult:\n\u001B[1;32m    528\u001B[0m     \u001B[38;5;28;01mtry\u001B[39;00m:\n\u001B[1;32m    529\u001B[0m         output \u001B[38;5;241m=\u001B[39m (\n\u001B[0;32m--> 530\u001B[0m             \u001B[38;5;28;43mself\u001B[39;49m\u001B[38;5;241;43m.\u001B[39;49m\u001B[43m_generate\u001B[49m\u001B[43m(\u001B[49m\n\u001B[1;32m    531\u001B[0m \u001B[43m                \u001B[49m\u001B[43mprompts\u001B[49m\u001B[43m,\u001B[49m\n\u001B[1;32m    532\u001B[0m \u001B[43m                \u001B[49m\u001B[43mstop\u001B[49m\u001B[38;5;241;43m=\u001B[39;49m\u001B[43mstop\u001B[49m\u001B[43m,\u001B[49m\n\u001B[1;32m    533\u001B[0m \u001B[43m                \u001B[49m\u001B[38;5;66;43;03m# TODO: support multiple run managers\u001B[39;49;00m\n\u001B[1;32m    534\u001B[0m \u001B[43m                \u001B[49m\u001B[43mrun_manager\u001B[49m\u001B[38;5;241;43m=\u001B[39;49m\u001B[43mrun_managers\u001B[49m\u001B[43m[\u001B[49m\u001B[38;5;241;43m0\u001B[39;49m\u001B[43m]\u001B[49m\u001B[43m \u001B[49m\u001B[38;5;28;43;01mif\u001B[39;49;00m\u001B[43m \u001B[49m\u001B[43mrun_managers\u001B[49m\u001B[43m \u001B[49m\u001B[38;5;28;43;01melse\u001B[39;49;00m\u001B[43m \u001B[49m\u001B[38;5;28;43;01mNone\u001B[39;49;00m\u001B[43m,\u001B[49m\n\u001B[1;32m    535\u001B[0m \u001B[43m                \u001B[49m\u001B[38;5;241;43m*\u001B[39;49m\u001B[38;5;241;43m*\u001B[39;49m\u001B[43mkwargs\u001B[49m\u001B[43m,\u001B[49m\n\u001B[1;32m    536\u001B[0m \u001B[43m            \u001B[49m\u001B[43m)\u001B[49m\n\u001B[1;32m    537\u001B[0m             \u001B[38;5;28;01mif\u001B[39;00m new_arg_supported\n\u001B[1;32m    538\u001B[0m             \u001B[38;5;28;01melse\u001B[39;00m \u001B[38;5;28mself\u001B[39m\u001B[38;5;241m.\u001B[39m_generate(prompts, stop\u001B[38;5;241m=\u001B[39mstop)\n\u001B[1;32m    539\u001B[0m         )\n\u001B[1;32m    540\u001B[0m     \u001B[38;5;28;01mexcept\u001B[39;00m \u001B[38;5;167;01mBaseException\u001B[39;00m \u001B[38;5;28;01mas\u001B[39;00m e:\n\u001B[1;32m    541\u001B[0m         \u001B[38;5;28;01mfor\u001B[39;00m run_manager \u001B[38;5;129;01min\u001B[39;00m run_managers:\n\nFile \u001B[0;32m/local_disk0/.ephemeral_nfs/envs/pythonEnv-2558cb66-9e74-49a6-8705-7723d2bb30e8/lib/python3.10/site-packages/langchain_core/language_models/llms.py:1056\u001B[0m, in \u001B[0;36mLLM._generate\u001B[0;34m(self, prompts, stop, run_manager, **kwargs)\u001B[0m\n\u001B[1;32m   1053\u001B[0m new_arg_supported \u001B[38;5;241m=\u001B[39m inspect\u001B[38;5;241m.\u001B[39msignature(\u001B[38;5;28mself\u001B[39m\u001B[38;5;241m.\u001B[39m_call)\u001B[38;5;241m.\u001B[39mparameters\u001B[38;5;241m.\u001B[39mget(\u001B[38;5;124m\"\u001B[39m\u001B[38;5;124mrun_manager\u001B[39m\u001B[38;5;124m\"\u001B[39m)\n\u001B[1;32m   1054\u001B[0m \u001B[38;5;28;01mfor\u001B[39;00m prompt \u001B[38;5;129;01min\u001B[39;00m prompts:\n\u001B[1;32m   1055\u001B[0m     text \u001B[38;5;241m=\u001B[39m (\n\u001B[0;32m-> 1056\u001B[0m         \u001B[38;5;28;43mself\u001B[39;49m\u001B[38;5;241;43m.\u001B[39;49m\u001B[43m_call\u001B[49m\u001B[43m(\u001B[49m\u001B[43mprompt\u001B[49m\u001B[43m,\u001B[49m\u001B[43m \u001B[49m\u001B[43mstop\u001B[49m\u001B[38;5;241;43m=\u001B[39;49m\u001B[43mstop\u001B[49m\u001B[43m,\u001B[49m\u001B[43m \u001B[49m\u001B[43mrun_manager\u001B[49m\u001B[38;5;241;43m=\u001B[39;49m\u001B[43mrun_manager\u001B[49m\u001B[43m,\u001B[49m\u001B[43m \u001B[49m\u001B[38;5;241;43m*\u001B[39;49m\u001B[38;5;241;43m*\u001B[39;49m\u001B[43mkwargs\u001B[49m\u001B[43m)\u001B[49m\n\u001B[1;32m   1057\u001B[0m         \u001B[38;5;28;01mif\u001B[39;00m new_arg_supported\n\u001B[1;32m   1058\u001B[0m         \u001B[38;5;28;01melse\u001B[39;00m \u001B[38;5;28mself\u001B[39m\u001B[38;5;241m.\u001B[39m_call(prompt, stop\u001B[38;5;241m=\u001B[39mstop, \u001B[38;5;241m*\u001B[39m\u001B[38;5;241m*\u001B[39mkwargs)\n\u001B[1;32m   1059\u001B[0m     )\n\u001B[1;32m   1060\u001B[0m     generations\u001B[38;5;241m.\u001B[39mappend([Generation(text\u001B[38;5;241m=\u001B[39mtext)])\n\u001B[1;32m   1061\u001B[0m \u001B[38;5;28;01mreturn\u001B[39;00m LLMResult(generations\u001B[38;5;241m=\u001B[39mgenerations)\n\nFile \u001B[0;32m/local_disk0/.ephemeral_nfs/envs/pythonEnv-2558cb66-9e74-49a6-8705-7723d2bb30e8/lib/python3.10/site-packages/langchain/llms/mlflow_ai_gateway.py:100\u001B[0m, in \u001B[0;36mMlflowAIGateway._call\u001B[0;34m(self, prompt, stop, run_manager, **kwargs)\u001B[0m\n\u001B[1;32m     98\u001B[0m \u001B[38;5;28;01mif\u001B[39;00m s \u001B[38;5;241m:=\u001B[39m (stop \u001B[38;5;129;01mor\u001B[39;00m (\u001B[38;5;28mself\u001B[39m\u001B[38;5;241m.\u001B[39mparams\u001B[38;5;241m.\u001B[39mstop \u001B[38;5;28;01mif\u001B[39;00m \u001B[38;5;28mself\u001B[39m\u001B[38;5;241m.\u001B[39mparams \u001B[38;5;28;01melse\u001B[39;00m \u001B[38;5;28;01mNone\u001B[39;00m)):\n\u001B[1;32m     99\u001B[0m     data[\u001B[38;5;124m\"\u001B[39m\u001B[38;5;124mstop\u001B[39m\u001B[38;5;124m\"\u001B[39m] \u001B[38;5;241m=\u001B[39m s\n\u001B[0;32m--> 100\u001B[0m resp \u001B[38;5;241m=\u001B[39m \u001B[43mmlflow\u001B[49m\u001B[38;5;241;43m.\u001B[39;49m\u001B[43mgateway\u001B[49m\u001B[38;5;241;43m.\u001B[39;49m\u001B[43mquery\u001B[49m\u001B[43m(\u001B[49m\u001B[38;5;28;43mself\u001B[39;49m\u001B[38;5;241;43m.\u001B[39;49m\u001B[43mroute\u001B[49m\u001B[43m,\u001B[49m\u001B[43m \u001B[49m\u001B[43mdata\u001B[49m\u001B[38;5;241;43m=\u001B[39;49m\u001B[43mdata\u001B[49m\u001B[43m)\u001B[49m\n\u001B[1;32m    101\u001B[0m \u001B[38;5;28;01mreturn\u001B[39;00m resp[\u001B[38;5;124m\"\u001B[39m\u001B[38;5;124mcandidates\u001B[39m\u001B[38;5;124m\"\u001B[39m][\u001B[38;5;241m0\u001B[39m][\u001B[38;5;124m\"\u001B[39m\u001B[38;5;124mtext\u001B[39m\u001B[38;5;124m\"\u001B[39m]\n\nFile \u001B[0;32m/local_disk0/.ephemeral_nfs/envs/pythonEnv-2558cb66-9e74-49a6-8705-7723d2bb30e8/lib/python3.10/site-packages/mlflow/gateway/utils.py:142\u001B[0m, in \u001B[0;36mgateway_deprecated.<locals>.wrapper\u001B[0;34m(*args, **kwargs)\u001B[0m\n\u001B[1;32m    139\u001B[0m \u001B[38;5;129m@functools\u001B[39m\u001B[38;5;241m.\u001B[39mwraps(obj)\n\u001B[1;32m    140\u001B[0m \u001B[38;5;28;01mdef\u001B[39;00m \u001B[38;5;21mwrapper\u001B[39m(\u001B[38;5;241m*\u001B[39margs, \u001B[38;5;241m*\u001B[39m\u001B[38;5;241m*\u001B[39mkwargs):\n\u001B[1;32m    141\u001B[0m     warnings\u001B[38;5;241m.\u001B[39mwarn(msg, \u001B[38;5;167;01mFutureWarning\u001B[39;00m, stacklevel\u001B[38;5;241m=\u001B[39m\u001B[38;5;241m2\u001B[39m)\n\u001B[0;32m--> 142\u001B[0m     \u001B[38;5;28;01mreturn\u001B[39;00m \u001B[43mobj\u001B[49m\u001B[43m(\u001B[49m\u001B[38;5;241;43m*\u001B[39;49m\u001B[43margs\u001B[49m\u001B[43m,\u001B[49m\u001B[43m \u001B[49m\u001B[38;5;241;43m*\u001B[39;49m\u001B[38;5;241;43m*\u001B[39;49m\u001B[43mkwargs\u001B[49m\u001B[43m)\u001B[49m\n\nFile \u001B[0;32m/local_disk0/.ephemeral_nfs/envs/pythonEnv-2558cb66-9e74-49a6-8705-7723d2bb30e8/lib/python3.10/site-packages/mlflow/gateway/fluent.py:247\u001B[0m, in \u001B[0;36mquery\u001B[0;34m(route, data)\u001B[0m\n\u001B[1;32m    183\u001B[0m \u001B[38;5;129m@gateway_deprecated\u001B[39m\n\u001B[1;32m    184\u001B[0m \u001B[38;5;28;01mdef\u001B[39;00m \u001B[38;5;21mquery\u001B[39m(route: \u001B[38;5;28mstr\u001B[39m, data):\n\u001B[1;32m    185\u001B[0m     \u001B[38;5;124;03m\"\"\"\u001B[39;00m\n\u001B[1;32m    186\u001B[0m \u001B[38;5;124;03m    Issues a query request to a configured service through a named route on the Gateway Server.\u001B[39;00m\n\u001B[1;32m    187\u001B[0m \u001B[38;5;124;03m    This function will interface with a configured route name (examples below) and return the\u001B[39;00m\n\u001B[0;32m   (...)\u001B[0m\n\u001B[1;32m    245\u001B[0m \n\u001B[1;32m    246\u001B[0m \u001B[38;5;124;03m    \"\"\"\u001B[39;00m\n\u001B[0;32m--> 247\u001B[0m     \u001B[38;5;28;01mreturn\u001B[39;00m \u001B[43mMlflowGatewayClient\u001B[49m\u001B[43m(\u001B[49m\u001B[43m)\u001B[49m\u001B[38;5;241;43m.\u001B[39;49m\u001B[43mquery\u001B[49m\u001B[43m(\u001B[49m\u001B[43mroute\u001B[49m\u001B[43m,\u001B[49m\u001B[43m \u001B[49m\u001B[43mdata\u001B[49m\u001B[43m)\u001B[49m\n\nFile \u001B[0;32m/local_disk0/.ephemeral_nfs/envs/pythonEnv-2558cb66-9e74-49a6-8705-7723d2bb30e8/lib/python3.10/site-packages/mlflow/gateway/utils.py:142\u001B[0m, in \u001B[0;36mgateway_deprecated.<locals>.wrapper\u001B[0;34m(*args, **kwargs)\u001B[0m\n\u001B[1;32m    139\u001B[0m \u001B[38;5;129m@functools\u001B[39m\u001B[38;5;241m.\u001B[39mwraps(obj)\n\u001B[1;32m    140\u001B[0m \u001B[38;5;28;01mdef\u001B[39;00m \u001B[38;5;21mwrapper\u001B[39m(\u001B[38;5;241m*\u001B[39margs, \u001B[38;5;241m*\u001B[39m\u001B[38;5;241m*\u001B[39mkwargs):\n\u001B[1;32m    141\u001B[0m     warnings\u001B[38;5;241m.\u001B[39mwarn(msg, \u001B[38;5;167;01mFutureWarning\u001B[39;00m, stacklevel\u001B[38;5;241m=\u001B[39m\u001B[38;5;241m2\u001B[39m)\n\u001B[0;32m--> 142\u001B[0m     \u001B[38;5;28;01mreturn\u001B[39;00m \u001B[43mobj\u001B[49m\u001B[43m(\u001B[49m\u001B[38;5;241;43m*\u001B[39;49m\u001B[43margs\u001B[49m\u001B[43m,\u001B[49m\u001B[43m \u001B[49m\u001B[38;5;241;43m*\u001B[39;49m\u001B[38;5;241;43m*\u001B[39;49m\u001B[43mkwargs\u001B[49m\u001B[43m)\u001B[49m\n\nFile \u001B[0;32m/local_disk0/.ephemeral_nfs/envs/pythonEnv-2558cb66-9e74-49a6-8705-7723d2bb30e8/lib/python3.10/site-packages/mlflow/gateway/client.py:339\u001B[0m, in \u001B[0;36mMlflowGatewayClient.query\u001B[0;34m(self, route, data)\u001B[0m\n\u001B[1;32m    336\u001B[0m query_route \u001B[38;5;241m=\u001B[39m assemble_uri_path([MLFLOW_GATEWAY_ROUTE_BASE, route, MLFLOW_QUERY_SUFFIX])\n\u001B[1;32m    338\u001B[0m \u001B[38;5;28;01mtry\u001B[39;00m:\n\u001B[0;32m--> 339\u001B[0m     \u001B[38;5;28;01mreturn\u001B[39;00m \u001B[38;5;28;43mself\u001B[39;49m\u001B[38;5;241;43m.\u001B[39;49m\u001B[43m_call_endpoint\u001B[49m\u001B[43m(\u001B[49m\u001B[38;5;124;43m\"\u001B[39;49m\u001B[38;5;124;43mPOST\u001B[39;49m\u001B[38;5;124;43m\"\u001B[39;49m\u001B[43m,\u001B[49m\u001B[43m \u001B[49m\u001B[43mquery_route\u001B[49m\u001B[43m,\u001B[49m\u001B[43m \u001B[49m\u001B[43mdata\u001B[49m\u001B[43m)\u001B[49m\u001B[38;5;241m.\u001B[39mjson()\n\u001B[1;32m    340\u001B[0m \u001B[38;5;28;01mexcept\u001B[39;00m MlflowException \u001B[38;5;28;01mas\u001B[39;00m e:\n\u001B[1;32m    341\u001B[0m     \u001B[38;5;28;01mif\u001B[39;00m \u001B[38;5;28misinstance\u001B[39m(e\u001B[38;5;241m.\u001B[39m__cause__, requests\u001B[38;5;241m.\u001B[39mexceptions\u001B[38;5;241m.\u001B[39mTimeout):\n\nFile \u001B[0;32m/local_disk0/.ephemeral_nfs/envs/pythonEnv-2558cb66-9e74-49a6-8705-7723d2bb30e8/lib/python3.10/site-packages/mlflow/gateway/client.py:101\u001B[0m, in \u001B[0;36mMlflowGatewayClient._call_endpoint\u001B[0;34m(self, method, route, json_body)\u001B[0m\n\u001B[1;32m     90\u001B[0m     call_kwargs[\u001B[38;5;124m\"\u001B[39m\u001B[38;5;124mjson\u001B[39m\u001B[38;5;124m\"\u001B[39m] \u001B[38;5;241m=\u001B[39m json_body\n\u001B[1;32m     92\u001B[0m response \u001B[38;5;241m=\u001B[39m http_request(\n\u001B[1;32m     93\u001B[0m     host_creds\u001B[38;5;241m=\u001B[39m\u001B[38;5;28mself\u001B[39m\u001B[38;5;241m.\u001B[39m_host_creds,\n\u001B[1;32m     94\u001B[0m     endpoint\u001B[38;5;241m=\u001B[39mroute,\n\u001B[0;32m   (...)\u001B[0m\n\u001B[1;32m     99\u001B[0m     \u001B[38;5;241m*\u001B[39m\u001B[38;5;241m*\u001B[39mcall_kwargs,\n\u001B[1;32m    100\u001B[0m )\n\u001B[0;32m--> 101\u001B[0m \u001B[43maugmented_raise_for_status\u001B[49m\u001B[43m(\u001B[49m\u001B[43mresponse\u001B[49m\u001B[43m)\u001B[49m\n\u001B[1;32m    102\u001B[0m \u001B[38;5;28;01mreturn\u001B[39;00m response\n\nFile \u001B[0;32m/local_disk0/.ephemeral_nfs/envs/pythonEnv-2558cb66-9e74-49a6-8705-7723d2bb30e8/lib/python3.10/site-packages/mlflow/utils/request_utils.py:55\u001B[0m, in \u001B[0;36maugmented_raise_for_status\u001B[0;34m(response)\u001B[0m\n\u001B[1;32m     53\u001B[0m \u001B[38;5;28;01mexcept\u001B[39;00m HTTPError \u001B[38;5;28;01mas\u001B[39;00m e:\n\u001B[1;32m     54\u001B[0m     \u001B[38;5;28;01mif\u001B[39;00m response\u001B[38;5;241m.\u001B[39mtext:\n\u001B[0;32m---> 55\u001B[0m         \u001B[38;5;28;01mraise\u001B[39;00m HTTPError(\n\u001B[1;32m     56\u001B[0m             \u001B[38;5;124mf\u001B[39m\u001B[38;5;124m\"\u001B[39m\u001B[38;5;132;01m{\u001B[39;00me\u001B[38;5;132;01m}\u001B[39;00m\u001B[38;5;124m. Response text: \u001B[39m\u001B[38;5;132;01m{\u001B[39;00mresponse\u001B[38;5;241m.\u001B[39mtext\u001B[38;5;132;01m}\u001B[39;00m\u001B[38;5;124m\"\u001B[39m, request\u001B[38;5;241m=\u001B[39me\u001B[38;5;241m.\u001B[39mrequest, response\u001B[38;5;241m=\u001B[39me\u001B[38;5;241m.\u001B[39mresponse\n\u001B[1;32m     57\u001B[0m         )\n\u001B[1;32m     58\u001B[0m     \u001B[38;5;28;01melse\u001B[39;00m:\n\u001B[1;32m     59\u001B[0m         \u001B[38;5;28;01mraise\u001B[39;00m e\n\n\u001B[0;31mHTTPError\u001B[0m: 400 Client Error: Bad Request for url: https://oregon.cloud.databricks.com/gateway/completion/invocations. Response text: {\"error_code\":\"INVALID_PARAMETER_VALUE\",\"message\":\"INVALID_PARAMETER_VALUE: stop was not of type List[String]: null\"}",
       "errorSummary": "<span class='ansi-red-fg'>HTTPError</span>: 400 Client Error: Bad Request for url: https://oregon.cloud.databricks.com/gateway/completion/invocations. Response text: {\"error_code\":\"INVALID_PARAMETER_VALUE\",\"message\":\"INVALID_PARAMETER_VALUE: stop was not of type List[String]: null\"}",
       "errorTraceType": "ansi",
       "metadata": {},
       "type": "ipynbError"
      }
     },
     "output_type": "display_data"
    }
   ],
   "source": [
    "query = \"एचडीएफसी बैंक की वर्तमान ब्याज दर क्या है??\"\n",
    "\n",
    "retrieval_qa_chain.run(query)"
   ]
  },
  {
   "cell_type": "code",
   "execution_count": 0,
   "metadata": {
    "application/vnd.databricks.v1+cell": {
     "cellMetadata": {
      "byteLimit": 2048000,
      "rowLimit": 10000
     },
     "inputWidgets": {},
     "nuid": "2ed0d393-df4b-4016-8c78-42004cba980c",
     "showTitle": false,
     "title": ""
    }
   },
   "outputs": [
    {
     "output_type": "display_data",
     "data": {
      "application/vnd.jupyter.widget-view+json": {
       "model_id": "56173218d09e4cb193e4b18b57e97ee5",
       "version_major": 2,
       "version_minor": 0
      },
      "text/plain": [
       "Downloading .gitattributes:   0%|          | 0.00/1.18k [00:00<?, ?B/s]"
      ]
     },
     "metadata": {},
     "output_type": "display_data"
    },
    {
     "output_type": "display_data",
     "data": {
      "application/vnd.jupyter.widget-view+json": {
       "model_id": "d6e10aa3b120415caea116db823ff0f6",
       "version_major": 2,
       "version_minor": 0
      },
      "text/plain": [
       "Downloading 1_Pooling/config.json:   0%|          | 0.00/190 [00:00<?, ?B/s]"
      ]
     },
     "metadata": {},
     "output_type": "display_data"
    },
    {
     "output_type": "display_data",
     "data": {
      "application/vnd.jupyter.widget-view+json": {
       "model_id": "44964e52cc6342d6818e2eea7d50f752",
       "version_major": 2,
       "version_minor": 0
      },
      "text/plain": [
       "Downloading README.md:   0%|          | 0.00/10.6k [00:00<?, ?B/s]"
      ]
     },
     "metadata": {},
     "output_type": "display_data"
    },
    {
     "output_type": "display_data",
     "data": {
      "application/vnd.jupyter.widget-view+json": {
       "model_id": "85be5755618a4e2993c42db10d38ec6a",
       "version_major": 2,
       "version_minor": 0
      },
      "text/plain": [
       "Downloading config.json:   0%|          | 0.00/612 [00:00<?, ?B/s]"
      ]
     },
     "metadata": {},
     "output_type": "display_data"
    },
    {
     "output_type": "display_data",
     "data": {
      "application/vnd.jupyter.widget-view+json": {
       "model_id": "38f9a482b95b47a296de60b1cdd1b1d7",
       "version_major": 2,
       "version_minor": 0
      },
      "text/plain": [
       "Downloading (…)ce_transformers.json:   0%|          | 0.00/116 [00:00<?, ?B/s]"
      ]
     },
     "metadata": {},
     "output_type": "display_data"
    },
    {
     "output_type": "display_data",
     "data": {
      "application/vnd.jupyter.widget-view+json": {
       "model_id": "0ed44ff055384b358c0229d86343d7d3",
       "version_major": 2,
       "version_minor": 0
      },
      "text/plain": [
       "Downloading data_config.json:   0%|          | 0.00/39.3k [00:00<?, ?B/s]"
      ]
     },
     "metadata": {},
     "output_type": "display_data"
    },
    {
     "output_type": "display_data",
     "data": {
      "application/vnd.jupyter.widget-view+json": {
       "model_id": "a2eb0a8783404b39a0bb03d1e74270e2",
       "version_major": 2,
       "version_minor": 0
      },
      "text/plain": [
       "Downloading pytorch_model.bin:   0%|          | 0.00/90.9M [00:00<?, ?B/s]"
      ]
     },
     "metadata": {},
     "output_type": "display_data"
    },
    {
     "output_type": "display_data",
     "data": {
      "application/vnd.jupyter.widget-view+json": {
       "model_id": "9f17babf118b4c21b5b53f2897b606de",
       "version_major": 2,
       "version_minor": 0
      },
      "text/plain": [
       "Downloading (…)nce_bert_config.json:   0%|          | 0.00/53.0 [00:00<?, ?B/s]"
      ]
     },
     "metadata": {},
     "output_type": "display_data"
    },
    {
     "output_type": "display_data",
     "data": {
      "application/vnd.jupyter.widget-view+json": {
       "model_id": "9ec3b01267314c8980a0e91447f0bb17",
       "version_major": 2,
       "version_minor": 0
      },
      "text/plain": [
       "Downloading (…)cial_tokens_map.json:   0%|          | 0.00/112 [00:00<?, ?B/s]"
      ]
     },
     "metadata": {},
     "output_type": "display_data"
    },
    {
     "output_type": "display_data",
     "data": {
      "application/vnd.jupyter.widget-view+json": {
       "model_id": "e1c50e6b571e47ffba840d360d9cae6e",
       "version_major": 2,
       "version_minor": 0
      },
      "text/plain": [
       "Downloading tokenizer.json:   0%|          | 0.00/466k [00:00<?, ?B/s]"
      ]
     },
     "metadata": {},
     "output_type": "display_data"
    },
    {
     "output_type": "display_data",
     "data": {
      "application/vnd.jupyter.widget-view+json": {
       "model_id": "798a10be1ea841b199876ad2d81a43b2",
       "version_major": 2,
       "version_minor": 0
      },
      "text/plain": [
       "Downloading tokenizer_config.json:   0%|          | 0.00/350 [00:00<?, ?B/s]"
      ]
     },
     "metadata": {},
     "output_type": "display_data"
    },
    {
     "output_type": "display_data",
     "data": {
      "application/vnd.jupyter.widget-view+json": {
       "model_id": "815c9141b3424b89ae3794cff2e4e30a",
       "version_major": 2,
       "version_minor": 0
      },
      "text/plain": [
       "Downloading train_script.py:   0%|          | 0.00/13.2k [00:00<?, ?B/s]"
      ]
     },
     "metadata": {},
     "output_type": "display_data"
    },
    {
     "output_type": "display_data",
     "data": {
      "application/vnd.jupyter.widget-view+json": {
       "model_id": "76d2e7a2ba514012a136b6f5583da88c",
       "version_major": 2,
       "version_minor": 0
      },
      "text/plain": [
       "Downloading vocab.txt:   0%|          | 0.00/232k [00:00<?, ?B/s]"
      ]
     },
     "metadata": {},
     "output_type": "display_data"
    },
    {
     "output_type": "display_data",
     "data": {
      "application/vnd.jupyter.widget-view+json": {
       "model_id": "4712503558304870ae9e2f22c92619ce",
       "version_major": 2,
       "version_minor": 0
      },
      "text/plain": [
       "Downloading modules.json:   0%|          | 0.00/349 [00:00<?, ?B/s]"
      ]
     },
     "metadata": {},
     "output_type": "display_data"
    }
   ],
   "source": [
    "from langchain.embeddings.sentence_transformer import SentenceTransformerEmbeddings\n",
    "embedding_function = SentenceTransformerEmbeddings(model_name=\"all-MiniLM-L6-v2\")\n",
    "db = Chroma.from_documents(text_chunks, embedding_function)\n",
    "# query it\n",
    "\n",
    "query = \"एचडीएफसी बैंक की वर्तमान ब्याज दर क्या है?\"\n",
    "\n",
    "docs = db.similarity_search(query)"
   ]
  },
  {
   "cell_type": "code",
   "execution_count": 0,
   "metadata": {
    "application/vnd.databricks.v1+cell": {
     "cellMetadata": {
      "byteLimit": 2048000,
      "rowLimit": 10000
     },
     "inputWidgets": {},
     "nuid": "ea160e40-fe09-4dd5-b7a2-e9cd103fb745",
     "showTitle": false,
     "title": ""
    }
   },
   "outputs": [
    {
     "output_type": "stream",
     "name": "stdout",
     "output_type": "stream",
     "text": [
      "[Document(page_content='ये उच्च रेटिंग वाली हिंदी कॉमेडी फिल्मों के कुछ उदाहरण हैं। इस शैली में कई अन्य बेहतरीन फिल्में हैं, और व्यक्तिगत रुचि के आधार पर राय भिन्न हो सकती है।', metadata={'row': 6, 'source': '/Workspace/Users/shalu.tyagi@hdfcbank.com/Dataforfinetuning.csv'}), Document(page_content='instruction: एचडीएफसी बैंक की वर्तमान ब्याज दर क्या है?\\ncontext: \\nresponse: एचडीएफसी बैंक की सावधि जमा में ब्याज दर, आपकी जमा राशि, जमा अवधि और खाताधारक का प्रकार (व्यक्तिगत, वरिष्ठ नागरिक आदि) के आधार पर भिन्नता होती है। और आज के लिए, एचडीएफसी बैंक की सावधि जमा में ब्याज दर आपके लिए क्या है?\\n[वर्तमान तिथि] तक, एचडीएफसी बैंक द्वारा अपनी सावधि जमा पर दी जाने वाली वर्तमान ब्याज दरें यहां दी गई हैं:\\n ₹1 करोड़ तक की जमा राशि के लिए, जमा अवधि और खाताधारक के प्रकार के आधार पर ब्याज दरें 3.50% से 7.00% प्रति वर्ष तक होती हैं।₹1 करोड़ से अधिक की जमा राशि के लिए, जमा अवधि और खाताधारक के प्रकार के आधार पर, ब्याज दरें 3.75% से 7.25% प्रति वर्ष तक होती हैं।कृपया ध्यान दें कि ये ब्याज दरें परिवर्तन के अधीन हैं और बाजार की स्थितियों और अन्य कारकों के आधार पर भिन्न हो सकती हैं। सावधि जमा में निवेश करने से पहले एचडीएफसी बैंक द्वारा दी जाने वाली मौजूदा ब्याज दरों और शर्तों की जांच करना हमेशा एक अच्छा विचार है।', metadata={'row': 0, 'source': '/Workspace/Users/shalu.tyagi@hdfcbank.com/Dataforfinetuning.csv'}), Document(page_content='मोंटी पाइथन एंड द होली ग्रेल (1975) - राजा आर्थर और उनके शूरवीरों के बारे में एक कॉमेडी फिल्म जो होली ग्रेल की खोज में निकलते हैं। यह फिल्म अपने बेतुके हास्य और यादगार किरदारों के लिए जानी जाती है।\\nये उच्च श्रेणी की अंग्रेजी कॉमेडी फिल्मों के कुछ उदाहरण हैं। इस शैली में कई अन्य बेहतरीन फिल्में हैं, और व्यक्तिगत रुचि के आधार पर राय भिन्न हो सकती है।', metadata={'row': 7, 'source': '/Workspace/Users/shalu.tyagi@hdfcbank.com/Dataforfinetuning.csv'}), Document(page_content='instruction: मैं एचडीएफसी बैंक के लिए ऋण विवरण कैसे देख सकता हूं ?\\ncontext: \\nresponse: HDFC Bank के लिए ऋण विवरण देखने के लिए निम्न कदम से सकते हैं:\\nHDFC Bank का ओएल सITE पर जाएं: सबसे पहले HDFC Bank का ओएल सITE पर जाएं (hdfcbank.com).\\nलॉगिन करें: उपरोक्त सITE पर लॉगिन करें अपने मोबाइल नंबर और पासवर्ड के साथ.\\nनेट बैंकिंग का चयन करें: लॉगिन करने के बाद, नेट बैंकिंग का चयन करें.\\nऋण विवरण का चयन करें: नेट बैंकिंग में, ऋण विवरण का चयन करें.\\nऋण विवरण देखें: ऋण विवरण का चयन करने के बाद, आप ऋण विवरण देख सकते हैं.\\nइसके अलावा, HDFC Bank का मोबाइल ऐप भी उपलब्ध है, जहां से आप ऋण विवरण देख सकते हैं.\\nमोबाइल ऐप:\\nHDFC Bank मोबाइल ऐप डाउनलोड करें: गूगल प्ले स्टोर या ऐपल ऐप स्टोर से HDFC Bank मोबाइल ऐप डाउनलोड करें.\\nलॉगिन करें: मोबाइल ऐप में लॉगिन करें अपने मोबाइल नंबर और पासवर्ड के साथ.\\nनेट बैंकिंग का चयन करें: लॉगिन करने के बाद, नेट बैंकिंग का चयन करें.\\nऋण विवरण का चयन करें: नेट बैंकिंग में, ऋण विवरण का चयन करें.\\nऋण विवरण देखें: ऋण विवरण का चयन करने के बाद, आप ऋण विवरण देख सकते हैं.\\nइसके अलावा, HDFC Bank का कस्टमर केयर नंबर भी उपलब्ध है, जहां से आप ऋण विवरण के सवालों के लिए सहायता प्रदान करता है.', metadata={'row': 3, 'source': '/Workspace/Users/shalu.tyagi@hdfcbank.com/Dataforfinetuning.csv'})]\n"
     ]
    }
   ],
   "source": [
    "print(docs)"
   ]
  },
  {
   "cell_type": "code",
   "execution_count": 0,
   "metadata": {
    "application/vnd.databricks.v1+cell": {
     "cellMetadata": {},
     "inputWidgets": {},
     "nuid": "8d9d42da-67d1-4134-a0fe-b3abe757ec3f",
     "showTitle": false,
     "title": ""
    }
   },
   "outputs": [],
   "source": []
  },
  {
   "cell_type": "code",
   "execution_count": 0,
   "metadata": {
    "application/vnd.databricks.v1+cell": {
     "cellMetadata": {
      "byteLimit": 2048000,
      "rowLimit": 10000
     },
     "inputWidgets": {},
     "nuid": "1a1c1633-09ae-413a-96b7-6dc137dafbc6",
     "showTitle": false,
     "title": ""
    }
   },
   "outputs": [
    {
     "output_type": "display_data",
     "data": {
      "text/plain": [
       "\u001B[0;31m---------------------------------------------------------------------------\u001B[0m\n",
       "\u001B[0;31mTypeError\u001B[0m                                 Traceback (most recent call last)\n",
       "File \u001B[0;32m<command-2358992249830762>:13\u001B[0m\n",
       "\u001B[1;32m      6\u001B[0m mosaicml_embedding_route \u001B[38;5;241m=\u001B[39m MlflowAIGatewayEmbeddings(\n",
       "\u001B[1;32m      7\u001B[0m   gateway_uri\u001B[38;5;241m=\u001B[39m\u001B[38;5;124m\"\u001B[39m\u001B[38;5;124mdatabricks\u001B[39m\u001B[38;5;124m\"\u001B[39m,\n",
       "\u001B[1;32m      8\u001B[0m   route\u001B[38;5;241m=\u001B[39m\u001B[38;5;124m\"\u001B[39m\u001B[38;5;124membedding\u001B[39m\u001B[38;5;124m\"\u001B[39m\n",
       "\u001B[1;32m      9\u001B[0m )\n",
       "\u001B[1;32m     11\u001B[0m \u001B[38;5;66;03m# load it into Chroma\u001B[39;00m\n",
       "\u001B[0;32m---> 13\u001B[0m db \u001B[38;5;241m=\u001B[39m Chroma\u001B[38;5;241m.\u001B[39mfrom_documents(\n",
       "\u001B[1;32m     14\u001B[0m   text_chunks, \n",
       "\u001B[1;32m     15\u001B[0m   embedding_function\u001B[38;5;241m=\u001B[39mmosaicml_embedding_route\n",
       "\u001B[1;32m     16\u001B[0m )\n",
       "\n",
       "File \u001B[0;32m/local_disk0/.ephemeral_nfs/envs/pythonEnv-040d116a-2212-4034-969e-fa48973abd0c/lib/python3.10/site-packages/langchain/vectorstores/chroma.py:771\u001B[0m, in \u001B[0;36mChroma.from_documents\u001B[0;34m(cls, documents, embedding, ids, collection_name, persist_directory, client_settings, client, collection_metadata, **kwargs)\u001B[0m\n",
       "\u001B[1;32m    769\u001B[0m texts \u001B[38;5;241m=\u001B[39m [doc\u001B[38;5;241m.\u001B[39mpage_content \u001B[38;5;28;01mfor\u001B[39;00m doc \u001B[38;5;129;01min\u001B[39;00m documents]\n",
       "\u001B[1;32m    770\u001B[0m metadatas \u001B[38;5;241m=\u001B[39m [doc\u001B[38;5;241m.\u001B[39mmetadata \u001B[38;5;28;01mfor\u001B[39;00m doc \u001B[38;5;129;01min\u001B[39;00m documents]\n",
       "\u001B[0;32m--> 771\u001B[0m \u001B[38;5;28;01mreturn\u001B[39;00m \u001B[38;5;28;43mcls\u001B[39;49m\u001B[38;5;241;43m.\u001B[39;49m\u001B[43mfrom_texts\u001B[49m\u001B[43m(\u001B[49m\n",
       "\u001B[1;32m    772\u001B[0m \u001B[43m    \u001B[49m\u001B[43mtexts\u001B[49m\u001B[38;5;241;43m=\u001B[39;49m\u001B[43mtexts\u001B[49m\u001B[43m,\u001B[49m\n",
       "\u001B[1;32m    773\u001B[0m \u001B[43m    \u001B[49m\u001B[43membedding\u001B[49m\u001B[38;5;241;43m=\u001B[39;49m\u001B[43membedding\u001B[49m\u001B[43m,\u001B[49m\n",
       "\u001B[1;32m    774\u001B[0m \u001B[43m    \u001B[49m\u001B[43mmetadatas\u001B[49m\u001B[38;5;241;43m=\u001B[39;49m\u001B[43mmetadatas\u001B[49m\u001B[43m,\u001B[49m\n",
       "\u001B[1;32m    775\u001B[0m \u001B[43m    \u001B[49m\u001B[43mids\u001B[49m\u001B[38;5;241;43m=\u001B[39;49m\u001B[43mids\u001B[49m\u001B[43m,\u001B[49m\n",
       "\u001B[1;32m    776\u001B[0m \u001B[43m    \u001B[49m\u001B[43mcollection_name\u001B[49m\u001B[38;5;241;43m=\u001B[39;49m\u001B[43mcollection_name\u001B[49m\u001B[43m,\u001B[49m\n",
       "\u001B[1;32m    777\u001B[0m \u001B[43m    \u001B[49m\u001B[43mpersist_directory\u001B[49m\u001B[38;5;241;43m=\u001B[39;49m\u001B[43mpersist_directory\u001B[49m\u001B[43m,\u001B[49m\n",
       "\u001B[1;32m    778\u001B[0m \u001B[43m    \u001B[49m\u001B[43mclient_settings\u001B[49m\u001B[38;5;241;43m=\u001B[39;49m\u001B[43mclient_settings\u001B[49m\u001B[43m,\u001B[49m\n",
       "\u001B[1;32m    779\u001B[0m \u001B[43m    \u001B[49m\u001B[43mclient\u001B[49m\u001B[38;5;241;43m=\u001B[39;49m\u001B[43mclient\u001B[49m\u001B[43m,\u001B[49m\n",
       "\u001B[1;32m    780\u001B[0m \u001B[43m    \u001B[49m\u001B[43mcollection_metadata\u001B[49m\u001B[38;5;241;43m=\u001B[39;49m\u001B[43mcollection_metadata\u001B[49m\u001B[43m,\u001B[49m\n",
       "\u001B[1;32m    781\u001B[0m \u001B[43m    \u001B[49m\u001B[38;5;241;43m*\u001B[39;49m\u001B[38;5;241;43m*\u001B[39;49m\u001B[43mkwargs\u001B[49m\u001B[43m,\u001B[49m\n",
       "\u001B[1;32m    782\u001B[0m \u001B[43m\u001B[49m\u001B[43m)\u001B[49m\n",
       "\n",
       "File \u001B[0;32m/local_disk0/.ephemeral_nfs/envs/pythonEnv-040d116a-2212-4034-969e-fa48973abd0c/lib/python3.10/site-packages/langchain/vectorstores/chroma.py:707\u001B[0m, in \u001B[0;36mChroma.from_texts\u001B[0;34m(cls, texts, embedding, metadatas, ids, collection_name, persist_directory, client_settings, client, collection_metadata, **kwargs)\u001B[0m\n",
       "\u001B[1;32m    674\u001B[0m \u001B[38;5;129m@classmethod\u001B[39m\n",
       "\u001B[1;32m    675\u001B[0m \u001B[38;5;28;01mdef\u001B[39;00m \u001B[38;5;21mfrom_texts\u001B[39m(\n",
       "\u001B[1;32m    676\u001B[0m     \u001B[38;5;28mcls\u001B[39m: Type[Chroma],\n",
       "\u001B[0;32m   (...)\u001B[0m\n",
       "\u001B[1;32m    686\u001B[0m     \u001B[38;5;241m*\u001B[39m\u001B[38;5;241m*\u001B[39mkwargs: Any,\n",
       "\u001B[1;32m    687\u001B[0m ) \u001B[38;5;241m-\u001B[39m\u001B[38;5;241m>\u001B[39m Chroma:\n",
       "\u001B[1;32m    688\u001B[0m     \u001B[38;5;124;03m\"\"\"Create a Chroma vectorstore from a raw documents.\u001B[39;00m\n",
       "\u001B[1;32m    689\u001B[0m \n",
       "\u001B[1;32m    690\u001B[0m \u001B[38;5;124;03m    If a persist_directory is specified, the collection will be persisted there.\u001B[39;00m\n",
       "\u001B[0;32m   (...)\u001B[0m\n",
       "\u001B[1;32m    705\u001B[0m \u001B[38;5;124;03m        Chroma: Chroma vectorstore.\u001B[39;00m\n",
       "\u001B[1;32m    706\u001B[0m \u001B[38;5;124;03m    \"\"\"\u001B[39;00m\n",
       "\u001B[0;32m--> 707\u001B[0m     chroma_collection \u001B[38;5;241m=\u001B[39m \u001B[38;5;28mcls\u001B[39m(\n",
       "\u001B[1;32m    708\u001B[0m         collection_name\u001B[38;5;241m=\u001B[39mcollection_name,\n",
       "\u001B[1;32m    709\u001B[0m         embedding_function\u001B[38;5;241m=\u001B[39membedding,\n",
       "\u001B[1;32m    710\u001B[0m         persist_directory\u001B[38;5;241m=\u001B[39mpersist_directory,\n",
       "\u001B[1;32m    711\u001B[0m         client_settings\u001B[38;5;241m=\u001B[39mclient_settings,\n",
       "\u001B[1;32m    712\u001B[0m         client\u001B[38;5;241m=\u001B[39mclient,\n",
       "\u001B[1;32m    713\u001B[0m         collection_metadata\u001B[38;5;241m=\u001B[39mcollection_metadata,\n",
       "\u001B[1;32m    714\u001B[0m         \u001B[38;5;241m*\u001B[39m\u001B[38;5;241m*\u001B[39mkwargs,\n",
       "\u001B[1;32m    715\u001B[0m     )\n",
       "\u001B[1;32m    716\u001B[0m     \u001B[38;5;28;01mif\u001B[39;00m ids \u001B[38;5;129;01mis\u001B[39;00m \u001B[38;5;28;01mNone\u001B[39;00m:\n",
       "\u001B[1;32m    717\u001B[0m         ids \u001B[38;5;241m=\u001B[39m [\u001B[38;5;28mstr\u001B[39m(uuid\u001B[38;5;241m.\u001B[39muuid1()) \u001B[38;5;28;01mfor\u001B[39;00m _ \u001B[38;5;129;01min\u001B[39;00m texts]\n",
       "\n",
       "\u001B[0;31mTypeError\u001B[0m: langchain.vectorstores.chroma.Chroma() got multiple values for keyword argument 'embedding_function'"
      ]
     },
     "metadata": {
      "application/vnd.databricks.v1+output": {
       "arguments": {},
       "data": "\u001B[0;31m---------------------------------------------------------------------------\u001B[0m\n\u001B[0;31mTypeError\u001B[0m                                 Traceback (most recent call last)\nFile \u001B[0;32m<command-2358992249830762>:13\u001B[0m\n\u001B[1;32m      6\u001B[0m mosaicml_embedding_route \u001B[38;5;241m=\u001B[39m MlflowAIGatewayEmbeddings(\n\u001B[1;32m      7\u001B[0m   gateway_uri\u001B[38;5;241m=\u001B[39m\u001B[38;5;124m\"\u001B[39m\u001B[38;5;124mdatabricks\u001B[39m\u001B[38;5;124m\"\u001B[39m,\n\u001B[1;32m      8\u001B[0m   route\u001B[38;5;241m=\u001B[39m\u001B[38;5;124m\"\u001B[39m\u001B[38;5;124membedding\u001B[39m\u001B[38;5;124m\"\u001B[39m\n\u001B[1;32m      9\u001B[0m )\n\u001B[1;32m     11\u001B[0m \u001B[38;5;66;03m# load it into Chroma\u001B[39;00m\n\u001B[0;32m---> 13\u001B[0m db \u001B[38;5;241m=\u001B[39m Chroma\u001B[38;5;241m.\u001B[39mfrom_documents(\n\u001B[1;32m     14\u001B[0m   text_chunks, \n\u001B[1;32m     15\u001B[0m   embedding_function\u001B[38;5;241m=\u001B[39mmosaicml_embedding_route\n\u001B[1;32m     16\u001B[0m )\n\nFile \u001B[0;32m/local_disk0/.ephemeral_nfs/envs/pythonEnv-040d116a-2212-4034-969e-fa48973abd0c/lib/python3.10/site-packages/langchain/vectorstores/chroma.py:771\u001B[0m, in \u001B[0;36mChroma.from_documents\u001B[0;34m(cls, documents, embedding, ids, collection_name, persist_directory, client_settings, client, collection_metadata, **kwargs)\u001B[0m\n\u001B[1;32m    769\u001B[0m texts \u001B[38;5;241m=\u001B[39m [doc\u001B[38;5;241m.\u001B[39mpage_content \u001B[38;5;28;01mfor\u001B[39;00m doc \u001B[38;5;129;01min\u001B[39;00m documents]\n\u001B[1;32m    770\u001B[0m metadatas \u001B[38;5;241m=\u001B[39m [doc\u001B[38;5;241m.\u001B[39mmetadata \u001B[38;5;28;01mfor\u001B[39;00m doc \u001B[38;5;129;01min\u001B[39;00m documents]\n\u001B[0;32m--> 771\u001B[0m \u001B[38;5;28;01mreturn\u001B[39;00m \u001B[38;5;28;43mcls\u001B[39;49m\u001B[38;5;241;43m.\u001B[39;49m\u001B[43mfrom_texts\u001B[49m\u001B[43m(\u001B[49m\n\u001B[1;32m    772\u001B[0m \u001B[43m    \u001B[49m\u001B[43mtexts\u001B[49m\u001B[38;5;241;43m=\u001B[39;49m\u001B[43mtexts\u001B[49m\u001B[43m,\u001B[49m\n\u001B[1;32m    773\u001B[0m \u001B[43m    \u001B[49m\u001B[43membedding\u001B[49m\u001B[38;5;241;43m=\u001B[39;49m\u001B[43membedding\u001B[49m\u001B[43m,\u001B[49m\n\u001B[1;32m    774\u001B[0m \u001B[43m    \u001B[49m\u001B[43mmetadatas\u001B[49m\u001B[38;5;241;43m=\u001B[39;49m\u001B[43mmetadatas\u001B[49m\u001B[43m,\u001B[49m\n\u001B[1;32m    775\u001B[0m \u001B[43m    \u001B[49m\u001B[43mids\u001B[49m\u001B[38;5;241;43m=\u001B[39;49m\u001B[43mids\u001B[49m\u001B[43m,\u001B[49m\n\u001B[1;32m    776\u001B[0m \u001B[43m    \u001B[49m\u001B[43mcollection_name\u001B[49m\u001B[38;5;241;43m=\u001B[39;49m\u001B[43mcollection_name\u001B[49m\u001B[43m,\u001B[49m\n\u001B[1;32m    777\u001B[0m \u001B[43m    \u001B[49m\u001B[43mpersist_directory\u001B[49m\u001B[38;5;241;43m=\u001B[39;49m\u001B[43mpersist_directory\u001B[49m\u001B[43m,\u001B[49m\n\u001B[1;32m    778\u001B[0m \u001B[43m    \u001B[49m\u001B[43mclient_settings\u001B[49m\u001B[38;5;241;43m=\u001B[39;49m\u001B[43mclient_settings\u001B[49m\u001B[43m,\u001B[49m\n\u001B[1;32m    779\u001B[0m \u001B[43m    \u001B[49m\u001B[43mclient\u001B[49m\u001B[38;5;241;43m=\u001B[39;49m\u001B[43mclient\u001B[49m\u001B[43m,\u001B[49m\n\u001B[1;32m    780\u001B[0m \u001B[43m    \u001B[49m\u001B[43mcollection_metadata\u001B[49m\u001B[38;5;241;43m=\u001B[39;49m\u001B[43mcollection_metadata\u001B[49m\u001B[43m,\u001B[49m\n\u001B[1;32m    781\u001B[0m \u001B[43m    \u001B[49m\u001B[38;5;241;43m*\u001B[39;49m\u001B[38;5;241;43m*\u001B[39;49m\u001B[43mkwargs\u001B[49m\u001B[43m,\u001B[49m\n\u001B[1;32m    782\u001B[0m \u001B[43m\u001B[49m\u001B[43m)\u001B[49m\n\nFile \u001B[0;32m/local_disk0/.ephemeral_nfs/envs/pythonEnv-040d116a-2212-4034-969e-fa48973abd0c/lib/python3.10/site-packages/langchain/vectorstores/chroma.py:707\u001B[0m, in \u001B[0;36mChroma.from_texts\u001B[0;34m(cls, texts, embedding, metadatas, ids, collection_name, persist_directory, client_settings, client, collection_metadata, **kwargs)\u001B[0m\n\u001B[1;32m    674\u001B[0m \u001B[38;5;129m@classmethod\u001B[39m\n\u001B[1;32m    675\u001B[0m \u001B[38;5;28;01mdef\u001B[39;00m \u001B[38;5;21mfrom_texts\u001B[39m(\n\u001B[1;32m    676\u001B[0m     \u001B[38;5;28mcls\u001B[39m: Type[Chroma],\n\u001B[0;32m   (...)\u001B[0m\n\u001B[1;32m    686\u001B[0m     \u001B[38;5;241m*\u001B[39m\u001B[38;5;241m*\u001B[39mkwargs: Any,\n\u001B[1;32m    687\u001B[0m ) \u001B[38;5;241m-\u001B[39m\u001B[38;5;241m>\u001B[39m Chroma:\n\u001B[1;32m    688\u001B[0m     \u001B[38;5;124;03m\"\"\"Create a Chroma vectorstore from a raw documents.\u001B[39;00m\n\u001B[1;32m    689\u001B[0m \n\u001B[1;32m    690\u001B[0m \u001B[38;5;124;03m    If a persist_directory is specified, the collection will be persisted there.\u001B[39;00m\n\u001B[0;32m   (...)\u001B[0m\n\u001B[1;32m    705\u001B[0m \u001B[38;5;124;03m        Chroma: Chroma vectorstore.\u001B[39;00m\n\u001B[1;32m    706\u001B[0m \u001B[38;5;124;03m    \"\"\"\u001B[39;00m\n\u001B[0;32m--> 707\u001B[0m     chroma_collection \u001B[38;5;241m=\u001B[39m \u001B[38;5;28mcls\u001B[39m(\n\u001B[1;32m    708\u001B[0m         collection_name\u001B[38;5;241m=\u001B[39mcollection_name,\n\u001B[1;32m    709\u001B[0m         embedding_function\u001B[38;5;241m=\u001B[39membedding,\n\u001B[1;32m    710\u001B[0m         persist_directory\u001B[38;5;241m=\u001B[39mpersist_directory,\n\u001B[1;32m    711\u001B[0m         client_settings\u001B[38;5;241m=\u001B[39mclient_settings,\n\u001B[1;32m    712\u001B[0m         client\u001B[38;5;241m=\u001B[39mclient,\n\u001B[1;32m    713\u001B[0m         collection_metadata\u001B[38;5;241m=\u001B[39mcollection_metadata,\n\u001B[1;32m    714\u001B[0m         \u001B[38;5;241m*\u001B[39m\u001B[38;5;241m*\u001B[39mkwargs,\n\u001B[1;32m    715\u001B[0m     )\n\u001B[1;32m    716\u001B[0m     \u001B[38;5;28;01mif\u001B[39;00m ids \u001B[38;5;129;01mis\u001B[39;00m \u001B[38;5;28;01mNone\u001B[39;00m:\n\u001B[1;32m    717\u001B[0m         ids \u001B[38;5;241m=\u001B[39m [\u001B[38;5;28mstr\u001B[39m(uuid\u001B[38;5;241m.\u001B[39muuid1()) \u001B[38;5;28;01mfor\u001B[39;00m _ \u001B[38;5;129;01min\u001B[39;00m texts]\n\n\u001B[0;31mTypeError\u001B[0m: langchain.vectorstores.chroma.Chroma() got multiple values for keyword argument 'embedding_function'",
       "errorSummary": "<span class='ansi-red-fg'>TypeError</span>: langchain.vectorstores.chroma.Chroma() got multiple values for keyword argument 'embedding_function'",
       "errorTraceType": "ansi",
       "metadata": {},
       "type": "ipynbError"
      }
     },
     "output_type": "display_data"
    }
   ],
   "source": [
    "from langchain.embeddings import MlflowAIGatewayEmbeddings\n",
    "from langchain.vectorstores import Chroma\n",
    "\n",
    "# Retrieve the AI Gateway Route\n",
    "\n",
    "mosaicml_embedding_route = MlflowAIGatewayEmbeddings(\n",
    "  gateway_uri=\"databricks\",\n",
    "  route=\"embedding\"\n",
    ")\n",
    "\n",
    "# load it into Chroma\n",
    "\n",
    "db = Chroma.from_documents(\n",
    "  text_chunks, \n",
    "  embedding_function=mosaicml_embedding_route\n",
    ")"
   ]
  },
  {
   "cell_type": "code",
   "execution_count": 0,
   "metadata": {
    "application/vnd.databricks.v1+cell": {
     "cellMetadata": {
      "byteLimit": 2048000,
      "rowLimit": 10000
     },
     "inputWidgets": {},
     "nuid": "d180698f-40e1-4a2e-8c93-9d0362048679",
     "showTitle": false,
     "title": ""
    }
   },
   "outputs": [
    {
     "output_type": "stream",
     "name": "stdout",
     "output_type": "stream",
     "text": [
      "Package                        Version\n------------------------------ -------------\nabsl-py                        1.0.0\naccelerate                     0.19.0\naiohttp                        3.8.4\naiosignal                      1.3.1\nalembic                        1.12.1\nanyio                          3.7.1\nappdirs                        1.4.4\nargon2-cffi                    21.3.0\nargon2-cffi-bindings           21.2.0\nastor                          0.8.1\nasttokens                      2.2.1\nastunparse                     1.6.3\nasync-timeout                  4.0.2\nattrs                          21.4.0\naudioread                      3.0.0\nazure-core                     1.27.1\nazure-cosmos                   4.3.1b1\nazure-storage-blob             12.17.0b1\nazure-storage-file-datalake    12.11.0\nbackcall                       0.2.0\nbcrypt                         3.2.0\nbeautifulsoup4                 4.11.1\nblack                          22.6.0\nbleach                         4.1.0\nblinker                        1.4\nblis                           0.7.9\nboto3                          1.24.28\nbotocore                       1.27.28\ncachetools                     4.2.4\ncatalogue                      2.0.8\ncategory-encoders              2.6.0\ncertifi                        2022.9.14\ncffi                           1.15.1\nchardet                        4.0.0\ncharset-normalizer             2.0.4\nclick                          8.0.4\ncloudpickle                    2.0.0\ncmdstanpy                      1.1.0\nconfection                     0.0.4\nconfigparser                   5.2.0\nconvertdate                    2.4.0\ncryptography                   37.0.1\ncycler                         0.11.0\ncymem                          2.0.7\nCython                         0.29.32\ndacite                         1.8.1\ndatabricks-automl-runtime      0.2.16\ndatabricks-cli                 0.17.7\ndatabricks-feature-engineering 0.1.2\ndatabricks-feature-store       0.13.6\ndatabricks-sdk                 0.1.6\ndatabricks-vectorsearch        0.21\ndataclasses-json               0.5.8\ndatasets                       2.12.0\ndbl-tempo                      0.1.23\ndbus-python                    1.2.18\ndebugpy                        1.5.1\ndecorator                      5.1.1\ndefusedxml                     0.7.1\ndill                           0.3.4\ndiskcache                      5.6.1\ndistlib                        0.3.6\ndistro                         1.7.0\ndistro-info                    1.1+ubuntu0.1\ndocker                         6.1.3\ndocstring-to-markdown          0.12\neinops                         0.6.1\nentrypoints                    0.4\nephem                          4.1.4\nevaluate                       0.4.0\nexceptiongroup                 1.2.0\nexecuting                      1.2.0\nfacets-overview                1.0.3\nfaiss-cpu                      1.7.4\nfastjsonschema                 2.17.1\nfasttext                       0.9.2\nfilelock                       3.6.0\nflash-attn                     1.0.5\nFlask                          1.1.2+db1\nflatbuffers                    23.5.26\nfonttools                      4.25.0\nfrozenlist                     1.3.3\nfsspec                         2022.7.1\nfuture                         0.18.2\ngast                           0.4.0\ngitdb                          4.0.10\nGitPython                      3.1.27\ngoogle-api-core                2.8.2\ngoogle-auth                    1.33.0\ngoogle-auth-oauthlib           0.4.6\ngoogle-cloud-core              2.3.2\ngoogle-cloud-storage           2.9.0\ngoogle-crc32c                  1.5.0\ngoogle-pasta                   0.2.0\ngoogle-resumable-media         2.5.0\ngoogleapis-common-protos       1.56.4\ngreenlet                       1.1.1\ngrpcio                         1.48.1\ngrpcio-status                  1.48.1\ngunicorn                       20.1.0\ngviz-api                       1.10.0\nh5py                           3.7.0\nholidays                       0.25\nhorovod                        0.28.0\nhtmlmin                        0.1.12\nhttplib2                       0.20.2\nhuggingface-hub                0.15.1\nidna                           3.3\nImageHash                      4.3.1\nimbalanced-learn               0.8.1\nimportlib-metadata             4.11.3\nimportlib-resources            5.12.0\nipykernel                      6.17.1\nipython                        8.10.0\nipython-genutils               0.2.0\nipywidgets                     7.7.2\nisodate                        0.6.1\nitsdangerous                   2.0.1\njedi                           0.18.1\njeepney                        0.7.1\nJinja2                         2.11.3\njmespath                       0.10.0\njoblib                         1.2.0\njoblibspark                    0.5.1\njsonpatch                      1.33\njsonpointer                    2.4\njsonschema                     4.16.0\njupyter-client                 7.3.4\njupyter_core                   4.11.2\njupyterlab-pygments            0.1.2\njupyterlab-widgets             1.0.0\nkeras                          2.11.0\nkeyring                        23.5.0\nkiwisolver                     1.4.2\nkorean-lunar-calendar          0.3.1\nlangchain                      0.0.344\nlangchain-core                 0.0.8\nlangcodes                      3.3.0\nlangsmith                      0.0.67\nlaunchpadlib                   1.10.16\nlazr.restfulclient             0.14.4\nlazr.uri                       1.0.6\nlazy_loader                    0.2\nlibclang                       15.0.6.1\nlibrosa                        0.10.0\nlightgbm                       3.3.5\nllvmlite                       0.38.0\nLunarCalendar                  0.0.9\nlxml                           4.9.3\nMako                           1.2.0\nMarkdown                       3.3.4\nMarkupSafe                     2.0.1\nmarshmallow                    3.19.0\nmarshmallow-enum               1.5.1\nmatplotlib                     3.5.2\nmatplotlib-inline              0.1.6\nmccabe                         0.7.0\nmistune                        0.8.4\nmleap                          0.20.0\nmlflow                         2.8.2.dev0\nmlflow-skinny                  2.4.2\nmore-itertools                 8.10.0\nmsgpack                        1.0.5\nmultidict                      6.0.4\nmultimethod                    1.9.1\nmultiprocess                   0.70.12.2\nmurmurhash                     1.0.9\nmypy-extensions                0.4.3\nnbclient                       0.5.13\nnbconvert                      6.4.4\nnbformat                       5.5.0\nnest-asyncio                   1.5.5\nnetworkx                       2.8.4\nninja                          1.11.1\nnltk                           3.7\nnodeenv                        1.8.0\nnotebook                       6.4.12\nnumba                          0.55.1\nnumexpr                        2.8.4\nnumpy                          1.21.5\noauthlib                       3.2.0\nopenai                         0.27.7\nopenapi-schema-pydantic        1.2.4\nopt-einsum                     3.3.0\npackaging                      21.3\npandas                         1.4.4\npandocfilters                  1.5.0\nparamiko                       2.9.2\nparso                          0.8.3\npathspec                       0.9.0\npathy                          0.10.1\npatsy                          0.5.2\npetastorm                      0.12.1\npexpect                        4.8.0\nphik                           0.12.3\npickleshare                    0.7.5\nPillow                         9.2.0\npip                            22.2.2\nplatformdirs                   2.5.2\nplotly                         5.9.0\npluggy                         1.0.0\npmdarima                       2.0.3\npooch                          1.7.0\npreshed                        3.0.8\nprompt-toolkit                 3.0.36\nprophet                        1.1.3\nprotobuf                       3.19.4\npsutil                         5.9.0\npsycopg2                       2.9.3\nptyprocess                     0.7.0\npure-eval                      0.2.2\npyarrow                        8.0.0\npyasn1                         0.4.8\npyasn1-modules                 0.2.8\npybind11                       2.10.4\npycparser                      2.21\npydantic                       1.10.9\npyflakes                       3.0.1\nPygments                       2.11.2\nPyGObject                      3.42.1\nPyJWT                          2.3.0\nPyMeeus                        0.5.12\nPyNaCl                         1.5.0\npyodbc                         4.0.32\npyparsing                      3.0.9\npyright                        1.1.294\npyrsistent                     0.18.0\npytesseract                    0.3.10\npython-apt                     2.4.0+ubuntu2\npython-dateutil                2.8.2\npython-editor                  1.0.4\npython-lsp-jsonrpc             1.0.0\npython-lsp-server              1.7.1\npytoolconfig                   1.2.2\npytz                           2022.1\nPyWavelets                     1.3.0\nPyYAML                         6.0\npyzmq                          23.2.0\nquerystring-parser             1.2.4\nregex                          2022.7.9\nrequests                       2.28.1\nrequests-oauthlib              1.3.1\nresponses                      0.18.0\nrope                           1.7.0\nrsa                            4.9\ns3transfer                     0.6.0\nsafetensors                    0.4.1\nscikit-learn                   1.1.1\nscipy                          1.9.1\nseaborn                        0.11.2\nSecretStorage                  3.3.1\nSend2Trash                     1.8.0\nsentence-transformers          2.2.2\nsentencepiece                  0.1.99\nsetuptools                     63.4.1\nshap                           0.41.0\nsimplejson                     3.17.6\nsix                            1.16.0\nslicer                         0.0.7\nsmart-open                     5.2.1\nsmmap                          5.0.0\nsniffio                        1.3.0\nsoundfile                      0.12.1\nsoupsieve                      2.3.1\nsoxr                           0.3.5\nspacy                          3.5.3\nspacy-legacy                   3.0.12\nspacy-loggers                  1.0.4\nspark-tensorflow-distributor   1.0.0\nSQLAlchemy                     1.4.39\nsqlparse                       0.4.2\nsrsly                          2.4.6\nssh-import-id                  5.11\nstack-data                     0.6.2\nstatsmodels                    0.13.2\ntabulate                       0.8.10\ntangled-up-in-unicode          0.2.0\ntenacity                       8.1.0\ntensorboard                    2.11.0\ntensorboard-data-server        0.6.1\ntensorboard-plugin-profile     2.11.2\ntensorboard-plugin-wit         1.8.1\ntensorflow                     2.11.1\ntensorflow-estimator           2.11.0\ntensorflow-io-gcs-filesystem   0.32.0\ntermcolor                      2.3.0\nterminado                      0.13.1\ntestpath                       0.6.0\nthinc                          8.1.10\nthreadpoolctl                  2.2.0\ntiktoken                       0.4.0\ntokenize-rt                    4.2.1\ntokenizers                     0.13.3\ntomli                          2.0.1\ntorch                          1.13.1+cu117\ntorchvision                    0.14.1+cu117\ntornado                        6.1\ntqdm                           4.64.1\ntraitlets                      5.1.1\ntransformers                   4.30.2\ntypeguard                      2.13.3\ntyper                          0.7.0\ntyping_extensions              4.3.0\ntyping-inspect                 0.9.0\nujson                          5.4.0\nunattended-upgrades            0.1\nurllib3                        1.26.11\nvirtualenv                     20.16.3\nvisions                        0.7.5\nwadllib                        1.3.6\nwasabi                         1.1.2\nwcwidth                        0.2.5\nwebencodings                   0.5.1\nwebsocket-client               0.58.0\nWerkzeug                       2.0.3\nwhatthepatch                   1.0.2\nwheel                          0.37.1\nwidgetsnbextension             3.6.1\nwordcloud                      1.9.2\nwrapt                          1.14.1\nxgboost                        1.7.5\nxxhash                         3.2.0\nyapf                           0.31.0\nyarl                           1.9.2\nydata-profiling                4.2.0\nzipp                           3.8.0\n"
     ]
    }
   ],
   "source": [
    "pip list"
   ]
  },
  {
   "cell_type": "code",
   "execution_count": 0,
   "metadata": {
    "application/vnd.databricks.v1+cell": {
     "cellMetadata": {
      "byteLimit": 2048000,
      "rowLimit": 10000
     },
     "inputWidgets": {},
     "nuid": "e1a7efad-9bbd-4dba-bc2b-ae5a0b743f5d",
     "showTitle": false,
     "title": ""
    }
   },
   "outputs": [],
   "source": [
    "import langchain"
   ]
  },
  {
   "cell_type": "code",
   "execution_count": 0,
   "metadata": {
    "application/vnd.databricks.v1+cell": {
     "cellMetadata": {
      "byteLimit": 2048000,
      "rowLimit": 10000
     },
     "inputWidgets": {},
     "nuid": "32d2a942-0003-4fc1-abb2-fba34f5680f8",
     "showTitle": false,
     "title": ""
    }
   },
   "outputs": [],
   "source": [
    "from langchain.embeddings.mlflow_gateway import MlflowAIGatewayEmbeddings"
   ]
  },
  {
   "cell_type": "code",
   "execution_count": 0,
   "metadata": {
    "application/vnd.databricks.v1+cell": {
     "cellMetadata": {
      "byteLimit": 2048000,
      "rowLimit": 10000
     },
     "inputWidgets": {},
     "nuid": "ee4b2088-1c76-4fc6-825e-95adaacfd2f2",
     "showTitle": false,
     "title": ""
    }
   },
   "outputs": [],
   "source": [
    "from langchain.embeddings import MosaicMLInstructorEmbeddings"
   ]
  },
  {
   "cell_type": "code",
   "execution_count": 0,
   "metadata": {
    "application/vnd.databricks.v1+cell": {
     "cellMetadata": {
      "byteLimit": 2048000,
      "rowLimit": 10000
     },
     "inputWidgets": {},
     "nuid": "a5de93b9-b4a3-41c8-9dba-94134ed7688f",
     "showTitle": false,
     "title": ""
    }
   },
   "outputs": [],
   "source": [
    "import os\n",
    "\n",
    "os.environ[\"MOSAICML_API_TOKEN\"] = '30HUkJ.UEvkMW9tAyMS7v91L4-e-gA0r.MKC0GUBphZ.2y5'"
   ]
  },
  {
   "cell_type": "code",
   "execution_count": 0,
   "metadata": {
    "application/vnd.databricks.v1+cell": {
     "cellMetadata": {
      "byteLimit": 2048000,
      "rowLimit": 10000
     },
     "inputWidgets": {},
     "nuid": "b3d4c769-7713-4ed7-afe1-c6f46cc73311",
     "showTitle": false,
     "title": ""
    }
   },
   "outputs": [],
   "source": [
    "embeddings = MosaicMLInstructorEmbeddings(\n",
    "    query_instruction=\"Represent the query for retrieval: \"\n",
    ")"
   ]
  },
  {
   "cell_type": "code",
   "execution_count": 0,
   "metadata": {
    "application/vnd.databricks.v1+cell": {
     "cellMetadata": {
      "byteLimit": 2048000,
      "rowLimit": 10000
     },
     "inputWidgets": {},
     "nuid": "fc580d6e-2772-44e8-b31e-d77ddbd7a51c",
     "showTitle": false,
     "title": ""
    }
   },
   "outputs": [],
   "source": [
    "query_text = \"THi How are you?\"\n",
    "query_result = embeddings.embed_query(query_text)"
   ]
  },
  {
   "cell_type": "code",
   "execution_count": 0,
   "metadata": {
    "application/vnd.databricks.v1+cell": {
     "cellMetadata": {},
     "inputWidgets": {},
     "nuid": "9182bce6-ec5e-4e1a-af79-4b7488639b97",
     "showTitle": false,
     "title": ""
    }
   },
   "outputs": [],
   "source": [
    "text_chunks"
   ]
  },
  {
   "cell_type": "code",
   "execution_count": 0,
   "metadata": {
    "application/vnd.databricks.v1+cell": {
     "cellMetadata": {
      "byteLimit": 2048000,
      "rowLimit": 10000
     },
     "inputWidgets": {},
     "nuid": "8653c74b-44b9-4d26-898b-90eb4bde84aa",
     "showTitle": false,
     "title": ""
    }
   },
   "outputs": [
    {
     "output_type": "display_data",
     "data": {
      "text/plain": [
       "\u001B[0;31m---------------------------------------------------------------------------\u001B[0m\n",
       "\u001B[0;31mTypeError\u001B[0m                                 Traceback (most recent call last)\n",
       "File \u001B[0;32m<command-3278141893405835>:1\u001B[0m\n",
       "\u001B[0;32m----> 1\u001B[0m \u001B[43membeddings\u001B[49m\u001B[38;5;241;43m.\u001B[39;49m\u001B[43membed_query\u001B[49m\u001B[43m(\u001B[49m\u001B[43mtext_chunks\u001B[49m\u001B[43m)\u001B[49m\n",
       "\n",
       "File \u001B[0;32m/local_disk0/.ephemeral_nfs/envs/pythonEnv-2558cb66-9e74-49a6-8705-7723d2bb30e8/lib/python3.10/site-packages/langchain/embeddings/mosaicml.py:147\u001B[0m, in \u001B[0;36mMosaicMLInstructorEmbeddings.embed_query\u001B[0;34m(self, text)\u001B[0m\n",
       "\u001B[1;32m    138\u001B[0m \u001B[38;5;124;03m\"\"\"Embed a query using a MosaicML deployed instructor embedding model.\u001B[39;00m\n",
       "\u001B[1;32m    139\u001B[0m \n",
       "\u001B[1;32m    140\u001B[0m \u001B[38;5;124;03mArgs:\u001B[39;00m\n",
       "\u001B[0;32m   (...)\u001B[0m\n",
       "\u001B[1;32m    144\u001B[0m \u001B[38;5;124;03m    Embeddings for the text.\u001B[39;00m\n",
       "\u001B[1;32m    145\u001B[0m \u001B[38;5;124;03m\"\"\"\u001B[39;00m\n",
       "\u001B[1;32m    146\u001B[0m instruction_pair \u001B[38;5;241m=\u001B[39m (\u001B[38;5;28mself\u001B[39m\u001B[38;5;241m.\u001B[39mquery_instruction, text)\n",
       "\u001B[0;32m--> 147\u001B[0m embedding \u001B[38;5;241m=\u001B[39m \u001B[38;5;28;43mself\u001B[39;49m\u001B[38;5;241;43m.\u001B[39;49m\u001B[43m_embed\u001B[49m\u001B[43m(\u001B[49m\u001B[43m[\u001B[49m\u001B[43minstruction_pair\u001B[49m\u001B[43m]\u001B[49m\u001B[43m)\u001B[49m[\u001B[38;5;241m0\u001B[39m]\n",
       "\u001B[1;32m    148\u001B[0m \u001B[38;5;28;01mreturn\u001B[39;00m embedding\n",
       "\n",
       "File \u001B[0;32m/local_disk0/.ephemeral_nfs/envs/pythonEnv-2558cb66-9e74-49a6-8705-7723d2bb30e8/lib/python3.10/site-packages/langchain/embeddings/mosaicml.py:77\u001B[0m, in \u001B[0;36mMosaicMLInstructorEmbeddings._embed\u001B[0;34m(self, input, is_retry)\u001B[0m\n",
       "\u001B[1;32m     75\u001B[0m \u001B[38;5;66;03m# send request\u001B[39;00m\n",
       "\u001B[1;32m     76\u001B[0m \u001B[38;5;28;01mtry\u001B[39;00m:\n",
       "\u001B[0;32m---> 77\u001B[0m     response \u001B[38;5;241m=\u001B[39m \u001B[43mrequests\u001B[49m\u001B[38;5;241;43m.\u001B[39;49m\u001B[43mpost\u001B[49m\u001B[43m(\u001B[49m\u001B[38;5;28;43mself\u001B[39;49m\u001B[38;5;241;43m.\u001B[39;49m\u001B[43mendpoint_url\u001B[49m\u001B[43m,\u001B[49m\u001B[43m \u001B[49m\u001B[43mheaders\u001B[49m\u001B[38;5;241;43m=\u001B[39;49m\u001B[43mheaders\u001B[49m\u001B[43m,\u001B[49m\u001B[43m \u001B[49m\u001B[43mjson\u001B[49m\u001B[38;5;241;43m=\u001B[39;49m\u001B[43mpayload\u001B[49m\u001B[43m)\u001B[49m\n",
       "\u001B[1;32m     78\u001B[0m \u001B[38;5;28;01mexcept\u001B[39;00m requests\u001B[38;5;241m.\u001B[39mexceptions\u001B[38;5;241m.\u001B[39mRequestException \u001B[38;5;28;01mas\u001B[39;00m e:\n",
       "\u001B[1;32m     79\u001B[0m     \u001B[38;5;28;01mraise\u001B[39;00m \u001B[38;5;167;01mValueError\u001B[39;00m(\u001B[38;5;124mf\u001B[39m\u001B[38;5;124m\"\u001B[39m\u001B[38;5;124mError raised by inference endpoint: \u001B[39m\u001B[38;5;132;01m{\u001B[39;00me\u001B[38;5;132;01m}\u001B[39;00m\u001B[38;5;124m\"\u001B[39m)\n",
       "\n",
       "File \u001B[0;32m/databricks/python/lib/python3.10/site-packages/requests/api.py:115\u001B[0m, in \u001B[0;36mpost\u001B[0;34m(url, data, json, **kwargs)\u001B[0m\n",
       "\u001B[1;32m    103\u001B[0m \u001B[38;5;28;01mdef\u001B[39;00m \u001B[38;5;21mpost\u001B[39m(url, data\u001B[38;5;241m=\u001B[39m\u001B[38;5;28;01mNone\u001B[39;00m, json\u001B[38;5;241m=\u001B[39m\u001B[38;5;28;01mNone\u001B[39;00m, \u001B[38;5;241m*\u001B[39m\u001B[38;5;241m*\u001B[39mkwargs):\n",
       "\u001B[1;32m    104\u001B[0m     \u001B[38;5;124mr\u001B[39m\u001B[38;5;124;03m\"\"\"Sends a POST request.\u001B[39;00m\n",
       "\u001B[1;32m    105\u001B[0m \n",
       "\u001B[1;32m    106\u001B[0m \u001B[38;5;124;03m    :param url: URL for the new :class:`Request` object.\u001B[39;00m\n",
       "\u001B[0;32m   (...)\u001B[0m\n",
       "\u001B[1;32m    112\u001B[0m \u001B[38;5;124;03m    :rtype: requests.Response\u001B[39;00m\n",
       "\u001B[1;32m    113\u001B[0m \u001B[38;5;124;03m    \"\"\"\u001B[39;00m\n",
       "\u001B[0;32m--> 115\u001B[0m     \u001B[38;5;28;01mreturn\u001B[39;00m \u001B[43mrequest\u001B[49m\u001B[43m(\u001B[49m\u001B[38;5;124;43m\"\u001B[39;49m\u001B[38;5;124;43mpost\u001B[39;49m\u001B[38;5;124;43m\"\u001B[39;49m\u001B[43m,\u001B[49m\u001B[43m \u001B[49m\u001B[43murl\u001B[49m\u001B[43m,\u001B[49m\u001B[43m \u001B[49m\u001B[43mdata\u001B[49m\u001B[38;5;241;43m=\u001B[39;49m\u001B[43mdata\u001B[49m\u001B[43m,\u001B[49m\u001B[43m \u001B[49m\u001B[43mjson\u001B[49m\u001B[38;5;241;43m=\u001B[39;49m\u001B[43mjson\u001B[49m\u001B[43m,\u001B[49m\u001B[43m \u001B[49m\u001B[38;5;241;43m*\u001B[39;49m\u001B[38;5;241;43m*\u001B[39;49m\u001B[43mkwargs\u001B[49m\u001B[43m)\u001B[49m\n",
       "\n",
       "File \u001B[0;32m/databricks/python/lib/python3.10/site-packages/requests/api.py:59\u001B[0m, in \u001B[0;36mrequest\u001B[0;34m(method, url, **kwargs)\u001B[0m\n",
       "\u001B[1;32m     55\u001B[0m \u001B[38;5;66;03m# By using the 'with' statement we are sure the session is closed, thus we\u001B[39;00m\n",
       "\u001B[1;32m     56\u001B[0m \u001B[38;5;66;03m# avoid leaving sockets open which can trigger a ResourceWarning in some\u001B[39;00m\n",
       "\u001B[1;32m     57\u001B[0m \u001B[38;5;66;03m# cases, and look like a memory leak in others.\u001B[39;00m\n",
       "\u001B[1;32m     58\u001B[0m \u001B[38;5;28;01mwith\u001B[39;00m sessions\u001B[38;5;241m.\u001B[39mSession() \u001B[38;5;28;01mas\u001B[39;00m session:\n",
       "\u001B[0;32m---> 59\u001B[0m     \u001B[38;5;28;01mreturn\u001B[39;00m \u001B[43msession\u001B[49m\u001B[38;5;241;43m.\u001B[39;49m\u001B[43mrequest\u001B[49m\u001B[43m(\u001B[49m\u001B[43mmethod\u001B[49m\u001B[38;5;241;43m=\u001B[39;49m\u001B[43mmethod\u001B[49m\u001B[43m,\u001B[49m\u001B[43m \u001B[49m\u001B[43murl\u001B[49m\u001B[38;5;241;43m=\u001B[39;49m\u001B[43murl\u001B[49m\u001B[43m,\u001B[49m\u001B[43m \u001B[49m\u001B[38;5;241;43m*\u001B[39;49m\u001B[38;5;241;43m*\u001B[39;49m\u001B[43mkwargs\u001B[49m\u001B[43m)\u001B[49m\n",
       "\n",
       "File \u001B[0;32m/databricks/python/lib/python3.10/site-packages/requests/sessions.py:573\u001B[0m, in \u001B[0;36mSession.request\u001B[0;34m(self, method, url, params, data, headers, cookies, files, auth, timeout, allow_redirects, proxies, hooks, stream, verify, cert, json)\u001B[0m\n",
       "\u001B[1;32m    560\u001B[0m \u001B[38;5;66;03m# Create the Request.\u001B[39;00m\n",
       "\u001B[1;32m    561\u001B[0m req \u001B[38;5;241m=\u001B[39m Request(\n",
       "\u001B[1;32m    562\u001B[0m     method\u001B[38;5;241m=\u001B[39mmethod\u001B[38;5;241m.\u001B[39mupper(),\n",
       "\u001B[1;32m    563\u001B[0m     url\u001B[38;5;241m=\u001B[39murl,\n",
       "\u001B[0;32m   (...)\u001B[0m\n",
       "\u001B[1;32m    571\u001B[0m     hooks\u001B[38;5;241m=\u001B[39mhooks,\n",
       "\u001B[1;32m    572\u001B[0m )\n",
       "\u001B[0;32m--> 573\u001B[0m prep \u001B[38;5;241m=\u001B[39m \u001B[38;5;28;43mself\u001B[39;49m\u001B[38;5;241;43m.\u001B[39;49m\u001B[43mprepare_request\u001B[49m\u001B[43m(\u001B[49m\u001B[43mreq\u001B[49m\u001B[43m)\u001B[49m\n",
       "\u001B[1;32m    575\u001B[0m proxies \u001B[38;5;241m=\u001B[39m proxies \u001B[38;5;129;01mor\u001B[39;00m {}\n",
       "\u001B[1;32m    577\u001B[0m settings \u001B[38;5;241m=\u001B[39m \u001B[38;5;28mself\u001B[39m\u001B[38;5;241m.\u001B[39mmerge_environment_settings(\n",
       "\u001B[1;32m    578\u001B[0m     prep\u001B[38;5;241m.\u001B[39murl, proxies, stream, verify, cert\n",
       "\u001B[1;32m    579\u001B[0m )\n",
       "\n",
       "File \u001B[0;32m/databricks/python/lib/python3.10/site-packages/requests/sessions.py:484\u001B[0m, in \u001B[0;36mSession.prepare_request\u001B[0;34m(self, request)\u001B[0m\n",
       "\u001B[1;32m    481\u001B[0m     auth \u001B[38;5;241m=\u001B[39m get_netrc_auth(request\u001B[38;5;241m.\u001B[39murl)\n",
       "\u001B[1;32m    483\u001B[0m p \u001B[38;5;241m=\u001B[39m PreparedRequest()\n",
       "\u001B[0;32m--> 484\u001B[0m \u001B[43mp\u001B[49m\u001B[38;5;241;43m.\u001B[39;49m\u001B[43mprepare\u001B[49m\u001B[43m(\u001B[49m\n",
       "\u001B[1;32m    485\u001B[0m \u001B[43m    \u001B[49m\u001B[43mmethod\u001B[49m\u001B[38;5;241;43m=\u001B[39;49m\u001B[43mrequest\u001B[49m\u001B[38;5;241;43m.\u001B[39;49m\u001B[43mmethod\u001B[49m\u001B[38;5;241;43m.\u001B[39;49m\u001B[43mupper\u001B[49m\u001B[43m(\u001B[49m\u001B[43m)\u001B[49m\u001B[43m,\u001B[49m\n",
       "\u001B[1;32m    486\u001B[0m \u001B[43m    \u001B[49m\u001B[43murl\u001B[49m\u001B[38;5;241;43m=\u001B[39;49m\u001B[43mrequest\u001B[49m\u001B[38;5;241;43m.\u001B[39;49m\u001B[43murl\u001B[49m\u001B[43m,\u001B[49m\n",
       "\u001B[1;32m    487\u001B[0m \u001B[43m    \u001B[49m\u001B[43mfiles\u001B[49m\u001B[38;5;241;43m=\u001B[39;49m\u001B[43mrequest\u001B[49m\u001B[38;5;241;43m.\u001B[39;49m\u001B[43mfiles\u001B[49m\u001B[43m,\u001B[49m\n",
       "\u001B[1;32m    488\u001B[0m \u001B[43m    \u001B[49m\u001B[43mdata\u001B[49m\u001B[38;5;241;43m=\u001B[39;49m\u001B[43mrequest\u001B[49m\u001B[38;5;241;43m.\u001B[39;49m\u001B[43mdata\u001B[49m\u001B[43m,\u001B[49m\n",
       "\u001B[1;32m    489\u001B[0m \u001B[43m    \u001B[49m\u001B[43mjson\u001B[49m\u001B[38;5;241;43m=\u001B[39;49m\u001B[43mrequest\u001B[49m\u001B[38;5;241;43m.\u001B[39;49m\u001B[43mjson\u001B[49m\u001B[43m,\u001B[49m\n",
       "\u001B[1;32m    490\u001B[0m \u001B[43m    \u001B[49m\u001B[43mheaders\u001B[49m\u001B[38;5;241;43m=\u001B[39;49m\u001B[43mmerge_setting\u001B[49m\u001B[43m(\u001B[49m\n",
       "\u001B[1;32m    491\u001B[0m \u001B[43m        \u001B[49m\u001B[43mrequest\u001B[49m\u001B[38;5;241;43m.\u001B[39;49m\u001B[43mheaders\u001B[49m\u001B[43m,\u001B[49m\u001B[43m \u001B[49m\u001B[38;5;28;43mself\u001B[39;49m\u001B[38;5;241;43m.\u001B[39;49m\u001B[43mheaders\u001B[49m\u001B[43m,\u001B[49m\u001B[43m \u001B[49m\u001B[43mdict_class\u001B[49m\u001B[38;5;241;43m=\u001B[39;49m\u001B[43mCaseInsensitiveDict\u001B[49m\n",
       "\u001B[1;32m    492\u001B[0m \u001B[43m    \u001B[49m\u001B[43m)\u001B[49m\u001B[43m,\u001B[49m\n",
       "\u001B[1;32m    493\u001B[0m \u001B[43m    \u001B[49m\u001B[43mparams\u001B[49m\u001B[38;5;241;43m=\u001B[39;49m\u001B[43mmerge_setting\u001B[49m\u001B[43m(\u001B[49m\u001B[43mrequest\u001B[49m\u001B[38;5;241;43m.\u001B[39;49m\u001B[43mparams\u001B[49m\u001B[43m,\u001B[49m\u001B[43m \u001B[49m\u001B[38;5;28;43mself\u001B[39;49m\u001B[38;5;241;43m.\u001B[39;49m\u001B[43mparams\u001B[49m\u001B[43m)\u001B[49m\u001B[43m,\u001B[49m\n",
       "\u001B[1;32m    494\u001B[0m \u001B[43m    \u001B[49m\u001B[43mauth\u001B[49m\u001B[38;5;241;43m=\u001B[39;49m\u001B[43mmerge_setting\u001B[49m\u001B[43m(\u001B[49m\u001B[43mauth\u001B[49m\u001B[43m,\u001B[49m\u001B[43m \u001B[49m\u001B[38;5;28;43mself\u001B[39;49m\u001B[38;5;241;43m.\u001B[39;49m\u001B[43mauth\u001B[49m\u001B[43m)\u001B[49m\u001B[43m,\u001B[49m\n",
       "\u001B[1;32m    495\u001B[0m \u001B[43m    \u001B[49m\u001B[43mcookies\u001B[49m\u001B[38;5;241;43m=\u001B[39;49m\u001B[43mmerged_cookies\u001B[49m\u001B[43m,\u001B[49m\n",
       "\u001B[1;32m    496\u001B[0m \u001B[43m    \u001B[49m\u001B[43mhooks\u001B[49m\u001B[38;5;241;43m=\u001B[39;49m\u001B[43mmerge_hooks\u001B[49m\u001B[43m(\u001B[49m\u001B[43mrequest\u001B[49m\u001B[38;5;241;43m.\u001B[39;49m\u001B[43mhooks\u001B[49m\u001B[43m,\u001B[49m\u001B[43m \u001B[49m\u001B[38;5;28;43mself\u001B[39;49m\u001B[38;5;241;43m.\u001B[39;49m\u001B[43mhooks\u001B[49m\u001B[43m)\u001B[49m\u001B[43m,\u001B[49m\n",
       "\u001B[1;32m    497\u001B[0m \u001B[43m\u001B[49m\u001B[43m)\u001B[49m\n",
       "\u001B[1;32m    498\u001B[0m \u001B[38;5;28;01mreturn\u001B[39;00m p\n",
       "\n",
       "File \u001B[0;32m/databricks/python/lib/python3.10/site-packages/requests/models.py:371\u001B[0m, in \u001B[0;36mPreparedRequest.prepare\u001B[0;34m(self, method, url, headers, files, data, params, auth, cookies, hooks, json)\u001B[0m\n",
       "\u001B[1;32m    369\u001B[0m \u001B[38;5;28mself\u001B[39m\u001B[38;5;241m.\u001B[39mprepare_headers(headers)\n",
       "\u001B[1;32m    370\u001B[0m \u001B[38;5;28mself\u001B[39m\u001B[38;5;241m.\u001B[39mprepare_cookies(cookies)\n",
       "\u001B[0;32m--> 371\u001B[0m \u001B[38;5;28;43mself\u001B[39;49m\u001B[38;5;241;43m.\u001B[39;49m\u001B[43mprepare_body\u001B[49m\u001B[43m(\u001B[49m\u001B[43mdata\u001B[49m\u001B[43m,\u001B[49m\u001B[43m \u001B[49m\u001B[43mfiles\u001B[49m\u001B[43m,\u001B[49m\u001B[43m \u001B[49m\u001B[43mjson\u001B[49m\u001B[43m)\u001B[49m\n",
       "\u001B[1;32m    372\u001B[0m \u001B[38;5;28mself\u001B[39m\u001B[38;5;241m.\u001B[39mprepare_auth(auth, url)\n",
       "\u001B[1;32m    374\u001B[0m \u001B[38;5;66;03m# Note that prepare_auth must be last to enable authentication schemes\u001B[39;00m\n",
       "\u001B[1;32m    375\u001B[0m \u001B[38;5;66;03m# such as OAuth to work on a fully prepared request.\u001B[39;00m\n",
       "\u001B[1;32m    376\u001B[0m \n",
       "\u001B[1;32m    377\u001B[0m \u001B[38;5;66;03m# This MUST go after prepare_auth. Authenticators could add a hook\u001B[39;00m\n",
       "\n",
       "File \u001B[0;32m/databricks/python/lib/python3.10/site-packages/requests/models.py:511\u001B[0m, in \u001B[0;36mPreparedRequest.prepare_body\u001B[0;34m(self, data, files, json)\u001B[0m\n",
       "\u001B[1;32m    508\u001B[0m content_type \u001B[38;5;241m=\u001B[39m \u001B[38;5;124m\"\u001B[39m\u001B[38;5;124mapplication/json\u001B[39m\u001B[38;5;124m\"\u001B[39m\n",
       "\u001B[1;32m    510\u001B[0m \u001B[38;5;28;01mtry\u001B[39;00m:\n",
       "\u001B[0;32m--> 511\u001B[0m     body \u001B[38;5;241m=\u001B[39m \u001B[43mcomplexjson\u001B[49m\u001B[38;5;241;43m.\u001B[39;49m\u001B[43mdumps\u001B[49m\u001B[43m(\u001B[49m\u001B[43mjson\u001B[49m\u001B[43m,\u001B[49m\u001B[43m \u001B[49m\u001B[43mallow_nan\u001B[49m\u001B[38;5;241;43m=\u001B[39;49m\u001B[38;5;28;43;01mFalse\u001B[39;49;00m\u001B[43m)\u001B[49m\n",
       "\u001B[1;32m    512\u001B[0m \u001B[38;5;28;01mexcept\u001B[39;00m \u001B[38;5;167;01mValueError\u001B[39;00m \u001B[38;5;28;01mas\u001B[39;00m ve:\n",
       "\u001B[1;32m    513\u001B[0m     \u001B[38;5;28;01mraise\u001B[39;00m InvalidJSONError(ve, request\u001B[38;5;241m=\u001B[39m\u001B[38;5;28mself\u001B[39m)\n",
       "\n",
       "File \u001B[0;32m/databricks/python/lib/python3.10/site-packages/simplejson/__init__.py:412\u001B[0m, in \u001B[0;36mdumps\u001B[0;34m(obj, skipkeys, ensure_ascii, check_circular, allow_nan, cls, indent, separators, encoding, default, use_decimal, namedtuple_as_object, tuple_as_array, bigint_as_string, sort_keys, item_sort_key, for_json, ignore_nan, int_as_string_bitcount, iterable_as_array, **kw)\u001B[0m\n",
       "\u001B[1;32m    396\u001B[0m \u001B[38;5;28;01mif\u001B[39;00m \u001B[38;5;28mcls\u001B[39m \u001B[38;5;129;01mis\u001B[39;00m \u001B[38;5;28;01mNone\u001B[39;00m:\n",
       "\u001B[1;32m    397\u001B[0m     \u001B[38;5;28mcls\u001B[39m \u001B[38;5;241m=\u001B[39m JSONEncoder\n",
       "\u001B[1;32m    398\u001B[0m \u001B[38;5;28;01mreturn\u001B[39;00m \u001B[38;5;28;43mcls\u001B[39;49m\u001B[43m(\u001B[49m\n",
       "\u001B[1;32m    399\u001B[0m \u001B[43m    \u001B[49m\u001B[43mskipkeys\u001B[49m\u001B[38;5;241;43m=\u001B[39;49m\u001B[43mskipkeys\u001B[49m\u001B[43m,\u001B[49m\u001B[43m \u001B[49m\u001B[43mensure_ascii\u001B[49m\u001B[38;5;241;43m=\u001B[39;49m\u001B[43mensure_ascii\u001B[49m\u001B[43m,\u001B[49m\n",
       "\u001B[1;32m    400\u001B[0m \u001B[43m    \u001B[49m\u001B[43mcheck_circular\u001B[49m\u001B[38;5;241;43m=\u001B[39;49m\u001B[43mcheck_circular\u001B[49m\u001B[43m,\u001B[49m\u001B[43m \u001B[49m\u001B[43mallow_nan\u001B[49m\u001B[38;5;241;43m=\u001B[39;49m\u001B[43mallow_nan\u001B[49m\u001B[43m,\u001B[49m\u001B[43m \u001B[49m\u001B[43mindent\u001B[49m\u001B[38;5;241;43m=\u001B[39;49m\u001B[43mindent\u001B[49m\u001B[43m,\u001B[49m\n",
       "\u001B[1;32m    401\u001B[0m \u001B[43m    \u001B[49m\u001B[43mseparators\u001B[49m\u001B[38;5;241;43m=\u001B[39;49m\u001B[43mseparators\u001B[49m\u001B[43m,\u001B[49m\u001B[43m \u001B[49m\u001B[43mencoding\u001B[49m\u001B[38;5;241;43m=\u001B[39;49m\u001B[43mencoding\u001B[49m\u001B[43m,\u001B[49m\u001B[43m \u001B[49m\u001B[43mdefault\u001B[49m\u001B[38;5;241;43m=\u001B[39;49m\u001B[43mdefault\u001B[49m\u001B[43m,\u001B[49m\n",
       "\u001B[1;32m    402\u001B[0m \u001B[43m    \u001B[49m\u001B[43muse_decimal\u001B[49m\u001B[38;5;241;43m=\u001B[39;49m\u001B[43muse_decimal\u001B[49m\u001B[43m,\u001B[49m\n",
       "\u001B[1;32m    403\u001B[0m \u001B[43m    \u001B[49m\u001B[43mnamedtuple_as_object\u001B[49m\u001B[38;5;241;43m=\u001B[39;49m\u001B[43mnamedtuple_as_object\u001B[49m\u001B[43m,\u001B[49m\n",
       "\u001B[1;32m    404\u001B[0m \u001B[43m    \u001B[49m\u001B[43mtuple_as_array\u001B[49m\u001B[38;5;241;43m=\u001B[39;49m\u001B[43mtuple_as_array\u001B[49m\u001B[43m,\u001B[49m\n",
       "\u001B[1;32m    405\u001B[0m \u001B[43m    \u001B[49m\u001B[43miterable_as_array\u001B[49m\u001B[38;5;241;43m=\u001B[39;49m\u001B[43miterable_as_array\u001B[49m\u001B[43m,\u001B[49m\n",
       "\u001B[1;32m    406\u001B[0m \u001B[43m    \u001B[49m\u001B[43mbigint_as_string\u001B[49m\u001B[38;5;241;43m=\u001B[39;49m\u001B[43mbigint_as_string\u001B[49m\u001B[43m,\u001B[49m\n",
       "\u001B[1;32m    407\u001B[0m \u001B[43m    \u001B[49m\u001B[43msort_keys\u001B[49m\u001B[38;5;241;43m=\u001B[39;49m\u001B[43msort_keys\u001B[49m\u001B[43m,\u001B[49m\n",
       "\u001B[1;32m    408\u001B[0m \u001B[43m    \u001B[49m\u001B[43mitem_sort_key\u001B[49m\u001B[38;5;241;43m=\u001B[39;49m\u001B[43mitem_sort_key\u001B[49m\u001B[43m,\u001B[49m\n",
       "\u001B[1;32m    409\u001B[0m \u001B[43m    \u001B[49m\u001B[43mfor_json\u001B[49m\u001B[38;5;241;43m=\u001B[39;49m\u001B[43mfor_json\u001B[49m\u001B[43m,\u001B[49m\n",
       "\u001B[1;32m    410\u001B[0m \u001B[43m    \u001B[49m\u001B[43mignore_nan\u001B[49m\u001B[38;5;241;43m=\u001B[39;49m\u001B[43mignore_nan\u001B[49m\u001B[43m,\u001B[49m\n",
       "\u001B[1;32m    411\u001B[0m \u001B[43m    \u001B[49m\u001B[43mint_as_string_bitcount\u001B[49m\u001B[38;5;241;43m=\u001B[39;49m\u001B[43mint_as_string_bitcount\u001B[49m\u001B[43m,\u001B[49m\n",
       "\u001B[0;32m--> 412\u001B[0m \u001B[43m    \u001B[49m\u001B[38;5;241;43m*\u001B[39;49m\u001B[38;5;241;43m*\u001B[39;49m\u001B[43mkw\u001B[49m\u001B[43m)\u001B[49m\u001B[38;5;241;43m.\u001B[39;49m\u001B[43mencode\u001B[49m\u001B[43m(\u001B[49m\u001B[43mobj\u001B[49m\u001B[43m)\u001B[49m\n",
       "\n",
       "File \u001B[0;32m/databricks/python/lib/python3.10/site-packages/simplejson/encoder.py:296\u001B[0m, in \u001B[0;36mJSONEncoder.encode\u001B[0;34m(self, o)\u001B[0m\n",
       "\u001B[1;32m    292\u001B[0m         \u001B[38;5;28;01mreturn\u001B[39;00m encode_basestring(o)\n",
       "\u001B[1;32m    293\u001B[0m \u001B[38;5;66;03m# This doesn't pass the iterator directly to ''.join() because the\u001B[39;00m\n",
       "\u001B[1;32m    294\u001B[0m \u001B[38;5;66;03m# exceptions aren't as detailed.  The list call should be roughly\u001B[39;00m\n",
       "\u001B[1;32m    295\u001B[0m \u001B[38;5;66;03m# equivalent to the PySequence_Fast that ''.join() would do.\u001B[39;00m\n",
       "\u001B[0;32m--> 296\u001B[0m chunks \u001B[38;5;241m=\u001B[39m \u001B[38;5;28;43mself\u001B[39;49m\u001B[38;5;241;43m.\u001B[39;49m\u001B[43miterencode\u001B[49m\u001B[43m(\u001B[49m\u001B[43mo\u001B[49m\u001B[43m,\u001B[49m\u001B[43m \u001B[49m\u001B[43m_one_shot\u001B[49m\u001B[38;5;241;43m=\u001B[39;49m\u001B[38;5;28;43;01mTrue\u001B[39;49;00m\u001B[43m)\u001B[49m\n",
       "\u001B[1;32m    297\u001B[0m \u001B[38;5;28;01mif\u001B[39;00m \u001B[38;5;129;01mnot\u001B[39;00m \u001B[38;5;28misinstance\u001B[39m(chunks, (\u001B[38;5;28mlist\u001B[39m, \u001B[38;5;28mtuple\u001B[39m)):\n",
       "\u001B[1;32m    298\u001B[0m     chunks \u001B[38;5;241m=\u001B[39m \u001B[38;5;28mlist\u001B[39m(chunks)\n",
       "\n",
       "File \u001B[0;32m/databricks/python/lib/python3.10/site-packages/simplejson/encoder.py:378\u001B[0m, in \u001B[0;36mJSONEncoder.iterencode\u001B[0;34m(self, o, _one_shot)\u001B[0m\n",
       "\u001B[1;32m    369\u001B[0m     _iterencode \u001B[38;5;241m=\u001B[39m _make_iterencode(\n",
       "\u001B[1;32m    370\u001B[0m         markers, \u001B[38;5;28mself\u001B[39m\u001B[38;5;241m.\u001B[39mdefault, _encoder, \u001B[38;5;28mself\u001B[39m\u001B[38;5;241m.\u001B[39mindent, floatstr,\n",
       "\u001B[1;32m    371\u001B[0m         \u001B[38;5;28mself\u001B[39m\u001B[38;5;241m.\u001B[39mkey_separator, \u001B[38;5;28mself\u001B[39m\u001B[38;5;241m.\u001B[39mitem_separator, \u001B[38;5;28mself\u001B[39m\u001B[38;5;241m.\u001B[39msort_keys,\n",
       "\u001B[0;32m   (...)\u001B[0m\n",
       "\u001B[1;32m    375\u001B[0m         \u001B[38;5;28mself\u001B[39m\u001B[38;5;241m.\u001B[39mitem_sort_key, \u001B[38;5;28mself\u001B[39m\u001B[38;5;241m.\u001B[39mencoding, \u001B[38;5;28mself\u001B[39m\u001B[38;5;241m.\u001B[39mfor_json,\n",
       "\u001B[1;32m    376\u001B[0m         \u001B[38;5;28mself\u001B[39m\u001B[38;5;241m.\u001B[39miterable_as_array, Decimal\u001B[38;5;241m=\u001B[39mdecimal\u001B[38;5;241m.\u001B[39mDecimal)\n",
       "\u001B[1;32m    377\u001B[0m \u001B[38;5;28;01mtry\u001B[39;00m:\n",
       "\u001B[0;32m--> 378\u001B[0m     \u001B[38;5;28;01mreturn\u001B[39;00m \u001B[43m_iterencode\u001B[49m\u001B[43m(\u001B[49m\u001B[43mo\u001B[49m\u001B[43m,\u001B[49m\u001B[43m \u001B[49m\u001B[38;5;241;43m0\u001B[39;49m\u001B[43m)\u001B[49m\n",
       "\u001B[1;32m    379\u001B[0m \u001B[38;5;28;01mfinally\u001B[39;00m:\n",
       "\u001B[1;32m    380\u001B[0m     key_memo\u001B[38;5;241m.\u001B[39mclear()\n",
       "\n",
       "File \u001B[0;32m/databricks/python/lib/python3.10/site-packages/simplejson/encoder.py:272\u001B[0m, in \u001B[0;36mJSONEncoder.default\u001B[0;34m(self, o)\u001B[0m\n",
       "\u001B[1;32m    254\u001B[0m \u001B[38;5;28;01mdef\u001B[39;00m \u001B[38;5;21mdefault\u001B[39m(\u001B[38;5;28mself\u001B[39m, o):\n",
       "\u001B[1;32m    255\u001B[0m     \u001B[38;5;124;03m\"\"\"Implement this method in a subclass such that it returns\u001B[39;00m\n",
       "\u001B[1;32m    256\u001B[0m \u001B[38;5;124;03m    a serializable object for ``o``, or calls the base implementation\u001B[39;00m\n",
       "\u001B[1;32m    257\u001B[0m \u001B[38;5;124;03m    (to raise a ``TypeError``).\u001B[39;00m\n",
       "\u001B[0;32m   (...)\u001B[0m\n",
       "\u001B[1;32m    270\u001B[0m \n",
       "\u001B[1;32m    271\u001B[0m \u001B[38;5;124;03m    \"\"\"\u001B[39;00m\n",
       "\u001B[0;32m--> 272\u001B[0m     \u001B[38;5;28;01mraise\u001B[39;00m \u001B[38;5;167;01mTypeError\u001B[39;00m(\u001B[38;5;124m'\u001B[39m\u001B[38;5;124mObject of type \u001B[39m\u001B[38;5;132;01m%s\u001B[39;00m\u001B[38;5;124m is not JSON serializable\u001B[39m\u001B[38;5;124m'\u001B[39m \u001B[38;5;241m%\u001B[39m\n",
       "\u001B[1;32m    273\u001B[0m                     o\u001B[38;5;241m.\u001B[39m\u001B[38;5;18m__class__\u001B[39m\u001B[38;5;241m.\u001B[39m\u001B[38;5;18m__name__\u001B[39m)\n",
       "\n",
       "\u001B[0;31mTypeError\u001B[0m: Object of type Document is not JSON serializable"
      ]
     },
     "metadata": {
      "application/vnd.databricks.v1+output": {
       "arguments": {},
       "data": "\u001B[0;31m---------------------------------------------------------------------------\u001B[0m\n\u001B[0;31mTypeError\u001B[0m                                 Traceback (most recent call last)\nFile \u001B[0;32m<command-3278141893405835>:1\u001B[0m\n\u001B[0;32m----> 1\u001B[0m \u001B[43membeddings\u001B[49m\u001B[38;5;241;43m.\u001B[39;49m\u001B[43membed_query\u001B[49m\u001B[43m(\u001B[49m\u001B[43mtext_chunks\u001B[49m\u001B[43m)\u001B[49m\n\nFile \u001B[0;32m/local_disk0/.ephemeral_nfs/envs/pythonEnv-2558cb66-9e74-49a6-8705-7723d2bb30e8/lib/python3.10/site-packages/langchain/embeddings/mosaicml.py:147\u001B[0m, in \u001B[0;36mMosaicMLInstructorEmbeddings.embed_query\u001B[0;34m(self, text)\u001B[0m\n\u001B[1;32m    138\u001B[0m \u001B[38;5;124;03m\"\"\"Embed a query using a MosaicML deployed instructor embedding model.\u001B[39;00m\n\u001B[1;32m    139\u001B[0m \n\u001B[1;32m    140\u001B[0m \u001B[38;5;124;03mArgs:\u001B[39;00m\n\u001B[0;32m   (...)\u001B[0m\n\u001B[1;32m    144\u001B[0m \u001B[38;5;124;03m    Embeddings for the text.\u001B[39;00m\n\u001B[1;32m    145\u001B[0m \u001B[38;5;124;03m\"\"\"\u001B[39;00m\n\u001B[1;32m    146\u001B[0m instruction_pair \u001B[38;5;241m=\u001B[39m (\u001B[38;5;28mself\u001B[39m\u001B[38;5;241m.\u001B[39mquery_instruction, text)\n\u001B[0;32m--> 147\u001B[0m embedding \u001B[38;5;241m=\u001B[39m \u001B[38;5;28;43mself\u001B[39;49m\u001B[38;5;241;43m.\u001B[39;49m\u001B[43m_embed\u001B[49m\u001B[43m(\u001B[49m\u001B[43m[\u001B[49m\u001B[43minstruction_pair\u001B[49m\u001B[43m]\u001B[49m\u001B[43m)\u001B[49m[\u001B[38;5;241m0\u001B[39m]\n\u001B[1;32m    148\u001B[0m \u001B[38;5;28;01mreturn\u001B[39;00m embedding\n\nFile \u001B[0;32m/local_disk0/.ephemeral_nfs/envs/pythonEnv-2558cb66-9e74-49a6-8705-7723d2bb30e8/lib/python3.10/site-packages/langchain/embeddings/mosaicml.py:77\u001B[0m, in \u001B[0;36mMosaicMLInstructorEmbeddings._embed\u001B[0;34m(self, input, is_retry)\u001B[0m\n\u001B[1;32m     75\u001B[0m \u001B[38;5;66;03m# send request\u001B[39;00m\n\u001B[1;32m     76\u001B[0m \u001B[38;5;28;01mtry\u001B[39;00m:\n\u001B[0;32m---> 77\u001B[0m     response \u001B[38;5;241m=\u001B[39m \u001B[43mrequests\u001B[49m\u001B[38;5;241;43m.\u001B[39;49m\u001B[43mpost\u001B[49m\u001B[43m(\u001B[49m\u001B[38;5;28;43mself\u001B[39;49m\u001B[38;5;241;43m.\u001B[39;49m\u001B[43mendpoint_url\u001B[49m\u001B[43m,\u001B[49m\u001B[43m \u001B[49m\u001B[43mheaders\u001B[49m\u001B[38;5;241;43m=\u001B[39;49m\u001B[43mheaders\u001B[49m\u001B[43m,\u001B[49m\u001B[43m \u001B[49m\u001B[43mjson\u001B[49m\u001B[38;5;241;43m=\u001B[39;49m\u001B[43mpayload\u001B[49m\u001B[43m)\u001B[49m\n\u001B[1;32m     78\u001B[0m \u001B[38;5;28;01mexcept\u001B[39;00m requests\u001B[38;5;241m.\u001B[39mexceptions\u001B[38;5;241m.\u001B[39mRequestException \u001B[38;5;28;01mas\u001B[39;00m e:\n\u001B[1;32m     79\u001B[0m     \u001B[38;5;28;01mraise\u001B[39;00m \u001B[38;5;167;01mValueError\u001B[39;00m(\u001B[38;5;124mf\u001B[39m\u001B[38;5;124m\"\u001B[39m\u001B[38;5;124mError raised by inference endpoint: \u001B[39m\u001B[38;5;132;01m{\u001B[39;00me\u001B[38;5;132;01m}\u001B[39;00m\u001B[38;5;124m\"\u001B[39m)\n\nFile \u001B[0;32m/databricks/python/lib/python3.10/site-packages/requests/api.py:115\u001B[0m, in \u001B[0;36mpost\u001B[0;34m(url, data, json, **kwargs)\u001B[0m\n\u001B[1;32m    103\u001B[0m \u001B[38;5;28;01mdef\u001B[39;00m \u001B[38;5;21mpost\u001B[39m(url, data\u001B[38;5;241m=\u001B[39m\u001B[38;5;28;01mNone\u001B[39;00m, json\u001B[38;5;241m=\u001B[39m\u001B[38;5;28;01mNone\u001B[39;00m, \u001B[38;5;241m*\u001B[39m\u001B[38;5;241m*\u001B[39mkwargs):\n\u001B[1;32m    104\u001B[0m     \u001B[38;5;124mr\u001B[39m\u001B[38;5;124;03m\"\"\"Sends a POST request.\u001B[39;00m\n\u001B[1;32m    105\u001B[0m \n\u001B[1;32m    106\u001B[0m \u001B[38;5;124;03m    :param url: URL for the new :class:`Request` object.\u001B[39;00m\n\u001B[0;32m   (...)\u001B[0m\n\u001B[1;32m    112\u001B[0m \u001B[38;5;124;03m    :rtype: requests.Response\u001B[39;00m\n\u001B[1;32m    113\u001B[0m \u001B[38;5;124;03m    \"\"\"\u001B[39;00m\n\u001B[0;32m--> 115\u001B[0m     \u001B[38;5;28;01mreturn\u001B[39;00m \u001B[43mrequest\u001B[49m\u001B[43m(\u001B[49m\u001B[38;5;124;43m\"\u001B[39;49m\u001B[38;5;124;43mpost\u001B[39;49m\u001B[38;5;124;43m\"\u001B[39;49m\u001B[43m,\u001B[49m\u001B[43m \u001B[49m\u001B[43murl\u001B[49m\u001B[43m,\u001B[49m\u001B[43m \u001B[49m\u001B[43mdata\u001B[49m\u001B[38;5;241;43m=\u001B[39;49m\u001B[43mdata\u001B[49m\u001B[43m,\u001B[49m\u001B[43m \u001B[49m\u001B[43mjson\u001B[49m\u001B[38;5;241;43m=\u001B[39;49m\u001B[43mjson\u001B[49m\u001B[43m,\u001B[49m\u001B[43m \u001B[49m\u001B[38;5;241;43m*\u001B[39;49m\u001B[38;5;241;43m*\u001B[39;49m\u001B[43mkwargs\u001B[49m\u001B[43m)\u001B[49m\n\nFile \u001B[0;32m/databricks/python/lib/python3.10/site-packages/requests/api.py:59\u001B[0m, in \u001B[0;36mrequest\u001B[0;34m(method, url, **kwargs)\u001B[0m\n\u001B[1;32m     55\u001B[0m \u001B[38;5;66;03m# By using the 'with' statement we are sure the session is closed, thus we\u001B[39;00m\n\u001B[1;32m     56\u001B[0m \u001B[38;5;66;03m# avoid leaving sockets open which can trigger a ResourceWarning in some\u001B[39;00m\n\u001B[1;32m     57\u001B[0m \u001B[38;5;66;03m# cases, and look like a memory leak in others.\u001B[39;00m\n\u001B[1;32m     58\u001B[0m \u001B[38;5;28;01mwith\u001B[39;00m sessions\u001B[38;5;241m.\u001B[39mSession() \u001B[38;5;28;01mas\u001B[39;00m session:\n\u001B[0;32m---> 59\u001B[0m     \u001B[38;5;28;01mreturn\u001B[39;00m \u001B[43msession\u001B[49m\u001B[38;5;241;43m.\u001B[39;49m\u001B[43mrequest\u001B[49m\u001B[43m(\u001B[49m\u001B[43mmethod\u001B[49m\u001B[38;5;241;43m=\u001B[39;49m\u001B[43mmethod\u001B[49m\u001B[43m,\u001B[49m\u001B[43m \u001B[49m\u001B[43murl\u001B[49m\u001B[38;5;241;43m=\u001B[39;49m\u001B[43murl\u001B[49m\u001B[43m,\u001B[49m\u001B[43m \u001B[49m\u001B[38;5;241;43m*\u001B[39;49m\u001B[38;5;241;43m*\u001B[39;49m\u001B[43mkwargs\u001B[49m\u001B[43m)\u001B[49m\n\nFile \u001B[0;32m/databricks/python/lib/python3.10/site-packages/requests/sessions.py:573\u001B[0m, in \u001B[0;36mSession.request\u001B[0;34m(self, method, url, params, data, headers, cookies, files, auth, timeout, allow_redirects, proxies, hooks, stream, verify, cert, json)\u001B[0m\n\u001B[1;32m    560\u001B[0m \u001B[38;5;66;03m# Create the Request.\u001B[39;00m\n\u001B[1;32m    561\u001B[0m req \u001B[38;5;241m=\u001B[39m Request(\n\u001B[1;32m    562\u001B[0m     method\u001B[38;5;241m=\u001B[39mmethod\u001B[38;5;241m.\u001B[39mupper(),\n\u001B[1;32m    563\u001B[0m     url\u001B[38;5;241m=\u001B[39murl,\n\u001B[0;32m   (...)\u001B[0m\n\u001B[1;32m    571\u001B[0m     hooks\u001B[38;5;241m=\u001B[39mhooks,\n\u001B[1;32m    572\u001B[0m )\n\u001B[0;32m--> 573\u001B[0m prep \u001B[38;5;241m=\u001B[39m \u001B[38;5;28;43mself\u001B[39;49m\u001B[38;5;241;43m.\u001B[39;49m\u001B[43mprepare_request\u001B[49m\u001B[43m(\u001B[49m\u001B[43mreq\u001B[49m\u001B[43m)\u001B[49m\n\u001B[1;32m    575\u001B[0m proxies \u001B[38;5;241m=\u001B[39m proxies \u001B[38;5;129;01mor\u001B[39;00m {}\n\u001B[1;32m    577\u001B[0m settings \u001B[38;5;241m=\u001B[39m \u001B[38;5;28mself\u001B[39m\u001B[38;5;241m.\u001B[39mmerge_environment_settings(\n\u001B[1;32m    578\u001B[0m     prep\u001B[38;5;241m.\u001B[39murl, proxies, stream, verify, cert\n\u001B[1;32m    579\u001B[0m )\n\nFile \u001B[0;32m/databricks/python/lib/python3.10/site-packages/requests/sessions.py:484\u001B[0m, in \u001B[0;36mSession.prepare_request\u001B[0;34m(self, request)\u001B[0m\n\u001B[1;32m    481\u001B[0m     auth \u001B[38;5;241m=\u001B[39m get_netrc_auth(request\u001B[38;5;241m.\u001B[39murl)\n\u001B[1;32m    483\u001B[0m p \u001B[38;5;241m=\u001B[39m PreparedRequest()\n\u001B[0;32m--> 484\u001B[0m \u001B[43mp\u001B[49m\u001B[38;5;241;43m.\u001B[39;49m\u001B[43mprepare\u001B[49m\u001B[43m(\u001B[49m\n\u001B[1;32m    485\u001B[0m \u001B[43m    \u001B[49m\u001B[43mmethod\u001B[49m\u001B[38;5;241;43m=\u001B[39;49m\u001B[43mrequest\u001B[49m\u001B[38;5;241;43m.\u001B[39;49m\u001B[43mmethod\u001B[49m\u001B[38;5;241;43m.\u001B[39;49m\u001B[43mupper\u001B[49m\u001B[43m(\u001B[49m\u001B[43m)\u001B[49m\u001B[43m,\u001B[49m\n\u001B[1;32m    486\u001B[0m \u001B[43m    \u001B[49m\u001B[43murl\u001B[49m\u001B[38;5;241;43m=\u001B[39;49m\u001B[43mrequest\u001B[49m\u001B[38;5;241;43m.\u001B[39;49m\u001B[43murl\u001B[49m\u001B[43m,\u001B[49m\n\u001B[1;32m    487\u001B[0m \u001B[43m    \u001B[49m\u001B[43mfiles\u001B[49m\u001B[38;5;241;43m=\u001B[39;49m\u001B[43mrequest\u001B[49m\u001B[38;5;241;43m.\u001B[39;49m\u001B[43mfiles\u001B[49m\u001B[43m,\u001B[49m\n\u001B[1;32m    488\u001B[0m \u001B[43m    \u001B[49m\u001B[43mdata\u001B[49m\u001B[38;5;241;43m=\u001B[39;49m\u001B[43mrequest\u001B[49m\u001B[38;5;241;43m.\u001B[39;49m\u001B[43mdata\u001B[49m\u001B[43m,\u001B[49m\n\u001B[1;32m    489\u001B[0m \u001B[43m    \u001B[49m\u001B[43mjson\u001B[49m\u001B[38;5;241;43m=\u001B[39;49m\u001B[43mrequest\u001B[49m\u001B[38;5;241;43m.\u001B[39;49m\u001B[43mjson\u001B[49m\u001B[43m,\u001B[49m\n\u001B[1;32m    490\u001B[0m \u001B[43m    \u001B[49m\u001B[43mheaders\u001B[49m\u001B[38;5;241;43m=\u001B[39;49m\u001B[43mmerge_setting\u001B[49m\u001B[43m(\u001B[49m\n\u001B[1;32m    491\u001B[0m \u001B[43m        \u001B[49m\u001B[43mrequest\u001B[49m\u001B[38;5;241;43m.\u001B[39;49m\u001B[43mheaders\u001B[49m\u001B[43m,\u001B[49m\u001B[43m \u001B[49m\u001B[38;5;28;43mself\u001B[39;49m\u001B[38;5;241;43m.\u001B[39;49m\u001B[43mheaders\u001B[49m\u001B[43m,\u001B[49m\u001B[43m \u001B[49m\u001B[43mdict_class\u001B[49m\u001B[38;5;241;43m=\u001B[39;49m\u001B[43mCaseInsensitiveDict\u001B[49m\n\u001B[1;32m    492\u001B[0m \u001B[43m    \u001B[49m\u001B[43m)\u001B[49m\u001B[43m,\u001B[49m\n\u001B[1;32m    493\u001B[0m \u001B[43m    \u001B[49m\u001B[43mparams\u001B[49m\u001B[38;5;241;43m=\u001B[39;49m\u001B[43mmerge_setting\u001B[49m\u001B[43m(\u001B[49m\u001B[43mrequest\u001B[49m\u001B[38;5;241;43m.\u001B[39;49m\u001B[43mparams\u001B[49m\u001B[43m,\u001B[49m\u001B[43m \u001B[49m\u001B[38;5;28;43mself\u001B[39;49m\u001B[38;5;241;43m.\u001B[39;49m\u001B[43mparams\u001B[49m\u001B[43m)\u001B[49m\u001B[43m,\u001B[49m\n\u001B[1;32m    494\u001B[0m \u001B[43m    \u001B[49m\u001B[43mauth\u001B[49m\u001B[38;5;241;43m=\u001B[39;49m\u001B[43mmerge_setting\u001B[49m\u001B[43m(\u001B[49m\u001B[43mauth\u001B[49m\u001B[43m,\u001B[49m\u001B[43m \u001B[49m\u001B[38;5;28;43mself\u001B[39;49m\u001B[38;5;241;43m.\u001B[39;49m\u001B[43mauth\u001B[49m\u001B[43m)\u001B[49m\u001B[43m,\u001B[49m\n\u001B[1;32m    495\u001B[0m \u001B[43m    \u001B[49m\u001B[43mcookies\u001B[49m\u001B[38;5;241;43m=\u001B[39;49m\u001B[43mmerged_cookies\u001B[49m\u001B[43m,\u001B[49m\n\u001B[1;32m    496\u001B[0m \u001B[43m    \u001B[49m\u001B[43mhooks\u001B[49m\u001B[38;5;241;43m=\u001B[39;49m\u001B[43mmerge_hooks\u001B[49m\u001B[43m(\u001B[49m\u001B[43mrequest\u001B[49m\u001B[38;5;241;43m.\u001B[39;49m\u001B[43mhooks\u001B[49m\u001B[43m,\u001B[49m\u001B[43m \u001B[49m\u001B[38;5;28;43mself\u001B[39;49m\u001B[38;5;241;43m.\u001B[39;49m\u001B[43mhooks\u001B[49m\u001B[43m)\u001B[49m\u001B[43m,\u001B[49m\n\u001B[1;32m    497\u001B[0m \u001B[43m\u001B[49m\u001B[43m)\u001B[49m\n\u001B[1;32m    498\u001B[0m \u001B[38;5;28;01mreturn\u001B[39;00m p\n\nFile \u001B[0;32m/databricks/python/lib/python3.10/site-packages/requests/models.py:371\u001B[0m, in \u001B[0;36mPreparedRequest.prepare\u001B[0;34m(self, method, url, headers, files, data, params, auth, cookies, hooks, json)\u001B[0m\n\u001B[1;32m    369\u001B[0m \u001B[38;5;28mself\u001B[39m\u001B[38;5;241m.\u001B[39mprepare_headers(headers)\n\u001B[1;32m    370\u001B[0m \u001B[38;5;28mself\u001B[39m\u001B[38;5;241m.\u001B[39mprepare_cookies(cookies)\n\u001B[0;32m--> 371\u001B[0m \u001B[38;5;28;43mself\u001B[39;49m\u001B[38;5;241;43m.\u001B[39;49m\u001B[43mprepare_body\u001B[49m\u001B[43m(\u001B[49m\u001B[43mdata\u001B[49m\u001B[43m,\u001B[49m\u001B[43m \u001B[49m\u001B[43mfiles\u001B[49m\u001B[43m,\u001B[49m\u001B[43m \u001B[49m\u001B[43mjson\u001B[49m\u001B[43m)\u001B[49m\n\u001B[1;32m    372\u001B[0m \u001B[38;5;28mself\u001B[39m\u001B[38;5;241m.\u001B[39mprepare_auth(auth, url)\n\u001B[1;32m    374\u001B[0m \u001B[38;5;66;03m# Note that prepare_auth must be last to enable authentication schemes\u001B[39;00m\n\u001B[1;32m    375\u001B[0m \u001B[38;5;66;03m# such as OAuth to work on a fully prepared request.\u001B[39;00m\n\u001B[1;32m    376\u001B[0m \n\u001B[1;32m    377\u001B[0m \u001B[38;5;66;03m# This MUST go after prepare_auth. Authenticators could add a hook\u001B[39;00m\n\nFile \u001B[0;32m/databricks/python/lib/python3.10/site-packages/requests/models.py:511\u001B[0m, in \u001B[0;36mPreparedRequest.prepare_body\u001B[0;34m(self, data, files, json)\u001B[0m\n\u001B[1;32m    508\u001B[0m content_type \u001B[38;5;241m=\u001B[39m \u001B[38;5;124m\"\u001B[39m\u001B[38;5;124mapplication/json\u001B[39m\u001B[38;5;124m\"\u001B[39m\n\u001B[1;32m    510\u001B[0m \u001B[38;5;28;01mtry\u001B[39;00m:\n\u001B[0;32m--> 511\u001B[0m     body \u001B[38;5;241m=\u001B[39m \u001B[43mcomplexjson\u001B[49m\u001B[38;5;241;43m.\u001B[39;49m\u001B[43mdumps\u001B[49m\u001B[43m(\u001B[49m\u001B[43mjson\u001B[49m\u001B[43m,\u001B[49m\u001B[43m \u001B[49m\u001B[43mallow_nan\u001B[49m\u001B[38;5;241;43m=\u001B[39;49m\u001B[38;5;28;43;01mFalse\u001B[39;49;00m\u001B[43m)\u001B[49m\n\u001B[1;32m    512\u001B[0m \u001B[38;5;28;01mexcept\u001B[39;00m \u001B[38;5;167;01mValueError\u001B[39;00m \u001B[38;5;28;01mas\u001B[39;00m ve:\n\u001B[1;32m    513\u001B[0m     \u001B[38;5;28;01mraise\u001B[39;00m InvalidJSONError(ve, request\u001B[38;5;241m=\u001B[39m\u001B[38;5;28mself\u001B[39m)\n\nFile \u001B[0;32m/databricks/python/lib/python3.10/site-packages/simplejson/__init__.py:412\u001B[0m, in \u001B[0;36mdumps\u001B[0;34m(obj, skipkeys, ensure_ascii, check_circular, allow_nan, cls, indent, separators, encoding, default, use_decimal, namedtuple_as_object, tuple_as_array, bigint_as_string, sort_keys, item_sort_key, for_json, ignore_nan, int_as_string_bitcount, iterable_as_array, **kw)\u001B[0m\n\u001B[1;32m    396\u001B[0m \u001B[38;5;28;01mif\u001B[39;00m \u001B[38;5;28mcls\u001B[39m \u001B[38;5;129;01mis\u001B[39;00m \u001B[38;5;28;01mNone\u001B[39;00m:\n\u001B[1;32m    397\u001B[0m     \u001B[38;5;28mcls\u001B[39m \u001B[38;5;241m=\u001B[39m JSONEncoder\n\u001B[1;32m    398\u001B[0m \u001B[38;5;28;01mreturn\u001B[39;00m \u001B[38;5;28;43mcls\u001B[39;49m\u001B[43m(\u001B[49m\n\u001B[1;32m    399\u001B[0m \u001B[43m    \u001B[49m\u001B[43mskipkeys\u001B[49m\u001B[38;5;241;43m=\u001B[39;49m\u001B[43mskipkeys\u001B[49m\u001B[43m,\u001B[49m\u001B[43m \u001B[49m\u001B[43mensure_ascii\u001B[49m\u001B[38;5;241;43m=\u001B[39;49m\u001B[43mensure_ascii\u001B[49m\u001B[43m,\u001B[49m\n\u001B[1;32m    400\u001B[0m \u001B[43m    \u001B[49m\u001B[43mcheck_circular\u001B[49m\u001B[38;5;241;43m=\u001B[39;49m\u001B[43mcheck_circular\u001B[49m\u001B[43m,\u001B[49m\u001B[43m \u001B[49m\u001B[43mallow_nan\u001B[49m\u001B[38;5;241;43m=\u001B[39;49m\u001B[43mallow_nan\u001B[49m\u001B[43m,\u001B[49m\u001B[43m \u001B[49m\u001B[43mindent\u001B[49m\u001B[38;5;241;43m=\u001B[39;49m\u001B[43mindent\u001B[49m\u001B[43m,\u001B[49m\n\u001B[1;32m    401\u001B[0m \u001B[43m    \u001B[49m\u001B[43mseparators\u001B[49m\u001B[38;5;241;43m=\u001B[39;49m\u001B[43mseparators\u001B[49m\u001B[43m,\u001B[49m\u001B[43m \u001B[49m\u001B[43mencoding\u001B[49m\u001B[38;5;241;43m=\u001B[39;49m\u001B[43mencoding\u001B[49m\u001B[43m,\u001B[49m\u001B[43m \u001B[49m\u001B[43mdefault\u001B[49m\u001B[38;5;241;43m=\u001B[39;49m\u001B[43mdefault\u001B[49m\u001B[43m,\u001B[49m\n\u001B[1;32m    402\u001B[0m \u001B[43m    \u001B[49m\u001B[43muse_decimal\u001B[49m\u001B[38;5;241;43m=\u001B[39;49m\u001B[43muse_decimal\u001B[49m\u001B[43m,\u001B[49m\n\u001B[1;32m    403\u001B[0m \u001B[43m    \u001B[49m\u001B[43mnamedtuple_as_object\u001B[49m\u001B[38;5;241;43m=\u001B[39;49m\u001B[43mnamedtuple_as_object\u001B[49m\u001B[43m,\u001B[49m\n\u001B[1;32m    404\u001B[0m \u001B[43m    \u001B[49m\u001B[43mtuple_as_array\u001B[49m\u001B[38;5;241;43m=\u001B[39;49m\u001B[43mtuple_as_array\u001B[49m\u001B[43m,\u001B[49m\n\u001B[1;32m    405\u001B[0m \u001B[43m    \u001B[49m\u001B[43miterable_as_array\u001B[49m\u001B[38;5;241;43m=\u001B[39;49m\u001B[43miterable_as_array\u001B[49m\u001B[43m,\u001B[49m\n\u001B[1;32m    406\u001B[0m \u001B[43m    \u001B[49m\u001B[43mbigint_as_string\u001B[49m\u001B[38;5;241;43m=\u001B[39;49m\u001B[43mbigint_as_string\u001B[49m\u001B[43m,\u001B[49m\n\u001B[1;32m    407\u001B[0m \u001B[43m    \u001B[49m\u001B[43msort_keys\u001B[49m\u001B[38;5;241;43m=\u001B[39;49m\u001B[43msort_keys\u001B[49m\u001B[43m,\u001B[49m\n\u001B[1;32m    408\u001B[0m \u001B[43m    \u001B[49m\u001B[43mitem_sort_key\u001B[49m\u001B[38;5;241;43m=\u001B[39;49m\u001B[43mitem_sort_key\u001B[49m\u001B[43m,\u001B[49m\n\u001B[1;32m    409\u001B[0m \u001B[43m    \u001B[49m\u001B[43mfor_json\u001B[49m\u001B[38;5;241;43m=\u001B[39;49m\u001B[43mfor_json\u001B[49m\u001B[43m,\u001B[49m\n\u001B[1;32m    410\u001B[0m \u001B[43m    \u001B[49m\u001B[43mignore_nan\u001B[49m\u001B[38;5;241;43m=\u001B[39;49m\u001B[43mignore_nan\u001B[49m\u001B[43m,\u001B[49m\n\u001B[1;32m    411\u001B[0m \u001B[43m    \u001B[49m\u001B[43mint_as_string_bitcount\u001B[49m\u001B[38;5;241;43m=\u001B[39;49m\u001B[43mint_as_string_bitcount\u001B[49m\u001B[43m,\u001B[49m\n\u001B[0;32m--> 412\u001B[0m \u001B[43m    \u001B[49m\u001B[38;5;241;43m*\u001B[39;49m\u001B[38;5;241;43m*\u001B[39;49m\u001B[43mkw\u001B[49m\u001B[43m)\u001B[49m\u001B[38;5;241;43m.\u001B[39;49m\u001B[43mencode\u001B[49m\u001B[43m(\u001B[49m\u001B[43mobj\u001B[49m\u001B[43m)\u001B[49m\n\nFile \u001B[0;32m/databricks/python/lib/python3.10/site-packages/simplejson/encoder.py:296\u001B[0m, in \u001B[0;36mJSONEncoder.encode\u001B[0;34m(self, o)\u001B[0m\n\u001B[1;32m    292\u001B[0m         \u001B[38;5;28;01mreturn\u001B[39;00m encode_basestring(o)\n\u001B[1;32m    293\u001B[0m \u001B[38;5;66;03m# This doesn't pass the iterator directly to ''.join() because the\u001B[39;00m\n\u001B[1;32m    294\u001B[0m \u001B[38;5;66;03m# exceptions aren't as detailed.  The list call should be roughly\u001B[39;00m\n\u001B[1;32m    295\u001B[0m \u001B[38;5;66;03m# equivalent to the PySequence_Fast that ''.join() would do.\u001B[39;00m\n\u001B[0;32m--> 296\u001B[0m chunks \u001B[38;5;241m=\u001B[39m \u001B[38;5;28;43mself\u001B[39;49m\u001B[38;5;241;43m.\u001B[39;49m\u001B[43miterencode\u001B[49m\u001B[43m(\u001B[49m\u001B[43mo\u001B[49m\u001B[43m,\u001B[49m\u001B[43m \u001B[49m\u001B[43m_one_shot\u001B[49m\u001B[38;5;241;43m=\u001B[39;49m\u001B[38;5;28;43;01mTrue\u001B[39;49;00m\u001B[43m)\u001B[49m\n\u001B[1;32m    297\u001B[0m \u001B[38;5;28;01mif\u001B[39;00m \u001B[38;5;129;01mnot\u001B[39;00m \u001B[38;5;28misinstance\u001B[39m(chunks, (\u001B[38;5;28mlist\u001B[39m, \u001B[38;5;28mtuple\u001B[39m)):\n\u001B[1;32m    298\u001B[0m     chunks \u001B[38;5;241m=\u001B[39m \u001B[38;5;28mlist\u001B[39m(chunks)\n\nFile \u001B[0;32m/databricks/python/lib/python3.10/site-packages/simplejson/encoder.py:378\u001B[0m, in \u001B[0;36mJSONEncoder.iterencode\u001B[0;34m(self, o, _one_shot)\u001B[0m\n\u001B[1;32m    369\u001B[0m     _iterencode \u001B[38;5;241m=\u001B[39m _make_iterencode(\n\u001B[1;32m    370\u001B[0m         markers, \u001B[38;5;28mself\u001B[39m\u001B[38;5;241m.\u001B[39mdefault, _encoder, \u001B[38;5;28mself\u001B[39m\u001B[38;5;241m.\u001B[39mindent, floatstr,\n\u001B[1;32m    371\u001B[0m         \u001B[38;5;28mself\u001B[39m\u001B[38;5;241m.\u001B[39mkey_separator, \u001B[38;5;28mself\u001B[39m\u001B[38;5;241m.\u001B[39mitem_separator, \u001B[38;5;28mself\u001B[39m\u001B[38;5;241m.\u001B[39msort_keys,\n\u001B[0;32m   (...)\u001B[0m\n\u001B[1;32m    375\u001B[0m         \u001B[38;5;28mself\u001B[39m\u001B[38;5;241m.\u001B[39mitem_sort_key, \u001B[38;5;28mself\u001B[39m\u001B[38;5;241m.\u001B[39mencoding, \u001B[38;5;28mself\u001B[39m\u001B[38;5;241m.\u001B[39mfor_json,\n\u001B[1;32m    376\u001B[0m         \u001B[38;5;28mself\u001B[39m\u001B[38;5;241m.\u001B[39miterable_as_array, Decimal\u001B[38;5;241m=\u001B[39mdecimal\u001B[38;5;241m.\u001B[39mDecimal)\n\u001B[1;32m    377\u001B[0m \u001B[38;5;28;01mtry\u001B[39;00m:\n\u001B[0;32m--> 378\u001B[0m     \u001B[38;5;28;01mreturn\u001B[39;00m \u001B[43m_iterencode\u001B[49m\u001B[43m(\u001B[49m\u001B[43mo\u001B[49m\u001B[43m,\u001B[49m\u001B[43m \u001B[49m\u001B[38;5;241;43m0\u001B[39;49m\u001B[43m)\u001B[49m\n\u001B[1;32m    379\u001B[0m \u001B[38;5;28;01mfinally\u001B[39;00m:\n\u001B[1;32m    380\u001B[0m     key_memo\u001B[38;5;241m.\u001B[39mclear()\n\nFile \u001B[0;32m/databricks/python/lib/python3.10/site-packages/simplejson/encoder.py:272\u001B[0m, in \u001B[0;36mJSONEncoder.default\u001B[0;34m(self, o)\u001B[0m\n\u001B[1;32m    254\u001B[0m \u001B[38;5;28;01mdef\u001B[39;00m \u001B[38;5;21mdefault\u001B[39m(\u001B[38;5;28mself\u001B[39m, o):\n\u001B[1;32m    255\u001B[0m     \u001B[38;5;124;03m\"\"\"Implement this method in a subclass such that it returns\u001B[39;00m\n\u001B[1;32m    256\u001B[0m \u001B[38;5;124;03m    a serializable object for ``o``, or calls the base implementation\u001B[39;00m\n\u001B[1;32m    257\u001B[0m \u001B[38;5;124;03m    (to raise a ``TypeError``).\u001B[39;00m\n\u001B[0;32m   (...)\u001B[0m\n\u001B[1;32m    270\u001B[0m \n\u001B[1;32m    271\u001B[0m \u001B[38;5;124;03m    \"\"\"\u001B[39;00m\n\u001B[0;32m--> 272\u001B[0m     \u001B[38;5;28;01mraise\u001B[39;00m \u001B[38;5;167;01mTypeError\u001B[39;00m(\u001B[38;5;124m'\u001B[39m\u001B[38;5;124mObject of type \u001B[39m\u001B[38;5;132;01m%s\u001B[39;00m\u001B[38;5;124m is not JSON serializable\u001B[39m\u001B[38;5;124m'\u001B[39m \u001B[38;5;241m%\u001B[39m\n\u001B[1;32m    273\u001B[0m                     o\u001B[38;5;241m.\u001B[39m\u001B[38;5;18m__class__\u001B[39m\u001B[38;5;241m.\u001B[39m\u001B[38;5;18m__name__\u001B[39m)\n\n\u001B[0;31mTypeError\u001B[0m: Object of type Document is not JSON serializable",
       "errorSummary": "<span class='ansi-red-fg'>TypeError</span>: Object of type Document is not JSON serializable",
       "errorTraceType": "ansi",
       "metadata": {},
       "type": "ipynbError"
      }
     },
     "output_type": "display_data"
    }
   ],
   "source": [
    "embeddings.embed_query()"
   ]
  },
  {
   "cell_type": "code",
   "execution_count": 0,
   "metadata": {
    "application/vnd.databricks.v1+cell": {
     "cellMetadata": {
      "byteLimit": 2048000,
      "rowLimit": 10000
     },
     "inputWidgets": {},
     "nuid": "fc56d36a-38ee-4c24-a579-1f33f738a21f",
     "showTitle": false,
     "title": ""
    }
   },
   "outputs": [
    {
     "output_type": "execute_result",
     "data": {
      "text/plain": [
       "[0.005130517762154341,\n",
       " 0.014105626381933689,\n",
       " 0.043027810752391815,\n",
       " -0.04569117724895477,\n",
       " -0.038370292633771896,\n",
       " -0.04020797088742256,\n",
       " -0.07766948640346527,\n",
       " 0.03742438927292824,\n",
       " -0.03225493058562279,\n",
       " 0.015358815900981426,\n",
       " -0.0033882504794746637,\n",
       " -0.0051072752103209496,\n",
       " -0.04266218841075897,\n",
       " -0.07510266453027725,\n",
       " -0.011607070453464985,\n",
       " -0.04503142833709717,\n",
       " 0.00525738624855876,\n",
       " -0.039342042058706284,\n",
       " -0.01736883632838726,\n",
       " 0.000506086740642786,\n",
       " -0.05894569680094719,\n",
       " 0.020957380533218384,\n",
       " -0.03200934827327728,\n",
       " -0.006558640860021114,\n",
       " -0.017382105812430382,\n",
       " -0.06543591618537903,\n",
       " -0.009039610624313354,\n",
       " -0.0015750301536172628,\n",
       " -0.006512588355690241,\n",
       " -0.012247459031641483,\n",
       " 0.08823949843645096,\n",
       " 0.013848511502146721,\n",
       " 0.03746337071061134,\n",
       " -0.013723590411245823,\n",
       " 0.03650491684675217,\n",
       " 0.04346068948507309,\n",
       " 0.011880920268595219,\n",
       " -0.040568090975284576,\n",
       " 0.025382336229085922,\n",
       " -0.05700818821787834,\n",
       " -0.057057660073041916,\n",
       " 0.055333513766527176,\n",
       " 0.03718474507331848,\n",
       " -0.024033842608332634,\n",
       " 0.05974818021059036,\n",
       " 0.03421788290143013,\n",
       " 0.015762662515044212,\n",
       " 0.01245295163244009,\n",
       " 0.015247232280671597,\n",
       " -0.006560534704476595,\n",
       " -0.04626132920384407,\n",
       " -0.03389771282672882,\n",
       " 0.04357210546731949,\n",
       " -0.008258769288659096,\n",
       " 0.01830844022333622,\n",
       " 0.012012614868581295,\n",
       " -0.028603829443454742,\n",
       " 0.015214342623949051,\n",
       " -0.040238428860902786,\n",
       " 0.0410914309322834,\n",
       " 0.00011065314174629748,\n",
       " -0.0075434292666614056,\n",
       " 0.04376887157559395,\n",
       " 0.012498554773628712,\n",
       " 0.036337509751319885,\n",
       " 0.04570504277944565,\n",
       " 0.07501928508281708,\n",
       " 0.009578768163919449,\n",
       " -0.019274652004241943,\n",
       " 0.04422430321574211,\n",
       " -0.0484638474881649,\n",
       " -0.010738002136349678,\n",
       " -0.07240815460681915,\n",
       " -0.042816370725631714,\n",
       " -0.005292215384542942,\n",
       " 0.056967392563819885,\n",
       " 0.046384964138269424,\n",
       " 0.04788646101951599,\n",
       " 0.005041842348873615,\n",
       " -0.0005176932900212705,\n",
       " -0.06181707605719566,\n",
       " 0.0053059714846313,\n",
       " -0.05648525804281235,\n",
       " 0.011852279305458069,\n",
       " 0.03963906690478325,\n",
       " -0.009054833091795444,\n",
       " -0.030520789325237274,\n",
       " 0.015678590163588524,\n",
       " 0.054334208369255066,\n",
       " 0.06388626992702484,\n",
       " 0.006421868223696947,\n",
       " -0.011651967652142048,\n",
       " -0.06766529381275177,\n",
       " -0.0298762284219265,\n",
       " -0.057281918823719025,\n",
       " 0.022983096539974213,\n",
       " 0.08242924511432648,\n",
       " 0.00516728637740016,\n",
       " -1.4685489986732136e-05,\n",
       " -0.016596432775259018,\n",
       " -0.00023592566139996052,\n",
       " 0.019254673272371292,\n",
       " -0.04133610427379608,\n",
       " -0.05383859947323799,\n",
       " -0.012160432524979115,\n",
       " -0.0242033451795578,\n",
       " 0.0353178046643734,\n",
       " 0.06106988713145256,\n",
       " 0.027514351531863213,\n",
       " 0.0017807591939345002,\n",
       " 0.0643097534775734,\n",
       " 0.07479367405176163,\n",
       " 0.02101968415081501,\n",
       " -0.021445009857416153,\n",
       " 0.04420696198940277,\n",
       " 0.008275211788713932,\n",
       " 0.0389825738966465,\n",
       " -0.03461894765496254,\n",
       " -0.0198059044778347,\n",
       " 0.0019521458307281137,\n",
       " 0.04312556982040405,\n",
       " 0.03843577951192856,\n",
       " 0.02573128417134285,\n",
       " -0.0012550611281767488,\n",
       " -0.0016899885376915336,\n",
       " 0.054141800850629807,\n",
       " 0.03064779005944729,\n",
       " 0.0008817579946480691,\n",
       " -0.052129119634628296,\n",
       " -0.031578369438648224,\n",
       " 0.03437860682606697,\n",
       " -0.07443168014287949,\n",
       " -0.059593696147203445,\n",
       " 0.004576851148158312,\n",
       " 0.06399212777614594,\n",
       " -0.006317020859569311,\n",
       " 0.06638886779546738,\n",
       " -0.017470097169280052,\n",
       " 0.021283505484461784,\n",
       " -0.10079915076494217,\n",
       " 0.04145452007651329,\n",
       " -0.017344465479254723,\n",
       " 0.01768510229885578,\n",
       " -0.0359862744808197,\n",
       " 0.001726822229102254,\n",
       " 0.01993390917778015,\n",
       " -0.028238870203495026,\n",
       " -0.022826723754405975,\n",
       " 0.015905216336250305,\n",
       " -0.026140086352825165,\n",
       " -0.017595138400793076,\n",
       " -0.015792997553944588,\n",
       " 0.008899562992155552,\n",
       " -0.0007195371435955167,\n",
       " 0.008462580852210522,\n",
       " 0.011214318685233593,\n",
       " -0.03880197927355766,\n",
       " 0.05135929211974144,\n",
       " 0.005929823033511639,\n",
       " -0.06626161932945251,\n",
       " 0.06033022329211235,\n",
       " -0.0069227502681314945,\n",
       " -0.034737322479486465,\n",
       " 0.04204975813627243,\n",
       " -0.07365881651639938,\n",
       " -0.004908755421638489,\n",
       " 0.052656807005405426,\n",
       " -0.028443071991205215,\n",
       " -0.019210917875170708,\n",
       " 0.006434109527617693,\n",
       " 0.025889765471220016,\n",
       " 0.03138814494013786,\n",
       " -0.022941550239920616,\n",
       " -0.009827842935919762,\n",
       " 0.022614318877458572,\n",
       " -0.04094914719462395,\n",
       " -0.02746860682964325,\n",
       " 0.039552416652441025,\n",
       " 0.039638202637434006,\n",
       " 0.04892392084002495,\n",
       " -0.020836547017097473,\n",
       " 0.019130520522594452,\n",
       " -0.0016412880504503846,\n",
       " 0.007023751735687256,\n",
       " 0.015477917157113552,\n",
       " -0.0067519256845116615,\n",
       " 0.00770564004778862,\n",
       " 0.01240505650639534,\n",
       " 0.012248092330992222,\n",
       " 0.0006509562954306602,\n",
       " 0.03449459746479988,\n",
       " -0.10828132927417755,\n",
       " -0.008692014962434769,\n",
       " 0.040088701993227005,\n",
       " 0.01112434733659029,\n",
       " 0.01603049412369728,\n",
       " 0.02915148437023163,\n",
       " 0.051680807024240494,\n",
       " -0.0009309158776886761,\n",
       " 0.029350200667977333,\n",
       " 0.028141016140580177,\n",
       " 0.008660991676151752,\n",
       " 0.05177901312708855,\n",
       " 0.022585328668355942,\n",
       " -0.0038161694537848234,\n",
       " 0.02877156436443329,\n",
       " 0.01991455815732479,\n",
       " 0.05558907985687256,\n",
       " 0.011678122915327549,\n",
       " 0.04782117158174515,\n",
       " 0.006191201042383909,\n",
       " 0.03904908150434494,\n",
       " 0.03955291211605072,\n",
       " -0.015361649915575981,\n",
       " -0.03504316136240959,\n",
       " 0.04366634041070938,\n",
       " 0.005628546699881554,\n",
       " -0.02470761351287365,\n",
       " -0.037443608045578,\n",
       " 0.040265042334795,\n",
       " -0.02916470356285572,\n",
       " -0.0024424302391707897,\n",
       " 0.0397985503077507,\n",
       " -0.013811684213578701,\n",
       " 0.06787465512752533,\n",
       " -0.0628238320350647,\n",
       " -0.01181035302579403,\n",
       " -0.00994752999395132,\n",
       " 0.04462825506925583,\n",
       " 0.009447868913412094,\n",
       " 0.015998216345906258,\n",
       " -0.0014770366251468658,\n",
       " 0.04112459719181061,\n",
       " 0.04424490034580231,\n",
       " -0.022880926728248596,\n",
       " -0.025584379211068153,\n",
       " 0.029348235577344894,\n",
       " -0.04860072582960129,\n",
       " -0.04016836732625961,\n",
       " 0.030553188174962997,\n",
       " -0.01606302335858345,\n",
       " -0.049510058015584946,\n",
       " -0.004950646311044693,\n",
       " -0.04226585477590561,\n",
       " 0.020477956160902977,\n",
       " 0.02192256785929203,\n",
       " -0.021486954763531685,\n",
       " 0.0043924530036747456,\n",
       " -0.05987326055765152,\n",
       " 0.00449468893930316,\n",
       " 0.003531542606651783,\n",
       " -0.003992452751845121,\n",
       " -0.006994729395955801,\n",
       " 0.04590095207095146,\n",
       " -0.030186370015144348,\n",
       " -0.021270619705319405,\n",
       " -0.0009109636885114014,\n",
       " -0.005820434540510178,\n",
       " 0.036524634808301926,\n",
       " 0.03794323280453682,\n",
       " -0.03366321697831154,\n",
       " -0.053507328033447266,\n",
       " -0.06920362263917923,\n",
       " -0.042690470814704895,\n",
       " 0.006866587791591883,\n",
       " -0.03464427962899208,\n",
       " 0.03269711136817932,\n",
       " -0.017838437110185623,\n",
       " 0.046255771070718765,\n",
       " 0.016611142084002495,\n",
       " -0.06885591894388199,\n",
       " 0.04948016628623009,\n",
       " 0.05006632208824158,\n",
       " 0.031531523913145065,\n",
       " 0.017275022342801094,\n",
       " -0.002769787795841694,\n",
       " 0.014417172409594059,\n",
       " 0.012545634061098099,\n",
       " -0.03362341970205307,\n",
       " 0.04023933410644531,\n",
       " -0.017301198095083237,\n",
       " -0.05827663466334343,\n",
       " 0.006782674230635166,\n",
       " -0.010905050672590733,\n",
       " 0.022147824987769127,\n",
       " -0.007688742596656084,\n",
       " 0.04966789484024048,\n",
       " -0.022605927661061287,\n",
       " 0.03677782416343689,\n",
       " -0.06377154588699341,\n",
       " -0.0345059372484684,\n",
       " 0.0011039311066269875,\n",
       " -0.07141604274511337,\n",
       " -0.0009189551929011941,\n",
       " -0.059699855744838715,\n",
       " -0.019075870513916016,\n",
       " 0.03205256164073944,\n",
       " 0.005465253256261349,\n",
       " 0.0670042634010315,\n",
       " 0.01074018981307745,\n",
       " -0.013863383792340755,\n",
       " -0.05167080834507942,\n",
       " 0.031529203057289124,\n",
       " -0.057441290467977524,\n",
       " -0.046036411076784134,\n",
       " -0.007973240688443184,\n",
       " -0.04222596064209938,\n",
       " 0.026279058307409286,\n",
       " -0.010605504736304283,\n",
       " -0.025116736069321632,\n",
       " 0.07253073900938034,\n",
       " 0.06870719790458679,\n",
       " -0.03267225623130798,\n",
       " 0.02986237034201622,\n",
       " 0.038314979523420334,\n",
       " -0.0036413867492228746,\n",
       " 0.06726175546646118,\n",
       " -0.010749372653663158,\n",
       " -0.025234561413526535,\n",
       " -0.05154699087142944,\n",
       " 0.03146175295114517,\n",
       " -0.015878677368164062,\n",
       " 0.012026197277009487,\n",
       " -0.04504530504345894,\n",
       " 0.0018563021440058947,\n",
       " 0.00913292821496725,\n",
       " 0.04240738973021507,\n",
       " 0.03371255472302437,\n",
       " 0.006945922039449215,\n",
       " -0.06010035052895546,\n",
       " 0.08214259147644043,\n",
       " -0.0017390601569786668,\n",
       " -0.09728605300188065,\n",
       " 0.006788745056837797,\n",
       " 0.09639021754264832,\n",
       " 0.004496270790696144,\n",
       " 0.016849759966135025,\n",
       " 0.020527424290776253,\n",
       " 0.05441009998321533,\n",
       " -0.01253752876073122,\n",
       " -0.04068736732006073,\n",
       " -0.027376824989914894,\n",
       " -0.04805254936218262,\n",
       " 0.020855043083429337,\n",
       " -0.03760812431573868,\n",
       " -0.029388893395662308,\n",
       " -0.025733837857842445,\n",
       " 0.047488898038864136,\n",
       " -0.038844961673021317,\n",
       " 0.004364075139164925,\n",
       " 7.443498179782182e-05,\n",
       " 0.08017697185277939,\n",
       " -0.05068405717611313,\n",
       " 0.009804594330489635,\n",
       " 0.06644222885370255,\n",
       " -0.020892463624477386,\n",
       " 0.030495494604110718,\n",
       " -0.03224450722336769,\n",
       " -0.003953781444579363,\n",
       " 0.02602337673306465,\n",
       " 0.09220299869775772,\n",
       " 0.010527258738875389,\n",
       " -0.07143197953701019,\n",
       " -0.04246455430984497,\n",
       " -0.017265090718865395,\n",
       " 0.016458453610539436,\n",
       " -0.02706901542842388,\n",
       " -0.02669731341302395,\n",
       " 0.005831941496580839,\n",
       " 0.035304684191942215,\n",
       " 0.07209694385528564,\n",
       " 0.007813169620931149,\n",
       " -0.04421131685376167,\n",
       " 0.028003869578242302,\n",
       " -0.055998701602220535,\n",
       " 0.00057231291430071,\n",
       " -0.02382349595427513,\n",
       " -0.029463686048984528,\n",
       " -0.050942063331604004,\n",
       " -0.016063639894127846,\n",
       " 0.024012485519051552,\n",
       " -0.0040188017301261425,\n",
       " 0.0184317734092474,\n",
       " 0.030630555003881454,\n",
       " 0.018384793773293495,\n",
       " -0.004668771754950285,\n",
       " 0.0426647774875164,\n",
       " -0.07296808063983917,\n",
       " 0.004968435503542423,\n",
       " 0.018692487850785255,\n",
       " 0.05591650307178497,\n",
       " 0.03617865964770317,\n",
       " 0.04308415576815605,\n",
       " -0.03761494532227516,\n",
       " 0.06631837040185928,\n",
       " -0.028469014912843704,\n",
       " 0.0033739309292286634,\n",
       " -0.02169489488005638,\n",
       " -0.04153643175959587,\n",
       " 0.013206005096435547,\n",
       " 0.07586458325386047,\n",
       " -0.012240241281688213,\n",
       " 0.015133976005017757,\n",
       " -0.022949783131480217,\n",
       " 0.011742677539587021,\n",
       " 0.02787749655544758,\n",
       " 0.001217565848492086,\n",
       " 0.007328786421567202,\n",
       " 0.006547870580106974,\n",
       " 0.03996199369430542,\n",
       " 0.04822506755590439,\n",
       " 0.019400713965296745,\n",
       " -0.04781893268227577,\n",
       " 0.003295266069471836,\n",
       " 0.0351862795650959,\n",
       " -0.03160334751009941,\n",
       " -0.021659402176737785,\n",
       " -0.0006143235368654132,\n",
       " 0.03101038932800293,\n",
       " 0.02475162222981453,\n",
       " -0.052026402205228806,\n",
       " -0.039229266345500946,\n",
       " -0.025578787550330162,\n",
       " 0.02473747543990612,\n",
       " -0.035590071231126785,\n",
       " 0.02407071739435196,\n",
       " -0.011893187649548054,\n",
       " 0.028359629213809967,\n",
       " -0.030593454837799072,\n",
       " 0.06225580722093582,\n",
       " 0.027438543736934662,\n",
       " 0.03419104218482971,\n",
       " 0.04418416693806648,\n",
       " 0.0016878115711733699,\n",
       " -0.010048200376331806,\n",
       " 0.07676880061626434,\n",
       " -0.03508472815155983,\n",
       " -0.0084625743329525,\n",
       " -0.06678833067417145,\n",
       " 0.0895790159702301,\n",
       " 0.02284882217645645,\n",
       " -0.0012572084087878466,\n",
       " -0.0038760409224778414,\n",
       " 0.04518880322575569,\n",
       " 0.03238403797149658,\n",
       " 0.005495879799127579,\n",
       " 0.013630736619234085,\n",
       " -0.0466172993183136,\n",
       " 0.008475813083350658,\n",
       " -0.0005517698009498417,\n",
       " 0.02776492014527321,\n",
       " 0.05044372379779816,\n",
       " 0.0373283214867115,\n",
       " 0.04555452987551689,\n",
       " -0.05719809979200363,\n",
       " 0.006419367156922817,\n",
       " 0.04639795795083046,\n",
       " -0.021948836743831635,\n",
       " 0.013527211733162403,\n",
       " -0.0072437794879078865,\n",
       " 0.04615898057818413,\n",
       " -0.008363025262951851,\n",
       " -0.02203698456287384,\n",
       " 0.02657962404191494,\n",
       " 0.003433582140132785,\n",
       " 0.009885563515126705,\n",
       " -0.004547604825347662,\n",
       " -0.02007351629436016,\n",
       " 0.024843094870448112,\n",
       " -0.0013780961744487286,\n",
       " 0.006358753424137831,\n",
       " 0.01920195296406746,\n",
       " -0.007915908470749855,\n",
       " -0.043429259210824966,\n",
       " -0.02328202873468399,\n",
       " 0.005844132509082556,\n",
       " -0.02287830039858818,\n",
       " -0.008362819440662861,\n",
       " 0.0017905090935528278,\n",
       " -0.042352333664894104,\n",
       " 0.001062253606505692,\n",
       " -0.06140449643135071,\n",
       " -0.017863700166344643,\n",
       " -0.009675711393356323,\n",
       " -0.016866669058799744,\n",
       " 0.03887544572353363,\n",
       " -0.04808669164776802,\n",
       " 0.0052172522991895676,\n",
       " -0.008297738619148731,\n",
       " -0.014407878741621971,\n",
       " 0.001935743959620595,\n",
       " -0.005563443060964346,\n",
       " -0.014165340922772884,\n",
       " -0.07448461651802063,\n",
       " 0.03721253201365471,\n",
       " -0.0318262092769146,\n",
       " -0.044693756848573685,\n",
       " -0.02995685487985611,\n",
       " 0.04033378139138222,\n",
       " -0.04881206527352333,\n",
       " -0.03218115121126175,\n",
       " 0.007532018702477217,\n",
       " -0.014682144857943058,\n",
       " 0.0501822866499424,\n",
       " -0.019319046288728714,\n",
       " 0.0038272168021649122,\n",
       " -0.02296968549489975,\n",
       " 0.008790546096861362,\n",
       " -0.017273159697651863,\n",
       " 0.010806621052324772,\n",
       " 0.026725759729743004,\n",
       " -0.0047761001624166965,\n",
       " 0.003000690136104822,\n",
       " -0.005672016646713018,\n",
       " -0.011020544916391373,\n",
       " -0.03696201369166374,\n",
       " 0.008544600568711758,\n",
       " 0.012542331591248512,\n",
       " 0.0014238181756809354,\n",
       " -0.09301535785198212,\n",
       " -0.007321420591324568,\n",
       " 0.013807957991957664,\n",
       " 0.03833950310945511,\n",
       " 0.01051013171672821,\n",
       " -0.007461172062903643,\n",
       " -0.02212868072092533,\n",
       " 0.06671580672264099,\n",
       " -0.00391897838562727,\n",
       " -0.01937050186097622,\n",
       " 0.05947553738951683,\n",
       " -0.034805092960596085,\n",
       " -0.00539194792509079,\n",
       " 0.013878547586500645,\n",
       " -0.039054591208696365,\n",
       " 0.0031603400129824877,\n",
       " 0.021103883162140846,\n",
       " -0.0022859603632241488,\n",
       " 0.010470646433532238,\n",
       " -0.03249683603644371,\n",
       " 0.0010322993621230125,\n",
       " -0.029632600024342537,\n",
       " 0.007036097813397646,\n",
       " -0.044926177710294724,\n",
       " -0.001376611995510757,\n",
       " -0.02522456832230091,\n",
       " -0.02617880515754223,\n",
       " -0.01444559171795845,\n",
       " -0.009537153877317905,\n",
       " -0.019012868404388428,\n",
       " 0.032709501683712006,\n",
       " 0.013007269240915775,\n",
       " 0.05481743440032005,\n",
       " -0.04047294333577156,\n",
       " 0.06991453468799591,\n",
       " -0.009787117131054401,\n",
       " 0.01565827988088131,\n",
       " 0.01755949668586254,\n",
       " 0.0015697567723691463,\n",
       " 0.03337191790342331,\n",
       " -0.011587212793529034,\n",
       " 0.034785013645887375,\n",
       " 0.030320964753627777,\n",
       " -0.014405147172510624,\n",
       " 0.036247119307518005,\n",
       " -0.07052084803581238,\n",
       " -0.026619944721460342,\n",
       " 0.04613445699214935,\n",
       " -0.005507911555469036,\n",
       " -0.025565089657902718,\n",
       " 0.015320375561714172,\n",
       " 0.035905078053474426,\n",
       " 0.004384024068713188,\n",
       " 0.039566099643707275,\n",
       " -0.019818369299173355,\n",
       " 0.03850528970360756,\n",
       " -0.008421752601861954,\n",
       " 0.0362921766936779,\n",
       " 0.014683013781905174,\n",
       " 0.048873040825128555,\n",
       " 0.0019148155115544796,\n",
       " 0.033782243728637695,\n",
       " -0.027319010347127914,\n",
       " -0.025824008509516716,\n",
       " -0.01880030706524849,\n",
       " -0.027053214609622955,\n",
       " -0.05280286446213722,\n",
       " 0.055987145751714706,\n",
       " 0.025378061458468437,\n",
       " -0.04672820121049881,\n",
       " 0.047592904418706894,\n",
       " -0.04515804350376129,\n",
       " -0.05020679906010628,\n",
       " -0.028264539316296577,\n",
       " -0.014204608276486397,\n",
       " -0.020435726270079613,\n",
       " 0.032771311700344086,\n",
       " 0.062108129262924194,\n",
       " -0.01493251882493496,\n",
       " -0.011943165212869644,\n",
       " 0.008664642460644245,\n",
       " -0.012587589211761951,\n",
       " 0.02970116212964058,\n",
       " -0.0305318720638752,\n",
       " 0.0313962958753109,\n",
       " 0.051924727857112885,\n",
       " 0.008466695435345173,\n",
       " 0.060424357652664185,\n",
       " 0.04636652022600174,\n",
       " -0.025766177102923393,\n",
       " -0.02911164052784443,\n",
       " 0.07863736152648926,\n",
       " -0.03564976900815964,\n",
       " 0.07900068908929825,\n",
       " 0.04197845980525017,\n",
       " -0.00777477165684104,\n",
       " -0.004248795565217733,\n",
       " -0.05229460448026657,\n",
       " -0.0006483186152763665,\n",
       " -0.007799401413649321,\n",
       " 0.07141675800085068,\n",
       " -0.056520722806453705,\n",
       " 0.013146903365850449,\n",
       " -0.005359974689781666,\n",
       " 0.05497676879167557,\n",
       " 0.024778977036476135,\n",
       " 0.0014765806263312697,\n",
       " -0.06386520713567734,\n",
       " 0.011241416446864605,\n",
       " -0.007186762988567352,\n",
       " -0.043129436671733856,\n",
       " 5.633845285046846e-05,\n",
       " -0.033149540424346924,\n",
       " 0.0011322153732180595,\n",
       " -0.005434333812445402,\n",
       " -0.0575227290391922,\n",
       " -0.04554658755660057,\n",
       " -0.04909995198249817,\n",
       " -0.02143092080950737,\n",
       " 0.024816621094942093,\n",
       " -0.03944158926606178,\n",
       " -0.0019751843065023422,\n",
       " 0.029768263921141624,\n",
       " 0.00875172484666109,\n",
       " 0.023919763043522835,\n",
       " -0.0019247687887400389,\n",
       " -0.06714175641536713,\n",
       " 0.06421400606632233,\n",
       " 0.04270068556070328,\n",
       " -0.031765419989824295,\n",
       " 0.040279585868120193,\n",
       " -0.00846895296126604,\n",
       " -0.002422981895506382,\n",
       " -0.02850751392543316,\n",
       " -0.04808197543025017,\n",
       " -0.044365253299474716,\n",
       " -0.000776769476942718,\n",
       " 0.0015492300735786557,\n",
       " 0.015849385410547256,\n",
       " 0.027540773153305054,\n",
       " -0.027219446375966072,\n",
       " -0.07567578554153442,\n",
       " 0.06105511635541916,\n",
       " -0.008869768120348454,\n",
       " -0.008056691847741604,\n",
       " 0.02194906398653984,\n",
       " -0.006948616821318865,\n",
       " -0.032171592116355896,\n",
       " -0.036815859377384186,\n",
       " 0.04585392400622368,\n",
       " 0.008023698814213276,\n",
       " -0.0062031215056777,\n",
       " -0.02176639437675476,\n",
       " 0.05492847412824631,\n",
       " -0.010838944464921951,\n",
       " 0.025438129901885986,\n",
       " 0.03813093155622482,\n",
       " 0.005207096226513386,\n",
       " -0.05657230690121651,\n",
       " -0.029473472386598587,\n",
       " -0.04831978306174278,\n",
       " -0.029671479016542435,\n",
       " -0.02165435068309307,\n",
       " -0.01941521093249321,\n",
       " 0.0150161013007164,\n",
       " 0.0019569380674511194,\n",
       " -0.017735272645950317,\n",
       " -0.015846209600567818,\n",
       " 0.07186782360076904,\n",
       " -0.07078580558300018,\n",
       " -0.0014295568689703941,\n",
       " -0.04554913565516472,\n",
       " 0.013271724805235863,\n",
       " 0.027582339942455292,\n",
       " -0.05628180503845215,\n",
       " 0.037078920751810074,\n",
       " 0.0214438084512949,\n",
       " -0.014422614127397537,\n",
       " 0.02013787440955639,\n",
       " -0.06971181929111481,\n",
       " -0.06948834657669067,\n",
       " 0.013580050319433212,\n",
       " 0.06359748542308807,\n",
       " 0.0848727747797966,\n",
       " -0.0425361767411232,\n",
       " 0.03747260943055153,\n",
       " -0.05399375408887863,\n",
       " -0.017086418345570564,\n",
       " 0.013301532715559006,\n",
       " 0.05842824652791023,\n",
       " 0.03768901154398918,\n",
       " -0.057063546031713486,\n",
       " -0.04471796751022339,\n",
       " -0.01210549846291542,\n",
       " -0.02799963764846325,\n",
       " -0.006559695582836866,\n",
       " -0.008475830778479576,\n",
       " -0.016665179282426834,\n",
       " -0.007380631286650896,\n",
       " 0.03637676313519478,\n",
       " 0.01395126711577177,\n",
       " -0.029111778363585472,\n",
       " 0.016931699588894844,\n",
       " 0.003518742509186268,\n",
       " 0.06548050045967102,\n",
       " -0.003129504853859544,\n",
       " 0.012465651147067547,\n",
       " 0.011691329069435596,\n",
       " -0.0659751445055008,\n",
       " -0.003115756204351783,\n",
       " 0.028971565887331963,\n",
       " 0.00664215674623847,\n",
       " 0.004280968103557825,\n",
       " -0.040346644818782806,\n",
       " 0.02515040710568428,\n",
       " -0.019208060577511787,\n",
       " -0.003611569758504629,\n",
       " 0.015892786905169487,\n",
       " 0.0941292867064476,\n",
       " -0.013050135225057602,\n",
       " 0.04617919400334358,\n",
       " 0.005134216044098139,\n",
       " -0.002558741718530655,\n",
       " 0.027174189686775208,\n",
       " 0.0023226060438901186,\n",
       " 0.036344174295663834,\n",
       " -0.013635951094329357,\n",
       " 0.0020575313828885555,\n",
       " 0.017067531123757362,\n",
       " -0.0702679380774498,\n",
       " -0.027521610260009766,\n",
       " -0.09437977522611618,\n",
       " -0.013963454402983189,\n",
       " -0.029622511938214302,\n",
       " -0.017314894124865532,\n",
       " 0.043291062116622925,\n",
       " 0.0332028791308403,\n",
       " -0.04619315639138222,\n",
       " 0.0321609228849411,\n",
       " 0.04327833279967308,\n",
       " -0.038543254137039185,\n",
       " -0.0402822345495224,\n",
       " -0.017286397516727448,\n",
       " -0.026732033118605614,\n",
       " 0.02760976366698742,\n",
       " -0.00825141929090023,\n",
       " -0.07905260473489761,\n",
       " -0.0036655282601714134,\n",
       " 0.06544855237007141]"
      ]
     },
     "execution_count": 45,
     "metadata": {},
     "output_type": "execute_result"
    }
   ],
   "source": [
    "query_result"
   ]
  },
  {
   "cell_type": "code",
   "execution_count": 0,
   "metadata": {
    "application/vnd.databricks.v1+cell": {
     "cellMetadata": {
      "byteLimit": 2048000,
      "rowLimit": 10000
     },
     "inputWidgets": {},
     "nuid": "b1066f21-e5be-4952-b952-1e4ec90de2b7",
     "showTitle": false,
     "title": ""
    }
   },
   "outputs": [],
   "source": [
    "document_text = \"This is a test document.\"\n",
    "document_result = embeddings.embed_documents([document_text])"
   ]
  },
  {
   "cell_type": "code",
   "execution_count": 0,
   "metadata": {
    "application/vnd.databricks.v1+cell": {
     "cellMetadata": {
      "byteLimit": 2048000,
      "rowLimit": 10000
     },
     "inputWidgets": {},
     "nuid": "c724a3ad-2279-4eef-8dad-d37ebd10bc0d",
     "showTitle": false,
     "title": ""
    }
   },
   "outputs": [
    {
     "output_type": "stream",
     "name": "stdout",
     "output_type": "stream",
     "text": [
      "Cosine similarity between document and query: 0.567192070710913\n"
     ]
    }
   ],
   "source": [
    "import numpy as np\n",
    "\n",
    "query_numpy = np.array(query_result)\n",
    "document_numpy = np.array(document_result[0])\n",
    "similarity = np.dot(query_numpy, document_numpy) / (\n",
    "    np.linalg.norm(query_numpy) * np.linalg.norm(document_numpy)\n",
    ")\n",
    "print(f\"Cosine similarity between document and query: {similarity}\")"
   ]
  },
  {
   "cell_type": "code",
   "execution_count": 0,
   "metadata": {
    "application/vnd.databricks.v1+cell": {
     "cellMetadata": {
      "byteLimit": 2048000,
      "rowLimit": 10000
     },
     "inputWidgets": {},
     "nuid": "280e9a28-a270-446f-88a3-9bcee2d9fbed",
     "showTitle": false,
     "title": ""
    }
   },
   "outputs": [
    {
     "output_type": "stream",
     "name": "stdout",
     "output_type": "stream",
     "text": [
      "\u001B[43mNote: you may need to restart the kernel using dbutils.library.restartPython() to use updated packages.\u001B[0m\nCollecting InstructorEmbedding\n  Downloading InstructorEmbedding-1.0.1-py2.py3-none-any.whl (19 kB)\nInstalling collected packages: InstructorEmbedding\nSuccessfully installed InstructorEmbedding-1.0.1\n\u001B[43mNote: you may need to restart the kernel using dbutils.library.restartPython() to use updated packages.\u001B[0m\n"
     ]
    }
   ],
   "source": [
    "%pip install InstructorEmbedding"
   ]
  },
  {
   "cell_type": "code",
   "execution_count": 0,
   "metadata": {
    "application/vnd.databricks.v1+cell": {
     "cellMetadata": {
      "byteLimit": 2048000,
      "rowLimit": 10000
     },
     "inputWidgets": {},
     "nuid": "20cf034f-6809-494e-9152-cce02d7e7c38",
     "showTitle": false,
     "title": ""
    }
   },
   "outputs": [],
   "source": [
    "dbutils.library.restartPython()"
   ]
  },
  {
   "cell_type": "code",
   "execution_count": 0,
   "metadata": {
    "application/vnd.databricks.v1+cell": {
     "cellMetadata": {},
     "inputWidgets": {},
     "nuid": "c09069fd-daaf-45d8-aae3-06422740f3d7",
     "showTitle": false,
     "title": ""
    }
   },
   "outputs": [],
   "source": []
  },
  {
   "cell_type": "code",
   "execution_count": 0,
   "metadata": {
    "application/vnd.databricks.v1+cell": {
     "cellMetadata": {
      "byteLimit": 2048000,
      "rowLimit": 10000
     },
     "inputWidgets": {},
     "nuid": "95795f76-b892-45cb-8951-c12d83bbef04",
     "showTitle": false,
     "title": ""
    }
   },
   "outputs": [
    {
     "output_type": "display_data",
     "data": {
      "text/plain": [
       "\u001B[0;31m---------------------------------------------------------------------------\u001B[0m\n",
       "\u001B[0;31mNameError\u001B[0m                                 Traceback (most recent call last)\n",
       "File \u001B[0;32m<command-3278141893405842>:1\u001B[0m\n",
       "\u001B[0;32m----> 1\u001B[0m \u001B[43mdata\u001B[49m\u001B[38;5;241m.\u001B[39mhead()\n",
       "\n",
       "\u001B[0;31mNameError\u001B[0m: name 'data' is not defined"
      ]
     },
     "metadata": {
      "application/vnd.databricks.v1+output": {
       "arguments": {},
       "data": "\u001B[0;31m---------------------------------------------------------------------------\u001B[0m\n\u001B[0;31mNameError\u001B[0m                                 Traceback (most recent call last)\nFile \u001B[0;32m<command-3278141893405842>:1\u001B[0m\n\u001B[0;32m----> 1\u001B[0m \u001B[43mdata\u001B[49m\u001B[38;5;241m.\u001B[39mhead()\n\n\u001B[0;31mNameError\u001B[0m: name 'data' is not defined",
       "errorSummary": "<span class='ansi-red-fg'>NameError</span>: name 'data' is not defined",
       "errorTraceType": "ansi",
       "metadata": {},
       "type": "ipynbError"
      }
     },
     "output_type": "display_data"
    }
   ],
   "source": [
    "data.head()"
   ]
  },
  {
   "cell_type": "code",
   "execution_count": 0,
   "metadata": {
    "application/vnd.databricks.v1+cell": {
     "cellMetadata": {
      "byteLimit": 2048000,
      "rowLimit": 10000
     },
     "inputWidgets": {},
     "nuid": "6718f3c4-ac93-4465-8cdc-0495e6aefd8b",
     "showTitle": false,
     "title": ""
    }
   },
   "outputs": [
    {
     "output_type": "display_data",
     "data": {
      "application/vnd.databricks.v1+bamboolib_hint": "{\"pd.DataFrames\": [\"data\"], \"version\": \"0.0.1\"}",
      "text/plain": []
     },
     "metadata": {},
     "output_type": "display_data"
    }
   ],
   "source": [
    "import pandas as pd\n",
    "data=pd.read_csv(\"file:/Workspace/Users/shalu.tyagi@hdfcbank.com/Dataforfinetuning.csv\")"
   ]
  },
  {
   "cell_type": "code",
   "execution_count": 0,
   "metadata": {
    "application/vnd.databricks.v1+cell": {
     "cellMetadata": {
      "byteLimit": 2048000,
      "rowLimit": 10000
     },
     "inputWidgets": {},
     "nuid": "6a3dc228-9783-4460-bdf1-b6bd608c804a",
     "showTitle": false,
     "title": ""
    }
   },
   "outputs": [
    {
     "output_type": "display_data",
     "data": {
      "application/vnd.jupyter.widget-view+json": {
       "model_id": "a16a913cfd35465a8e7a5480dd852ae8",
       "version_major": 2,
       "version_minor": 0
      },
      "text/plain": [
       "Downloading .gitattributes:   0%|          | 0.00/1.48k [00:00<?, ?B/s]"
      ]
     },
     "metadata": {},
     "output_type": "display_data"
    },
    {
     "output_type": "display_data",
     "data": {
      "application/vnd.jupyter.widget-view+json": {
       "model_id": "6fe7ff7b5a2945efa0131ef390bf3349",
       "version_major": 2,
       "version_minor": 0
      },
      "text/plain": [
       "Downloading 1_Pooling/config.json:   0%|          | 0.00/270 [00:00<?, ?B/s]"
      ]
     },
     "metadata": {},
     "output_type": "display_data"
    },
    {
     "output_type": "display_data",
     "data": {
      "application/vnd.jupyter.widget-view+json": {
       "model_id": "65df4dc8fa7040fca7f095f243ffc0e9",
       "version_major": 2,
       "version_minor": 0
      },
      "text/plain": [
       "Downloading 2_Dense/config.json:   0%|          | 0.00/116 [00:00<?, ?B/s]"
      ]
     },
     "metadata": {},
     "output_type": "display_data"
    },
    {
     "output_type": "display_data",
     "data": {
      "application/vnd.jupyter.widget-view+json": {
       "model_id": "1864d6105f3e41e0a0551fc6d70acfa0",
       "version_major": 2,
       "version_minor": 0
      },
      "text/plain": [
       "Downloading pytorch_model.bin:   0%|          | 0.00/3.15M [00:00<?, ?B/s]"
      ]
     },
     "metadata": {},
     "output_type": "display_data"
    },
    {
     "output_type": "display_data",
     "data": {
      "application/vnd.jupyter.widget-view+json": {
       "model_id": "0ce68827d33b48d38afe1e30c65e3b7f",
       "version_major": 2,
       "version_minor": 0
      },
      "text/plain": [
       "Downloading README.md:   0%|          | 0.00/66.3k [00:00<?, ?B/s]"
      ]
     },
     "metadata": {},
     "output_type": "display_data"
    },
    {
     "output_type": "display_data",
     "data": {
      "application/vnd.jupyter.widget-view+json": {
       "model_id": "05afc9173bb4484cba4097e65b8a3265",
       "version_major": 2,
       "version_minor": 0
      },
      "text/plain": [
       "Downloading config.json:   0%|          | 0.00/1.52k [00:00<?, ?B/s]"
      ]
     },
     "metadata": {},
     "output_type": "display_data"
    },
    {
     "output_type": "display_data",
     "data": {
      "application/vnd.jupyter.widget-view+json": {
       "model_id": "9cd9db626a7546b7b491810e7f28851a",
       "version_major": 2,
       "version_minor": 0
      },
      "text/plain": [
       "Downloading (…)ce_transformers.json:   0%|          | 0.00/122 [00:00<?, ?B/s]"
      ]
     },
     "metadata": {},
     "output_type": "display_data"
    },
    {
     "output_type": "display_data",
     "data": {
      "application/vnd.jupyter.widget-view+json": {
       "model_id": "f7192ae06f154b7c9a98f30dcc578b01",
       "version_major": 2,
       "version_minor": 0
      },
      "text/plain": [
       "Downloading pytorch_model.bin:   0%|          | 0.00/4.96G [00:00<?, ?B/s]"
      ]
     },
     "metadata": {},
     "output_type": "display_data"
    },
    {
     "output_type": "display_data",
     "data": {
      "application/vnd.jupyter.widget-view+json": {
       "model_id": "7cdfcd95bccb47fa812d38d99130fa33",
       "version_major": 2,
       "version_minor": 0
      },
      "text/plain": [
       "Downloading (…)nce_bert_config.json:   0%|          | 0.00/53.0 [00:00<?, ?B/s]"
      ]
     },
     "metadata": {},
     "output_type": "display_data"
    },
    {
     "output_type": "display_data",
     "data": {
      "application/vnd.jupyter.widget-view+json": {
       "model_id": "0708a84b4138499b8cd6e37df6af8421",
       "version_major": 2,
       "version_minor": 0
      },
      "text/plain": [
       "Downloading (…)cial_tokens_map.json:   0%|          | 0.00/2.20k [00:00<?, ?B/s]"
      ]
     },
     "metadata": {},
     "output_type": "display_data"
    },
    {
     "output_type": "display_data",
     "data": {
      "application/vnd.jupyter.widget-view+json": {
       "model_id": "c22f9b5977024b5292aed1b5c54929a0",
       "version_major": 2,
       "version_minor": 0
      },
      "text/plain": [
       "Downloading spiece.model:   0%|          | 0.00/792k [00:00<?, ?B/s]"
      ]
     },
     "metadata": {},
     "output_type": "display_data"
    },
    {
     "output_type": "display_data",
     "data": {
      "application/vnd.jupyter.widget-view+json": {
       "model_id": "81e686122e3940f28b528531c328971f",
       "version_major": 2,
       "version_minor": 0
      },
      "text/plain": [
       "Downloading tokenizer.json:   0%|          | 0.00/2.42M [00:00<?, ?B/s]"
      ]
     },
     "metadata": {},
     "output_type": "display_data"
    },
    {
     "output_type": "display_data",
     "data": {
      "application/vnd.jupyter.widget-view+json": {
       "model_id": "5d4ca15e43404934ba1f13002c67ff46",
       "version_major": 2,
       "version_minor": 0
      },
      "text/plain": [
       "Downloading tokenizer_config.json:   0%|          | 0.00/2.40k [00:00<?, ?B/s]"
      ]
     },
     "metadata": {},
     "output_type": "display_data"
    },
    {
     "output_type": "display_data",
     "data": {
      "application/vnd.jupyter.widget-view+json": {
       "model_id": "f31f95ff9cd341a780e1eb23d8572bdf",
       "version_major": 2,
       "version_minor": 0
      },
      "text/plain": [
       "Downloading modules.json:   0%|          | 0.00/461 [00:00<?, ?B/s]"
      ]
     },
     "metadata": {},
     "output_type": "display_data"
    },
    {
     "output_type": "stream",
     "name": "stdout",
     "output_type": "stream",
     "text": [
      "load INSTRUCTOR_Transformer\nmax_seq_length  512\n[[ 1.07385926e-02  2.03883778e-02 -3.30806623e-04 -2.47166827e-02\n  -4.76301275e-02 -4.68175672e-02 -9.05007645e-02  1.91017184e-02\n  -1.89686250e-02 -2.23026276e-02  7.18013197e-02  7.78870285e-02\n  -2.37136297e-02 -3.60546596e-02 -1.62322335e-02  1.26424814e-02\n   8.33641551e-03 -5.39389886e-02 -2.27154586e-02  3.68872136e-02\n  -4.32879925e-02  6.04331540e-03 -4.29678895e-02  4.55323141e-03\n  -6.03506640e-02 -4.09656279e-02 -8.03758111e-03  3.64149250e-02\n  -4.54009809e-02  8.48523062e-03  7.60250241e-02  5.27356751e-02\n   2.72821803e-02 -4.88926172e-02  6.69014603e-02 -1.08452272e-02\n   3.88090461e-02 -2.16718968e-02  2.53972672e-02 -5.66702671e-02\n  -4.19937186e-02  6.63485602e-02  2.21916363e-02 -1.12361861e-02\n   1.84475854e-02 -3.84796485e-02  1.75258722e-02 -1.23462789e-02\n   2.81102229e-02 -3.72439204e-03 -1.35253388e-02 -2.30728574e-02\n  -1.20010907e-02 -1.69234164e-02 -7.42125884e-03 -2.43936609e-02\n   1.54567659e-02 -9.44162067e-03  7.06059346e-03 -2.72084381e-02\n   3.56197469e-02  7.68095478e-02  6.28041243e-03  2.09135399e-03\n   2.66621262e-02  3.31678451e-03  9.86232683e-02 -9.58707836e-03\n   1.43484753e-02  2.20163390e-02 -1.79550312e-02  3.52664515e-02\n  -2.70702094e-02 -7.16587082e-02 -1.15425140e-02  8.45384449e-02\n   2.45099701e-02  2.20299680e-02 -4.79532592e-03 -1.25728259e-02\n  -3.54118124e-02 -1.06494986e-02 -2.99813952e-02  2.48700622e-02\n   1.96105172e-03 -4.10194555e-03 -1.36147570e-02  3.58048528e-02\n   2.56064739e-02  8.95518884e-02 -2.03263424e-02  1.18814111e-02\n  -3.12768221e-02  1.20549137e-02  4.29043584e-02  2.74342243e-02\n   6.16413802e-02  2.19266815e-03 -4.93071135e-03 -3.58406752e-02\n   4.35731793e-03  9.28855516e-05 -2.34649293e-02 -4.84094024e-02\n  -1.64442454e-02  7.26020290e-03  3.81532945e-02  4.34932932e-02\n   3.81413065e-02  1.53631326e-02  7.77664110e-02  5.09047881e-02\n  -1.41232535e-02 -3.36678103e-02  2.89370101e-02 -4.28000949e-02\n  -1.22105135e-02  1.30138313e-02 -2.84026079e-02  3.46861556e-02\n  -1.90900285e-02  6.00859383e-03 -2.36922074e-02  4.91227284e-02\n   4.90349834e-04 -1.24120321e-02  1.32454075e-02 -3.46502401e-02\n   7.62091158e-03 -2.26248521e-02  5.74450642e-02 -4.85527925e-02\n  -1.65589396e-02 -2.20209751e-02  7.52502084e-02 -3.53551731e-02\n   1.50193321e-02  9.47101321e-03  3.42640281e-02 -1.13694286e-02\n   1.10847689e-02 -1.36192702e-02 -1.53356595e-02 -5.97013868e-02\n  -1.75056104e-02 -3.42987292e-03 -4.36460506e-03  3.44849937e-02\n  -3.62701416e-02  3.89150940e-02 -7.22209457e-04  4.99856398e-02\n   5.29469829e-03 -1.31716607e-02 -1.71449166e-02 -9.52942483e-03\n  -2.83439755e-02  4.04457785e-02  2.97170249e-03 -2.55956426e-02\n   3.58481295e-02 -1.77271403e-02 -5.60876397e-05  5.97360618e-02\n  -1.06784366e-01  1.73036885e-02 -4.68609408e-02 -4.35847566e-02\n   1.77907478e-02  3.77807319e-02  6.86792508e-02 -3.74949835e-02\n  -1.82489734e-02  2.90126484e-02  1.91755369e-02 -3.98130529e-02\n  -1.24829700e-02  2.50555184e-02  4.67595421e-02  4.03047241e-02\n   9.98898596e-03  6.48720860e-02  1.83789097e-02  7.13246316e-02\n  -2.82302815e-02  2.47336067e-02  2.67816782e-02 -8.30109492e-02\n   7.26252375e-03  1.13906628e-02  1.04374008e-03 -8.77355263e-02\n   3.64257284e-02  2.89859716e-02  1.17986242e-03 -4.30453941e-03\n   3.46916318e-02  7.16711283e-02 -8.03832803e-03  1.79173220e-02\n  -1.11733396e-02  1.67938527e-02 -1.70368759e-03 -3.39701166e-03\n  -3.09823882e-02  1.45876184e-02  2.88094953e-02  6.26390055e-02\n   2.61594579e-02  6.89415187e-02 -4.71520461e-02  2.65042447e-02\n  -5.05995471e-03  1.03126755e-02  1.15325861e-02  1.73089057e-02\n   4.78190333e-02 -3.78929973e-02  9.84369777e-03  5.01879379e-02\n  -9.39685758e-03 -3.14758089e-03  4.88986634e-03 -2.16003899e-02\n   1.71724781e-02 -3.40923220e-02 -5.86342216e-02 -4.82104486e-04\n   2.94330865e-02 -1.87798329e-02  1.35478266e-02 -1.44987321e-02\n   6.77288473e-02  2.48384755e-03 -3.95737886e-02 -5.04795685e-02\n   3.95794259e-03 -4.65065762e-02 -5.40725328e-03 -2.60437857e-02\n   2.45701782e-02 -5.36059141e-02 -4.33546714e-02 -3.98310879e-03\n   5.33049628e-02  3.20524313e-02 -2.31938995e-02  3.92150842e-02\n   3.08484510e-02 -1.66723318e-02  9.04563349e-03 -1.41128972e-02\n   5.32802157e-02  9.66821890e-03 -2.20835931e-03  1.90555099e-02\n  -2.18707863e-02 -3.87224555e-02 -1.08372262e-02  4.53278497e-02\n   6.83877571e-03 -3.29209641e-02 -3.49991955e-03 -3.12380847e-02\n   1.03092855e-02 -1.35843102e-02 -9.84255597e-03 -3.74227203e-02\n   4.26536873e-02  7.34590273e-03 -8.48322809e-02  8.52403417e-02\n   4.31625992e-02 -1.83150135e-02 -7.76529592e-03  7.36727938e-03\n   3.85772586e-02 -1.31928334e-02 -4.09985986e-03  1.36733614e-02\n  -3.05454787e-02 -6.84877560e-02 -1.28136305e-02 -5.05101234e-02\n  -5.68033978e-02 -1.10425269e-02 -7.60259014e-03 -2.29832921e-02\n  -1.38181308e-02  7.59435992e-04  5.42655960e-02  2.83909719e-02\n  -2.71192715e-02  3.06021888e-02 -5.15826046e-02  1.79488640e-02\n   5.54485573e-03  4.21259105e-02  4.56834808e-02 -1.54480189e-02\n  -2.27322262e-02  1.70304812e-03 -1.50242988e-02  2.16430929e-02\n  -4.60619293e-02 -1.15046417e-02 -6.40150625e-04 -2.58005373e-02\n  -2.67433189e-02 -4.22346406e-02  2.35165190e-02  5.74626289e-02\n   3.64336930e-02 -3.17830630e-02  9.89765511e-04 -1.47871068e-02\n   3.07558011e-02  1.25886630e-02  4.18411531e-02  8.13133735e-03\n  -7.56603526e-03  1.38632916e-02  2.79687345e-02 -9.94313136e-03\n   2.20218413e-02  1.36837550e-02  4.29652706e-02  6.23991117e-02\n   3.06116436e-02 -3.71644795e-02  5.11207134e-02  4.71870881e-03\n  -2.26201396e-02  7.08398968e-03  7.06122294e-02  4.57469895e-02\n  -6.19176626e-02 -1.36704752e-02  4.47953157e-02 -3.03875636e-02\n  -4.35640737e-02 -2.58038472e-02 -2.62076464e-02  1.47875585e-02\n  -3.09020244e-02 -3.96684855e-02  2.11869068e-02  4.73536849e-02\n  -3.59307565e-02 -5.08030355e-02 -4.73031513e-02 -6.72975322e-03\n  -3.60290706e-02  1.45429587e-02  4.11183350e-02  5.67813143e-02\n   4.89354059e-02 -1.46997962e-02 -2.38371324e-02  1.49723347e-02\n   1.75910834e-02  1.95717346e-02  1.06209544e-02 -2.72254236e-02\n   1.28317922e-02  2.41271481e-02 -4.50024940e-02 -1.26004562e-01\n  -6.23774761e-03  8.79175887e-02  4.33323458e-02  4.74359514e-03\n   7.58505985e-03 -6.30973931e-03 -1.02409134e-02  2.20197681e-02\n  -2.87291147e-02 -4.06521000e-02 -1.79229360e-02 -4.98870155e-03\n  -3.68985813e-03 -2.30876300e-02 -1.13051264e-02  1.91939846e-02\n   2.00342759e-02  2.53960136e-02  2.09808573e-02 -5.08935340e-02\n  -5.67574706e-03  3.80369686e-02  4.86269873e-03  1.13131059e-03\n   3.47687714e-02 -4.28543948e-02  3.00577246e-02 -7.38262758e-02\n  -2.46430398e-03 -6.57873973e-02  6.83716778e-03  4.95574474e-02\n   1.69896390e-02 -2.66014487e-02 -3.04109976e-02 -4.40075882e-02\n   2.06968728e-02  2.65173744e-02 -4.83850343e-03  6.22198023e-02\n   2.09112875e-02  7.51805026e-03  7.65344966e-03 -6.45092204e-02\n  -2.94967890e-02 -4.69029695e-03  7.98608661e-02  3.45267206e-02\n  -3.58118415e-02 -1.73645318e-02  3.97502743e-02  3.93597111e-02\n  -2.18946151e-02  3.81866246e-02  4.14571638e-04 -2.54837573e-02\n   1.24256825e-02 -2.15151273e-02  7.87552446e-03  9.49887000e-03\n  -3.77712734e-02  1.43628838e-02 -2.88792979e-02 -6.41506258e-03\n   2.58398652e-02 -1.50216566e-02 -7.80220097e-03  3.74862738e-02\n  -2.56954860e-02  1.96410231e-02 -7.04105422e-02  3.41388062e-02\n  -2.37048361e-02 -6.01097085e-02  4.56053987e-02  4.70990092e-02\n   7.33964751e-03  2.43552518e-03 -4.22780635e-03 -6.25345036e-02\n   1.98637415e-02  1.88667327e-02 -1.25744790e-02  4.76212092e-02\n   1.31687857e-02  1.80303324e-02  3.51866744e-02  4.67424188e-03\n   9.89984907e-03 -4.67471965e-03  3.78164649e-02 -4.13654298e-02\n   1.54837398e-02 -3.57183479e-02 -1.87389702e-02 -5.42360395e-02\n  -4.81861207e-04 -3.38028790e-03  1.53852804e-02  6.10571541e-02\n   1.29198860e-02  2.74139587e-02  7.99016003e-03  2.82476265e-02\n   6.62671076e-03  2.67987396e-03  2.03095973e-02 -2.79947277e-02\n  -3.87479849e-02 -4.03103307e-02 -4.19985466e-02  2.14653206e-03\n  -2.71805022e-02 -1.25092603e-02 -1.81750767e-02  7.14797061e-03\n   1.10008661e-02  9.15399753e-03 -4.52234410e-02 -4.01257128e-02\n  -3.27018090e-02  1.56491133e-03  3.12984064e-02  2.99231131e-02\n   4.30929027e-02 -1.73818152e-02  1.52474605e-02 -5.55488467e-02\n  -4.36904728e-02 -5.87061197e-02  5.94778471e-02  1.12570543e-02\n  -1.68438423e-02 -4.10096273e-02 -3.87566611e-02  1.18346754e-02\n  -7.11284280e-02  2.30449531e-02 -5.14640771e-02 -7.26331258e-03\n  -1.02100475e-02  2.94320639e-02  5.98634966e-02 -2.69531161e-02\n   1.35710568e-03  8.31005499e-02  5.77958673e-03  4.93200775e-03\n   8.32296722e-03 -6.89224293e-03 -3.84016074e-02 -3.98909412e-02\n  -3.34528834e-02  4.17751744e-02  3.72604281e-02 -3.10397651e-02\n   2.64068712e-02 -8.27760529e-03  5.22846021e-02  3.46414396e-03\n  -7.19855307e-03  1.36164911e-02 -3.13938037e-02 -5.52005805e-02\n  -1.96754579e-02 -1.84366517e-02  8.91059823e-03 -4.00865413e-02\n  -6.73339562e-03 -3.93483639e-02 -5.04188240e-02 -2.72722971e-02\n  -7.80773386e-02  6.20336719e-02 -6.26377808e-03  1.68130752e-02\n  -4.37840223e-02 -3.64112295e-02 -3.31511833e-02 -3.29557061e-03\n  -6.49167299e-02  2.39508152e-02  2.91912183e-02 -4.07071598e-02\n  -4.39553373e-02  5.13483398e-02  8.49347282e-03  4.92307730e-03\n   1.24804424e-02 -3.66038294e-03 -4.45956439e-02 -4.35800850e-03\n  -1.40472287e-02  5.21462560e-02 -1.77273285e-02 -1.91657860e-02\n  -4.83054556e-02 -4.53295596e-02  7.02910796e-02 -1.23836510e-02\n  -8.74996185e-04 -2.37035528e-02 -4.93430067e-03  3.86989713e-02\n   2.13148240e-02 -3.50383781e-02  5.47769740e-02 -3.02624404e-02\n   2.19266824e-02  3.90497744e-02  1.85256805e-02  2.11032797e-02\n   5.76450154e-02 -2.80059455e-03 -4.65295427e-02 -5.52096292e-02\n  -1.13703322e-03  8.69980734e-03  3.22018974e-02  5.50442263e-02\n  -3.06220446e-02 -7.32837012e-03 -1.25357357e-03 -4.28364798e-02\n  -7.36738509e-03  1.27492715e-02 -9.31486394e-03  4.54905815e-02\n   1.46640241e-02 -9.25729610e-03 -1.37165533e-02 -3.88655476e-02\n   1.31358374e-02  9.56489332e-03 -8.73474106e-02  5.76604344e-03\n   2.50908602e-02  8.67256522e-03  3.91603522e-02  9.15230531e-03\n  -1.40922358e-02 -6.14063963e-02  2.83736866e-02  2.47343034e-02\n   5.10071889e-02 -3.18132080e-02 -3.09579689e-02  2.92595522e-03\n  -4.73626181e-02 -2.29710769e-02  3.04293074e-02  8.44686776e-02\n  -6.44292161e-02  5.62811978e-02  1.07138800e-02  3.39516960e-02\n   2.31666509e-02  1.63602643e-02 -3.40227708e-02 -1.67480242e-02\n  -6.63667098e-02  6.62428280e-03 -3.87449339e-02  1.64660886e-02\n   5.05447797e-02  1.90122332e-02 -2.81815492e-02 -3.56872082e-02\n  -2.81143691e-02  2.51389239e-02  1.91982370e-02 -1.76361576e-02\n   1.82599276e-02  2.98085832e-03 -1.00078620e-01  6.33727089e-02\n  -4.74031530e-02 -4.37775068e-02  1.40901152e-02 -3.22856382e-02\n  -1.05148889e-02  4.09309529e-02 -4.06675786e-02 -7.01695681e-03\n  -5.71183637e-02 -6.18743412e-02 -6.65363576e-03  2.70375013e-02\n  -4.47163396e-02  2.69211307e-02  3.22845653e-02 -9.11030993e-02\n  -5.57876192e-03  1.10480063e-01 -2.63475385e-02  7.79605843e-03\n  -1.81252491e-02  2.32517682e-02  1.34274298e-02  6.04664460e-02\n   1.53025873e-02  1.22925907e-03 -1.70585737e-02 -5.80534078e-02\n  -1.24559412e-02 -1.00066122e-02  1.01664281e-02  3.60435024e-02\n  -2.85841338e-02 -5.53708561e-02 -5.98750822e-02 -1.69182774e-02\n  -2.66627688e-02 -3.16564962e-02  2.76649278e-02  3.49664539e-02\n  -5.54584004e-02 -5.87533452e-02  1.03361038e-02  6.99846968e-02\n  -2.10592505e-02  3.00144441e-02 -1.04848128e-02 -1.92150846e-02\n   4.80469987e-02  1.84324961e-02  2.13401262e-02 -6.81490600e-02\n   1.64368469e-02  6.07533120e-02 -9.31360275e-02 -4.33043800e-02\n   2.78352797e-02  5.27176820e-03  6.85844347e-02 -5.62365167e-02\n   1.47314388e-02 -3.33119323e-03  7.92861283e-02  1.20152244e-02\n   4.65852134e-02  2.85001919e-02 -3.55312452e-02 -2.43796892e-02\n  -3.98663655e-02  2.88995006e-03 -9.12599172e-03  9.96670499e-03\n  -4.87258695e-02 -4.06950712e-02  4.09986712e-02  8.45281631e-02\n   2.25903485e-02 -3.20074484e-02 -1.75088439e-02  4.09804359e-02\n   4.74484218e-03 -2.46168897e-02  2.59352177e-02 -3.09871230e-02\n  -2.17179977e-03 -9.37036355e-04  8.74689445e-02  3.38544883e-03\n  -1.81286666e-03  2.44137105e-02 -1.67785920e-02 -2.47268695e-02\n   2.51244567e-02  2.49566678e-02  7.79338134e-03  6.30576536e-02\n  -7.62029598e-03  1.62646528e-02  1.05524875e-01  1.79427546e-02\n   5.82987070e-02 -4.36346270e-02  2.95859445e-05  4.99626100e-02\n  -6.95752203e-02 -3.35326754e-02  3.22130062e-02  1.99916903e-02\n   3.62940542e-02  2.79153511e-02  2.69283857e-02  3.14423740e-02\n  -2.29353067e-02  3.49294841e-02  4.37657647e-02  1.16129145e-02\n  -4.82707343e-04  2.14141104e-02 -1.07911229e-02 -1.60726421e-02\n   5.28037585e-02 -4.40669283e-02 -3.63887474e-03  1.09616302e-01]]\n"
     ]
    }
   ],
   "source": [
    "from InstructorEmbedding import INSTRUCTOR\n",
    "model = INSTRUCTOR('hkunlp/instructor-xl')\n",
    "sentence = \"3D ActionSLAM: wearable person tracking in multi-floor environments\"\n",
    "instruction = \"Represent the Science title:\"\n",
    "embeddings = model.encode([[instruction,sentence]])\n",
    "print(embeddings)"
   ]
  },
  {
   "cell_type": "code",
   "execution_count": 0,
   "metadata": {
    "application/vnd.databricks.v1+cell": {
     "cellMetadata": {
      "byteLimit": 2048000,
      "rowLimit": 10000
     },
     "inputWidgets": {},
     "nuid": "61162cc8-13dc-49e3-83a5-5f7073bd1573",
     "showTitle": false,
     "title": ""
    }
   },
   "outputs": [
    {
     "output_type": "execute_result",
     "data": {
      "text/plain": [
       "'एचडीएफसी बैंक की वर्तमान ब्याज दर क्या है?'"
      ]
     },
     "execution_count": 6,
     "metadata": {},
     "output_type": "execute_result"
    }
   ],
   "source": [
    "data.iloc[0]['instruction']"
   ]
  },
  {
   "cell_type": "code",
   "execution_count": 0,
   "metadata": {
    "application/vnd.databricks.v1+cell": {
     "cellMetadata": {
      "byteLimit": 2048000,
      "rowLimit": 10000
     },
     "inputWidgets": {},
     "nuid": "8a68de79-9d6a-4ddf-adbc-27e001ecbfd5",
     "showTitle": false,
     "title": ""
    }
   },
   "outputs": [
    {
     "output_type": "stream",
     "name": "stdout",
     "output_type": "stream",
     "text": [
      "[[ 1.56946462e-02 -1.95208248e-02 -1.47554558e-02 -9.92525592e-02\n  -3.45550887e-02  6.36497606e-03 -6.02781363e-02 -4.89159906e-03\n  -3.82042229e-02  7.97530729e-03 -8.10991134e-03  3.77575569e-02\n  -1.98338386e-02 -8.64221975e-02  6.75767835e-04 -5.47794765e-03\n   1.60512701e-02 -9.14760903e-02 -9.05659422e-03  1.63553208e-02\n  -2.52177119e-02  2.62215690e-05 -3.27509157e-02  1.99850667e-02\n  -6.86729327e-03 -7.68939406e-02 -9.98633821e-03  3.10195256e-02\n   4.10296908e-03 -4.86742752e-03  5.85084520e-02 -1.73884928e-02\n   5.56942672e-02 -2.08169129e-02  3.39779370e-02  2.05534557e-03\n  -7.46929087e-03  1.19633880e-02  4.49020118e-02 -2.79754773e-02\n  -1.88729465e-02  1.53782833e-02  3.01270131e-02 -3.49304751e-02\n   6.50167093e-02  2.82352827e-02  5.31524085e-02  1.42462794e-02\n  -8.18188477e-04 -2.62571294e-02 -2.93967333e-02 -1.43818175e-02\n  -2.62503256e-03 -9.30697098e-02  2.57260744e-02 -4.75490876e-02\n  -3.15024257e-02  2.12962683e-02 -2.73650493e-02  1.85569786e-02\n   3.32263634e-02  5.73292724e-04  1.30997049e-02  1.58099588e-02\n   3.89604010e-02  5.56505099e-02  5.13252057e-02  1.83550939e-02\n  -1.29304426e-02  2.45945062e-02 -4.17397395e-02  6.09907648e-03\n  -3.63099501e-02 -3.64483870e-03  7.37931114e-03  2.54381336e-02\n   3.47695798e-02 -9.51148849e-03  5.61420619e-02  3.52200828e-02\n  -4.57360744e-02  2.88361479e-02 -3.01227439e-02 -2.56483722e-03\n  -2.42560133e-02  5.98451532e-02 -3.13099548e-02  2.94697117e-02\n   3.64279561e-02  8.66891667e-02 -1.99303217e-02 -2.08330881e-02\n  -1.77951995e-02 -3.76358405e-02  9.30401031e-03 -2.36594956e-02\n   1.84463412e-02 -1.40278228e-02  1.44250446e-03 -6.64035752e-02\n  -1.17103746e-02  6.02879701e-03 -5.09220883e-02 -5.34025393e-02\n   1.71430130e-02  1.48456981e-02  3.48443799e-02  2.53522228e-02\n   2.61859056e-02  7.95523915e-03  5.19167706e-02  4.38720286e-02\n   8.70397687e-03 -1.06219929e-02  2.87835654e-02 -2.21450664e-02\n   5.79916202e-02  1.89831797e-02 -3.22690867e-02  1.39185693e-02\n   7.93532282e-02  3.25614661e-02 -1.43469581e-02  9.04545479e-04\n  -1.84177235e-02  5.71510345e-02  8.07891116e-02 -1.29232528e-02\n  -1.52018489e-02 -7.57842287e-02  7.25331604e-02 -1.90737061e-02\n   2.12793052e-02 -2.35922262e-02  8.28206614e-02 -8.09610263e-02\n   1.98459271e-02 -5.87004237e-03 -3.33959199e-02 -8.00608322e-02\n   7.10626617e-02 -2.05533337e-02  2.91927420e-02 -6.60306737e-02\n   5.56887407e-03  5.28176017e-02 -3.09387855e-02 -1.95532721e-02\n   2.87958467e-03 -2.39569470e-02 -5.54586276e-02 -1.41723827e-02\n   1.20935868e-03 -1.40550286e-02 -2.93596257e-02 -3.02811321e-02\n  -3.70519422e-02 -9.30191134e-04  1.93007011e-02 -2.11836975e-02\n   9.29010659e-03 -1.47722755e-02 -6.35853410e-02  5.36620580e-02\n  -3.72530892e-02  2.45420099e-03 -2.41819508e-02 -2.24995073e-02\n   2.94365305e-02 -3.15746553e-02  3.55257057e-02 -2.08751634e-02\n  -5.51951416e-02 -1.13568688e-02  5.63242473e-02 -3.16063277e-02\n  -5.15275486e-02  4.16168272e-02  1.40622277e-02  2.09644064e-02\n  -1.97144449e-02  8.63861386e-03  1.42710991e-02  3.20641100e-02\n  -3.46273817e-02 -1.15778204e-03  2.55073644e-02  3.00804656e-02\n   8.58687423e-03  5.20261424e-03  5.14519624e-02 -6.50550649e-02\n  -1.93324983e-02  6.60902783e-02  3.52210514e-02  2.80115544e-03\n   1.63847320e-02  8.51688012e-02 -1.55440229e-03  3.58853824e-02\n   4.05668980e-03  7.32434739e-04 -2.38781399e-03  1.29710641e-02\n  -2.12582480e-03  5.56004643e-02 -1.83074654e-03  5.81221431e-02\n  -7.87649676e-03  2.02762187e-02 -3.43480892e-02  3.26137803e-02\n   2.64713708e-02 -2.37428192e-02 -1.75753683e-02  2.64099054e-02\n   4.47227657e-02 -2.42082123e-02 -1.43245850e-02  6.04140125e-02\n  -2.69579757e-02  1.86190233e-02  4.81738076e-02  2.13413294e-02\n   6.77259732e-03  3.78779368e-03 -6.90214783e-02 -2.45700944e-02\n   3.98764908e-02 -8.16973578e-03  7.74839008e-03 -1.81532931e-02\n   4.78656851e-02  4.55382802e-02 -1.41308280e-02 -6.53423443e-02\n  -1.67570151e-02 -6.58767968e-02 -8.12335238e-02 -2.80478559e-02\n  -4.51108237e-04 -3.76492590e-02 -3.31318099e-03  1.58656556e-02\n   2.97206417e-02  6.60320948e-05 -1.74650978e-02 -1.55154048e-02\n  -9.40052047e-03 -2.93419454e-02 -5.54860383e-02 -5.15036471e-02\n   1.02673247e-02  5.04721403e-02  1.49969384e-02 -1.41917886e-02\n  -2.42024735e-02  2.35173292e-02 -3.30862738e-02  6.52517425e-03\n  -3.25144306e-02 -4.47934829e-02 -4.11209315e-02 -2.14856062e-02\n   1.04013002e-02 -1.25078987e-02  4.41480689e-02  2.78647766e-02\n   5.55127561e-02 -2.19457527e-03 -6.20791875e-02  3.64187732e-02\n   8.81863609e-02 -2.79058851e-02  1.96598135e-02  1.20507209e-02\n   2.58614346e-02 -2.80701518e-02 -5.31756468e-02  5.49026169e-02\n  -9.01859440e-03 -5.37665859e-02  3.10488213e-02 -2.38926299e-02\n  -1.89139377e-02 -1.20873507e-02 -6.51074434e-03 -5.07220440e-02\n   8.03085268e-02 -3.47004496e-02 -9.84455738e-03  2.02172492e-02\n  -3.94523740e-02  3.81814204e-02 -3.09493337e-02 -1.25268204e-02\n  -1.14058116e-02  5.53589649e-02  2.71169562e-02  1.22182036e-03\n  -2.32415423e-02  3.21477950e-02  9.53307524e-02 -9.11509022e-02\n  -8.23647156e-02  2.99907792e-02 -4.29342948e-02  2.59189717e-02\n  -1.21881757e-02  1.63757391e-02  5.55547178e-02  5.81485666e-02\n  -1.30486339e-02  3.30565008e-03 -2.51880884e-02 -2.41341311e-02\n   6.80427253e-02 -1.17976228e-02  4.74875700e-03 -3.88292111e-02\n   7.25533813e-02  1.07786458e-04 -4.11991552e-02 -1.86765920e-02\n   1.11793289e-02 -2.22731102e-02  1.78708937e-02  4.36852388e-02\n   3.46596055e-02 -8.61683413e-02  1.64908413e-02 -4.74702613e-03\n  -3.53622213e-02  4.00811881e-02  2.81883292e-02  9.30735655e-03\n   7.58436415e-03  9.73332953e-03  3.13633904e-02 -9.20047343e-04\n  -6.39683306e-02 -6.12474382e-02 -1.91304591e-02  3.33610624e-02\n  -2.83294488e-02 -2.86634304e-02  2.45682485e-02  8.47098529e-02\n  -3.46237943e-02 -5.17876595e-02  1.64908543e-02 -3.62544297e-03\n  -1.45756779e-02  5.23183607e-02  1.98175088e-02  2.60571968e-02\n   3.27092074e-02 -1.17287235e-02  3.08496021e-02  8.82188138e-03\n   3.83384340e-02  3.17176133e-02  3.80065292e-03 -4.23417203e-02\n   9.27125383e-03 -2.31631063e-02 -6.69194609e-02 -7.03710169e-02\n   7.89839588e-03  7.13603050e-02  4.40273248e-02 -9.77889448e-03\n   4.84862253e-02  2.09750179e-02 -1.97316576e-02 -1.44071076e-02\n  -8.17531273e-02 -5.59701733e-02 -2.33061835e-02 -2.26676520e-02\n   4.48216870e-02  1.64547935e-02  2.04169489e-02  5.43786362e-02\n   5.53655066e-02  6.35852898e-03  4.46804464e-02  4.58209636e-03\n  -2.10181102e-02  2.49049105e-02 -7.12267496e-03  1.82648990e-02\n   4.10962142e-02  1.59269515e-02  3.01210377e-02 -2.02153269e-02\n  -3.01196910e-02 -2.92589515e-02 -5.63801564e-02  5.17203659e-02\n   1.04710564e-01  3.03115393e-03  4.93893176e-02  4.94426042e-02\n  -9.84398369e-03  3.60268503e-02 -5.42887207e-03  6.38544858e-02\n   9.88875050e-04 -4.46098112e-02  2.00378168e-02  6.55755075e-03\n  -1.32244490e-02  2.36733947e-02  5.23847565e-02 -1.58432201e-02\n   2.23043803e-02 -2.77452227e-02  5.44046126e-02  3.78190875e-02\n   6.49294956e-03 -1.93663295e-02  1.59151237e-02  5.81956170e-02\n  -5.30487560e-02 -1.64312986e-03  1.22025497e-02 -2.34899633e-02\n  -3.68595310e-02 -7.55478954e-03  4.95980270e-02  2.25323569e-02\n  -1.92632917e-02  9.93499905e-03 -1.32013801e-02  3.93433198e-02\n  -6.19834231e-04  5.07728420e-02 -9.18698609e-02  5.52184172e-02\n   3.44277406e-03  3.21237766e-03  4.05235821e-03  8.91165137e-02\n   1.91093180e-02  7.58178998e-03 -3.48760821e-02 -2.36392282e-02\n   2.00124756e-02  9.89715941e-03  1.05591426e-02  1.88158341e-02\n   3.18997614e-02  1.36281224e-02 -1.85154770e-02  4.13081609e-02\n   3.26134413e-02  9.89775173e-03 -2.90602371e-02 -2.91950488e-03\n  -7.73646124e-03 -1.20257924e-03 -3.07503380e-02 -4.95295562e-02\n  -3.28724831e-03 -6.15096204e-02  3.18589322e-02  2.33520009e-02\n   3.33974930e-03  3.02082971e-02 -7.43487710e-03  3.40268649e-02\n  -4.06445179e-04 -4.64098267e-02 -2.73830052e-02  1.21655464e-02\n  -6.05774969e-02  1.75444910e-03 -2.94237249e-02 -1.73131190e-02\n   1.94256511e-02 -8.75982642e-03  1.45103475e-02 -3.56519520e-02\n   1.21086473e-02  2.67223604e-02 -4.92737303e-03  2.17183810e-02\n   1.96581008e-03 -3.04220449e-02 -2.71784179e-02  4.40653861e-02\n  -2.84938514e-03 -2.34843697e-02  7.51036732e-03 -6.28345460e-02\n  -5.34302592e-02 -1.15365520e-01  6.92376420e-02 -1.42731639e-02\n  -7.86607433e-03 -1.80275328e-02 -7.20021920e-03  3.44766192e-02\n  -6.97528049e-02  5.58446646e-02 -2.37057861e-02  2.99323928e-02\n   9.27997474e-03  4.45948057e-02  5.05255312e-02 -6.14292510e-02\n   1.77427288e-02 -7.02559529e-03 -7.42142147e-04 -2.80961171e-02\n   3.34880874e-02  2.48758402e-02  2.63964720e-02 -4.54844274e-02\n   1.37148062e-02 -1.29001290e-02  5.44545092e-02  5.23072295e-02\n   9.20791831e-03 -3.54864299e-02  1.62998438e-02 -2.24428009e-02\n   2.41397982e-04  3.15832123e-02  4.54484485e-03  1.35965347e-02\n   5.69722289e-03  3.27960792e-04 -1.39684128e-02  3.61907929e-02\n  -1.33086974e-02  3.56009193e-02 -6.12120740e-02 -2.12260447e-02\n  -3.54024135e-02  8.42793006e-03 -4.37943451e-02 -2.05849092e-02\n  -4.11784351e-02 -4.57190879e-04  4.70243598e-04 -3.58959101e-02\n  -3.78148444e-03  1.50016230e-02  4.48697321e-02  6.25968911e-03\n  -8.27827379e-02  2.93449219e-02 -9.67138796e-04  1.93397868e-02\n   4.30302601e-03  1.90724637e-02  5.83533524e-03 -7.17750005e-03\n   2.30064243e-02 -6.26385259e-03 -2.73869466e-02  3.52697484e-02\n  -3.63978965e-04 -3.15442905e-02  3.29587907e-02 -6.70030527e-03\n  -3.02945226e-02 -9.99247562e-03  4.26452346e-02  3.23308446e-02\n  -1.29944906e-02 -2.61382814e-02  6.63286671e-02  4.37378213e-02\n   2.42972989e-02  5.28770275e-02  3.45154777e-02 -5.01516201e-02\n   1.55576542e-02 -3.79454941e-02  3.14026587e-02 -3.51528488e-02\n  -1.02527230e-03 -3.16770263e-02  8.78168456e-03  5.16877025e-02\n  -6.71035722e-02 -4.76096431e-03 -2.27549933e-02 -5.51812761e-02\n  -4.30271868e-03 -2.72133183e-02 -3.19032907e-03  3.27274427e-02\n   1.35088842e-02 -2.37986688e-02 -1.00791212e-02 -2.97074970e-02\n   6.00362709e-03  2.25464329e-02 -4.04295698e-02  1.09770335e-02\n   1.84882302e-02  5.21501191e-02  3.43253016e-02  1.23198712e-02\n   8.46080109e-03 -3.86647508e-02  4.87390272e-02  1.64852478e-02\n   4.75683920e-02  5.00290506e-02 -3.52676702e-03 -6.35658726e-02\n  -7.52592832e-03  4.72800620e-02  1.71811227e-02  1.36998119e-02\n  -1.79386344e-02  5.36325127e-02 -1.10239955e-02  3.89399342e-02\n   4.21798974e-02  2.24057436e-02  3.67759983e-03 -1.60014536e-02\n  -6.99664429e-02 -3.68441306e-02 -7.58394748e-02 -3.44210006e-02\n   6.43792748e-02 -9.14538838e-03 -5.07286973e-02 -1.17256111e-02\n  -7.70246668e-04  1.45333353e-02  5.62990382e-02 -3.14848684e-02\n  -9.65943187e-03  1.23851085e-02 -8.60835537e-02  3.92085277e-02\n   3.44663090e-03 -7.19517693e-02  2.63629872e-02 -4.15546484e-02\n   1.11264773e-02  1.41156176e-02 -5.99512048e-02 -3.82453762e-02\n  -2.88931020e-02 -3.66134718e-02 -3.19636650e-02 -3.87122706e-02\n   4.98153036e-03  1.12379463e-02  2.53930371e-02 -8.07809010e-02\n  -7.12196305e-02  5.74638136e-02 -2.19188575e-02  7.31661916e-03\n  -2.51104292e-02 -7.48840626e-03 -2.61402335e-02 -1.44607434e-02\n   4.70246226e-02  4.97601810e-04  2.31928527e-02 -2.95082685e-02\n   4.38848659e-02  2.88355500e-02  1.63895488e-02 -2.17259191e-02\n  -2.16404498e-02 -1.63424276e-02 -2.52716746e-02 -3.81743424e-02\n   8.74066609e-04  4.96219983e-03  3.81472111e-02 -4.15250147e-03\n  -2.04159822e-02 -5.71157560e-02 -2.57945769e-02  4.28187400e-02\n   1.26825413e-02  2.90245116e-02 -1.14447922e-02 -2.27633063e-02\n  -1.26368022e-02 -4.13894355e-02  6.07356615e-02 -4.03389409e-02\n   1.79529358e-02  2.52904929e-02 -5.93581647e-02 -7.32684359e-02\n  -5.51542267e-04  6.89164270e-03  5.99636398e-02 -1.60211008e-02\n   8.63460544e-03  8.35487805e-03 -1.40393265e-02 -1.67542994e-02\n   3.75771187e-02  3.05380654e-02 -3.00722867e-02 -3.57192382e-02\n  -2.73465160e-02 -5.14428243e-02 -1.86611414e-02  9.44095384e-03\n  -6.97679594e-02 -1.21758245e-02  3.07356063e-02  6.08991124e-02\n  -5.26397896e-04  4.62611811e-03 -7.50387236e-02  2.70324089e-02\n  -3.13627673e-03  1.85700636e-02  2.41822358e-02 -2.06429418e-02\n  -3.23614441e-02  1.20475851e-02  9.77123305e-02  3.18394601e-02\n   2.27113459e-02 -1.06972288e-02 -3.07506397e-02  1.51921427e-02\n   9.68620926e-03  4.70823944e-02 -1.37312030e-02  3.87783982e-02\n   2.76393373e-03  1.78809650e-02 -9.35744960e-03  1.59117077e-02\n   3.03570088e-02 -6.98293895e-02  2.40704138e-02  3.30451354e-02\n  -2.44669355e-02 -7.08898380e-02 -1.47164222e-02  2.09400021e-02\n   4.34849709e-02  7.38284085e-03  2.55225766e-02 -5.64432237e-03\n  -6.34324029e-02  4.21835482e-02  1.49721783e-02 -1.02700032e-02\n   2.76018953e-04  7.45838061e-02  9.40823928e-03  4.97182691e-03\n  -2.47939099e-02 -3.20274532e-02  2.55582482e-02  4.18652259e-02]]\n"
     ]
    }
   ],
   "source": [
    "sentence = data.iloc[0]['response']\n",
    "instruction = data.iloc[0]['instruction']\n",
    "embeddings = model.encode([[instruction,sentence]])\n",
    "print(embeddings)"
   ]
  },
  {
   "cell_type": "code",
   "execution_count": 0,
   "metadata": {
    "application/vnd.databricks.v1+cell": {
     "cellMetadata": {
      "byteLimit": 2048000,
      "rowLimit": 10000
     },
     "inputWidgets": {},
     "nuid": "a3ac9888-23ea-4215-bb12-2ef7b7492d07",
     "showTitle": false,
     "title": ""
    }
   },
   "outputs": [
    {
     "output_type": "display_data",
     "data": {
      "application/vnd.jupyter.widget-view+json": {
       "model_id": "8733049ffa0a4a3ea306f0f2188a98da",
       "version_major": 2,
       "version_minor": 0
      },
      "text/plain": [
       "Downloading .gitattributes:   0%|          | 0.00/1.48k [00:00<?, ?B/s]"
      ]
     },
     "metadata": {},
     "output_type": "display_data"
    },
    {
     "output_type": "display_data",
     "data": {
      "application/vnd.jupyter.widget-view+json": {
       "model_id": "ab7167e4613044dda1edc4f43ccca09a",
       "version_major": 2,
       "version_minor": 0
      },
      "text/plain": [
       "Downloading 1_Pooling/config.json:   0%|          | 0.00/270 [00:00<?, ?B/s]"
      ]
     },
     "metadata": {},
     "output_type": "display_data"
    },
    {
     "output_type": "display_data",
     "data": {
      "application/vnd.jupyter.widget-view+json": {
       "model_id": "8720d98b2f6545c288eb4fb2897afce5",
       "version_major": 2,
       "version_minor": 0
      },
      "text/plain": [
       "Downloading 2_Dense/config.json:   0%|          | 0.00/116 [00:00<?, ?B/s]"
      ]
     },
     "metadata": {},
     "output_type": "display_data"
    },
    {
     "output_type": "display_data",
     "data": {
      "application/vnd.jupyter.widget-view+json": {
       "model_id": "14e757b8556b41c8b8ac0982f5129c72",
       "version_major": 2,
       "version_minor": 0
      },
      "text/plain": [
       "Downloading pytorch_model.bin:   0%|          | 0.00/3.15M [00:00<?, ?B/s]"
      ]
     },
     "metadata": {},
     "output_type": "display_data"
    },
    {
     "output_type": "display_data",
     "data": {
      "application/vnd.jupyter.widget-view+json": {
       "model_id": "0c4e7f52f46a43d3b999e5e18703d79e",
       "version_major": 2,
       "version_minor": 0
      },
      "text/plain": [
       "Downloading README.md:   0%|          | 0.00/66.3k [00:00<?, ?B/s]"
      ]
     },
     "metadata": {},
     "output_type": "display_data"
    },
    {
     "output_type": "display_data",
     "data": {
      "application/vnd.jupyter.widget-view+json": {
       "model_id": "a8724805b5ed4c22aba9788d3a64c501",
       "version_major": 2,
       "version_minor": 0
      },
      "text/plain": [
       "Downloading config.json:   0%|          | 0.00/1.52k [00:00<?, ?B/s]"
      ]
     },
     "metadata": {},
     "output_type": "display_data"
    },
    {
     "output_type": "display_data",
     "data": {
      "application/vnd.jupyter.widget-view+json": {
       "model_id": "e488a7340e9542e598dfce6b878f7d40",
       "version_major": 2,
       "version_minor": 0
      },
      "text/plain": [
       "Downloading (…)ce_transformers.json:   0%|          | 0.00/122 [00:00<?, ?B/s]"
      ]
     },
     "metadata": {},
     "output_type": "display_data"
    },
    {
     "output_type": "display_data",
     "data": {
      "application/vnd.jupyter.widget-view+json": {
       "model_id": "3d4ece77c3284e3388b9bd024f89af26",
       "version_major": 2,
       "version_minor": 0
      },
      "text/plain": [
       "Downloading pytorch_model.bin:   0%|          | 0.00/4.96G [00:00<?, ?B/s]"
      ]
     },
     "metadata": {},
     "output_type": "display_data"
    },
    {
     "output_type": "display_data",
     "data": {
      "application/vnd.jupyter.widget-view+json": {
       "model_id": "afad9d5d038446369c286dc7bb4f0590",
       "version_major": 2,
       "version_minor": 0
      },
      "text/plain": [
       "Downloading (…)nce_bert_config.json:   0%|          | 0.00/53.0 [00:00<?, ?B/s]"
      ]
     },
     "metadata": {},
     "output_type": "display_data"
    },
    {
     "output_type": "display_data",
     "data": {
      "application/vnd.jupyter.widget-view+json": {
       "model_id": "6cf036aaf2274f5d90adb9ceed0ef83a",
       "version_major": 2,
       "version_minor": 0
      },
      "text/plain": [
       "Downloading (…)cial_tokens_map.json:   0%|          | 0.00/2.20k [00:00<?, ?B/s]"
      ]
     },
     "metadata": {},
     "output_type": "display_data"
    },
    {
     "output_type": "display_data",
     "data": {
      "application/vnd.jupyter.widget-view+json": {
       "model_id": "cc52b473e838470ea48d4755996d6bcf",
       "version_major": 2,
       "version_minor": 0
      },
      "text/plain": [
       "Downloading spiece.model:   0%|          | 0.00/792k [00:00<?, ?B/s]"
      ]
     },
     "metadata": {},
     "output_type": "display_data"
    },
    {
     "output_type": "display_data",
     "data": {
      "application/vnd.jupyter.widget-view+json": {
       "model_id": "fcacd2ceaee54cc7bc75237efbaf93e5",
       "version_major": 2,
       "version_minor": 0
      },
      "text/plain": [
       "Downloading tokenizer.json:   0%|          | 0.00/2.42M [00:00<?, ?B/s]"
      ]
     },
     "metadata": {},
     "output_type": "display_data"
    },
    {
     "output_type": "display_data",
     "data": {
      "application/vnd.jupyter.widget-view+json": {
       "model_id": "5dd2ec73fe2b481ba71924ec106b67cf",
       "version_major": 2,
       "version_minor": 0
      },
      "text/plain": [
       "Downloading tokenizer_config.json:   0%|          | 0.00/2.40k [00:00<?, ?B/s]"
      ]
     },
     "metadata": {},
     "output_type": "display_data"
    },
    {
     "output_type": "display_data",
     "data": {
      "application/vnd.jupyter.widget-view+json": {
       "model_id": "c5c835b98c3844fd8f6455efc159e7c2",
       "version_major": 2,
       "version_minor": 0
      },
      "text/plain": [
       "Downloading modules.json:   0%|          | 0.00/461 [00:00<?, ?B/s]"
      ]
     },
     "metadata": {},
     "output_type": "display_data"
    },
    {
     "output_type": "stream",
     "name": "stdout",
     "output_type": "stream",
     "text": [
      "load INSTRUCTOR_Transformer\nmax_seq_length  512\n"
     ]
    }
   ],
   "source": [
    "\n",
    "from langchain.embeddings import HuggingFaceInstructEmbeddings\n",
    "\n",
    "instructor_embeddings = HuggingFaceInstructEmbeddings(model_name=\"hkunlp/instructor-xl\", \n",
    "                                                      model_kwargs={\"device\": \"cuda\"})\n"
   ]
  },
  {
   "cell_type": "code",
   "execution_count": 0,
   "metadata": {
    "application/vnd.databricks.v1+cell": {
     "cellMetadata": {
      "byteLimit": 2048000,
      "rowLimit": 10000
     },
     "inputWidgets": {},
     "nuid": "936f14d1-3017-4c7d-b23e-a5626a71f3f9",
     "showTitle": false,
     "title": ""
    }
   },
   "outputs": [
    {
     "output_type": "stream",
     "name": "stdout",
     "output_type": "stream",
     "text": [
      "[Document(page_content='instruction: What is the current interest rate of HDFC Bank?\\nresponse: \"The interest rate on HDFC Bank\\'s fixed deposits varies depending on the amount of your deposit, the deposit period and the type of account holder (individual, senior citizen etc.). And for today, what is the interest rate on HDFC Bank\\'s fixed deposits for you? Is?\\nAs of [current date], here are the current interest rates offered by HDFC Bank on its fixed deposits:\\n For deposits up to ₹1 crore, interest rates range from 3.50% to 7.00% per annum depending on the deposit tenure and type of account holder.For deposits above Rs 1 crore, interest rates range from 3.75% to 7.25% per annum, depending on the deposit tenure and type of account holder. Please note that these interest rates are subject to change and are dependent on market conditions and other May vary depending on factors. It is always a good idea to check the current interest rates and terms offered by HDFC Bank before investing in a fixed deposit.', metadata={'source': '/Workspace/Users/shalu.tyagi@hdfcbank.com/dataenglish.csv', 'row': 0}), Document(page_content='instruction: What is the customer care number of HDFC Bank?\\nresponse: HDFC Bank customer care number is 1800 22 1006. This number is available 24/7 and provides assistance for customer related queries.\\nApart from this, HDFC Bank customer care number is also available through mobile app and net banking platform.\\nMobile App:\\nDownload HDFC Bank mobile app from Google Play Store or Apple App Store.\\nRegister mobile number and login.\\nClick \"\"Help\"\" section and select \"\"Contact Us\"\" for customer care number.\\nNet Banking:\\nLogin to HDFC Bank Net Banking account.\\nClick \"\"Help\"\" section and select \"\"Contact Us\"\" for customer care number.', metadata={'source': '/Workspace/Users/shalu.tyagi@hdfcbank.com/dataenglish.csv', 'row': 1})]\n"
     ]
    }
   ],
   "source": [
    "from langchain.document_loaders.csv_loader import CSVLoader\n",
    "loader = CSVLoader(file_path=\"/Workspace/Users/shalu.tyagi@hdfcbank.com/dataenglish.csv\", encoding=\"utf-8\", csv_args={'delimiter': ','})\n",
    "data = loader.load()\n",
    "print(data)"
   ]
  },
  {
   "cell_type": "code",
   "execution_count": 0,
   "metadata": {
    "application/vnd.databricks.v1+cell": {
     "cellMetadata": {
      "byteLimit": 2048000,
      "rowLimit": 10000
     },
     "inputWidgets": {},
     "nuid": "67a4759b-f658-41bb-8606-9da5b32c7ac2",
     "showTitle": false,
     "title": ""
    }
   },
   "outputs": [],
   "source": [
    "from langchain.text_splitter import RecursiveCharacterTextSplitter\n",
    "#from langchain.text_splitter import CharacterTextSplitter\n",
    "text_splitter = RecursiveCharacterTextSplitter(chunk_size=500, chunk_overlap=0)\n",
    "text_chunks = text_splitter.split_documents(data)"
   ]
  },
  {
   "cell_type": "code",
   "execution_count": 0,
   "metadata": {
    "application/vnd.databricks.v1+cell": {
     "cellMetadata": {
      "byteLimit": 2048000,
      "rowLimit": 10000
     },
     "inputWidgets": {},
     "nuid": "1c40ea23-e765-442d-8188-71f48c0c3775",
     "showTitle": false,
     "title": ""
    }
   },
   "outputs": [
    {
     "output_type": "execute_result",
     "data": {
      "text/plain": [
       "[Document(page_content='instruction: What is the current interest rate of HDFC Bank?\\nresponse: \"The interest rate on HDFC Bank\\'s fixed deposits varies depending on the amount of your deposit, the deposit period and the type of account holder (individual, senior citizen etc.). And for today, what is the interest rate on HDFC Bank\\'s fixed deposits for you? Is?\\nAs of [current date], here are the current interest rates offered by HDFC Bank on its fixed deposits:', metadata={'source': '/Workspace/Users/shalu.tyagi@hdfcbank.com/dataenglish.csv', 'row': 0}),\n",
       " Document(page_content='For deposits up to ₹1 crore, interest rates range from 3.50% to 7.00% per annum depending on the deposit tenure and type of account holder.For deposits above Rs 1 crore, interest rates range from 3.75% to 7.25% per annum, depending on the deposit tenure and type of account holder. Please note that these interest rates are subject to change and are dependent on market conditions and other May vary depending on factors. It is always a good idea to check the current interest rates and terms', metadata={'source': '/Workspace/Users/shalu.tyagi@hdfcbank.com/dataenglish.csv', 'row': 0}),\n",
       " Document(page_content='offered by HDFC Bank before investing in a fixed deposit.', metadata={'source': '/Workspace/Users/shalu.tyagi@hdfcbank.com/dataenglish.csv', 'row': 0}),\n",
       " Document(page_content='instruction: What is the customer care number of HDFC Bank?\\nresponse: HDFC Bank customer care number is 1800 22 1006. This number is available 24/7 and provides assistance for customer related queries.\\nApart from this, HDFC Bank customer care number is also available through mobile app and net banking platform.\\nMobile App:\\nDownload HDFC Bank mobile app from Google Play Store or Apple App Store.\\nRegister mobile number and login.', metadata={'source': '/Workspace/Users/shalu.tyagi@hdfcbank.com/dataenglish.csv', 'row': 1}),\n",
       " Document(page_content='Click \"\"Help\"\" section and select \"\"Contact Us\"\" for customer care number.\\nNet Banking:\\nLogin to HDFC Bank Net Banking account.\\nClick \"\"Help\"\" section and select \"\"Contact Us\"\" for customer care number.', metadata={'source': '/Workspace/Users/shalu.tyagi@hdfcbank.com/dataenglish.csv', 'row': 1})]"
      ]
     },
     "execution_count": 50,
     "metadata": {},
     "output_type": "execute_result"
    }
   ],
   "source": [
    "text_chunks"
   ]
  },
  {
   "cell_type": "code",
   "execution_count": 0,
   "metadata": {
    "application/vnd.databricks.v1+cell": {
     "cellMetadata": {
      "byteLimit": 2048000,
      "rowLimit": 10000
     },
     "inputWidgets": {},
     "nuid": "02c2aeed-3daa-44c6-8331-ad661589e4fd",
     "showTitle": false,
     "title": ""
    }
   },
   "outputs": [],
   "source": [
    "# Embed and store the texts\n",
    "# Supplying a persist_directory will store the embeddings on disk\n",
    "from langchain.vectorstores import Chroma\n",
    "persist_directory = 'db'\n",
    "\n",
    "## Here is the nmew embeddings being used\n",
    "embedding = instructor_embeddings\n",
    "\n",
    "vectordb = Chroma.from_documents(documents=text_chunks, \n",
    "                                 embedding=embedding,\n",
    "                                 persist_directory=persist_directory)"
   ]
  },
  {
   "cell_type": "code",
   "execution_count": 0,
   "metadata": {
    "application/vnd.databricks.v1+cell": {
     "cellMetadata": {
      "byteLimit": 2048000,
      "rowLimit": 10000
     },
     "inputWidgets": {},
     "nuid": "1b786a9b-1a69-4bf9-8ae9-d0b836c2bf00",
     "showTitle": false,
     "title": ""
    }
   },
   "outputs": [],
   "source": [
    "# persiste the db to disk\n",
    "vectordb.persist()\n",
    "vectordb = None"
   ]
  },
  {
   "cell_type": "code",
   "execution_count": 0,
   "metadata": {
    "application/vnd.databricks.v1+cell": {
     "cellMetadata": {
      "byteLimit": 2048000,
      "rowLimit": 10000
     },
     "inputWidgets": {},
     "nuid": "9bfab878-d338-4e78-b1f7-0de732ef0d55",
     "showTitle": false,
     "title": ""
    }
   },
   "outputs": [],
   "source": [
    "# Now we can load the persisted database from disk, and use it as normal. \n",
    "vectordb = Chroma(persist_directory=persist_directory, \n",
    "                  embedding_function=embedding)"
   ]
  },
  {
   "cell_type": "code",
   "execution_count": 0,
   "metadata": {
    "application/vnd.databricks.v1+cell": {
     "cellMetadata": {
      "byteLimit": 2048000,
      "rowLimit": 10000
     },
     "inputWidgets": {},
     "nuid": "75ba4be6-8666-4c83-9497-b44a94e7b50c",
     "showTitle": false,
     "title": ""
    }
   },
   "outputs": [],
   "source": [
    "retriever = vectordb.as_retriever()"
   ]
  },
  {
   "cell_type": "code",
   "execution_count": 0,
   "metadata": {
    "application/vnd.databricks.v1+cell": {
     "cellMetadata": {
      "byteLimit": 2048000,
      "rowLimit": 10000
     },
     "inputWidgets": {},
     "nuid": "200305ad-5812-48e4-b6ba-3e34ea57559b",
     "showTitle": false,
     "title": ""
    }
   },
   "outputs": [],
   "source": [
    "docs = retriever.get_relevant_documents(\"What is the customer care number of HDFC Bank?\")"
   ]
  },
  {
   "cell_type": "code",
   "execution_count": 0,
   "metadata": {
    "application/vnd.databricks.v1+cell": {
     "cellMetadata": {
      "byteLimit": 2048000,
      "rowLimit": 10000
     },
     "inputWidgets": {},
     "nuid": "7c0d3bbd-00c4-4db4-adb8-16ad0501d4b0",
     "showTitle": false,
     "title": ""
    }
   },
   "outputs": [
    {
     "output_type": "execute_result",
     "data": {
      "text/plain": [
       "[Document(page_content='instruction: What is the customer care number of HDFC Bank?\\nresponse: HDFC Bank customer care number is 1800 22 1006. This number is available 24/7 and provides assistance for customer related queries.\\nApart from this, HDFC Bank customer care number is also available through mobile app and net banking platform.\\nMobile App:\\nDownload HDFC Bank mobile app from Google Play Store or Apple App Store.\\nRegister mobile number and login.', metadata={'row': 1, 'source': '/Workspace/Users/shalu.tyagi@hdfcbank.com/dataenglish.csv'}),\n",
       " Document(page_content='Click \"\"Help\"\" section and select \"\"Contact Us\"\" for customer care number.\\nNet Banking:\\nLogin to HDFC Bank Net Banking account.\\nClick \"\"Help\"\" section and select \"\"Contact Us\"\" for customer care number.', metadata={'row': 1, 'source': '/Workspace/Users/shalu.tyagi@hdfcbank.com/dataenglish.csv'}),\n",
       " Document(page_content='response: HDFC Bank का कस्टमर केयर नंबर 1800 22 1006 है। यह नंबर 24/7 उपलब्ध है और कस्टमरों के सम्बन्धित सवालों के लिए सहायता प्रदान करता है।', metadata={'row': 2, 'source': '/Workspace/Users/shalu.tyagi@hdfcbank.com/Dataforfinetuning.csv'}),\n",
       " Document(page_content='instruction: एचडीएफसी बैंक का कस्टमर केयर नंबर क्या है?\\ncontext: \\nresponse: HDFC Bank का कस्टमर केयर नंबर 1800 22 1006 है। यह नंबर 24/7 उपलब्ध है और कस्टमरों के सम्बन्धित सवालों के लिए सहायता प्रदान करता है।\\nइसके अलावा, HDFC Bank का कस्टमर केयर नंबर मोबाइल ऐप और नेट बैंकिंग प्लेटफॉर्म से भी उपलब्ध है।\\nमोबाइल ऐप:\\nगूगल प्ले स्टोर या ऐपल ऐप स्टोर से HDFC Bank मोबाइल ऐप डाउनलोड करें।\\nमोबाइल नंबर रजिस्टर करें और लॉगिन करें।\\n\"Help\" सेक्शन कLICK करें और \"Contact Us\" का चयन करें कस्टमर केयर नंबर के लिए।', metadata={'row': 2, 'source': '/Workspace/Users/shalu.tyagi@hdfcbank.com/Dataforfinetuning.csv'})]"
      ]
     },
     "execution_count": 58,
     "metadata": {},
     "output_type": "execute_result"
    }
   ],
   "source": [
    "docs"
   ]
  },
  {
   "cell_type": "code",
   "execution_count": 0,
   "metadata": {
    "application/vnd.databricks.v1+cell": {
     "cellMetadata": {
      "byteLimit": 2048000,
      "rowLimit": 10000
     },
     "inputWidgets": {},
     "nuid": "3ac63820-40f8-4415-8cc2-a3dac93f2c45",
     "showTitle": false,
     "title": ""
    }
   },
   "outputs": [
    {
     "output_type": "display_data",
     "data": {
      "text/plain": [
       "\u001B[0;31m---------------------------------------------------------------------------\u001B[0m\n",
       "\u001B[0;31mImportError\u001B[0m                               Traceback (most recent call last)\n",
       "File \u001B[0;32m<command-2901883420740509>:1\u001B[0m\n",
       "\u001B[0;32m----> 1\u001B[0m \u001B[38;5;28;01mfrom\u001B[39;00m \u001B[38;5;21;01mlangchain\u001B[39;00m\u001B[38;5;21;01m.\u001B[39;00m\u001B[38;5;21;01mllms\u001B[39;00m \u001B[38;5;28;01mimport\u001B[39;00m MlflowAIGateway\n",
       "\u001B[1;32m      2\u001B[0m \u001B[38;5;28;01mfrom\u001B[39;00m \u001B[38;5;21;01mlangchain\u001B[39;00m\u001B[38;5;21;01m.\u001B[39;00m\u001B[38;5;21;01mprompts\u001B[39;00m \u001B[38;5;28;01mimport\u001B[39;00m PromptTemplate\n",
       "\u001B[1;32m      3\u001B[0m \u001B[38;5;28;01mfrom\u001B[39;00m \u001B[38;5;21;01mlangchain\u001B[39;00m\u001B[38;5;21;01m.\u001B[39;00m\u001B[38;5;21;01mchains\u001B[39;00m \u001B[38;5;28;01mimport\u001B[39;00m RetrievalQA\n",
       "\n",
       "\u001B[0;31mImportError\u001B[0m: cannot import name 'MlflowAIGateway' from 'langchain.llms' (/databricks/python/lib/python3.10/site-packages/langchain/llms/__init__.py)"
      ]
     },
     "metadata": {
      "application/vnd.databricks.v1+output": {
       "arguments": {},
       "data": "\u001B[0;31m---------------------------------------------------------------------------\u001B[0m\n\u001B[0;31mImportError\u001B[0m                               Traceback (most recent call last)\nFile \u001B[0;32m<command-2901883420740509>:1\u001B[0m\n\u001B[0;32m----> 1\u001B[0m \u001B[38;5;28;01mfrom\u001B[39;00m \u001B[38;5;21;01mlangchain\u001B[39;00m\u001B[38;5;21;01m.\u001B[39;00m\u001B[38;5;21;01mllms\u001B[39;00m \u001B[38;5;28;01mimport\u001B[39;00m MlflowAIGateway\n\u001B[1;32m      2\u001B[0m \u001B[38;5;28;01mfrom\u001B[39;00m \u001B[38;5;21;01mlangchain\u001B[39;00m\u001B[38;5;21;01m.\u001B[39;00m\u001B[38;5;21;01mprompts\u001B[39;00m \u001B[38;5;28;01mimport\u001B[39;00m PromptTemplate\n\u001B[1;32m      3\u001B[0m \u001B[38;5;28;01mfrom\u001B[39;00m \u001B[38;5;21;01mlangchain\u001B[39;00m\u001B[38;5;21;01m.\u001B[39;00m\u001B[38;5;21;01mchains\u001B[39;00m \u001B[38;5;28;01mimport\u001B[39;00m RetrievalQA\n\n\u001B[0;31mImportError\u001B[0m: cannot import name 'MlflowAIGateway' from 'langchain.llms' (/databricks/python/lib/python3.10/site-packages/langchain/llms/__init__.py)",
       "errorSummary": "<span class='ansi-red-fg'>ImportError</span>: cannot import name 'MlflowAIGateway' from 'langchain.llms' (/databricks/python/lib/python3.10/site-packages/langchain/llms/__init__.py)",
       "errorTraceType": "ansi",
       "metadata": {},
       "type": "ipynbError"
      }
     },
     "output_type": "display_data"
    }
   ],
   "source": [
    "from langchain.llms import MlflowAIGateway\n",
    "from langchain.prompts import PromptTemplate\n",
    "from langchain.chains import RetrievalQA\n",
    "\n",
    "# Create a prompt structure for Llama2 Chat (note that if using MPT the prompt structure would differ)\n",
    "\n",
    "template = \"\"\"[INST] <<SYS>>\n",
    "You are Banking Question Answering Machine. Answer Accordingly\n",
    "\n",
    "<</SYS>>\n",
    "\n",
    "{context}\n",
    "\n",
    "{question} [/INST]\n",
    "\n",
    "\"\"\"\n",
    "prompt = PromptTemplate(input_variables=['context', 'question'], template=template)\n",
    "\n",
    "# Retrieve the AI Gateway Route\n",
    "\n",
    "mosaic_completion_route = MlflowAIGateway(\n",
    "  gateway_uri=\"databricks\",\n",
    "  route=\"completion\"\n",
    ")\n",
    "\n",
    "# Wrap the prompt and Gateway Route into a chain\n",
    "\n",
    "retrieval_qa_chain = RetrievalQA.from_chain_type(llm=mosaic_completion_route, chain_type=\"stuff\", retriever=vectordb.as_retriever(), chain_type_kwargs={\"prompt\": prompt})"
   ]
  },
  {
   "cell_type": "code",
   "execution_count": 0,
   "metadata": {
    "application/vnd.databricks.v1+cell": {
     "cellMetadata": {
      "byteLimit": 2048000,
      "rowLimit": 10000
     },
     "inputWidgets": {},
     "nuid": "bb21c12c-705b-4419-ae5e-c00d2d516e59",
     "showTitle": false,
     "title": ""
    }
   },
   "outputs": [
    {
     "output_type": "display_data",
     "data": {
      "text/plain": [
       "\u001B[0;31m---------------------------------------------------------------------------\u001B[0m\n",
       "\u001B[0;31mNameError\u001B[0m                                 Traceback (most recent call last)\n",
       "File \u001B[0;32m<command-2901883420740514>:2\u001B[0m\n",
       "\u001B[1;32m      1\u001B[0m query \u001B[38;5;241m=\u001B[39m \u001B[38;5;124m\"\u001B[39m\u001B[38;5;124mBest Medical colleges in India?\u001B[39m\u001B[38;5;124m\"\u001B[39m\n",
       "\u001B[0;32m----> 2\u001B[0m t\u001B[38;5;241m=\u001B[39mretrieval_qa_chain\u001B[38;5;241m.\u001B[39mrun(query)\n",
       "\n",
       "\u001B[0;31mNameError\u001B[0m: name 'retrieval_qa_chain' is not defined"
      ]
     },
     "metadata": {
      "application/vnd.databricks.v1+output": {
       "arguments": {},
       "data": "\u001B[0;31m---------------------------------------------------------------------------\u001B[0m\n\u001B[0;31mNameError\u001B[0m                                 Traceback (most recent call last)\nFile \u001B[0;32m<command-2901883420740514>:2\u001B[0m\n\u001B[1;32m      1\u001B[0m query \u001B[38;5;241m=\u001B[39m \u001B[38;5;124m\"\u001B[39m\u001B[38;5;124mBest Medical colleges in India?\u001B[39m\u001B[38;5;124m\"\u001B[39m\n\u001B[0;32m----> 2\u001B[0m t\u001B[38;5;241m=\u001B[39mretrieval_qa_chain\u001B[38;5;241m.\u001B[39mrun(query)\n\n\u001B[0;31mNameError\u001B[0m: name 'retrieval_qa_chain' is not defined",
       "errorSummary": "<span class='ansi-red-fg'>NameError</span>: name 'retrieval_qa_chain' is not defined",
       "errorTraceType": "ansi",
       "metadata": {},
       "type": "ipynbError"
      }
     },
     "output_type": "display_data"
    }
   ],
   "source": [
    "query = \"Best Medical colleges in India?\"\n",
    "t=retrieval_qa_chain.run(query)"
   ]
  },
  {
   "cell_type": "code",
   "execution_count": 0,
   "metadata": {
    "application/vnd.databricks.v1+cell": {
     "cellMetadata": {
      "byteLimit": 2048000,
      "rowLimit": 10000
     },
     "inputWidgets": {},
     "nuid": "e162dc5d-9fc3-4059-9ce6-9675df62eb70",
     "showTitle": false,
     "title": ""
    }
   },
   "outputs": [
    {
     "output_type": "display_data",
     "data": {
      "text/plain": [
       "\u001B[0;31m---------------------------------------------------------------------------\u001B[0m\n",
       "\u001B[0;31mNameError\u001B[0m                                 Traceback (most recent call last)\n",
       "File \u001B[0;32m<command-2901883420740515>:1\u001B[0m\n",
       "\u001B[0;32m----> 1\u001B[0m \u001B[43mt\u001B[49m\n",
       "\n",
       "\u001B[0;31mNameError\u001B[0m: name 't' is not defined"
      ]
     },
     "metadata": {
      "application/vnd.databricks.v1+output": {
       "arguments": {},
       "data": "\u001B[0;31m---------------------------------------------------------------------------\u001B[0m\n\u001B[0;31mNameError\u001B[0m                                 Traceback (most recent call last)\nFile \u001B[0;32m<command-2901883420740515>:1\u001B[0m\n\u001B[0;32m----> 1\u001B[0m \u001B[43mt\u001B[49m\n\n\u001B[0;31mNameError\u001B[0m: name 't' is not defined",
       "errorSummary": "<span class='ansi-red-fg'>NameError</span>: name 't' is not defined",
       "errorTraceType": "ansi",
       "metadata": {},
       "type": "ipynbError"
      }
     },
     "output_type": "display_data"
    }
   ],
   "source": [
    "t"
   ]
  },
  {
   "cell_type": "code",
   "execution_count": 0,
   "metadata": {
    "application/vnd.databricks.v1+cell": {
     "cellMetadata": {},
     "inputWidgets": {},
     "nuid": "fdd0ac6f-e5db-4ae5-bdff-986d0074d7fd",
     "showTitle": false,
     "title": ""
    }
   },
   "outputs": [],
   "source": []
  },
  {
   "cell_type": "code",
   "execution_count": 0,
   "metadata": {
    "application/vnd.databricks.v1+cell": {
     "cellMetadata": {},
     "inputWidgets": {},
     "nuid": "4d0f5310-18ae-4586-8b4f-750c66db112a",
     "showTitle": false,
     "title": ""
    }
   },
   "outputs": [],
   "source": []
  },
  {
   "cell_type": "code",
   "execution_count": 0,
   "metadata": {
    "application/vnd.databricks.v1+cell": {
     "cellMetadata": {},
     "inputWidgets": {},
     "nuid": "439fb274-b2da-414d-8711-4ad0704865f0",
     "showTitle": false,
     "title": ""
    }
   },
   "outputs": [],
   "source": []
  },
  {
   "cell_type": "code",
   "execution_count": 0,
   "metadata": {
    "application/vnd.databricks.v1+cell": {
     "cellMetadata": {},
     "inputWidgets": {},
     "nuid": "f5c38ecd-e844-49a2-b6db-7f6911f3ebb1",
     "showTitle": false,
     "title": ""
    }
   },
   "outputs": [],
   "source": []
  },
  {
   "cell_type": "code",
   "execution_count": 0,
   "metadata": {
    "application/vnd.databricks.v1+cell": {
     "cellMetadata": {},
     "inputWidgets": {},
     "nuid": "ac05b4fd-4eb5-495f-b3c2-297cdfa8be78",
     "showTitle": false,
     "title": ""
    }
   },
   "outputs": [],
   "source": []
  },
  {
   "cell_type": "code",
   "execution_count": 0,
   "metadata": {
    "application/vnd.databricks.v1+cell": {
     "cellMetadata": {},
     "inputWidgets": {},
     "nuid": "4223ad69-12fa-4a5c-a25b-47f35a44ea5f",
     "showTitle": false,
     "title": ""
    }
   },
   "outputs": [],
   "source": []
  },
  {
   "cell_type": "code",
   "execution_count": 0,
   "metadata": {
    "application/vnd.databricks.v1+cell": {
     "cellMetadata": {},
     "inputWidgets": {},
     "nuid": "ddd3866a-9d06-4aa4-89b0-92ac489289a1",
     "showTitle": false,
     "title": ""
    }
   },
   "outputs": [],
   "source": []
  }
 ],
 "metadata": {
  "application/vnd.databricks.v1+notebook": {
   "dashboards": [],
   "language": "python",
   "notebookMetadata": {
    "pythonIndentUnit": 4
   },
   "notebookName": "70b_mosaic",
   "widgets": {}
  }
 },
 "nbformat": 4,
 "nbformat_minor": 0
}
