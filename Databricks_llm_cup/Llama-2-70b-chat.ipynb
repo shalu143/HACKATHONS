{
 "cells": [
  {
   "cell_type": "code",
   "execution_count": 0,
   "metadata": {
    "application/vnd.databricks.v1+cell": {
     "cellMetadata": {
      "byteLimit": 2048000,
      "rowLimit": 10000
     },
     "inputWidgets": {},
     "nuid": "81d1f5a6-218d-462c-a61f-252cad884738",
     "showTitle": false,
     "title": ""
    }
   },
   "outputs": [],
   "source": [
    "# Databricks notebook source\n",
    "# MAGIC %md\n",
    "# MAGIC # Loading Llama 2 70B Chat model from Marketplace\n",
    "# MAGIC\n",
    "# MAGIC This example notebook demonstrates how to load the Llama 2 70B Chat model from a Databricks Marketplace's Catalog ([see announcement blog](https://www.databricks.com/blog/llama-2-foundation-models-available-databricks-lakehouse-ai)).\n",
    "# MAGIC\n",
    "# MAGIC Environment:\n",
    "# MAGIC - MLR: 13.3 ML\n",
    "# MAGIC - Instance: `p4d.24xlarge` or `g5.48xlarge` on AWS, `Standard_NC48ads_A100_v4` on Azure\n",
    "\n",
    "# COMMAND ----------\n",
    "\n",
    "# To access models in Unity Catalog, ensure that MLflow is up to date\n",
    "# %pip install --upgrade \"mlflow-skinny[databricks]>=2.4.1\"\n",
    "# dbutils.library.restartPython()\n",
    "\n"
   ]
  },
  {
   "cell_type": "code",
   "execution_count": 0,
   "metadata": {
    "application/vnd.databricks.v1+cell": {
     "cellMetadata": {},
     "inputWidgets": {},
     "nuid": "1353815f-9e2b-4e40-9736-c588cac3bfad",
     "showTitle": false,
     "title": ""
    }
   },
   "outputs": [],
   "source": [
    "import mlflow\n",
    "\n",
    "mlflow.set_registry_uri(\"databricks-uc\")\n",
    "\n",
    "catalog_name = \"databricks_llama_2_models\" # Default catalog name when installing the model from Databricks Marketplace\n",
    "version = 1\n",
    "\n",
    "# Create a Spark UDF to generate the response to a prompt\n",
    "generate = mlflow.pyfunc.spark_udf(\n",
    "    spark, f\"models:/{catalog_name}.models.llama_2_7b_chat_hf/{version}\", \"string\"\n",
    ")\n"
   ]
  },
  {
   "cell_type": "code",
   "execution_count": 0,
   "metadata": {
    "application/vnd.databricks.v1+cell": {
     "cellMetadata": {
      "byteLimit": 2048000,
      "rowLimit": 10000
     },
     "inputWidgets": {},
     "nuid": "2943b61f-54b9-4a9d-b901-7f12533f53e9",
     "showTitle": false,
     "title": ""
    }
   },
   "outputs": [
    {
     "output_type": "display_data",
     "data": {
      "application/vnd.jupyter.widget-view+json": {
       "model_id": "9606f37055fd49f2b3d896ba538e7492",
       "version_major": 2,
       "version_minor": 0
      },
      "text/plain": [
       "Downloading artifacts:   0%|          | 0/176 [00:00<?, ?it/s]"
      ]
     },
     "metadata": {},
     "output_type": "display_data"
    },
    {
     "output_type": "stream",
     "name": "stderr",
     "output_type": "stream",
     "text": [
      "2023/11/13 09:43:46 INFO mlflow.store.artifact.artifact_repo: The progress bar can be disabled by setting the environment variable MLFLOW_ENABLE_ARTIFACTS_PROGRESS_BAR to false\n"
     ]
    },
    {
     "output_type": "display_data",
     "data": {
      "application/vnd.jupyter.widget-view+json": {
       "model_id": "6b5aaec4fce248a0876b0e2f5621f54c",
       "version_major": 2,
       "version_minor": 0
      },
      "text/plain": [
       "Downloading /local_disk0/.ephemeral_nfs/repl_tmp_data/ReplId-452de-3dd8f-5878b-f/mlflow/models/tmpbn5g0j9a/mod…"
      ]
     },
     "metadata": {},
     "output_type": "display_data"
    },
    {
     "output_type": "display_data",
     "data": {
      "application/vnd.jupyter.widget-view+json": {
       "model_id": "1791e4bf27c7437ab604f779117e8b05",
       "version_major": 2,
       "version_minor": 0
      },
      "text/plain": [
       "Downloading /local_disk0/.ephemeral_nfs/repl_tmp_data/ReplId-452de-3dd8f-5878b-f/mlflow/models/tmpbn5g0j9a/mod…"
      ]
     },
     "metadata": {},
     "output_type": "display_data"
    },
    {
     "output_type": "display_data",
     "data": {
      "application/vnd.jupyter.widget-view+json": {
       "model_id": "8ee536bc697947a3bf552bd671c35f8f",
       "version_major": 2,
       "version_minor": 0
      },
      "text/plain": [
       "Downloading /local_disk0/.ephemeral_nfs/repl_tmp_data/ReplId-452de-3dd8f-5878b-f/mlflow/models/tmpbn5g0j9a/mod…"
      ]
     },
     "metadata": {},
     "output_type": "display_data"
    },
    {
     "output_type": "display_data",
     "data": {
      "application/vnd.jupyter.widget-view+json": {
       "model_id": "053f8a8a173149e38491e1c2202abe57",
       "version_major": 2,
       "version_minor": 0
      },
      "text/plain": [
       "Downloading /local_disk0/.ephemeral_nfs/repl_tmp_data/ReplId-452de-3dd8f-5878b-f/mlflow/models/tmpbn5g0j9a/mod…"
      ]
     },
     "metadata": {},
     "output_type": "display_data"
    },
    {
     "output_type": "display_data",
     "data": {
      "application/vnd.jupyter.widget-view+json": {
       "model_id": "d52216817ed54e23a0d6a87700e15d98",
       "version_major": 2,
       "version_minor": 0
      },
      "text/plain": [
       "Downloading /local_disk0/.ephemeral_nfs/repl_tmp_data/ReplId-452de-3dd8f-5878b-f/mlflow/models/tmpbn5g0j9a/mod…"
      ]
     },
     "metadata": {},
     "output_type": "display_data"
    },
    {
     "output_type": "display_data",
     "data": {
      "application/vnd.jupyter.widget-view+json": {
       "model_id": "265003c2f8e24ac1abe51adfb770f8fa",
       "version_major": 2,
       "version_minor": 0
      },
      "text/plain": [
       "Downloading /local_disk0/.ephemeral_nfs/repl_tmp_data/ReplId-452de-3dd8f-5878b-f/mlflow/models/tmpbn5g0j9a/mod…"
      ]
     },
     "metadata": {},
     "output_type": "display_data"
    },
    {
     "output_type": "display_data",
     "data": {
      "application/vnd.jupyter.widget-view+json": {
       "model_id": "d6ca4c9b4fcd4478900487d921a896bb",
       "version_major": 2,
       "version_minor": 0
      },
      "text/plain": [
       "Downloading /local_disk0/.ephemeral_nfs/repl_tmp_data/ReplId-452de-3dd8f-5878b-f/mlflow/models/tmpbn5g0j9a/mod…"
      ]
     },
     "metadata": {},
     "output_type": "display_data"
    },
    {
     "output_type": "display_data",
     "data": {
      "application/vnd.jupyter.widget-view+json": {
       "model_id": "5cd1012b9b52480e8e7d378fa08ae9ce",
       "version_major": 2,
       "version_minor": 0
      },
      "text/plain": [
       "Downloading /local_disk0/.ephemeral_nfs/repl_tmp_data/ReplId-452de-3dd8f-5878b-f/mlflow/models/tmpbn5g0j9a/mod…"
      ]
     },
     "metadata": {},
     "output_type": "display_data"
    },
    {
     "output_type": "display_data",
     "data": {
      "application/vnd.jupyter.widget-view+json": {
       "model_id": "28a843b6986c4f108b63af278be487ce",
       "version_major": 2,
       "version_minor": 0
      },
      "text/plain": [
       "Downloading /local_disk0/.ephemeral_nfs/repl_tmp_data/ReplId-452de-3dd8f-5878b-f/mlflow/models/tmpbn5g0j9a/mod…"
      ]
     },
     "metadata": {},
     "output_type": "display_data"
    },
    {
     "output_type": "display_data",
     "data": {
      "application/vnd.jupyter.widget-view+json": {
       "model_id": "14c662661e9a4bb2a45326f0f45034b6",
       "version_major": 2,
       "version_minor": 0
      },
      "text/plain": [
       "Downloading /local_disk0/.ephemeral_nfs/repl_tmp_data/ReplId-452de-3dd8f-5878b-f/mlflow/models/tmpbn5g0j9a/mod…"
      ]
     },
     "metadata": {},
     "output_type": "display_data"
    },
    {
     "output_type": "display_data",
     "data": {
      "application/vnd.jupyter.widget-view+json": {
       "model_id": "e68fdf9fee7f4d8389d2932ed6e180f8",
       "version_major": 2,
       "version_minor": 0
      },
      "text/plain": [
       "Downloading /local_disk0/.ephemeral_nfs/repl_tmp_data/ReplId-452de-3dd8f-5878b-f/mlflow/models/tmpbn5g0j9a/mod…"
      ]
     },
     "metadata": {},
     "output_type": "display_data"
    },
    {
     "output_type": "display_data",
     "data": {
      "application/vnd.jupyter.widget-view+json": {
       "model_id": "3199b8e8562a4eb494f062e58484faeb",
       "version_major": 2,
       "version_minor": 0
      },
      "text/plain": [
       "Downloading /local_disk0/.ephemeral_nfs/repl_tmp_data/ReplId-452de-3dd8f-5878b-f/mlflow/models/tmpbn5g0j9a/mod…"
      ]
     },
     "metadata": {},
     "output_type": "display_data"
    },
    {
     "output_type": "display_data",
     "data": {
      "application/vnd.jupyter.widget-view+json": {
       "model_id": "ee4dece8d2d44c19acd16825d5201ea0",
       "version_major": 2,
       "version_minor": 0
      },
      "text/plain": [
       "Downloading /local_disk0/.ephemeral_nfs/repl_tmp_data/ReplId-452de-3dd8f-5878b-f/mlflow/models/tmpbn5g0j9a/mod…"
      ]
     },
     "metadata": {},
     "output_type": "display_data"
    },
    {
     "output_type": "display_data",
     "data": {
      "application/vnd.jupyter.widget-view+json": {
       "model_id": "984cd551f1dc471db4bd13b1538541be",
       "version_major": 2,
       "version_minor": 0
      },
      "text/plain": [
       "Downloading /local_disk0/.ephemeral_nfs/repl_tmp_data/ReplId-452de-3dd8f-5878b-f/mlflow/models/tmpbn5g0j9a/mod…"
      ]
     },
     "metadata": {},
     "output_type": "display_data"
    },
    {
     "output_type": "display_data",
     "data": {
      "application/vnd.jupyter.widget-view+json": {
       "model_id": "66752ce3ef5c4d78aa3898b05bfe199e",
       "version_major": 2,
       "version_minor": 0
      },
      "text/plain": [
       "Downloading /local_disk0/.ephemeral_nfs/repl_tmp_data/ReplId-452de-3dd8f-5878b-f/mlflow/models/tmpbn5g0j9a/mod…"
      ]
     },
     "metadata": {},
     "output_type": "display_data"
    },
    {
     "output_type": "display_data",
     "data": {
      "application/vnd.jupyter.widget-view+json": {
       "model_id": "0fd943b9edae4d25970afe29dca5bfd7",
       "version_major": 2,
       "version_minor": 0
      },
      "text/plain": [
       "Downloading /local_disk0/.ephemeral_nfs/repl_tmp_data/ReplId-452de-3dd8f-5878b-f/mlflow/models/tmpbn5g0j9a/mod…"
      ]
     },
     "metadata": {},
     "output_type": "display_data"
    },
    {
     "output_type": "display_data",
     "data": {
      "application/vnd.jupyter.widget-view+json": {
       "model_id": "8a00e9f4fab746ee9e96ed9a75a18df5",
       "version_major": 2,
       "version_minor": 0
      },
      "text/plain": [
       "Downloading /local_disk0/.ephemeral_nfs/repl_tmp_data/ReplId-452de-3dd8f-5878b-f/mlflow/models/tmpbn5g0j9a/mod…"
      ]
     },
     "metadata": {},
     "output_type": "display_data"
    },
    {
     "output_type": "display_data",
     "data": {
      "application/vnd.jupyter.widget-view+json": {
       "model_id": "e34dc0bf557f4a30a6c165aa00efabcd",
       "version_major": 2,
       "version_minor": 0
      },
      "text/plain": [
       "Downloading /local_disk0/.ephemeral_nfs/repl_tmp_data/ReplId-452de-3dd8f-5878b-f/mlflow/models/tmpbn5g0j9a/mod…"
      ]
     },
     "metadata": {},
     "output_type": "display_data"
    },
    {
     "output_type": "display_data",
     "data": {
      "application/vnd.jupyter.widget-view+json": {
       "model_id": "7dd58499e7f7486a986bbaac87a02a2b",
       "version_major": 2,
       "version_minor": 0
      },
      "text/plain": [
       "Downloading /local_disk0/.ephemeral_nfs/repl_tmp_data/ReplId-452de-3dd8f-5878b-f/mlflow/models/tmpbn5g0j9a/mod…"
      ]
     },
     "metadata": {},
     "output_type": "display_data"
    },
    {
     "output_type": "display_data",
     "data": {
      "application/vnd.jupyter.widget-view+json": {
       "model_id": "aba933ee8f9744689e74d3cb95ffbc4e",
       "version_major": 2,
       "version_minor": 0
      },
      "text/plain": [
       "Downloading /local_disk0/.ephemeral_nfs/repl_tmp_data/ReplId-452de-3dd8f-5878b-f/mlflow/models/tmpbn5g0j9a/mod…"
      ]
     },
     "metadata": {},
     "output_type": "display_data"
    },
    {
     "output_type": "display_data",
     "data": {
      "application/vnd.jupyter.widget-view+json": {
       "model_id": "eb805cf494694690b58673d3af92b578",
       "version_major": 2,
       "version_minor": 0
      },
      "text/plain": [
       "Downloading /local_disk0/.ephemeral_nfs/repl_tmp_data/ReplId-452de-3dd8f-5878b-f/mlflow/models/tmpbn5g0j9a/mod…"
      ]
     },
     "metadata": {},
     "output_type": "display_data"
    },
    {
     "output_type": "display_data",
     "data": {
      "application/vnd.jupyter.widget-view+json": {
       "model_id": "ed8eca94e1be45e9adfc80f0ce972281",
       "version_major": 2,
       "version_minor": 0
      },
      "text/plain": [
       "Downloading /local_disk0/.ephemeral_nfs/repl_tmp_data/ReplId-452de-3dd8f-5878b-f/mlflow/models/tmpbn5g0j9a/mod…"
      ]
     },
     "metadata": {},
     "output_type": "display_data"
    },
    {
     "output_type": "display_data",
     "data": {
      "application/vnd.jupyter.widget-view+json": {
       "model_id": "45bc4930e75b492099ede8191db55768",
       "version_major": 2,
       "version_minor": 0
      },
      "text/plain": [
       "Downloading /local_disk0/.ephemeral_nfs/repl_tmp_data/ReplId-452de-3dd8f-5878b-f/mlflow/models/tmpbn5g0j9a/mod…"
      ]
     },
     "metadata": {},
     "output_type": "display_data"
    },
    {
     "output_type": "display_data",
     "data": {
      "application/vnd.jupyter.widget-view+json": {
       "model_id": "3064b9367e1f450eb58f7e0cf5c4cb6e",
       "version_major": 2,
       "version_minor": 0
      },
      "text/plain": [
       "Downloading /local_disk0/.ephemeral_nfs/repl_tmp_data/ReplId-452de-3dd8f-5878b-f/mlflow/models/tmpbn5g0j9a/mod…"
      ]
     },
     "metadata": {},
     "output_type": "display_data"
    },
    {
     "output_type": "display_data",
     "data": {
      "application/vnd.jupyter.widget-view+json": {
       "model_id": "62960e1b1f1143e580c0213a86ddf8e8",
       "version_major": 2,
       "version_minor": 0
      },
      "text/plain": [
       "Downloading /local_disk0/.ephemeral_nfs/repl_tmp_data/ReplId-452de-3dd8f-5878b-f/mlflow/models/tmpbn5g0j9a/mod…"
      ]
     },
     "metadata": {},
     "output_type": "display_data"
    },
    {
     "output_type": "display_data",
     "data": {
      "application/vnd.jupyter.widget-view+json": {
       "model_id": "c741fbffba6141978bd1e44ccda50096",
       "version_major": 2,
       "version_minor": 0
      },
      "text/plain": [
       "Downloading /local_disk0/.ephemeral_nfs/repl_tmp_data/ReplId-452de-3dd8f-5878b-f/mlflow/models/tmpbn5g0j9a/mod…"
      ]
     },
     "metadata": {},
     "output_type": "display_data"
    },
    {
     "output_type": "display_data",
     "data": {
      "application/vnd.jupyter.widget-view+json": {
       "model_id": "cd9bb8e6f78647959a363838bc3b9a9d",
       "version_major": 2,
       "version_minor": 0
      },
      "text/plain": [
       "Downloading /local_disk0/.ephemeral_nfs/repl_tmp_data/ReplId-452de-3dd8f-5878b-f/mlflow/models/tmpbn5g0j9a/mod…"
      ]
     },
     "metadata": {},
     "output_type": "display_data"
    },
    {
     "output_type": "display_data",
     "data": {
      "application/vnd.jupyter.widget-view+json": {
       "model_id": "2a098431cb14446b9bb399b73fa087cc",
       "version_major": 2,
       "version_minor": 0
      },
      "text/plain": [
       "Downloading /local_disk0/.ephemeral_nfs/repl_tmp_data/ReplId-452de-3dd8f-5878b-f/mlflow/models/tmpbn5g0j9a/mod…"
      ]
     },
     "metadata": {},
     "output_type": "display_data"
    },
    {
     "output_type": "display_data",
     "data": {
      "application/vnd.jupyter.widget-view+json": {
       "model_id": "991932ca0a5d478ca05e94eb56940708",
       "version_major": 2,
       "version_minor": 0
      },
      "text/plain": [
       "Downloading /local_disk0/.ephemeral_nfs/repl_tmp_data/ReplId-452de-3dd8f-5878b-f/mlflow/models/tmpbn5g0j9a/mod…"
      ]
     },
     "metadata": {},
     "output_type": "display_data"
    },
    {
     "output_type": "display_data",
     "data": {
      "application/vnd.jupyter.widget-view+json": {
       "model_id": "ebe0ade7ea474bc0bac302772eed9141",
       "version_major": 2,
       "version_minor": 0
      },
      "text/plain": [
       "Downloading /local_disk0/.ephemeral_nfs/repl_tmp_data/ReplId-452de-3dd8f-5878b-f/mlflow/models/tmpbn5g0j9a/mod…"
      ]
     },
     "metadata": {},
     "output_type": "display_data"
    },
    {
     "output_type": "display_data",
     "data": {
      "application/vnd.jupyter.widget-view+json": {
       "model_id": "d10c1a3945a04532bd6232bdb62e6ad1",
       "version_major": 2,
       "version_minor": 0
      },
      "text/plain": [
       "Downloading /local_disk0/.ephemeral_nfs/repl_tmp_data/ReplId-452de-3dd8f-5878b-f/mlflow/models/tmpbn5g0j9a/mod…"
      ]
     },
     "metadata": {},
     "output_type": "display_data"
    },
    {
     "output_type": "display_data",
     "data": {
      "application/vnd.jupyter.widget-view+json": {
       "model_id": "28753a5b3aaa4d2194fa625c8e726b4c",
       "version_major": 2,
       "version_minor": 0
      },
      "text/plain": [
       "Downloading /local_disk0/.ephemeral_nfs/repl_tmp_data/ReplId-452de-3dd8f-5878b-f/mlflow/models/tmpbn5g0j9a/mod…"
      ]
     },
     "metadata": {},
     "output_type": "display_data"
    },
    {
     "output_type": "display_data",
     "data": {
      "application/vnd.jupyter.widget-view+json": {
       "model_id": "82689cb21697423ebe3f768b3fd0277e",
       "version_major": 2,
       "version_minor": 0
      },
      "text/plain": [
       "Downloading /local_disk0/.ephemeral_nfs/repl_tmp_data/ReplId-452de-3dd8f-5878b-f/mlflow/models/tmpbn5g0j9a/mod…"
      ]
     },
     "metadata": {},
     "output_type": "display_data"
    },
    {
     "output_type": "display_data",
     "data": {
      "application/vnd.jupyter.widget-view+json": {
       "model_id": "1b4525dfdd1a43fba572ed6713655dad",
       "version_major": 2,
       "version_minor": 0
      },
      "text/plain": [
       "Downloading /local_disk0/.ephemeral_nfs/repl_tmp_data/ReplId-452de-3dd8f-5878b-f/mlflow/models/tmpbn5g0j9a/mod…"
      ]
     },
     "metadata": {},
     "output_type": "display_data"
    },
    {
     "output_type": "display_data",
     "data": {
      "application/vnd.jupyter.widget-view+json": {
       "model_id": "4662c139e56d481caf237cdd2ee30fb5",
       "version_major": 2,
       "version_minor": 0
      },
      "text/plain": [
       "Downloading /local_disk0/.ephemeral_nfs/repl_tmp_data/ReplId-452de-3dd8f-5878b-f/mlflow/models/tmpbn5g0j9a/mod…"
      ]
     },
     "metadata": {},
     "output_type": "display_data"
    },
    {
     "output_type": "display_data",
     "data": {
      "application/vnd.jupyter.widget-view+json": {
       "model_id": "91e58d427c7e4135926723523f461686",
       "version_major": 2,
       "version_minor": 0
      },
      "text/plain": [
       "Downloading /local_disk0/.ephemeral_nfs/repl_tmp_data/ReplId-452de-3dd8f-5878b-f/mlflow/models/tmpbn5g0j9a/mod…"
      ]
     },
     "metadata": {},
     "output_type": "display_data"
    },
    {
     "output_type": "display_data",
     "data": {
      "application/vnd.jupyter.widget-view+json": {
       "model_id": "a579c3ab1d5f42c4a07bfb43d90a852b",
       "version_major": 2,
       "version_minor": 0
      },
      "text/plain": [
       "Downloading /local_disk0/.ephemeral_nfs/repl_tmp_data/ReplId-452de-3dd8f-5878b-f/mlflow/models/tmpbn5g0j9a/mod…"
      ]
     },
     "metadata": {},
     "output_type": "display_data"
    },
    {
     "output_type": "display_data",
     "data": {
      "application/vnd.jupyter.widget-view+json": {
       "model_id": "efdfd7d557c74b9a8d34521c1f2ade52",
       "version_major": 2,
       "version_minor": 0
      },
      "text/plain": [
       "Downloading /local_disk0/.ephemeral_nfs/repl_tmp_data/ReplId-452de-3dd8f-5878b-f/mlflow/models/tmpbn5g0j9a/mod…"
      ]
     },
     "metadata": {},
     "output_type": "display_data"
    },
    {
     "output_type": "display_data",
     "data": {
      "application/vnd.jupyter.widget-view+json": {
       "model_id": "4a4c0e12b87747ed879feb572c4d3a53",
       "version_major": 2,
       "version_minor": 0
      },
      "text/plain": [
       "Downloading /local_disk0/.ephemeral_nfs/repl_tmp_data/ReplId-452de-3dd8f-5878b-f/mlflow/models/tmpbn5g0j9a/mod…"
      ]
     },
     "metadata": {},
     "output_type": "display_data"
    },
    {
     "output_type": "display_data",
     "data": {
      "application/vnd.jupyter.widget-view+json": {
       "model_id": "50fb2d8e8d2e4d1c93408f049812f185",
       "version_major": 2,
       "version_minor": 0
      },
      "text/plain": [
       "Downloading /local_disk0/.ephemeral_nfs/repl_tmp_data/ReplId-452de-3dd8f-5878b-f/mlflow/models/tmpbn5g0j9a/mod…"
      ]
     },
     "metadata": {},
     "output_type": "display_data"
    },
    {
     "output_type": "display_data",
     "data": {
      "application/vnd.jupyter.widget-view+json": {
       "model_id": "8788612c729a44e28a7fc5e2c1553e76",
       "version_major": 2,
       "version_minor": 0
      },
      "text/plain": [
       "Downloading /local_disk0/.ephemeral_nfs/repl_tmp_data/ReplId-452de-3dd8f-5878b-f/mlflow/models/tmpbn5g0j9a/mod…"
      ]
     },
     "metadata": {},
     "output_type": "display_data"
    },
    {
     "output_type": "display_data",
     "data": {
      "application/vnd.jupyter.widget-view+json": {
       "model_id": "df8eac111b2e405cbe1d363ac397a519",
       "version_major": 2,
       "version_minor": 0
      },
      "text/plain": [
       "Downloading /local_disk0/.ephemeral_nfs/repl_tmp_data/ReplId-452de-3dd8f-5878b-f/mlflow/models/tmpbn5g0j9a/mod…"
      ]
     },
     "metadata": {},
     "output_type": "display_data"
    },
    {
     "output_type": "display_data",
     "data": {
      "application/vnd.jupyter.widget-view+json": {
       "model_id": "f63ddf72244c4c898c82039dc409f1d8",
       "version_major": 2,
       "version_minor": 0
      },
      "text/plain": [
       "Downloading /local_disk0/.ephemeral_nfs/repl_tmp_data/ReplId-452de-3dd8f-5878b-f/mlflow/models/tmpbn5g0j9a/mod…"
      ]
     },
     "metadata": {},
     "output_type": "display_data"
    },
    {
     "output_type": "display_data",
     "data": {
      "application/vnd.jupyter.widget-view+json": {
       "model_id": "bfa4f84cb505440f80231a263ac18e2f",
       "version_major": 2,
       "version_minor": 0
      },
      "text/plain": [
       "Downloading /local_disk0/.ephemeral_nfs/repl_tmp_data/ReplId-452de-3dd8f-5878b-f/mlflow/models/tmpbn5g0j9a/mod…"
      ]
     },
     "metadata": {},
     "output_type": "display_data"
    },
    {
     "output_type": "display_data",
     "data": {
      "application/vnd.jupyter.widget-view+json": {
       "model_id": "d30054a3453e4a8fa0ecbafa13b03555",
       "version_major": 2,
       "version_minor": 0
      },
      "text/plain": [
       "Downloading /local_disk0/.ephemeral_nfs/repl_tmp_data/ReplId-452de-3dd8f-5878b-f/mlflow/models/tmpbn5g0j9a/mod…"
      ]
     },
     "metadata": {},
     "output_type": "display_data"
    },
    {
     "output_type": "display_data",
     "data": {
      "application/vnd.jupyter.widget-view+json": {
       "model_id": "69bbe4def89244e4973f837b5c0b23c5",
       "version_major": 2,
       "version_minor": 0
      },
      "text/plain": [
       "Downloading /local_disk0/.ephemeral_nfs/repl_tmp_data/ReplId-452de-3dd8f-5878b-f/mlflow/models/tmpbn5g0j9a/mod…"
      ]
     },
     "metadata": {},
     "output_type": "display_data"
    },
    {
     "output_type": "display_data",
     "data": {
      "application/vnd.jupyter.widget-view+json": {
       "model_id": "ea375a656d9640b2b1d5767b137de9e9",
       "version_major": 2,
       "version_minor": 0
      },
      "text/plain": [
       "Downloading /local_disk0/.ephemeral_nfs/repl_tmp_data/ReplId-452de-3dd8f-5878b-f/mlflow/models/tmpbn5g0j9a/mod…"
      ]
     },
     "metadata": {},
     "output_type": "display_data"
    },
    {
     "output_type": "display_data",
     "data": {
      "application/vnd.jupyter.widget-view+json": {
       "model_id": "9cb1b22067dd43ac8bef4fdb65d4a9aa",
       "version_major": 2,
       "version_minor": 0
      },
      "text/plain": [
       "Downloading /local_disk0/.ephemeral_nfs/repl_tmp_data/ReplId-452de-3dd8f-5878b-f/mlflow/models/tmpbn5g0j9a/mod…"
      ]
     },
     "metadata": {},
     "output_type": "display_data"
    },
    {
     "output_type": "display_data",
     "data": {
      "application/vnd.jupyter.widget-view+json": {
       "model_id": "cb6c0f0c4ea841de8b88c26f37c3e60a",
       "version_major": 2,
       "version_minor": 0
      },
      "text/plain": [
       "Downloading /local_disk0/.ephemeral_nfs/repl_tmp_data/ReplId-452de-3dd8f-5878b-f/mlflow/models/tmpbn5g0j9a/mod…"
      ]
     },
     "metadata": {},
     "output_type": "display_data"
    },
    {
     "output_type": "display_data",
     "data": {
      "application/vnd.jupyter.widget-view+json": {
       "model_id": "f366a3b426b24290a6c4c852e2b7afd5",
       "version_major": 2,
       "version_minor": 0
      },
      "text/plain": [
       "Downloading /local_disk0/.ephemeral_nfs/repl_tmp_data/ReplId-452de-3dd8f-5878b-f/mlflow/models/tmpbn5g0j9a/mod…"
      ]
     },
     "metadata": {},
     "output_type": "display_data"
    },
    {
     "output_type": "display_data",
     "data": {
      "application/vnd.jupyter.widget-view+json": {
       "model_id": "a5a69e8be24d451db8665657bcda05c3",
       "version_major": 2,
       "version_minor": 0
      },
      "text/plain": [
       "Downloading /local_disk0/.ephemeral_nfs/repl_tmp_data/ReplId-452de-3dd8f-5878b-f/mlflow/models/tmpbn5g0j9a/mod…"
      ]
     },
     "metadata": {},
     "output_type": "display_data"
    },
    {
     "output_type": "display_data",
     "data": {
      "application/vnd.jupyter.widget-view+json": {
       "model_id": "41a1f6f72e894e8a95fd007c4530113d",
       "version_major": 2,
       "version_minor": 0
      },
      "text/plain": [
       "Downloading /local_disk0/.ephemeral_nfs/repl_tmp_data/ReplId-452de-3dd8f-5878b-f/mlflow/models/tmpbn5g0j9a/mod…"
      ]
     },
     "metadata": {},
     "output_type": "display_data"
    },
    {
     "output_type": "display_data",
     "data": {
      "application/vnd.jupyter.widget-view+json": {
       "model_id": "bc0a0acaf3b24b0f85f38a63f4505694",
       "version_major": 2,
       "version_minor": 0
      },
      "text/plain": [
       "Downloading /local_disk0/.ephemeral_nfs/repl_tmp_data/ReplId-452de-3dd8f-5878b-f/mlflow/models/tmpbn5g0j9a/mod…"
      ]
     },
     "metadata": {},
     "output_type": "display_data"
    },
    {
     "output_type": "display_data",
     "data": {
      "application/vnd.jupyter.widget-view+json": {
       "model_id": "d784466d7892423cba4c85c536accefe",
       "version_major": 2,
       "version_minor": 0
      },
      "text/plain": [
       "Downloading /local_disk0/.ephemeral_nfs/repl_tmp_data/ReplId-452de-3dd8f-5878b-f/mlflow/models/tmpbn5g0j9a/mod…"
      ]
     },
     "metadata": {},
     "output_type": "display_data"
    },
    {
     "output_type": "display_data",
     "data": {
      "application/vnd.jupyter.widget-view+json": {
       "model_id": "334a2c313ca349a6833295dcd297edc2",
       "version_major": 2,
       "version_minor": 0
      },
      "text/plain": [
       "Downloading /local_disk0/.ephemeral_nfs/repl_tmp_data/ReplId-452de-3dd8f-5878b-f/mlflow/models/tmpbn5g0j9a/mod…"
      ]
     },
     "metadata": {},
     "output_type": "display_data"
    },
    {
     "output_type": "display_data",
     "data": {
      "application/vnd.jupyter.widget-view+json": {
       "model_id": "851d96b96f0848b9922bcb156b28acd1",
       "version_major": 2,
       "version_minor": 0
      },
      "text/plain": [
       "Downloading /local_disk0/.ephemeral_nfs/repl_tmp_data/ReplId-452de-3dd8f-5878b-f/mlflow/models/tmpbn5g0j9a/mod…"
      ]
     },
     "metadata": {},
     "output_type": "display_data"
    },
    {
     "output_type": "display_data",
     "data": {
      "application/vnd.jupyter.widget-view+json": {
       "model_id": "d9d7cf0d55564d8c864fe11d3ef063eb",
       "version_major": 2,
       "version_minor": 0
      },
      "text/plain": [
       "Downloading /local_disk0/.ephemeral_nfs/repl_tmp_data/ReplId-452de-3dd8f-5878b-f/mlflow/models/tmpbn5g0j9a/mod…"
      ]
     },
     "metadata": {},
     "output_type": "display_data"
    },
    {
     "output_type": "display_data",
     "data": {
      "application/vnd.jupyter.widget-view+json": {
       "model_id": "5d583b83591645f0a0df6ba5d4b7207d",
       "version_major": 2,
       "version_minor": 0
      },
      "text/plain": [
       "Downloading /local_disk0/.ephemeral_nfs/repl_tmp_data/ReplId-452de-3dd8f-5878b-f/mlflow/models/tmpbn5g0j9a/mod…"
      ]
     },
     "metadata": {},
     "output_type": "display_data"
    },
    {
     "output_type": "display_data",
     "data": {
      "application/vnd.jupyter.widget-view+json": {
       "model_id": "22ce068bca274df3b8e7d3aba9b92134",
       "version_major": 2,
       "version_minor": 0
      },
      "text/plain": [
       "Downloading /local_disk0/.ephemeral_nfs/repl_tmp_data/ReplId-452de-3dd8f-5878b-f/mlflow/models/tmpbn5g0j9a/mod…"
      ]
     },
     "metadata": {},
     "output_type": "display_data"
    },
    {
     "output_type": "display_data",
     "data": {
      "application/vnd.jupyter.widget-view+json": {
       "model_id": "54cc94d75945452d9f67fbd829323d4e",
       "version_major": 2,
       "version_minor": 0
      },
      "text/plain": [
       "Downloading /local_disk0/.ephemeral_nfs/repl_tmp_data/ReplId-452de-3dd8f-5878b-f/mlflow/models/tmpbn5g0j9a/mod…"
      ]
     },
     "metadata": {},
     "output_type": "display_data"
    },
    {
     "output_type": "display_data",
     "data": {
      "application/vnd.jupyter.widget-view+json": {
       "model_id": "4e6a52ab27424f29bd39e1f7ad193cf0",
       "version_major": 2,
       "version_minor": 0
      },
      "text/plain": [
       "Downloading /local_disk0/.ephemeral_nfs/repl_tmp_data/ReplId-452de-3dd8f-5878b-f/mlflow/models/tmpbn5g0j9a/mod…"
      ]
     },
     "metadata": {},
     "output_type": "display_data"
    },
    {
     "output_type": "display_data",
     "data": {
      "application/vnd.jupyter.widget-view+json": {
       "model_id": "be42fc69801748e289599b4aab0cd047",
       "version_major": 2,
       "version_minor": 0
      },
      "text/plain": [
       "Downloading /local_disk0/.ephemeral_nfs/repl_tmp_data/ReplId-452de-3dd8f-5878b-f/mlflow/models/tmpbn5g0j9a/mod…"
      ]
     },
     "metadata": {},
     "output_type": "display_data"
    },
    {
     "output_type": "display_data",
     "data": {
      "application/vnd.jupyter.widget-view+json": {
       "model_id": "9728910cf7d44c5ea7d1ee04d9c4b6a4",
       "version_major": 2,
       "version_minor": 0
      },
      "text/plain": [
       "Downloading /local_disk0/.ephemeral_nfs/repl_tmp_data/ReplId-452de-3dd8f-5878b-f/mlflow/models/tmpbn5g0j9a/mod…"
      ]
     },
     "metadata": {},
     "output_type": "display_data"
    },
    {
     "output_type": "display_data",
     "data": {
      "application/vnd.jupyter.widget-view+json": {
       "model_id": "9028449e74914684aeea17bbe381d319",
       "version_major": 2,
       "version_minor": 0
      },
      "text/plain": [
       "Downloading /local_disk0/.ephemeral_nfs/repl_tmp_data/ReplId-452de-3dd8f-5878b-f/mlflow/models/tmpbn5g0j9a/mod…"
      ]
     },
     "metadata": {},
     "output_type": "display_data"
    },
    {
     "output_type": "display_data",
     "data": {
      "application/vnd.jupyter.widget-view+json": {
       "model_id": "3fb3ec9f555543949ea3a5bf723893ee",
       "version_major": 2,
       "version_minor": 0
      },
      "text/plain": [
       "Downloading /local_disk0/.ephemeral_nfs/repl_tmp_data/ReplId-452de-3dd8f-5878b-f/mlflow/models/tmpbn5g0j9a/mod…"
      ]
     },
     "metadata": {},
     "output_type": "display_data"
    },
    {
     "output_type": "display_data",
     "data": {
      "application/vnd.jupyter.widget-view+json": {
       "model_id": "02f8d302ac6d49dfa77a347a9690d40e",
       "version_major": 2,
       "version_minor": 0
      },
      "text/plain": [
       "Downloading /local_disk0/.ephemeral_nfs/repl_tmp_data/ReplId-452de-3dd8f-5878b-f/mlflow/models/tmpbn5g0j9a/mod…"
      ]
     },
     "metadata": {},
     "output_type": "display_data"
    },
    {
     "output_type": "display_data",
     "data": {
      "application/vnd.jupyter.widget-view+json": {
       "model_id": "955518ddc6704871a68027f26d826a58",
       "version_major": 2,
       "version_minor": 0
      },
      "text/plain": [
       "Downloading /local_disk0/.ephemeral_nfs/repl_tmp_data/ReplId-452de-3dd8f-5878b-f/mlflow/models/tmpbn5g0j9a/mod…"
      ]
     },
     "metadata": {},
     "output_type": "display_data"
    },
    {
     "output_type": "display_data",
     "data": {
      "application/vnd.jupyter.widget-view+json": {
       "model_id": "00ee3c3c88eb4f70beb31622754d49e5",
       "version_major": 2,
       "version_minor": 0
      },
      "text/plain": [
       "Downloading /local_disk0/.ephemeral_nfs/repl_tmp_data/ReplId-452de-3dd8f-5878b-f/mlflow/models/tmpbn5g0j9a/mod…"
      ]
     },
     "metadata": {},
     "output_type": "display_data"
    },
    {
     "output_type": "display_data",
     "data": {
      "application/vnd.jupyter.widget-view+json": {
       "model_id": "d9d3b7077fbb41e78da88eac1f19f96f",
       "version_major": 2,
       "version_minor": 0
      },
      "text/plain": [
       "Downloading /local_disk0/.ephemeral_nfs/repl_tmp_data/ReplId-452de-3dd8f-5878b-f/mlflow/models/tmpbn5g0j9a/mod…"
      ]
     },
     "metadata": {},
     "output_type": "display_data"
    },
    {
     "output_type": "display_data",
     "data": {
      "application/vnd.jupyter.widget-view+json": {
       "model_id": "edb44895f3b94634820961559cc40539",
       "version_major": 2,
       "version_minor": 0
      },
      "text/plain": [
       "Downloading /local_disk0/.ephemeral_nfs/repl_tmp_data/ReplId-452de-3dd8f-5878b-f/mlflow/models/tmpbn5g0j9a/mod…"
      ]
     },
     "metadata": {},
     "output_type": "display_data"
    },
    {
     "output_type": "display_data",
     "data": {
      "application/vnd.jupyter.widget-view+json": {
       "model_id": "b911e19ce61148f78bb73b932b38f93a",
       "version_major": 2,
       "version_minor": 0
      },
      "text/plain": [
       "Downloading /local_disk0/.ephemeral_nfs/repl_tmp_data/ReplId-452de-3dd8f-5878b-f/mlflow/models/tmpbn5g0j9a/mod…"
      ]
     },
     "metadata": {},
     "output_type": "display_data"
    },
    {
     "output_type": "display_data",
     "data": {
      "application/vnd.jupyter.widget-view+json": {
       "model_id": "44c997dda0d34070b59b3fa3aa9c7aa5",
       "version_major": 2,
       "version_minor": 0
      },
      "text/plain": [
       "Downloading /local_disk0/.ephemeral_nfs/repl_tmp_data/ReplId-452de-3dd8f-5878b-f/mlflow/models/tmpbn5g0j9a/mod…"
      ]
     },
     "metadata": {},
     "output_type": "display_data"
    },
    {
     "output_type": "display_data",
     "data": {
      "application/vnd.jupyter.widget-view+json": {
       "model_id": "7c847c54aede42adba3257def6a28846",
       "version_major": 2,
       "version_minor": 0
      },
      "text/plain": [
       "Downloading /local_disk0/.ephemeral_nfs/repl_tmp_data/ReplId-452de-3dd8f-5878b-f/mlflow/models/tmpbn5g0j9a/mod…"
      ]
     },
     "metadata": {},
     "output_type": "display_data"
    },
    {
     "output_type": "display_data",
     "data": {
      "application/vnd.jupyter.widget-view+json": {
       "model_id": "d3053fd776594a66b5cb24d2e4848178",
       "version_major": 2,
       "version_minor": 0
      },
      "text/plain": [
       "Downloading /local_disk0/.ephemeral_nfs/repl_tmp_data/ReplId-452de-3dd8f-5878b-f/mlflow/models/tmpbn5g0j9a/mod…"
      ]
     },
     "metadata": {},
     "output_type": "display_data"
    },
    {
     "output_type": "display_data",
     "data": {
      "application/vnd.jupyter.widget-view+json": {
       "model_id": "3417d8a8478b4c07a0faadc894a73a54",
       "version_major": 2,
       "version_minor": 0
      },
      "text/plain": [
       "Downloading /local_disk0/.ephemeral_nfs/repl_tmp_data/ReplId-452de-3dd8f-5878b-f/mlflow/models/tmpbn5g0j9a/mod…"
      ]
     },
     "metadata": {},
     "output_type": "display_data"
    },
    {
     "output_type": "display_data",
     "data": {
      "application/vnd.jupyter.widget-view+json": {
       "model_id": "4f48dd73b5e94b79b3885872567797d3",
       "version_major": 2,
       "version_minor": 0
      },
      "text/plain": [
       "Downloading /local_disk0/.ephemeral_nfs/repl_tmp_data/ReplId-452de-3dd8f-5878b-f/mlflow/models/tmpbn5g0j9a/mod…"
      ]
     },
     "metadata": {},
     "output_type": "display_data"
    },
    {
     "output_type": "display_data",
     "data": {
      "application/vnd.jupyter.widget-view+json": {
       "model_id": "8ef0d24daf1a46c6a3cf082b74a54116",
       "version_major": 2,
       "version_minor": 0
      },
      "text/plain": [
       "Downloading /local_disk0/.ephemeral_nfs/repl_tmp_data/ReplId-452de-3dd8f-5878b-f/mlflow/models/tmpbn5g0j9a/mod…"
      ]
     },
     "metadata": {},
     "output_type": "display_data"
    },
    {
     "output_type": "display_data",
     "data": {
      "application/vnd.jupyter.widget-view+json": {
       "model_id": "a4819cc175ac436bb3a1e74812f4238c",
       "version_major": 2,
       "version_minor": 0
      },
      "text/plain": [
       "Downloading /local_disk0/.ephemeral_nfs/repl_tmp_data/ReplId-452de-3dd8f-5878b-f/mlflow/models/tmpbn5g0j9a/mod…"
      ]
     },
     "metadata": {},
     "output_type": "display_data"
    },
    {
     "output_type": "display_data",
     "data": {
      "application/vnd.jupyter.widget-view+json": {
       "model_id": "ffa3c56d8eec4849b371b6c512694d12",
       "version_major": 2,
       "version_minor": 0
      },
      "text/plain": [
       "Downloading /local_disk0/.ephemeral_nfs/repl_tmp_data/ReplId-452de-3dd8f-5878b-f/mlflow/models/tmpbn5g0j9a/mod…"
      ]
     },
     "metadata": {},
     "output_type": "display_data"
    },
    {
     "output_type": "display_data",
     "data": {
      "application/vnd.jupyter.widget-view+json": {
       "model_id": "d4022f3b85244bcda36b26545490e790",
       "version_major": 2,
       "version_minor": 0
      },
      "text/plain": [
       "Downloading /local_disk0/.ephemeral_nfs/repl_tmp_data/ReplId-452de-3dd8f-5878b-f/mlflow/models/tmpbn5g0j9a/mod…"
      ]
     },
     "metadata": {},
     "output_type": "display_data"
    },
    {
     "output_type": "display_data",
     "data": {
      "application/vnd.jupyter.widget-view+json": {
       "model_id": "1ae6e9c3496f437aa3b0e98e2f978808",
       "version_major": 2,
       "version_minor": 0
      },
      "text/plain": [
       "Downloading /local_disk0/.ephemeral_nfs/repl_tmp_data/ReplId-452de-3dd8f-5878b-f/mlflow/models/tmpbn5g0j9a/mod…"
      ]
     },
     "metadata": {},
     "output_type": "display_data"
    },
    {
     "output_type": "display_data",
     "data": {
      "application/vnd.jupyter.widget-view+json": {
       "model_id": "3fa8b0ed4a354d649c450a2909f274c9",
       "version_major": 2,
       "version_minor": 0
      },
      "text/plain": [
       "Downloading /local_disk0/.ephemeral_nfs/repl_tmp_data/ReplId-452de-3dd8f-5878b-f/mlflow/models/tmpbn5g0j9a/mod…"
      ]
     },
     "metadata": {},
     "output_type": "display_data"
    },
    {
     "output_type": "display_data",
     "data": {
      "application/vnd.jupyter.widget-view+json": {
       "model_id": "ebf1943e52264ba1a92cd7bfa4047ef4",
       "version_major": 2,
       "version_minor": 0
      },
      "text/plain": [
       "Downloading /local_disk0/.ephemeral_nfs/repl_tmp_data/ReplId-452de-3dd8f-5878b-f/mlflow/models/tmpbn5g0j9a/mod…"
      ]
     },
     "metadata": {},
     "output_type": "display_data"
    },
    {
     "output_type": "display_data",
     "data": {
      "application/vnd.jupyter.widget-view+json": {
       "model_id": "d0ffab0d8be1461fab7a41ebae41567e",
       "version_major": 2,
       "version_minor": 0
      },
      "text/plain": [
       "Downloading /local_disk0/.ephemeral_nfs/repl_tmp_data/ReplId-452de-3dd8f-5878b-f/mlflow/models/tmpbn5g0j9a/mod…"
      ]
     },
     "metadata": {},
     "output_type": "display_data"
    },
    {
     "output_type": "display_data",
     "data": {
      "application/vnd.jupyter.widget-view+json": {
       "model_id": "48d6e0aee52544a0b08067e5c1da167c",
       "version_major": 2,
       "version_minor": 0
      },
      "text/plain": [
       "Downloading /local_disk0/.ephemeral_nfs/repl_tmp_data/ReplId-452de-3dd8f-5878b-f/mlflow/models/tmpbn5g0j9a/mod…"
      ]
     },
     "metadata": {},
     "output_type": "display_data"
    },
    {
     "output_type": "display_data",
     "data": {
      "application/vnd.jupyter.widget-view+json": {
       "model_id": "2e434e73b5fb4f97ada3d76cac78b0f3",
       "version_major": 2,
       "version_minor": 0
      },
      "text/plain": [
       "Downloading /local_disk0/.ephemeral_nfs/repl_tmp_data/ReplId-452de-3dd8f-5878b-f/mlflow/models/tmpbn5g0j9a/mod…"
      ]
     },
     "metadata": {},
     "output_type": "display_data"
    },
    {
     "output_type": "display_data",
     "data": {
      "application/vnd.jupyter.widget-view+json": {
       "model_id": "494d332318ef4b73aa856e812edcad0a",
       "version_major": 2,
       "version_minor": 0
      },
      "text/plain": [
       "Downloading /local_disk0/.ephemeral_nfs/repl_tmp_data/ReplId-452de-3dd8f-5878b-f/mlflow/models/tmpbn5g0j9a/mod…"
      ]
     },
     "metadata": {},
     "output_type": "display_data"
    },
    {
     "output_type": "display_data",
     "data": {
      "application/vnd.jupyter.widget-view+json": {
       "model_id": "3459dcba34e2421f983ad0ba225c6b67",
       "version_major": 2,
       "version_minor": 0
      },
      "text/plain": [
       "Downloading /local_disk0/.ephemeral_nfs/repl_tmp_data/ReplId-452de-3dd8f-5878b-f/mlflow/models/tmpbn5g0j9a/mod…"
      ]
     },
     "metadata": {},
     "output_type": "display_data"
    },
    {
     "output_type": "display_data",
     "data": {
      "application/vnd.jupyter.widget-view+json": {
       "model_id": "a798cdd40e104cb39d6fa77db31d0931",
       "version_major": 2,
       "version_minor": 0
      },
      "text/plain": [
       "Downloading /local_disk0/.ephemeral_nfs/repl_tmp_data/ReplId-452de-3dd8f-5878b-f/mlflow/models/tmpbn5g0j9a/mod…"
      ]
     },
     "metadata": {},
     "output_type": "display_data"
    },
    {
     "output_type": "display_data",
     "data": {
      "application/vnd.jupyter.widget-view+json": {
       "model_id": "f7926b240a6b41038cae64cdf2d778ce",
       "version_major": 2,
       "version_minor": 0
      },
      "text/plain": [
       "Downloading /local_disk0/.ephemeral_nfs/repl_tmp_data/ReplId-452de-3dd8f-5878b-f/mlflow/models/tmpbn5g0j9a/mod…"
      ]
     },
     "metadata": {},
     "output_type": "display_data"
    },
    {
     "output_type": "display_data",
     "data": {
      "application/vnd.jupyter.widget-view+json": {
       "model_id": "1a489870496f42f6a7e985e689dad8b2",
       "version_major": 2,
       "version_minor": 0
      },
      "text/plain": [
       "Downloading /local_disk0/.ephemeral_nfs/repl_tmp_data/ReplId-452de-3dd8f-5878b-f/mlflow/models/tmpbn5g0j9a/mod…"
      ]
     },
     "metadata": {},
     "output_type": "display_data"
    },
    {
     "output_type": "display_data",
     "data": {
      "application/vnd.jupyter.widget-view+json": {
       "model_id": "467bb20919f84138868a3dcd55a2223b",
       "version_major": 2,
       "version_minor": 0
      },
      "text/plain": [
       "Downloading /local_disk0/.ephemeral_nfs/repl_tmp_data/ReplId-452de-3dd8f-5878b-f/mlflow/models/tmpbn5g0j9a/mod…"
      ]
     },
     "metadata": {},
     "output_type": "display_data"
    },
    {
     "output_type": "display_data",
     "data": {
      "application/vnd.jupyter.widget-view+json": {
       "model_id": "e4991808d146464d9e9456e7ab3c2dbd",
       "version_major": 2,
       "version_minor": 0
      },
      "text/plain": [
       "Downloading /local_disk0/.ephemeral_nfs/repl_tmp_data/ReplId-452de-3dd8f-5878b-f/mlflow/models/tmpbn5g0j9a/mod…"
      ]
     },
     "metadata": {},
     "output_type": "display_data"
    },
    {
     "output_type": "display_data",
     "data": {
      "application/vnd.jupyter.widget-view+json": {
       "model_id": "39425a91fdb9466aadca1a15c1182355",
       "version_major": 2,
       "version_minor": 0
      },
      "text/plain": [
       "Downloading /local_disk0/.ephemeral_nfs/repl_tmp_data/ReplId-452de-3dd8f-5878b-f/mlflow/models/tmpbn5g0j9a/mod…"
      ]
     },
     "metadata": {},
     "output_type": "display_data"
    },
    {
     "output_type": "display_data",
     "data": {
      "application/vnd.jupyter.widget-view+json": {
       "model_id": "9bf6f1fdc4774c0c98d4678057dea970",
       "version_major": 2,
       "version_minor": 0
      },
      "text/plain": [
       "Downloading /local_disk0/.ephemeral_nfs/repl_tmp_data/ReplId-452de-3dd8f-5878b-f/mlflow/models/tmpbn5g0j9a/mod…"
      ]
     },
     "metadata": {},
     "output_type": "display_data"
    },
    {
     "output_type": "display_data",
     "data": {
      "application/vnd.jupyter.widget-view+json": {
       "model_id": "5ae37aa5fd964ff3b0e0f911b4dc851c",
       "version_major": 2,
       "version_minor": 0
      },
      "text/plain": [
       "Downloading /local_disk0/.ephemeral_nfs/repl_tmp_data/ReplId-452de-3dd8f-5878b-f/mlflow/models/tmpbn5g0j9a/mod…"
      ]
     },
     "metadata": {},
     "output_type": "display_data"
    },
    {
     "output_type": "display_data",
     "data": {
      "application/vnd.jupyter.widget-view+json": {
       "model_id": "0b03889dfa45421c98256fc7d416f71d",
       "version_major": 2,
       "version_minor": 0
      },
      "text/plain": [
       "Downloading /local_disk0/.ephemeral_nfs/repl_tmp_data/ReplId-452de-3dd8f-5878b-f/mlflow/models/tmpbn5g0j9a/mod…"
      ]
     },
     "metadata": {},
     "output_type": "display_data"
    },
    {
     "output_type": "display_data",
     "data": {
      "application/vnd.jupyter.widget-view+json": {
       "model_id": "b3017a5978c74f1b969e3e49c0357b4f",
       "version_major": 2,
       "version_minor": 0
      },
      "text/plain": [
       "Downloading /local_disk0/.ephemeral_nfs/repl_tmp_data/ReplId-452de-3dd8f-5878b-f/mlflow/models/tmpbn5g0j9a/mod…"
      ]
     },
     "metadata": {},
     "output_type": "display_data"
    },
    {
     "output_type": "display_data",
     "data": {
      "application/vnd.jupyter.widget-view+json": {
       "model_id": "27407efeba0b4313966c5fa533b10bfb",
       "version_major": 2,
       "version_minor": 0
      },
      "text/plain": [
       "Downloading /local_disk0/.ephemeral_nfs/repl_tmp_data/ReplId-452de-3dd8f-5878b-f/mlflow/models/tmpbn5g0j9a/mod…"
      ]
     },
     "metadata": {},
     "output_type": "display_data"
    },
    {
     "output_type": "display_data",
     "data": {
      "application/vnd.jupyter.widget-view+json": {
       "model_id": "1fa5d289b07c4145b4c4e6e59bd484c6",
       "version_major": 2,
       "version_minor": 0
      },
      "text/plain": [
       "Downloading /local_disk0/.ephemeral_nfs/repl_tmp_data/ReplId-452de-3dd8f-5878b-f/mlflow/models/tmpbn5g0j9a/mod…"
      ]
     },
     "metadata": {},
     "output_type": "display_data"
    },
    {
     "output_type": "display_data",
     "data": {
      "application/vnd.jupyter.widget-view+json": {
       "model_id": "a5ea7f33d4ae43ed85e835d3e6e04e8b",
       "version_major": 2,
       "version_minor": 0
      },
      "text/plain": [
       "Downloading /local_disk0/.ephemeral_nfs/repl_tmp_data/ReplId-452de-3dd8f-5878b-f/mlflow/models/tmpbn5g0j9a/mod…"
      ]
     },
     "metadata": {},
     "output_type": "display_data"
    },
    {
     "output_type": "display_data",
     "data": {
      "application/vnd.jupyter.widget-view+json": {
       "model_id": "29d781d8baa643228c53d46854c28c71",
       "version_major": 2,
       "version_minor": 0
      },
      "text/plain": [
       "Downloading /local_disk0/.ephemeral_nfs/repl_tmp_data/ReplId-452de-3dd8f-5878b-f/mlflow/models/tmpbn5g0j9a/mod…"
      ]
     },
     "metadata": {},
     "output_type": "display_data"
    },
    {
     "output_type": "display_data",
     "data": {
      "application/vnd.jupyter.widget-view+json": {
       "model_id": "bcfd75f0c2a04f42ae732b17eb8bab7c",
       "version_major": 2,
       "version_minor": 0
      },
      "text/plain": [
       "Downloading /local_disk0/.ephemeral_nfs/repl_tmp_data/ReplId-452de-3dd8f-5878b-f/mlflow/models/tmpbn5g0j9a/mod…"
      ]
     },
     "metadata": {},
     "output_type": "display_data"
    },
    {
     "output_type": "display_data",
     "data": {
      "application/vnd.jupyter.widget-view+json": {
       "model_id": "8b58249cd8d0494ab6c3fc336e62ef68",
       "version_major": 2,
       "version_minor": 0
      },
      "text/plain": [
       "Downloading /local_disk0/.ephemeral_nfs/repl_tmp_data/ReplId-452de-3dd8f-5878b-f/mlflow/models/tmpbn5g0j9a/mod…"
      ]
     },
     "metadata": {},
     "output_type": "display_data"
    },
    {
     "output_type": "display_data",
     "data": {
      "application/vnd.jupyter.widget-view+json": {
       "model_id": "e1c92e354beb4690bc43287d62870905",
       "version_major": 2,
       "version_minor": 0
      },
      "text/plain": [
       "Downloading /local_disk0/.ephemeral_nfs/repl_tmp_data/ReplId-452de-3dd8f-5878b-f/mlflow/models/tmpbn5g0j9a/mod…"
      ]
     },
     "metadata": {},
     "output_type": "display_data"
    },
    {
     "output_type": "display_data",
     "data": {
      "application/vnd.jupyter.widget-view+json": {
       "model_id": "93384aad63484c7d847af09e88498c98",
       "version_major": 2,
       "version_minor": 0
      },
      "text/plain": [
       "Downloading /local_disk0/.ephemeral_nfs/repl_tmp_data/ReplId-452de-3dd8f-5878b-f/mlflow/models/tmpbn5g0j9a/mod…"
      ]
     },
     "metadata": {},
     "output_type": "display_data"
    },
    {
     "output_type": "display_data",
     "data": {
      "application/vnd.jupyter.widget-view+json": {
       "model_id": "ca879320c1714763af6d4496df5b3182",
       "version_major": 2,
       "version_minor": 0
      },
      "text/plain": [
       "Downloading /local_disk0/.ephemeral_nfs/repl_tmp_data/ReplId-452de-3dd8f-5878b-f/mlflow/models/tmpbn5g0j9a/mod…"
      ]
     },
     "metadata": {},
     "output_type": "display_data"
    },
    {
     "output_type": "display_data",
     "data": {
      "application/vnd.jupyter.widget-view+json": {
       "model_id": "30ee04010d6642098f5a7eeae633bc09",
       "version_major": 2,
       "version_minor": 0
      },
      "text/plain": [
       "Downloading /local_disk0/.ephemeral_nfs/repl_tmp_data/ReplId-452de-3dd8f-5878b-f/mlflow/models/tmpbn5g0j9a/mod…"
      ]
     },
     "metadata": {},
     "output_type": "display_data"
    },
    {
     "output_type": "display_data",
     "data": {
      "application/vnd.jupyter.widget-view+json": {
       "model_id": "977d6d25c2f24236b8e2986b455cc89f",
       "version_major": 2,
       "version_minor": 0
      },
      "text/plain": [
       "Downloading /local_disk0/.ephemeral_nfs/repl_tmp_data/ReplId-452de-3dd8f-5878b-f/mlflow/models/tmpbn5g0j9a/mod…"
      ]
     },
     "metadata": {},
     "output_type": "display_data"
    },
    {
     "output_type": "display_data",
     "data": {
      "application/vnd.jupyter.widget-view+json": {
       "model_id": "96958561611747459115f3b205d2139e",
       "version_major": 2,
       "version_minor": 0
      },
      "text/plain": [
       "Downloading /local_disk0/.ephemeral_nfs/repl_tmp_data/ReplId-452de-3dd8f-5878b-f/mlflow/models/tmpbn5g0j9a/mod…"
      ]
     },
     "metadata": {},
     "output_type": "display_data"
    },
    {
     "output_type": "display_data",
     "data": {
      "application/vnd.jupyter.widget-view+json": {
       "model_id": "fdd611dfb0fc4f36ae945da1d1c88ba8",
       "version_major": 2,
       "version_minor": 0
      },
      "text/plain": [
       "Downloading /local_disk0/.ephemeral_nfs/repl_tmp_data/ReplId-452de-3dd8f-5878b-f/mlflow/models/tmpbn5g0j9a/mod…"
      ]
     },
     "metadata": {},
     "output_type": "display_data"
    },
    {
     "output_type": "display_data",
     "data": {
      "application/vnd.jupyter.widget-view+json": {
       "model_id": "b1d513072c0e4712bbf621e03ef5546e",
       "version_major": 2,
       "version_minor": 0
      },
      "text/plain": [
       "Downloading /local_disk0/.ephemeral_nfs/repl_tmp_data/ReplId-452de-3dd8f-5878b-f/mlflow/models/tmpbn5g0j9a/mod…"
      ]
     },
     "metadata": {},
     "output_type": "display_data"
    },
    {
     "output_type": "display_data",
     "data": {
      "application/vnd.jupyter.widget-view+json": {
       "model_id": "2d48cad9a80c43f2b94589c65c3765cf",
       "version_major": 2,
       "version_minor": 0
      },
      "text/plain": [
       "Downloading /local_disk0/.ephemeral_nfs/repl_tmp_data/ReplId-452de-3dd8f-5878b-f/mlflow/models/tmpbn5g0j9a/mod…"
      ]
     },
     "metadata": {},
     "output_type": "display_data"
    },
    {
     "output_type": "display_data",
     "data": {
      "application/vnd.jupyter.widget-view+json": {
       "model_id": "360dd75fb785461094042e54504d3270",
       "version_major": 2,
       "version_minor": 0
      },
      "text/plain": [
       "Downloading /local_disk0/.ephemeral_nfs/repl_tmp_data/ReplId-452de-3dd8f-5878b-f/mlflow/models/tmpbn5g0j9a/mod…"
      ]
     },
     "metadata": {},
     "output_type": "display_data"
    },
    {
     "output_type": "display_data",
     "data": {
      "application/vnd.jupyter.widget-view+json": {
       "model_id": "05729149f7de43db8f9d2e8e32172524",
       "version_major": 2,
       "version_minor": 0
      },
      "text/plain": [
       "Downloading /local_disk0/.ephemeral_nfs/repl_tmp_data/ReplId-452de-3dd8f-5878b-f/mlflow/models/tmpbn5g0j9a/mod…"
      ]
     },
     "metadata": {},
     "output_type": "display_data"
    },
    {
     "output_type": "display_data",
     "data": {
      "application/vnd.jupyter.widget-view+json": {
       "model_id": "8ed3364ffba644a9958e73993bde2c79",
       "version_major": 2,
       "version_minor": 0
      },
      "text/plain": [
       "Downloading /local_disk0/.ephemeral_nfs/repl_tmp_data/ReplId-452de-3dd8f-5878b-f/mlflow/models/tmpbn5g0j9a/mod…"
      ]
     },
     "metadata": {},
     "output_type": "display_data"
    },
    {
     "output_type": "display_data",
     "data": {
      "application/vnd.jupyter.widget-view+json": {
       "model_id": "d50bcb0b2efc4b39bd627e4ae769d81f",
       "version_major": 2,
       "version_minor": 0
      },
      "text/plain": [
       "Downloading /local_disk0/.ephemeral_nfs/repl_tmp_data/ReplId-452de-3dd8f-5878b-f/mlflow/models/tmpbn5g0j9a/mod…"
      ]
     },
     "metadata": {},
     "output_type": "display_data"
    },
    {
     "output_type": "display_data",
     "data": {
      "application/vnd.jupyter.widget-view+json": {
       "model_id": "4817cc7d92b74aa1a85d98e1864f2124",
       "version_major": 2,
       "version_minor": 0
      },
      "text/plain": [
       "Downloading /local_disk0/.ephemeral_nfs/repl_tmp_data/ReplId-452de-3dd8f-5878b-f/mlflow/models/tmpbn5g0j9a/mod…"
      ]
     },
     "metadata": {},
     "output_type": "display_data"
    },
    {
     "output_type": "display_data",
     "data": {
      "application/vnd.jupyter.widget-view+json": {
       "model_id": "0600aa13f20a496a80058a867592a481",
       "version_major": 2,
       "version_minor": 0
      },
      "text/plain": [
       "Downloading /local_disk0/.ephemeral_nfs/repl_tmp_data/ReplId-452de-3dd8f-5878b-f/mlflow/models/tmpbn5g0j9a/mod…"
      ]
     },
     "metadata": {},
     "output_type": "display_data"
    },
    {
     "output_type": "display_data",
     "data": {
      "application/vnd.jupyter.widget-view+json": {
       "model_id": "b5dd282599e64da7aa9b57df86bf1a92",
       "version_major": 2,
       "version_minor": 0
      },
      "text/plain": [
       "Downloading /local_disk0/.ephemeral_nfs/repl_tmp_data/ReplId-452de-3dd8f-5878b-f/mlflow/models/tmpbn5g0j9a/mod…"
      ]
     },
     "metadata": {},
     "output_type": "display_data"
    },
    {
     "output_type": "display_data",
     "data": {
      "application/vnd.jupyter.widget-view+json": {
       "model_id": "a704062fd1a247f7914bce83cfd65f2b",
       "version_major": 2,
       "version_minor": 0
      },
      "text/plain": [
       "Downloading /local_disk0/.ephemeral_nfs/repl_tmp_data/ReplId-452de-3dd8f-5878b-f/mlflow/models/tmpbn5g0j9a/mod…"
      ]
     },
     "metadata": {},
     "output_type": "display_data"
    },
    {
     "output_type": "display_data",
     "data": {
      "application/vnd.jupyter.widget-view+json": {
       "model_id": "42d28e06a30142928f0f7d818ef2b55c",
       "version_major": 2,
       "version_minor": 0
      },
      "text/plain": [
       "Downloading /local_disk0/.ephemeral_nfs/repl_tmp_data/ReplId-452de-3dd8f-5878b-f/mlflow/models/tmpbn5g0j9a/mod…"
      ]
     },
     "metadata": {},
     "output_type": "display_data"
    },
    {
     "output_type": "display_data",
     "data": {
      "application/vnd.jupyter.widget-view+json": {
       "model_id": "b7b1b23ff9f0438085a41c13bf4d6a53",
       "version_major": 2,
       "version_minor": 0
      },
      "text/plain": [
       "Downloading /local_disk0/.ephemeral_nfs/repl_tmp_data/ReplId-452de-3dd8f-5878b-f/mlflow/models/tmpbn5g0j9a/mod…"
      ]
     },
     "metadata": {},
     "output_type": "display_data"
    },
    {
     "output_type": "display_data",
     "data": {
      "application/vnd.jupyter.widget-view+json": {
       "model_id": "7647e681ca674fcea19cc53cae7289c2",
       "version_major": 2,
       "version_minor": 0
      },
      "text/plain": [
       "Downloading /local_disk0/.ephemeral_nfs/repl_tmp_data/ReplId-452de-3dd8f-5878b-f/mlflow/models/tmpbn5g0j9a/mod…"
      ]
     },
     "metadata": {},
     "output_type": "display_data"
    },
    {
     "output_type": "display_data",
     "data": {
      "application/vnd.jupyter.widget-view+json": {
       "model_id": "f421da72f2ca4286845d3d7997e5f084",
       "version_major": 2,
       "version_minor": 0
      },
      "text/plain": [
       "Downloading /local_disk0/.ephemeral_nfs/repl_tmp_data/ReplId-452de-3dd8f-5878b-f/mlflow/models/tmpbn5g0j9a/mod…"
      ]
     },
     "metadata": {},
     "output_type": "display_data"
    },
    {
     "output_type": "display_data",
     "data": {
      "application/vnd.jupyter.widget-view+json": {
       "model_id": "0b08b684d8324f68b67d27811881b4ef",
       "version_major": 2,
       "version_minor": 0
      },
      "text/plain": [
       "Downloading /local_disk0/.ephemeral_nfs/repl_tmp_data/ReplId-452de-3dd8f-5878b-f/mlflow/models/tmpbn5g0j9a/mod…"
      ]
     },
     "metadata": {},
     "output_type": "display_data"
    },
    {
     "output_type": "display_data",
     "data": {
      "application/vnd.jupyter.widget-view+json": {
       "model_id": "3c00379bcd5f441d84ad0d604c120c67",
       "version_major": 2,
       "version_minor": 0
      },
      "text/plain": [
       "Downloading /local_disk0/.ephemeral_nfs/repl_tmp_data/ReplId-452de-3dd8f-5878b-f/mlflow/models/tmpbn5g0j9a/mod…"
      ]
     },
     "metadata": {},
     "output_type": "display_data"
    },
    {
     "output_type": "display_data",
     "data": {
      "application/vnd.jupyter.widget-view+json": {
       "model_id": "60b8d70dbca0470f9ed4c80dc14be727",
       "version_major": 2,
       "version_minor": 0
      },
      "text/plain": [
       "Downloading /local_disk0/.ephemeral_nfs/repl_tmp_data/ReplId-452de-3dd8f-5878b-f/mlflow/models/tmpbn5g0j9a/mod…"
      ]
     },
     "metadata": {},
     "output_type": "display_data"
    },
    {
     "output_type": "display_data",
     "data": {
      "application/vnd.jupyter.widget-view+json": {
       "model_id": "01bef8658fef4b9e919eff275704bbce",
       "version_major": 2,
       "version_minor": 0
      },
      "text/plain": [
       "Downloading /local_disk0/.ephemeral_nfs/repl_tmp_data/ReplId-452de-3dd8f-5878b-f/mlflow/models/tmpbn5g0j9a/mod…"
      ]
     },
     "metadata": {},
     "output_type": "display_data"
    },
    {
     "output_type": "display_data",
     "data": {
      "application/vnd.jupyter.widget-view+json": {
       "model_id": "72283ab48ed74f158ddce8e757e3cc88",
       "version_major": 2,
       "version_minor": 0
      },
      "text/plain": [
       "Downloading /local_disk0/.ephemeral_nfs/repl_tmp_data/ReplId-452de-3dd8f-5878b-f/mlflow/models/tmpbn5g0j9a/mod…"
      ]
     },
     "metadata": {},
     "output_type": "display_data"
    },
    {
     "output_type": "display_data",
     "data": {
      "application/vnd.jupyter.widget-view+json": {
       "model_id": "56f8ea14c7874eb3b46a255736de4de9",
       "version_major": 2,
       "version_minor": 0
      },
      "text/plain": [
       "Downloading /local_disk0/.ephemeral_nfs/repl_tmp_data/ReplId-452de-3dd8f-5878b-f/mlflow/models/tmpbn5g0j9a/mod…"
      ]
     },
     "metadata": {},
     "output_type": "display_data"
    },
    {
     "output_type": "display_data",
     "data": {
      "application/vnd.jupyter.widget-view+json": {
       "model_id": "e027d7f255564ee58d459a1e1b062ad0",
       "version_major": 2,
       "version_minor": 0
      },
      "text/plain": [
       "Downloading /local_disk0/.ephemeral_nfs/repl_tmp_data/ReplId-452de-3dd8f-5878b-f/mlflow/models/tmpbn5g0j9a/mod…"
      ]
     },
     "metadata": {},
     "output_type": "display_data"
    },
    {
     "output_type": "display_data",
     "data": {
      "application/vnd.jupyter.widget-view+json": {
       "model_id": "69c4fcf48525475297481b8c3af876a0",
       "version_major": 2,
       "version_minor": 0
      },
      "text/plain": [
       "Downloading /local_disk0/.ephemeral_nfs/repl_tmp_data/ReplId-452de-3dd8f-5878b-f/mlflow/models/tmpbn5g0j9a/mod…"
      ]
     },
     "metadata": {},
     "output_type": "display_data"
    },
    {
     "output_type": "display_data",
     "data": {
      "application/vnd.jupyter.widget-view+json": {
       "model_id": "ec42c3de759c4a04b6081e3a503b484b",
       "version_major": 2,
       "version_minor": 0
      },
      "text/plain": [
       "Downloading /local_disk0/.ephemeral_nfs/repl_tmp_data/ReplId-452de-3dd8f-5878b-f/mlflow/models/tmpbn5g0j9a/mod…"
      ]
     },
     "metadata": {},
     "output_type": "display_data"
    },
    {
     "output_type": "display_data",
     "data": {
      "application/vnd.jupyter.widget-view+json": {
       "model_id": "e33e8cadaed046b590d9bddfdb288a57",
       "version_major": 2,
       "version_minor": 0
      },
      "text/plain": [
       "Downloading /local_disk0/.ephemeral_nfs/repl_tmp_data/ReplId-452de-3dd8f-5878b-f/mlflow/models/tmpbn5g0j9a/mod…"
      ]
     },
     "metadata": {},
     "output_type": "display_data"
    },
    {
     "output_type": "display_data",
     "data": {
      "application/vnd.jupyter.widget-view+json": {
       "model_id": "cc80bef8199e4760a5d2e9d77459c654",
       "version_major": 2,
       "version_minor": 0
      },
      "text/plain": [
       "Downloading /local_disk0/.ephemeral_nfs/repl_tmp_data/ReplId-452de-3dd8f-5878b-f/mlflow/models/tmpbn5g0j9a/mod…"
      ]
     },
     "metadata": {},
     "output_type": "display_data"
    },
    {
     "output_type": "display_data",
     "data": {
      "application/vnd.jupyter.widget-view+json": {
       "model_id": "2fbeed653a5846afb98051920b951f4a",
       "version_major": 2,
       "version_minor": 0
      },
      "text/plain": [
       "Downloading /local_disk0/.ephemeral_nfs/repl_tmp_data/ReplId-452de-3dd8f-5878b-f/mlflow/models/tmpbn5g0j9a/mod…"
      ]
     },
     "metadata": {},
     "output_type": "display_data"
    },
    {
     "output_type": "display_data",
     "data": {
      "application/vnd.jupyter.widget-view+json": {
       "model_id": "b56f23f979cb42fca4f2787916e17ee6",
       "version_major": 2,
       "version_minor": 0
      },
      "text/plain": [
       "Downloading /local_disk0/.ephemeral_nfs/repl_tmp_data/ReplId-452de-3dd8f-5878b-f/mlflow/models/tmpbn5g0j9a/mod…"
      ]
     },
     "metadata": {},
     "output_type": "display_data"
    },
    {
     "output_type": "display_data",
     "data": {
      "application/vnd.jupyter.widget-view+json": {
       "model_id": "2f30f1be6a634701899b78806984fd66",
       "version_major": 2,
       "version_minor": 0
      },
      "text/plain": [
       "Downloading /local_disk0/.ephemeral_nfs/repl_tmp_data/ReplId-452de-3dd8f-5878b-f/mlflow/models/tmpbn5g0j9a/mod…"
      ]
     },
     "metadata": {},
     "output_type": "display_data"
    },
    {
     "output_type": "display_data",
     "data": {
      "application/vnd.jupyter.widget-view+json": {
       "model_id": "7def6b5d4cd54188945a0e2fb1cf8bb0",
       "version_major": 2,
       "version_minor": 0
      },
      "text/plain": [
       "Downloading /local_disk0/.ephemeral_nfs/repl_tmp_data/ReplId-452de-3dd8f-5878b-f/mlflow/models/tmpbn5g0j9a/mod…"
      ]
     },
     "metadata": {},
     "output_type": "display_data"
    },
    {
     "output_type": "display_data",
     "data": {
      "application/vnd.jupyter.widget-view+json": {
       "model_id": "9355c305b66641859c52fe2b0593619f",
       "version_major": 2,
       "version_minor": 0
      },
      "text/plain": [
       "Downloading /local_disk0/.ephemeral_nfs/repl_tmp_data/ReplId-452de-3dd8f-5878b-f/mlflow/models/tmpbn5g0j9a/mod…"
      ]
     },
     "metadata": {},
     "output_type": "display_data"
    },
    {
     "output_type": "display_data",
     "data": {
      "application/vnd.jupyter.widget-view+json": {
       "model_id": "eb185d475d5e41d4be70d30dffcee1e3",
       "version_major": 2,
       "version_minor": 0
      },
      "text/plain": [
       "Downloading /local_disk0/.ephemeral_nfs/repl_tmp_data/ReplId-452de-3dd8f-5878b-f/mlflow/models/tmpbn5g0j9a/mod…"
      ]
     },
     "metadata": {},
     "output_type": "display_data"
    },
    {
     "output_type": "display_data",
     "data": {
      "application/vnd.jupyter.widget-view+json": {
       "model_id": "5035fe76365a44e3b5a5bae37418d40a",
       "version_major": 2,
       "version_minor": 0
      },
      "text/plain": [
       "Downloading /local_disk0/.ephemeral_nfs/repl_tmp_data/ReplId-452de-3dd8f-5878b-f/mlflow/models/tmpbn5g0j9a/mod…"
      ]
     },
     "metadata": {},
     "output_type": "display_data"
    },
    {
     "output_type": "display_data",
     "data": {
      "application/vnd.jupyter.widget-view+json": {
       "model_id": "677340d7437c4e369caf18858af305e2",
       "version_major": 2,
       "version_minor": 0
      },
      "text/plain": [
       "Downloading /local_disk0/.ephemeral_nfs/repl_tmp_data/ReplId-452de-3dd8f-5878b-f/mlflow/models/tmpbn5g0j9a/mod…"
      ]
     },
     "metadata": {},
     "output_type": "display_data"
    },
    {
     "output_type": "display_data",
     "data": {
      "application/vnd.jupyter.widget-view+json": {
       "model_id": "ee02776ffbfc4b3f81e08b55cbd1b3b2",
       "version_major": 2,
       "version_minor": 0
      },
      "text/plain": [
       "Downloading /local_disk0/.ephemeral_nfs/repl_tmp_data/ReplId-452de-3dd8f-5878b-f/mlflow/models/tmpbn5g0j9a/mod…"
      ]
     },
     "metadata": {},
     "output_type": "display_data"
    },
    {
     "output_type": "display_data",
     "data": {
      "application/vnd.jupyter.widget-view+json": {
       "model_id": "66bbaabefd0a49d0a9366f3ee53979f9",
       "version_major": 2,
       "version_minor": 0
      },
      "text/plain": [
       "Downloading /local_disk0/.ephemeral_nfs/repl_tmp_data/ReplId-452de-3dd8f-5878b-f/mlflow/models/tmpbn5g0j9a/mod…"
      ]
     },
     "metadata": {},
     "output_type": "display_data"
    },
    {
     "output_type": "display_data",
     "data": {
      "application/vnd.jupyter.widget-view+json": {
       "model_id": "ffb815fcbeac44bb80ccb063cbdbb4d7",
       "version_major": 2,
       "version_minor": 0
      },
      "text/plain": [
       "Downloading /local_disk0/.ephemeral_nfs/repl_tmp_data/ReplId-452de-3dd8f-5878b-f/mlflow/models/tmpbn5g0j9a/mod…"
      ]
     },
     "metadata": {},
     "output_type": "display_data"
    },
    {
     "output_type": "display_data",
     "data": {
      "application/vnd.jupyter.widget-view+json": {
       "model_id": "33c3a01114c547c6af02fd9a3ac7fbc9",
       "version_major": 2,
       "version_minor": 0
      },
      "text/plain": [
       "Downloading /local_disk0/.ephemeral_nfs/repl_tmp_data/ReplId-452de-3dd8f-5878b-f/mlflow/models/tmpbn5g0j9a/mod…"
      ]
     },
     "metadata": {},
     "output_type": "display_data"
    },
    {
     "output_type": "display_data",
     "data": {
      "application/vnd.jupyter.widget-view+json": {
       "model_id": "794de5ac95ae4566bee1adeab5d48cd6",
       "version_major": 2,
       "version_minor": 0
      },
      "text/plain": [
       "Downloading /local_disk0/.ephemeral_nfs/repl_tmp_data/ReplId-452de-3dd8f-5878b-f/mlflow/models/tmpbn5g0j9a/mod…"
      ]
     },
     "metadata": {},
     "output_type": "display_data"
    },
    {
     "output_type": "display_data",
     "data": {
      "application/vnd.jupyter.widget-view+json": {
       "model_id": "72fd3940e19040ccb43686bc29c5fb70",
       "version_major": 2,
       "version_minor": 0
      },
      "text/plain": [
       "Downloading /local_disk0/.ephemeral_nfs/repl_tmp_data/ReplId-452de-3dd8f-5878b-f/mlflow/models/tmpbn5g0j9a/mod…"
      ]
     },
     "metadata": {},
     "output_type": "display_data"
    },
    {
     "output_type": "display_data",
     "data": {
      "application/vnd.jupyter.widget-view+json": {
       "model_id": "0a3881179d0343cfb3626bb708e2ebb6",
       "version_major": 2,
       "version_minor": 0
      },
      "text/plain": [
       "Downloading /local_disk0/.ephemeral_nfs/repl_tmp_data/ReplId-452de-3dd8f-5878b-f/mlflow/models/tmpbn5g0j9a/mod…"
      ]
     },
     "metadata": {},
     "output_type": "display_data"
    },
    {
     "output_type": "display_data",
     "data": {
      "application/vnd.jupyter.widget-view+json": {
       "model_id": "3d933d52ea1840969deb2474b45bb677",
       "version_major": 2,
       "version_minor": 0
      },
      "text/plain": [
       "Downloading /local_disk0/.ephemeral_nfs/repl_tmp_data/ReplId-452de-3dd8f-5878b-f/mlflow/models/tmpbn5g0j9a/mod…"
      ]
     },
     "metadata": {},
     "output_type": "display_data"
    },
    {
     "output_type": "display_data",
     "data": {
      "application/vnd.jupyter.widget-view+json": {
       "model_id": "d80bd1b81fb14b93b5828ab794c56166",
       "version_major": 2,
       "version_minor": 0
      },
      "text/plain": [
       "Downloading /local_disk0/.ephemeral_nfs/repl_tmp_data/ReplId-452de-3dd8f-5878b-f/mlflow/models/tmpbn5g0j9a/mod…"
      ]
     },
     "metadata": {},
     "output_type": "display_data"
    },
    {
     "output_type": "display_data",
     "data": {
      "application/vnd.jupyter.widget-view+json": {
       "model_id": "6ce1b9b32fa94c19b9dd077cbc14157c",
       "version_major": 2,
       "version_minor": 0
      },
      "text/plain": [
       "Downloading /local_disk0/.ephemeral_nfs/repl_tmp_data/ReplId-452de-3dd8f-5878b-f/mlflow/models/tmpbn5g0j9a/mod…"
      ]
     },
     "metadata": {},
     "output_type": "display_data"
    },
    {
     "output_type": "display_data",
     "data": {
      "application/vnd.jupyter.widget-view+json": {
       "model_id": "60748276550d4a9384cbc83d80c158a3",
       "version_major": 2,
       "version_minor": 0
      },
      "text/plain": [
       "Downloading /local_disk0/.ephemeral_nfs/repl_tmp_data/ReplId-452de-3dd8f-5878b-f/mlflow/models/tmpbn5g0j9a/mod…"
      ]
     },
     "metadata": {},
     "output_type": "display_data"
    },
    {
     "output_type": "display_data",
     "data": {
      "application/vnd.jupyter.widget-view+json": {
       "model_id": "6620e9402b7c4fae8d218e7165582e97",
       "version_major": 2,
       "version_minor": 0
      },
      "text/plain": [
       "Downloading /local_disk0/.ephemeral_nfs/repl_tmp_data/ReplId-452de-3dd8f-5878b-f/mlflow/models/tmpbn5g0j9a/mod…"
      ]
     },
     "metadata": {},
     "output_type": "display_data"
    },
    {
     "output_type": "display_data",
     "data": {
      "application/vnd.jupyter.widget-view+json": {
       "model_id": "e39ff964d65748848d6bae6d2eceebaf",
       "version_major": 2,
       "version_minor": 0
      },
      "text/plain": [
       "Downloading /local_disk0/.ephemeral_nfs/repl_tmp_data/ReplId-452de-3dd8f-5878b-f/mlflow/models/tmpbn5g0j9a/mod…"
      ]
     },
     "metadata": {},
     "output_type": "display_data"
    },
    {
     "output_type": "display_data",
     "data": {
      "application/vnd.jupyter.widget-view+json": {
       "model_id": "a83b6bdedc6547228682e227a83f351d",
       "version_major": 2,
       "version_minor": 0
      },
      "text/plain": [
       "Downloading /local_disk0/.ephemeral_nfs/repl_tmp_data/ReplId-452de-3dd8f-5878b-f/mlflow/models/tmpbn5g0j9a/mod…"
      ]
     },
     "metadata": {},
     "output_type": "display_data"
    },
    {
     "output_type": "display_data",
     "data": {
      "application/vnd.jupyter.widget-view+json": {
       "model_id": "0aaa21a61f94439d943c465a3a4440c7",
       "version_major": 2,
       "version_minor": 0
      },
      "text/plain": [
       "Downloading /local_disk0/.ephemeral_nfs/repl_tmp_data/ReplId-452de-3dd8f-5878b-f/mlflow/models/tmpbn5g0j9a/mod…"
      ]
     },
     "metadata": {},
     "output_type": "display_data"
    },
    {
     "output_type": "display_data",
     "data": {
      "application/vnd.jupyter.widget-view+json": {
       "model_id": "dddcfe4464b5476190b6e1deba55f20b",
       "version_major": 2,
       "version_minor": 0
      },
      "text/plain": [
       "Downloading /local_disk0/.ephemeral_nfs/repl_tmp_data/ReplId-452de-3dd8f-5878b-f/mlflow/models/tmpbn5g0j9a/mod…"
      ]
     },
     "metadata": {},
     "output_type": "display_data"
    },
    {
     "output_type": "display_data",
     "data": {
      "application/vnd.jupyter.widget-view+json": {
       "model_id": "45f85bc19d3646ab9bea7393bccc2893",
       "version_major": 2,
       "version_minor": 0
      },
      "text/plain": [
       "Downloading /local_disk0/.ephemeral_nfs/repl_tmp_data/ReplId-452de-3dd8f-5878b-f/mlflow/models/tmpbn5g0j9a/mod…"
      ]
     },
     "metadata": {},
     "output_type": "display_data"
    },
    {
     "output_type": "stream",
     "name": "stderr",
     "output_type": "stream",
     "text": [
      "2023/11/13 10:02:32 WARNING mlflow.pyfunc: Detected one or more mismatches between the model's dependencies and the current Python environment:\n - mlflow (current: 2.8.0, required: mlflow==2.7.1)\n - accelerate (current: 0.19.0, required: accelerate==0.20.3)\n - transformers (current: 4.29.2, required: transformers==4.31.0)\nTo fix the mismatches, call `mlflow.pyfunc.get_model_dependencies(model_uri)` to fetch the model's environment and install dependencies using the resulting environment file.\n2023/11/13 10:02:32 WARNING mlflow.pyfunc: Calling `spark_udf()` with `env_manager=\"local\"` does not recreate the same environment that was used during training, which may lead to errors or inaccurate predictions. We recommend specifying `env_manager=\"conda\"`, which automatically recreates the environment that was used to train the model and performs inference in the recreated environment.\n"
     ]
    },
    {
     "output_type": "display_data",
     "data": {
      "application/vnd.jupyter.widget-view+json": {
       "model_id": "967533a4d40b439bb1b0950dc02575dd",
       "version_major": 2,
       "version_minor": 0
      },
      "text/plain": [
       "Downloading artifacts:   0%|          | 0/1 [00:00<?, ?it/s]"
      ]
     },
     "metadata": {},
     "output_type": "display_data"
    },
    {
     "output_type": "stream",
     "name": "stderr",
     "output_type": "stream",
     "text": [
      "2023/11/13 10:02:33 INFO mlflow.models.flavor_backend_registry: Selected backend for flavor 'python_function'\n"
     ]
    },
    {
     "output_type": "display_data",
     "data": {
      "text/html": [
       "<style scoped>\n",
       "  .ansiout {\n",
       "    display: block;\n",
       "    unicode-bidi: embed;\n",
       "    white-space: pre-wrap;\n",
       "    word-wrap: break-word;\n",
       "    word-break: break-all;\n",
       "    font-family: \"Menlo\", \"Monaco\", \"Consolas\", \"Ubuntu Mono\", \"Source Code Pro\", monospace;\n",
       "    font-size: 13px;\n",
       "    color: #555;\n",
       "    margin-left: 4px;\n",
       "    line-height: 19px;\n",
       "  }\n",
       "</style>"
      ]
     },
     "metadata": {
      "application/vnd.databricks.v1+output": {
       "arguments": {},
       "data": "",
       "errorSummary": "Cancelled",
       "errorTraceType": "html",
       "metadata": {},
       "type": "ipynbError"
      }
     },
     "output_type": "display_data"
    }
   ],
   "source": [
    "# COMMAND ----------\n",
    "\n",
    "import mlflow\n",
    "\n",
    "mlflow.set_registry_uri(\"databricks-uc\")\n",
    "\n",
    "catalog_name = \"databricks_llama_2_models\" # Default catalog name when installing the model from Databricks Marketplace\n",
    "version = 1\n",
    "# Create a Spark UDF to generate the response to a prompt\n",
    "generate = mlflow.pyfunc.spark_udf(\n",
    "    spark, f\"models:/{catalog_name}.models.llama_2_70b_chat_hf/{version}\", \"string\"\n",
    ")"
   ]
  },
  {
   "cell_type": "code",
   "execution_count": 0,
   "metadata": {
    "application/vnd.databricks.v1+cell": {
     "cellMetadata": {
      "byteLimit": 2048000,
      "rowLimit": 10000
     },
     "inputWidgets": {},
     "nuid": "8dc510f9-090f-4685-8b15-4d452e2ae3fd",
     "showTitle": false,
     "title": ""
    }
   },
   "outputs": [
    {
     "output_type": "display_data",
     "data": {
      "text/html": [
       "<style scoped>\n",
       "  .ansiout {\n",
       "    display: block;\n",
       "    unicode-bidi: embed;\n",
       "    white-space: pre-wrap;\n",
       "    word-wrap: break-word;\n",
       "    word-break: break-all;\n",
       "    font-family: \"Menlo\", \"Monaco\", \"Consolas\", \"Ubuntu Mono\", \"Source Code Pro\", monospace;\n",
       "    font-size: 13px;\n",
       "    color: #555;\n",
       "    margin-left: 4px;\n",
       "    line-height: 19px;\n",
       "  }\n",
       "</style>\n",
       "java.lang.RuntimeException: abort: DriverClient destroyed\n",
       "\tat com.databricks.backend.daemon.driver.DriverClient.$anonfun$poll$3(DriverClient.scala:577)\n",
       "\tat scala.concurrent.Future.$anonfun$flatMap$1(Future.scala:307)\n",
       "\tat scala.concurrent.impl.Promise.$anonfun$transformWith$1(Promise.scala:54)\n",
       "\tat scala.concurrent.impl.CallbackRunnable.run(Promise.scala:77)\n",
       "\tat com.databricks.threading.DatabricksExecutionContext$InstrumentedRunnable.run(DatabricksExecutionContext.scala:36)\n",
       "\tat com.databricks.threading.NamedExecutor$$anon$2.$anonfun$run$2(NamedExecutor.scala:364)\n",
       "\tat scala.runtime.java8.JFunction0$mcV$sp.apply(JFunction0$mcV$sp.java:23)\n",
       "\tat com.databricks.logging.UsageLogging.withAttributionContext(UsageLogging.scala:420)\n",
       "\tat com.databricks.logging.UsageLogging.withAttributionContext$(UsageLogging.scala:418)\n",
       "\tat com.databricks.threading.NamedExecutor.withAttributionContext(NamedExecutor.scala:288)\n",
       "\tat com.databricks.threading.NamedExecutor$$anon$2.$anonfun$run$1(NamedExecutor.scala:362)\n",
       "\tat scala.runtime.java8.JFunction0$mcV$sp.apply(JFunction0$mcV$sp.java:23)\n",
       "\tat com.databricks.context.integrity.IntegrityCheckContext$ThreadLocalStorage$.withValue(IntegrityCheckContext.scala:44)\n",
       "\tat com.databricks.threading.NamedExecutor$$anon$2.run(NamedExecutor.scala:354)\n",
       "\tat java.base/java.util.concurrent.ThreadPoolExecutor.runWorker(ThreadPoolExecutor.java:1128)\n",
       "\tat java.base/java.util.concurrent.ThreadPoolExecutor$Worker.run(ThreadPoolExecutor.java:628)\n",
       "\tat java.base/java.lang.Thread.run(Thread.java:829)"
      ]
     },
     "metadata": {
      "application/vnd.databricks.v1+output": {
       "arguments": {},
       "data": "java.lang.RuntimeException: abort: DriverClient destroyed\n\tat com.databricks.backend.daemon.driver.DriverClient.$anonfun$poll$3(DriverClient.scala:577)\n\tat scala.concurrent.Future.$anonfun$flatMap$1(Future.scala:307)\n\tat scala.concurrent.impl.Promise.$anonfun$transformWith$1(Promise.scala:54)\n\tat scala.concurrent.impl.CallbackRunnable.run(Promise.scala:77)\n\tat com.databricks.threading.DatabricksExecutionContext$InstrumentedRunnable.run(DatabricksExecutionContext.scala:36)\n\tat com.databricks.threading.NamedExecutor$$anon$2.$anonfun$run$2(NamedExecutor.scala:364)\n\tat scala.runtime.java8.JFunction0$mcV$sp.apply(JFunction0$mcV$sp.java:23)\n\tat com.databricks.logging.UsageLogging.withAttributionContext(UsageLogging.scala:420)\n\tat com.databricks.logging.UsageLogging.withAttributionContext$(UsageLogging.scala:418)\n\tat com.databricks.threading.NamedExecutor.withAttributionContext(NamedExecutor.scala:288)\n\tat com.databricks.threading.NamedExecutor$$anon$2.$anonfun$run$1(NamedExecutor.scala:362)\n\tat scala.runtime.java8.JFunction0$mcV$sp.apply(JFunction0$mcV$sp.java:23)\n\tat com.databricks.context.integrity.IntegrityCheckContext$ThreadLocalStorage$.withValue(IntegrityCheckContext.scala:44)\n\tat com.databricks.threading.NamedExecutor$$anon$2.run(NamedExecutor.scala:354)\n\tat java.base/java.util.concurrent.ThreadPoolExecutor.runWorker(ThreadPoolExecutor.java:1128)\n\tat java.base/java.util.concurrent.ThreadPoolExecutor$Worker.run(ThreadPoolExecutor.java:628)\n\tat java.base/java.lang.Thread.run(Thread.java:829)\n",
       "errorSummary": "Internal error. Attach your notebook to a different compute or restart the current compute.",
       "errorTraceType": null,
       "metadata": {},
       "type": "ipynbError"
      }
     },
     "output_type": "display_data"
    }
   ],
   "source": [
    "# COMMAND ----------\n",
    "\n",
    "# MAGIC %md\n",
    "# MAGIC The Spark UDF `generate` could inference on Spark DataFrames.\n",
    "\n",
    "# COMMAND ----------\n",
    "\n",
    "import pandas as pd\n",
    "\n",
    "df = spark.createDataFrame(\n",
    "    pd.DataFrame(\n",
    "        {\n",
    "            \"text\": [\n",
    "                \"What is a large language model?\",\n",
    "                # \"Write a short announcement of Llama 2 models in Databricks Marketplace.\",\n",
    "            ]\n",
    "        }\n",
    "    )\n",
    ")\n",
    "display(df)\n",
    "\n",
    "generated_df = df.select(generate(df.text).alias(\"generated_text\"))\n",
    "display(generated_df)"
   ]
  },
  {
   "cell_type": "code",
   "execution_count": 0,
   "metadata": {
    "application/vnd.databricks.v1+cell": {
     "cellMetadata": {},
     "inputWidgets": {},
     "nuid": "34a0ce1c-41af-41eb-b9fb-729795263fc0",
     "showTitle": false,
     "title": ""
    }
   },
   "outputs": [],
   "source": [
    "# COMMAND ----------\n",
    "\n",
    "# MAGIC %md\n",
    "# MAGIC ### Inference on a single input\n",
    "\n",
    "# COMMAND ----------\n",
    "\n",
    "results = gen_text([\"What is a large language model?\"])\n",
    "print(results[0])"
   ]
  },
  {
   "cell_type": "code",
   "execution_count": 0,
   "metadata": {
    "application/vnd.databricks.v1+cell": {
     "cellMetadata": {},
     "inputWidgets": {},
     "nuid": "ec9f49e9-7cf6-40a5-9457-92e4b62b718a",
     "showTitle": false,
     "title": ""
    }
   },
   "outputs": [],
   "source": [
    "# COMMAND ----------\n",
    "\n",
    "# Use args such as temperature and max_new_tokens to control text generation\n",
    "results = gen_text([\"What is a large language model?\"], temperature=0.5, max_new_tokens=50, use_template=True)\n",
    "print(results[0])"
   ]
  },
  {
   "cell_type": "code",
   "execution_count": 0,
   "metadata": {
    "application/vnd.databricks.v1+cell": {
     "cellMetadata": {},
     "inputWidgets": {},
     "nuid": "ed356960-9c79-41a9-b699-b1533176a536",
     "showTitle": false,
     "title": ""
    }
   },
   "outputs": [],
   "source": [
    "# COMMAND ----------\n",
    "\n",
    "# Check that the generation quality when the context is long\n",
    "\n",
    "long_input = \"\"\"Provide a concise summary of the below passage.\n",
    "\n",
    "Hannah Arendt was one of the seminal political thinkers of the twentieth century. The power and originality of her thinking was evident in works such as The Origins of Totalitarianism, The Human Condition, On Revolution and The Life of the Mind. In these works and in numerous essays she grappled with the most crucial political events of her time, trying to grasp their meaning and historical import, and showing how they affected our categories of moral and political judgment. What was required, in her view, was a new framework that could enable us to come to terms with the twin horrors of the twentieth century, Nazism and Stalinism. She provided such framework in her book on totalitarianism, and went on to develop a new set of philosophical categories that could illuminate the human condition and provide a fresh perspective on the nature of political life.\n",
    "\n",
    "Although some of her works now belong to the classics of the Western tradition of political thought, she has always remained difficult to classify. Her political philosophy cannot be characterized in terms of the traditional categories of conservatism, liberalism, and socialism. Nor can her thinking be assimilated to the recent revival of communitarian political thought, to be found, for example, in the writings of A. MacIntyre, M. Sandel, C. Taylor and M. Walzer. Her name has been invoked by a number of critics of the liberal tradition, on the grounds that she presented a vision of politics that stood in opposition some key liberal principles. There are many strands of Arendt’s thought that could justify such a claim, in particular, her critique of representative democracy, her stress on civic engagement and political deliberation, her separation of morality from politics, and her praise of the revolutionary tradition. However, it would be a mistake to view Arendt as an anti-liberal thinker. Arendt was in fact a stern defender of constitutionalism and the rule of law, an advocate of fundamental human rights (among which she included not only the right to life, liberty, and freedom of expression, but also the right to action and to opinion), and a critic of all forms of political community based on traditional ties and customs, as well as those based on religious, ethnic, or racial identity.\n",
    "\n",
    "Arendt’s political thought cannot, in this sense, be identified either with the liberal tradition or with the claims advanced by a number of its critics. Arendt did not conceive of politics as a means for the satisfaction of individual preferences, nor as a way to integrate individuals around a shared conception of the good. Her conception of politics is based instead on the idea of active citizenship, that is, on the value and importance of civic engagement and collective deliberation about all matters affecting the political community. If there is a tradition of thought with which Arendt can be identified, it is the classical tradition of civic republicanism originating in Aristotle and embodied in the writings of Machiavelli, Montesquieu, Jefferson, and Tocqueville. According to this tradition politics finds its authentic expression whenever citizens gather together in a public space to deliberate and decide about matters of collective concern. Political activity is valued not because it may lead to agreement or to a shared conception of the good, but because it enables each citizen to exercise his or her powers of agency, to develop the capacities for judgment and to attain by concerted action some measure of political efficacy.\"\"\"\n",
    "\n",
    "def get_num_tokens(text):\n",
    "    inputs = tokenizer(text, return_tensors=\"pt\").input_ids.to(\"cuda\")\n",
    "    return inputs.shape[1]\n",
    "\n",
    "print('number of tokens for input:', get_num_tokens(long_input))\n",
    "\n",
    "results = gen_text([long_input], max_new_tokens=150, use_template=False)\n",
    "print(results[0])\n",
    "\n",
    "\n"
   ]
  },
  {
   "cell_type": "code",
   "execution_count": 0,
   "metadata": {
    "application/vnd.databricks.v1+cell": {
     "cellMetadata": {},
     "inputWidgets": {},
     "nuid": "96d64e9c-e104-400a-8c4a-cc7be6a53e84",
     "showTitle": false,
     "title": ""
    }
   },
   "outputs": [],
   "source": [
    "# COMMAND ----------\n",
    "\n",
    "# MAGIC %md\n",
    "# MAGIC ### Batch inference\n",
    "\n",
    "# COMMAND ----------\n",
    "\n",
    "# From databricks-dolly-15k\n",
    "inputs = [\n",
    "  \"Think of some family rules to promote a healthy family relationship\",\n",
    "  \"In the series A Song of Ice and Fire, who is the founder of House Karstark?\",\n",
    "  \"which weighs more, cold or hot water?\",\n",
    "  \"Write a short paragraph about why you should not have both a pet cat and a pet bird.\",\n",
    "  \"Is beauty objective or subjective?\",\n",
    "  \"What is SVM?\",\n",
    "  \"What is the current capital of Japan?\",\n",
    "  \"Name 10 colors\",\n",
    "  \"How should I invest my money?\",\n",
    "  \"What are some ways to improve the value of your home?\",\n",
    "  \"What does fasting mean?\",\n",
    "  \"What is cloud computing in simple terms?\",\n",
    "  \"What is the meaning of life?\",\n",
    "  \"What is Linux?\",\n",
    "  \"Why do people like gardening?\",\n",
    "  \"What makes for a good photograph?\"\n",
    "]\n",
    "\n",
    "# COMMAND ----------\n",
    "\n",
    "# Set batch size\n",
    "results = gen_text(inputs, use_template=True, batch_size=8)\n",
    "\n",
    "for output in results:\n",
    "  print(output)\n",
    "  print('\\n')\n"
   ]
  },
  {
   "cell_type": "code",
   "execution_count": 0,
   "metadata": {
    "application/vnd.databricks.v1+cell": {
     "cellMetadata": {},
     "inputWidgets": {},
     "nuid": "6d9cfc10-e5f2-4ff3-8187-921bdcce27a6",
     "showTitle": false,
     "title": ""
    }
   },
   "outputs": [],
   "source": [
    "# COMMAND ----------\n",
    "\n",
    "# MAGIC %md\n",
    "# MAGIC ## Measure inference speed\n",
    "# MAGIC Text generation speed is often measured with token/s, which is the average number of tokens that are generated by the model per second.\n",
    "# MAGIC\n",
    "\n",
    "# COMMAND ----------\n",
    "\n",
    "import time\n",
    "import logging\n",
    "\n",
    "\n",
    "def get_gen_text_throughput(prompt, use_template=True, **kwargs):\n",
    "    \"\"\"\n",
    "    Return tuple ( number of tokens / sec, num tokens, output ) of the generated tokens\n",
    "    \"\"\"\n",
    "    if use_template:\n",
    "        full_prompt = PROMPT_FOR_GENERATION_FORMAT.format(instruction=prompt)\n",
    "    else:\n",
    "        full_prompt = prompt\n",
    "\n",
    "    if \"max_new_tokens\" not in kwargs:\n",
    "        kwargs[\"max_new_tokens\"] = 512\n",
    "\n",
    "    kwargs.update(\n",
    "        {\n",
    "            \"do_sample\": True,\n",
    "            \"pad_token_id\": tokenizer.eos_token_id,\n",
    "            \"eos_token_id\": tokenizer.eos_token_id,\n",
    "            \"return_tensors\": True,  # make the pipeline return token ids instead of decoded text to get the number of generated tokens\n",
    "        }\n",
    "    )\n",
    "\n",
    "    num_input_tokens = get_num_tokens(full_prompt)\n",
    "\n",
    "    # measure the time it takes for text generation\n",
    "    start = time.time()\n",
    "    outputs = pipeline(full_prompt, **kwargs)\n",
    "    duration = time.time() - start\n",
    "\n",
    "    # get the number of generated tokens\n",
    "    n_tokens = len(outputs[0][\"generated_token_ids\"])\n",
    "\n",
    "    # show the generated text in logging\n",
    "    result = tokenizer.batch_decode(\n",
    "        outputs[0][\"generated_token_ids\"][num_input_tokens:], skip_special_tokens=True\n",
    "    )\n",
    "    result = \"\".join(result)\n",
    "\n",
    "    return ((n_tokens - num_input_tokens) / duration, (n_tokens - num_input_tokens), result)\n",
    "\n",
    "# COMMAND ----------\n",
    "\n",
    "throughput, n_tokens, result = get_gen_text_throughput(\"What is ML?\", use_template=False)\n",
    "\n",
    "print(f\"{throughput} tokens/sec, {n_tokens} tokens (not including prompt)\")\n",
    "\n",
    "# COMMAND ----------\n",
    "\n",
    "# When the context is long or the generated text is long, it takes longer to generate each token in average\n",
    "throughput, n_tokens, result = get_gen_text_throughput(long_input, max_new_tokens=200, use_template=True)\n",
    "\n",
    "print(f\"{throughput} tokens/sec, {n_tokens} tokens (not including prompt)\")"
   ]
  },
  {
   "cell_type": "code",
   "execution_count": 0,
   "metadata": {
    "application/vnd.databricks.v1+cell": {
     "cellMetadata": {},
     "inputWidgets": {},
     "nuid": "055b9192-8643-4138-9680-202509f5d451",
     "showTitle": false,
     "title": ""
    }
   },
   "outputs": [],
   "source": []
  }
 ],
 "metadata": {
  "application/vnd.databricks.v1+notebook": {
   "dashboards": [],
   "language": "python",
   "notebookMetadata": {
    "pythonIndentUnit": 4
   },
   "notebookName": "Llama-2-70b-chat",
   "widgets": {}
  }
 },
 "nbformat": 4,
 "nbformat_minor": 0
}
