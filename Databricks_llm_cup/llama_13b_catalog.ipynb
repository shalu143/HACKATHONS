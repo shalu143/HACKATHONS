{
 "cells": [
  {
   "cell_type": "code",
   "execution_count": 0,
   "metadata": {
    "application/vnd.databricks.v1+cell": {
     "cellMetadata": {
      "byteLimit": 2048000,
      "rowLimit": 10000
     },
     "inputWidgets": {},
     "nuid": "593c92b5-72fd-48e7-b909-7e4b454f5999",
     "showTitle": false,
     "title": ""
    }
   },
   "outputs": [
    {
     "output_type": "stream",
     "name": "stdout",
     "output_type": "stream",
     "text": [
      "\u001B[43mNote: you may need to restart the kernel using dbutils.library.restartPython() to use updated packages.\u001B[0m\nRequirement already satisfied: mlflow-skinny[databricks]>=2.4.1 in /databricks/python3/lib/python3.10/site-packages (2.4.2)\nCollecting mlflow-skinny[databricks]>=2.4.1\n  Downloading mlflow_skinny-2.8.0-py3-none-any.whl (4.6 MB)\n     ━━━━━━━━━━━━━━━━━━━━━━━━━━━━━━━━━━━━━━━━ 4.6/4.6 MB 14.6 MB/s eta 0:00:00\nRequirement already satisfied: cloudpickle<3 in /databricks/python3/lib/python3.10/site-packages (from mlflow-skinny[databricks]>=2.4.1) (2.0.0)\nRequirement already satisfied: databricks-cli<1,>=0.8.7 in /databricks/python3/lib/python3.10/site-packages (from mlflow-skinny[databricks]>=2.4.1) (0.17.7)\nRequirement already satisfied: pyyaml<7,>=5.1 in /databricks/python3/lib/python3.10/site-packages (from mlflow-skinny[databricks]>=2.4.1) (6.0)\nRequirement already satisfied: requests<3,>=2.17.3 in /databricks/python3/lib/python3.10/site-packages (from mlflow-skinny[databricks]>=2.4.1) (2.28.1)\nRequirement already satisfied: packaging<24 in /databricks/python3/lib/python3.10/site-packages (from mlflow-skinny[databricks]>=2.4.1) (21.3)\nRequirement already satisfied: protobuf<5,>=3.12.0 in /databricks/python3/lib/python3.10/site-packages (from mlflow-skinny[databricks]>=2.4.1) (3.19.4)\nRequirement already satisfied: entrypoints<1 in /databricks/python3/lib/python3.10/site-packages (from mlflow-skinny[databricks]>=2.4.1) (0.4)\nRequirement already satisfied: sqlparse<1,>=0.4.0 in /databricks/python3/lib/python3.10/site-packages (from mlflow-skinny[databricks]>=2.4.1) (0.4.2)\nRequirement already satisfied: gitpython<4,>=2.1.0 in /databricks/python3/lib/python3.10/site-packages (from mlflow-skinny[databricks]>=2.4.1) (3.1.27)\nRequirement already satisfied: click<9,>=7.0 in /databricks/python3/lib/python3.10/site-packages (from mlflow-skinny[databricks]>=2.4.1) (8.0.4)\nRequirement already satisfied: importlib-metadata!=4.7.0,<7,>=3.7.0 in /databricks/python3/lib/python3.10/site-packages (from mlflow-skinny[databricks]>=2.4.1) (4.11.3)\nRequirement already satisfied: pytz<2024 in /databricks/python3/lib/python3.10/site-packages (from mlflow-skinny[databricks]>=2.4.1) (2022.1)\nRequirement already satisfied: google-cloud-storage>=1.30.0 in /databricks/python3/lib/python3.10/site-packages (from mlflow-skinny[databricks]>=2.4.1) (2.9.0)\nRequirement already satisfied: boto3>1 in /databricks/python3/lib/python3.10/site-packages (from mlflow-skinny[databricks]>=2.4.1) (1.24.28)\nRequirement already satisfied: azure-storage-file-datalake>12 in /databricks/python3/lib/python3.10/site-packages (from mlflow-skinny[databricks]>=2.4.1) (12.11.0)\nRequirement already satisfied: azure-storage-blob<13.0.0,>=12.16.0b1 in /databricks/python3/lib/python3.10/site-packages (from azure-storage-file-datalake>12->mlflow-skinny[databricks]>=2.4.1) (12.17.0b1)\nRequirement already satisfied: typing-extensions>=4.0.1 in /databricks/python3/lib/python3.10/site-packages (from azure-storage-file-datalake>12->mlflow-skinny[databricks]>=2.4.1) (4.3.0)\nRequirement already satisfied: isodate>=0.6.1 in /databricks/python3/lib/python3.10/site-packages (from azure-storage-file-datalake>12->mlflow-skinny[databricks]>=2.4.1) (0.6.1)\nRequirement already satisfied: azure-core<2.0.0,>=1.26.0 in /databricks/python3/lib/python3.10/site-packages (from azure-storage-file-datalake>12->mlflow-skinny[databricks]>=2.4.1) (1.27.1)\nRequirement already satisfied: botocore<1.28.0,>=1.27.28 in /databricks/python3/lib/python3.10/site-packages (from boto3>1->mlflow-skinny[databricks]>=2.4.1) (1.27.28)\nRequirement already satisfied: s3transfer<0.7.0,>=0.6.0 in /databricks/python3/lib/python3.10/site-packages (from boto3>1->mlflow-skinny[databricks]>=2.4.1) (0.6.0)\nRequirement already satisfied: jmespath<2.0.0,>=0.7.1 in /databricks/python3/lib/python3.10/site-packages (from boto3>1->mlflow-skinny[databricks]>=2.4.1) (0.10.0)\nRequirement already satisfied: six>=1.10.0 in /usr/lib/python3/dist-packages (from databricks-cli<1,>=0.8.7->mlflow-skinny[databricks]>=2.4.1) (1.16.0)\nRequirement already satisfied: urllib3<2.0.0,>=1.26.7 in /databricks/python3/lib/python3.10/site-packages (from databricks-cli<1,>=0.8.7->mlflow-skinny[databricks]>=2.4.1) (1.26.11)\nRequirement already satisfied: tabulate>=0.7.7 in /databricks/python3/lib/python3.10/site-packages (from databricks-cli<1,>=0.8.7->mlflow-skinny[databricks]>=2.4.1) (0.8.10)\nRequirement already satisfied: oauthlib>=3.1.0 in /usr/lib/python3/dist-packages (from databricks-cli<1,>=0.8.7->mlflow-skinny[databricks]>=2.4.1) (3.2.0)\nRequirement already satisfied: pyjwt>=1.7.0 in /usr/lib/python3/dist-packages (from databricks-cli<1,>=0.8.7->mlflow-skinny[databricks]>=2.4.1) (2.3.0)\nRequirement already satisfied: gitdb<5,>=4.0.1 in /databricks/python3/lib/python3.10/site-packages (from gitpython<4,>=2.1.0->mlflow-skinny[databricks]>=2.4.1) (4.0.10)\nRequirement already satisfied: google-api-core!=2.0.*,!=2.1.*,!=2.2.*,!=2.3.0,<3.0.0dev,>=1.31.5 in /databricks/python3/lib/python3.10/site-packages (from google-cloud-storage>=1.30.0->mlflow-skinny[databricks]>=2.4.1) (2.8.2)\nRequirement already satisfied: google-cloud-core<3.0dev,>=2.3.0 in /databricks/python3/lib/python3.10/site-packages (from google-cloud-storage>=1.30.0->mlflow-skinny[databricks]>=2.4.1) (2.3.2)\nRequirement already satisfied: google-resumable-media>=2.3.2 in /databricks/python3/lib/python3.10/site-packages (from google-cloud-storage>=1.30.0->mlflow-skinny[databricks]>=2.4.1) (2.5.0)\nRequirement already satisfied: google-auth<3.0dev,>=1.25.0 in /databricks/python3/lib/python3.10/site-packages (from google-cloud-storage>=1.30.0->mlflow-skinny[databricks]>=2.4.1) (1.33.0)\nRequirement already satisfied: zipp>=0.5 in /databricks/python3/lib/python3.10/site-packages (from importlib-metadata!=4.7.0,<7,>=3.7.0->mlflow-skinny[databricks]>=2.4.1) (3.8.0)\nRequirement already satisfied: pyparsing!=3.0.5,>=2.0.2 in /databricks/python3/lib/python3.10/site-packages (from packaging<24->mlflow-skinny[databricks]>=2.4.1) (3.0.9)\nRequirement already satisfied: charset-normalizer<3,>=2 in /databricks/python3/lib/python3.10/site-packages (from requests<3,>=2.17.3->mlflow-skinny[databricks]>=2.4.1) (2.0.4)\nRequirement already satisfied: certifi>=2017.4.17 in /databricks/python3/lib/python3.10/site-packages (from requests<3,>=2.17.3->mlflow-skinny[databricks]>=2.4.1) (2022.9.14)\nRequirement already satisfied: idna<4,>=2.5 in /databricks/python3/lib/python3.10/site-packages (from requests<3,>=2.17.3->mlflow-skinny[databricks]>=2.4.1) (3.3)\nRequirement already satisfied: cryptography>=2.1.4 in /databricks/python3/lib/python3.10/site-packages (from azure-storage-blob<13.0.0,>=12.16.0b1->azure-storage-file-datalake>12->mlflow-skinny[databricks]>=2.4.1) (37.0.1)\nRequirement already satisfied: python-dateutil<3.0.0,>=2.1 in /databricks/python3/lib/python3.10/site-packages (from botocore<1.28.0,>=1.27.28->boto3>1->mlflow-skinny[databricks]>=2.4.1) (2.8.2)\nRequirement already satisfied: smmap<6,>=3.0.1 in /databricks/python3/lib/python3.10/site-packages (from gitdb<5,>=4.0.1->gitpython<4,>=2.1.0->mlflow-skinny[databricks]>=2.4.1) (5.0.0)\nRequirement already satisfied: googleapis-common-protos<2.0dev,>=1.56.2 in /databricks/python3/lib/python3.10/site-packages (from google-api-core!=2.0.*,!=2.1.*,!=2.2.*,!=2.3.0,<3.0.0dev,>=1.31.5->google-cloud-storage>=1.30.0->mlflow-skinny[databricks]>=2.4.1) (1.56.4)\nRequirement already satisfied: rsa<5,>=3.1.4 in /databricks/python3/lib/python3.10/site-packages (from google-auth<3.0dev,>=1.25.0->google-cloud-storage>=1.30.0->mlflow-skinny[databricks]>=2.4.1) (4.9)\nRequirement already satisfied: cachetools<5.0,>=2.0.0 in /databricks/python3/lib/python3.10/site-packages (from google-auth<3.0dev,>=1.25.0->google-cloud-storage>=1.30.0->mlflow-skinny[databricks]>=2.4.1) (4.2.4)\nRequirement already satisfied: pyasn1-modules>=0.2.1 in /databricks/python3/lib/python3.10/site-packages (from google-auth<3.0dev,>=1.25.0->google-cloud-storage>=1.30.0->mlflow-skinny[databricks]>=2.4.1) (0.2.8)\nRequirement already satisfied: setuptools>=40.3.0 in /databricks/python3/lib/python3.10/site-packages (from google-auth<3.0dev,>=1.25.0->google-cloud-storage>=1.30.0->mlflow-skinny[databricks]>=2.4.1) (63.4.1)\nRequirement already satisfied: google-crc32c<2.0dev,>=1.0 in /databricks/python3/lib/python3.10/site-packages (from google-resumable-media>=2.3.2->google-cloud-storage>=1.30.0->mlflow-skinny[databricks]>=2.4.1) (1.5.0)\nRequirement already satisfied: cffi>=1.12 in /databricks/python3/lib/python3.10/site-packages (from cryptography>=2.1.4->azure-storage-blob<13.0.0,>=12.16.0b1->azure-storage-file-datalake>12->mlflow-skinny[databricks]>=2.4.1) (1.15.1)\nRequirement already satisfied: pyasn1<0.5.0,>=0.4.6 in /databricks/python3/lib/python3.10/site-packages (from pyasn1-modules>=0.2.1->google-auth<3.0dev,>=1.25.0->google-cloud-storage>=1.30.0->mlflow-skinny[databricks]>=2.4.1) (0.4.8)\nRequirement already satisfied: pycparser in /databricks/python3/lib/python3.10/site-packages (from cffi>=1.12->cryptography>=2.1.4->azure-storage-blob<13.0.0,>=12.16.0b1->azure-storage-file-datalake>12->mlflow-skinny[databricks]>=2.4.1) (2.21)\nInstalling collected packages: mlflow-skinny\n  Attempting uninstall: mlflow-skinny\n    Found existing installation: mlflow-skinny 2.4.2\n    Not uninstalling mlflow-skinny at /databricks/python3/lib/python3.10/site-packages, outside environment /local_disk0/.ephemeral_nfs/envs/pythonEnv-63ecef1c-7438-43ce-83d3-2f9897262097\n    Can't uninstall 'mlflow-skinny'. No files were found to uninstall.\nERROR: pip's dependency resolver does not currently take into account all the packages that are installed. This behaviour is the source of the following dependency conflicts.\ndatabricks-feature-store 0.13.6 requires pyspark<4,>=3.1.2, which is not installed.\nSuccessfully installed mlflow-skinny-2.8.0\n\u001B[43mNote: you may need to restart the kernel using dbutils.library.restartPython() to use updated packages.\u001B[0m\n"
     ]
    }
   ],
   "source": [
    "%pip install --upgrade \"mlflow-skinny[databricks]>=2.4.1\"\n",
    "dbutils.library.restartPython()"
   ]
  },
  {
   "cell_type": "code",
   "execution_count": 0,
   "metadata": {
    "application/vnd.databricks.v1+cell": {
     "cellMetadata": {
      "byteLimit": 2048000,
      "rowLimit": 10000
     },
     "inputWidgets": {},
     "nuid": "b94a1182-ae3e-4b2c-876b-1411b7f3beeb",
     "showTitle": false,
     "title": ""
    }
   },
   "outputs": [
    {
     "output_type": "display_data",
     "data": {
      "application/vnd.jupyter.widget-view+json": {
       "model_id": "0e3ff813bfdc454babb6bb4f7cc3338f",
       "version_major": 2,
       "version_minor": 0
      },
      "text/plain": [
       "Downloading artifacts:   0%|          | 0/43 [00:00<?, ?it/s]"
      ]
     },
     "metadata": {},
     "output_type": "display_data"
    },
    {
     "output_type": "stream",
     "name": "stderr",
     "output_type": "stream",
     "text": [
      "2023/11/15 11:29:46 INFO mlflow.store.artifact.artifact_repo: The progress bar can be disabled by setting the environment variable MLFLOW_ENABLE_ARTIFACTS_PROGRESS_BAR to false\n"
     ]
    },
    {
     "output_type": "display_data",
     "data": {
      "application/vnd.jupyter.widget-view+json": {
       "model_id": "8f1f2914bed944f8b9a3ea9c5d92ec95",
       "version_major": 2,
       "version_minor": 0
      },
      "text/plain": [
       "Downloading /tmp/tmp1lssr691/model/pytorch_model-00002-of-00028.bin:   0%|          | 0.00/940M [00:00<?, ?iB/…"
      ]
     },
     "metadata": {},
     "output_type": "display_data"
    },
    {
     "output_type": "display_data",
     "data": {
      "application/vnd.jupyter.widget-view+json": {
       "model_id": "f77c0b3b7acb41baade49885609eada1",
       "version_major": 2,
       "version_minor": 0
      },
      "text/plain": [
       "Downloading /tmp/tmp1lssr691/model/pytorch_model-00001-of-00028.bin:   0%|          | 0.00/918M [00:00<?, ?iB/…"
      ]
     },
     "metadata": {},
     "output_type": "display_data"
    },
    {
     "output_type": "display_data",
     "data": {
      "application/vnd.jupyter.widget-view+json": {
       "model_id": "bf60ada3edb84eba92cb858e177dc1dc",
       "version_major": 2,
       "version_minor": 0
      },
      "text/plain": [
       "Downloading /tmp/tmp1lssr691/model/pytorch_model-00011-of-00028.bin:   0%|          | 0.00/925M [00:00<?, ?iB/…"
      ]
     },
     "metadata": {},
     "output_type": "display_data"
    },
    {
     "output_type": "display_data",
     "data": {
      "application/vnd.jupyter.widget-view+json": {
       "model_id": "b9423baf8bf743fabb4fcc534e3f86cc",
       "version_major": 2,
       "version_minor": 0
      },
      "text/plain": [
       "Downloading /tmp/tmp1lssr691/model/pytorch_model-00004-of-00028.bin:   0%|          | 0.00/890M [00:00<?, ?iB/…"
      ]
     },
     "metadata": {},
     "output_type": "display_data"
    },
    {
     "output_type": "display_data",
     "data": {
      "application/vnd.jupyter.widget-view+json": {
       "model_id": "b50271f5e9e14f32a789e2c28a8cbcbc",
       "version_major": 2,
       "version_minor": 0
      },
      "text/plain": [
       "Downloading /tmp/tmp1lssr691/model/pytorch_model-00015-of-00028.bin:   0%|          | 0.00/925M [00:00<?, ?iB/…"
      ]
     },
     "metadata": {},
     "output_type": "display_data"
    },
    {
     "output_type": "display_data",
     "data": {
      "application/vnd.jupyter.widget-view+json": {
       "model_id": "8675a14386cc41daae176eda9f6b57c8",
       "version_major": 2,
       "version_minor": 0
      },
      "text/plain": [
       "Downloading /tmp/tmp1lssr691/model/pytorch_model-00016-of-00028.bin:   0%|          | 0.00/890M [00:00<?, ?iB/…"
      ]
     },
     "metadata": {},
     "output_type": "display_data"
    },
    {
     "output_type": "display_data",
     "data": {
      "application/vnd.jupyter.widget-view+json": {
       "model_id": "824b497dd8b24b01bef6ea5d7a8e49d8",
       "version_major": 2,
       "version_minor": 0
      },
      "text/plain": [
       "Downloading /tmp/tmp1lssr691/model/pytorch_model-00017-of-00028.bin:   0%|          | 0.00/925M [00:00<?, ?iB/…"
      ]
     },
     "metadata": {},
     "output_type": "display_data"
    },
    {
     "output_type": "display_data",
     "data": {
      "application/vnd.jupyter.widget-view+json": {
       "model_id": "2c1c49b4645a48a4a32bf5e4504d050b",
       "version_major": 2,
       "version_minor": 0
      },
      "text/plain": [
       "Downloading /tmp/tmp1lssr691/model/pytorch_model-00018-of-00028.bin:   0%|          | 0.00/890M [00:00<?, ?iB/…"
      ]
     },
     "metadata": {},
     "output_type": "display_data"
    },
    {
     "output_type": "stream",
     "name": "stderr",
     "output_type": "stream",
     "text": [
      "WARNING:urllib3.connectionpool:Connection pool is full, discarding connection: marketplace-prod.13f8abfc508e16c0c93ee13e0bd6f478.r2.cloudflarestorage.com. Connection pool size: 10\n"
     ]
    },
    {
     "output_type": "display_data",
     "data": {
      "application/vnd.jupyter.widget-view+json": {
       "model_id": "ce5edd4e1501453987ca0af6cc50ce3e",
       "version_major": 2,
       "version_minor": 0
      },
      "text/plain": [
       "Downloading /tmp/tmp1lssr691/model/pytorch_model-00003-of-00028.bin:   0%|          | 0.00/925M [00:00<?, ?iB/…"
      ]
     },
     "metadata": {},
     "output_type": "display_data"
    },
    {
     "output_type": "stream",
     "name": "stderr",
     "output_type": "stream",
     "text": [
      "WARNING:urllib3.connectionpool:Connection pool is full, discarding connection: marketplace-prod.13f8abfc508e16c0c93ee13e0bd6f478.r2.cloudflarestorage.com. Connection pool size: 10\n"
     ]
    },
    {
     "output_type": "display_data",
     "data": {
      "application/vnd.jupyter.widget-view+json": {
       "model_id": "72df88393c54452e9e3b8804a2ae7e4d",
       "version_major": 2,
       "version_minor": 0
      },
      "text/plain": [
       "Downloading /tmp/tmp1lssr691/model/pytorch_model-00014-of-00028.bin:   0%|          | 0.00/890M [00:00<?, ?iB/…"
      ]
     },
     "metadata": {},
     "output_type": "display_data"
    },
    {
     "output_type": "stream",
     "name": "stderr",
     "output_type": "stream",
     "text": [
      "WARNING:urllib3.connectionpool:Connection pool is full, discarding connection: marketplace-prod.13f8abfc508e16c0c93ee13e0bd6f478.r2.cloudflarestorage.com. Connection pool size: 10\nWARNING:urllib3.connectionpool:Connection pool is full, discarding connection: marketplace-prod.13f8abfc508e16c0c93ee13e0bd6f478.r2.cloudflarestorage.com. Connection pool size: 10\nWARNING:urllib3.connectionpool:Connection pool is full, discarding connection: marketplace-prod.13f8abfc508e16c0c93ee13e0bd6f478.r2.cloudflarestorage.com. Connection pool size: 10\nWARNING:urllib3.connectionpool:Connection pool is full, discarding connection: marketplace-prod.13f8abfc508e16c0c93ee13e0bd6f478.r2.cloudflarestorage.com. Connection pool size: 10\n"
     ]
    },
    {
     "output_type": "display_data",
     "data": {
      "application/vnd.jupyter.widget-view+json": {
       "model_id": "f08d553e5aac4fa5b5afea90b6012ba7",
       "version_major": 2,
       "version_minor": 0
      },
      "text/plain": [
       "Downloading /tmp/tmp1lssr691/model/pytorch_model-00008-of-00028.bin:   0%|          | 0.00/890M [00:00<?, ?iB/…"
      ]
     },
     "metadata": {},
     "output_type": "display_data"
    },
    {
     "output_type": "display_data",
     "data": {
      "application/vnd.jupyter.widget-view+json": {
       "model_id": "a3d10b0b5b0f4946879185779f1ab6b0",
       "version_major": 2,
       "version_minor": 0
      },
      "text/plain": [
       "Downloading /tmp/tmp1lssr691/model/pytorch_model-00005-of-00028.bin:   0%|          | 0.00/925M [00:00<?, ?iB/…"
      ]
     },
     "metadata": {},
     "output_type": "display_data"
    },
    {
     "output_type": "stream",
     "name": "stderr",
     "output_type": "stream",
     "text": [
      "WARNING:urllib3.connectionpool:Connection pool is full, discarding connection: marketplace-prod.13f8abfc508e16c0c93ee13e0bd6f478.r2.cloudflarestorage.com. Connection pool size: 10\n"
     ]
    },
    {
     "output_type": "display_data",
     "data": {
      "application/vnd.jupyter.widget-view+json": {
       "model_id": "80b41d6a2ae1457d88db849b845b1d2d",
       "version_major": 2,
       "version_minor": 0
      },
      "text/plain": [
       "Downloading /tmp/tmp1lssr691/model/pytorch_model-00013-of-00028.bin:   0%|          | 0.00/925M [00:00<?, ?iB/…"
      ]
     },
     "metadata": {},
     "output_type": "display_data"
    },
    {
     "output_type": "display_data",
     "data": {
      "application/vnd.jupyter.widget-view+json": {
       "model_id": "665cd970435d4cf6a34f89cb3d1bfca1",
       "version_major": 2,
       "version_minor": 0
      },
      "text/plain": [
       "Downloading /tmp/tmp1lssr691/model/pytorch_model-00010-of-00028.bin:   0%|          | 0.00/890M [00:00<?, ?iB/…"
      ]
     },
     "metadata": {},
     "output_type": "display_data"
    },
    {
     "output_type": "stream",
     "name": "stderr",
     "output_type": "stream",
     "text": [
      "WARNING:urllib3.connectionpool:Connection pool is full, discarding connection: marketplace-prod.13f8abfc508e16c0c93ee13e0bd6f478.r2.cloudflarestorage.com. Connection pool size: 10\nWARNING:urllib3.connectionpool:Connection pool is full, discarding connection: marketplace-prod.13f8abfc508e16c0c93ee13e0bd6f478.r2.cloudflarestorage.com. Connection pool size: 10\n"
     ]
    },
    {
     "output_type": "display_data",
     "data": {
      "application/vnd.jupyter.widget-view+json": {
       "model_id": "737abaa9be224c4a832f11a7451d2e29",
       "version_major": 2,
       "version_minor": 0
      },
      "text/plain": [
       "Downloading /tmp/tmp1lssr691/model/pytorch_model-00012-of-00028.bin:   0%|          | 0.00/890M [00:00<?, ?iB/…"
      ]
     },
     "metadata": {},
     "output_type": "display_data"
    },
    {
     "output_type": "stream",
     "name": "stderr",
     "output_type": "stream",
     "text": [
      "WARNING:urllib3.connectionpool:Connection pool is full, discarding connection: marketplace-prod.13f8abfc508e16c0c93ee13e0bd6f478.r2.cloudflarestorage.com. Connection pool size: 10\n"
     ]
    },
    {
     "output_type": "display_data",
     "data": {
      "application/vnd.jupyter.widget-view+json": {
       "model_id": "c88f477825694428acd8ee6e13288fb4",
       "version_major": 2,
       "version_minor": 0
      },
      "text/plain": [
       "Downloading /tmp/tmp1lssr691/model/pytorch_model-00009-of-00028.bin:   0%|          | 0.00/925M [00:00<?, ?iB/…"
      ]
     },
     "metadata": {},
     "output_type": "display_data"
    },
    {
     "output_type": "display_data",
     "data": {
      "application/vnd.jupyter.widget-view+json": {
       "model_id": "56dd91e2eb6a48e29dade1d29971067f",
       "version_major": 2,
       "version_minor": 0
      },
      "text/plain": [
       "Downloading /tmp/tmp1lssr691/model/pytorch_model-00007-of-00028.bin:   0%|          | 0.00/925M [00:00<?, ?iB/…"
      ]
     },
     "metadata": {},
     "output_type": "display_data"
    },
    {
     "output_type": "display_data",
     "data": {
      "application/vnd.jupyter.widget-view+json": {
       "model_id": "828cd34683eb40a09bcbbadd2779b793",
       "version_major": 2,
       "version_minor": 0
      },
      "text/plain": [
       "Downloading /tmp/tmp1lssr691/model/pytorch_model-00006-of-00028.bin:   0%|          | 0.00/890M [00:00<?, ?iB/…"
      ]
     },
     "metadata": {},
     "output_type": "display_data"
    },
    {
     "output_type": "display_data",
     "data": {
      "application/vnd.jupyter.widget-view+json": {
       "model_id": "6b9b7dac3508489abd40c13bfa65c358",
       "version_major": 2,
       "version_minor": 0
      },
      "text/plain": [
       "Downloading /tmp/tmp1lssr691/model/pytorch_model-00020-of-00028.bin:   0%|          | 0.00/890M [00:00<?, ?iB/…"
      ]
     },
     "metadata": {},
     "output_type": "display_data"
    },
    {
     "output_type": "display_data",
     "data": {
      "application/vnd.jupyter.widget-view+json": {
       "model_id": "52c230dce0f144878d72f9486bb8ec2a",
       "version_major": 2,
       "version_minor": 0
      },
      "text/plain": [
       "Downloading /tmp/tmp1lssr691/model/pytorch_model-00019-of-00028.bin:   0%|          | 0.00/925M [00:00<?, ?iB/…"
      ]
     },
     "metadata": {},
     "output_type": "display_data"
    },
    {
     "output_type": "display_data",
     "data": {
      "application/vnd.jupyter.widget-view+json": {
       "model_id": "fdd352f8926c4d0db022688a03c668bf",
       "version_major": 2,
       "version_minor": 0
      },
      "text/plain": [
       "Downloading /tmp/tmp1lssr691/model/pytorch_model-00021-of-00028.bin:   0%|          | 0.00/925M [00:00<?, ?iB/…"
      ]
     },
     "metadata": {},
     "output_type": "display_data"
    },
    {
     "output_type": "display_data",
     "data": {
      "application/vnd.jupyter.widget-view+json": {
       "model_id": "2c23933faed84c4c9544d3df46bea967",
       "version_major": 2,
       "version_minor": 0
      },
      "text/plain": [
       "Downloading /tmp/tmp1lssr691/model/pytorch_model-00022-of-00028.bin:   0%|          | 0.00/890M [00:00<?, ?iB/…"
      ]
     },
     "metadata": {},
     "output_type": "display_data"
    },
    {
     "output_type": "display_data",
     "data": {
      "application/vnd.jupyter.widget-view+json": {
       "model_id": "6f2097bb469e4084baa500dccac9f901",
       "version_major": 2,
       "version_minor": 0
      },
      "text/plain": [
       "Downloading /tmp/tmp1lssr691/model/pytorch_model-00023-of-00028.bin:   0%|          | 0.00/925M [00:00<?, ?iB/…"
      ]
     },
     "metadata": {},
     "output_type": "display_data"
    },
    {
     "output_type": "display_data",
     "data": {
      "application/vnd.jupyter.widget-view+json": {
       "model_id": "0e8dad86117b4be7a4773007f0dbe032",
       "version_major": 2,
       "version_minor": 0
      },
      "text/plain": [
       "Downloading /tmp/tmp1lssr691/model/pytorch_model-00024-of-00028.bin:   0%|          | 0.00/890M [00:00<?, ?iB/…"
      ]
     },
     "metadata": {},
     "output_type": "display_data"
    },
    {
     "output_type": "display_data",
     "data": {
      "application/vnd.jupyter.widget-view+json": {
       "model_id": "fb621059b53740aa8e1e648ef01bf342",
       "version_major": 2,
       "version_minor": 0
      },
      "text/plain": [
       "Downloading /tmp/tmp1lssr691/model/pytorch_model-00025-of-00028.bin:   0%|          | 0.00/925M [00:00<?, ?iB/…"
      ]
     },
     "metadata": {},
     "output_type": "display_data"
    },
    {
     "output_type": "display_data",
     "data": {
      "application/vnd.jupyter.widget-view+json": {
       "model_id": "54d152ed56dc43178fcb1c729d7f1d96",
       "version_major": 2,
       "version_minor": 0
      },
      "text/plain": [
       "Downloading /tmp/tmp1lssr691/model/pytorch_model-00026-of-00028.bin:   0%|          | 0.00/890M [00:00<?, ?iB/…"
      ]
     },
     "metadata": {},
     "output_type": "display_data"
    },
    {
     "output_type": "display_data",
     "data": {
      "application/vnd.jupyter.widget-view+json": {
       "model_id": "46aa7836f3b347ae8484bb6c05d03513",
       "version_major": 2,
       "version_minor": 0
      },
      "text/plain": [
       "Downloading /tmp/tmp1lssr691/model/pytorch_model-00027-of-00028.bin:   0%|          | 0.00/875M [00:00<?, ?iB/…"
      ]
     },
     "metadata": {},
     "output_type": "display_data"
    },
    {
     "output_type": "stream",
     "name": "stderr",
     "output_type": "stream",
     "text": [
      "WARNING:urllib3.connectionpool:Connection pool is full, discarding connection: marketplace-prod.13f8abfc508e16c0c93ee13e0bd6f478.r2.cloudflarestorage.com. Connection pool size: 10\n2023/11/15 11:30:19 INFO mlflow.utils.file_utils: Retrying download of chunk 7 for model/pytorch_model-00007-of-00028.bin\n2023/11/15 11:30:35 INFO mlflow.utils.file_utils: Successfully downloaded chunk 7 for model/pytorch_model-00007-of-00028.bin\n2023/11/15 11:31:34 INFO mlflow.pyfunc: To install the dependencies that were used to train the model, run the following command: '%pip install -r /tmp/tmp1lssr691/requirements.txt'.\n"
     ]
    },
    {
     "output_type": "execute_result",
     "data": {
      "text/plain": [
       "'/tmp/tmp1lssr691/requirements.txt'"
      ]
     },
     "execution_count": 3,
     "metadata": {},
     "output_type": "execute_result"
    }
   ],
   "source": [
    "import mlflow\n",
    "\n",
    "mlflow.set_registry_uri(\"databricks-uc\")\n",
    "\n",
    "catalog_name = \"databricks_llama_2_models\" # Default catalog name when installing the model from Databricks Marketplace\n",
    "version = 1\n",
    "\n",
    "\n",
    "mlflow.pyfunc.get_model_dependencies(f\"models:/{catalog_name}.models.llama_2_13b_chat_hf/{version}\")"
   ]
  },
  {
   "cell_type": "code",
   "execution_count": 0,
   "metadata": {
    "application/vnd.databricks.v1+cell": {
     "cellMetadata": {
      "byteLimit": 2048000,
      "rowLimit": 10000
     },
     "inputWidgets": {},
     "nuid": "ca99de51-1f33-4f79-b722-ecdd88cdf266",
     "showTitle": false,
     "title": ""
    }
   },
   "outputs": [
    {
     "output_type": "stream",
     "name": "stdout",
     "output_type": "stream",
     "text": [
      "\u001B[43mNote: you may need to restart the kernel using dbutils.library.restartPython() to use updated packages.\u001B[0m\nCollecting mlflow==2.7.1\n  Downloading mlflow-2.7.1-py3-none-any.whl (18.5 MB)\n     ━━━━━━━━━━━━━━━━━━━━━━━━━━━━━━━━━━━━━━━━ 18.5/18.5 MB 21.1 MB/s eta 0:00:00\nCollecting accelerate==0.20.3\n  Downloading accelerate-0.20.3-py3-none-any.whl (227 kB)\n     ━━━━━━━━━━━━━━━━━━━━━━━━━━━━━━━━━━━━━━━ 227.6/227.6 kB 2.5 MB/s eta 0:00:00\nRequirement already satisfied: torch==1.13.1 in /databricks/python3/lib/python3.10/site-packages (from -r /tmp/tmp1lssr691/requirements.txt (line 3)) (1.13.1+cu117)\nRequirement already satisfied: torchvision==0.14.1 in /databricks/python3/lib/python3.10/site-packages (from -r /tmp/tmp1lssr691/requirements.txt (line 4)) (0.14.1+cu117)\nCollecting transformers==4.31.0\n  Downloading transformers-4.31.0-py3-none-any.whl (7.4 MB)\n     ━━━━━━━━━━━━━━━━━━━━━━━━━━━━━━━━━━━━━━━━ 7.4/7.4 MB 26.9 MB/s eta 0:00:00\nRequirement already satisfied: matplotlib<4 in /databricks/python3/lib/python3.10/site-packages (from mlflow==2.7.1->-r /tmp/tmp1lssr691/requirements.txt (line 1)) (3.5.2)\nRequirement already satisfied: sqlparse<1,>=0.4.0 in /databricks/python3/lib/python3.10/site-packages (from mlflow==2.7.1->-r /tmp/tmp1lssr691/requirements.txt (line 1)) (0.4.2)\nRequirement already satisfied: requests<3,>=2.17.3 in /databricks/python3/lib/python3.10/site-packages (from mlflow==2.7.1->-r /tmp/tmp1lssr691/requirements.txt (line 1)) (2.28.1)\nRequirement already satisfied: importlib-metadata!=4.7.0,<7,>=3.7.0 in /databricks/python3/lib/python3.10/site-packages (from mlflow==2.7.1->-r /tmp/tmp1lssr691/requirements.txt (line 1)) (4.11.3)\nRequirement already satisfied: Jinja2<4,>=2.11 in /databricks/python3/lib/python3.10/site-packages (from mlflow==2.7.1->-r /tmp/tmp1lssr691/requirements.txt (line 1)) (2.11.3)\nCollecting docker<7,>=4.0.0\n  Downloading docker-6.1.3-py3-none-any.whl (148 kB)\n     ━━━━━━━━━━━━━━━━━━━━━━━━━━━━━━━━━━━━━━━ 148.1/148.1 kB 1.0 MB/s eta 0:00:00\nCollecting querystring-parser<2\n  Downloading querystring_parser-1.2.4-py2.py3-none-any.whl (7.9 kB)\nRequirement already satisfied: sqlalchemy<3,>=1.4.0 in /databricks/python3/lib/python3.10/site-packages (from mlflow==2.7.1->-r /tmp/tmp1lssr691/requirements.txt (line 1)) (1.4.39)\nRequirement already satisfied: numpy<2 in /databricks/python3/lib/python3.10/site-packages (from mlflow==2.7.1->-r /tmp/tmp1lssr691/requirements.txt (line 1)) (1.21.5)\nRequirement already satisfied: markdown<4,>=3.3 in /databricks/python3/lib/python3.10/site-packages (from mlflow==2.7.1->-r /tmp/tmp1lssr691/requirements.txt (line 1)) (3.3.4)\nRequirement already satisfied: scipy<2 in /databricks/python3/lib/python3.10/site-packages (from mlflow==2.7.1->-r /tmp/tmp1lssr691/requirements.txt (line 1)) (1.9.1)\nRequirement already satisfied: protobuf<5,>=3.12.0 in /databricks/python3/lib/python3.10/site-packages (from mlflow==2.7.1->-r /tmp/tmp1lssr691/requirements.txt (line 1)) (3.19.4)\nRequirement already satisfied: pyyaml<7,>=5.1 in /databricks/python3/lib/python3.10/site-packages (from mlflow==2.7.1->-r /tmp/tmp1lssr691/requirements.txt (line 1)) (6.0)\nRequirement already satisfied: pytz<2024 in /databricks/python3/lib/python3.10/site-packages (from mlflow==2.7.1->-r /tmp/tmp1lssr691/requirements.txt (line 1)) (2022.1)\nRequirement already satisfied: gitpython<4,>=2.1.0 in /databricks/python3/lib/python3.10/site-packages (from mlflow==2.7.1->-r /tmp/tmp1lssr691/requirements.txt (line 1)) (3.1.27)\nRequirement already satisfied: cloudpickle<3 in /databricks/python3/lib/python3.10/site-packages (from mlflow==2.7.1->-r /tmp/tmp1lssr691/requirements.txt (line 1)) (2.0.0)\nRequirement already satisfied: pyarrow<14,>=4.0.0 in /databricks/python3/lib/python3.10/site-packages (from mlflow==2.7.1->-r /tmp/tmp1lssr691/requirements.txt (line 1)) (8.0.0)\nCollecting alembic!=1.10.0,<2\n  Downloading alembic-1.12.1-py3-none-any.whl (226 kB)\n     ━━━━━━━━━━━━━━━━━━━━━━━━━━━━━━━━━━━━━━━ 226.8/226.8 kB 1.7 MB/s eta 0:00:00\nRequirement already satisfied: scikit-learn<2 in /databricks/python3/lib/python3.10/site-packages (from mlflow==2.7.1->-r /tmp/tmp1lssr691/requirements.txt (line 1)) (1.1.1)\nRequirement already satisfied: entrypoints<1 in /databricks/python3/lib/python3.10/site-packages (from mlflow==2.7.1->-r /tmp/tmp1lssr691/requirements.txt (line 1)) (0.4)\nRequirement already satisfied: pandas<3 in /databricks/python3/lib/python3.10/site-packages (from mlflow==2.7.1->-r /tmp/tmp1lssr691/requirements.txt (line 1)) (1.4.4)\nRequirement already satisfied: Flask<3 in /databricks/python3/lib/python3.10/site-packages (from mlflow==2.7.1->-r /tmp/tmp1lssr691/requirements.txt (line 1)) (1.1.2+db1)\nRequirement already satisfied: packaging<24 in /databricks/python3/lib/python3.10/site-packages (from mlflow==2.7.1->-r /tmp/tmp1lssr691/requirements.txt (line 1)) (21.3)\nRequirement already satisfied: databricks-cli<1,>=0.8.7 in /databricks/python3/lib/python3.10/site-packages (from mlflow==2.7.1->-r /tmp/tmp1lssr691/requirements.txt (line 1)) (0.17.7)\nRequirement already satisfied: click<9,>=7.0 in /databricks/python3/lib/python3.10/site-packages (from mlflow==2.7.1->-r /tmp/tmp1lssr691/requirements.txt (line 1)) (8.0.4)\nRequirement already satisfied: gunicorn<22 in /databricks/python3/lib/python3.10/site-packages (from mlflow==2.7.1->-r /tmp/tmp1lssr691/requirements.txt (line 1)) (20.1.0)\nRequirement already satisfied: psutil in /databricks/python3/lib/python3.10/site-packages (from accelerate==0.20.3->-r /tmp/tmp1lssr691/requirements.txt (line 2)) (5.9.0)\nRequirement already satisfied: typing-extensions in /databricks/python3/lib/python3.10/site-packages (from torch==1.13.1->-r /tmp/tmp1lssr691/requirements.txt (line 3)) (4.3.0)\nRequirement already satisfied: pillow!=8.3.*,>=5.3.0 in /databricks/python3/lib/python3.10/site-packages (from torchvision==0.14.1->-r /tmp/tmp1lssr691/requirements.txt (line 4)) (9.2.0)\nRequirement already satisfied: regex!=2019.12.17 in /databricks/python3/lib/python3.10/site-packages (from transformers==4.31.0->-r /tmp/tmp1lssr691/requirements.txt (line 5)) (2022.7.9)\nRequirement already satisfied: tokenizers!=0.11.3,<0.14,>=0.11.1 in /databricks/python3/lib/python3.10/site-packages (from transformers==4.31.0->-r /tmp/tmp1lssr691/requirements.txt (line 5)) (0.13.3)\nRequirement already satisfied: huggingface-hub<1.0,>=0.14.1 in /databricks/python3/lib/python3.10/site-packages (from transformers==4.31.0->-r /tmp/tmp1lssr691/requirements.txt (line 5)) (0.15.1)\nCollecting safetensors>=0.3.1\n  Downloading safetensors-0.4.0-cp310-cp310-manylinux_2_17_x86_64.manylinux2014_x86_64.whl (1.3 MB)\n     ━━━━━━━━━━━━━━━━━━━━━━━━━━━━━━━━━━━━━━━━ 1.3/1.3 MB 8.5 MB/s eta 0:00:00\nRequirement already satisfied: tqdm>=4.27 in /databricks/python3/lib/python3.10/site-packages (from transformers==4.31.0->-r /tmp/tmp1lssr691/requirements.txt (line 5)) (4.64.1)\nRequirement already satisfied: filelock in /databricks/python3/lib/python3.10/site-packages (from transformers==4.31.0->-r /tmp/tmp1lssr691/requirements.txt (line 5)) (3.6.0)\nRequirement already satisfied: Mako in /databricks/python3/lib/python3.10/site-packages (from alembic!=1.10.0,<2->mlflow==2.7.1->-r /tmp/tmp1lssr691/requirements.txt (line 1)) (1.2.0)\nRequirement already satisfied: oauthlib>=3.1.0 in /usr/lib/python3/dist-packages (from databricks-cli<1,>=0.8.7->mlflow==2.7.1->-r /tmp/tmp1lssr691/requirements.txt (line 1)) (3.2.0)\nRequirement already satisfied: six>=1.10.0 in /usr/lib/python3/dist-packages (from databricks-cli<1,>=0.8.7->mlflow==2.7.1->-r /tmp/tmp1lssr691/requirements.txt (line 1)) (1.16.0)\nRequirement already satisfied: pyjwt>=1.7.0 in /usr/lib/python3/dist-packages (from databricks-cli<1,>=0.8.7->mlflow==2.7.1->-r /tmp/tmp1lssr691/requirements.txt (line 1)) (2.3.0)\nRequirement already satisfied: tabulate>=0.7.7 in /databricks/python3/lib/python3.10/site-packages (from databricks-cli<1,>=0.8.7->mlflow==2.7.1->-r /tmp/tmp1lssr691/requirements.txt (line 1)) (0.8.10)\nRequirement already satisfied: urllib3<2.0.0,>=1.26.7 in /databricks/python3/lib/python3.10/site-packages (from databricks-cli<1,>=0.8.7->mlflow==2.7.1->-r /tmp/tmp1lssr691/requirements.txt (line 1)) (1.26.11)\nRequirement already satisfied: websocket-client>=0.32.0 in /databricks/python3/lib/python3.10/site-packages (from docker<7,>=4.0.0->mlflow==2.7.1->-r /tmp/tmp1lssr691/requirements.txt (line 1)) (0.58.0)\nRequirement already satisfied: Werkzeug>=0.15 in /databricks/python3/lib/python3.10/site-packages (from Flask<3->mlflow==2.7.1->-r /tmp/tmp1lssr691/requirements.txt (line 1)) (2.0.3)\nRequirement already satisfied: itsdangerous>=0.24 in /databricks/python3/lib/python3.10/site-packages (from Flask<3->mlflow==2.7.1->-r /tmp/tmp1lssr691/requirements.txt (line 1)) (2.0.1)\nRequirement already satisfied: gitdb<5,>=4.0.1 in /databricks/python3/lib/python3.10/site-packages (from gitpython<4,>=2.1.0->mlflow==2.7.1->-r /tmp/tmp1lssr691/requirements.txt (line 1)) (4.0.10)\nRequirement already satisfied: setuptools>=3.0 in /databricks/python3/lib/python3.10/site-packages (from gunicorn<22->mlflow==2.7.1->-r /tmp/tmp1lssr691/requirements.txt (line 1)) (63.4.1)\nRequirement already satisfied: fsspec in /databricks/python3/lib/python3.10/site-packages (from huggingface-hub<1.0,>=0.14.1->transformers==4.31.0->-r /tmp/tmp1lssr691/requirements.txt (line 5)) (2022.7.1)\nRequirement already satisfied: zipp>=0.5 in /databricks/python3/lib/python3.10/site-packages (from importlib-metadata!=4.7.0,<7,>=3.7.0->mlflow==2.7.1->-r /tmp/tmp1lssr691/requirements.txt (line 1)) (3.8.0)\nRequirement already satisfied: MarkupSafe>=0.23 in /databricks/python3/lib/python3.10/site-packages (from Jinja2<4,>=2.11->mlflow==2.7.1->-r /tmp/tmp1lssr691/requirements.txt (line 1)) (2.0.1)\nRequirement already satisfied: pyparsing>=2.2.1 in /databricks/python3/lib/python3.10/site-packages (from matplotlib<4->mlflow==2.7.1->-r /tmp/tmp1lssr691/requirements.txt (line 1)) (3.0.9)\nRequirement already satisfied: kiwisolver>=1.0.1 in /databricks/python3/lib/python3.10/site-packages (from matplotlib<4->mlflow==2.7.1->-r /tmp/tmp1lssr691/requirements.txt (line 1)) (1.4.2)\nRequirement already satisfied: cycler>=0.10 in /databricks/python3/lib/python3.10/site-packages (from matplotlib<4->mlflow==2.7.1->-r /tmp/tmp1lssr691/requirements.txt (line 1)) (0.11.0)\nRequirement already satisfied: python-dateutil>=2.7 in /databricks/python3/lib/python3.10/site-packages (from matplotlib<4->mlflow==2.7.1->-r /tmp/tmp1lssr691/requirements.txt (line 1)) (2.8.2)\nRequirement already satisfied: fonttools>=4.22.0 in /databricks/python3/lib/python3.10/site-packages (from matplotlib<4->mlflow==2.7.1->-r /tmp/tmp1lssr691/requirements.txt (line 1)) (4.25.0)\nRequirement already satisfied: idna<4,>=2.5 in /databricks/python3/lib/python3.10/site-packages (from requests<3,>=2.17.3->mlflow==2.7.1->-r /tmp/tmp1lssr691/requirements.txt (line 1)) (3.3)\nRequirement already satisfied: certifi>=2017.4.17 in /databricks/python3/lib/python3.10/site-packages (from requests<3,>=2.17.3->mlflow==2.7.1->-r /tmp/tmp1lssr691/requirements.txt (line 1)) (2022.9.14)\nRequirement already satisfied: charset-normalizer<3,>=2 in /databricks/python3/lib/python3.10/site-packages (from requests<3,>=2.17.3->mlflow==2.7.1->-r /tmp/tmp1lssr691/requirements.txt (line 1)) (2.0.4)\nRequirement already satisfied: joblib>=1.0.0 in /databricks/python3/lib/python3.10/site-packages (from scikit-learn<2->mlflow==2.7.1->-r /tmp/tmp1lssr691/requirements.txt (line 1)) (1.2.0)\nRequirement already satisfied: threadpoolctl>=2.0.0 in /databricks/python3/lib/python3.10/site-packages (from scikit-learn<2->mlflow==2.7.1->-r /tmp/tmp1lssr691/requirements.txt (line 1)) (2.2.0)\nRequirement already satisfied: greenlet!=0.4.17 in /databricks/python3/lib/python3.10/site-packages (from sqlalchemy<3,>=1.4.0->mlflow==2.7.1->-r /tmp/tmp1lssr691/requirements.txt (line 1)) (1.1.1)\nRequirement already satisfied: smmap<6,>=3.0.1 in /databricks/python3/lib/python3.10/site-packages (from gitdb<5,>=4.0.1->gitpython<4,>=2.1.0->mlflow==2.7.1->-r /tmp/tmp1lssr691/requirements.txt (line 1)) (5.0.0)\nInstalling collected packages: safetensors, querystring-parser, docker, alembic, accelerate, transformers, mlflow\n  Attempting uninstall: accelerate\n    Found existing installation: accelerate 0.19.0\n    Not uninstalling accelerate at /databricks/python3/lib/python3.10/site-packages, outside environment /local_disk0/.ephemeral_nfs/envs/pythonEnv-63ecef1c-7438-43ce-83d3-2f9897262097\n    Can't uninstall 'accelerate'. No files were found to uninstall.\n  Attempting uninstall: transformers\n    Found existing installation: transformers 4.29.2\n    Not uninstalling transformers at /databricks/python3/lib/python3.10/site-packages, outside environment /local_disk0/.ephemeral_nfs/envs/pythonEnv-63ecef1c-7438-43ce-83d3-2f9897262097\n    Can't uninstall 'transformers'. No files were found to uninstall.\nSuccessfully installed accelerate-0.20.3 alembic-1.12.1 docker-6.1.3 mlflow-2.7.1 querystring-parser-1.2.4 safetensors-0.4.0 transformers-4.31.0\n\u001B[43mNote: you may need to restart the kernel using dbutils.library.restartPython() to use updated packages.\u001B[0m\n"
     ]
    }
   ],
   "source": [
    "%pip install -r /tmp/tmp1lssr691/requirements.txt\n",
    "dbutils.library.restartPython() "
   ]
  },
  {
   "cell_type": "code",
   "execution_count": 0,
   "metadata": {
    "application/vnd.databricks.v1+cell": {
     "cellMetadata": {
      "byteLimit": 2048000,
      "rowLimit": 10000
     },
     "inputWidgets": {},
     "nuid": "98e7c27c-92f3-48a3-8147-b50ea92851a6",
     "showTitle": false,
     "title": ""
    }
   },
   "outputs": [
    {
     "output_type": "display_data",
     "data": {
      "application/vnd.jupyter.widget-view+json": {
       "model_id": "4c7bccd299634713b641f76ac4bea3de",
       "version_major": 2,
       "version_minor": 0
      },
      "text/plain": [
       "Downloading artifacts:   0%|          | 0/43 [00:00<?, ?it/s]"
      ]
     },
     "metadata": {},
     "output_type": "display_data"
    },
    {
     "output_type": "stream",
     "name": "stderr",
     "output_type": "stream",
     "text": [
      "2023/11/15 11:32:56 INFO mlflow.store.artifact.artifact_repo: The progress bar can be disabled by setting the environment variable MLFLOW_ENABLE_ARTIFACTS_PROGRESS_BAR to false\n"
     ]
    },
    {
     "output_type": "display_data",
     "data": {
      "application/vnd.jupyter.widget-view+json": {
       "model_id": "d74b8703361b4c7ab49af98b5823502c",
       "version_major": 2,
       "version_minor": 0
      },
      "text/plain": [
       "Downloading /local_disk0/.ephemeral_nfs/repl_tmp_data/ReplId-b96ac-307ad-f4a5e/mlflow/models/tmp8s_9zdi5/model…"
      ]
     },
     "metadata": {},
     "output_type": "display_data"
    },
    {
     "output_type": "display_data",
     "data": {
      "application/vnd.jupyter.widget-view+json": {
       "model_id": "4884082dd72949a69a1e3b57157136b0",
       "version_major": 2,
       "version_minor": 0
      },
      "text/plain": [
       "Downloading /local_disk0/.ephemeral_nfs/repl_tmp_data/ReplId-b96ac-307ad-f4a5e/mlflow/models/tmp8s_9zdi5/model…"
      ]
     },
     "metadata": {},
     "output_type": "display_data"
    },
    {
     "output_type": "display_data",
     "data": {
      "application/vnd.jupyter.widget-view+json": {
       "model_id": "a6ce7e8c035b471bb720ba079f3805be",
       "version_major": 2,
       "version_minor": 0
      },
      "text/plain": [
       "Downloading /local_disk0/.ephemeral_nfs/repl_tmp_data/ReplId-b96ac-307ad-f4a5e/mlflow/models/tmp8s_9zdi5/model…"
      ]
     },
     "metadata": {},
     "output_type": "display_data"
    },
    {
     "output_type": "display_data",
     "data": {
      "application/vnd.jupyter.widget-view+json": {
       "model_id": "04cbe477b1614bdca818f6bcdc8f62e1",
       "version_major": 2,
       "version_minor": 0
      },
      "text/plain": [
       "Downloading /local_disk0/.ephemeral_nfs/repl_tmp_data/ReplId-b96ac-307ad-f4a5e/mlflow/models/tmp8s_9zdi5/model…"
      ]
     },
     "metadata": {},
     "output_type": "display_data"
    },
    {
     "output_type": "display_data",
     "data": {
      "application/vnd.jupyter.widget-view+json": {
       "model_id": "cf346ba4c1fe44ada8d60ae37bfad342",
       "version_major": 2,
       "version_minor": 0
      },
      "text/plain": [
       "Downloading /local_disk0/.ephemeral_nfs/repl_tmp_data/ReplId-b96ac-307ad-f4a5e/mlflow/models/tmp8s_9zdi5/model…"
      ]
     },
     "metadata": {},
     "output_type": "display_data"
    },
    {
     "output_type": "display_data",
     "data": {
      "application/vnd.jupyter.widget-view+json": {
       "model_id": "641a281c0b2941d7a8b83688e6014ef1",
       "version_major": 2,
       "version_minor": 0
      },
      "text/plain": [
       "Downloading /local_disk0/.ephemeral_nfs/repl_tmp_data/ReplId-b96ac-307ad-f4a5e/mlflow/models/tmp8s_9zdi5/model…"
      ]
     },
     "metadata": {},
     "output_type": "display_data"
    },
    {
     "output_type": "display_data",
     "data": {
      "application/vnd.jupyter.widget-view+json": {
       "model_id": "7cbff880292e4432ac671d48e7a25e35",
       "version_major": 2,
       "version_minor": 0
      },
      "text/plain": [
       "Downloading /local_disk0/.ephemeral_nfs/repl_tmp_data/ReplId-b96ac-307ad-f4a5e/mlflow/models/tmp8s_9zdi5/model…"
      ]
     },
     "metadata": {},
     "output_type": "display_data"
    },
    {
     "output_type": "display_data",
     "data": {
      "application/vnd.jupyter.widget-view+json": {
       "model_id": "d62cf312639049d491c6490879935d0a",
       "version_major": 2,
       "version_minor": 0
      },
      "text/plain": [
       "Downloading /local_disk0/.ephemeral_nfs/repl_tmp_data/ReplId-b96ac-307ad-f4a5e/mlflow/models/tmp8s_9zdi5/model…"
      ]
     },
     "metadata": {},
     "output_type": "display_data"
    },
    {
     "output_type": "display_data",
     "data": {
      "application/vnd.jupyter.widget-view+json": {
       "model_id": "4c2ea313da0c481c94608805212e3043",
       "version_major": 2,
       "version_minor": 0
      },
      "text/plain": [
       "Downloading /local_disk0/.ephemeral_nfs/repl_tmp_data/ReplId-b96ac-307ad-f4a5e/mlflow/models/tmp8s_9zdi5/model…"
      ]
     },
     "metadata": {},
     "output_type": "display_data"
    },
    {
     "output_type": "display_data",
     "data": {
      "application/vnd.jupyter.widget-view+json": {
       "model_id": "d0476d87f3d443d0b78fe5543cecd219",
       "version_major": 2,
       "version_minor": 0
      },
      "text/plain": [
       "Downloading /local_disk0/.ephemeral_nfs/repl_tmp_data/ReplId-b96ac-307ad-f4a5e/mlflow/models/tmp8s_9zdi5/model…"
      ]
     },
     "metadata": {},
     "output_type": "display_data"
    },
    {
     "output_type": "display_data",
     "data": {
      "application/vnd.jupyter.widget-view+json": {
       "model_id": "a2c3384fef8a41e896fb86b5c639e9b4",
       "version_major": 2,
       "version_minor": 0
      },
      "text/plain": [
       "Downloading /local_disk0/.ephemeral_nfs/repl_tmp_data/ReplId-b96ac-307ad-f4a5e/mlflow/models/tmp8s_9zdi5/model…"
      ]
     },
     "metadata": {},
     "output_type": "display_data"
    },
    {
     "output_type": "display_data",
     "data": {
      "application/vnd.jupyter.widget-view+json": {
       "model_id": "c7c1db4260634e50ba8982aa31539054",
       "version_major": 2,
       "version_minor": 0
      },
      "text/plain": [
       "Downloading /local_disk0/.ephemeral_nfs/repl_tmp_data/ReplId-b96ac-307ad-f4a5e/mlflow/models/tmp8s_9zdi5/model…"
      ]
     },
     "metadata": {},
     "output_type": "display_data"
    },
    {
     "output_type": "display_data",
     "data": {
      "application/vnd.jupyter.widget-view+json": {
       "model_id": "72a47815937044e1b6357b4fb34566f5",
       "version_major": 2,
       "version_minor": 0
      },
      "text/plain": [
       "Downloading /local_disk0/.ephemeral_nfs/repl_tmp_data/ReplId-b96ac-307ad-f4a5e/mlflow/models/tmp8s_9zdi5/model…"
      ]
     },
     "metadata": {},
     "output_type": "display_data"
    },
    {
     "output_type": "display_data",
     "data": {
      "application/vnd.jupyter.widget-view+json": {
       "model_id": "61306b6811c04bb0ac60d39c78682844",
       "version_major": 2,
       "version_minor": 0
      },
      "text/plain": [
       "Downloading /local_disk0/.ephemeral_nfs/repl_tmp_data/ReplId-b96ac-307ad-f4a5e/mlflow/models/tmp8s_9zdi5/model…"
      ]
     },
     "metadata": {},
     "output_type": "display_data"
    },
    {
     "output_type": "display_data",
     "data": {
      "application/vnd.jupyter.widget-view+json": {
       "model_id": "437b982f8a5d4a50abd2b77514d0b170",
       "version_major": 2,
       "version_minor": 0
      },
      "text/plain": [
       "Downloading /local_disk0/.ephemeral_nfs/repl_tmp_data/ReplId-b96ac-307ad-f4a5e/mlflow/models/tmp8s_9zdi5/model…"
      ]
     },
     "metadata": {},
     "output_type": "display_data"
    },
    {
     "output_type": "display_data",
     "data": {
      "application/vnd.jupyter.widget-view+json": {
       "model_id": "6216cab974294dafa6ba7d9bca8668a0",
       "version_major": 2,
       "version_minor": 0
      },
      "text/plain": [
       "Downloading /local_disk0/.ephemeral_nfs/repl_tmp_data/ReplId-b96ac-307ad-f4a5e/mlflow/models/tmp8s_9zdi5/model…"
      ]
     },
     "metadata": {},
     "output_type": "display_data"
    },
    {
     "output_type": "display_data",
     "data": {
      "application/vnd.jupyter.widget-view+json": {
       "model_id": "afa20d3fb31a4ab18df2c5f98e36ea69",
       "version_major": 2,
       "version_minor": 0
      },
      "text/plain": [
       "Downloading /local_disk0/.ephemeral_nfs/repl_tmp_data/ReplId-b96ac-307ad-f4a5e/mlflow/models/tmp8s_9zdi5/model…"
      ]
     },
     "metadata": {},
     "output_type": "display_data"
    },
    {
     "output_type": "display_data",
     "data": {
      "application/vnd.jupyter.widget-view+json": {
       "model_id": "979d2717f7db4e48a2d452db9cc750cb",
       "version_major": 2,
       "version_minor": 0
      },
      "text/plain": [
       "Downloading /local_disk0/.ephemeral_nfs/repl_tmp_data/ReplId-b96ac-307ad-f4a5e/mlflow/models/tmp8s_9zdi5/model…"
      ]
     },
     "metadata": {},
     "output_type": "display_data"
    },
    {
     "output_type": "display_data",
     "data": {
      "application/vnd.jupyter.widget-view+json": {
       "model_id": "62c3bf14c40742c8ae8a80580af5359a",
       "version_major": 2,
       "version_minor": 0
      },
      "text/plain": [
       "Downloading /local_disk0/.ephemeral_nfs/repl_tmp_data/ReplId-b96ac-307ad-f4a5e/mlflow/models/tmp8s_9zdi5/model…"
      ]
     },
     "metadata": {},
     "output_type": "display_data"
    },
    {
     "output_type": "display_data",
     "data": {
      "application/vnd.jupyter.widget-view+json": {
       "model_id": "c218dc5d2b874823bb7545855385f326",
       "version_major": 2,
       "version_minor": 0
      },
      "text/plain": [
       "Downloading /local_disk0/.ephemeral_nfs/repl_tmp_data/ReplId-b96ac-307ad-f4a5e/mlflow/models/tmp8s_9zdi5/model…"
      ]
     },
     "metadata": {},
     "output_type": "display_data"
    },
    {
     "output_type": "display_data",
     "data": {
      "application/vnd.jupyter.widget-view+json": {
       "model_id": "8c9c773505074808bc30a2c9576b6dc3",
       "version_major": 2,
       "version_minor": 0
      },
      "text/plain": [
       "Downloading /local_disk0/.ephemeral_nfs/repl_tmp_data/ReplId-b96ac-307ad-f4a5e/mlflow/models/tmp8s_9zdi5/model…"
      ]
     },
     "metadata": {},
     "output_type": "display_data"
    },
    {
     "output_type": "display_data",
     "data": {
      "application/vnd.jupyter.widget-view+json": {
       "model_id": "ed28441897b24e53aae1c2721e5748d7",
       "version_major": 2,
       "version_minor": 0
      },
      "text/plain": [
       "Downloading /local_disk0/.ephemeral_nfs/repl_tmp_data/ReplId-b96ac-307ad-f4a5e/mlflow/models/tmp8s_9zdi5/model…"
      ]
     },
     "metadata": {},
     "output_type": "display_data"
    },
    {
     "output_type": "display_data",
     "data": {
      "application/vnd.jupyter.widget-view+json": {
       "model_id": "198b757eeede477296bceceeed881715",
       "version_major": 2,
       "version_minor": 0
      },
      "text/plain": [
       "Downloading /local_disk0/.ephemeral_nfs/repl_tmp_data/ReplId-b96ac-307ad-f4a5e/mlflow/models/tmp8s_9zdi5/model…"
      ]
     },
     "metadata": {},
     "output_type": "display_data"
    },
    {
     "output_type": "display_data",
     "data": {
      "application/vnd.jupyter.widget-view+json": {
       "model_id": "44d3506d8a274f8ea6e7adf760369d0c",
       "version_major": 2,
       "version_minor": 0
      },
      "text/plain": [
       "Downloading /local_disk0/.ephemeral_nfs/repl_tmp_data/ReplId-b96ac-307ad-f4a5e/mlflow/models/tmp8s_9zdi5/model…"
      ]
     },
     "metadata": {},
     "output_type": "display_data"
    },
    {
     "output_type": "display_data",
     "data": {
      "application/vnd.jupyter.widget-view+json": {
       "model_id": "47099454669c41d3a1c7dd5d8699bd83",
       "version_major": 2,
       "version_minor": 0
      },
      "text/plain": [
       "Downloading /local_disk0/.ephemeral_nfs/repl_tmp_data/ReplId-b96ac-307ad-f4a5e/mlflow/models/tmp8s_9zdi5/model…"
      ]
     },
     "metadata": {},
     "output_type": "display_data"
    },
    {
     "output_type": "display_data",
     "data": {
      "application/vnd.jupyter.widget-view+json": {
       "model_id": "6e847a18325a42709b4d75157305ddfc",
       "version_major": 2,
       "version_minor": 0
      },
      "text/plain": [
       "Downloading /local_disk0/.ephemeral_nfs/repl_tmp_data/ReplId-b96ac-307ad-f4a5e/mlflow/models/tmp8s_9zdi5/model…"
      ]
     },
     "metadata": {},
     "output_type": "display_data"
    },
    {
     "output_type": "display_data",
     "data": {
      "application/vnd.jupyter.widget-view+json": {
       "model_id": "eb1bf58f931c4563b5592ee8b2c7530f",
       "version_major": 2,
       "version_minor": 0
      },
      "text/plain": [
       "Downloading /local_disk0/.ephemeral_nfs/repl_tmp_data/ReplId-b96ac-307ad-f4a5e/mlflow/models/tmp8s_9zdi5/model…"
      ]
     },
     "metadata": {},
     "output_type": "display_data"
    },
    {
     "output_type": "stream",
     "name": "stderr",
     "output_type": "stream",
     "text": [
      "2023/11/15 11:33:36 WARNING mlflow.pyfunc: Calling `spark_udf()` with `env_manager=\"local\"` does not recreate the same environment that was used during training, which may lead to errors or inaccurate predictions. We recommend specifying `env_manager=\"conda\"`, which automatically recreates the environment that was used to train the model and performs inference in the recreated environment.\n"
     ]
    },
    {
     "output_type": "display_data",
     "data": {
      "application/vnd.jupyter.widget-view+json": {
       "model_id": "7863497f482b4ead96ee79432d47f3d6",
       "version_major": 2,
       "version_minor": 0
      },
      "text/plain": [
       "Downloading artifacts:   0%|          | 0/1 [00:00<?, ?it/s]"
      ]
     },
     "metadata": {},
     "output_type": "display_data"
    },
    {
     "output_type": "stream",
     "name": "stderr",
     "output_type": "stream",
     "text": [
      "2023/11/15 11:33:37 INFO mlflow.models.flavor_backend_registry: Selected backend for flavor 'python_function'\n"
     ]
    }
   ],
   "source": [
    "import mlflow\n",
    "\n",
    "mlflow.set_registry_uri(\"databricks-uc\")\n",
    "\n",
    "catalog_name = \"databricks_llama_2_models\" # Default catalog name when installing the model from Databricks Marketplace\n",
    "version = 1\n",
    "\n",
    "# Create a Spark UDF to generate the response to a prompt\n",
    "generate = mlflow.pyfunc.spark_udf(\n",
    "    spark, f\"models:/{catalog_name}.models.llama_2_13b_chat_hf/{version}\", \"string\"\n",
    ")"
   ]
  },
  {
   "cell_type": "code",
   "execution_count": 0,
   "metadata": {
    "application/vnd.databricks.v1+cell": {
     "cellMetadata": {
      "byteLimit": 2048000,
      "rowLimit": 10000
     },
     "inputWidgets": {},
     "nuid": "e5ce5a27-6448-418b-9d23-4ec1bc20fa36",
     "showTitle": false,
     "title": ""
    }
   },
   "outputs": [],
   "source": [
    "import pandas as pd\n",
    "\n",
    "# To have more than 1 input sequences in the same batch for inference, more GPU memory would be needed; swap to more powerful GPUs, or use Databricks Model Serving\n",
    "\n",
    "df = spark.createDataFrame(\n",
    "    pd.DataFrame(\n",
    "        {\n",
    "            \"text\": [\n",
    "                \"What is a large language model?\",\n",
    "                # \"Write a short announcement of Llama 2 models in Databricks Marketplace.\",\n",
    "            ]\n",
    "        }\n",
    "    )\n",
    ")\n",
    "display(df)\n",
    "\n",
    "generated_df = df.select(generate(df.text).alias(\"generated_text\"))\n",
    "display(generated_df)"
   ]
  },
  {
   "cell_type": "code",
   "execution_count": 0,
   "metadata": {
    "application/vnd.databricks.v1+cell": {
     "cellMetadata": {},
     "inputWidgets": {},
     "nuid": "9f9ce148-8e06-42b8-82d7-945fbeb170b6",
     "showTitle": false,
     "title": ""
    }
   },
   "outputs": [],
   "source": []
  }
 ],
 "metadata": {
  "application/vnd.databricks.v1+notebook": {
   "dashboards": [],
   "language": "python",
   "notebookMetadata": {
    "pythonIndentUnit": 4
   },
   "notebookName": "llama_13b_catalog",
   "widgets": {}
  }
 },
 "nbformat": 4,
 "nbformat_minor": 0
}
