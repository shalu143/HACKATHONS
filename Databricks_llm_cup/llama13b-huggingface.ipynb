{
 "cells": [
  {
   "cell_type": "code",
   "execution_count": 0,
   "metadata": {
    "application/vnd.databricks.v1+cell": {
     "cellMetadata": {
      "byteLimit": 2048000,
      "rowLimit": 10000
     },
     "inputWidgets": {},
     "nuid": "290cf663-432e-4e8c-97b0-ea1b55b20c1e",
     "showTitle": false,
     "title": ""
    }
   },
   "outputs": [
    {
     "output_type": "display_data",
     "data": {
      "application/vnd.jupyter.widget-view+json": {
       "model_id": "dfc6cc928c024523997f51daa2be3fec",
       "version_major": 2,
       "version_minor": 0
      },
      "text/plain": [
       "VBox(children=(HTML(value='<center> <img\\nsrc=https://huggingface.co/front/assets/huggingface_logo-noborder.sv…"
      ]
     },
     "metadata": {},
     "output_type": "display_data"
    }
   ],
   "source": [
    "from huggingface_hub import notebook_login\n",
    "\n",
    "# Login to Huggingface to get access to the model\n",
    "notebook_login()"
   ]
  },
  {
   "cell_type": "code",
   "execution_count": 0,
   "metadata": {
    "application/vnd.databricks.v1+cell": {
     "cellMetadata": {
      "byteLimit": 2048000,
      "rowLimit": 10000
     },
     "inputWidgets": {},
     "nuid": "534d937c-0e21-4cac-8887-27dde52f51d0",
     "showTitle": false,
     "title": ""
    }
   },
   "outputs": [
    {
     "output_type": "stream",
     "name": "stdout",
     "output_type": "stream",
     "text": [
      "\u001B[43mNote: you may need to restart the kernel using dbutils.library.restartPython() to use updated packages.\u001B[0m\nCollecting xformers\n  Downloading xformers-0.0.22.post7-cp310-cp310-manylinux2014_x86_64.whl (211.8 MB)\n     ━━━━━━━━━━━━━━━━━━━━━━━━━━━━━━━━━━━━━━ 211.8/211.8 MB 10.7 MB/s eta 0:00:00\nRequirement already satisfied: numpy in /databricks/python3/lib/python3.10/site-packages (from xformers) (1.21.5)\nCollecting torch==2.1.0\n  Downloading torch-2.1.0-cp310-cp310-manylinux1_x86_64.whl (670.2 MB)\n     ━━━━━━━━━━━━━━━━━━━━━━━━━━━━━━━━━━━━━━━ 670.2/670.2 MB 2.0 MB/s eta 0:00:00\nCollecting nvidia-cusolver-cu12==11.4.5.107\n  Downloading nvidia_cusolver_cu12-11.4.5.107-py3-none-manylinux1_x86_64.whl (124.2 MB)\n     ━━━━━━━━━━━━━━━━━━━━━━━━━━━━━━━━━━━━━━ 124.2/124.2 MB 18.3 MB/s eta 0:00:00\nCollecting nvidia-cuda-nvrtc-cu12==12.1.105\n  Downloading nvidia_cuda_nvrtc_cu12-12.1.105-py3-none-manylinux1_x86_64.whl (23.7 MB)\n     ━━━━━━━━━━━━━━━━━━━━━━━━━━━━━━━━━━━━━━━━ 23.7/23.7 MB 60.7 MB/s eta 0:00:00\nCollecting nvidia-cuda-runtime-cu12==12.1.105\n  Downloading nvidia_cuda_runtime_cu12-12.1.105-py3-none-manylinux1_x86_64.whl (823 kB)\n     ━━━━━━━━━━━━━━━━━━━━━━━━━━━━━━━━━━━━━━ 823.6/823.6 kB 68.8 MB/s eta 0:00:00\nCollecting nvidia-nvtx-cu12==12.1.105\n  Downloading nvidia_nvtx_cu12-12.1.105-py3-none-manylinux1_x86_64.whl (99 kB)\n     ━━━━━━━━━━━━━━━━━━━━━━━━━━━━━━━━━━━━━━━━ 99.1/99.1 kB 19.8 MB/s eta 0:00:00\nRequirement already satisfied: typing-extensions in /databricks/python3/lib/python3.10/site-packages (from torch==2.1.0->xformers) (4.3.0)\nRequirement already satisfied: fsspec in /databricks/python3/lib/python3.10/site-packages (from torch==2.1.0->xformers) (2022.7.1)\nCollecting nvidia-nccl-cu12==2.18.1\n  Downloading nvidia_nccl_cu12-2.18.1-py3-none-manylinux1_x86_64.whl (209.8 MB)\n     ━━━━━━━━━━━━━━━━━━━━━━━━━━━━━━━━━━━━━━ 209.8/209.8 MB 10.7 MB/s eta 0:00:00\nCollecting triton==2.1.0\n  Downloading triton-2.1.0-0-cp310-cp310-manylinux2014_x86_64.manylinux_2_17_x86_64.whl (89.2 MB)\n     ━━━━━━━━━━━━━━━━━━━━━━━━━━━━━━━━━━━━━━━━ 89.2/89.2 MB 24.9 MB/s eta 0:00:00\nRequirement already satisfied: jinja2 in /databricks/python3/lib/python3.10/site-packages (from torch==2.1.0->xformers) (2.11.3)\nCollecting nvidia-cublas-cu12==12.1.3.1\n  Downloading nvidia_cublas_cu12-12.1.3.1-py3-none-manylinux1_x86_64.whl (410.6 MB)\n     ━━━━━━━━━━━━━━━━━━━━━━━━━━━━━━━━━━━━━━━ 410.6/410.6 MB 3.7 MB/s eta 0:00:00\nRequirement already satisfied: networkx in /databricks/python3/lib/python3.10/site-packages (from torch==2.1.0->xformers) (2.8.4)\nCollecting nvidia-cusparse-cu12==12.1.0.106\n  Downloading nvidia_cusparse_cu12-12.1.0.106-py3-none-manylinux1_x86_64.whl (196.0 MB)\n     ━━━━━━━━━━━━━━━━━━━━━━━━━━━━━━━━━━━━━━ 196.0/196.0 MB 11.9 MB/s eta 0:00:00\nCollecting nvidia-cuda-cupti-cu12==12.1.105\n  Downloading nvidia_cuda_cupti_cu12-12.1.105-py3-none-manylinux1_x86_64.whl (14.1 MB)\n     ━━━━━━━━━━━━━━━━━━━━━━━━━━━━━━━━━━━━━━━━ 14.1/14.1 MB 88.5 MB/s eta 0:00:00\nRequirement already satisfied: filelock in /databricks/python3/lib/python3.10/site-packages (from torch==2.1.0->xformers) (3.6.0)\nCollecting nvidia-curand-cu12==10.3.2.106\n  Downloading nvidia_curand_cu12-10.3.2.106-py3-none-manylinux1_x86_64.whl (56.5 MB)\n     ━━━━━━━━━━━━━━━━━━━━━━━━━━━━━━━━━━━━━━━━ 56.5/56.5 MB 36.3 MB/s eta 0:00:00\nCollecting nvidia-cufft-cu12==11.0.2.54\n  Downloading nvidia_cufft_cu12-11.0.2.54-py3-none-manylinux1_x86_64.whl (121.6 MB)\n     ━━━━━━━━━━━━━━━━━━━━━━━━━━━━━━━━━━━━━━ 121.6/121.6 MB 18.6 MB/s eta 0:00:00\nCollecting nvidia-cudnn-cu12==8.9.2.26\n  Downloading nvidia_cudnn_cu12-8.9.2.26-py3-none-manylinux1_x86_64.whl (731.7 MB)\n     ━━━━━━━━━━━━━━━━━━━━━━━━━━━━━━━━━━━━━━━ 731.7/731.7 MB 1.7 MB/s eta 0:00:00\nCollecting sympy\n  Downloading sympy-1.12-py3-none-any.whl (5.7 MB)\n     ━━━━━━━━━━━━━━━━━━━━━━━━━━━━━━━━━━━━━━━━ 5.7/5.7 MB 27.4 MB/s eta 0:00:00\nCollecting nvidia-nvjitlink-cu12\n  Downloading nvidia_nvjitlink_cu12-12.3.101-py3-none-manylinux1_x86_64.whl (20.5 MB)\n     ━━━━━━━━━━━━━━━━━━━━━━━━━━━━━━━━━━━━━━━━ 20.5/20.5 MB 23.3 MB/s eta 0:00:00\nRequirement already satisfied: MarkupSafe>=0.23 in /databricks/python3/lib/python3.10/site-packages (from jinja2->torch==2.1.0->xformers) (2.0.1)\nCollecting mpmath>=0.19\n  Downloading mpmath-1.3.0-py3-none-any.whl (536 kB)\n     ━━━━━━━━━━━━━━━━━━━━━━━━━━━━━━━━━━━━━━━ 536.2/536.2 kB 5.3 MB/s eta 0:00:00\nInstalling collected packages: mpmath, triton, sympy, nvidia-nvtx-cu12, nvidia-nvjitlink-cu12, nvidia-nccl-cu12, nvidia-curand-cu12, nvidia-cufft-cu12, nvidia-cuda-runtime-cu12, nvidia-cuda-nvrtc-cu12, nvidia-cuda-cupti-cu12, nvidia-cublas-cu12, nvidia-cusparse-cu12, nvidia-cudnn-cu12, nvidia-cusolver-cu12, torch, xformers\n  Attempting uninstall: torch\n    Found existing installation: torch 1.13.1+cu117\n    Not uninstalling torch at /databricks/python3/lib/python3.10/site-packages, outside environment /local_disk0/.ephemeral_nfs/envs/pythonEnv-80a01a2d-56d6-43f7-83b0-c37ec57de8a5\n    Can't uninstall 'torch'. No files were found to uninstall.\nERROR: pip's dependency resolver does not currently take into account all the packages that are installed. This behaviour is the source of the following dependency conflicts.\ntorchvision 0.14.1+cu117 requires torch==1.13.1, but you have torch 2.1.0 which is incompatible.\nSuccessfully installed mpmath-1.3.0 nvidia-cublas-cu12-12.1.3.1 nvidia-cuda-cupti-cu12-12.1.105 nvidia-cuda-nvrtc-cu12-12.1.105 nvidia-cuda-runtime-cu12-12.1.105 nvidia-cudnn-cu12-8.9.2.26 nvidia-cufft-cu12-11.0.2.54 nvidia-curand-cu12-10.3.2.106 nvidia-cusolver-cu12-11.4.5.107 nvidia-cusparse-cu12-12.1.0.106 nvidia-nccl-cu12-2.18.1 nvidia-nvjitlink-cu12-12.3.101 nvidia-nvtx-cu12-12.1.105 sympy-1.12 torch-2.1.0 triton-2.1.0 xformers-0.0.22.post7\n\u001B[43mNote: you may need to restart the kernel using dbutils.library.restartPython() to use updated packages.\u001B[0m\n"
     ]
    }
   ],
   "source": [
    "%pip install xformers"
   ]
  },
  {
   "cell_type": "code",
   "execution_count": 0,
   "metadata": {
    "application/vnd.databricks.v1+cell": {
     "cellMetadata": {
      "byteLimit": 2048000,
      "rowLimit": 10000
     },
     "inputWidgets": {},
     "nuid": "d82f3ddf-190e-4ede-bc07-5bf937cc1d7f",
     "showTitle": false,
     "title": ""
    }
   },
   "outputs": [],
   "source": [
    "dbutils.library.restartPython()"
   ]
  },
  {
   "cell_type": "code",
   "execution_count": 0,
   "metadata": {
    "application/vnd.databricks.v1+cell": {
     "cellMetadata": {
      "byteLimit": 2048000,
      "rowLimit": 10000
     },
     "inputWidgets": {},
     "nuid": "0e4ec650-7efa-4156-a09a-8a973f0dc775",
     "showTitle": false,
     "title": ""
    }
   },
   "outputs": [
    {
     "output_type": "display_data",
     "data": {
      "application/vnd.jupyter.widget-view+json": {
       "model_id": "2fb87109964e4216aac410fff1fa1d1f",
       "version_major": 2,
       "version_minor": 0
      },
      "text/plain": [
       "Downloading tokenizer_config.json:   0%|          | 0.00/1.62k [00:00<?, ?B/s]"
      ]
     },
     "metadata": {},
     "output_type": "display_data"
    },
    {
     "output_type": "display_data",
     "data": {
      "application/vnd.jupyter.widget-view+json": {
       "model_id": "7aa70f3cd93344dcb466c78ec4758135",
       "version_major": 2,
       "version_minor": 0
      },
      "text/plain": [
       "Downloading tokenizer.model:   0%|          | 0.00/500k [00:00<?, ?B/s]"
      ]
     },
     "metadata": {},
     "output_type": "display_data"
    },
    {
     "output_type": "display_data",
     "data": {
      "application/vnd.jupyter.widget-view+json": {
       "model_id": "b445c6a744864b0ebc62bdd5de084978",
       "version_major": 2,
       "version_minor": 0
      },
      "text/plain": [
       "Downloading tokenizer.json:   0%|          | 0.00/1.84M [00:00<?, ?B/s]"
      ]
     },
     "metadata": {},
     "output_type": "display_data"
    },
    {
     "output_type": "display_data",
     "data": {
      "application/vnd.jupyter.widget-view+json": {
       "model_id": "d6d81334d52e4673b38eb0a20afae07c",
       "version_major": 2,
       "version_minor": 0
      },
      "text/plain": [
       "Downloading (…)cial_tokens_map.json:   0%|          | 0.00/414 [00:00<?, ?B/s]"
      ]
     },
     "metadata": {},
     "output_type": "display_data"
    },
    {
     "output_type": "display_data",
     "data": {
      "application/vnd.jupyter.widget-view+json": {
       "model_id": "4ef0e9fac7424a468c91e9cccda10acf",
       "version_major": 2,
       "version_minor": 0
      },
      "text/plain": [
       "Downloading config.json:   0%|          | 0.00/608 [00:00<?, ?B/s]"
      ]
     },
     "metadata": {},
     "output_type": "display_data"
    },
    {
     "output_type": "display_data",
     "data": {
      "application/vnd.jupyter.widget-view+json": {
       "model_id": "ccb62fbaf8414fda861120bfe245b7ee",
       "version_major": 2,
       "version_minor": 0
      },
      "text/plain": [
       "Downloading (…)model.bin.index.json:   0%|          | 0.00/33.4k [00:00<?, ?B/s]"
      ]
     },
     "metadata": {},
     "output_type": "display_data"
    },
    {
     "output_type": "display_data",
     "data": {
      "application/vnd.jupyter.widget-view+json": {
       "model_id": "6c4d13810c4042afa9564040fa7761eb",
       "version_major": 2,
       "version_minor": 0
      },
      "text/plain": [
       "Downloading shards:   0%|          | 0/3 [00:00<?, ?it/s]"
      ]
     },
     "metadata": {},
     "output_type": "display_data"
    },
    {
     "output_type": "display_data",
     "data": {
      "application/vnd.jupyter.widget-view+json": {
       "model_id": "490b223768bf4193a7e2d1861da11abb",
       "version_major": 2,
       "version_minor": 0
      },
      "text/plain": [
       "Downloading (…)l-00001-of-00003.bin:   0%|          | 0.00/9.95G [00:00<?, ?B/s]"
      ]
     },
     "metadata": {},
     "output_type": "display_data"
    },
    {
     "output_type": "display_data",
     "data": {
      "application/vnd.jupyter.widget-view+json": {
       "model_id": "ddb003118c754a6a832113df385a2a65",
       "version_major": 2,
       "version_minor": 0
      },
      "text/plain": [
       "Downloading (…)l-00002-of-00003.bin:   0%|          | 0.00/9.90G [00:00<?, ?B/s]"
      ]
     },
     "metadata": {},
     "output_type": "display_data"
    },
    {
     "output_type": "display_data",
     "data": {
      "application/vnd.jupyter.widget-view+json": {
       "model_id": "3207d960f9464e78b4bbc5c86039bcbf",
       "version_major": 2,
       "version_minor": 0
      },
      "text/plain": [
       "Downloading (…)l-00003-of-00003.bin:   0%|          | 0.00/6.18G [00:00<?, ?B/s]"
      ]
     },
     "metadata": {},
     "output_type": "display_data"
    },
    {
     "output_type": "display_data",
     "data": {
      "application/vnd.jupyter.widget-view+json": {
       "model_id": "a2908ae30124428a9c7514792c17f3bd",
       "version_major": 2,
       "version_minor": 0
      },
      "text/plain": [
       "Loading checkpoint shards:   0%|          | 0/3 [00:00<?, ?it/s]"
      ]
     },
     "metadata": {},
     "output_type": "display_data"
    },
    {
     "output_type": "display_data",
     "data": {
      "application/vnd.jupyter.widget-view+json": {
       "model_id": "8b3be4e3f25642e5afdf848fc42a23d6",
       "version_major": 2,
       "version_minor": 0
      },
      "text/plain": [
       "Downloading generation_config.json:   0%|          | 0.00/175 [00:00<?, ?B/s]"
      ]
     },
     "metadata": {},
     "output_type": "display_data"
    }
   ],
   "source": [
    "from transformers import AutoTokenizer, AutoModelForCausalLM\n",
    "import transformers\n",
    "import torch\n",
    "import os\n",
    "\n",
    "# it is suggested to pin the revision commit hash and not change it for reproducibility because the uploader might change the model afterwards; you can find the commmit history of Llama-2-13b-chat-hf in https://huggingface.co/meta-llama/Llama-2-13b-chat-hf/commits/main\n",
    "model = \"meta-llama/Llama-2-13b-chat-hf\"\n",
    "revision = \"4021a3b5608262f386b2bee683b6348e9228325d\"\n",
    "\n",
    "os.environ[\"CUDA_VISIBLE_DEVICES\"]=\"0\"\n",
    "device=torch.device(\"cuda\")\n",
    "tokenizer = AutoTokenizer.from_pretrained(model, padding_side=\"left\")\n",
    "pipeline = transformers.pipeline(\n",
    "    \"text-generation\",\n",
    "    model=model,\n",
    "    tokenizer=tokenizer,\n",
    "    torch_dtype=torch.bfloat16,\n",
    "    trust_remote_code=True,\n",
    "    revision=revision,\n",
    "    return_full_text=False\n",
    ")\n"
   ]
  },
  {
   "cell_type": "code",
   "execution_count": 0,
   "metadata": {
    "application/vnd.databricks.v1+cell": {
     "cellMetadata": {
      "byteLimit": 2048000,
      "rowLimit": 10000
     },
     "inputWidgets": {},
     "nuid": "43cf3f99-a617-4bf1-ba9d-a6820a131b49",
     "showTitle": false,
     "title": ""
    }
   },
   "outputs": [],
   "source": [
    "pipeline.tokenizer.pad_token_id = tokenizer.eos_token_id\n",
    "\n",
    "# COMMAND ----------\n",
    "\n",
    "# Define prompt template, the format below is from: http://fastml.com/how-to-train-your-own-chatgpt-alpaca-style-part-one/\n",
    "\n",
    "# Prompt templates as follows could guide the model to follow instructions and respond to the input, and empirically it turns out to make Falcon models produce better responses\n",
    "\n",
    "INSTRUCTION_KEY = \"### Instruction:\"\n",
    "RESPONSE_KEY = \"### Response:\"\n",
    "INTRO_BLURB = \"Below is an instruction that describes a task. Write a response that appropriately completes the request.\"\n",
    "PROMPT_FOR_GENERATION_FORMAT = \"\"\"{intro}\n",
    "{instruction_key}\n",
    "{instruction}\n",
    "{response_key}\n",
    "\"\"\".format(\n",
    "    intro=INTRO_BLURB,\n",
    "    instruction_key=INSTRUCTION_KEY,\n",
    "    instruction=\"{instruction}\",\n",
    "    response_key=RESPONSE_KEY,\n",
    ")\n"
   ]
  },
  {
   "cell_type": "code",
   "execution_count": 0,
   "metadata": {
    "application/vnd.databricks.v1+cell": {
     "cellMetadata": {
      "byteLimit": 2048000,
      "rowLimit": 10000
     },
     "inputWidgets": {},
     "nuid": "e5e9c84b-8ed2-4a5c-a774-5bab3da95122",
     "showTitle": false,
     "title": ""
    }
   },
   "outputs": [],
   "source": [
    "def gen_text(prompts, use_template=False, **kwargs):\n",
    "    print(prompts)\n",
    "    if use_template:\n",
    "        full_prompts = [\n",
    "            PROMPT_FOR_GENERATION_FORMAT.format(instruction=prompt)\n",
    "            for prompt in prompts\n",
    "        ]\n",
    "    else:\n",
    "        full_prompts = prompts\n",
    "\n",
    "    if \"batch_size\" not in kwargs:\n",
    "        kwargs[\"batch_size\"] = 1\n",
    "    \n",
    "    # the default max length is pretty small (20), which would cut the generated output in the middle, so it's necessary to increase the threshold to the complete response\n",
    "    if \"max_new_tokens\" not in kwargs:\n",
    "        kwargs[\"max_new_tokens\"] = 1000\n",
    "\n",
    "    # configure other text generation arguments, see common configurable args here: https://huggingface.co/docs/transformers/main_classes/text_generation#transformers.GenerationConfig\n",
    "    kwargs.update(\n",
    "        {\n",
    "            \"pad_token_id\": tokenizer.eos_token_id,  # Hugging Face sets pad_token_id to eos_token_id by default; setting here to not see redundant message\n",
    "            \"eos_token_id\": tokenizer.eos_token_id,\n",
    "        }\n",
    "    )\n",
    "\n",
    "    outputs = pipeline(full_prompts, **kwargs)\n",
    "    print(outputs)\n",
    "    #outputs = [out[0][\"generated_text\"] for out in outputs]\n",
    "    out=outputs[0][\"generated_text\"]\n",
    "\n",
    "    return out\n"
   ]
  },
  {
   "cell_type": "code",
   "execution_count": 0,
   "metadata": {
    "application/vnd.databricks.v1+cell": {
     "cellMetadata": {
      "byteLimit": 2048000,
      "rowLimit": 10000
     },
     "inputWidgets": {},
     "nuid": "4bdaad18-c2db-40ec-b613-c3b7b6084124",
     "showTitle": false,
     "title": ""
    }
   },
   "outputs": [
    {
     "output_type": "display_data",
     "data": {
      "text/plain": [
       "Enter the command in hindi:  एचडीएफसी बैंक में खाता खोलने की प्रक्रिया क्या है? हिंदी में उत्तर दीजिए"
      ]
     },
     "metadata": {},
     "output_type": "display_data"
    },
    {
     "output_type": "stream",
     "name": "stdout",
     "output_type": "stream",
     "text": [
      "एचडीएफसी बैंक में खाता खोलने की प्रक्रिया क्या है? हिंदी में उत्तर दीजिए\n"
     ]
    },
    {
     "output_type": "stream",
     "name": "stderr",
     "output_type": "stream",
     "text": [
      "/databricks/python/lib/python3.10/site-packages/transformers/generation/utils.py:1255: UserWarning: You have modified the pretrained model configuration to control generation. This is a deprecated strategy to control generation and will be removed soon, in a future version. Please use a generation configuration file (see https://huggingface.co/docs/transformers/main_classes/text_generation)\n  warnings.warn(\n"
     ]
    },
    {
     "output_type": "stream",
     "name": "stdout",
     "output_type": "stream",
     "text": [
      "[{'generated_text': \"!\\n\\nTo open a current account in HDFC Bank, follow these steps:\\n\\n1. Visit the nearest HDFC Bank branch: You can find the nearest branch by visiting the HDFC Bank website and using the branch locator tool.\\n2. Collect the account opening forms: You can either collect the account opening forms from the branch or download them from the HDFC Bank website.\\n3. Fill the forms: Fill the account opening forms with accurate and complete information. You will need to provide personal and financial information, such as your name, address, date of birth, income, and employment details.\\n4. Attach documents: Attach the required documents, such as your identity proof, address proof, and proof of income, to the account opening forms.\\n5. Submit the forms: Submit the filled and signed account opening forms and documents to the branch.\\n6. Verification: The bank will verify your information and documents.\\n7. Account opening: Once your account is opened, you will receive a welcome kit and a debit card.\\n\\nNote: The account opening process and documents required may vary based on the type of account and your location. It's best to check with the bank or visit their website for the most up-to-date information.\"}]\n!\n\nTo open a current account in HDFC Bank, follow these steps:\n\n1. Visit the nearest HDFC Bank branch: You can find the nearest branch by visiting the HDFC Bank website and using the branch locator tool.\n2. Collect the account opening forms: You can either collect the account opening forms from the branch or download them from the HDFC Bank website.\n3. Fill the forms: Fill the account opening forms with accurate and complete information. You will need to provide personal and financial information, such as your name, address, date of birth, income, and employment details.\n4. Attach documents: Attach the required documents, such as your identity proof, address proof, and proof of income, to the account opening forms.\n5. Submit the forms: Submit the filled and signed account opening forms and documents to the branch.\n6. Verification: The bank will verify your information and documents.\n7. Account opening: Once your account is opened, you will receive a welcome kit and a debit card.\n\nNote: The account opening process and documents required may vary based on the type of account and your location. It's best to check with the bank or visit their website for the most up-to-date information.\n"
     ]
    }
   ],
   "source": [
    "val = input(\"Enter the command in hindi: \")\n",
    "results = gen_text(val)\n",
    "print(results)"
   ]
  },
  {
   "cell_type": "code",
   "execution_count": 0,
   "metadata": {
    "application/vnd.databricks.v1+cell": {
     "cellMetadata": {},
     "inputWidgets": {},
     "nuid": "f69c5322-b167-4bc2-80a1-8f6583ca9158",
     "showTitle": false,
     "title": ""
    }
   },
   "outputs": [],
   "source": [
    "def result_llm(string):\n",
    "    results=gen_text(string)\n",
    "    prompt=\"\"\"Translate the given text to Hindi langauge\n",
    "                 '''{}'''\n",
    "      \"\"\". format(results)\n",
    "\n",
    "    results_1= gen_text(prompt)\n",
    "    return(results_1)"
   ]
  },
  {
   "cell_type": "code",
   "execution_count": 0,
   "metadata": {
    "application/vnd.databricks.v1+cell": {
     "cellMetadata": {},
     "inputWidgets": {},
     "nuid": "430f022d-d558-436a-804c-e4cffbaabc52",
     "showTitle": false,
     "title": ""
    }
   },
   "outputs": [],
   "source": [
    "prompt=\"\"\"Translate the given text to Hindi langauge\n",
    "                 '''{}'''\n",
    "      \"\"\". format(results)"
   ]
  },
  {
   "cell_type": "code",
   "execution_count": 0,
   "metadata": {
    "application/vnd.databricks.v1+cell": {
     "cellMetadata": {
      "byteLimit": 2048000,
      "rowLimit": 10000
     },
     "inputWidgets": {},
     "nuid": "81bbf7c6-bc98-4929-951a-a0c33c98244c",
     "showTitle": false,
     "title": ""
    }
   },
   "outputs": [
    {
     "output_type": "stream",
     "name": "stdout",
     "output_type": "stream",
     "text": [
      "['What is the interest rate of hdfc bank?']\n[\"\\nHDFC Bank offers a wide range of interest rates on its deposit products, including savings accounts, fixed deposits, and recurring deposits. The interest rates offered by HDFC Bank are subject to change from time to time, and they may vary based on the deposit amount, tenure, and other factors.\\n\\nAs of March 2023, the interest rates offered by HDFC Bank on its savings accounts are as follows:\\n\\n* Balance up to ₹50 lakh: 3.50% p.a.\\n* Balance above ₹50 lakh: 4.00% p.a.\\n\\nThe interest rates offered by HDFC Bank on its fixed deposits are as follows:\\n\\n* Tenure: 7 days to 10 years\\n* Deposit amount: ₹1 lakh to ₹1 crore\\n* Interest rate: 3.50% p.a. to 6.50% p.a.\\n\\nThe interest rates offered by HDFC Bank on its recurring deposits are as follows:\\n\\n* Tenure: 12 months to 120 months\\n* Deposit amount: ₹1 lakh to ₹1 crore\\n* Interest rate: 3.50% p.a. to 6.50% p.a.\\n\\nIt's important to note that these interest rates are subject to change, and you should check the current interest rates offered by HDFC Bank before opening a deposit account. Additionally, interest rates may vary based on the location and the type of account you open.\"]\n"
     ]
    }
   ],
   "source": [
    "results = gen_text([val])\n",
    "print(results)"
   ]
  },
  {
   "cell_type": "code",
   "execution_count": 0,
   "metadata": {
    "application/vnd.databricks.v1+cell": {
     "cellMetadata": {
      "byteLimit": 2048000,
      "rowLimit": 10000
     },
     "inputWidgets": {},
     "nuid": "74051f95-7a44-4f2a-9254-4c2710a02d59",
     "showTitle": false,
     "title": ""
    }
   },
   "outputs": [],
   "source": [
    "results=['A large language model is a type of artificial intelligence (AI) model that is trained on a large dataset of text to generate language outputs that are coherent and natural-sounding']"
   ]
  },
  {
   "cell_type": "code",
   "execution_count": 0,
   "metadata": {
    "application/vnd.databricks.v1+cell": {
     "cellMetadata": {
      "byteLimit": 2048000,
      "rowLimit": 10000
     },
     "inputWidgets": {},
     "nuid": "4d7e14b2-895d-4e4b-9cd3-204585b31c40",
     "showTitle": false,
     "title": ""
    }
   },
   "outputs": [
    {
     "output_type": "execute_result",
     "data": {
      "text/plain": [
       "'Translate the given text to Hindi langauge A large language model is a type of artificial intelligence (AI) model that is trained on a large dataset of text to generate language outputs that are coherent and natural-sounding'"
      ]
     },
     "execution_count": 23,
     "metadata": {},
     "output_type": "execute_result"
    }
   ],
   "source": [
    "'Translate the given text to Hindi langauge'+\" \"+results[0]"
   ]
  },
  {
   "cell_type": "code",
   "execution_count": 0,
   "metadata": {
    "application/vnd.databricks.v1+cell": {
     "cellMetadata": {
      "byteLimit": 2048000,
      "rowLimit": 10000
     },
     "inputWidgets": {},
     "nuid": "51a0d4a3-b385-4876-984d-3c92be54c705",
     "showTitle": false,
     "title": ""
    }
   },
   "outputs": [
    {
     "output_type": "stream",
     "name": "stdout",
     "output_type": "stream",
     "text": [
      "[\"Translate the below text to Hindi langauge\\n                 '''The current interest rate offered by HDFC Bank on home loans varies based on several factors such as loan amount, loan tenure, and credit score. However, as of March 2023, the starting interest rate for HDFC Bank home loans is around 8.75% per annum for women borrowers and around 9.25% per annum for male borrowers. It is advisable to check the current interest rates and other terms and conditions on the HDFC Bank website or by visiting a nearby HDFC Bank branch'''\\n\"]\n"
     ]
    },
    {
     "output_type": "stream",
     "name": "stderr",
     "output_type": "stream",
     "text": [
      "/databricks/python/lib/python3.10/site-packages/transformers/generation/utils.py:1255: UserWarning: You have modified the pretrained model configuration to control generation. This is a deprecated strategy to control generation and will be removed soon, in a future version. Please use a generation configuration file (see https://huggingface.co/docs/transformers/main_classes/text_generation)\n  warnings.warn(\n"
     ]
    }
   ],
   "source": [
    "results_1 = gen_text([\"\"\"Translate the below text to Hindi langauge\n",
    "                 '''The current interest rate offered by HDFC Bank on home loans varies based on several factors such as loan amount, loan tenure, and credit score. However, as of March 2023, the starting interest rate for HDFC Bank home loans is around 8.75% per annum for women borrowers and around 9.25% per annum for male borrowers. It is advisable to check the current interest rates and other terms and conditions on the HDFC Bank website or by visiting a nearby HDFC Bank branch'''\n",
    "\"\"\"])"
   ]
  },
  {
   "cell_type": "code",
   "execution_count": 0,
   "metadata": {
    "application/vnd.databricks.v1+cell": {
     "cellMetadata": {
      "byteLimit": 2048000,
      "rowLimit": 10000
     },
     "inputWidgets": {},
     "nuid": "0f4f33e0-13e0-434c-9a50-e97869593e25",
     "showTitle": false,
     "title": ""
    }
   },
   "outputs": [
    {
     "output_type": "stream",
     "name": "stdout",
     "output_type": "stream",
     "text": [
      "['\\n                 के लिए हड़ताल होम लोन के लिए हड़ताल बैंक द्वारा सर्विस के लिए कई संभावनाएं हैं, जैसे लोन संख्या, लोन तिथि और क्रेडिट सकोर. परंतु, मार्च 2023 में, HDFC बैंक होम लोन के लिए सर्विस के लिए अपने स्तर के दाम होंगे, जहां महिलाओं के लिए उम्मीद दाम 8.75% प्रति वर्ष होगा और मężczyzn के लिए 9.25% प्रति वर्ष होगा. यह आवश्यक है कि हड़ताल बैंक के ऑफिसियल वेबसाइट पर या नजीब हड़ताल बैंक ब्रांच का दौरा करके ताजा दाम और अन्य संबधीय शर्तें की ताजा की जाएं.']\n"
     ]
    }
   ],
   "source": [
    "print(results_1)"
   ]
  },
  {
   "cell_type": "code",
   "execution_count": 0,
   "metadata": {
    "application/vnd.databricks.v1+cell": {
     "cellMetadata": {
      "byteLimit": 2048000,
      "rowLimit": 10000
     },
     "inputWidgets": {},
     "nuid": "873c9ec6-246e-4f25-8b65-3c2c7a1aae9c",
     "showTitle": false,
     "title": ""
    }
   },
   "outputs": [
    {
     "output_type": "stream",
     "name": "stderr",
     "output_type": "stream",
     "text": [
      "/databricks/python/lib/python3.10/site-packages/transformers/generation/utils.py:1255: UserWarning: You have modified the pretrained model configuration to control generation. This is a deprecated strategy to control generation and will be removed soon, in a future version. Please use a generation configuration file (see https://huggingface.co/docs/transformers/main_classes/text_generation)\n  warnings.warn(\n"
     ]
    },
    {
     "output_type": "stream",
     "name": "stdout",
     "output_type": "stream",
     "text": [
      "\n\nAnswer: The current interest rate offered by HDFC Bank on home loans varies based on several factors such as loan amount, loan tenure, and credit score. However, as of March 2023, the starting interest rate for HDFC Bank home loans is around 8.75% per annum for women borrowers and around 9.25% per annum for male borrowers. It is advisable to check the current interest rates and other terms and conditions on the HDFC Bank website or by visiting a nearby HDFC Bank branch.\n"
     ]
    }
   ],
   "source": [
    "results_1 = gen_text([\"एचडीएफसी बैंक की वर्तमान ब्याज दर क्या है?\"])\n",
    "print(results_1[0])"
   ]
  },
  {
   "cell_type": "code",
   "execution_count": 0,
   "metadata": {
    "application/vnd.databricks.v1+cell": {
     "cellMetadata": {
      "byteLimit": 2048000,
      "rowLimit": 10000
     },
     "inputWidgets": {},
     "nuid": "48a50f1e-bf33-4d3f-983e-6d4cdc7460b2",
     "showTitle": false,
     "title": ""
    }
   },
   "outputs": [
    {
     "output_type": "stream",
     "name": "stdout",
     "output_type": "stream",
     "text": [
      "['एचडीएफसी बैंक में खाता खोलने की प्रक्रिया क्या है? हिंदी में उत्तर दीजिए']\n!\n\nTo open a current account in HDFC Bank, follow these steps:\n\n1. Visit the nearest HDFC Bank branch: You can find the nearest branch by visiting the HDFC Bank website and using the branch locator tool.\n2. Collect the account opening forms: You can either collect the account opening forms from the branch or download them from the HDFC Bank website.\n3. Fill in the forms: Fill in the account opening forms with your personal and financial information. You will need to provide your name, address, date of birth, income details, and other relevant information.\n4. Attach documents: Attach the required documents such as your identity proof, address proof, and proof of income. The bank may also require additional documents based on your occupation or business type.\n5. Submit the forms and documents: Submit the filled-in forms and documents to the branch. The bank's representative will review your application and verify your documents.\n6. Wait for approval: The bank will review your application and verify your documents. Once your application is approved, you will be notified and your account will be opened.\n7. Deposit the minimum balance: You may be required to deposit a minimum balance to open the account. This amount may vary based on the type of account you choose.\n8. Get your debit card and account statement: Once your account is opened, you will receive your debit card and account statement. You can use your debit card to make transactions and check your account balance.\n\nNote: The account opening process and documents required may vary based on the type of account you choose and your location. It's best to check with the HDFC Bank branch or website for the most up-to-date information.\n"
     ]
    }
   ],
   "source": [
    "results_1 = gen_text([\"एचडीएफसी बैंक में खाता खोलने की प्रक्रिया क्या है? हिंदी में उत्तर दीजिए\"])\n",
    "print(results_1[0])"
   ]
  },
  {
   "cell_type": "code",
   "execution_count": 0,
   "metadata": {
    "application/vnd.databricks.v1+cell": {
     "cellMetadata": {
      "byteLimit": 2048000,
      "rowLimit": 10000
     },
     "inputWidgets": {},
     "nuid": "b379b87a-6536-49d0-9852-25d6dbbdfd7a",
     "showTitle": false,
     "title": ""
    }
   },
   "outputs": [
    {
     "output_type": "stream",
     "name": "stdout",
     "output_type": "stream",
     "text": [
      "\n                 # Step 1: Extract the text to be translated\n                 text = '''To open a current account in HDFC Bank, you can follow these steps:\n1. Visit the nearest HDFC Bank branch: You can find the nearest branch by visiting the HDFC Bank website and using the branch locator tool.\n2. Collect the account opening forms: You can collect the account opening forms and other required documents from the branch or download them from the HDFC Bank website.'''\n\n                 # Step 2: Translate the text to Hindi\n                 translation = translate(text, src='en', dest='hi')\n\n                 # Step 3: Print the translated text\n                 print(translation)\n\n                 # Output\n                 # हDFC बैंक में CURRENT खाता खोलने के लिए यह करें:\n                 # 1. HDFC बैंक के निर्विहीन ब्रांच को विजित करें: हDFC बैंक के वेबसाइट पर विजित करें और ब्रांच लोकेटर टूल का उपयोग करें.\n                 # 2. खाता खोलने के लिए फॉर्म संज्ञा करें: ब्रांच से या हDFC बैंक के वेबसाइट पर डाउनलोड करें खाता खोलने के लिए आवश्यक दस्तावेज़ और फॉर्म संज्ञा.\n\nAs you can see, the translated text is in Hindi language. The `translate()` function takes two arguments: `text` which is the text to be translated, and `src` and `dest` which specify the source and destination languages respectively. In this case, we have set `src='en'` for English and `dest='hi'` for Hindi.\n"
     ]
    }
   ],
   "source": [
    "results_2 = gen_text([\"\"\"Translate the given text to Hindi langauge\n",
    "                 '''To open a current account in HDFC Bank, you can follow these steps:\n",
    "1. Visit the nearest HDFC Bank branch: You can find the nearest branch by visiting the HDFC Bank website and using the branch locator tool.\n",
    "2. Collect the account opening forms: You can collect the account opening forms and other required documents from the branch or download them from the HDFC Bank website.\n",
    "'''\n",
    "\"\"\"], max_new_tokens=1000)\n",
    "\n",
    "print(results_2[0])"
   ]
  },
  {
   "cell_type": "code",
   "execution_count": 0,
   "metadata": {
    "application/vnd.databricks.v1+cell": {
     "cellMetadata": {},
     "inputWidgets": {},
     "nuid": "04761cc2-58b6-40c5-8ea3-fd58d628c3bf",
     "showTitle": false,
     "title": ""
    }
   },
   "outputs": [],
   "source": [
    "###Make end-to-end\n",
    "##1. relevalant to hdfc bank (couple of queries) and banking\n",
    "##2. general query, non banking (hypertension, commom people ask , not technical)\n",
    "##Test out the pipeline"
   ]
  }
 ],
 "metadata": {
  "application/vnd.databricks.v1+notebook": {
   "dashboards": [],
   "language": "python",
   "notebookMetadata": {
    "pythonIndentUnit": 4
   },
   "notebookName": "llama13b-huggingface",
   "widgets": {}
  }
 },
 "nbformat": 4,
 "nbformat_minor": 0
}
