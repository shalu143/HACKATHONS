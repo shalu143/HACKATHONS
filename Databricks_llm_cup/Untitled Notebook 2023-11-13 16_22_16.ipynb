{
 "cells": [
  {
   "cell_type": "code",
   "execution_count": 0,
   "metadata": {
    "application/vnd.databricks.v1+cell": {
     "cellMetadata": {
      "byteLimit": 2048000,
      "rowLimit": 10000
     },
     "inputWidgets": {},
     "nuid": "89701e14-27cd-4698-8a8f-d5a1345f9d25",
     "showTitle": false,
     "title": ""
    }
   },
   "outputs": [
    {
     "output_type": "stream",
     "name": "stdout",
     "output_type": "stream",
     "text": [
      "\u001B[43mNote: you may need to restart the kernel using dbutils.library.restartPython() to use updated packages.\u001B[0m\nRequirement already satisfied: mlflow-skinny[databricks]>=2.4.1 in /databricks/python3/lib/python3.10/site-packages (2.5.0)\nCollecting mlflow-skinny[databricks]>=2.4.1\n  Using cached mlflow_skinny-2.8.0-py3-none-any.whl (4.6 MB)\nRequirement already satisfied: click<9,>=7.0 in /databricks/python3/lib/python3.10/site-packages (from mlflow-skinny[databricks]>=2.4.1) (8.0.4)\nRequirement already satisfied: protobuf<5,>=3.12.0 in /databricks/python3/lib/python3.10/site-packages (from mlflow-skinny[databricks]>=2.4.1) (3.19.4)\nRequirement already satisfied: entrypoints<1 in /databricks/python3/lib/python3.10/site-packages (from mlflow-skinny[databricks]>=2.4.1) (0.4)\nRequirement already satisfied: pyyaml<7,>=5.1 in /databricks/python3/lib/python3.10/site-packages (from mlflow-skinny[databricks]>=2.4.1) (6.0)\nRequirement already satisfied: packaging<24 in /databricks/python3/lib/python3.10/site-packages (from mlflow-skinny[databricks]>=2.4.1) (21.3)\nRequirement already satisfied: cloudpickle<3 in /databricks/python3/lib/python3.10/site-packages (from mlflow-skinny[databricks]>=2.4.1) (2.0.0)\nRequirement already satisfied: pytz<2024 in /databricks/python3/lib/python3.10/site-packages (from mlflow-skinny[databricks]>=2.4.1) (2022.1)\nRequirement already satisfied: importlib-metadata!=4.7.0,<7,>=3.7.0 in /databricks/python3/lib/python3.10/site-packages (from mlflow-skinny[databricks]>=2.4.1) (4.11.3)\nRequirement already satisfied: requests<3,>=2.17.3 in /databricks/python3/lib/python3.10/site-packages (from mlflow-skinny[databricks]>=2.4.1) (2.28.1)\nRequirement already satisfied: gitpython<4,>=2.1.0 in /databricks/python3/lib/python3.10/site-packages (from mlflow-skinny[databricks]>=2.4.1) (3.1.27)\nRequirement already satisfied: databricks-cli<1,>=0.8.7 in /databricks/python3/lib/python3.10/site-packages (from mlflow-skinny[databricks]>=2.4.1) (0.17.7)\nRequirement already satisfied: sqlparse<1,>=0.4.0 in /databricks/python3/lib/python3.10/site-packages (from mlflow-skinny[databricks]>=2.4.1) (0.4.2)\nRequirement already satisfied: boto3>1 in /databricks/python3/lib/python3.10/site-packages (from mlflow-skinny[databricks]>=2.4.1) (1.24.28)\nRequirement already satisfied: azure-storage-file-datalake>12 in /databricks/python3/lib/python3.10/site-packages (from mlflow-skinny[databricks]>=2.4.1) (12.12.0)\nRequirement already satisfied: google-cloud-storage>=1.30.0 in /databricks/python3/lib/python3.10/site-packages (from mlflow-skinny[databricks]>=2.4.1) (2.10.0)\nRequirement already satisfied: isodate>=0.6.1 in /databricks/python3/lib/python3.10/site-packages (from azure-storage-file-datalake>12->mlflow-skinny[databricks]>=2.4.1) (0.6.1)\nRequirement already satisfied: azure-storage-blob<13.0.0,>=12.17.0 in /databricks/python3/lib/python3.10/site-packages (from azure-storage-file-datalake>12->mlflow-skinny[databricks]>=2.4.1) (12.17.0)\nRequirement already satisfied: typing-extensions>=4.3.0 in /databricks/python3/lib/python3.10/site-packages (from azure-storage-file-datalake>12->mlflow-skinny[databricks]>=2.4.1) (4.3.0)\nRequirement already satisfied: azure-core<2.0.0,>=1.28.0 in /databricks/python3/lib/python3.10/site-packages (from azure-storage-file-datalake>12->mlflow-skinny[databricks]>=2.4.1) (1.29.1)\nRequirement already satisfied: jmespath<2.0.0,>=0.7.1 in /databricks/python3/lib/python3.10/site-packages (from boto3>1->mlflow-skinny[databricks]>=2.4.1) (0.10.0)\nRequirement already satisfied: s3transfer<0.7.0,>=0.6.0 in /databricks/python3/lib/python3.10/site-packages (from boto3>1->mlflow-skinny[databricks]>=2.4.1) (0.6.0)\nRequirement already satisfied: botocore<1.28.0,>=1.27.28 in /databricks/python3/lib/python3.10/site-packages (from boto3>1->mlflow-skinny[databricks]>=2.4.1) (1.27.28)\nRequirement already satisfied: six>=1.10.0 in /usr/lib/python3/dist-packages (from databricks-cli<1,>=0.8.7->mlflow-skinny[databricks]>=2.4.1) (1.16.0)\nRequirement already satisfied: pyjwt>=1.7.0 in /usr/lib/python3/dist-packages (from databricks-cli<1,>=0.8.7->mlflow-skinny[databricks]>=2.4.1) (2.3.0)\nRequirement already satisfied: oauthlib>=3.1.0 in /usr/lib/python3/dist-packages (from databricks-cli<1,>=0.8.7->mlflow-skinny[databricks]>=2.4.1) (3.2.0)\nRequirement already satisfied: urllib3<2.0.0,>=1.26.7 in /databricks/python3/lib/python3.10/site-packages (from databricks-cli<1,>=0.8.7->mlflow-skinny[databricks]>=2.4.1) (1.26.11)\nRequirement already satisfied: tabulate>=0.7.7 in /databricks/python3/lib/python3.10/site-packages (from databricks-cli<1,>=0.8.7->mlflow-skinny[databricks]>=2.4.1) (0.8.10)\nRequirement already satisfied: gitdb<5,>=4.0.1 in /databricks/python3/lib/python3.10/site-packages (from gitpython<4,>=2.1.0->mlflow-skinny[databricks]>=2.4.1) (4.0.10)\nRequirement already satisfied: google-api-core!=2.0.*,!=2.1.*,!=2.2.*,!=2.3.0,<3.0.0dev,>=1.31.5 in /databricks/python3/lib/python3.10/site-packages (from google-cloud-storage>=1.30.0->mlflow-skinny[databricks]>=2.4.1) (2.8.2)\nRequirement already satisfied: google-auth<3.0dev,>=1.25.0 in /databricks/python3/lib/python3.10/site-packages (from google-cloud-storage>=1.30.0->mlflow-skinny[databricks]>=2.4.1) (1.33.0)\nRequirement already satisfied: google-resumable-media>=2.3.2 in /databricks/python3/lib/python3.10/site-packages (from google-cloud-storage>=1.30.0->mlflow-skinny[databricks]>=2.4.1) (2.5.0)\nRequirement already satisfied: google-cloud-core<3.0dev,>=2.3.0 in /databricks/python3/lib/python3.10/site-packages (from google-cloud-storage>=1.30.0->mlflow-skinny[databricks]>=2.4.1) (2.3.3)\nRequirement already satisfied: zipp>=0.5 in /databricks/python3/lib/python3.10/site-packages (from importlib-metadata!=4.7.0,<7,>=3.7.0->mlflow-skinny[databricks]>=2.4.1) (3.8.0)\nRequirement already satisfied: pyparsing!=3.0.5,>=2.0.2 in /databricks/python3/lib/python3.10/site-packages (from packaging<24->mlflow-skinny[databricks]>=2.4.1) (3.0.9)\nRequirement already satisfied: certifi>=2017.4.17 in /databricks/python3/lib/python3.10/site-packages (from requests<3,>=2.17.3->mlflow-skinny[databricks]>=2.4.1) (2022.9.14)\nRequirement already satisfied: idna<4,>=2.5 in /databricks/python3/lib/python3.10/site-packages (from requests<3,>=2.17.3->mlflow-skinny[databricks]>=2.4.1) (3.3)\nRequirement already satisfied: charset-normalizer<3,>=2 in /databricks/python3/lib/python3.10/site-packages (from requests<3,>=2.17.3->mlflow-skinny[databricks]>=2.4.1) (2.0.4)\nRequirement already satisfied: cryptography>=2.1.4 in /databricks/python3/lib/python3.10/site-packages (from azure-storage-blob<13.0.0,>=12.17.0->azure-storage-file-datalake>12->mlflow-skinny[databricks]>=2.4.1) (37.0.1)\nRequirement already satisfied: python-dateutil<3.0.0,>=2.1 in /databricks/python3/lib/python3.10/site-packages (from botocore<1.28.0,>=1.27.28->boto3>1->mlflow-skinny[databricks]>=2.4.1) (2.8.2)\nRequirement already satisfied: smmap<6,>=3.0.1 in /databricks/python3/lib/python3.10/site-packages (from gitdb<5,>=4.0.1->gitpython<4,>=2.1.0->mlflow-skinny[databricks]>=2.4.1) (5.0.0)\nRequirement already satisfied: googleapis-common-protos<2.0dev,>=1.56.2 in /databricks/python3/lib/python3.10/site-packages (from google-api-core!=2.0.*,!=2.1.*,!=2.2.*,!=2.3.0,<3.0.0dev,>=1.31.5->google-cloud-storage>=1.30.0->mlflow-skinny[databricks]>=2.4.1) (1.56.4)\nRequirement already satisfied: cachetools<5.0,>=2.0.0 in /databricks/python3/lib/python3.10/site-packages (from google-auth<3.0dev,>=1.25.0->google-cloud-storage>=1.30.0->mlflow-skinny[databricks]>=2.4.1) (4.2.4)\nRequirement already satisfied: setuptools>=40.3.0 in /databricks/python3/lib/python3.10/site-packages (from google-auth<3.0dev,>=1.25.0->google-cloud-storage>=1.30.0->mlflow-skinny[databricks]>=2.4.1) (63.4.1)\nRequirement already satisfied: rsa<5,>=3.1.4 in /databricks/python3/lib/python3.10/site-packages (from google-auth<3.0dev,>=1.25.0->google-cloud-storage>=1.30.0->mlflow-skinny[databricks]>=2.4.1) (4.9)\nRequirement already satisfied: pyasn1-modules>=0.2.1 in /databricks/python3/lib/python3.10/site-packages (from google-auth<3.0dev,>=1.25.0->google-cloud-storage>=1.30.0->mlflow-skinny[databricks]>=2.4.1) (0.2.8)\nRequirement already satisfied: google-crc32c<2.0dev,>=1.0 in /databricks/python3/lib/python3.10/site-packages (from google-resumable-media>=2.3.2->google-cloud-storage>=1.30.0->mlflow-skinny[databricks]>=2.4.1) (1.5.0)\nRequirement already satisfied: cffi>=1.12 in /databricks/python3/lib/python3.10/site-packages (from cryptography>=2.1.4->azure-storage-blob<13.0.0,>=12.17.0->azure-storage-file-datalake>12->mlflow-skinny[databricks]>=2.4.1) (1.15.1)\nRequirement already satisfied: pyasn1<0.5.0,>=0.4.6 in /databricks/python3/lib/python3.10/site-packages (from pyasn1-modules>=0.2.1->google-auth<3.0dev,>=1.25.0->google-cloud-storage>=1.30.0->mlflow-skinny[databricks]>=2.4.1) (0.4.8)\nRequirement already satisfied: pycparser in /databricks/python3/lib/python3.10/site-packages (from cffi>=1.12->cryptography>=2.1.4->azure-storage-blob<13.0.0,>=12.17.0->azure-storage-file-datalake>12->mlflow-skinny[databricks]>=2.4.1) (2.21)\nInstalling collected packages: mlflow-skinny\n  Attempting uninstall: mlflow-skinny\n    Found existing installation: mlflow-skinny 2.5.0\n    Not uninstalling mlflow-skinny at /databricks/python3/lib/python3.10/site-packages, outside environment /local_disk0/.ephemeral_nfs/envs/pythonEnv-d3d87368-350e-4c5c-914c-768beb997a53\n    Can't uninstall 'mlflow-skinny'. No files were found to uninstall.\nERROR: pip's dependency resolver does not currently take into account all the packages that are installed. This behaviour is the source of the following dependency conflicts.\ndatabricks-feature-store 0.14.1 requires pyspark<4,>=3.1.2, which is not installed.\nSuccessfully installed mlflow-skinny-2.8.0\n\u001B[43mNote: you may need to restart the kernel using dbutils.library.restartPython() to use updated packages.\u001B[0m\n"
     ]
    }
   ],
   "source": [
    "%pip install --upgrade \"mlflow-skinny[databricks]>=2.4.1\"\n",
    "dbutils.library.restartPython()"
   ]
  },
  {
   "cell_type": "code",
   "execution_count": 0,
   "metadata": {
    "application/vnd.databricks.v1+cell": {
     "cellMetadata": {
      "byteLimit": 2048000,
      "rowLimit": 10000
     },
     "inputWidgets": {},
     "nuid": "3255d2d0-44a1-47c3-9537-3e5764908dae",
     "showTitle": false,
     "title": ""
    }
   },
   "outputs": [
    {
     "output_type": "display_data",
     "data": {
      "application/vnd.jupyter.widget-view+json": {
       "model_id": "07a6b389298240a2811f50d4e18f3c37",
       "version_major": 2,
       "version_minor": 0
      },
      "text/plain": [
       "Downloading artifacts:   0%|          | 0/29 [00:00<?, ?it/s]"
      ]
     },
     "metadata": {},
     "output_type": "display_data"
    },
    {
     "output_type": "stream",
     "name": "stderr",
     "output_type": "stream",
     "text": [
      "2023/11/15 07:34:43 INFO mlflow.store.artifact.artifact_repo: The progress bar can be disabled by setting the environment variable MLFLOW_ENABLE_ARTIFACTS_PROGRESS_BAR to false\n"
     ]
    },
    {
     "output_type": "display_data",
     "data": {
      "application/vnd.jupyter.widget-view+json": {
       "model_id": "9c074422f70d42308654e957da64a8bd",
       "version_major": 2,
       "version_minor": 0
      },
      "text/plain": [
       "Downloading /tmp/tmppuybkjtm/model/pytorch_model-00003-of-00014.bin:   0%|          | 0.00/922M [00:00<?, ?iB/…"
      ]
     },
     "metadata": {},
     "output_type": "display_data"
    },
    {
     "output_type": "display_data",
     "data": {
      "application/vnd.jupyter.widget-view+json": {
       "model_id": "21b7ac546f1141c08775ee0f5349fa4b",
       "version_major": 2,
       "version_minor": 0
      },
      "text/plain": [
       "Downloading /tmp/tmppuybkjtm/model/pytorch_model-00001-of-00014.bin:   0%|          | 0.00/936M [00:00<?, ?iB/…"
      ]
     },
     "metadata": {},
     "output_type": "display_data"
    },
    {
     "output_type": "display_data",
     "data": {
      "application/vnd.jupyter.widget-view+json": {
       "model_id": "c36f6174aec04f8f9f2e86fa95cef3a6",
       "version_major": 2,
       "version_minor": 0
      },
      "text/plain": [
       "Downloading /tmp/tmppuybkjtm/model/pytorch_model-00005-of-00014.bin:   0%|          | 0.00/900M [00:00<?, ?iB/…"
      ]
     },
     "metadata": {},
     "output_type": "display_data"
    },
    {
     "output_type": "display_data",
     "data": {
      "application/vnd.jupyter.widget-view+json": {
       "model_id": "9c8e233b414e4637a5aaedf5ec0155f8",
       "version_major": 2,
       "version_minor": 0
      },
      "text/plain": [
       "Downloading /tmp/tmppuybkjtm/model/pytorch_model-00014-of-00014.bin:   0%|          | 0.00/808M [00:00<?, ?iB/…"
      ]
     },
     "metadata": {},
     "output_type": "display_data"
    },
    {
     "output_type": "display_data",
     "data": {
      "application/vnd.jupyter.widget-view+json": {
       "model_id": "9543b3f1abc3407baaaa84bb1474bdc4",
       "version_major": 2,
       "version_minor": 0
      },
      "text/plain": [
       "Downloading /tmp/tmppuybkjtm/model/pytorch_model-00002-of-00014.bin:   0%|          | 0.00/922M [00:00<?, ?iB/…"
      ]
     },
     "metadata": {},
     "output_type": "display_data"
    },
    {
     "output_type": "display_data",
     "data": {
      "application/vnd.jupyter.widget-view+json": {
       "model_id": "a959eaf28d32400bbb2c3a786281c0e8",
       "version_major": 2,
       "version_minor": 0
      },
      "text/plain": [
       "Downloading /tmp/tmppuybkjtm/model/pytorch_model-00011-of-00014.bin:   0%|          | 0.00/944M [00:00<?, ?iB/…"
      ]
     },
     "metadata": {},
     "output_type": "display_data"
    },
    {
     "output_type": "display_data",
     "data": {
      "application/vnd.jupyter.widget-view+json": {
       "model_id": "57f73558d8b342b192cfaf6568b8bfa8",
       "version_major": 2,
       "version_minor": 0
      },
      "text/plain": [
       "Downloading /tmp/tmppuybkjtm/model/pytorch_model-00013-of-00014.bin:   0%|          | 0.00/922M [00:00<?, ?iB/…"
      ]
     },
     "metadata": {},
     "output_type": "display_data"
    },
    {
     "output_type": "display_data",
     "data": {
      "application/vnd.jupyter.widget-view+json": {
       "model_id": "d984630a0f174067b8456bdbeb1341d6",
       "version_major": 2,
       "version_minor": 0
      },
      "text/plain": [
       "Downloading /tmp/tmppuybkjtm/model/pytorch_model-00007-of-00014.bin:   0%|          | 0.00/922M [00:00<?, ?iB/…"
      ]
     },
     "metadata": {},
     "output_type": "display_data"
    },
    {
     "output_type": "display_data",
     "data": {
      "application/vnd.jupyter.widget-view+json": {
       "model_id": "df27e2d663fb460c9bdbb6f9049a8625",
       "version_major": 2,
       "version_minor": 0
      },
      "text/plain": [
       "Downloading /tmp/tmppuybkjtm/model/pytorch_model-00004-of-00014.bin:   0%|          | 0.00/944M [00:00<?, ?iB/…"
      ]
     },
     "metadata": {},
     "output_type": "display_data"
    },
    {
     "output_type": "display_data",
     "data": {
      "application/vnd.jupyter.widget-view+json": {
       "model_id": "36875114a0f445209ba419cc665e04f1",
       "version_major": 2,
       "version_minor": 0
      },
      "text/plain": [
       "Downloading /tmp/tmppuybkjtm/model/pytorch_model-00009-of-00014.bin:   0%|          | 0.00/944M [00:00<?, ?iB/…"
      ]
     },
     "metadata": {},
     "output_type": "display_data"
    },
    {
     "output_type": "display_data",
     "data": {
      "application/vnd.jupyter.widget-view+json": {
       "model_id": "ea684be9256149508139f803311da893",
       "version_major": 2,
       "version_minor": 0
      },
      "text/plain": [
       "Downloading /tmp/tmppuybkjtm/model/pytorch_model-00008-of-00014.bin:   0%|          | 0.00/922M [00:00<?, ?iB/…"
      ]
     },
     "metadata": {},
     "output_type": "display_data"
    },
    {
     "output_type": "display_data",
     "data": {
      "application/vnd.jupyter.widget-view+json": {
       "model_id": "2e10d3ab0d3346f186ce824dcdb67213",
       "version_major": 2,
       "version_minor": 0
      },
      "text/plain": [
       "Downloading /tmp/tmppuybkjtm/model/pytorch_model-00006-of-00014.bin:   0%|          | 0.00/944M [00:00<?, ?iB/…"
      ]
     },
     "metadata": {},
     "output_type": "display_data"
    },
    {
     "output_type": "display_data",
     "data": {
      "application/vnd.jupyter.widget-view+json": {
       "model_id": "d41098ab0fb546288d174c0754b1c5b9",
       "version_major": 2,
       "version_minor": 0
      },
      "text/plain": [
       "Downloading /tmp/tmppuybkjtm/model/pytorch_model-00010-of-00014.bin:   0%|          | 0.00/900M [00:00<?, ?iB/…"
      ]
     },
     "metadata": {},
     "output_type": "display_data"
    },
    {
     "output_type": "display_data",
     "data": {
      "application/vnd.jupyter.widget-view+json": {
       "model_id": "d8cd2d1ee10b4f47a223686a91d3d2f6",
       "version_major": 2,
       "version_minor": 0
      },
      "text/plain": [
       "Downloading /tmp/tmppuybkjtm/model/pytorch_model-00012-of-00014.bin:   0%|          | 0.00/922M [00:00<?, ?iB/…"
      ]
     },
     "metadata": {},
     "output_type": "display_data"
    },
    {
     "output_type": "stream",
     "name": "stderr",
     "output_type": "stream",
     "text": [
      "2023/11/15 07:35:09 INFO mlflow.pyfunc: To install the dependencies that were used to train the model, run the following command: '%pip install -r /tmp/tmppuybkjtm/requirements.txt'.\n"
     ]
    },
    {
     "output_type": "execute_result",
     "data": {
      "text/plain": [
       "'/tmp/tmppuybkjtm/requirements.txt'"
      ]
     },
     "execution_count": 3,
     "metadata": {},
     "output_type": "execute_result"
    }
   ],
   "source": [
    "import mlflow\n",
    "\n",
    "mlflow.set_registry_uri(\"databricks-uc\")\n",
    "\n",
    "catalog_name = \"databricks_llama_2_models\" # Default catalog name when installing the model from Databricks Marketplace\n",
    "version = 1\n",
    "\n",
    "\n",
    "mlflow.pyfunc.get_model_dependencies(f\"models:/{catalog_name}.models.llama_2_7b_chat_hf/{version}\")"
   ]
  },
  {
   "cell_type": "code",
   "execution_count": 0,
   "metadata": {
    "application/vnd.databricks.v1+cell": {
     "cellMetadata": {
      "byteLimit": 2048000,
      "rowLimit": 10000
     },
     "inputWidgets": {},
     "nuid": "c092e0ff-40fb-4c93-8d6b-3daaae56e910",
     "showTitle": false,
     "title": ""
    }
   },
   "outputs": [
    {
     "output_type": "stream",
     "name": "stdout",
     "output_type": "stream",
     "text": [
      "\u001B[43mNote: you may need to restart the kernel using dbutils.library.restartPython() to use updated packages.\u001B[0m\nCollecting mlflow==2.7.1\n  Downloading mlflow-2.7.1-py3-none-any.whl (18.5 MB)\n     ━━━━━━━━━━━━━━━━━━━━━━━━━━━━━━━━━━━━━━━━ 18.5/18.5 MB 42.8 MB/s eta 0:00:00\nRequirement already satisfied: accelerate==0.20.3 in /databricks/python3/lib/python3.10/site-packages (from -r /tmp/tmppuybkjtm/requirements.txt (line 2)) (0.20.3)\nRequirement already satisfied: torch==1.13.1 in /databricks/python3/lib/python3.10/site-packages (from -r /tmp/tmppuybkjtm/requirements.txt (line 3)) (1.13.1+cu117)\nRequirement already satisfied: torchvision==0.14.1 in /databricks/python3/lib/python3.10/site-packages (from -r /tmp/tmppuybkjtm/requirements.txt (line 4)) (0.14.1+cu117)\nCollecting transformers==4.31.0\n  Downloading transformers-4.31.0-py3-none-any.whl (7.4 MB)\n     ━━━━━━━━━━━━━━━━━━━━━━━━━━━━━━━━━━━━━━━━ 7.4/7.4 MB 58.9 MB/s eta 0:00:00\nRequirement already satisfied: importlib-metadata!=4.7.0,<7,>=3.7.0 in /databricks/python3/lib/python3.10/site-packages (from mlflow==2.7.1->-r /tmp/tmppuybkjtm/requirements.txt (line 1)) (4.11.3)\nRequirement already satisfied: pandas<3 in /databricks/python3/lib/python3.10/site-packages (from mlflow==2.7.1->-r /tmp/tmppuybkjtm/requirements.txt (line 1)) (1.4.4)\nCollecting querystring-parser<2\n  Downloading querystring_parser-1.2.4-py2.py3-none-any.whl (7.9 kB)\nRequirement already satisfied: pyarrow<14,>=4.0.0 in /databricks/python3/lib/python3.10/site-packages (from mlflow==2.7.1->-r /tmp/tmppuybkjtm/requirements.txt (line 1)) (8.0.0)\nRequirement already satisfied: Jinja2<4,>=2.11 in /databricks/python3/lib/python3.10/site-packages (from mlflow==2.7.1->-r /tmp/tmppuybkjtm/requirements.txt (line 1)) (2.11.3)\nRequirement already satisfied: sqlalchemy<3,>=1.4.0 in /databricks/python3/lib/python3.10/site-packages (from mlflow==2.7.1->-r /tmp/tmppuybkjtm/requirements.txt (line 1)) (1.4.39)\nRequirement already satisfied: packaging<24 in /databricks/python3/lib/python3.10/site-packages (from mlflow==2.7.1->-r /tmp/tmppuybkjtm/requirements.txt (line 1)) (21.3)\nRequirement already satisfied: databricks-cli<1,>=0.8.7 in /databricks/python3/lib/python3.10/site-packages (from mlflow==2.7.1->-r /tmp/tmppuybkjtm/requirements.txt (line 1)) (0.17.7)\nRequirement already satisfied: requests<3,>=2.17.3 in /databricks/python3/lib/python3.10/site-packages (from mlflow==2.7.1->-r /tmp/tmppuybkjtm/requirements.txt (line 1)) (2.28.1)\nRequirement already satisfied: gunicorn<22 in /databricks/python3/lib/python3.10/site-packages (from mlflow==2.7.1->-r /tmp/tmppuybkjtm/requirements.txt (line 1)) (20.1.0)\nRequirement already satisfied: sqlparse<1,>=0.4.0 in /databricks/python3/lib/python3.10/site-packages (from mlflow==2.7.1->-r /tmp/tmppuybkjtm/requirements.txt (line 1)) (0.4.2)\nRequirement already satisfied: click<9,>=7.0 in /databricks/python3/lib/python3.10/site-packages (from mlflow==2.7.1->-r /tmp/tmppuybkjtm/requirements.txt (line 1)) (8.0.4)\nRequirement already satisfied: gitpython<4,>=2.1.0 in /databricks/python3/lib/python3.10/site-packages (from mlflow==2.7.1->-r /tmp/tmppuybkjtm/requirements.txt (line 1)) (3.1.27)\nRequirement already satisfied: matplotlib<4 in /databricks/python3/lib/python3.10/site-packages (from mlflow==2.7.1->-r /tmp/tmppuybkjtm/requirements.txt (line 1)) (3.5.2)\nRequirement already satisfied: pyyaml<7,>=5.1 in /databricks/python3/lib/python3.10/site-packages (from mlflow==2.7.1->-r /tmp/tmppuybkjtm/requirements.txt (line 1)) (6.0)\nRequirement already satisfied: markdown<4,>=3.3 in /databricks/python3/lib/python3.10/site-packages (from mlflow==2.7.1->-r /tmp/tmppuybkjtm/requirements.txt (line 1)) (3.3.4)\nRequirement already satisfied: entrypoints<1 in /databricks/python3/lib/python3.10/site-packages (from mlflow==2.7.1->-r /tmp/tmppuybkjtm/requirements.txt (line 1)) (0.4)\nRequirement already satisfied: pytz<2024 in /databricks/python3/lib/python3.10/site-packages (from mlflow==2.7.1->-r /tmp/tmppuybkjtm/requirements.txt (line 1)) (2022.1)\nRequirement already satisfied: protobuf<5,>=3.12.0 in /databricks/python3/lib/python3.10/site-packages (from mlflow==2.7.1->-r /tmp/tmppuybkjtm/requirements.txt (line 1)) (3.19.4)\nRequirement already satisfied: cloudpickle<3 in /databricks/python3/lib/python3.10/site-packages (from mlflow==2.7.1->-r /tmp/tmppuybkjtm/requirements.txt (line 1)) (2.0.0)\nRequirement already satisfied: Flask<3 in /databricks/python3/lib/python3.10/site-packages (from mlflow==2.7.1->-r /tmp/tmppuybkjtm/requirements.txt (line 1)) (1.1.2+db1)\nRequirement already satisfied: numpy<2 in /databricks/python3/lib/python3.10/site-packages (from mlflow==2.7.1->-r /tmp/tmppuybkjtm/requirements.txt (line 1)) (1.21.5)\nRequirement already satisfied: scikit-learn<2 in /databricks/python3/lib/python3.10/site-packages (from mlflow==2.7.1->-r /tmp/tmppuybkjtm/requirements.txt (line 1)) (1.1.1)\nCollecting alembic!=1.10.0,<2\n  Downloading alembic-1.12.1-py3-none-any.whl (226 kB)\n     ━━━━━━━━━━━━━━━━━━━━━━━━━━━━━━━━━━━━━━━ 226.8/226.8 kB 1.8 MB/s eta 0:00:00\nRequirement already satisfied: scipy<2 in /databricks/python3/lib/python3.10/site-packages (from mlflow==2.7.1->-r /tmp/tmppuybkjtm/requirements.txt (line 1)) (1.9.1)\nCollecting docker<7,>=4.0.0\n  Downloading docker-6.1.3-py3-none-any.whl (148 kB)\n     ━━━━━━━━━━━━━━━━━━━━━━━━━━━━━━━━━━━━━ 148.1/148.1 kB 979.9 kB/s eta 0:00:00\nRequirement already satisfied: psutil in /databricks/python3/lib/python3.10/site-packages (from accelerate==0.20.3->-r /tmp/tmppuybkjtm/requirements.txt (line 2)) (5.9.0)\nRequirement already satisfied: typing-extensions in /databricks/python3/lib/python3.10/site-packages (from torch==1.13.1->-r /tmp/tmppuybkjtm/requirements.txt (line 3)) (4.3.0)\nRequirement already satisfied: pillow!=8.3.*,>=5.3.0 in /databricks/python3/lib/python3.10/site-packages (from torchvision==0.14.1->-r /tmp/tmppuybkjtm/requirements.txt (line 4)) (9.2.0)\nRequirement already satisfied: tokenizers!=0.11.3,<0.14,>=0.11.1 in /databricks/python3/lib/python3.10/site-packages (from transformers==4.31.0->-r /tmp/tmppuybkjtm/requirements.txt (line 5)) (0.13.3)\nRequirement already satisfied: regex!=2019.12.17 in /databricks/python3/lib/python3.10/site-packages (from transformers==4.31.0->-r /tmp/tmppuybkjtm/requirements.txt (line 5)) (2022.7.9)\nRequirement already satisfied: huggingface-hub<1.0,>=0.14.1 in /databricks/python3/lib/python3.10/site-packages (from transformers==4.31.0->-r /tmp/tmppuybkjtm/requirements.txt (line 5)) (0.16.4)\nRequirement already satisfied: safetensors>=0.3.1 in /databricks/python3/lib/python3.10/site-packages (from transformers==4.31.0->-r /tmp/tmppuybkjtm/requirements.txt (line 5)) (0.3.2)\nRequirement already satisfied: tqdm>=4.27 in /databricks/python3/lib/python3.10/site-packages (from transformers==4.31.0->-r /tmp/tmppuybkjtm/requirements.txt (line 5)) (4.64.1)\nRequirement already satisfied: filelock in /databricks/python3/lib/python3.10/site-packages (from transformers==4.31.0->-r /tmp/tmppuybkjtm/requirements.txt (line 5)) (3.6.0)\nRequirement already satisfied: Mako in /databricks/python3/lib/python3.10/site-packages (from alembic!=1.10.0,<2->mlflow==2.7.1->-r /tmp/tmppuybkjtm/requirements.txt (line 1)) (1.2.0)\nRequirement already satisfied: six>=1.10.0 in /usr/lib/python3/dist-packages (from databricks-cli<1,>=0.8.7->mlflow==2.7.1->-r /tmp/tmppuybkjtm/requirements.txt (line 1)) (1.16.0)\nRequirement already satisfied: urllib3<2.0.0,>=1.26.7 in /databricks/python3/lib/python3.10/site-packages (from databricks-cli<1,>=0.8.7->mlflow==2.7.1->-r /tmp/tmppuybkjtm/requirements.txt (line 1)) (1.26.11)\nRequirement already satisfied: oauthlib>=3.1.0 in /usr/lib/python3/dist-packages (from databricks-cli<1,>=0.8.7->mlflow==2.7.1->-r /tmp/tmppuybkjtm/requirements.txt (line 1)) (3.2.0)\nRequirement already satisfied: pyjwt>=1.7.0 in /usr/lib/python3/dist-packages (from databricks-cli<1,>=0.8.7->mlflow==2.7.1->-r /tmp/tmppuybkjtm/requirements.txt (line 1)) (2.3.0)\nRequirement already satisfied: tabulate>=0.7.7 in /databricks/python3/lib/python3.10/site-packages (from databricks-cli<1,>=0.8.7->mlflow==2.7.1->-r /tmp/tmppuybkjtm/requirements.txt (line 1)) (0.8.10)\nRequirement already satisfied: websocket-client>=0.32.0 in /databricks/python3/lib/python3.10/site-packages (from docker<7,>=4.0.0->mlflow==2.7.1->-r /tmp/tmppuybkjtm/requirements.txt (line 1)) (0.58.0)\nRequirement already satisfied: Werkzeug>=0.15 in /databricks/python3/lib/python3.10/site-packages (from Flask<3->mlflow==2.7.1->-r /tmp/tmppuybkjtm/requirements.txt (line 1)) (2.0.3)\nRequirement already satisfied: itsdangerous>=0.24 in /databricks/python3/lib/python3.10/site-packages (from Flask<3->mlflow==2.7.1->-r /tmp/tmppuybkjtm/requirements.txt (line 1)) (2.0.1)\nRequirement already satisfied: gitdb<5,>=4.0.1 in /databricks/python3/lib/python3.10/site-packages (from gitpython<4,>=2.1.0->mlflow==2.7.1->-r /tmp/tmppuybkjtm/requirements.txt (line 1)) (4.0.10)\nRequirement already satisfied: setuptools>=3.0 in /databricks/python3/lib/python3.10/site-packages (from gunicorn<22->mlflow==2.7.1->-r /tmp/tmppuybkjtm/requirements.txt (line 1)) (63.4.1)\nRequirement already satisfied: fsspec in /databricks/python3/lib/python3.10/site-packages (from huggingface-hub<1.0,>=0.14.1->transformers==4.31.0->-r /tmp/tmppuybkjtm/requirements.txt (line 5)) (2022.7.1)\nRequirement already satisfied: zipp>=0.5 in /databricks/python3/lib/python3.10/site-packages (from importlib-metadata!=4.7.0,<7,>=3.7.0->mlflow==2.7.1->-r /tmp/tmppuybkjtm/requirements.txt (line 1)) (3.8.0)\nRequirement already satisfied: MarkupSafe>=0.23 in /databricks/python3/lib/python3.10/site-packages (from Jinja2<4,>=2.11->mlflow==2.7.1->-r /tmp/tmppuybkjtm/requirements.txt (line 1)) (2.0.1)\nRequirement already satisfied: python-dateutil>=2.7 in /databricks/python3/lib/python3.10/site-packages (from matplotlib<4->mlflow==2.7.1->-r /tmp/tmppuybkjtm/requirements.txt (line 1)) (2.8.2)\nRequirement already satisfied: fonttools>=4.22.0 in /databricks/python3/lib/python3.10/site-packages (from matplotlib<4->mlflow==2.7.1->-r /tmp/tmppuybkjtm/requirements.txt (line 1)) (4.25.0)\nRequirement already satisfied: cycler>=0.10 in /databricks/python3/lib/python3.10/site-packages (from matplotlib<4->mlflow==2.7.1->-r /tmp/tmppuybkjtm/requirements.txt (line 1)) (0.11.0)\nRequirement already satisfied: kiwisolver>=1.0.1 in /databricks/python3/lib/python3.10/site-packages (from matplotlib<4->mlflow==2.7.1->-r /tmp/tmppuybkjtm/requirements.txt (line 1)) (1.4.2)\nRequirement already satisfied: pyparsing>=2.2.1 in /databricks/python3/lib/python3.10/site-packages (from matplotlib<4->mlflow==2.7.1->-r /tmp/tmppuybkjtm/requirements.txt (line 1)) (3.0.9)\nRequirement already satisfied: charset-normalizer<3,>=2 in /databricks/python3/lib/python3.10/site-packages (from requests<3,>=2.17.3->mlflow==2.7.1->-r /tmp/tmppuybkjtm/requirements.txt (line 1)) (2.0.4)\nRequirement already satisfied: idna<4,>=2.5 in /databricks/python3/lib/python3.10/site-packages (from requests<3,>=2.17.3->mlflow==2.7.1->-r /tmp/tmppuybkjtm/requirements.txt (line 1)) (3.3)\nRequirement already satisfied: certifi>=2017.4.17 in /databricks/python3/lib/python3.10/site-packages (from requests<3,>=2.17.3->mlflow==2.7.1->-r /tmp/tmppuybkjtm/requirements.txt (line 1)) (2022.9.14)\nRequirement already satisfied: threadpoolctl>=2.0.0 in /databricks/python3/lib/python3.10/site-packages (from scikit-learn<2->mlflow==2.7.1->-r /tmp/tmppuybkjtm/requirements.txt (line 1)) (2.2.0)\nRequirement already satisfied: joblib>=1.0.0 in /databricks/python3/lib/python3.10/site-packages (from scikit-learn<2->mlflow==2.7.1->-r /tmp/tmppuybkjtm/requirements.txt (line 1)) (1.2.0)\nRequirement already satisfied: greenlet!=0.4.17 in /databricks/python3/lib/python3.10/site-packages (from sqlalchemy<3,>=1.4.0->mlflow==2.7.1->-r /tmp/tmppuybkjtm/requirements.txt (line 1)) (1.1.1)\nRequirement already satisfied: smmap<6,>=3.0.1 in /databricks/python3/lib/python3.10/site-packages (from gitdb<5,>=4.0.1->gitpython<4,>=2.1.0->mlflow==2.7.1->-r /tmp/tmppuybkjtm/requirements.txt (line 1)) (5.0.0)\nInstalling collected packages: querystring-parser, docker, alembic, transformers, mlflow\n  Attempting uninstall: transformers\n    Found existing installation: transformers 4.30.2\n    Not uninstalling transformers at /databricks/python3/lib/python3.10/site-packages, outside environment /local_disk0/.ephemeral_nfs/envs/pythonEnv-d3d87368-350e-4c5c-914c-768beb997a53\n    Can't uninstall 'transformers'. No files were found to uninstall.\nSuccessfully installed alembic-1.12.1 docker-6.1.3 mlflow-2.7.1 querystring-parser-1.2.4 transformers-4.31.0\n\u001B[43mNote: you may need to restart the kernel using dbutils.library.restartPython() to use updated packages.\u001B[0m\n"
     ]
    }
   ],
   "source": [
    "%pip install -r /tmp/tmppuybkjtm/requirements.txt\n",
    "dbutils.library.restartPython() "
   ]
  },
  {
   "cell_type": "code",
   "execution_count": 0,
   "metadata": {
    "application/vnd.databricks.v1+cell": {
     "cellMetadata": {
      "byteLimit": 2048000,
      "rowLimit": 10000
     },
     "inputWidgets": {},
     "nuid": "203eaaa9-b441-4c71-b492-846bcfbdddb1",
     "showTitle": false,
     "title": ""
    }
   },
   "outputs": [
    {
     "output_type": "display_data",
     "data": {
      "application/vnd.jupyter.widget-view+json": {
       "model_id": "ce9cd424a4d441f4aeb862c0cad842e5",
       "version_major": 2,
       "version_minor": 0
      },
      "text/plain": [
       "Downloading artifacts:   0%|          | 0/29 [00:00<?, ?it/s]"
      ]
     },
     "metadata": {},
     "output_type": "display_data"
    },
    {
     "output_type": "stream",
     "name": "stderr",
     "output_type": "stream",
     "text": [
      "2023/11/15 07:35:52 INFO mlflow.store.artifact.artifact_repo: The progress bar can be disabled by setting the environment variable MLFLOW_ENABLE_ARTIFACTS_PROGRESS_BAR to false\n"
     ]
    },
    {
     "output_type": "display_data",
     "data": {
      "application/vnd.jupyter.widget-view+json": {
       "model_id": "ebf76e8a0f604c4fa4ac52302ce254c8",
       "version_major": 2,
       "version_minor": 0
      },
      "text/plain": [
       "Downloading /local_disk0/.ephemeral_nfs/repl_tmp_data/ReplId-164c9-0bef2-88e80-c/mlflow/models/tmp_m6r1wk1/mod…"
      ]
     },
     "metadata": {},
     "output_type": "display_data"
    },
    {
     "output_type": "display_data",
     "data": {
      "application/vnd.jupyter.widget-view+json": {
       "model_id": "2d4ce36b2e2c418c8d4003554a25fe3f",
       "version_major": 2,
       "version_minor": 0
      },
      "text/plain": [
       "Downloading /local_disk0/.ephemeral_nfs/repl_tmp_data/ReplId-164c9-0bef2-88e80-c/mlflow/models/tmp_m6r1wk1/mod…"
      ]
     },
     "metadata": {},
     "output_type": "display_data"
    },
    {
     "output_type": "stream",
     "name": "stderr",
     "output_type": "stream",
     "text": [
      "2023/11/15 07:35:52 INFO mlflow.utils.file_utils: Retrying download of chunk 1 for model/pytorch_model-00001-of-00014.bin\n2023/11/15 07:35:52 INFO mlflow.utils.file_utils: Retrying download of chunk 3 for model/pytorch_model-00002-of-00014.bin\n"
     ]
    },
    {
     "output_type": "display_data",
     "data": {
      "application/vnd.jupyter.widget-view+json": {
       "model_id": "740b2716e4f7417fa0566276158a8ca3",
       "version_major": 2,
       "version_minor": 0
      },
      "text/plain": [
       "Downloading /local_disk0/.ephemeral_nfs/repl_tmp_data/ReplId-164c9-0bef2-88e80-c/mlflow/models/tmp_m6r1wk1/mod…"
      ]
     },
     "metadata": {},
     "output_type": "display_data"
    },
    {
     "output_type": "stream",
     "name": "stderr",
     "output_type": "stream",
     "text": [
      "2023/11/15 07:35:55 INFO mlflow.utils.file_utils: Retrying download of chunk 0 for model/pytorch_model-00006-of-00014.bin\n"
     ]
    },
    {
     "output_type": "display_data",
     "data": {
      "application/vnd.jupyter.widget-view+json": {
       "model_id": "70191b7ae8f24a8ca10f95aca770d8e1",
       "version_major": 2,
       "version_minor": 0
      },
      "text/plain": [
       "Downloading /local_disk0/.ephemeral_nfs/repl_tmp_data/ReplId-164c9-0bef2-88e80-c/mlflow/models/tmp_m6r1wk1/mod…"
      ]
     },
     "metadata": {},
     "output_type": "display_data"
    },
    {
     "output_type": "stream",
     "name": "stderr",
     "output_type": "stream",
     "text": [
      "2023/11/15 07:35:55 INFO mlflow.utils.file_utils: Retrying download of chunk 8 for model/pytorch_model-00013-of-00014.bin\n"
     ]
    },
    {
     "output_type": "display_data",
     "data": {
      "application/vnd.jupyter.widget-view+json": {
       "model_id": "f4c09c3a28df4a3ab4e577c4558943b0",
       "version_major": 2,
       "version_minor": 0
      },
      "text/plain": [
       "Downloading /local_disk0/.ephemeral_nfs/repl_tmp_data/ReplId-164c9-0bef2-88e80-c/mlflow/models/tmp_m6r1wk1/mod…"
      ]
     },
     "metadata": {},
     "output_type": "display_data"
    },
    {
     "output_type": "display_data",
     "data": {
      "application/vnd.jupyter.widget-view+json": {
       "model_id": "fc18311ab93346deba98513eb1d95506",
       "version_major": 2,
       "version_minor": 0
      },
      "text/plain": [
       "Downloading /local_disk0/.ephemeral_nfs/repl_tmp_data/ReplId-164c9-0bef2-88e80-c/mlflow/models/tmp_m6r1wk1/mod…"
      ]
     },
     "metadata": {},
     "output_type": "display_data"
    },
    {
     "output_type": "display_data",
     "data": {
      "application/vnd.jupyter.widget-view+json": {
       "model_id": "65d6991c01d74423b54973b7e77392f1",
       "version_major": 2,
       "version_minor": 0
      },
      "text/plain": [
       "Downloading /local_disk0/.ephemeral_nfs/repl_tmp_data/ReplId-164c9-0bef2-88e80-c/mlflow/models/tmp_m6r1wk1/mod…"
      ]
     },
     "metadata": {},
     "output_type": "display_data"
    },
    {
     "output_type": "display_data",
     "data": {
      "application/vnd.jupyter.widget-view+json": {
       "model_id": "9794379da2284d568bf2f79db98d3953",
       "version_major": 2,
       "version_minor": 0
      },
      "text/plain": [
       "Downloading /local_disk0/.ephemeral_nfs/repl_tmp_data/ReplId-164c9-0bef2-88e80-c/mlflow/models/tmp_m6r1wk1/mod…"
      ]
     },
     "metadata": {},
     "output_type": "display_data"
    },
    {
     "output_type": "display_data",
     "data": {
      "application/vnd.jupyter.widget-view+json": {
       "model_id": "33db7338f31849c7a6d0378e19e83dbe",
       "version_major": 2,
       "version_minor": 0
      },
      "text/plain": [
       "Downloading /local_disk0/.ephemeral_nfs/repl_tmp_data/ReplId-164c9-0bef2-88e80-c/mlflow/models/tmp_m6r1wk1/mod…"
      ]
     },
     "metadata": {},
     "output_type": "display_data"
    },
    {
     "output_type": "display_data",
     "data": {
      "application/vnd.jupyter.widget-view+json": {
       "model_id": "81d68b55f7724411ba290ccee948f70c",
       "version_major": 2,
       "version_minor": 0
      },
      "text/plain": [
       "Downloading /local_disk0/.ephemeral_nfs/repl_tmp_data/ReplId-164c9-0bef2-88e80-c/mlflow/models/tmp_m6r1wk1/mod…"
      ]
     },
     "metadata": {},
     "output_type": "display_data"
    },
    {
     "output_type": "display_data",
     "data": {
      "application/vnd.jupyter.widget-view+json": {
       "model_id": "660deca3740140fc9c3de758d89617e5",
       "version_major": 2,
       "version_minor": 0
      },
      "text/plain": [
       "Downloading /local_disk0/.ephemeral_nfs/repl_tmp_data/ReplId-164c9-0bef2-88e80-c/mlflow/models/tmp_m6r1wk1/mod…"
      ]
     },
     "metadata": {},
     "output_type": "display_data"
    },
    {
     "output_type": "display_data",
     "data": {
      "application/vnd.jupyter.widget-view+json": {
       "model_id": "78427dde659f4447896ac90da5537d5d",
       "version_major": 2,
       "version_minor": 0
      },
      "text/plain": [
       "Downloading /local_disk0/.ephemeral_nfs/repl_tmp_data/ReplId-164c9-0bef2-88e80-c/mlflow/models/tmp_m6r1wk1/mod…"
      ]
     },
     "metadata": {},
     "output_type": "display_data"
    },
    {
     "output_type": "display_data",
     "data": {
      "application/vnd.jupyter.widget-view+json": {
       "model_id": "64b162d4fcf745dcac86c86b5d2f25a9",
       "version_major": 2,
       "version_minor": 0
      },
      "text/plain": [
       "Downloading /local_disk0/.ephemeral_nfs/repl_tmp_data/ReplId-164c9-0bef2-88e80-c/mlflow/models/tmp_m6r1wk1/mod…"
      ]
     },
     "metadata": {},
     "output_type": "display_data"
    },
    {
     "output_type": "stream",
     "name": "stderr",
     "output_type": "stream",
     "text": [
      "2023/11/15 07:35:55 INFO mlflow.utils.file_utils: Retrying download of chunk 0 for model/pytorch_model-00008-of-00014.bin\n2023/11/15 07:35:55 INFO mlflow.utils.file_utils: Retrying download of chunk 2 for model/pytorch_model-00003-of-00014.bin\n2023/11/15 07:35:55 INFO mlflow.utils.file_utils: Retrying download of chunk 0 for model/pytorch_model-00005-of-00014.bin\n2023/11/15 07:35:56 INFO mlflow.utils.file_utils: Retrying download of chunk 1 for model/pytorch_model-00007-of-00014.bin\n2023/11/15 07:35:56 INFO mlflow.utils.file_utils: Retrying download of chunk 0 for model/pytorch_model-00009-of-00014.bin\n"
     ]
    },
    {
     "output_type": "display_data",
     "data": {
      "application/vnd.jupyter.widget-view+json": {
       "model_id": "d44c26ae6dd34dca8c834e05be85b41e",
       "version_major": 2,
       "version_minor": 0
      },
      "text/plain": [
       "Downloading /local_disk0/.ephemeral_nfs/repl_tmp_data/ReplId-164c9-0bef2-88e80-c/mlflow/models/tmp_m6r1wk1/mod…"
      ]
     },
     "metadata": {},
     "output_type": "display_data"
    },
    {
     "output_type": "stream",
     "name": "stderr",
     "output_type": "stream",
     "text": [
      "2023/11/15 07:35:56 INFO mlflow.utils.file_utils: Retrying download of chunk 0 for model/pytorch_model-00010-of-00014.bin\n2023/11/15 07:35:56 INFO mlflow.utils.file_utils: Retrying download of chunk 0 for model/pytorch_model-00012-of-00014.bin\n2023/11/15 07:35:56 INFO mlflow.utils.file_utils: Retrying download of chunk 0 for model/pytorch_model-00014-of-00014.bin\n2023/11/15 07:35:56 INFO mlflow.utils.file_utils: Retrying download of chunk 1 for model/pytorch_model-00004-of-00014.bin\n2023/11/15 07:35:56 INFO mlflow.utils.file_utils: Retrying download of chunk 0 for model/pytorch_model-00011-of-00014.bin\n2023/11/15 07:35:57 INFO mlflow.utils.file_utils: Successfully downloaded chunk 0 for model/pytorch_model-00006-of-00014.bin\n2023/11/15 07:35:57 INFO mlflow.utils.file_utils: Retrying download of chunk 1 for model/pytorch_model-00006-of-00014.bin\n2023/11/15 07:35:57 INFO mlflow.utils.file_utils: Successfully downloaded chunk 1 for model/pytorch_model-00001-of-00014.bin\n2023/11/15 07:35:57 INFO mlflow.utils.file_utils: Retrying download of chunk 2 for model/pytorch_model-00001-of-00014.bin\n2023/11/15 07:35:58 INFO mlflow.utils.file_utils: Successfully downloaded chunk 0 for model/pytorch_model-00008-of-00014.bin\n2023/11/15 07:35:58 INFO mlflow.utils.file_utils: Retrying download of chunk 8 for model/pytorch_model-00008-of-00014.bin\n2023/11/15 07:35:59 INFO mlflow.utils.file_utils: Successfully downloaded chunk 8 for model/pytorch_model-00013-of-00014.bin\n2023/11/15 07:35:59 INFO mlflow.utils.file_utils: Retrying download of chunk 2 for model/pytorch_model-00013-of-00014.bin\n2023/11/15 07:36:02 INFO mlflow.utils.file_utils: Successfully downloaded chunk 0 for model/pytorch_model-00009-of-00014.bin\n2023/11/15 07:36:02 INFO mlflow.utils.file_utils: Retrying download of chunk 2 for model/pytorch_model-00009-of-00014.bin\n2023/11/15 07:36:03 INFO mlflow.utils.file_utils: Successfully downloaded chunk 0 for model/pytorch_model-00010-of-00014.bin\n2023/11/15 07:36:03 INFO mlflow.utils.file_utils: Retrying download of chunk 1 for model/pytorch_model-00010-of-00014.bin\n2023/11/15 07:36:03 INFO mlflow.utils.file_utils: Successfully downloaded chunk 0 for model/pytorch_model-00011-of-00014.bin\n2023/11/15 07:36:03 INFO mlflow.utils.file_utils: Retrying download of chunk 1 for model/pytorch_model-00011-of-00014.bin\n2023/11/15 07:36:03 INFO mlflow.utils.file_utils: Successfully downloaded chunk 0 for model/pytorch_model-00012-of-00014.bin\n2023/11/15 07:36:03 INFO mlflow.utils.file_utils: Retrying download of chunk 1 for model/pytorch_model-00012-of-00014.bin\n2023/11/15 07:36:03 INFO mlflow.utils.file_utils: Successfully downloaded chunk 0 for model/pytorch_model-00014-of-00014.bin\n2023/11/15 07:36:03 INFO mlflow.utils.file_utils: Retrying download of chunk 2 for model/pytorch_model-00014-of-00014.bin\n2023/11/15 07:36:03 INFO mlflow.utils.file_utils: Successfully downloaded chunk 1 for model/pytorch_model-00006-of-00014.bin\n2023/11/15 07:36:03 INFO mlflow.utils.file_utils: Retrying download of chunk 8 for model/pytorch_model-00006-of-00014.bin\n2023/11/15 07:36:03 INFO mlflow.utils.file_utils: Successfully downloaded chunk 2 for model/pytorch_model-00003-of-00014.bin\n2023/11/15 07:36:03 INFO mlflow.utils.file_utils: Retrying download of chunk 1 for model/pytorch_model-00003-of-00014.bin\n2023/11/15 07:36:03 INFO mlflow.utils.file_utils: Successfully downloaded chunk 0 for model/pytorch_model-00005-of-00014.bin\n2023/11/15 07:36:03 INFO mlflow.utils.file_utils: Retrying download of chunk 2 for model/pytorch_model-00005-of-00014.bin\n2023/11/15 07:36:03 INFO mlflow.utils.file_utils: Successfully downloaded chunk 1 for model/pytorch_model-00004-of-00014.bin\n2023/11/15 07:36:03 INFO mlflow.utils.file_utils: Retrying download of chunk 0 for model/pytorch_model-00004-of-00014.bin\n2023/11/15 07:36:03 INFO mlflow.utils.file_utils: Successfully downloaded chunk 2 for model/pytorch_model-00001-of-00014.bin\n2023/11/15 07:36:03 INFO mlflow.utils.file_utils: Retrying download of chunk 5 for model/pytorch_model-00001-of-00014.bin\n2023/11/15 07:36:04 INFO mlflow.utils.file_utils: Successfully downloaded chunk 8 for model/pytorch_model-00008-of-00014.bin\n2023/11/15 07:36:04 INFO mlflow.utils.file_utils: Retrying download of chunk 2 for model/pytorch_model-00008-of-00014.bin\n2023/11/15 07:36:07 INFO mlflow.utils.file_utils: Successfully downloaded chunk 2 for model/pytorch_model-00009-of-00014.bin\n2023/11/15 07:36:07 INFO mlflow.utils.file_utils: Retrying download of chunk 1 for model/pytorch_model-00009-of-00014.bin\n2023/11/15 07:36:08 INFO mlflow.utils.file_utils: Successfully downloaded chunk 1 for model/pytorch_model-00010-of-00014.bin\n2023/11/15 07:36:08 INFO mlflow.utils.file_utils: Retrying download of chunk 2 for model/pytorch_model-00010-of-00014.bin\n2023/11/15 07:36:08 INFO mlflow.utils.file_utils: Successfully downloaded chunk 1 for model/pytorch_model-00011-of-00014.bin\n2023/11/15 07:36:08 INFO mlflow.utils.file_utils: Retrying download of chunk 2 for model/pytorch_model-00011-of-00014.bin\n2023/11/15 07:36:08 INFO mlflow.utils.file_utils: Successfully downloaded chunk 0 for model/pytorch_model-00004-of-00014.bin\n2023/11/15 07:36:08 INFO mlflow.utils.file_utils: Retrying download of chunk 2 for model/pytorch_model-00004-of-00014.bin\n2023/11/15 07:36:08 INFO mlflow.utils.file_utils: Successfully downloaded chunk 2 for model/pytorch_model-00014-of-00014.bin\n2023/11/15 07:36:08 INFO mlflow.utils.file_utils: Retrying download of chunk 1 for model/pytorch_model-00014-of-00014.bin\n2023/11/15 07:36:08 INFO mlflow.utils.file_utils: Successfully downloaded chunk 3 for model/pytorch_model-00002-of-00014.bin\n2023/11/15 07:36:08 INFO mlflow.utils.file_utils: Retrying download of chunk 2 for model/pytorch_model-00002-of-00014.bin\n2023/11/15 07:36:08 INFO mlflow.utils.file_utils: Successfully downloaded chunk 5 for model/pytorch_model-00001-of-00014.bin\n2023/11/15 07:36:08 INFO mlflow.utils.file_utils: Retrying download of chunk 4 for model/pytorch_model-00001-of-00014.bin\n2023/11/15 07:36:09 INFO mlflow.utils.file_utils: Successfully downloaded chunk 8 for model/pytorch_model-00006-of-00014.bin\n2023/11/15 07:36:09 INFO mlflow.utils.file_utils: Retrying download of chunk 5 for model/pytorch_model-00006-of-00014.bin\n2023/11/15 07:36:09 INFO mlflow.utils.file_utils: Successfully downloaded chunk 2 for model/pytorch_model-00008-of-00014.bin\n2023/11/15 07:36:09 INFO mlflow.utils.file_utils: Retrying download of chunk 1 for model/pytorch_model-00008-of-00014.bin\n2023/11/15 07:36:09 INFO mlflow.utils.file_utils: Successfully downloaded chunk 2 for model/pytorch_model-00013-of-00014.bin\n2023/11/15 07:36:09 INFO mlflow.utils.file_utils: Retrying download of chunk 7 for model/pytorch_model-00013-of-00014.bin\n2023/11/15 07:36:09 INFO mlflow.utils.file_utils: Successfully downloaded chunk 1 for model/pytorch_model-00012-of-00014.bin\n2023/11/15 07:36:09 INFO mlflow.utils.file_utils: Retrying download of chunk 2 for model/pytorch_model-00012-of-00014.bin\n2023/11/15 07:36:10 INFO mlflow.utils.file_utils: Successfully downloaded chunk 1 for model/pytorch_model-00007-of-00014.bin\n2023/11/15 07:36:10 INFO mlflow.utils.file_utils: Retrying download of chunk 0 for model/pytorch_model-00007-of-00014.bin\n2023/11/15 07:36:11 INFO mlflow.utils.file_utils: Successfully downloaded chunk 1 for model/pytorch_model-00009-of-00014.bin\n2023/11/15 07:36:11 INFO mlflow.utils.file_utils: Retrying download of chunk 3 for model/pytorch_model-00009-of-00014.bin\n2023/11/15 07:36:11 INFO mlflow.utils.file_utils: Successfully downloaded chunk 2 for model/pytorch_model-00005-of-00014.bin\n2023/11/15 07:36:11 INFO mlflow.utils.file_utils: Retrying download of chunk 5 for model/pytorch_model-00005-of-00014.bin\n2023/11/15 07:36:13 INFO mlflow.utils.file_utils: Successfully downloaded chunk 2 for model/pytorch_model-00011-of-00014.bin\n2023/11/15 07:36:13 INFO mlflow.utils.file_utils: Retrying download of chunk 4 for model/pytorch_model-00011-of-00014.bin\n2023/11/15 07:36:13 INFO mlflow.utils.file_utils: Successfully downloaded chunk 1 for model/pytorch_model-00003-of-00014.bin\n2023/11/15 07:36:13 INFO mlflow.utils.file_utils: Retrying download of chunk 6 for model/pytorch_model-00003-of-00014.bin\n2023/11/15 07:36:13 INFO mlflow.utils.file_utils: Successfully downloaded chunk 2 for model/pytorch_model-00010-of-00014.bin\n2023/11/15 07:36:13 INFO mlflow.utils.file_utils: Retrying download of chunk 3 for model/pytorch_model-00010-of-00014.bin\n2023/11/15 07:36:13 INFO mlflow.utils.file_utils: Successfully downloaded chunk 2 for model/pytorch_model-00004-of-00014.bin\n2023/11/15 07:36:13 INFO mlflow.utils.file_utils: Retrying download of chunk 4 for model/pytorch_model-00004-of-00014.bin\n2023/11/15 07:36:14 INFO mlflow.utils.file_utils: Successfully downloaded chunk 1 for model/pytorch_model-00014-of-00014.bin\n2023/11/15 07:36:14 INFO mlflow.utils.file_utils: Retrying download of chunk 3 for model/pytorch_model-00014-of-00014.bin\n2023/11/15 07:36:14 INFO mlflow.utils.file_utils: Successfully downloaded chunk 5 for model/pytorch_model-00006-of-00014.bin\n2023/11/15 07:36:14 INFO mlflow.utils.file_utils: Retrying download of chunk 6 for model/pytorch_model-00006-of-00014.bin\n2023/11/15 07:36:14 INFO mlflow.utils.file_utils: Successfully downloaded chunk 1 for model/pytorch_model-00008-of-00014.bin\n2023/11/15 07:36:14 INFO mlflow.utils.file_utils: Retrying download of chunk 4 for model/pytorch_model-00008-of-00014.bin\n2023/11/15 07:36:15 INFO mlflow.utils.file_utils: Successfully downloaded chunk 4 for model/pytorch_model-00001-of-00014.bin\n2023/11/15 07:36:15 INFO mlflow.utils.file_utils: Retrying download of chunk 0 for model/pytorch_model-00001-of-00014.bin\n2023/11/15 07:36:15 INFO mlflow.utils.file_utils: Successfully downloaded chunk 2 for model/pytorch_model-00012-of-00014.bin\n2023/11/15 07:36:15 INFO mlflow.utils.file_utils: Retrying download of chunk 4 for model/pytorch_model-00012-of-00014.bin\n2023/11/15 07:36:16 INFO mlflow.utils.file_utils: Successfully downloaded chunk 7 for model/pytorch_model-00013-of-00014.bin\n2023/11/15 07:36:16 INFO mlflow.utils.file_utils: Retrying download of chunk 9 for model/pytorch_model-00013-of-00014.bin\n2023/11/15 07:36:16 INFO mlflow.utils.file_utils: Successfully downloaded chunk 5 for model/pytorch_model-00005-of-00014.bin\n2023/11/15 07:36:16 INFO mlflow.utils.file_utils: Retrying download of chunk 1 for model/pytorch_model-00005-of-00014.bin\n2023/11/15 07:36:17 INFO mlflow.utils.file_utils: Successfully downloaded chunk 3 for model/pytorch_model-00009-of-00014.bin\n2023/11/15 07:36:17 INFO mlflow.utils.file_utils: Retrying download of chunk 7 for model/pytorch_model-00009-of-00014.bin\n2023/11/15 07:36:17 INFO mlflow.utils.file_utils: Successfully downloaded chunk 4 for model/pytorch_model-00011-of-00014.bin\n2023/11/15 07:36:17 INFO mlflow.utils.file_utils: Retrying download of chunk 6 for model/pytorch_model-00011-of-00014.bin\n2023/11/15 07:36:18 INFO mlflow.utils.file_utils: Successfully downloaded chunk 6 for model/pytorch_model-00003-of-00014.bin\n2023/11/15 07:36:18 INFO mlflow.utils.file_utils: Retrying download of chunk 3 for model/pytorch_model-00003-of-00014.bin\n2023/11/15 07:36:19 INFO mlflow.utils.file_utils: Successfully downloaded chunk 3 for model/pytorch_model-00010-of-00014.bin\n2023/11/15 07:36:19 INFO mlflow.utils.file_utils: Retrying download of chunk 8 for model/pytorch_model-00010-of-00014.bin\n2023/11/15 07:36:19 INFO mlflow.utils.file_utils: Successfully downloaded chunk 9 for model/pytorch_model-00013-of-00014.bin\n2023/11/15 07:36:19 INFO mlflow.utils.file_utils: Retrying download of chunk 4 for model/pytorch_model-00013-of-00014.bin\n2023/11/15 07:36:20 INFO mlflow.utils.file_utils: Successfully downloaded chunk 4 for model/pytorch_model-00008-of-00014.bin\n2023/11/15 07:36:20 INFO mlflow.utils.file_utils: Retrying download of chunk 7 for model/pytorch_model-00008-of-00014.bin\n2023/11/15 07:36:20 INFO mlflow.utils.file_utils: Successfully downloaded chunk 0 for model/pytorch_model-00001-of-00014.bin\n2023/11/15 07:36:20 INFO mlflow.utils.file_utils: Retrying download of chunk 7 for model/pytorch_model-00001-of-00014.bin\n2023/11/15 07:36:21 INFO mlflow.utils.file_utils: Successfully downloaded chunk 4 for model/pytorch_model-00012-of-00014.bin\n2023/11/15 07:36:21 INFO mlflow.utils.file_utils: Retrying download of chunk 8 for model/pytorch_model-00012-of-00014.bin\n2023/11/15 07:36:21 INFO mlflow.utils.file_utils: Successfully downloaded chunk 1 for model/pytorch_model-00005-of-00014.bin\n2023/11/15 07:36:21 INFO mlflow.utils.file_utils: Retrying download of chunk 3 for model/pytorch_model-00005-of-00014.bin\n2023/11/15 07:36:22 INFO mlflow.utils.file_utils: Successfully downloaded chunk 7 for model/pytorch_model-00009-of-00014.bin\n2023/11/15 07:36:22 INFO mlflow.utils.file_utils: Retrying download of chunk 4 for model/pytorch_model-00009-of-00014.bin\n2023/11/15 07:36:22 INFO mlflow.utils.file_utils: Successfully downloaded chunk 6 for model/pytorch_model-00011-of-00014.bin\n2023/11/15 07:36:22 INFO mlflow.utils.file_utils: Retrying download of chunk 5 for model/pytorch_model-00011-of-00014.bin\n2023/11/15 07:36:22 INFO mlflow.utils.file_utils: Successfully downloaded chunk 3 for model/pytorch_model-00014-of-00014.bin\n2023/11/15 07:36:22 INFO mlflow.utils.file_utils: Retrying download of chunk 7 for model/pytorch_model-00014-of-00014.bin\n2023/11/15 07:36:22 INFO mlflow.utils.file_utils: Successfully downloaded chunk 4 for model/pytorch_model-00004-of-00014.bin\n2023/11/15 07:36:22 INFO mlflow.utils.file_utils: Retrying download of chunk 5 for model/pytorch_model-00004-of-00014.bin\n2023/11/15 07:36:23 INFO mlflow.utils.file_utils: Successfully downloaded chunk 4 for model/pytorch_model-00013-of-00014.bin\n2023/11/15 07:36:23 INFO mlflow.utils.file_utils: Retrying download of chunk 5 for model/pytorch_model-00013-of-00014.bin\n2023/11/15 07:36:23 INFO mlflow.utils.file_utils: Successfully downloaded chunk 0 for model/pytorch_model-00007-of-00014.bin\n2023/11/15 07:36:23 INFO mlflow.utils.file_utils: Retrying download of chunk 2 for model/pytorch_model-00007-of-00014.bin\n2023/11/15 07:36:24 INFO mlflow.utils.file_utils: Successfully downloaded chunk 6 for model/pytorch_model-00006-of-00014.bin\n2023/11/15 07:36:24 INFO mlflow.utils.file_utils: Retrying download of chunk 4 for model/pytorch_model-00006-of-00014.bin\n2023/11/15 07:36:24 INFO mlflow.utils.file_utils: Successfully downloaded chunk 3 for model/pytorch_model-00003-of-00014.bin\n2023/11/15 07:36:24 INFO mlflow.utils.file_utils: Retrying download of chunk 4 for model/pytorch_model-00003-of-00014.bin\n2023/11/15 07:36:24 INFO mlflow.utils.file_utils: Successfully downloaded chunk 8 for model/pytorch_model-00010-of-00014.bin\n2023/11/15 07:36:24 INFO mlflow.utils.file_utils: Retrying download of chunk 4 for model/pytorch_model-00010-of-00014.bin\n2023/11/15 07:36:24 INFO mlflow.utils.file_utils: Successfully downloaded chunk 7 for model/pytorch_model-00008-of-00014.bin\n2023/11/15 07:36:24 INFO mlflow.utils.file_utils: Retrying download of chunk 5 for model/pytorch_model-00008-of-00014.bin\n2023/11/15 07:36:26 INFO mlflow.utils.file_utils: Successfully downloaded chunk 7 for model/pytorch_model-00001-of-00014.bin\n2023/11/15 07:36:26 INFO mlflow.utils.file_utils: Retrying download of chunk 3 for model/pytorch_model-00001-of-00014.bin\n2023/11/15 07:36:26 INFO mlflow.utils.file_utils: Successfully downloaded chunk 2 for model/pytorch_model-00002-of-00014.bin\n2023/11/15 07:36:26 INFO mlflow.utils.file_utils: Retrying download of chunk 4 for model/pytorch_model-00002-of-00014.bin\n2023/11/15 07:36:26 INFO mlflow.utils.file_utils: Successfully downloaded chunk 8 for model/pytorch_model-00012-of-00014.bin\n2023/11/15 07:36:26 INFO mlflow.utils.file_utils: Retrying download of chunk 5 for model/pytorch_model-00012-of-00014.bin\n2023/11/15 07:36:27 INFO mlflow.utils.file_utils: Successfully downloaded chunk 3 for model/pytorch_model-00005-of-00014.bin\n2023/11/15 07:36:27 INFO mlflow.utils.file_utils: Retrying download of chunk 4 for model/pytorch_model-00005-of-00014.bin\n2023/11/15 07:36:27 INFO mlflow.utils.file_utils: Successfully downloaded chunk 5 for model/pytorch_model-00011-of-00014.bin\n2023/11/15 07:36:27 INFO mlflow.utils.file_utils: Retrying download of chunk 8 for model/pytorch_model-00011-of-00014.bin\n2023/11/15 07:36:28 INFO mlflow.utils.file_utils: Successfully downloaded chunk 7 for model/pytorch_model-00014-of-00014.bin\n2023/11/15 07:36:28 INFO mlflow.utils.file_utils: Retrying download of chunk 4 for model/pytorch_model-00014-of-00014.bin\n2023/11/15 07:36:28 INFO mlflow.utils.file_utils: Successfully downloaded chunk 5 for model/pytorch_model-00004-of-00014.bin\n2023/11/15 07:36:28 INFO mlflow.utils.file_utils: Retrying download of chunk 3 for model/pytorch_model-00004-of-00014.bin\n2023/11/15 07:36:29 INFO mlflow.utils.file_utils: Successfully downloaded chunk 4 for model/pytorch_model-00009-of-00014.bin\n2023/11/15 07:36:29 INFO mlflow.utils.file_utils: Retrying download of chunk 5 for model/pytorch_model-00009-of-00014.bin\n2023/11/15 07:36:29 INFO mlflow.utils.file_utils: Successfully downloaded chunk 2 for model/pytorch_model-00007-of-00014.bin\n2023/11/15 07:36:29 INFO mlflow.utils.file_utils: Retrying download of chunk 4 for model/pytorch_model-00007-of-00014.bin\n2023/11/15 07:36:29 INFO mlflow.utils.file_utils: Successfully downloaded chunk 4 for model/pytorch_model-00006-of-00014.bin\n2023/11/15 07:36:29 INFO mlflow.utils.file_utils: Retrying download of chunk 3 for model/pytorch_model-00006-of-00014.bin\n2023/11/15 07:36:30 INFO mlflow.utils.file_utils: Successfully downloaded chunk 4 for model/pytorch_model-00010-of-00014.bin\n2023/11/15 07:36:30 INFO mlflow.utils.file_utils: Retrying download of chunk 5 for model/pytorch_model-00010-of-00014.bin\n2023/11/15 07:36:30 INFO mlflow.utils.file_utils: Successfully downloaded chunk 5 for model/pytorch_model-00008-of-00014.bin\n2023/11/15 07:36:30 INFO mlflow.utils.file_utils: Retrying download of chunk 3 for model/pytorch_model-00008-of-00014.bin\n2023/11/15 07:36:30 INFO mlflow.utils.file_utils: Successfully downloaded chunk 4 for model/pytorch_model-00003-of-00014.bin\n2023/11/15 07:36:30 INFO mlflow.utils.file_utils: Retrying download of chunk 0 for model/pytorch_model-00003-of-00014.bin\n2023/11/15 07:36:30 INFO mlflow.utils.file_utils: Successfully downloaded chunk 5 for model/pytorch_model-00013-of-00014.bin\n2023/11/15 07:36:30 INFO mlflow.utils.file_utils: Retrying download of chunk 1 for model/pytorch_model-00013-of-00014.bin\n2023/11/15 07:36:32 INFO mlflow.utils.file_utils: Successfully downloaded chunk 4 for model/pytorch_model-00002-of-00014.bin\n2023/11/15 07:36:32 INFO mlflow.utils.file_utils: Retrying download of chunk 5 for model/pytorch_model-00002-of-00014.bin\n2023/11/15 07:36:32 INFO mlflow.utils.file_utils: Successfully downloaded chunk 3 for model/pytorch_model-00001-of-00014.bin\n2023/11/15 07:36:32 INFO mlflow.utils.file_utils: Retrying download of chunk 8 for model/pytorch_model-00001-of-00014.bin\n2023/11/15 07:36:32 INFO mlflow.utils.file_utils: Successfully downloaded chunk 5 for model/pytorch_model-00012-of-00014.bin\n2023/11/15 07:36:32 INFO mlflow.utils.file_utils: Retrying download of chunk 7 for model/pytorch_model-00012-of-00014.bin\n2023/11/15 07:36:33 INFO mlflow.utils.file_utils: Successfully downloaded chunk 4 for model/pytorch_model-00005-of-00014.bin\n2023/11/15 07:36:33 INFO mlflow.utils.file_utils: Retrying download of chunk 6 for model/pytorch_model-00005-of-00014.bin\n2023/11/15 07:36:33 INFO mlflow.utils.file_utils: Successfully downloaded chunk 8 for model/pytorch_model-00011-of-00014.bin\n2023/11/15 07:36:33 INFO mlflow.utils.file_utils: Retrying download of chunk 9 for model/pytorch_model-00011-of-00014.bin\n2023/11/15 07:36:34 INFO mlflow.utils.file_utils: Successfully downloaded chunk 4 for model/pytorch_model-00014-of-00014.bin\n2023/11/15 07:36:34 INFO mlflow.utils.file_utils: Retrying download of chunk 5 for model/pytorch_model-00014-of-00014.bin\n2023/11/15 07:36:35 INFO mlflow.utils.file_utils: Successfully downloaded chunk 3 for model/pytorch_model-00004-of-00014.bin\n2023/11/15 07:36:35 INFO mlflow.utils.file_utils: Retrying download of chunk 7 for model/pytorch_model-00004-of-00014.bin\n2023/11/15 07:36:35 INFO mlflow.utils.file_utils: Successfully downloaded chunk 5 for model/pytorch_model-00009-of-00014.bin\n2023/11/15 07:36:35 INFO mlflow.utils.file_utils: Retrying download of chunk 6 for model/pytorch_model-00009-of-00014.bin\n2023/11/15 07:36:35 INFO mlflow.utils.file_utils: Successfully downloaded chunk 4 for model/pytorch_model-00007-of-00014.bin\n2023/11/15 07:36:35 INFO mlflow.utils.file_utils: Retrying download of chunk 3 for model/pytorch_model-00007-of-00014.bin\n2023/11/15 07:36:36 INFO mlflow.utils.file_utils: Successfully downloaded chunk 3 for model/pytorch_model-00008-of-00014.bin\n2023/11/15 07:36:36 INFO mlflow.utils.file_utils: Retrying download of chunk 9 for model/pytorch_model-00008-of-00014.bin\n2023/11/15 07:36:37 INFO mlflow.utils.file_utils: Successfully downloaded chunk 5 for model/pytorch_model-00002-of-00014.bin\n2023/11/15 07:36:37 INFO mlflow.utils.file_utils: Retrying download of chunk 1 for model/pytorch_model-00002-of-00014.bin\n2023/11/15 07:36:37 INFO mlflow.utils.file_utils: Successfully downloaded chunk 3 for model/pytorch_model-00006-of-00014.bin\n2023/11/15 07:36:37 INFO mlflow.utils.file_utils: Retrying download of chunk 7 for model/pytorch_model-00006-of-00014.bin\n2023/11/15 07:36:37 INFO mlflow.utils.file_utils: Successfully downloaded chunk 8 for model/pytorch_model-00001-of-00014.bin\n2023/11/15 07:36:37 INFO mlflow.utils.file_utils: Retrying download of chunk 9 for model/pytorch_model-00001-of-00014.bin\n2023/11/15 07:36:38 INFO mlflow.utils.file_utils: Successfully downloaded chunk 7 for model/pytorch_model-00012-of-00014.bin\n2023/11/15 07:36:38 INFO mlflow.utils.file_utils: Retrying download of chunk 3 for model/pytorch_model-00012-of-00014.bin\n2023/11/15 07:36:38 INFO mlflow.utils.file_utils: Successfully downloaded chunk 9 for model/pytorch_model-00011-of-00014.bin\n2023/11/15 07:36:38 INFO mlflow.utils.file_utils: Retrying download of chunk 3 for model/pytorch_model-00011-of-00014.bin\n2023/11/15 07:36:38 INFO mlflow.utils.file_utils: Successfully downloaded chunk 5 for model/pytorch_model-00010-of-00014.bin\n2023/11/15 07:36:38 INFO mlflow.utils.file_utils: Retrying download of chunk 6 for model/pytorch_model-00010-of-00014.bin\n2023/11/15 07:36:38 INFO mlflow.utils.file_utils: Successfully downloaded chunk 6 for model/pytorch_model-00005-of-00014.bin\n2023/11/15 07:36:38 INFO mlflow.utils.file_utils: Retrying download of chunk 8 for model/pytorch_model-00005-of-00014.bin\n2023/11/15 07:36:39 INFO mlflow.utils.file_utils: Successfully downloaded chunk 1 for model/pytorch_model-00013-of-00014.bin\n2023/11/15 07:36:39 INFO mlflow.utils.file_utils: Retrying download of chunk 6 for model/pytorch_model-00013-of-00014.bin\n2023/11/15 07:36:39 INFO mlflow.utils.file_utils: Successfully downloaded chunk 5 for model/pytorch_model-00014-of-00014.bin\n2023/11/15 07:36:39 INFO mlflow.utils.file_utils: Retrying download of chunk 6 for model/pytorch_model-00014-of-00014.bin\n2023/11/15 07:36:40 INFO mlflow.utils.file_utils: Successfully downloaded chunk 9 for model/pytorch_model-00008-of-00014.bin\n2023/11/15 07:36:40 INFO mlflow.utils.file_utils: Retrying download of chunk 6 for model/pytorch_model-00008-of-00014.bin\n2023/11/15 07:36:40 INFO mlflow.utils.file_utils: Successfully downloaded chunk 3 for model/pytorch_model-00007-of-00014.bin\n2023/11/15 07:36:41 INFO mlflow.utils.file_utils: Retrying download of chunk 6 for model/pytorch_model-00007-of-00014.bin\n2023/11/15 07:36:41 INFO mlflow.utils.file_utils: Successfully downloaded chunk 7 for model/pytorch_model-00004-of-00014.bin\n2023/11/15 07:36:41 INFO mlflow.utils.file_utils: Successfully downloaded chunk 6 for model/pytorch_model-00009-of-00014.bin\n2023/11/15 07:36:41 INFO mlflow.utils.file_utils: Retrying download of chunk 8 for model/pytorch_model-00004-of-00014.bin\n2023/11/15 07:36:41 INFO mlflow.utils.file_utils: Retrying download of chunk 9 for model/pytorch_model-00009-of-00014.bin\n2023/11/15 07:36:42 INFO mlflow.utils.file_utils: Successfully downloaded chunk 0 for model/pytorch_model-00003-of-00014.bin\n2023/11/15 07:36:42 INFO mlflow.utils.file_utils: Retrying download of chunk 8 for model/pytorch_model-00003-of-00014.bin\n2023/11/15 07:36:43 INFO mlflow.utils.file_utils: Successfully downloaded chunk 9 for model/pytorch_model-00001-of-00014.bin\n2023/11/15 07:36:43 INFO mlflow.utils.file_utils: Retrying download of chunk 6 for model/pytorch_model-00001-of-00014.bin\n2023/11/15 07:36:43 INFO mlflow.utils.file_utils: Successfully downloaded chunk 7 for model/pytorch_model-00006-of-00014.bin\n2023/11/15 07:36:43 INFO mlflow.utils.file_utils: Retrying download of chunk 2 for model/pytorch_model-00006-of-00014.bin\n2023/11/15 07:36:43 INFO mlflow.utils.file_utils: Successfully downloaded chunk 1 for model/pytorch_model-00002-of-00014.bin\n2023/11/15 07:36:43 INFO mlflow.utils.file_utils: Retrying download of chunk 0 for model/pytorch_model-00002-of-00014.bin\n2023/11/15 07:36:43 INFO mlflow.utils.file_utils: Successfully downloaded chunk 3 for model/pytorch_model-00012-of-00014.bin\n2023/11/15 07:36:43 INFO mlflow.utils.file_utils: Retrying download of chunk 6 for model/pytorch_model-00012-of-00014.bin\n2023/11/15 07:36:44 INFO mlflow.utils.file_utils: Successfully downloaded chunk 3 for model/pytorch_model-00011-of-00014.bin\n2023/11/15 07:36:44 INFO mlflow.utils.file_utils: Retrying download of chunk 7 for model/pytorch_model-00011-of-00014.bin\n2023/11/15 07:36:45 INFO mlflow.utils.file_utils: Successfully downloaded chunk 6 for model/pytorch_model-00010-of-00014.bin\n2023/11/15 07:36:45 INFO mlflow.utils.file_utils: Retrying download of chunk 7 for model/pytorch_model-00010-of-00014.bin\n2023/11/15 07:36:45 INFO mlflow.utils.file_utils: Successfully downloaded chunk 6 for model/pytorch_model-00008-of-00014.bin\n2023/11/15 07:36:45 INFO mlflow.utils.file_utils: Successfully downloaded chunk 6 for model/pytorch_model-00014-of-00014.bin\n2023/11/15 07:36:45 INFO mlflow.utils.file_utils: Retrying download of chunk 8 for model/pytorch_model-00014-of-00014.bin\n2023/11/15 07:36:45 INFO mlflow.utils.file_utils: Successfully downloaded chunk 8 for model/pytorch_model-00005-of-00014.bin\n2023/11/15 07:36:45 INFO mlflow.utils.file_utils: Retrying download of chunk 7 for model/pytorch_model-00005-of-00014.bin\n2023/11/15 07:36:45 INFO mlflow.utils.file_utils: Successfully downloaded chunk 6 for model/pytorch_model-00013-of-00014.bin\n2023/11/15 07:36:45 INFO mlflow.utils.file_utils: Retrying download of chunk 0 for model/pytorch_model-00013-of-00014.bin\n2023/11/15 07:36:46 INFO mlflow.utils.file_utils: Successfully downloaded chunk 9 for model/pytorch_model-00009-of-00014.bin\n2023/11/15 07:36:46 INFO mlflow.utils.file_utils: Retrying download of chunk 8 for model/pytorch_model-00009-of-00014.bin\n2023/11/15 07:36:46 INFO mlflow.utils.file_utils: Successfully downloaded chunk 6 for model/pytorch_model-00007-of-00014.bin\n2023/11/15 07:36:46 INFO mlflow.utils.file_utils: Retrying download of chunk 5 for model/pytorch_model-00007-of-00014.bin\n2023/11/15 07:36:46 INFO mlflow.utils.file_utils: Successfully downloaded chunk 8 for model/pytorch_model-00004-of-00014.bin\n2023/11/15 07:36:46 INFO mlflow.utils.file_utils: Retrying download of chunk 6 for model/pytorch_model-00004-of-00014.bin\n2023/11/15 07:36:48 INFO mlflow.utils.file_utils: Successfully downloaded chunk 8 for model/pytorch_model-00014-of-00014.bin\n2023/11/15 07:36:48 INFO mlflow.utils.file_utils: Successfully downloaded chunk 8 for model/pytorch_model-00003-of-00014.bin\n2023/11/15 07:36:48 INFO mlflow.utils.file_utils: Retrying download of chunk 9 for model/pytorch_model-00003-of-00014.bin\n2023/11/15 07:36:49 INFO mlflow.utils.file_utils: Successfully downloaded chunk 6 for model/pytorch_model-00012-of-00014.bin\n2023/11/15 07:36:49 INFO mlflow.utils.file_utils: Retrying download of chunk 9 for model/pytorch_model-00012-of-00014.bin\n2023/11/15 07:36:49 INFO mlflow.utils.file_utils: Successfully downloaded chunk 0 for model/pytorch_model-00002-of-00014.bin\n2023/11/15 07:36:49 INFO mlflow.utils.file_utils: Retrying download of chunk 7 for model/pytorch_model-00002-of-00014.bin\n2023/11/15 07:36:49 INFO mlflow.utils.file_utils: Successfully downloaded chunk 2 for model/pytorch_model-00006-of-00014.bin\n2023/11/15 07:36:49 INFO mlflow.utils.file_utils: Retrying download of chunk 9 for model/pytorch_model-00006-of-00014.bin\n2023/11/15 07:36:49 INFO mlflow.utils.file_utils: Successfully downloaded chunk 7 for model/pytorch_model-00011-of-00014.bin\n2023/11/15 07:36:50 INFO mlflow.utils.file_utils: Successfully downloaded chunk 7 for model/pytorch_model-00005-of-00014.bin\n2023/11/15 07:36:50 INFO mlflow.utils.file_utils: Retrying download of chunk 9 for model/pytorch_model-00005-of-00014.bin\n2023/11/15 07:36:50 INFO mlflow.utils.file_utils: Successfully downloaded chunk 0 for model/pytorch_model-00013-of-00014.bin\n2023/11/15 07:36:50 INFO mlflow.utils.file_utils: Retrying download of chunk 3 for model/pytorch_model-00013-of-00014.bin\n2023/11/15 07:36:51 INFO mlflow.utils.file_utils: Successfully downloaded chunk 8 for model/pytorch_model-00009-of-00014.bin\n2023/11/15 07:36:51 INFO mlflow.utils.file_utils: Successfully downloaded chunk 6 for model/pytorch_model-00004-of-00014.bin\n2023/11/15 07:36:51 INFO mlflow.utils.file_utils: Retrying download of chunk 9 for model/pytorch_model-00004-of-00014.bin\n2023/11/15 07:36:51 INFO mlflow.utils.file_utils: Successfully downloaded chunk 5 for model/pytorch_model-00007-of-00014.bin\n2023/11/15 07:36:51 INFO mlflow.utils.file_utils: Retrying download of chunk 7 for model/pytorch_model-00007-of-00014.bin\n2023/11/15 07:36:51 INFO mlflow.utils.file_utils: Successfully downloaded chunk 9 for model/pytorch_model-00003-of-00014.bin\n2023/11/15 07:36:51 INFO mlflow.utils.file_utils: Retrying download of chunk 7 for model/pytorch_model-00003-of-00014.bin\n2023/11/15 07:36:51 INFO mlflow.utils.file_utils: Successfully downloaded chunk 9 for model/pytorch_model-00012-of-00014.bin\n2023/11/15 07:36:52 INFO mlflow.utils.file_utils: Successfully downloaded chunk 7 for model/pytorch_model-00010-of-00014.bin\n2023/11/15 07:36:52 INFO mlflow.utils.file_utils: Retrying download of chunk 9 for model/pytorch_model-00010-of-00014.bin\n2023/11/15 07:36:52 INFO mlflow.utils.file_utils: Successfully downloaded chunk 9 for model/pytorch_model-00006-of-00014.bin\n2023/11/15 07:36:52 INFO mlflow.utils.file_utils: Successfully downloaded chunk 9 for model/pytorch_model-00005-of-00014.bin\n2023/11/15 07:36:52 INFO mlflow.utils.file_utils: Successfully downloaded chunk 3 for model/pytorch_model-00013-of-00014.bin\n2023/11/15 07:36:53 INFO mlflow.utils.file_utils: Successfully downloaded chunk 7 for model/pytorch_model-00007-of-00014.bin\n2023/11/15 07:36:53 INFO mlflow.utils.file_utils: Retrying download of chunk 9 for model/pytorch_model-00007-of-00014.bin\n2023/11/15 07:36:53 INFO mlflow.utils.file_utils: Successfully downloaded chunk 9 for model/pytorch_model-00004-of-00014.bin\n2023/11/15 07:36:53 INFO mlflow.utils.file_utils: Successfully downloaded chunk 7 for model/pytorch_model-00003-of-00014.bin\n2023/11/15 07:36:53 INFO mlflow.utils.file_utils: Retrying download of chunk 5 for model/pytorch_model-00003-of-00014.bin\n2023/11/15 07:36:54 INFO mlflow.utils.file_utils: Successfully downloaded chunk 9 for model/pytorch_model-00007-of-00014.bin\n2023/11/15 07:36:54 INFO mlflow.utils.file_utils: Retrying download of chunk 8 for model/pytorch_model-00007-of-00014.bin\n2023/11/15 07:36:54 INFO mlflow.utils.file_utils: Successfully downloaded chunk 6 for model/pytorch_model-00001-of-00014.bin\n2023/11/15 07:36:54 INFO mlflow.utils.file_utils: Successfully downloaded chunk 9 for model/pytorch_model-00010-of-00014.bin\n2023/11/15 07:36:55 INFO mlflow.utils.file_utils: Successfully downloaded chunk 8 for model/pytorch_model-00007-of-00014.bin\n2023/11/15 07:36:56 INFO mlflow.utils.file_utils: Successfully downloaded chunk 7 for model/pytorch_model-00002-of-00014.bin\n2023/11/15 07:36:56 INFO mlflow.utils.file_utils: Retrying download of chunk 6 for model/pytorch_model-00002-of-00014.bin\n2023/11/15 07:36:57 INFO mlflow.utils.file_utils: Successfully downloaded chunk 5 for model/pytorch_model-00003-of-00014.bin\n2023/11/15 07:36:57 INFO mlflow.utils.file_utils: Successfully downloaded chunk 6 for model/pytorch_model-00002-of-00014.bin\n2023/11/15 07:36:57 INFO mlflow.utils.file_utils: Retrying download of chunk 8 for model/pytorch_model-00002-of-00014.bin\n2023/11/15 07:36:59 INFO mlflow.utils.file_utils: Successfully downloaded chunk 8 for model/pytorch_model-00002-of-00014.bin\n2023/11/15 07:36:59 INFO mlflow.utils.file_utils: Retrying download of chunk 9 for model/pytorch_model-00002-of-00014.bin\n2023/11/15 07:37:00 INFO mlflow.utils.file_utils: Successfully downloaded chunk 9 for model/pytorch_model-00002-of-00014.bin\n2023/11/15 07:37:00 WARNING mlflow.pyfunc: Calling `spark_udf()` with `env_manager=\"local\"` does not recreate the same environment that was used during training, which may lead to errors or inaccurate predictions. We recommend specifying `env_manager=\"conda\"`, which automatically recreates the environment that was used to train the model and performs inference in the recreated environment.\n"
     ]
    },
    {
     "output_type": "display_data",
     "data": {
      "application/vnd.jupyter.widget-view+json": {
       "model_id": "d9e2dfddbedf4a26b4606d3cb80a3f66",
       "version_major": 2,
       "version_minor": 0
      },
      "text/plain": [
       "Downloading artifacts:   0%|          | 0/1 [00:00<?, ?it/s]"
      ]
     },
     "metadata": {},
     "output_type": "display_data"
    },
    {
     "output_type": "stream",
     "name": "stderr",
     "output_type": "stream",
     "text": [
      "2023/11/15 07:37:00 INFO mlflow.models.flavor_backend_registry: Selected backend for flavor 'python_function'\n"
     ]
    }
   ],
   "source": [
    "import mlflow\n",
    "\n",
    "mlflow.set_registry_uri(\"databricks-uc\")\n",
    "\n",
    "catalog_name = \"databricks_llama_2_models\" # Default catalog name when installing the model from Databricks Marketplace\n",
    "version = 1\n",
    "\n",
    "# Create a Spark UDF to generate the response to a prompt\n",
    "generate = mlflow.pyfunc.spark_udf(\n",
    "    spark, f\"models:/{catalog_name}.models.llama_2_7b_chat_hf/{version}\", \"string\"\n",
    ")"
   ]
  },
  {
   "cell_type": "code",
   "execution_count": 0,
   "metadata": {
    "application/vnd.databricks.v1+cell": {
     "cellMetadata": {
      "byteLimit": 2048000,
      "rowLimit": 10000
     },
     "inputWidgets": {},
     "nuid": "28e823e3-df6e-40e6-8856-401dbfd0251b",
     "showTitle": false,
     "title": ""
    }
   },
   "outputs": [],
   "source": [
    "import pandas as pd\n",
    "\n",
    "# To have more than 1 input sequences in the same batch for inference, more GPU memory would be needed; swap to more powerful GPUs (e.g. Standard_NC24ads_A100_v4 on Azure), or use Databricks Model Serving\n",
    "\n",
    "df = spark.createDataFrame(\n",
    "    pd.DataFrame(\n",
    "        {\n",
    "            \"text\": [\n",
    "                \"What is a large language model?\",\n",
    "                # \"Write a short announcement of Llama 2 models in Databricks Marketplace.\",\n",
    "            ]\n",
    "        }\n",
    "    )\n",
    ")\n",
    "display(df)\n",
    "\n",
    "generated_df = df.select(generate(df.text).alias(\"generated_text\"))\n",
    "display(generated_df)"
   ]
  },
  {
   "cell_type": "code",
   "execution_count": 0,
   "metadata": {
    "application/vnd.databricks.v1+cell": {
     "cellMetadata": {},
     "inputWidgets": {},
     "nuid": "247b30d3-66d6-4ec8-8ec3-34a72d804114",
     "showTitle": false,
     "title": ""
    }
   },
   "outputs": [],
   "source": []
  }
 ],
 "metadata": {
  "application/vnd.databricks.v1+notebook": {
   "dashboards": [],
   "language": "python",
   "notebookMetadata": {
    "pythonIndentUnit": 4
   },
   "notebookName": "Untitled Notebook 2023-11-13 16:22:16",
   "widgets": {}
  }
 },
 "nbformat": 4,
 "nbformat_minor": 0
}
